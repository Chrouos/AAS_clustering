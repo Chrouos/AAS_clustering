{
 "cells": [
  {
   "cell_type": "code",
   "execution_count": 12,
   "metadata": {},
   "outputs": [],
   "source": [
    "import glob\n",
    "import json\n",
    "import pandas as pd\n",
    "import os\n",
    "from sklearn.feature_extraction.text import TfidfVectorizer\n",
    "from sklearn.cluster import KMeans\n",
    "from sklearn.decomposition import PCA\n",
    "import matplotlib.pyplot as plt\n",
    "import seaborn as sns\n",
    "\n",
    "import requests\n",
    "from bs4 import BeautifulSoup\n"
   ]
  },
  {
   "cell_type": "markdown",
   "metadata": {},
   "source": [
    "# Spider all GDPR"
   ]
  },
  {
   "cell_type": "markdown",
   "metadata": {},
   "source": [
    "## URL"
   ]
  },
  {
   "cell_type": "code",
   "execution_count": 13,
   "metadata": {},
   "outputs": [],
   "source": [
    "\n",
    "# def fetch_page_content(url):\n",
    "#     response = requests.get(url)\n",
    "#     return BeautifulSoup(response.content, 'html.parser')\n",
    "\n",
    "# def extract_links_from_table(soup, table_id):\n",
    "#     table = soup.find('table', {'id': table_id})\n",
    "#     if table:\n",
    "#         return table.find_all('a')\n",
    "#     return []\n",
    "\n",
    "# def extract_links_from_div(soup, div_class):\n",
    "#     div = soup.find('div', {'class': div_class})\n",
    "#     if div:\n",
    "#         return div.find_all('a')\n",
    "#     return []\n",
    "\n",
    "# def extract_text_from_spans(soup, span_class):\n",
    "#     spans = soup.find_all('span', {'class': span_class})\n",
    "#     return [span.text for span in spans][0]\n",
    "\n",
    "# def extract_list_items_from_ol(soup, div_class):\n",
    "#     div = soup.find('div', {'class': div_class})\n",
    "#     if div:\n",
    "#         ols = div.find_all('ol')\n",
    "#         return [li.text for ol in ols for li in ol.find_all('li')]\n",
    "#     return []\n",
    "\n",
    "# def extract_text_from_paragraphs(soup, div_class):\n",
    "#     div = soup.find('div', {'class': div_class})\n",
    "#     if div:\n",
    "#         paragraphs = div.find_all('p')\n",
    "#         return [p.text for p in paragraphs]\n",
    "#     return []\n",
    "\n",
    "# def prepare_data(links, recitals_links):\n",
    "#     data = []\n",
    "#     for link in links + recitals_links:\n",
    "#         text = link.text.strip()\n",
    "#         href = link['href']\n",
    "#         if \"chapter\" not in text.lower() and 'recitals' not in text.lower():\n",
    "#             current_temp = {'Text': text, 'Link': href}\n",
    "#             if 'art' in href:\n",
    "#                 current_temp['Type'] = 'Article'\n",
    "#             elif 'recitals' in href:\n",
    "#                 current_temp['Type'] = 'Recital'\n",
    "#             data.append(current_temp)\n",
    "#     return data\n",
    "\n",
    "# def save_to_csv(data, filename):\n",
    "#     df = pd.DataFrame(data)\n",
    "#     df.to_csv(filename, index=False)\n",
    "#     return df\n",
    "\n",
    "# gdpr_url = \"https://gdpr-info.eu/\"\n",
    "# recitals_url = \"https://gdpr-info.eu/recitals/\"\n",
    "\n",
    "# gdpr_soup = fetch_page_content(gdpr_url)\n",
    "# recitals_soup = fetch_page_content(recitals_url)\n",
    "\n",
    "# gdpr_links = extract_links_from_table(gdpr_soup, 'tablepress-12')\n",
    "# recitals_links = extract_links_from_div(recitals_soup, 'widget-area recital-widget-area')\n",
    "\n",
    "# print(\"gdpr count:\", len(gdpr_links))\n",
    "# print(\"recitals count:\", len(recitals_links))\n",
    "\n",
    "# data = prepare_data(gdpr_links, recitals_links)\n",
    "# link_df = pd.DataFrame(data)\n",
    "\n",
    "# print(\"GDPR Articles and Recitals Links saved to GDPR_Articles_Recitals_Links.xlsx\")\n",
    "# print(f\"應有 99(GDPR) + 173(Recitals) = {99+173}, 實際有：{len(link_df)}\")\n",
    "\n",
    "# link_df.head()"
   ]
  },
  {
   "cell_type": "markdown",
   "metadata": {},
   "source": [
    "## Article"
   ]
  },
  {
   "cell_type": "code",
   "execution_count": 14,
   "metadata": {},
   "outputs": [],
   "source": [
    "# articles_and_recitals_list = []\n",
    "# for index, row in link_df.iterrows():\n",
    "#     current_url = row['Link']\n",
    "#     current_gdpr_article_content = fetch_page_content(current_url)\n",
    "#     title = extract_text_from_spans(current_gdpr_article_content, span_class='dsgvo-title')\n",
    "#     content_item_list = extract_list_items_from_ol(current_gdpr_article_content, div_class='entry-content')\n",
    "#     content_paragraphs = extract_text_from_paragraphs(current_gdpr_article_content, div_class='entry-content')\n",
    "    \n",
    "#     articles_and_recitals_list.append({\n",
    "#         'Text': row['Text'],\n",
    "#         'Link': row['Link'],\n",
    "#         'Type': row['Type'],\n",
    "#         'Title': title,\n",
    "#         'Content_Items': content_item_list if content_item_list else content_paragraphs\n",
    "#     })\n",
    "\n",
    "# articles_df = pd.DataFrame(articles_and_recitals_list)"
   ]
  },
  {
   "cell_type": "code",
   "execution_count": 15,
   "metadata": {},
   "outputs": [],
   "source": [
    "# with pd.ExcelWriter(\"GDPR_Articles_Recitals_Links.xlsx\", engine='xlsxwriter') as writer:\n",
    "#     articles_df.to_excel(writer, index=False, sheet_name='Article & Recitals')"
   ]
  },
  {
   "cell_type": "markdown",
   "metadata": {},
   "source": [
    "# Data Preprocessing"
   ]
  },
  {
   "cell_type": "code",
   "execution_count": 26,
   "metadata": {},
   "outputs": [
    {
     "name": "stdout",
     "output_type": "stream",
     "text": [
      "所有數量: 1776\n",
      "clean_article numbers: 436\n"
     ]
    },
    {
     "data": {
      "text/html": [
       "<div>\n",
       "<style scoped>\n",
       "    .dataframe tbody tr th:only-of-type {\n",
       "        vertical-align: middle;\n",
       "    }\n",
       "\n",
       "    .dataframe tbody tr th {\n",
       "        vertical-align: top;\n",
       "    }\n",
       "\n",
       "    .dataframe thead th {\n",
       "        text-align: right;\n",
       "    }\n",
       "</style>\n",
       "<table border=\"1\" class=\"dataframe\">\n",
       "  <thead>\n",
       "    <tr style=\"text-align: right;\">\n",
       "      <th></th>\n",
       "      <th>section</th>\n",
       "      <th>article numbers</th>\n",
       "      <th>legal provisions</th>\n",
       "      <th>compliance_status</th>\n",
       "      <th>amend</th>\n",
       "      <th>folder</th>\n",
       "      <th>article_numbers</th>\n",
       "      <th>legal_provisions</th>\n",
       "      <th>article provisions</th>\n",
       "      <th>clean_article numbers</th>\n",
       "    </tr>\n",
       "  </thead>\n",
       "  <tbody>\n",
       "    <tr>\n",
       "      <th>0</th>\n",
       "      <td>台灣大車隊非常重視您的隱私權。請您閱讀以下有關隱私權保護政策的更多內容。</td>\n",
       "      <td>13</td>\n",
       "      <td>Information provided to data subjects must be ...</td>\n",
       "      <td>compliant</td>\n",
       "      <td>NaN</td>\n",
       "      <td>taiwantaxi_chunks</td>\n",
       "      <td>NaN</td>\n",
       "      <td>NaN</td>\n",
       "      <td>NaN</td>\n",
       "      <td>13</td>\n",
       "    </tr>\n",
       "    <tr>\n",
       "      <th>1</th>\n",
       "      <td>台灣大車隊非常重視您的隱私權。請您閱讀以下有關隱私權保護政策的更多內容。</td>\n",
       "      <td>14</td>\n",
       "      <td>Information provided to data subjects must be ...</td>\n",
       "      <td>compliant</td>\n",
       "      <td>NaN</td>\n",
       "      <td>taiwantaxi_chunks</td>\n",
       "      <td>NaN</td>\n",
       "      <td>NaN</td>\n",
       "      <td>NaN</td>\n",
       "      <td>14</td>\n",
       "    </tr>\n",
       "    <tr>\n",
       "      <th>2</th>\n",
       "      <td>本政策涵蓋的內容包括：台灣大車隊如何處理蒐集或收到的個人資料 (包括與您過去使用 台灣大車隊...</td>\n",
       "      <td>12</td>\n",
       "      <td>Data controllers must provide information abou...</td>\n",
       "      <td>compliant</td>\n",
       "      <td>NaN</td>\n",
       "      <td>taiwantaxi_chunks</td>\n",
       "      <td>NaN</td>\n",
       "      <td>NaN</td>\n",
       "      <td>NaN</td>\n",
       "      <td>12</td>\n",
       "    </tr>\n",
       "    <tr>\n",
       "      <th>3</th>\n",
       "      <td>本政策涵蓋的內容包括：台灣大車隊如何處理蒐集或收到的個人資料 (包括與您過去使用 台灣大車隊...</td>\n",
       "      <td>13</td>\n",
       "      <td>Data controllers must provide information abou...</td>\n",
       "      <td>compliant</td>\n",
       "      <td>NaN</td>\n",
       "      <td>taiwantaxi_chunks</td>\n",
       "      <td>NaN</td>\n",
       "      <td>NaN</td>\n",
       "      <td>NaN</td>\n",
       "      <td>13</td>\n",
       "    </tr>\n",
       "    <tr>\n",
       "      <th>4</th>\n",
       "      <td>本政策涵蓋的內容包括：台灣大車隊如何處理蒐集或收到的個人資料 (包括與您過去使用 台灣大車隊...</td>\n",
       "      <td>14</td>\n",
       "      <td>Data controllers must provide information abou...</td>\n",
       "      <td>compliant</td>\n",
       "      <td>NaN</td>\n",
       "      <td>taiwantaxi_chunks</td>\n",
       "      <td>NaN</td>\n",
       "      <td>NaN</td>\n",
       "      <td>NaN</td>\n",
       "      <td>14</td>\n",
       "    </tr>\n",
       "  </tbody>\n",
       "</table>\n",
       "</div>"
      ],
      "text/plain": [
       "                                             section article numbers  \\\n",
       "0               台灣大車隊非常重視您的隱私權。請您閱讀以下有關隱私權保護政策的更多內容。              13   \n",
       "1               台灣大車隊非常重視您的隱私權。請您閱讀以下有關隱私權保護政策的更多內容。              14   \n",
       "2  本政策涵蓋的內容包括：台灣大車隊如何處理蒐集或收到的個人資料 (包括與您過去使用 台灣大車隊...              12   \n",
       "3  本政策涵蓋的內容包括：台灣大車隊如何處理蒐集或收到的個人資料 (包括與您過去使用 台灣大車隊...              13   \n",
       "4  本政策涵蓋的內容包括：台灣大車隊如何處理蒐集或收到的個人資料 (包括與您過去使用 台灣大車隊...              14   \n",
       "\n",
       "                                    legal provisions compliance_status amend  \\\n",
       "0  Information provided to data subjects must be ...         compliant   NaN   \n",
       "1  Information provided to data subjects must be ...         compliant   NaN   \n",
       "2  Data controllers must provide information abou...         compliant   NaN   \n",
       "3  Data controllers must provide information abou...         compliant   NaN   \n",
       "4  Data controllers must provide information abou...         compliant   NaN   \n",
       "\n",
       "              folder article_numbers legal_provisions article provisions  \\\n",
       "0  taiwantaxi_chunks             NaN              NaN                NaN   \n",
       "1  taiwantaxi_chunks             NaN              NaN                NaN   \n",
       "2  taiwantaxi_chunks             NaN              NaN                NaN   \n",
       "3  taiwantaxi_chunks             NaN              NaN                NaN   \n",
       "4  taiwantaxi_chunks             NaN              NaN                NaN   \n",
       "\n",
       "  clean_article numbers  \n",
       "0                    13  \n",
       "1                    14  \n",
       "2                    12  \n",
       "3                    13  \n",
       "4                    14  "
      ]
     },
     "execution_count": 26,
     "metadata": {},
     "output_type": "execute_result"
    }
   ],
   "source": [
    "# 找到所有以 'report' 開頭的 .json 文件\n",
    "source_data_folder_name = 'batch0716'\n",
    "files = glob.glob(f'{source_data_folder_name}/*/report_*.json')\n",
    "\n",
    "# 定義一個函數來讀取和處理單個 JSON 文件\n",
    "def process_file(file_path):\n",
    "    with open(file_path, 'r', encoding='utf-8') as file:\n",
    "        data = json.load(file)\n",
    "    \n",
    "    compliant = data.get('compliant', [])\n",
    "    non_compliant = data.get('non_compliant', [])\n",
    "    \n",
    "    compliant_df = pd.DataFrame(compliant)\n",
    "    non_compliant_df = pd.DataFrame(non_compliant)\n",
    "    \n",
    "    if 'article numbers' not in compliant_df.columns:\n",
    "        compliant_df['article numbers'] = ''\n",
    "    if 'article numbers' not in non_compliant_df.columns:\n",
    "        non_compliant_df['article numbers'] = ''\n",
    "    \n",
    "    compliant_split_df = split_articles(compliant_df)\n",
    "    non_compliant_split_df = split_articles(non_compliant_df)\n",
    "    \n",
    "    compliant_split_df['compliance_status'] = 'compliant'\n",
    "    non_compliant_split_df['compliance_status'] = 'non-compliant'\n",
    "    \n",
    "    combined_df = pd.concat([compliant_split_df, non_compliant_split_df], ignore_index=True)\n",
    "    \n",
    "    # 增加一個欄位標示資料夾名稱\n",
    "    folder_name = os.path.basename(os.path.dirname(file_path))\n",
    "    combined_df['folder'] = folder_name\n",
    "    \n",
    "    return combined_df\n",
    "\n",
    "# 定義一個函數來拆分條文\n",
    "def split_articles(df):\n",
    "    rows = []\n",
    "    for _, row in df.iterrows():\n",
    "        # 確保 'article numbers' 為字符串，並處理缺失值\n",
    "        article_numbers = str(row['article numbers']) if pd.notnull(row['article numbers']) else ''\n",
    "        articles = article_numbers.split(', ')\n",
    "        for article in articles:\n",
    "            new_row = row.copy()\n",
    "            new_row['article numbers'] = article\n",
    "            rows.append(new_row)\n",
    "    return pd.DataFrame(rows)\n",
    "\n",
    "# 處理所有文件並合併結果\n",
    "all_data = pd.DataFrame()\n",
    "for file in files:\n",
    "    combined_df = process_file(file)\n",
    "    all_data = pd.concat([all_data, combined_df], ignore_index=True)\n",
    "\n",
    "# 保留原始的 article numbers 並移除贅詞的版本\n",
    "all_data['clean_article numbers'] = (\n",
    "    all_data['article numbers']\n",
    "    .str.replace(r'\\b(Article|Articles|Art|GDPR|recital|Recital|Rec)\\b', '', regex=True)  # 移除指定的贅詞\n",
    "    .str.replace(r'(?<!\\d)\\.(?!\\d)', '', regex=True)  # 移除不在數字之間的點\n",
    "    .str.strip()\n",
    ")\n",
    "\n",
    "# 將合併後的 DataFrame 存成 Excel 文件\n",
    "excel_file_path = f'./{source_data_folder_name}_cleaned_compliance_data_with_original.xlsx'\n",
    "all_data.to_excel(excel_file_path, index=False)\n",
    "\n",
    "# 打印數量並顯示頭部數據\n",
    "print(\"所有數量:\", len(all_data))\n",
    "print(\"clean_article numbers:\", len(all_data['article numbers'].unique()))\n",
    "all_data.head()"
   ]
  },
  {
   "cell_type": "markdown",
   "metadata": {},
   "source": [
    "# Clustering"
   ]
  },
  {
   "cell_type": "code",
   "execution_count": 17,
   "metadata": {},
   "outputs": [],
   "source": [
    "import pandas as pd\n",
    "from sklearn.feature_extraction.text import TfidfVectorizer\n",
    "from sklearn.decomposition import PCA\n",
    "from sklearn.cluster import KMeans\n",
    "from sklearn.metrics import silhouette_score, calinski_harabasz_score, davies_bouldin_score\n",
    "import numpy as np\n",
    "import plotly.express as px"
   ]
  },
  {
   "cell_type": "code",
   "execution_count": 18,
   "metadata": {},
   "outputs": [],
   "source": [
    "output_file_path = f'{source_data_folder_name}_cluster_compliance_data.xlsx' \n",
    "cluster_writer_excel = pd.ExcelWriter(output_file_path, engine='xlsxwriter')"
   ]
  },
  {
   "cell_type": "code",
   "execution_count": 19,
   "metadata": {},
   "outputs": [],
   "source": [
    "# 讀取上傳的 Excel 文件\n",
    "file_path = excel_file_path\n",
    "compliance_data_df = pd.read_excel(file_path)\n",
    "\n",
    "# 將各欄位分別進行 TF-IDF 向量化\n",
    "def vectorize_column(data, column_name):\n",
    "    vectorizer = TfidfVectorizer(stop_words='english')\n",
    "    vectors = vectorizer.fit_transform(data[column_name].astype(str).tolist())\n",
    "    return vectors\n",
    "\n",
    "vector_section = vectorize_column(compliance_data_df, 'section')\n",
    "vector_article_numbers = vectorize_column(compliance_data_df, 'clean_article numbers')\n",
    "vector_legal_provisions = vectorize_column(compliance_data_df, 'legal provisions')\n",
    "\n",
    "# 合併各欄位的向量表示\n",
    "from scipy.sparse import hstack\n",
    "X_combined = hstack([vector_section, vector_article_numbers, vector_legal_provisions])"
   ]
  },
  {
   "cell_type": "markdown",
   "metadata": {},
   "source": [
    "## K_means"
   ]
  },
  {
   "cell_type": "markdown",
   "metadata": {},
   "source": [
    "手肘法（Elbow Method）：  \n",
    "通過計算不同k值下的SSE（Sum of Squared Errors）來找到最佳k值，SSE會隨著k的增加而減小，當SSE減小幅度變緩時，即所謂的“手肘”點，即為最佳k值。\n",
    "\n",
    "輪廓係數（Silhouette Coefficient）：  \n",
    "輪廓係數能同時考慮簇內和簇間距離，其值在-1到1之間，越接近1說明聚類效果越好。可以計算不同k值下的平均輪廓係數來選擇最佳k值。\n",
    "\n",
    "Calinski-Harabasz Index：  \n",
    "該指標基於簇內和簇間距離計算，值越大越好。"
   ]
  },
  {
   "cell_type": "code",
   "execution_count": 20,
   "metadata": {},
   "outputs": [
    {
     "name": "stdout",
     "output_type": "stream",
     "text": [
      "手肘法最佳分群數量: 5\n",
      "最大輪廓係數最佳分群數量: 6\n",
      "最大Calinski-Harabasz Index最佳分群數量: 2\n",
      "最小Davies-Bouldin Index最佳分群數量: 3\n",
      "綜合考慮的最佳分群數量: 2\n"
     ]
    },
    {
     "data": {
      "application/vnd.plotly.v1+json": {
       "config": {
        "plotlyServerURL": "https://plot.ly"
       },
       "data": [
        {
         "customdata": [
          [
           "台灣大車隊非常重視您的隱私權。請您閱讀以下有關隱私權保護政策的更多內容。",
           "13",
           "Information provided to data subjects must be concise, transparent, intelligible, easily accessible, and using clear and plain language.",
           "compliant"
          ],
          [
           "台灣大車隊非常重視您的隱私權。請您閱讀以下有關隱私權保護政策的更多內容。",
           "14",
           "Information provided to data subjects must be concise, transparent, intelligible, easily accessible, and using clear and plain language.",
           "compliant"
          ],
          [
           "本政策涵蓋的內容包括：台灣大車隊如何處理蒐集或收到的個人資料 (包括與您過去使用 台灣大車隊產品及服務相關的資料）。個人資料是指得以識別您的身分且未公開的資料，如姓名、地址、電子郵件地址、電話號碼或信用卡號碼等。",
           "12",
           "Data controllers must provide information about the processing of personal data to the data subject. This information must be concise, transparent, intelligible, easily accessible, and using clear and plain language.",
           "compliant"
          ],
          [
           "本政策涵蓋的內容包括：台灣大車隊如何處理蒐集或收到的個人資料 (包括與您過去使用 台灣大車隊產品及服務相關的資料）。個人資料是指得以識別您的身分且未公開的資料，如姓名、地址、電子郵件地址、電話號碼或信用卡號碼等。",
           "13",
           "Data controllers must provide information about the processing of personal data to the data subject. This information must be concise, transparent, intelligible, easily accessible, and using clear and plain language.",
           "compliant"
          ],
          [
           "本政策涵蓋的內容包括：台灣大車隊如何處理蒐集或收到的個人資料 (包括與您過去使用 台灣大車隊產品及服務相關的資料）。個人資料是指得以識別您的身分且未公開的資料，如姓名、地址、電子郵件地址、電話號碼或信用卡號碼等。",
           "14",
           "Data controllers must provide information about the processing of personal data to the data subject. This information must be concise, transparent, intelligible, easily accessible, and using clear and plain language.",
           "compliant"
          ],
          [
           "本隱私權保護政策只適用於 台灣大車隊。\n本政策不適用於非 台灣大車隊所有或控制的公司，也不適用於非 台灣大車隊僱用或管理之人。",
           "13",
           "The controller shall provide information in a concise, transparent, intelligible and easily accessible form, using clear and plain language.",
           "compliant"
          ],
          [
           "本隱私權保護政策只適用於 台灣大車隊。\n本政策不適用於非 台灣大車隊所有或控制的公司，也不適用於非 台灣大車隊僱用或管理之人。",
           "14",
           "The controller shall provide information in a concise, transparent, intelligible and easily accessible form, using clear and plain language.",
           "compliant"
          ],
          [
           "在您註冊 台灣大車隊帳號、使用 台灣大車隊產品或服務、瀏覽 台灣大車隊網頁或某些合作夥伴的網頁，以及參加宣傳活動或贈獎遊戲時，台灣大車隊會蒐集您的個人資料。台灣大車隊也可能將商業夥伴或其他企業所提供的關於您的資訊與 台灣大車隊所擁有的您的個人資料相結合。",
           "6",
           "Lawfulness of processing - at least one legal basis for processing must be identified.",
           "non-compliant"
          ],
          [
           "當您在 台灣大車隊註冊時，我們會詢問您的姓名、電子郵件地址、出生日期、性別等資料。在您使用某些特定服務時，我們可能還會詢問您的住址、身分證號碼、信用卡號碼以及您財產的相關資料。在您註冊 台灣大車隊帳號並登入我們的服務後，我們就能辨別您的身分。",
           "5",
           "Principles relating to processing of personal data - data minimisation: data collected must be adequate, relevant and limited to what is necessary.",
           "non-compliant"
          ],
          [
           "台灣大車隊得於本公司營運期間及經營地區內，於與行銷、客戶管理、會員管理、個人資料之交易、統計調查分析等之合理相關連之特定目的內，蒐集、處理及利用包括但不限於會員之姓名、電話、地址、生日及消費情形等基本資料及使用會員之個人資料，提供會員各種優惠措施及行銷活動訊息",
           "6(1)(b)",
           "Processing is lawful if necessary for the purposes of the legitimate interests pursued by the controller or by a third party, except where such interests are overridden by the interests or fundamental rights and freedoms of the data subject which require protection of personal data, in particular where the data subject is a child.",
           "compliant"
          ],
          [
           "台灣大車隊得於本公司營運期間及經營地區內，於與行銷、客戶管理、會員管理、個人資料之交易、統計調查分析等之合理相關連之特定目的內，蒐集、處理及利用包括但不限於會員之姓名、電話、地址、生日及消費情形等基本資料及使用會員之個人資料，提供會員各種優惠措施及行銷活動訊息",
           "6(1)(f)",
           "Processing is lawful if necessary for the purposes of the legitimate interests pursued by the controller or by a third party, except where such interests are overridden by the interests or fundamental rights and freedoms of the data subject which require protection of personal data, in particular where the data subject is a child.",
           "compliant"
          ],
          [
           "但會員如表示不同意或要求停止對其進行行銷，台灣大車隊不得拒絕，且會員之權益不會受到影響。",
           "21(2)",
           "The data subject shall have the right to object, on grounds relating to his or her particular situation, at any time to processing of personal data concerning him or her which is based on point (e) or (f) of Article 6(1), including profiling based on those provisions. The controller shall no longer process the personal data unless the controller demonstrates compelling legitimate grounds for the processing which override the interests, rights and freedoms of the data subject or for the establishment, exercise or defence of legal claims.",
           "compliant"
          ],
          [
           "但會員如表示不同意或要求停止對其進行行銷，台灣大車隊不得拒絕，且會員之權益不會受到影響。",
           "7(3)",
           "The data subject shall have the right to object, on grounds relating to his or her particular situation, at any time to processing of personal data concerning him or her which is based on point (e) or (f) of Article 6(1), including profiling based on those provisions. The controller shall no longer process the personal data unless the controller demonstrates compelling legitimate grounds for the processing which override the interests, rights and freedoms of the data subject or for the establishment, exercise or defence of legal claims.",
           "compliant"
          ],
          [
           "您得自由選擇是否提供個人資料給我們，但若特定資料欄位係屬必填欄位者，您若不提供該等資料則無法使用相關的台灣大車隊產品及服務。",
           "7(4)",
           "Where processing is based on consent pursuant to point (a) of Article 6(1) or point (a) of Article 9(2), the controller shall be able to demonstrate that the data subject has consented to processing of his or her personal data.",
           "non-compliant"
          ],
          [
           "您得自由選擇是否提供個人資料給我們，但若特定資料欄位係屬必填欄位者，您若不提供該等資料則無法使用相關的台灣大車隊產品及服務。",
           "6(1)",
           "Where processing is based on consent pursuant to point (a) of Article 6(1) or point (a) of Article 9(2), the controller shall be able to demonstrate that the data subject has consented to processing of his or her personal data.",
           "non-compliant"
          ],
          [
           "會員應確保提供之個人資料均屬真實，如個人資料誤填或有變更時，會員應隨時向台灣大車隊更正或更新。如會員未及時更新，表示同意台灣大車隊繼續依原登錄資料提供各項服務，且不會與台灣大車隊對此產生爭議。",
           "5(1)(d)",
           "Personal data shall be: (d) accurate and, where necessary, kept up to date; every reasonable step must be taken to ensure that personal data that are inaccurate, having regard to the purposes for which they are processed, are erased or rectified without delay ('accuracy').",
           "non-compliant"
          ],
          [
           "會員應確保提供之個人資料均屬真實，如個人資料誤填或有變更時，會員應隨時向台灣大車隊更正或更新。如會員未及時更新，表示同意台灣大車隊繼續依原登錄資料提供各項服務，且不會與台灣大車隊對此產生爭議。",
           "16",
           "Personal data shall be: (d) accurate and, where necessary, kept up to date; every reasonable step must be taken to ensure that personal data that are inaccurate, having regard to the purposes for which they are processed, are erased or rectified without delay ('accuracy').",
           "non-compliant"
          ],
          [
           "若會員登錄不實資料，於會員活動抽獎所得之相關贈品時，該會員不得請求兌換該贈品或參與活動。",
           "5(1)(a)",
           "Personal data shall be: (a) processed lawfully, fairly and in a transparent manner in relation to the data subject ('lawfulness, fairness and transparency')",
           "non-compliant"
          ],
          [
           "二、智慧財產權\n台灣大車隊所使用之軟體或程式、網站上所有內容，包括但不限於著作、圖片、檔案、資訊、資料、網站架構、網站畫面的安排、網頁設計，均由台灣大車隊或其他權利人依法擁有其智慧財產權；請務必於取得台灣大車隊及其他權利人書面同意後，才能使用前述資料。",
           null,
           "This section pertains to intellectual property rights, which are outside the scope of GDPR.",
           "compliant"
          ],
          [
           "三、服務暫停與中斷\n本系統或功能可能因『例行性』之維護、改置或變動發生服務暫停或中斷，台灣大車隊將於該暫停或中斷前以電子郵件、公告或其他適當之方式告知會員。\n台灣大車隊將以合理之方式及技術，維護會員服務之正常運作。但如有下列任一情況，台灣大車隊將逕行暫停或中斷會員服務之全部或一部，且對因此所造成任何不便或損害，均不負任何賠償或補償之責任。",
           null,
           "This section describes service interruptions and disclaimers of liability, which are generally outside the scope of GDPR, although data processing limitations may apply in specific situations.",
           "compliant"
          ],
          [
           "對於會員所登錄或留存之個人資料，台灣大車隊都應予保護，但有下列情形時，不在此限：\n1.基於法律之規定、或受司法機關與其他有權機關基於法定程序之要求。\n2.在緊急情況下為維護其他會員或第三人之合法權益。\n3.您的行為違反會員約定條款。\n4.您的會員資料遭受他人冒用。\n5.為維護會員服務系統的正常運作。\n6.您透過會員服務與商家購物、兌換贈品，因而產生的金流、物流必要資訊。",
           "6(1)(c)",
           "This section broadly outlines exceptions to data protection without specifying legal bases or providing sufficient information about data processing purposes. GDPR requires a lawful basis for processing (Article 6), with specific conditions for consent (Article 6(1)(c)) and legitimate interests (Article 6(1)(f)). It also mandates transparency obligations, requiring clear and concise information about data processing purposes (Articles 13 & 14).",
           "non-compliant"
          ],
          [
           "對於會員所登錄或留存之個人資料，台灣大車隊都應予保護，但有下列情形時，不在此限：\n1.基於法律之規定、或受司法機關與其他有權機關基於法定程序之要求。\n2.在緊急情況下為維護其他會員或第三人之合法權益。\n3.您的行為違反會員約定條款。\n4.您的會員資料遭受他人冒用。\n5.為維護會員服務系統的正常運作。\n6.您透過會員服務與商家購物、兌換贈品，因而產生的金流、物流必要資訊。",
           "6(1)(f)",
           "This section broadly outlines exceptions to data protection without specifying legal bases or providing sufficient information about data processing purposes. GDPR requires a lawful basis for processing (Article 6), with specific conditions for consent (Article 6(1)(c)) and legitimate interests (Article 6(1)(f)). It also mandates transparency obligations, requiring clear and concise information about data processing purposes (Articles 13 & 14).",
           "non-compliant"
          ],
          [
           "對於會員所登錄或留存之個人資料，台灣大車隊都應予保護，但有下列情形時，不在此限：\n1.基於法律之規定、或受司法機關與其他有權機關基於法定程序之要求。\n2.在緊急情況下為維護其他會員或第三人之合法權益。\n3.您的行為違反會員約定條款。\n4.您的會員資料遭受他人冒用。\n5.為維護會員服務系統的正常運作。\n6.您透過會員服務與商家購物、兌換贈品，因而產生的金流、物流必要資訊。",
           "13",
           "This section broadly outlines exceptions to data protection without specifying legal bases or providing sufficient information about data processing purposes. GDPR requires a lawful basis for processing (Article 6), with specific conditions for consent (Article 6(1)(c)) and legitimate interests (Article 6(1)(f)). It also mandates transparency obligations, requiring clear and concise information about data processing purposes (Articles 13 & 14).",
           "non-compliant"
          ],
          [
           "對於會員所登錄或留存之個人資料，台灣大車隊都應予保護，但有下列情形時，不在此限：\n1.基於法律之規定、或受司法機關與其他有權機關基於法定程序之要求。\n2.在緊急情況下為維護其他會員或第三人之合法權益。\n3.您的行為違反會員約定條款。\n4.您的會員資料遭受他人冒用。\n5.為維護會員服務系統的正常運作。\n6.您透過會員服務與商家購物、兌換贈品，因而產生的金流、物流必要資訊。",
           "14",
           "This section broadly outlines exceptions to data protection without specifying legal bases or providing sufficient information about data processing purposes. GDPR requires a lawful basis for processing (Article 6), with specific conditions for consent (Article 6(1)(c)) and legitimate interests (Article 6(1)(f)). It also mandates transparency obligations, requiring clear and concise information about data processing purposes (Articles 13 & 14).",
           "non-compliant"
          ],
          [
           "四、網站連結\n為方便您自行蒐集或取得資訊，台灣大車隊會員網站將提供其他網站連結，但此連結並不代表台灣大車隊與此類連結網站管理者有任何合夥、僱傭或其他類似關係，其他業者經營的網站均由各該業者自行負責，台灣大車隊對任何的外部連結，不擔保其合適性、有效性、或即時性，且台灣大車隊不對連結網站所提供產品、服務或資訊提供擔保或其他責任。",
           null,
           "While this section primarily addresses liability for third-party websites, GDPR emphasizes joint controllership when data processing activities are intertwined. If the linked websites involve shared data processing responsibilities, further clarification is needed.",
           "non-compliant"
          ],
          [
           "台灣大車隊可能會使用網站或電子郵件中的beacon計算使用人次，為相關網站進行資料搜集工作，有關資料也會作統計用途。網站beacon所記錄的會員資料會整合起來，以綜合數據形式供合作伙伴參考。綜合數據會包括人數統計和使用情況等資料，除取得會員的同意之外，將不會包含任何可以識別個人身分的資料。",
           "5",
           "Data minimization, purpose limitation, lawfulness of processing",
           "compliant"
          ],
          [
           "台灣大車隊可能會使用網站或電子郵件中的beacon計算使用人次，為相關網站進行資料搜集工作，有關資料也會作統計用途。網站beacon所記錄的會員資料會整合起來，以綜合數據形式供合作伙伴參考。綜合數據會包括人數統計和使用情況等資料，除取得會員的同意之外，將不會包含任何可以識別個人身分的資料。",
           "6 GDPR",
           "Data minimization, purpose limitation, lawfulness of processing",
           "compliant"
          ],
          [
           "如您的會員資料遭受他人冒用、有違反交易安全、台灣大車隊會員服務辦法約定條款等情形時，台灣大車隊基於維護交易安全之考量，將事先通知會員，並終止會員帳號或服務之使用，必要時並將會員註冊資料會員服務移除或刪除，並對您此種不當使用請求賠償或補償責任。",
           "6",
           "Lawfulness of processing, right to be informed, data subject rights",
           "non-compliant"
          ],
          [
           "如您的會員資料遭受他人冒用、有違反交易安全、台灣大車隊會員服務辦法約定條款等情形時，台灣大車隊基於維護交易安全之考量，將事先通知會員，並終止會員帳號或服務之使用，必要時並將會員註冊資料會員服務移除或刪除，並對您此種不當使用請求賠償或補償責任。",
           "13",
           "Lawfulness of processing, right to be informed, data subject rights",
           "non-compliant"
          ],
          [
           "如您的會員資料遭受他人冒用、有違反交易安全、台灣大車隊會員服務辦法約定條款等情形時，台灣大車隊基於維護交易安全之考量，將事先通知會員，並終止會員帳號或服務之使用，必要時並將會員註冊資料會員服務移除或刪除，並對您此種不當使用請求賠償或補償責任。",
           "14 GDPR",
           "Lawfulness of processing, right to be informed, data subject rights",
           "non-compliant"
          ],
          [
           "台灣大車隊可能因網站管理或其他因素，變更或終止部份或全部會員服務或活動，此類變更或終止均將貼示在台灣大車隊網站相關網頁或以其他方式通知。",
           "13",
           "Right to be informed, data subject rights",
           "non-compliant"
          ],
          [
           "台灣大車隊可能因網站管理或其他因素，變更或終止部份或全部會員服務或活動，此類變更或終止均將貼示在台灣大車隊網站相關網頁或以其他方式通知。",
           "14 GDPR",
           "Right to be informed, data subject rights",
           "non-compliant"
          ],
          [
           "可藉由網站服務通知台灣大車隊變更會員服務內容或終止會員服務，請注意台灣大車隊均將在您接獲電子郵件並回覆確認次日起，對您的會員服務進行變更或終止；在此提醒，此類變更或終止，可能會使會員失去部份或全部的優惠或權益，請謹慎使用。",
           "7",
           "Conditions for consent, transparency and information",
           "non-compliant"
          ],
          [
           "可藉由網站服務通知台灣大車隊變更會員服務內容或終止會員服務，請注意台灣大車隊均將在您接獲電子郵件並回覆確認次日起，對您的會員服務進行變更或終止；在此提醒，此類變更或終止，可能會使會員失去部份或全部的優惠或權益，請謹慎使用。",
           "12 GDPR",
           "Conditions for consent, transparency and information",
           "non-compliant"
          ],
          [
           "我們會保留您在上網瀏覽或查詢時，伺服器自行產生的相關記錄，包括您使用連線設備的 IP 位址、使用時間、使用的瀏覽器、瀏覽及點選資料紀錄等。",
           "5",
           "Data minimization, purpose limitation, lawfulness of processing",
           "non-compliant"
          ],
          [
           "我們會保留您在上網瀏覽或查詢時，伺服器自行產生的相關記錄，包括您使用連線設備的 IP 位址、使用時間、使用的瀏覽器、瀏覽及點選資料紀錄等。",
           "6 GDPR",
           "Data minimization, purpose limitation, lawfulness of processing",
           "non-compliant"
          ],
          [
           "您確認於註冊時提供個人資料均屬真實，如您個人資料誤填或有變更時，您將隨時更正或更新，如您未及時更新，表示您同意台灣大車隊股份有限公司繼續依您原登錄資料提供各項服務。",
           "5",
           "Data accuracy, Right to rectification",
           "compliant"
          ],
          [
           "您確認於註冊時提供個人資料均屬真實，如您個人資料誤填或有變更時，您將隨時更正或更新，如您未及時更新，表示您同意台灣大車隊股份有限公司繼續依您原登錄資料提供各項服務。",
           "12",
           "Data accuracy, Right to rectification",
           "compliant"
          ],
          [
           "請您確認上載、傳送、輸入或提供至台灣大車隊會員網站的資料，都已合法取得授權使用（下稱授權使用，包含但不限修改、重製、公開播送、改作、散佈、發行、公開發表等方式），並可將前述權利轉授權第三人。",
           "6(1)(a)",
           "Lawfulness of processing - Consent",
           "compliant"
          ],
          [
           "若您登錄不實或不完整資料，台灣大車隊將暫停或終止您的會員資格，並拒絕您使用會員服務。",
           "5",
           "Data accuracy, Right to rectification",
           "non-compliant"
          ],
          [
           "若您登錄不實或不完整資料，台灣大車隊將暫停或終止您的會員資格，並拒絕您使用會員服務。",
           "12",
           "Data accuracy, Right to rectification",
           "non-compliant"
          ],
          [
           "如果您發現或合理懷疑有第三人使用您的會員資料，您應該立即通知台灣大車隊，台灣大車隊將採取必要的防範措施。",
           "33",
           "Notification of a personal data breach to the supervisory authority, Communication of a personal data breach to the data subject",
           "non-compliant"
          ],
          [
           "如果您發現或合理懷疑有第三人使用您的會員資料，您應該立即通知台灣大車隊，台灣大車隊將採取必要的防範措施。",
           "34",
           "Notification of a personal data breach to the supervisory authority, Communication of a personal data breach to the data subject",
           "non-compliant"
          ],
          [
           "您應妥善保管帳號及密碼，並於每次連線完畢時或使用後確實登出，以防他人盜用。利用此組帳號與密碼登入系統後所進行之一切活動，您將負完全的責任。請勿將您的帳號與密碼洩露或提供予第三人知悉，以免因此遭人非法使用。",
           "32",
           "Security of processing",
           "non-compliant"
          ],
          [
           "以同一個會員手機號碼和密碼使用會員服務所進行的所有行為，都將被認為是這位會員本人的行為。",
           "32",
           "Security of processing",
           "non-compliant"
          ],
          [
           "如果會員不想參與資料搜集工作，可隨時通知台灣大車隊。",
           "17",
           "Right to erasure ('right to be forgotten')",
           "compliant"
          ],
          [
           "隨著市場環境的改變台灣大車隊將會不時修訂網站政策，在使用個人資料的規定上作出大修改時，會在網頁上張貼告示，通知相關事項。",
           "131",
           "Information to be provided where personal data are collected from the data subject",
           "compliant"
          ],
          [
           "隨著市場環境的改變台灣大車隊將會不時修訂網站政策，在使用個人資料的規定上作出大修改時，會在網頁上張貼告示，通知相關事項。",
           "132",
           "Information to be provided where personal data are collected from the data subject",
           "compliant"
          ],
          [
           "如果您有任何問題或建議，請透過客服信箱與我們聯繫。",
           "121",
           "Transparent information, communication and modalities for the exercise of the rights of the data subject",
           "compliant"
          ],
          [
           "生效日期：2012年2月",
           "132a",
           "the period for which the personal data will be stored, or if that is not possible, the criteria used to determine that period",
           "non-compliant"
          ],
          [
           "© 2024 台灣大車隊股份有限公司",
           "131a",
           "the identity and the contact details of the controller and, where applicable, of the controller's representative; the contact details of the data protection officer, where applicable",
           "non-compliant"
          ],
          [
           "© 2024 台灣大車隊股份有限公司",
           "131b",
           "the identity and the contact details of the controller and, where applicable, of the controller's representative; the contact details of the data protection officer, where applicable",
           "non-compliant"
          ],
          [
           "整個隱私政策",
           "121",
           "Transparent information, communication and modalities for the exercise of the rights of the data subject; Information to be provided where personal data are collected from the data subject; Information to be provided where personal data have not been obtained from the data subject",
           "non-compliant"
          ],
          [
           "整個隱私政策",
           "13",
           "Transparent information, communication and modalities for the exercise of the rights of the data subject; Information to be provided where personal data are collected from the data subject; Information to be provided where personal data have not been obtained from the data subject",
           "non-compliant"
          ],
          [
           "整個隱私政策",
           "14",
           "Transparent information, communication and modalities for the exercise of the rights of the data subject; Information to be provided where personal data are collected from the data subject; Information to be provided where personal data have not been obtained from the data subject",
           "non-compliant"
          ],
          [
           "關於您的會員註冊以及其他個人資料，都將受到台灣大車隊網站「隱私權聲明」的保護與規範。",
           "12-14",
           "Data subjects' rights (transparency, information, access, rectification, etc.), right to be informed",
           "compliant"
          ],
          [
           "關於您的會員註冊以及其他個人資料，都將受到台灣大車隊網站「隱私權聲明」的保護與規範。",
           "24",
           "Data subjects' rights (transparency, information, access, rectification, etc.), right to be informed",
           "compliant"
          ],
          [
           "任何資料一經您上載、傳送、輸入或提供至台灣大車隊會員網站時，視為您已同意台灣大車隊取得您的授權使用，並得將前述權利轉授權他人，您對此絕無異議。",
           "6",
           "Lawfulness of processing, conditions for consent, right to withdraw consent",
           "non-compliant"
          ],
          [
           "任何資料一經您上載、傳送、輸入或提供至台灣大車隊會員網站時，視為您已同意台灣大車隊取得您的授權使用，並得將前述權利轉授權他人，您對此絕無異議。",
           "7",
           "Lawfulness of processing, conditions for consent, right to withdraw consent",
           "non-compliant"
          ],
          [
           "任何資料一經您上載、傳送、輸入或提供至台灣大車隊會員網站時，視為您已同意台灣大車隊取得您的授權使用，並得將前述權利轉授權他人，您對此絕無異議。",
           "13",
           "Lawfulness of processing, conditions for consent, right to withdraw consent",
           "non-compliant"
          ],
          [
           "您並應保證台灣大車隊取得授權使用的內容，均無侵害任何第三人智慧財產權的情形，如果因此造成對台灣大車隊的損失或損害，您承諾將對台灣大車隊負賠償或補償責任。",
           "5",
           "Principles relating to processing of personal data (lawfulness, fairness, transparency, purpose limitation, data minimisation, accuracy, storage limitation, integrity and confidentiality)",
           "non-compliant"
          ],
          [
           "您並應保證台灣大車隊取得授權使用的內容，均無侵害任何第三人智慧財產權的情形，如果因此造成對台灣大車隊的損失或損害，您承諾將對台灣大車隊負賠償或補償責任。",
           "6",
           "Principles relating to processing of personal data (lawfulness, fairness, transparency, purpose limitation, data minimisation, accuracy, storage limitation, integrity and confidentiality)",
           "non-compliant"
          ],
          [
           "您同意台灣大車隊僅能於合理範圍內使用、分析",
           "5",
           "Principles relating to processing of personal data (lawfulness, fairness, transparency, purpose limitation, data minimisation, accuracy, storage limitation, integrity and confidentiality)",
           "non-compliant"
          ],
          [
           "您同意台灣大車隊僅能於合理範圍內使用、分析",
           "6",
           "Principles relating to processing of personal data (lawfulness, fairness, transparency, purpose limitation, data minimisation, accuracy, storage limitation, integrity and confidentiality)",
           "non-compliant"
          ],
          [
           "此外，如有任何糾紛，您同意以會員服務資料庫所記錄之電子資料為認定標準。",
           "5",
           "Principles relating to processing of personal data, automated individual decision-making, including profiling",
           "non-compliant"
          ],
          [
           "此外，如有任何糾紛，您同意以會員服務資料庫所記錄之電子資料為認定標準。",
           "22",
           "Principles relating to processing of personal data, automated individual decision-making, including profiling",
           "non-compliant"
          ],
          [
           "台灣大車隊股份有限公司為提供會員服務並保護消費者權益，乃建立會員機制，以提供完整之會員服務，謹依個人資料保護法第8條規定向當事人蒐集個人資料時，應明確告知當事人下列事項：\n一、蒐集之目的。",
           "13",
           "Information to be provided where personal data are collected from the data subject - Right to be informed",
           "compliant"
          ],
          [
           "台灣大車隊股份有限公司為提供會員服務並保護消費者權益，乃建立會員機制，以提供完整之會員服務，謹依個人資料保護法第8條規定向當事人蒐集個人資料時，應明確告知當事人下列事項：\n一、蒐集之目的。",
           "14",
           "Information to be provided where personal data are collected from the data subject - Right to be informed",
           "compliant"
          ],
          [
           "如兌換贈品依法應繳納稅捐時，會員應自行負擔該筆稅款；如依相關稅法規定應預先代扣稅款或所兌贈品應併入個人所得時，其相關作業均由各合作特約商處理。台灣大車隊網站提供之贈品兌換及活動內容，得依網站活動專區所述或以等值商品來兌換為主。",
           "13",
           "Information to be provided where personal data are collected from the data subject - Right to be informed",
           "non-compliant"
          ],
          [
           "如兌換贈品依法應繳納稅捐時，會員應自行負擔該筆稅款；如依相關稅法規定應預先代扣稅款或所兌贈品應併入個人所得時，其相關作業均由各合作特約商處理。台灣大車隊網站提供之贈品兌換及活動內容，得依網站活動專區所述或以等值商品來兌換為主。",
           "14",
           "Information to be provided where personal data are collected from the data subject - Right to be informed",
           "non-compliant"
          ],
          [
           "為維護會員權益，如系統產生異常情況時，台灣大車隊將暫停會員操作之登錄及相關功能；異常狀況解除時，台灣大車隊將隨即恢復會員點數登錄及兌換功能。",
           "13",
           "Information to be provided where personal data are collected from the data subject - Right to be informed",
           "non-compliant"
          ],
          [
           "為維護會員權益，如系統產生異常情況時，台灣大車隊將暫停會員操作之登錄及相關功能；異常狀況解除時，台灣大車隊將隨即恢復會員點數登錄及兌換功能。",
           "14",
           "Information to be provided where personal data are collected from the data subject - Right to be informed",
           "non-compliant"
          ],
          [
           "台灣大車隊保有會員申請、停用、修改或終止各項優惠服務之權利。有關會員之告知事項、服務辦法、相關權益及使用說明、標識符號、合作特約商、活動內容詳見本公司網站。",
           "13",
           "Information to be provided where personal data are collected from the data subject - Right to be informed",
           "non-compliant"
          ],
          [
           "台灣大車隊保有會員申請、停用、修改或終止各項優惠服務之權利。有關會員之告知事項、服務辦法、相關權益及使用說明、標識符號、合作特約商、活動內容詳見本公司網站。",
           "14",
           "Information to be provided where personal data are collected from the data subject - Right to be informed",
           "non-compliant"
          ],
          [
           "台灣大車隊將不定期更新或變更相關資料，相關資訊以更新後者為準，如您繼續使用本會員之服務，將視為您同意更新之服務條款。如有任何問題，請致電台灣大車隊客服中心，手機直撥55688或市話撥405-88888洽詢。",
           "13",
           "Information to be provided where personal data are collected from the data subject - Right to be informed",
           "non-compliant"
          ],
          [
           "台灣大車隊將不定期更新或變更相關資料，相關資訊以更新後者為準，如您繼續使用本會員之服務，將視為您同意更新之服務條款。如有任何問題，請致電台灣大車隊客服中心，手機直撥55688或市話撥405-88888洽詢。",
           "14",
           "Information to be provided where personal data are collected from the data subject - Right to be informed",
           "non-compliant"
          ],
          [
           "  上述內容有全部或一部份無效時，不影響其他約定之效力。服務辦法以中華民國法令為準據法並以台北地方法院為管轄法院。",
           null,
           null,
           "non-compliant"
          ],
          [
           "二、個人資料之類別。",
           "131(a)",
           "The data subject has the right to be informed about the categories of personal data being processed.",
           "compliant"
          ],
          [
           "二、個人資料之類別。",
           "141(a)",
           "The data subject has the right to be informed about the categories of personal data being processed.",
           "compliant"
          ],
          [
           "三、個人資料利用之期間、地區、對象及方式。",
           "131(a)",
           "The data subject has the right to be informed about the period for which the personal data will be stored, the recipients of the personal data, and the purpose of the processing.",
           "compliant"
          ],
          [
           "三、個人資料利用之期間、地區、對象及方式。",
           "132(a)",
           "The data subject has the right to be informed about the period for which the personal data will be stored, the recipients of the personal data, and the purpose of the processing.",
           "compliant"
          ],
          [
           "三、個人資料利用之期間、地區、對象及方式。",
           "141(a)",
           "The data subject has the right to be informed about the period for which the personal data will be stored, the recipients of the personal data, and the purpose of the processing.",
           "compliant"
          ],
          [
           "三、個人資料利用之期間、地區、對象及方式。",
           "142(f)",
           "The data subject has the right to be informed about the period for which the personal data will be stored, the recipients of the personal data, and the purpose of the processing.",
           "compliant"
          ],
          [
           "四、當事人依第三條規定得行使之權利及方式。",
           "121",
           "The data subject has the right to request access to, rectification of, erasure of, and restriction of processing of their personal data. They also have the right to data portability and to object to processing.",
           "compliant"
          ],
          [
           "四、當事人依第三條規定得行使之權利及方式。",
           "15",
           "The data subject has the right to request access to, rectification of, erasure of, and restriction of processing of their personal data. They also have the right to data portability and to object to processing.",
           "compliant"
          ],
          [
           "四、當事人依第三條規定得行使之權利及方式。",
           "16",
           "The data subject has the right to request access to, rectification of, erasure of, and restriction of processing of their personal data. They also have the right to data portability and to object to processing.",
           "compliant"
          ],
          [
           "四、當事人依第三條規定得行使之權利及方式。",
           "17",
           "The data subject has the right to request access to, rectification of, erasure of, and restriction of processing of their personal data. They also have the right to data portability and to object to processing.",
           "compliant"
          ],
          [
           "四、當事人依第三條規定得行使之權利及方式。",
           "18",
           "The data subject has the right to request access to, rectification of, erasure of, and restriction of processing of their personal data. They also have the right to data portability and to object to processing.",
           "compliant"
          ],
          [
           "四、當事人依第三條規定得行使之權利及方式。",
           "19",
           "The data subject has the right to request access to, rectification of, erasure of, and restriction of processing of their personal data. They also have the right to data portability and to object to processing.",
           "compliant"
          ],
          [
           "四、當事人依第三條規定得行使之權利及方式。",
           "20",
           "The data subject has the right to request access to, rectification of, erasure of, and restriction of processing of their personal data. They also have the right to data portability and to object to processing.",
           "compliant"
          ],
          [
           "四、當事人依第三條規定得行使之權利及方式。",
           "21",
           "The data subject has the right to request access to, rectification of, erasure of, and restriction of processing of their personal data. They also have the right to data portability and to object to processing.",
           "compliant"
          ],
          [
           "自您加入成為會員（以下簡稱會員）即日起至台灣大車隊及合作特約商終止營運之日、及會員停止提供服務之日止。",
           "51(e)",
           "Personal data shall be kept in a form which permits identification of data subjects for no longer than is necessary for the purposes for which the personal data are processed.",
           "non-compliant"
          ],
          [
           "(1)台灣地區及服務使用地，且基於履行契約義務，將提供相關資料予合作特約商或台灣大車隊於特定目的範圍內委外之廠商。",
           "131(f)",
           "The data subject has the right to be informed about the legal basis for processing their data, including if it is based on legitimate interests.",
           "non-compliant"
          ],
          [
           "(1)台灣地區及服務使用地，且基於履行契約義務，將提供相關資料予合作特約商或台灣大車隊於特定目的範圍內委外之廠商。",
           "141(f)",
           "The data subject has the right to be informed about the legal basis for processing their data, including if it is based on legitimate interests.",
           "non-compliant"
          ],
          [
           "(2)台灣大車隊將於蒐集之特定目的範圍內處理並利用個人資料。",
           "51(b)",
           "Personal data shall be collected for specified, explicit and legitimate purposes and not further processed in a manner that is incompatible with those purposes.",
           "non-compliant"
          ],
          [
           "(3)合作特約廠商及委外廠商於贈品兌換及行銷等特定目的範圍內蒐集、處理或利用個人資料。",
           "61(a)",
           "Processing shall be lawful only if and to the extent that at least one of six conditions are met, including consent.",
           "non-compliant"
          ],
          [
           "上述權利，若因會員不符合申請程序或法律規定，或台灣大車隊依法負有保存義務，或法律另有規定之情況者，不在此限。若您就您的會員註冊資料向台灣大車隊請求答覆查詢、提供閱覽。",
           "123",
           "The controller shall provide information on action taken on a request by the data subject without undue delay. Restrictions to data subject rights must be provided for by law and respect the essence of the fundamental rights and freedoms.",
           "non-compliant"
          ],
          [
           "上述權利，若因會員不符合申請程序或法律規定，或台灣大車隊依法負有保存義務，或法律另有規定之情況者，不在此限。若您就您的會員註冊資料向台灣大車隊請求答覆查詢、提供閱覽。",
           "23",
           "The controller shall provide information on action taken on a request by the data subject without undue delay. Restrictions to data subject rights must be provided for by law and respect the essence of the fundamental rights and freedoms.",
           "non-compliant"
          ],
          [
           "消費者得自由選擇提供個人資料，惟若其提供之資料不足或有誤時，台灣大車隊除將無法提供完整之服務將可能損及消費者之權益。",
           "74",
           "Consent should not be the basis for processing where there is a clear imbalance between the data subject and the controller.",
           "non-compliant"
          ],
          [
           "一、簡介\n觔斗雲聯網科技股份有限公司（下稱「本公司」或「我們」）於提供本公司所有相關產品、應用程式（Apps）、服務及網站（合稱「本服務」）時，將蒐集個人相關資料（下稱「個資」或「個人資料」）。\n本隱私權政策（下稱「本政策」）說明本公司將蒐集的個資類別、我們將如何使用及分享個資，以及您如何管理您的個資。",
           "13",
           "Information to be provided where personal data are collected from the data subject",
           "compliant"
          ],
          [
           "一、簡介\n觔斗雲聯網科技股份有限公司（下稱「本公司」或「我們」）於提供本公司所有相關產品、應用程式（Apps）、服務及網站（合稱「本服務」）時，將蒐集個人相關資料（下稱「個資」或「個人資料」）。\n本隱私權政策（下稱「本政策」）說明本公司將蒐集的個資類別、我們將如何使用及分享個資，以及您如何管理您的個資。",
           "14",
           "Information to be provided where personal data are collected from the data subject",
           "compliant"
          ],
          [
           "二、本政策之適用範圍",
           "3",
           "Material Scope",
           "compliant"
          ],
          [
           "三、個資蒐集及使用目的\n本公司基於下列目的蒐集個資：\n○四○ 行銷、○九○ 消費者、客戶管理與服務、一三五 資訊服務、一四八 網路購物及其他電子商務服務、一八一 其他經營合於營業登記項目或組織章程所定之業務、一八二  其他諮詢與顧問服務。\n本公司基於下列目的使用個資：\n提供及維護服務；\n開發及改善服務及內容；\n防止未經授權之使用，例如未經授權之存取；及/或\n為您提供優化之內容。",
           "5",
           "Principles relating to processing of personal data: lawfulness, fairness and transparency, purpose limitation",
           "non-compliant"
          ],
          [
           "三、個資蒐集及使用目的\n本公司基於下列目的蒐集個資：\n○四○ 行銷、○九○ 消費者、客戶管理與服務、一三五 資訊服務、一四八 網路購物及其他電子商務服務、一八一 其他經營合於營業登記項目或組織章程所定之業務、一八二  其他諮詢與顧問服務。\n本公司基於下列目的使用個資：\n提供及維護服務；\n開發及改善服務及內容；\n防止未經授權之使用，例如未經授權之存取；及/或\n為您提供優化之內容。",
           "6",
           "Principles relating to processing of personal data: lawfulness, fairness and transparency, purpose limitation",
           "non-compliant"
          ],
          [
           "提供及維護服務",
           "6(1)(b)",
           "Processing is necessary for the performance of a contract or to take steps at the request of the data subject before entering into a contract; Processing is necessary for compliance with a legal obligation to which the controller is subject.",
           "compliant"
          ],
          [
           "提供及維護服務",
           "6(1)(c)",
           "Processing is necessary for the performance of a contract or to take steps at the request of the data subject before entering into a contract; Processing is necessary for compliance with a legal obligation to which the controller is subject.",
           "compliant"
          ],
          [
           "回覆您的詢問",
           "6(1)(a)",
           "Consent of the data subject",
           "compliant"
          ],
          [
           "辦理行銷活動",
           "6(1)(a)",
           "Consent of the data subject",
           "compliant"
          ],
          [
           "處理您購買商品或使用付費服務的發票",
           "6(1)(b)",
           "Processing is necessary for the performance of a contract",
           "compliant"
          ],
          [
           "檢視您使用本服務狀況，以便回答您向本公司客服中心提出的詢問",
           "6(1)(b)",
           "Processing is necessary for the performance of a contract",
           "compliant"
          ],
          [
           "向您通知本服務之重要變更，例如：條款修訂、服務中止計畫，或功能變更",
           "6(1)(c)",
           "Processing is necessary for compliance with a legal obligation to which the controller is subject.",
           "compliant"
          ],
          [
           "安全性及防止未經授權的使用",
           "6(1)(f)",
           "Processing is necessary for the purposes of the legitimate interests pursued by the controller or by a third party",
           "compliant"
          ],
          [
           "確認您是否違反使用條款，或出現任何不法行為、未經授權存取或其他未經授權使用",
           "6(1)(f)",
           "Processing is necessary for the purposes of the legitimate interests pursued by the controller or by a third party",
           "compliant"
          ],
          [
           "於實際或可能發生任何未經授權的使用時，確認相關事實或與您聯繫",
           "6(1)(f)",
           "Processing is necessary for the purposes of the legitimate interests pursued by the controller or by a third party",
           "compliant"
          ],
          [
           "瞭解您使用本服務的滿意度及反饋，並用於日後本服務及改善之用",
           "6",
           "None of the six lawful bases for processing appear to apply. While improving services is a legitimate interest, it's unclear if this purpose is compatible with the initial purpose of collecting feedback.",
           "non-compliant"
          ],
          [
           "開發及改善服務及內容",
           "6(1)(f)",
           "While legitimate interest can be a legal basis, it requires a balancing test. The policy lacks details on the specific legitimate interests pursued and how they outweigh the individuals' rights and freedoms.",
           "non-compliant"
          ],
          [
           "就本服務的使用蒐集統計數據及建立模型，以便改善本服務",
           "5(1)(b)",
           "Data minimization principle requires processing only data necessary for each specific purpose. Collecting detailed usage data for statistical modeling might be considered excessive for the purpose of service improvement.",
           "non-compliant"
          ],
          [
           "透過本服務各項消費紀錄來瞭解趨勢，以便開發新服務及內容",
           "5(1)(b)",
           "Processing personal data for a purpose different than the one for which it was initially collected requires compatibility assessment. Developing new services might not be considered compatible with the original purpose of providing the existing service.",
           "non-compliant"
          ],
          [
           "透過本服務各項消費紀錄來瞭解趨勢，以便開發新服務及內容",
           "6(4)",
           "Processing personal data for a purpose different than the one for which it was initially collected requires compatibility assessment. Developing new services might not be considered compatible with the original purpose of providing the existing service.",
           "non-compliant"
          ],
          [
           "瞭解本服務各項使用頻率，來改善螢幕畫面設計",
           "5(1)(b)",
           "Collecting detailed usage frequency data for screen design improvement might be considered excessive. Explore alternative approaches like A/B testing with aggregated data to minimize personal data processing.",
           "non-compliant"
          ],
          [
           "就本公司目前提供或未來可能提供的服務進行調查",
           "6(1)(a)",
           "Conducting surveys generally requires explicit consent, especially when related to future services. The policy lacks information about obtaining consent for this purpose.",
           "non-compliant"
          ],
          [
           "十、第三方網站\n本網站的網頁可能提供其他網站之網路連結，如果您進入該連結，您將會離開本公司網站，而您後續提供給第三方網站的個人資料或第三方網站蒐集、處理及利用您所屬之個人資料皆非屬本聲明涵蓋範圍，本公司並不保護您於該連結網站中的隱私權。建議您於提供自身之個人資料前，應先行審閱該公司之隱私權政策。",
           "13",
           "Information to be provided where personal data are collected from the data subject/Information to be provided where personal data have not been obtained from the data subject",
           "compliant"
          ],
          [
           "十、第三方網站\n本網站的網頁可能提供其他網站之網路連結，如果您進入該連結，您將會離開本公司網站，而您後續提供給第三方網站的個人資料或第三方網站蒐集、處理及利用您所屬之個人資料皆非屬本聲明涵蓋範圍，本公司並不保護您於該連結網站中的隱私權。建議您於提供自身之個人資料前，應先行審閱該公司之隱私權政策。",
           "14",
           "Information to be provided where personal data are collected from the data subject/Information to be provided where personal data have not been obtained from the data subject",
           "compliant"
          ],
          [
           "十一、使用Cookie\n「Cookie」文件是瀏覽某些網站時，在您的硬碟上保留的小型資料檔案。本網站為提供您更完善的個人化服務，可能會使用Cookie來蒐集、儲存或紀錄資料作為統計用途，及用於本網站改善產品和服務。這些Cookie文件不會使第三方辨識您的任何個人身份資訊。第三方網站也可能會使用其自身的Cookie文件。本公司及本網站無法控制這些第三方網站Cookie的使用，明確聲明對其蒐集的資訊不負任何責任。如果您不希望接受Cookie，請自行利用瀏覽器的設定加以排除；不過您將可能無法使用本網站所提供的部分服務，因此可能影響您的整體使用感受。",
           "7(4)",
           "Conditions for consent/Consent should be given by a clear affirmative act establishing a freely given, specific, informed and unambiguous indication of the data subject's agreement",
           "compliant"
          ],
          [
           "十一、使用Cookie\n「Cookie」文件是瀏覽某些網站時，在您的硬碟上保留的小型資料檔案。本網站為提供您更完善的個人化服務，可能會使用Cookie來蒐集、儲存或紀錄資料作為統計用途，及用於本網站改善產品和服務。這些Cookie文件不會使第三方辨識您的任何個人身份資訊。第三方網站也可能會使用其自身的Cookie文件。本公司及本網站無法控制這些第三方網站Cookie的使用，明確聲明對其蒐集的資訊不負任何責任。如果您不希望接受Cookie，請自行利用瀏覽器的設定加以排除；不過您將可能無法使用本網站所提供的部分服務，因此可能影響您的整體使用感受。",
           "Recital 32",
           "Conditions for consent/Consent should be given by a clear affirmative act establishing a freely given, specific, informed and unambiguous indication of the data subject's agreement",
           "compliant"
          ],
          [
           "十二、您對於個人資料的選擇\n您得自由選擇是否提供本服務所需之個人資料，但若您未提供或未完整提供時，本公司將可能無法為您完整提供本服務。惟若您所提供之個人資料虛偽錯誤，致使本公司遭受損害，本公司將有權利主動停止您於本網站上所有使用功能。",
           "5(1)(a)",
           "Principles relating to processing of personal data/Lawfulness, fairness and transparency",
           "non-compliant"
          ],
          [
           "本政策聲明自即日起生效",
           "131",
           "Requirement for a privacy policy to be in place.",
           "compliant"
          ],
          [
           "本政策將因應法令規定之修訂與科技的進步隨時進行修正",
           "131",
           "Policies must be updated to reflect changes in law and technology.",
           "compliant"
          ],
          [
           "修正後的條款將更新於本公司網站上",
           "121",
           "Data subjects must be informed of changes to the privacy policy.",
           "compliant"
          ],
          [
           "歡迎您定期檢視本公司之隱私權政策及相關使用規範",
           "121",
           "Data subjects are encouraged to stay informed about the privacy policy.",
           "compliant"
          ],
          [
           "若您持續使用本網站服務，即代表您同意本政策及任何更新之內容",
           "71",
           "Consent can be implied through continued use of a service.",
           "compliant"
          ],
          [
           "若您對本政策有任何意見，歡迎與本公司聯繫",
           "32",
           "Right to lodge a complaint with a supervisory authority.",
           "compliant"
          ],
          [
           "以落實保障您隱私權之立意",
           "51 (a)",
           "Data must be processed lawfully, fairly and in a transparent manner.",
           "non-compliant"
          ],
          [
           "以瞭解本公司如何保護所蒐集之個人資料",
           "13",
           "Information about data processing activities must be specific, granular, and easily accessible.",
           "non-compliant"
          ],
          [
           "以瞭解本公司如何保護所蒐集之個人資料",
           "14",
           "Information about data processing activities must be specific, granular, and easily accessible.",
           "non-compliant"
          ],
          [
           "二、蒐集之個人資料類別\n(2) 應用程式（Apps）、瀏覽器、裝置及網路資訊：本公司將蒐集您所使用的裝置、瀏覽器及應用程式（Apps）的相關資訊（Cookie識別碼、裝置類型、作業系統、瀏覽器類型、應用程式（Apps）版本等），以及網路資訊（IP位址等）。但於本公司網站蒐集時，將僅供作流量分析、系統改進和網路行為調查，以便於改善本網站之服務品質，不涉及您個人身分資料。",
           "6(1)(f)",
           "Data minimization, purpose limitation. This section seems to comply with GDPR as long as the data collected is indeed anonymized and not used to identify individuals.",
           "compliant"
          ],
          [
           "二、蒐集之個人資料類別\n(2) 應用程式（Apps）、瀏覽器、裝置及網路資訊：本公司將蒐集您所使用的裝置、瀏覽器及應用程式（Apps）的相關資訊（Cookie識別碼、裝置類型、作業系統、瀏覽器類型、應用程式（Apps）版本等），以及網路資訊（IP位址等）。但於本公司網站蒐集時，將僅供作流量分析、系統改進和網路行為調查，以便於改善本網站之服務品質，不涉及您個人身分資料。",
           "recital 49",
           "Data minimization, purpose limitation. This section seems to comply with GDPR as long as the data collected is indeed anonymized and not used to identify individuals.",
           "compliant"
          ],
          [
           "五、個資利用之期間\n除法令或中央事業主管單位另有規定個人資料保存期限外，本服務將持續使用您提供的個人資料直至您要求停止使用或本服務停止提供服務之日為止。",
           "5(1)(e)",
           "Storage limitation. This section aligns with GDPR by stating data will not be kept longer than necessary.",
           "compliant"
          ],
          [
           "二、蒐集之個人資料類別\n(3) 蒐集自第三方的個人資料：本公司得向第三方蒐集您的個人資料，第三方包括本公司的子公司或關係企業、合作夥伴。",
           "14",
           "Transparency, fairness. This section lacks transparency about the specific data collected from third parties and the legal basis for doing so. It needs to specify the categories of data, the source of the data, and the legal basis for processing (e.g., consent, contract, legitimate interest).",
           "non-compliant"
          ],
          [
           "二、蒐集之個人資料類別\n(3) 蒐集自第三方的個人資料：本公司得向第三方蒐集您的個人資料，第三方包括本公司的子公司或關係企業、合作夥伴。",
           "12(1)",
           "Transparency, fairness. This section lacks transparency about the specific data collected from third parties and the legal basis for doing so. It needs to specify the categories of data, the source of the data, and the legal basis for processing (e.g., consent, contract, legitimate interest).",
           "non-compliant"
          ],
          [
           "五、個資利用之期間\n但本公司將依據適用法規及本公司內部規定，為下列目的而將您的個人資料保留一段時間：\n回覆您的請求/詢問；\n解決爭議或收取費用；\n辨識及防止本服務冒用或盜（濫）用；或\n遵守適用法規。",
           "5(1)(e)",
           "Storage limitation. While these purposes might be legitimate, the policy needs to specify the retention periods for each purpose and ensure they are not excessive.",
           "non-compliant"
          ],
          [
           "六、個資利用之地區\n本服務提供之區域、以及第三方合作夥伴於您同意範圍內使用個人資料所涵蓋之區域。",
           "44-50",
           "Data transfers outside the EEA. This section is too vague. If data is transferred outside the EEA, the policy needs to specify the countries and the safeguards in place to ensure adequate data protection (e.g., adequacy decisions, standard contractual clauses).",
           "non-compliant"
          ],
          [
           "七、個資利用之對象\n本公司子公司及關係企業、本公司委外廠商或合作夥伴。本公司不會向任何無關第三方提供、揭露或分享您的個人資料，但經您同意，或因適用法規許可該等個人資料的提供、揭露或分享者，不在此限。",
           "13",
           "Information to be provided, transparency. This section needs to be more specific about the categories of recipients and the purposes for sharing data. It should also clarify the legal basis for sharing data with each recipient category.",
           "non-compliant"
          ],
          [
           "七、個資利用之對象\n本公司子公司及關係企業、本公司委外廠商或合作夥伴。本公司不會向任何無關第三方提供、揭露或分享您的個人資料，但經您同意，或因適用法規許可該等個人資料的提供、揭露或分享者，不在此限。",
           "14",
           "Information to be provided, transparency. This section needs to be more specific about the categories of recipients and the purposes for sharing data. It should also clarify the legal basis for sharing data with each recipient category.",
           "non-compliant"
          ],
          [
           "八、個資利用之方式\n本公司得於法令許可範圍內，依據下列法定事由處理您的個資：\n為履行本公司與您之間的契約，或於簽署契約前依據您的要求採取相關步驟而有必要處理個資。",
           "6(1)(b)",
           "processing is necessary for the performance of a contract to which the data subject is party or in order to take steps at the request of the data subject prior to entering into a contract",
           "compliant"
          ],
          [
           "八、個資利用之方式\n本公司得於法令許可範圍內，依據下列法定事由處理您的個資：\n為履行本公司法定義務而有必要處理個資（例如：遵守政府機關依據相關法令所發布的資訊揭露命令）。",
           "6(1)(c)",
           "processing is necessary for compliance with a legal obligation to which the controller is subject",
           "compliant"
          ],
          [
           "八、個資利用之方式\n本公司得於法令許可範圍內，依據下列法定事由處理您的個資：\n為保護您或第三人重大利益而有必要處理個資。",
           "6(1)(d)",
           "processing is necessary in order to protect the vital interests of the data subject or of another natural person",
           "compliant"
          ],
          [
           "八、個資利用之方式\n本公司得於法令許可範圍內，依據下列法定事由處理您的個資：\n為公共利益、歷史文件保存、調查或統計相關事由而有必要處理個資，且已採取適當安全措施。例如：本公司得為提供、維護、開發及改良相關服務，以及確保安全及防止未經授權的使用，依據上述第5.款所述合法利益處理您的個資。",
           "6(1)(e)",
           "processing is necessary for the performance of a task carried out in the public interest or in the exercise of official authority vested in the controller",
           "compliant"
          ],
          [
           "九、當事人權利之行使\n（一）您得依「個人資料保護法」相關法令規定行使下列個資權利：\n查詢、請求閱覽或請求製給複製本、\n請求補充或更正、\n請求停止蒐集、處理或利用、\n請求刪除。\n請與本公司客服部聯繫，以進一步了解。",
           "15",
           "Right of access by the data subject, Right to rectification, Right to erasure ('right to be forgotten'), Right to restriction of processing",
           "compliant"
          ],
          [
           "九、當事人權利之行使\n（一）您得依「個人資料保護法」相關法令規定行使下列個資權利：\n查詢、請求閱覽或請求製給複製本、\n請求補充或更正、\n請求停止蒐集、處理或利用、\n請求刪除。\n請與本公司客服部聯繫，以進一步了解。",
           "16",
           "Right of access by the data subject, Right to rectification, Right to erasure ('right to be forgotten'), Right to restriction of processing",
           "compliant"
          ],
          [
           "九、當事人權利之行使\n（一）您得依「個人資料保護法」相關法令規定行使下列個資權利：\n查詢、請求閱覽或請求製給複製本、\n請求補充或更正、\n請求停止蒐集、處理或利用、\n請求刪除。\n請與本公司客服部聯繫，以進一步了解。",
           "17",
           "Right of access by the data subject, Right to rectification, Right to erasure ('right to be forgotten'), Right to restriction of processing",
           "compliant"
          ],
          [
           "九、當事人權利之行使\n（一）您得依「個人資料保護法」相關法令規定行使下列個資權利：\n查詢、請求閱覽或請求製給複製本、\n請求補充或更正、\n請求停止蒐集、處理或利用、\n請求刪除。\n請與本公司客服部聯繫，以進一步了解。",
           "18",
           "Right of access by the data subject, Right to rectification, Right to erasure ('right to be forgotten'), Right to restriction of processing",
           "compliant"
          ],
          [
           "八、個資利用之方式\n本公司得於法令許可範圍內，依據下列法定事由處理您的個資：\n為調查或防止非法或疑似非法行為，或採取相關措施而有必要處理個資。",
           "6(1)(f)",
           "Compliance with GDPR requires a legal basis for data processing. While this section mentions processing data to prevent illegal activities, it lacks the necessary specificity regarding legitimate interests and the balancing test required by GDPR. ",
           "non-compliant"
          ],
          [
           "八、個資利用之方式\n本公司得於法令許可範圍內，依據下列法定事由處理您的個資：\n為調查或防止非法或疑似非法行為，或採取相關措施而有必要處理個資。",
           "recital 47",
           "Compliance with GDPR requires a legal basis for data processing. While this section mentions processing data to prevent illegal activities, it lacks the necessary specificity regarding legitimate interests and the balancing test required by GDPR. ",
           "non-compliant"
          ],
          [
           "八、個資利用之方式\n本公司得於法令許可範圍內，依據下列法定事由處理您的個資：\n本公司或第三方為合法利益（包括本公司執行營運或系統的改善、防止詐欺、維護安全、行銷及研究）而有必要處理個資；但如果您的隱私相關權利、利益及自由，顯然比該等合法利益更值得保護者，不在此限；或",
           "6(1)(f)",
           "This section mentions legitimate interests as a basis for processing but is not specific enough about the balancing test required under GDPR.",
           "non-compliant"
          ],
          [
           "八、個資利用之方式\n本公司得於法令許可範圍內，依據下列法定事由處理您的個資：\n本公司或第三方為合法利益（包括本公司執行營運或系統的改善、防止詐欺、維護安全、行銷及研究）而有必要處理個資；但如果您的隱私相關權利、利益及自由，顯然比該等合法利益更值得保護者，不在此限；或",
           "recital 47",
           "This section mentions legitimate interests as a basis for processing but is not specific enough about the balancing test required under GDPR.",
           "non-compliant"
          ],
          [
           "九、當事人權利之行使\n（二）就本公司蒐集之個人資料，若答覆查詢、提供閱覽或製給複製本而妨害國家安全、外交及軍事機密、整體經濟利益或其他國家重大利益、妨害公務機關執行法定職務或妨害本公司或第三人之重大利益，則本公司將會拒絕當事人的請求，並提供拒絕理由予當事人。",
           "23",
           "While this section outlines exceptions to data subject rights, it doesn't explicitly align with the specific restrictions laid out in GDPR Article 23. ",
           "non-compliant"
          ],
          [
           "本公司為了向您推薦內容（包括廣告），例如：\n根據您已消費紀錄，向您展示具有高度關聯性的本服務其他特定項目推薦；\n量測廣告投放效度；",
           "6(1)(f)",
           "Legitimate interests pursued by the controller or by a third party",
           "compliant"
          ],
          [
           "透過官方帳號提供與您當前位置具有高度關聯性的設施、景點、優惠券等相關資訊；\n依據您當前位置或您經常造訪的地點，提供周邊正在舉辦的活動及可使用的優惠券相關資訊。",
           "6(1)(a)",
           "Consent of the data subject",
           "compliant"
          ],
          [
           "本公司將蒐集下列個人資料：\n（一）您向本公司提供的資訊，例如：您於註冊本服務時提供本公司的LINE ID、電話號碼，以及您於使用本服務個人設定的資料。\n（二）您使用本服務所需相關資訊，例如：您的裝置所在位置資訊、您發布的文字及使用紀錄。",
           "5(1)(c)",
           "Purpose limitation",
           "non-compliant"
          ],
          [
           "（三）本公司於提供本服務時將蒐集下列類別的個人資料。如果您未提供特定類別的資料，例如：使用本服務必須提供的電話號碼，或您的LINE ID相關資訊，您可能無法使用本服務的全部或部分功能。\n將由您提供的個人資料\n(1) 建立新帳號時提供的資訊：在您開始使用本服務前，本公司得請您提供您的聯絡資訊，以便建立本服務帳號。\n(2) 聯絡及交易用的必要資訊：當您使用特定服務購買商品、提出請求或參與行銷活動或調查時，必須為本公司註冊會員，本公司將以本服務提供會員客制化和個人化服務。",
           "5(1)(e)",
           "Storage limitation, Right to be informed",
           "non-compliant"
          ],
          [
           "（三）本公司於提供本服務時將蒐集下列類別的個人資料。如果您未提供特定類別的資料，例如：使用本服務必須提供的電話號碼，或您的LINE ID相關資訊，您可能無法使用本服務的全部或部分功能。\n將由您提供的個人資料\n(1) 建立新帳號時提供的資訊：在您開始使用本服務前，本公司得請您提供您的聯絡資訊，以便建立本服務帳號。\n(2) 聯絡及交易用的必要資訊：當您使用特定服務購買商品、提出請求或參與行銷活動或調查時，必須為本公司註冊會員，本公司將以本服務提供會員客制化和個人化服務。",
           "13(1)(d)",
           "Storage limitation, Right to be informed",
           "non-compliant"
          ],
          [
           "Copyright 2019 Bridgewell | All Rights Reserved",
           "12-14",
           "Right to be informed, Right of access, Right to rectification, Right to erasure ('right to be forgotten'), Right to restriction of processing, Right to data portability, Right to object, Rights in relation to automated decision making and profiling.",
           "non-compliant"
          ],
          [
           "Copyright 2019 Bridgewell | All Rights Reserved",
           "15-22",
           "Right to be informed, Right of access, Right to rectification, Right to erasure ('right to be forgotten'), Right to restriction of processing, Right to data portability, Right to object, Rights in relation to automated decision making and profiling.",
           "non-compliant"
          ],
          [
           "Copyright 2019 Bridgewell | All Rights Reserved",
           "24-43",
           "Right to be informed, Right of access, Right to rectification, Right to erasure ('right to be forgotten'), Right to restriction of processing, Right to data portability, Right to object, Rights in relation to automated decision making and profiling.",
           "non-compliant"
          ],
          [
           "PChome 網路家庭謹以下列聲明，向您說明PChome 網路家庭蒐集個人資料之目的、類別、利用範圍及方式、以及您所得行使之權利等事項",
           "13",
           "Information to be provided where personal data are collected from the data subject",
           "compliant"
          ],
          [
           "PChome 網路家庭謹以下列聲明，向您說明PChome 網路家庭蒐集個人資料之目的、類別、利用範圍及方式、以及您所得行使之權利等事項",
           "14",
           "Information to be provided where personal data are collected from the data subject",
           "compliant"
          ],
          [
           "如果您對於PChome 網路家庭的隱私權聲明、以下相關告知事項、或與個人資料保護有關之相關事項有任何疑問，可以和PChome 網路家庭服務中心聯絡，PChome 網路家庭將儘快回覆說明",
           "12",
           "Transparent information, communication and modalities for the exercise of the rights of the data subject",
           "compliant"
          ],
          [
           "適用範圍\nPChome 網路家庭隱私權聲明及其所包含之告知事項，僅適用於PChome 網路家庭所擁有及經營的網站與行動應用程式包含PChome Online網路家庭、PChome 24h購物、PChome全球購物、PChome書店之電腦版及手機版網站、PChome 24h購物APP，當您使用PChome 網路家庭相關網站與行動應用程式所提供之任一服務或與之互動時，代表您同意PChome 網路家庭根據本隱私權聲明所述內容，對您的個人資料進行蒐集、處理及利用。",
           "7",
           "Conditions for consent",
           "non-compliant"
          ],
          [
           "PChome 網路家庭可能會處理與位於歐盟境內之個人相關資料，並可能透過遵循相關法規所訂之機制從歐盟境內傳輸該等資訊，相關法規所訂之機制包括依歐盟標準契約條款制定的資料處理協議。當您使用PChome 網路家庭的服務，即表示您同意我們將與您相關的資訊傳輸到這些國家/地區。",
           "44",
           "Chapter V GDPR (Transfers of personal data to third countries or international organisations)",
           "compliant"
          ],
          [
           "PChome 網路家庭可能會處理與位於歐盟境內之個人相關資料，並可能透過遵循相關法規所訂之機制從歐盟境內傳輸該等資訊，相關法規所訂之機制包括依歐盟標準契約條款制定的資料處理協議。當您使用PChome 網路家庭的服務，即表示您同意我們將與您相關的資訊傳輸到這些國家/地區。",
           "45",
           "Chapter V GDPR (Transfers of personal data to third countries or international organisations)",
           "compliant"
          ],
          [
           "PChome 網路家庭可能會處理與位於歐盟境內之個人相關資料，並可能透過遵循相關法規所訂之機制從歐盟境內傳輸該等資訊，相關法規所訂之機制包括依歐盟標準契約條款制定的資料處理協議。當您使用PChome 網路家庭的服務，即表示您同意我們將與您相關的資訊傳輸到這些國家/地區。",
           "46",
           "Chapter V GDPR (Transfers of personal data to third countries or international organisations)",
           "compliant"
          ],
          [
           "無論您所居住的國家/地區為何，您都同意授權PChome 網路家庭根據本隱私權聲明在您所居住國家/地區以外之處蒐集、傳輸、處理、儲存和使用您的個人資料，以便向您提供服務。",
           "44",
           "Chapter V GDPR (Transfers of personal data to third countries or international organisations), Article 6 - Lawfulness of processing, Article 7 - Conditions for consent",
           "non-compliant"
          ],
          [
           "無論您所居住的國家/地區為何，您都同意授權PChome 網路家庭根據本隱私權聲明在您所居住國家/地區以外之處蒐集、傳輸、處理、儲存和使用您的個人資料，以便向您提供服務。",
           "45",
           "Chapter V GDPR (Transfers of personal data to third countries or international organisations), Article 6 - Lawfulness of processing, Article 7 - Conditions for consent",
           "non-compliant"
          ],
          [
           "無論您所居住的國家/地區為何，您都同意授權PChome 網路家庭根據本隱私權聲明在您所居住國家/地區以外之處蒐集、傳輸、處理、儲存和使用您的個人資料，以便向您提供服務。",
           "46",
           "Chapter V GDPR (Transfers of personal data to third countries or international organisations), Article 6 - Lawfulness of processing, Article 7 - Conditions for consent",
           "non-compliant"
          ],
          [
           "無論您所居住的國家/地區為何，您都同意授權PChome 網路家庭根據本隱私權聲明在您所居住國家/地區以外之處蒐集、傳輸、處理、儲存和使用您的個人資料，以便向您提供服務。",
           "6",
           "Chapter V GDPR (Transfers of personal data to third countries or international organisations), Article 6 - Lawfulness of processing, Article 7 - Conditions for consent",
           "non-compliant"
          ],
          [
           "無論您所居住的國家/地區為何，您都同意授權PChome 網路家庭根據本隱私權聲明在您所居住國家/地區以外之處蒐集、傳輸、處理、儲存和使用您的個人資料，以便向您提供服務。",
           "7",
           "Chapter V GDPR (Transfers of personal data to third countries or international organisations), Article 6 - Lawfulness of processing, Article 7 - Conditions for consent",
           "non-compliant"
          ],
          [
           "PChome 網路家庭網站與行動應用程式內可能包含許多連結、或其他合作夥伴所提供的服務，關於該等連結網站或合作夥伴網站的隱私權聲明及與個人資料保護有關之告知事項，請參閱各該連結網站或合作夥伴網站。",
           "13",
           "Article 13 - Information to be provided where personal data are collected from the data subject, Article 14 - Information to be provided where personal data have not been obtained from the data subject",
           "non-compliant"
          ],
          [
           "PChome 網路家庭網站與行動應用程式內可能包含許多連結、或其他合作夥伴所提供的服務，關於該等連結網站或合作夥伴網站的隱私權聲明及與個人資料保護有關之告知事項，請參閱各該連結網站或合作夥伴網站。",
           "14",
           "Article 13 - Information to be provided where personal data are collected from the data subject, Article 14 - Information to be provided where personal data have not been obtained from the data subject",
           "non-compliant"
          ],
          [
           "個人資料蒐集之方式\nPChome 網路家庭將透過下列方式蒐集您的個人資料：\n當您申請註冊成為PChome 網路家庭之會員時；\n當您使用PChome 網路家庭網站與行動應用程式所提供的各項服務時；\n當您於PChome 網路家庭所經營之網站、APP進行網路購物時；\n當您參與PChome 網路家庭與其他合作夥伴辦理的贈獎活動、行銷活動時，PChome 網路家庭或合作夥伴將請您依照各該網站或活動頁面的指示提供必要的資料，其中即會包含您的個人資料。",
           "5",
           "Article 5 - Principles relating to processing of personal data, Article 6 - Lawfulness of processing",
           "non-compliant"
          ],
          [
           "個人資料蒐集之方式\nPChome 網路家庭將透過下列方式蒐集您的個人資料：\n當您申請註冊成為PChome 網路家庭之會員時；\n當您使用PChome 網路家庭網站與行動應用程式所提供的各項服務時；\n當您於PChome 網路家庭所經營之網站、APP進行網路購物時；\n當您參與PChome 網路家庭與其他合作夥伴辦理的贈獎活動、行銷活動時，PChome 網路家庭或合作夥伴將請您依照各該網站或活動頁面的指示提供必要的資料，其中即會包含您的個人資料。",
           "6",
           "Article 5 - Principles relating to processing of personal data, Article 6 - Lawfulness of processing",
           "non-compliant"
          ],
          [
           "「活動中獎通知、贈品配送」：為了確保您得接收所參與活動之中獎通知、寄送贈品及依法開立扣繳憑單，PChome 網路家庭將會自行利用、或將您所提供的個人資料提供予該活動之合作夥伴包括活動協辦單位、贈品供貨商及配送物流業者，用於寄發中獎通知、寄送贈品及依法開立扣繳憑單予您。",
           "6(1)(b)",
           "Processing is lawful if it is necessary for the performance of a contract to which the data subject is party or in order to take steps at the request of the data subject prior to entering into a contract (for prize notification and delivery). Processing is lawful if it is necessary for compliance with a legal obligation to which the controller is subject (for tax reporting).",
           "compliant"
          ],
          [
           "「活動中獎通知、贈品配送」：為了確保您得接收所參與活動之中獎通知、寄送贈品及依法開立扣繳憑單，PChome 網路家庭將會自行利用、或將您所提供的個人資料提供予該活動之合作夥伴包括活動協辦單位、贈品供貨商及配送物流業者，用於寄發中獎通知、寄送贈品及依法開立扣繳憑單予您。",
           "6(1)(c)",
           "Processing is lawful if it is necessary for the performance of a contract to which the data subject is party or in order to take steps at the request of the data subject prior to entering into a contract (for prize notification and delivery). Processing is lawful if it is necessary for compliance with a legal obligation to which the controller is subject (for tax reporting).",
           "compliant"
          ],
          [
           "「其他業務附隨事項」：為了完成上述目的，包括但不限於客戶管理與服務、履行法定或合約義務、保護當事人及相關利害關係人之權益、財產保險、責任保險、提供售後服務等，PChome 網路家庭將在必要的範圍內自行利用或將您所提供的個人資料提供予合作廠商、委託辦理相關業務之業者以符合個人資料保護法規定的方式利用您所提供的個人資料。PChome 網路家庭將會執行必要的監督，以確保您的個人資料安全。",
           "6(1)(f)",
           "Relying on legitimate interests for such a broad range of purposes without specific details is unlikely to be lawful. The policy lacks transparency regarding the specific legitimate interests pursued, the categories of recipients, and the types of data processed. It should clearly specify the legal basis for each purpose and provide specific information about data sharing.",
           "non-compliant"
          ],
          [
           "「其他業務附隨事項」：為了完成上述目的，包括但不限於客戶管理與服務、履行法定或合約義務、保護當事人及相關利害關係人之權益、財產保險、責任保險、提供售後服務等，PChome 網路家庭將在必要的範圍內自行利用或將您所提供的個人資料提供予合作廠商、委託辦理相關業務之業者以符合個人資料保護法規定的方式利用您所提供的個人資料。PChome 網路家庭將會執行必要的監督，以確保您的個人資料安全。",
           "13",
           "Relying on legitimate interests for such a broad range of purposes without specific details is unlikely to be lawful. The policy lacks transparency regarding the specific legitimate interests pursued, the categories of recipients, and the types of data processed. It should clearly specify the legal basis for each purpose and provide specific information about data sharing.",
           "non-compliant"
          ],
          [
           "「其他業務附隨事項」：為了完成上述目的，包括但不限於客戶管理與服務、履行法定或合約義務、保護當事人及相關利害關係人之權益、財產保險、責任保險、提供售後服務等，PChome 網路家庭將在必要的範圍內自行利用或將您所提供的個人資料提供予合作廠商、委託辦理相關業務之業者以符合個人資料保護法規定的方式利用您所提供的個人資料。PChome 網路家庭將會執行必要的監督，以確保您的個人資料安全。",
           "14",
           "Relying on legitimate interests for such a broad range of purposes without specific details is unlikely to be lawful. The policy lacks transparency regarding the specific legitimate interests pursued, the categories of recipients, and the types of data processed. It should clearly specify the legal basis for each purpose and provide specific information about data sharing.",
           "non-compliant"
          ],
          [
           "「市場分析」：為了提升服務品質，依照您在PChome 網路家庭網站內的瀏覽活動例如：使用者所使用的軟硬體、所點選的網頁等、以及行動應用程式之使用紀錄等資料，PChome 網路家庭將會把這些資料及記錄用於流量分析和網路行為調查，包含透過第三方使用cookie或類似技術，以便於改善PChome 網路家庭相關網站與行動應用程式的服務品質，這些資料也只是總量上的分析，不會和特定個人相連繫。",
           "5(1)(a)",
           "While analyzing aggregated data for service improvement might be acceptable, using cookies or similar technologies to track browsing activity requires a legal basis, typically consent. The policy should clearly explain how consent is obtained, what specific data is collected, and the purposes of processing. It should also inform users about their right to withdraw consent.",
           "non-compliant"
          ],
          [
           "「市場分析」：為了提升服務品質，依照您在PChome 網路家庭網站內的瀏覽活動例如：使用者所使用的軟硬體、所點選的網頁等、以及行動應用程式之使用紀錄等資料，PChome 網路家庭將會把這些資料及記錄用於流量分析和網路行為調查，包含透過第三方使用cookie或類似技術，以便於改善PChome 網路家庭相關網站與行動應用程式的服務品質，這些資料也只是總量上的分析，不會和特定個人相連繫。",
           "7(4)",
           "While analyzing aggregated data for service improvement might be acceptable, using cookies or similar technologies to track browsing activity requires a legal basis, typically consent. The policy should clearly explain how consent is obtained, what specific data is collected, and the purposes of processing. It should also inform users about their right to withdraw consent.",
           "non-compliant"
          ],
          [
           "PChome 網路家庭將於您啟用LBS服務時將您的裝置位置、GPS定位位置座標資料提供予與PChome 網路家庭合作LBS服務之其他廠商，使合作廠商於判斷您的所在位置及距離後提供適合您的店家/商品服務營運及優惠訊息。",
           "6(1)(a)",
           "Lawfulness of processing based on consent; Conditions for consent",
           "compliant"
          ],
          [
           "PChome 網路家庭將於您啟用LBS服務時將您的裝置位置、GPS定位位置座標資料提供予與PChome 網路家庭合作LBS服務之其他廠商，使合作廠商於判斷您的所在位置及距離後提供適合您的店家/商品服務營運及優惠訊息。",
           "7(4)",
           "Lawfulness of processing based on consent; Conditions for consent",
           "compliant"
          ],
          [
           "PChome 網路家庭將依照本隱私權聲明所載之個人資料蒐集的特定目的(...)持續保管、處理及利用所蒐集之個人資料。",
           "5(1)(b)",
           "Principles relating to processing of personal data (storage limitation)",
           "compliant"
          ],
          [
           "PChome 網路家庭將於您啟用LBS服務時將您的裝置位置、GPS定位位置座標資料提供予與PChome 網路家庭合作LBS服務之其他廠商",
           "5(1)(c)",
           "Principles relating to processing of personal data (data minimization)",
           "non-compliant"
          ],
          [
           "利用對象：依照前述『個人資料的利用』所說明，PChome 網路家庭將自行利用、於PChome 網路家庭之關係企業間分享及交互運用、或依照提供予您的各該服務或所參加活動所須之範圍內，將您的個人資料提供予必要的相關合作夥伴或委託辦理相關業務之業者。",
           "12(1)",
           "Transparent information, communication and modalities for the exercise of the rights of the data subject; Information to be provided where personal data are collected from the data subject; Right of access by the data subject",
           "non-compliant"
          ],
          [
           "利用對象：依照前述『個人資料的利用』所說明，PChome 網路家庭將自行利用、於PChome 網路家庭之關係企業間分享及交互運用、或依照提供予您的各該服務或所參加活動所須之範圍內，將您的個人資料提供予必要的相關合作夥伴或委託辦理相關業務之業者。",
           "13(1)(f)",
           "Transparent information, communication and modalities for the exercise of the rights of the data subject; Information to be provided where personal data are collected from the data subject; Right of access by the data subject",
           "non-compliant"
          ],
          [
           "利用對象：依照前述『個人資料的利用』所說明，PChome 網路家庭將自行利用、於PChome 網路家庭之關係企業間分享及交互運用、或依照提供予您的各該服務或所參加活動所須之範圍內，將您的個人資料提供予必要的相關合作夥伴或委託辦理相關業務之業者。",
           "14(1)",
           "Transparent information, communication and modalities for the exercise of the rights of the data subject; Information to be provided where personal data are collected from the data subject; Right of access by the data subject",
           "non-compliant"
          ],
          [
           "除法令另有規定外，PChome 網路家庭僅會基於您授權的範圍，於PChome 網路家庭服務所提供之領域及地區內，依照各該服務目的範圍為作業之必要，利用您所提供的個人資料。",
           "44",
           "General principles for transfers",
           "non-compliant"
          ],
          [
           "當您參加PChome 網路家庭與其他廠商合作辦理的贈獎活動、行銷活動時，PChome 網路家庭或其合作廠商將請您提供為了使您能參加活動所需的相關資料，包括但不限於前述之基本資料、配送資料等。",
           "6(1)(a)",
           "Lawfulness of processing - Consent, Conditions for consent",
           "compliant"
          ],
          [
           "當您參加PChome 網路家庭與其他廠商合作辦理的贈獎活動、行銷活動時，PChome 網路家庭或其合作廠商將請您提供為了使您能參加活動所需的相關資料，包括但不限於前述之基本資料、配送資料等。",
           "7(4)",
           "Lawfulness of processing - Consent, Conditions for consent",
           "compliant"
          ],
          [
           "當您同意啟動PChome 網路家庭或與PChome 網路家庭合作之其他廠商提供的移動定位服務Location Based Service，以下稱LBS服務或收藏店家/商品服務，PChome 網路家庭將分別依據您的網際網路協定IP位址、裝置位置資訊、GPS定位位置及收藏店家/商品服務銷售情形，不定時以推播方式發布收藏店家/商品服務優惠訊息或顯示收藏店家目前營運情況至您啟用LBS服務之裝置中。",
           "6(1)(a)",
           "Lawfulness of processing - Consent, Conditions for consent",
           "compliant"
          ],
          [
           "當您同意啟動PChome 網路家庭或與PChome 網路家庭合作之其他廠商提供的移動定位服務Location Based Service，以下稱LBS服務或收藏店家/商品服務，PChome 網路家庭將分別依據您的網際網路協定IP位址、裝置位置資訊、GPS定位位置及收藏店家/商品服務銷售情形，不定時以推播方式發布收藏店家/商品服務優惠訊息或顯示收藏店家目前營運情況至您啟用LBS服務之裝置中。",
           "7(4)",
           "Lawfulness of processing - Consent, Conditions for consent",
           "compliant"
          ],
          [
           "此外，為提升服務品質，PChome 網路家庭會依照PChome 網路家庭相關網站或行動應用程式所提供服務之性質，記錄您的網際網路協定IP位址、裝置位置資訊、GPS定位位置、您在PChome 網路家庭相關網站內的瀏覽活動例如，使用者所使用的軟硬體、所點選的網頁、以及行動應用程式之使用紀錄等資料，這些資料將作為流量總量分析、網路行為調查和提供個人化服務之用，以便於改善PChome 網路家庭相關網站與行動應用程式的服務品質並提供予您最適合的個人化服務。",
           "6(1)",
           "Lawfulness of processing, Principles relating to processing of personal data - Purpose limitation",
           "non-compliant"
          ],
          [
           "此外，為提升服務品質，PChome 網路家庭會依照PChome 網路家庭相關網站或行動應用程式所提供服務之性質，記錄您的網際網路協定IP位址、裝置位置資訊、GPS定位位置、您在PChome 網路家庭相關網站內的瀏覽活動例如，使用者所使用的軟硬體、所點選的網頁、以及行動應用程式之使用紀錄等資料，這些資料將作為流量總量分析、網路行為調查和提供個人化服務之用，以便於改善PChome 網路家庭相關網站與行動應用程式的服務品質並提供予您最適合的個人化服務。",
           "5(1)(a)",
           "Lawfulness of processing, Principles relating to processing of personal data - Purpose limitation",
           "non-compliant"
          ],
          [
           "經事先向您說明，並經過您的同意；",
           "6(1)(a)",
           "Consent of the data subject; lawfulness of processing",
           "compliant"
          ],
          [
           "經事先向您說明，並經過您的同意；",
           "7",
           "Consent of the data subject; lawfulness of processing",
           "compliant"
          ],
          [
           "為完成提供服務或履行合約義務之必要；",
           "6(1)(b)",
           "Necessity to perform a contract",
           "compliant"
          ],
          [
           "依照相關法令規定或有權主管機關之命令或要求；",
           "6(1)(c)",
           "Necessity for compliance with a legal obligation",
           "compliant"
          ],
          [
           "在緊急情況下，為了維護您及其他PChome 網路家庭會員或第三人之合法權益；",
           "6(1)(d)",
           "Protecting the vital interests of the data subject or of another natural person",
           "compliant"
          ],
          [
           "請求查詢、閱覽、給予複本，但PChome 網路家庭得酌收必要成本和費用。",
           "12(b)",
           "Right of access; Right to obtain a copy; reasonable fees",
           "compliant"
          ],
          [
           "請求查詢、閱覽、給予複本，但PChome 網路家庭得酌收必要成本和費用。",
           "15(1)",
           "Right of access; Right to obtain a copy; reasonable fees",
           "compliant"
          ],
          [
           "請求查詢、閱覽、給予複本，但PChome 網路家庭得酌收必要成本和費用。",
           "15(3)",
           "Right of access; Right to obtain a copy; reasonable fees",
           "compliant"
          ],
          [
           "當您的個人資料有變更、或發現您的個人資料不正確時，要求修改或更正。",
           "16",
           "Right to rectification",
           "compliant"
          ],
          [
           "當蒐集個人資料之目的消失或期限屆滿時，您可要求停止蒐集、處理或利用以及刪除個人資料",
           "17(1)(a)",
           "Right to erasure (right to be forgotten)",
           "compliant"
          ],
          [
           "當蒐集個人資料之目的消失或期限屆滿時，您可要求停止蒐集、處理或利用以及刪除個人資料",
           "17(1)(b)",
           "Right to erasure (right to be forgotten)",
           "compliant"
          ],
          [
           "因協助辦理保險事故出險而提供給保險人；",
           "6(1)",
           "Lawfulness of processing; special categories of personal data",
           "non-compliant"
          ],
          [
           "因協助辦理保險事故出險而提供給保險人；",
           "9(2)",
           "Lawfulness of processing; special categories of personal data",
           "non-compliant"
          ],
          [
           "為了維持PChome 網路家庭會員服務系統正常運作；或",
           "6(1)(f)",
           "Legitimate interests",
           "non-compliant"
          ],
          [
           "有合於個人資料保護法第20條但書規定，得為特定目的外之利用之情況。",
           "Not directly applicable",
           "GDPR does not have a directly equivalent provision",
           "non-compliant"
          ],
          [
           "但因PChome 網路家庭執行職務或業務所必須，或依相關法令規定，該等資料不適用於刪除權之行使時，不在此限。",
           "17(3)",
           "Limitations on the right to erasure",
           "non-compliant"
          ],
          [
           "使用者可以經由瀏覽器的設定，取消、或限制此項功能，但可能因此無法使用部份網站功能。若您想知道如何取消、或限制此項功能，可與PChome 網路家庭服務中心聯絡，或參照您所使用的瀏覽器關於如何管理cookie的相關說明。",
           "7 (Right to withdraw consent)",
           "Data subjects have the right to withdraw consent at any time. It should be as easy to withdraw as to give consent.  \n\nConsent is only valid if it is freely given, specific, informed and unambiguous indication of the data subject's wishes.",
           "compliant"
          ],
          [
           "使用者可以經由瀏覽器的設定，取消、或限制此項功能，但可能因此無法使用部份網站功能。若您想知道如何取消、或限制此項功能，可與PChome 網路家庭服務中心聯絡，或參照您所使用的瀏覽器關於如何管理cookie的相關說明。",
           "Recital 32",
           "Data subjects have the right to withdraw consent at any time. It should be as easy to withdraw as to give consent.  \n\nConsent is only valid if it is freely given, specific, informed and unambiguous indication of the data subject's wishes.",
           "compliant"
          ],
          [
           "如您欲行使上述的這些權力，或有其他諮詢事項，請與PChome 網路家庭服務中心聯絡support@pchome.tw。",
           "12-22",
           "The data subject should be able to exercise their rights by automated means, where applicable, and with minimal effort.",
           "non-compliant"
          ],
          [
           "為了便利使用者，PChome 網路家庭網站可能使用cookie技術，以便於提供更適合使用者個人需要的服務；cookie是網站伺服器用來和使用者瀏覽器進行溝通的一種技術，它可能在使用者的電腦中儲存某些資訊，PChome 網路家庭網站也會讀取儲存在使用者電腦中的cookie資料。",
           "7 (Conditions for consent)",
           "Consent should not be bundled in with other terms and conditions, and silence, pre-ticked boxes or inactivity should not constitute consent.",
           "non-compliant"
          ],
          [
           "為了便利使用者，PChome 網路家庭網站可能使用cookie技術，以便於提供更適合使用者個人需要的服務；cookie是網站伺服器用來和使用者瀏覽器進行溝通的一種技術，它可能在使用者的電腦中儲存某些資訊，PChome 網路家庭網站也會讀取儲存在使用者電腦中的cookie資料。",
           "Recital 42",
           "Consent should not be bundled in with other terms and conditions, and silence, pre-ticked boxes or inactivity should not constitute consent.",
           "non-compliant"
          ],
          [
           "影響 依照各該服務之性質，為使相關服務得以順利提供、或使相關交易得以順利完成或履行完畢，若您不願意提供各該服務或交易所要求的相關個人資料予PChome 網路家庭，並同意PChome 網路家庭就該等個人資料依法令規定、以及本隱私權聲明及其相關告知內容為相關之個人資料蒐集、處理、利用及國際傳輸，PChome 網路家庭將尊重您的決定，但依照各該服務之性質或條件，您可能因此無法使用該等服務或完成相關交易，PChome 網路家庭並保留是否同意提供該等相關服務或完成相關交易之權利。",
           "6 (Lawfulness of processing)",
           "Data processing is only lawful if there is a legal basis for it.  Consent should not be the only legal basis for processing in a situation where there is a clear imbalance between the data subject and the controller.",
           "non-compliant"
          ],
          [
           "影響 依照各該服務之性質，為使相關服務得以順利提供、或使相關交易得以順利完成或履行完畢，若您不願意提供各該服務或交易所要求的相關個人資料予PChome 網路家庭，並同意PChome 網路家庭就該等個人資料依法令規定、以及本隱私權聲明及其相關告知內容為相關之個人資料蒐集、處理、利用及國際傳輸，PChome 網路家庭將尊重您的決定，但依照各該服務之性質或條件，您可能因此無法使用該等服務或完成相關交易，PChome 網路家庭並保留是否同意提供該等相關服務或完成相關交易之權利。",
           "Recital 43",
           "Data processing is only lawful if there is a legal basis for it.  Consent should not be the only legal basis for processing in a situation where there is a clear imbalance between the data subject and the controller.",
           "non-compliant"
          ],
          [
           "PChome 網路家庭所蒐集的足以識別您身分的個人資料，PChome 網路家庭將依照蒐集目的之不同，以下列方式進行利用：",
           "6(1)(b)",
           "Data must be collected for specified, explicit, and legitimate purposes and not further processed in a manner that is incompatible with those purposes. Data subjects must be informed of the purposes of processing at the time the data is collected.",
           "compliant"
          ],
          [
           "PChome 網路家庭所蒐集的足以識別您身分的個人資料，PChome 網路家庭將依照蒐集目的之不同，以下列方式進行利用：",
           "13(1)(c)",
           "Data must be collected for specified, explicit, and legitimate purposes and not further processed in a manner that is incompatible with those purposes. Data subjects must be informed of the purposes of processing at the time the data is collected.",
           "compliant"
          ],
          [
           "「廣告行銷」：為了會員經營、並提供PChome 網路家庭相關網站會員訊息通知及投放商品推薦、廣告或活動相關資訊，PChome 網路家庭將利用您所提供的個人資料自行或透過合作夥伴、委託辦理相關業務之業者寄發相關行銷資訊予您；",
           "6(1)(a)",
           "Consent of the data subject is a lawful basis for processing. Consent must be freely given, specific, informed and unambiguous indication of the data subject's wishes.",
           "compliant"
          ],
          [
           "「廣告行銷」：為了會員經營、並提供PChome 網路家庭相關網站會員訊息通知及投放商品推薦、廣告或活動相關資訊，PChome 網路家庭將利用您所提供的個人資料自行或透過合作夥伴、委託辦理相關業務之業者寄發相關行銷資訊予您；",
           "7(4)",
           "Consent of the data subject is a lawful basis for processing. Consent must be freely given, specific, informed and unambiguous indication of the data subject's wishes.",
           "compliant"
          ],
          [
           "「商品配送」：為了將您所訂購的商品順利送達至您所指定的收件地點，PChome 網路家庭將會把您所提供的個人資料提供予PChome 網路家庭之合作夥伴，包括您所訂購商品之供貨商或PChome 網路家庭所認可之物流業者。",
           "6(1)(b)",
           "Processing is lawful if it is necessary for the performance of a contract to which the data subject is party or in order to take steps at the request of the data subject prior to entering into a contract.",
           "compliant"
          ],
          [
           "「商品配送」：為了將您所訂購的商品順利送達至您所指定的收件地點，PChome 網路家庭將會把您所提供的個人資料提供予PChome 網路家庭之合作夥伴，包括您所訂購商品之供貨商或PChome 網路家庭所認可之物流業者。",
           "13(1)(c)",
           "Processing is lawful if it is necessary for the performance of a contract to which the data subject is party or in order to take steps at the request of the data subject prior to entering into a contract.",
           "compliant"
          ],
          [
           "「金融交易授權」：為了完成您在PChome 網路家庭各網站所成立之訂單的付款作業流程，PChome 網路家庭將於交易過程中將您所提供得識別財務之資料提供予必要之相關金融機構。",
           "6(1)(b)",
           "Processing is lawful if it is necessary for the performance of a contract to which the data subject is party or in order to take steps at the request of the data subject prior to entering into a contract.",
           "compliant"
          ],
          [
           "「金融交易授權」：為了完成您在PChome 網路家庭各網站所成立之訂單的付款作業流程，PChome 網路家庭將於交易過程中將您所提供得識別財務之資料提供予必要之相關金融機構。",
           "13(1)(c)",
           "Processing is lawful if it is necessary for the performance of a contract to which the data subject is party or in order to take steps at the request of the data subject prior to entering into a contract.",
           "compliant"
          ],
          [
           "當您透過PChome 網路家庭相關網站或行動應用程式進行交易，為提供客戶服務時，PChome 網路家庭或其委託辦理相關業務之業者將請您提供相關查詢資料，包括：訂購人/收件人之姓名、電話、地址、訂購人之電子郵件、訂購帳號及其他必要的相關資料。",
           "5(1)(c)",
           "Data minimization: Personal data shall be adequate, relevant and limited to what is necessary in relation to the purposes for which they are processed ('data minimization').\nTransparent information, communication and modalities for the exercise of the rights of the data subject: The controller shall take appropriate measures to provide any information referred to in Articles 13 and 14 and any communication under Articles 15 to 22 and 34 relating to processing to the data subject in a concise, transparent, intelligible and easily accessible form, using clear and plain language.",
           "non-compliant"
          ],
          [
           "當您透過PChome 網路家庭相關網站或行動應用程式進行交易，為提供客戶服務時，PChome 網路家庭或其委託辦理相關業務之業者將請您提供相關查詢資料，包括：訂購人/收件人之姓名、電話、地址、訂購人之電子郵件、訂購帳號及其他必要的相關資料。",
           "12(1)",
           "Data minimization: Personal data shall be adequate, relevant and limited to what is necessary in relation to the purposes for which they are processed ('data minimization').\nTransparent information, communication and modalities for the exercise of the rights of the data subject: The controller shall take appropriate measures to provide any information referred to in Articles 13 and 14 and any communication under Articles 15 to 22 and 34 relating to processing to the data subject in a concise, transparent, intelligible and easily accessible form, using clear and plain language.",
           "non-compliant"
          ],
          [
           "當您透過PChome 網路家庭相關網站或行動應用程式進行交易，為提供客戶服務時，PChome 網路家庭或其委託辦理相關業務之業者將請您提供相關查詢資料，包括：訂購人/收件人之姓名、電話、地址、訂購人之電子郵件、訂購帳號及其他必要的相關資料。",
           "13(1)(d)",
           "Data minimization: Personal data shall be adequate, relevant and limited to what is necessary in relation to the purposes for which they are processed ('data minimization').\nTransparent information, communication and modalities for the exercise of the rights of the data subject: The controller shall take appropriate measures to provide any information referred to in Articles 13 and 14 and any communication under Articles 15 to 22 and 34 relating to processing to the data subject in a concise, transparent, intelligible and easily accessible form, using clear and plain language.",
           "non-compliant"
          ],
          [
           "「廣告行銷」：為了會員經營、並提供PChome 網路家庭相關網站會員訊息通知及投放商品推薦、廣告或活動相關資訊，PChome 網路家庭將利用您所提供的個人資料自行或透過合作夥伴、委託辦理相關業務之業者寄發相關行銷資訊予您；",
           "6(1)(a)",
           "Consent of the data subject is a lawful basis for processing. Consent must be freely given, specific, informed and unambiguous indication of the data subject's wishes.",
           "non-compliant"
          ],
          [
           "「廣告行銷」：為了會員經營、並提供PChome 網路家庭相關網站會員訊息通知及投放商品推薦、廣告或活動相關資訊，PChome 網路家庭將利用您所提供的個人資料自行或透過合作夥伴、委託辦理相關業務之業者寄發相關行銷資訊予您；",
           "7(4)",
           "Consent of the data subject is a lawful basis for processing. Consent must be freely given, specific, informed and unambiguous indication of the data subject's wishes.",
           "non-compliant"
          ],
          [
           "PChome 網路家庭會依照提供予您的各該服務、活動的性質，於下列之特定目的範圍內，蒐集、處理、利用及傳輸您的個人資料",
           "5",
           "Data must be collected for specified, explicit, and legitimate purposes and not further processed in a manner that is incompatible with those purposes.",
           "compliant"
          ],
          [
           "PChome 網路家庭會依照提供予您的各該服務、活動的性質，於下列之特定目的範圍內，蒐集、處理、利用及傳輸您的個人資料",
           "6",
           "Data must be collected for specified, explicit, and legitimate purposes and not further processed in a manner that is incompatible with those purposes.",
           "compliant"
          ],
          [
           "蒐集方式將透過加入會員、線上訂購、線上留言、線上同意活動說明、來信客服信箱方式進行個人資料之蒐集",
           "7",
           "The data subject must have consented to the processing of his or her personal data for one or more specific purposes",
           "compliant"
          ],
          [
           "PChome 網路家庭得將向您蒐集到之個人資料提供予合作夥伴或是自各活動的合作夥伴處取得您的個人資料；\n會員服務及顧客意見處理；\n委託第三人蒐集您的個人資料；\n其他。",
           "6",
           "Data must be collected for specified, explicit, and legitimate purposes and not further processed in a manner that is incompatible with those purposes.",
           "non-compliant"
          ],
          [
           "個人資料蒐集之目的\nPChome 網路家庭會依照提供予您的各該服務、活動的性質，於下列之特定目的範圍內，蒐集、處理、利用及傳輸您的個人資料：\n人身保險\n行銷包括為辦理贈獎活動而須確認得獎者身份、提供贈品及依法開立扣繳憑單等\n非公務機關依法定義務所進行個人資料之蒐集處理及利用\n信用卡、現金卡、轉帳卡、金融卡或電子票證業務\n契約、類似契約或其他法律關係事務包括履行法定或合約義務\n訂位、住宿登記與購票業務\n消費者、客戶管理與服務包括售後服務\n消費者保護\n財產保險及責任保險\n商業與技術資訊\n採購與供應管理\n票券業務\n智慧財產權、光碟管理及其他相關行政\n傳播行政與管理\n會計與相關服務\n經營傳播業務\n資通訊服務\n資通訊與資料庫管理\n網路購物及其他電子商務服務\n廣告或商業行為管理\n調查、統計與研究分析\n其他公務機關對目的事業之監督管理\n其他自然人基於正當性目的所進行個人資料之蒐集處理及利用",
           "6",
           "Data must be collected for specified, explicit, and legitimate purposes and not further processed in a manner that is incompatible with those purposes.",
           "non-compliant"
          ],
          [
           "個人資料蒐集之類別\nPChome 網路家庭將依照PChome 網路家庭相關網站與行動應用程式所提供之服務的性質，向您蒐集以下資料：\n辨識個人者：包括但不限於姓名、職稱、住址、工作地址、以前地址、住家電話號碼、行動電話、即時通訊軟體帳號、社群媒體帳號、網路平臺申請之帳號、通訊及戶籍地址、電子郵件地址、網際網路協定IP位址、裝置位置資訊、GPS定位位置、Cookie及其他任何可辨識資料本人者等。",
           "5",
           "Data minimization: Personal data shall be adequate, relevant and limited to what is necessary in relation to the purposes for which they are processed.",
           "non-compliant"
          ],
          [
           "本網站產品已投保富邦產物產品責任保險$250,000,000元。保險證號：0525字第22AML003989號",
           "12-14",
           "The policy does not provide information in a concise, transparent, intelligible and easily accessible form, using clear and plain language. It lacks specific details about data collection, processing, and user rights.",
           "non-compliant"
          ],
          [
           "本網站產品已投保富邦產物產品責任保險$250,000,000元。保險證號：0525字第22AML003989號",
           "15",
           "The policy does not provide information in a concise, transparent, intelligible and easily accessible form, using clear and plain language. It lacks specific details about data collection, processing, and user rights.",
           "non-compliant"
          ],
          [
           "本網站採用 reCAPTCHA 保護機制",
           "5(1)(f)",
           "While reCAPTCHA use is legitimate for security, the policy lacks details about data processing by Google as a third party. It doesn't demonstrate accountability for data protection during reCAPTCHA use.",
           "non-compliant"
          ],
          [
           "本網站採用 reCAPTCHA 保護機制",
           "24",
           "While reCAPTCHA use is legitimate for security, the policy lacks details about data processing by Google as a third party. It doesn't demonstrate accountability for data protection during reCAPTCHA use.",
           "non-compliant"
          ],
          [
           "隱私權 條款",
           "12-14",
           "The policy lacks substance. It doesn't specify data processing practices, retention policies, data sharing, or security measures taken to protect personal data.",
           "non-compliant"
          ],
          [
           "隱私權 條款",
           "32",
           "The policy lacks substance. It doesn't specify data processing practices, retention policies, data sharing, or security measures taken to protect personal data.",
           "non-compliant"
          ],
          [
           "PChome 網路家庭有權隨時修訂本隱私權聲明及相關告知事項，並得於修訂後公佈在PChome 網路家庭網站上或行動應用程式之適當位置，不另行個別通知，您可以隨時在PChome 網路家庭網站上或行動應用程式詳閱修訂後的隱私權聲明及相關告知事項。",
           "13(2)",
           "Right to rectification, Right to be informed",
           "compliant"
          ],
          [
           "PChome 網路家庭有權隨時修訂本隱私權聲明及相關告知事項，並得於修訂後公佈在PChome 網路家庭網站上或行動應用程式之適當位置，不另行個別通知，您可以隨時在PChome 網路家庭網站上或行動應用程式詳閱修訂後的隱私權聲明及相關告知事項。",
           "14(2)",
           "Right to rectification, Right to be informed",
           "compliant"
          ],
          [
           "請妥善保管您的任何個人資料。於使用各類網路服務時，不要隨意將您的個人資料提供給不知名的第三人。在您經由網路提供或完成相關個人資料更動等程序後，請務必記得登出，若您是與他人共享電腦或使用公共電腦，切記關閉瀏覽器視窗，以防止他人不當蒐集並利用您的個人資料。",
           "12",
           "Transparency and modalities, Information to be provided where personal data are collected from the data subject",
           "non-compliant"
          ],
          [
           "請妥善保管您的任何個人資料。於使用各類網路服務時，不要隨意將您的個人資料提供給不知名的第三人。在您經由網路提供或完成相關個人資料更動等程序後，請務必記得登出，若您是與他人共享電腦或使用公共電腦，切記關閉瀏覽器視窗，以防止他人不當蒐集並利用您的個人資料。",
           "13",
           "Transparency and modalities, Information to be provided where personal data are collected from the data subject",
           "non-compliant"
          ],
          [
           "因您使用PChome 網路家庭網站與行動應用程式所造成之爭議，您同意均以中華民國法律為準據法。除法律另有強制規定者應依其規定外，並應以臺灣臺北地方法院為第一審管轄法院。",
           "3(2)",
           "Territorial scope",
           "non-compliant"
          ],
          [
           "為執行商品配送所需者：當您透過PChome 網路家庭相關網站或行動應用程式進行交易，為提供商品配送物流服務時，PChome 網路家庭將請您提供商品/服務配送所需的配送資料，包括：收件人之姓名、連絡電話、收件/聯絡地址及其他必要的配送相關資料。",
           "6(1)(b)",
           "Processing is necessary for the performance of a contract",
           "compliant"
          ],
          [
           "為執行收付款所需之資料：當您透過PChome 網路家庭相關網站或行動應用程式進行交易，為辦理收付款金流服務時，PChome 網路家庭將留存您所提供為完成收款或付款所需之資料，包括：信用卡號碼、簽帳卡號碼、金融機構帳戶之姓名及號碼等；但若您選擇使用PChome 網路家庭相關網站內由第三方服務供應商所提供之第三方支付方式時包括但不限於Pi拍錢包、Apple Pay、Google Pay、Samsung Pay等，您因使用該等第三方支付服務所提供的相關資料之保護及管理，請參閱各該第三方服務供應商之隱私權政策。",
           "6(1)(b)",
           "Processing is necessary for the performance of a contract",
           "compliant"
          ],
          [
           "辨識財務者：包括但不限於金融機構帳戶之號碼與姓名、信用卡或簽帳卡之號碼、保險單號碼、個人之其他號碼或帳戶等。",
           "9(1)",
           "Processing of personal data revealing racial or ethnic origin, political opinions, religious or philosophical beliefs, or trade union membership, and the processing of genetic data, biometric data for the purpose of uniquely identifying a natural person, data concerning health or data concerning a natural person's sex life or sexual orientation is prohibited.",
           "non-compliant"
          ],
          [
           "辨識財務者：包括但不限於金融機構帳戶之號碼與姓名、信用卡或簽帳卡之號碼、保險單號碼、個人之其他號碼或帳戶等。",
           "10",
           "Processing of personal data revealing racial or ethnic origin, political opinions, religious or philosophical beliefs, or trade union membership, and the processing of genetic data, biometric data for the purpose of uniquely identifying a natural person, data concerning health or data concerning a natural person's sex life or sexual orientation is prohibited.",
           "non-compliant"
          ],
          [
           "政府資料中之辨識者：包括但不限於身分證統一編號、統一證號、稅籍編號、護照號碼等。",
           "9(1)",
           "Processing of personal data revealing racial or ethnic origin, political opinions, religious or philosophical beliefs, or trade union membership, and the processing of genetic data, biometric data for the purpose of uniquely identifying a natural person, data concerning health or data concerning a natural person's sex life or sexual orientation is prohibited.",
           "non-compliant"
          ],
          [
           "政府資料中之辨識者：包括但不限於身分證統一編號、統一證號、稅籍編號、護照號碼等。",
           "10",
           "Processing of personal data revealing racial or ethnic origin, political opinions, religious or philosophical beliefs, or trade union membership, and the processing of genetic data, biometric data for the purpose of uniquely identifying a natural person, data concerning health or data concerning a natural person's sex life or sexual orientation is prohibited.",
           "non-compliant"
          ],
          [
           "個人描述：包括但不限於年齡、性別、出生年月日、出生地、國籍等。",
           "5(1)(c)",
           "Data minimisation: Only collect data that is adequate, relevant and limited to what is necessary. Legitimate interest: This data is not strictly necessary for the performance of a contract and requires a legitimate interest assessment.",
           "non-compliant"
          ],
          [
           "個人描述：包括但不限於年齡、性別、出生年月日、出生地、國籍等。",
           "6(1)(f)",
           "Data minimisation: Only collect data that is adequate, relevant and limited to what is necessary. Legitimate interest: This data is not strictly necessary for the performance of a contract and requires a legitimate interest assessment.",
           "non-compliant"
          ],
          [
           "家庭情形：結婚有無等。",
           "9(1)",
           "Processing of personal data revealing racial or ethnic origin, political opinions, religious or philosophical beliefs, or trade union membership, and the processing of genetic data, biometric data for the purpose of uniquely identifying a natural person, data concerning health or data concerning a natural person's sex life or sexual orientation is prohibited.",
           "non-compliant"
          ],
          [
           "家庭情形：結婚有無等。",
           "10",
           "Processing of personal data revealing racial or ethnic origin, political opinions, religious or philosophical beliefs, or trade union membership, and the processing of genetic data, biometric data for the purpose of uniquely identifying a natural person, data concerning health or data concerning a natural person's sex life or sexual orientation is prohibited.",
           "non-compliant"
          ],
          [
           "休閒活動及興趣：包括但不限於嗜好、運動及其他興趣等。",
           "5(1)(c)",
           "Data minimisation: Only collect data that is adequate, relevant and limited to what is necessary. Legitimate interest: This data is not strictly necessary for the performance of a contract and requires a legitimate interest assessment.",
           "non-compliant"
          ],
          [
           "休閒活動及興趣：包括但不限於嗜好、運動及其他興趣等。",
           "6(1)(f)",
           "Data minimisation: Only collect data that is adequate, relevant and limited to what is necessary. Legitimate interest: This data is not strictly necessary for the performance of a contract and requires a legitimate interest assessment.",
           "non-compliant"
          ],
          [
           "This website stores cookies on your device . These cookies are used to collect information about how you interact with our website and allow us to remember you . We use this information in order to improve and customize your browsing experience and for analytics and metrics about our visitors both on this website and other media .",
           "5(1)(a)",
           "Data Minimisation, Purpose Limitation, Transparency",
           "compliant"
          ],
          [
           "This website stores cookies on your device . These cookies are used to collect information about how you interact with our website and allow us to remember you . We use this information in order to improve and customize your browsing experience and for analytics and metrics about our visitors both on this website and other media .",
           "Recital 44",
           "Data Minimisation, Purpose Limitation, Transparency",
           "compliant"
          ],
          [
           "To find out more about the cookies we use, see our Privacy Policy .",
           "12",
           "Transparency, Information to be Provided",
           "compliant"
          ],
          [
           "To find out more about the cookies we use, see our Privacy Policy .",
           "13",
           "Transparency, Information to be Provided",
           "compliant"
          ],
          [
           "To find out more about the cookies we use, see our Privacy Policy .",
           "14",
           "Transparency, Information to be Provided",
           "compliant"
          ],
          [
           "If you decline, your information won’t be tracked when you visit this website . Necessary essential cookies will be used in your browser to remember your preference not to be tracked .",
           "7(4)",
           "Conditions for Consent, Explicit Consent",
           "compliant"
          ],
          [
           "If you decline, your information won’t be tracked when you visit this website . Necessary essential cookies will be used in your browser to remember your preference not to be tracked .",
           "Recital 32",
           "Conditions for Consent, Explicit Consent",
           "compliant"
          ],
          [
           "At Appier, we are committed to protecting data privacy and prioritizing security .",
           "5(1)(f)",
           "Integrity and Confidentiality, Security of Processing",
           "compliant"
          ],
          [
           "At Appier, we are committed to protecting data privacy and prioritizing security .",
           "32",
           "Integrity and Confidentiality, Security of Processing",
           "compliant"
          ],
          [
           "Appier is doing the utmost to maintain compliance with personal data regulations and data privacy guidelines, including GDPR and ISO 27001, two of the most comprehensive data protection and information security standards in the world .",
           "5(2)",
           "Accountability, Responsibility of the Controller",
           "compliant"
          ],
          [
           "Appier is doing the utmost to maintain compliance with personal data regulations and data privacy guidelines, including GDPR and ISO 27001, two of the most comprehensive data protection and information security standards in the world .",
           "24",
           "Accountability, Responsibility of the Controller",
           "compliant"
          ],
          [
           "We employ a number of product and data security features that provide layers of protection for you and your business from threats and risks .",
           "32",
           "Security of Processing",
           "compliant"
          ],
          [
           "Appier takes issues of privacy and security with the utmost seriousness, and we work on maintaining your trust in us everyday .",
           "5(2)",
           "Accountability, Data Protection by Design and by Default",
           "compliant"
          ],
          [
           "Appier takes issues of privacy and security with the utmost seriousness, and we work on maintaining your trust in us everyday .",
           "Recital 77",
           "Accountability, Data Protection by Design and by Default",
           "compliant"
          ],
          [
           "We are aware of the sorts of backdoors and attacks unauthorized third parties may try to gain access to your sensitive information . To fend off these unauthorized access, we have equipped our products with a number of security features .",
           "32",
           "Security of Processing",
           "compliant"
          ],
          [
           "Appier’s platforms come with an audit log that allows the administrators to see who made what changes to the content on the platforms as well as control who has access to what information .",
           "30(2)",
           "Records of Processing Activities, Security of Processing",
           "compliant"
          ],
          [
           "Appier’s platforms come with an audit log that allows the administrators to see who made what changes to the content on the platforms as well as control who has access to what information .",
           "32",
           "Records of Processing Activities, Security of Processing",
           "compliant"
          ],
          [
           "Appier gives users the ability to choose which IP addresses users grant access to where the default setting is denying all addresses . This feature enables users to create an IP whitelist of addresses they trust with access .",
           "25",
           "Data Protection by Design and by Default, Security of Processing",
           "compliant"
          ],
          [
           "Appier gives users the ability to choose which IP addresses users grant access to where the default setting is denying all addresses . This feature enables users to create an IP whitelist of addresses they trust with access .",
           "32",
           "Data Protection by Design and by Default, Security of Processing",
           "compliant"
          ],
          [
           "To ensure that our customers can rest assured that their data is safe and protected when using our solutions, Appier continues to monitor the latest regulations and policies surrounding privacy and security and strives to comply with them .",
           "24",
           "Responsibility of the Controller, Data Protection by Design and by Default",
           "compliant"
          ],
          [
           "To ensure that our customers can rest assured that their data is safe and protected when using our solutions, Appier continues to monitor the latest regulations and policies surrounding privacy and security and strives to comply with them .",
           "25",
           "Responsibility of the Controller, Data Protection by Design and by Default",
           "compliant"
          ],
          [
           "We use this information in order to improve and customize your browsing experience and for analytics and metrics about our visitors both on this website and other media .",
           "6(1)",
           "Lawfulness of Processing",
           "non-compliant"
          ],
          [
           "In a time when hacks and leaks are commonplace, we understand your concerns and take measures to ensure you can use our solutions with confidence .",
           "33",
           "Notification of a Personal Data Breach to the Supervisory Authority, Communication of a Personal Data Breach to the Data Subject",
           "non-compliant"
          ],
          [
           "In a time when hacks and leaks are commonplace, we understand your concerns and take measures to ensure you can use our solutions with confidence .",
           "34",
           "Notification of a Personal Data Breach to the Supervisory Authority, Communication of a Personal Data Breach to the Data Subject",
           "non-compliant"
          ],
          [
           "Single Sign-On Appier offers users a “Single Sign-On'' (SSO) option to access its platforms . With the one set of credentials, users can securely authenticate and sign into all Appier’s platforms . The SSO eliminates the complications of having multiple sets of credentials while ensuring that all users are authenticated . Furthermore, we support multi-factor authentication for logins, making the authentication process more stringent and thus more secure .",
           "32(1)",
           "Security of Processing",
           "non-compliant"
          ],
          [
           "API, short for application programming interface, is the software intermediary that makes it possible for two applications to communicate with each other . To keep this intermediary safe, Appier adopts a principle of least privilege for its platforms and requires authentication and authorization to access any of them .",
           "32(1)",
           "Security of Processing",
           "non-compliant"
          ],
          [
           "Upon any termination, Company may, but is not obligated to, delete archived data.",
           "17",
           "Right to erasure ('right to be forgotten')",
           "compliant"
          ],
          [
           "Customer will pay in full for the Platform up to and including the last day on which the Platform is provided.",
           "131 (b)",
           "General obligation of transparency, Fairness and transparency",
           "non-compliant"
          ],
          [
           "Customer will pay in full for the Platform up to and including the last day on which the Platform is provided.",
           "29(1)",
           "General obligation of transparency, Fairness and transparency",
           "non-compliant"
          ],
          [
           "COMPANY DOES NOT WARRANT THAT THE PLATFORM OR ANY OTHER SERVICES PROVIDED HEREUNDER WILL BE UNINTERRUPTED OR ERROR FREE; NOR DOES IT MAKE ANY WARRANTY AS TO THE RESULTS THAT MAY BE OBTAINED FROM USE OF THE PLATFORM OR ANY OTHER SERVICES PROVIDED HEREUNDER.",
           "8(3)",
           "Conditions for consent, General obligation of transparency, Fairness and transparency",
           "non-compliant"
          ],
          [
           "COMPANY DOES NOT WARRANT THAT THE PLATFORM OR ANY OTHER SERVICES PROVIDED HEREUNDER WILL BE UNINTERRUPTED OR ERROR FREE; NOR DOES IT MAKE ANY WARRANTY AS TO THE RESULTS THAT MAY BE OBTAINED FROM USE OF THE PLATFORM OR ANY OTHER SERVICES PROVIDED HEREUNDER.",
           "131 (b)",
           "Conditions for consent, General obligation of transparency, Fairness and transparency",
           "non-compliant"
          ],
          [
           "COMPANY DOES NOT WARRANT THAT THE PLATFORM OR ANY OTHER SERVICES PROVIDED HEREUNDER WILL BE UNINTERRUPTED OR ERROR FREE; NOR DOES IT MAKE ANY WARRANTY AS TO THE RESULTS THAT MAY BE OBTAINED FROM USE OF THE PLATFORM OR ANY OTHER SERVICES PROVIDED HEREUNDER.",
           "29(1)",
           "Conditions for consent, General obligation of transparency, Fairness and transparency",
           "non-compliant"
          ],
          [
           "THE PLATFORM AND ALL OTHER SERVICES PROVIDED HEREUNDER ARE PROVIDED “AS IS” AND COMPANY DISCLAIMS ALL WARRANTIES, EXPRESS OR IMPLIED, INCLUDING, BUT NOT LIMITED TO, IMPLIED WARRANTIES OF MERCHANTABILITY AND FITNESS FOR A PARTICULAR PURPOSE AND NONINFRINGEMENT.",
           "8(3)",
           "Conditions for consent, General obligation of transparency, Fairness and transparency",
           "non-compliant"
          ],
          [
           "THE PLATFORM AND ALL OTHER SERVICES PROVIDED HEREUNDER ARE PROVIDED “AS IS” AND COMPANY DISCLAIMS ALL WARRANTIES, EXPRESS OR IMPLIED, INCLUDING, BUT NOT LIMITED TO, IMPLIED WARRANTIES OF MERCHANTABILITY AND FITNESS FOR A PARTICULAR PURPOSE AND NONINFRINGEMENT.",
           "131 (b)",
           "Conditions for consent, General obligation of transparency, Fairness and transparency",
           "non-compliant"
          ],
          [
           "THE PLATFORM AND ALL OTHER SERVICES PROVIDED HEREUNDER ARE PROVIDED “AS IS” AND COMPANY DISCLAIMS ALL WARRANTIES, EXPRESS OR IMPLIED, INCLUDING, BUT NOT LIMITED TO, IMPLIED WARRANTIES OF MERCHANTABILITY AND FITNESS FOR A PARTICULAR PURPOSE AND NONINFRINGEMENT.",
           "29(1)",
           "Conditions for consent, General obligation of transparency, Fairness and transparency",
           "non-compliant"
          ],
          [
           "IN NO EVENT WILL COMPANY BE LIABLE FOR ANY INDIRECT, PUNITIVE, INCIDENTAL, SPECIAL, OR CONSEQUENTIAL DAMAGES ARISING OUT OF OR IN ANY WAY CONNECTED WITH THE USE OF THE PLATFORM OR ANYTHING PROVIDED IN CONNECTION WITH THIS AGREEMENT, THE DELAY OR INABILITY TO USE THE PLATFORM OR ANYTHING PROVIDED IN CONNECTION WITH THIS AGREEMENT OR OTHERWISE ARISING FROM THIS AGREEMENT, INCLUDING WITHOUT LIMITATION, LOSS OF REVENUE OR ANTICIPATED PROFITS OR LOST BUSINESS OR LOST SALES, WHETHER BASED IN CONTRACT, TORT (INCLUDING NEGLIGENCE), STRICT LIABILITY, OR OTHERWISE, EVEN IF COMPANY HAS BEEN ADVISED OF THE POSSIBILITY OF DAMAGES.",
           "82",
           "Right to compensation and liability",
           "non-compliant"
          ],
          [
           "You will keep all your registration information accurate and current.",
           "51d",
           "Data accuracy - The controller shall take appropriate technical and organisational measures to ensure that personal data are accurate...",
           "compliant"
          ],
          [
           "Any information or Content publicly posted or privately transmitted through the Service is the sole responsibility of the person from whom such information or Content originated, and you access all such information or Content at your own risk.",
           "171",
           "Right to rectification - The data subject shall have the right to obtain from the controller without undue delay the rectification of inaccurate personal data concerning him or her.",
           "compliant"
          ],
          [
           "We aren’t liable for any errors or omissions in that information or Content or for any damages or loss you might suffer in connection with it.",
           null,
           "While this statement is not directly related to GDPR compliance, it is a standard disclaimer.",
           "compliant"
          ],
          [
           "We cannot control and have no duty to take any action regarding how you may interpret and use the information or Content or what actions you may take as a result of having been exposed to the information or Content, and you hereby release us from all liability for you having acquired or not acquired information or Content through the Service.",
           null,
           "Similar to the previous statement, this is a disclaimer and not directly related to GDPR.",
           "compliant"
          ],
          [
           "We can’t guarantee the identity of any users with whom you interact in using the Service and are not responsible for which users gain access to the Service.",
           "32",
           "Security of processing - Taking into account the state of the art, the costs of implementation and the nature, scope, context and purposes of processing as well as the risk of varying likelihood and severity for the rights and freedoms of natural persons, the controller and the processor shall implement appropriate technical and organisational measures to ensure a level of security appropriate to the risk...",
           "compliant"
          ],
          [
           "You promise to abide by all copyright notices, trademark rules, information, and restrictions contained in any Content you access through the Service, and you won’t use, copy, reproduce, modify, translate, publish, broadcast, transmit, distribute, perform, upload, display, license, sell or otherwise exploit for any purpose any Content not owned by you, (i) without the prior consent of the owner of that Content or (ii) in a way that violates someone else’s (including IFTTT’s) rights.",
           null,
           "This section focuses on copyright and intellectual property, not directly related to GDPR.",
           "non-compliant"
          ],
          [
           "You understand that IFTTT owns the Service. You won’t (except as permitted by applicable law) reverse engineer, modify, or create derivative works based on the Service.",
           null,
           "This section focuses on intellectual property and service usage, not directly related to GDPR.",
           "non-compliant"
          ],
          [
           "The Service may allow you to copy or download certain Content; please remember that just because this functionality exists, doesn’t mean that all the restrictions above don’t apply – they do!",
           null,
           "Similar to the previous statement, this focuses on content usage and not directly related to GDPR.",
           "non-compliant"
          ],
          [
           "What if I see something on the Service that infringes my copyright? You may have heard of the Digital Millennium Copyright Act (the “DMCA”), as it relates to online service providers, like IFTTT, being asked to remove material that allegedly violates someone’s copyright. We respect others’ intellectual property rights, and we reserve the right to delete or disable Content alleged to be infringing, and to terminate the accounts of repeat alleged infringers; to review our complete Copyright Dispute Policy and learn how to report potentially infringing content, click here.",
           null,
           "This section deals with copyright infringement and DMCA, not directly related to GDPR.",
           "non-compliant"
          ],
          [
           "To learn more about the DMCA, click here.",
           null,
           "This is a reference to DMCA, not related to GDPR.",
           "non-compliant"
          ],
          [
           "You are responsible for all Content you contribute, in any manner, to the Service, and you represent and warrant you have all rights necessary to do so, in the manner in which you contribute it.",
           null,
           "This section focuses on user-generated content and rights, not directly related to GDPR.",
           "non-compliant"
          ],
          [
           "You are responsible for all your activity in connection with the Service.",
           null,
           "This is a general statement of user responsibility, not directly related to GDPR.",
           "non-compliant"
          ],
          [
           "The Service may contain links or connections to third party websites or services that are not owned or controlled by IFTTT. When you access third party websites or use third party services, you accept that there are risks in doing so, and that IFTTT is not responsible for such risks.",
           null,
           "This section deals with third-party links and disclaimers, not directly related to GDPR.",
           "non-compliant"
          ],
          [
           "Your data on IFTTT is yours. You should be able to take it anywhere in a machine readable format and tinker with it. You will now be able to export your IFTTT data directly from your user profile on our website and mobile apps.",
           "20",
           "Right to data portability",
           "compliant"
          ],
          [
           "Want to delete your data from IFTTT? No problem. Simply click the “delete my account” link in your profile. Or submit a request to have the IFTTT team delete your account using this form.",
           "17",
           "Right to erasure ('right to be forgotten')",
           "compliant"
          ],
          [
           "We’re updating our privacy policy and terms of use to provide more granular information about how we use data.",
           "12",
           "Transparent information, communication and modalities for the exercise of the rights of the data subject",
           "non-compliant"
          ],
          [
           "We’re updating our privacy policy and terms of use to provide more granular information about how we use data.",
           "13",
           "Transparent information, communication and modalities for the exercise of the rights of the data subject",
           "non-compliant"
          ],
          [
           "We’re updating our privacy policy and terms of use to provide more granular information about how we use data.",
           "14",
           "Transparent information, communication and modalities for the exercise of the rights of the data subject",
           "non-compliant"
          ],
          [
           "Every service is different. Meaningful transparency will mean different things depending on each service. You will get a relevant just-in-time notice every time you connect a new service to IFTTT to use for a specific Applet.",
           "12",
           "Transparent information, communication and modalities for the exercise of the rights of the data subject",
           "non-compliant"
          ],
          [
           "Every service is different. Meaningful transparency will mean different things depending on each service. You will get a relevant just-in-time notice every time you connect a new service to IFTTT to use for a specific Applet.",
           "13",
           "Transparent information, communication and modalities for the exercise of the rights of the data subject",
           "non-compliant"
          ],
          [
           "Every service is different. Meaningful transparency will mean different things depending on each service. You will get a relevant just-in-time notice every time you connect a new service to IFTTT to use for a specific Applet.",
           "14",
           "Transparent information, communication and modalities for the exercise of the rights of the data subject",
           "non-compliant"
          ],
          [
           "We do not knowingly collect or solicit personal information from anyone under the age of 16.",
           "8",
           "This section aligns with GDPR's requirements for processing children's data, specifically setting 16 as the age of consent.",
           "compliant"
          ],
          [
           "If we learn that we have collected personal information from a child under age 16, we will delete that information as quickly as possible.",
           "8",
           "This aligns with GDPR's requirement to delete a child's data upon discovery if collected without appropriate consent.",
           "compliant"
          ],
          [
           "Generic information does not reveal the identity of the visitor.",
           "Recital 26",
           "Collecting and using anonymized, aggregate data that doesn't identify individuals is generally compliant with GDPR.",
           "compliant"
          ],
          [
           "Generic information does not reveal the identity of the visitor.",
           "4(1)",
           "Collecting and using anonymized, aggregate data that doesn't identify individuals is generally compliant with GDPR.",
           "compliant"
          ],
          [
           "IFTTT may use this data in aggregate form, that is, as a statistical measure, but not in a manner that would identify you personally.",
           "Recital 26",
           "This further emphasizes the compliant use of anonymized, aggregate data.",
           "compliant"
          ],
          [
           "IFTTT may use this data in aggregate form, that is, as a statistical measure, but not in a manner that would identify you personally.",
           "4(1)",
           "This further emphasizes the compliant use of anonymized, aggregate data.",
           "compliant"
          ],
          [
           "By using the Service you acknowledge and agree to be bound by the terms and conditions of this Privacy Policy.",
           "7",
           "GDPR requires explicit, informed, and freely given consent, not just implied consent through use.",
           "non-compliant"
          ],
          [
           "We use analytics to help analyze how our users use the Services. Google Analytics uses cookies to collect information such as how often our users visit the Services, what pages they visit, and what other sites they used prior to coming to the Services. We may use the information we get from Google Analytics to improve our Services or to send you promotional messages about our Services.",
           "7",
           "While using analytics and cookies is not prohibited, GDPR requires specific, informed consent for these activities, especially when used for marketing. The policy doesn't clearly specify the legal basis for processing data for service improvement (legitimate interest could apply) or for sending promotional messages.",
           "non-compliant"
          ],
          [
           "We use analytics to help analyze how our users use the Services. Google Analytics uses cookies to collect information such as how often our users visit the Services, what pages they visit, and what other sites they used prior to coming to the Services. We may use the information we get from Google Analytics to improve our Services or to send you promotional messages about our Services.",
           "Recital 30",
           "While using analytics and cookies is not prohibited, GDPR requires specific, informed consent for these activities, especially when used for marketing. The policy doesn't clearly specify the legal basis for processing data for service improvement (legitimate interest could apply) or for sending promotional messages.",
           "non-compliant"
          ],
          [
           "We use analytics to help analyze how our users use the Services. Google Analytics uses cookies to collect information such as how often our users visit the Services, what pages they visit, and what other sites they used prior to coming to the Services. We may use the information we get from Google Analytics to improve our Services or to send you promotional messages about our Services.",
           "5(1)(a)",
           "While using analytics and cookies is not prohibited, GDPR requires specific, informed consent for these activities, especially when used for marketing. The policy doesn't clearly specify the legal basis for processing data for service improvement (legitimate interest could apply) or for sending promotional messages.",
           "non-compliant"
          ],
          [
           "Google Analytics collects the IP address assigned to you on the date you visit the Services, but not your name or other personally identifying information. We do not combine the information generated through the use of Google Analytics with any personally identifying information.",
           "4(1)",
           "While not directly identifying, IP addresses can be considered personal data under GDPR. The policy should clarify how IP addresses are handled, for how long, and if any anonymization techniques are applied.",
           "non-compliant"
          ],
          [
           "Google Analytics collects the IP address assigned to you on the date you visit the Services, but not your name or other personally identifying information. We do not combine the information generated through the use of Google Analytics with any personally identifying information.",
           "Recital 30",
           "While not directly identifying, IP addresses can be considered personal data under GDPR. The policy should clarify how IP addresses are handled, for how long, and if any anonymization techniques are applied.",
           "non-compliant"
          ],
          [
           "We reserve the right to change the Terms at any time, but if we do, we will bring it to your attention by placing a notice on ifttt.com website, by sending you an email, and/or by some other means.",
           "13",
           "Right to information, Transparency",
           "compliant"
          ],
          [
           "We reserve the right to change the Terms at any time, but if we do, we will bring it to your attention by placing a notice on ifttt.com website, by sending you an email, and/or by some other means.",
           "14",
           "Right to information, Transparency",
           "compliant"
          ],
          [
           "You may be required to sign up for an account, and select a password and user name (“IFTTT User ID”).",
           "5",
           "Principles relating to processing of personal data",
           "compliant"
          ],
          [
           "As a condition to using the Service or in order to create certain statements through the Service, you may be required to supply IFTTT with certain registration information, including a valid email address, registration information for mobile phones, other mobile devices, or third-party sites or services you access through IFTTT.",
           "5",
           "Principles relating to processing of personal data",
           "compliant"
          ],
          [
           "You promise to provide us with accurate, complete, and updated registration information about yourself.",
           "5",
           "Principles relating to processing of personal data",
           "compliant"
          ],
          [
           "You may not (i) select or use as your username a name of another person with the intent to impersonate that person; or (ii) use as your username a name subject to any rights of a person other than you without appropriate authorization; or (iii) use as your username a name that is otherwise offensive, vulgar or obscene.",
           "5",
           "Principles relating to processing of personal data",
           "non-compliant"
          ],
          [
           "IFTTT reserves the right to refuse registration of, or cancel a username in its discretion.",
           "6",
           "Lawfulness of processing",
           "non-compliant"
          ],
          [
           "You shall not use another user's account or any other person's registration information for the Service, any other mobile phones or other mobile devices, or any third party services you access through the Service, without that person's permission.",
           "5",
           "Principles relating to processing of personal data",
           "non-compliant"
          ],
          [
           "Your right to use the Service continues until it is terminated by either party.",
           "5",
           "Principles relating to processing of personal data",
           "non-compliant"
          ],
          [
           "You may terminate by discontinuing use of the Service.",
           "17",
           "Right to erasure ('right to be forgotten')",
           "non-compliant"
          ],
          [
           "IFTTT may terminate at any time for any reason.",
           "6",
           "Lawfulness of processing",
           "non-compliant"
          ],
          [
           "Your use terminates automatically if (i) you violate any term of these Terms, (ii) IFTTT publicly posts a written notice of termination on the Service, (iii) IFTTT sends a written notice of termination to you, or (iv) IFTTT ceases providing access to the Service to you.",
           "13",
           "Right to information, Transparency",
           "non-compliant"
          ],
          [
           "Your use terminates automatically if (i) you violate any term of these Terms, (ii) IFTTT publicly posts a written notice of termination on the Service, (iii) IFTTT sends a written notice of termination to you, or (iv) IFTTT ceases providing access to the Service to you.",
           "14",
           "Right to information, Transparency",
           "non-compliant"
          ],
          [
           "IFTTT will use reasonable efforts to ensure that the Service is available twenty-four hours a day, seven days a week.",
           "32",
           "Security of processing",
           "non-compliant"
          ],
          [
           "However, there will be occasions when the Service will be interrupted for maintenance, upgrades and emergency repairs.",
           "13",
           "Right to information, Transparency",
           "non-compliant"
          ],
          [
           "However, there will be occasions when the Service will be interrupted for maintenance, upgrades and emergency repairs.",
           "14",
           "Right to information, Transparency",
           "non-compliant"
          ],
          [
           "Every reasonable step will be taken by IFTTT to minimize such disruption where it is within IFTTT's reasonable control.",
           "25",
           "Data protection by design and by default",
           "non-compliant"
          ],
          [
           "You agree that IFTTT will not be liable in any event to you or any other party for any suspension, modification, discontinuance or lack of availability of the Service.",
           "83",
           "General conditions for imposing administrative fines",
           "non-compliant"
          ],
          [
           "You shall be responsible for obtaining and maintaining any equipment or ancillary services needed to connect to, access or otherwise use the Service, including, without limitation, mobile phones, modems, hardware, software, data plans, and long distance or local telephone service.",
           null,
           null,
           "non-compliant"
          ],
          [
           "You shall be responsible for ensuring that such equipment or ancillary services are compatible with the Service.",
           null,
           null,
           "non-compliant"
          ],
          [
           "What are my rights in the Service? The materials displayed or performed or available on or through the Service, including, but not limited to, text, graphics, data, articles, photos, images, illustrations, User Submissions (defined below), and so forth (all of the foregoing, the “Content”) are protected by copyright and/or other intellectual property laws.",
           null,
           null,
           "non-compliant"
          ],
          [
           "Company reserves the right to change the Fees or applicable charges and to institute new charges and Fees at the end of the Initial Term or then current Renewal Term, upon thirty (30) days prior notice to Customer (which may be sent by email).",
           "133",
           "Providing reasonable notice for modifications to terms and conditions, including fee changes.",
           "compliant"
          ],
          [
           "If Customer believes that Company has billed Customer incorrectly, Customer must contact Company no later than sixty (60) days after the closing date on the first billing statement in which the error or problem appeared, in order to receive an adjustment or credit.",
           "24 (2)",
           "Providing a clear and accessible process for addressing billing disputes.",
           "compliant"
          ],
          [
           "Customer hereby grants Company a non-exclusive, worldwide, royalty-free license to use and disclose the Feedback in any manner Company chooses and, directly or indirectly through third parties, to display, perform, copy, have copied, make, have made, use, sell, offer to sell, and otherwise dispose of Company’s products and services (including any improvements or modifications thereof) embodying the Feedback in any manner and via any media the Company chooses, but without reference to you as the source of the Feedback.",
           "6(1)(a)",
           "Unclear and overly broad consent for the use of customer feedback. GDPR requires specific, informed, and unambiguous consent.",
           "non-compliant"
          ],
          [
           "Customer hereby grants Company a non-exclusive, worldwide, royalty-free license to use and disclose the Feedback in any manner Company chooses and, directly or indirectly through third parties, to display, perform, copy, have copied, make, have made, use, sell, offer to sell, and otherwise dispose of Company’s products and services (including any improvements or modifications thereof) embodying the Feedback in any manner and via any media the Company chooses, but without reference to you as the source of the Feedback.",
           "7(4)",
           "Unclear and overly broad consent for the use of customer feedback. GDPR requires specific, informed, and unambiguous consent.",
           "non-compliant"
          ],
          [
           "Unpaid Fees are subject to a finance charge of 1.5% per month on any outstanding balance, or the maximum permitted by law, whichever is lower, plus all expenses of collection.",
           null,
           "Potentially excessive penalties for late payments. GDPR does not explicitly regulate late payment fees, but national laws and consumer protection regulations may apply.",
           "non-compliant"
          ],
          [
           "If we learn we have collected personal information from a child under 13, we will delete that information as quickly as possible.",
           "51b",
           "Principle of Data Minimisation, Right to be Forgotten/Erasure",
           "compliant"
          ],
          [
           "If we learn we have collected personal information from a child under 13, we will delete that information as quickly as possible.",
           "124",
           "Principle of Data Minimisation, Right to be Forgotten/Erasure",
           "compliant"
          ],
          [
           "If we learn we have collected personal information from a child under 13, we will delete that information as quickly as possible.",
           "171",
           "Principle of Data Minimisation, Right to be Forgotten/Erasure",
           "compliant"
          ],
          [
           "If you believe that a child under 13 may have provided us personal information, please contact us using this form and use the report abuse category.",
           "121",
           "Right of Access, Right to Rectification",
           "compliant"
          ],
          [
           "If you believe that a child under 13 may have provided us personal information, please contact us using this form and use the report abuse category.",
           "122",
           "Right of Access, Right to Rectification",
           "compliant"
          ],
          [
           "The Children’s Online Privacy Protection Act (“COPPA”) requires that online service providers obtain parental consent before they knowingly collect personally identifiable information online from children who are under 13 . We do not knowingly collect or solicit personally identifiable information from children under 13; if you are a child under 13, please do not attempt to register for the Service or send any personal information about yourself to us .",
           "8",
           "Conditions Applicable to Child's Consent in relation to Information Society Services",
           "non-compliant"
          ],
          [
           "Restrictions You may not use the Service: (i) to post or transmit, or cause to be posted or transmitted, any communication or solicitation designed or intended to obtain password, account, or private information from any IFTTT user; (ii) to violate the security of any computer network, crack passwords or security encryption codes, transfer or store material that is deemed threatening or obscene, or engage in any kind of illegal activity; (iii) to run Maillist, Listserv, any form of auto-responder, or spam through the Service; (iv) in connection with or to promote any products, services, or materials that constitute, promote or are used primarily for the purpose of dealing in: spyware, adware, or other malicious programs or code, counterfeit goods, items subject to US embargo, hate materials or materials urging acts of terrorism or violence, goods made from protected animal/plant species, recalled goods, any hacking, surveillance, interception, or descrambling equipment, cigarettes, illegal drugs and paraphernalia, unlicensed sale of prescription drugs and medical devices, pornography, prostitution, body parts and bodily fluids, stolen products and items used for theft, fireworks, explosives, and hazardous materials, government IDs, police items, unlicensed trade or dealing in stocks and securities, gambling items, professional services regulated by state licensing regimes, non-transferable items such as airline tickets or event tickets, non-packaged food items, weapons and accessories; (v) in any manner or for any purpose that violates any law or regulation, any right of any person, including but not limited to intellectual property rights, contract rights, rights of privacy, or rights of personality, or in any manner inconsistent with these Terms or with any terms or conditions or obligations relating to any third party website, app, API or the like; (vi) in connection with life support systems, or other mission critical applications where human life or property may be at stake . You understand that the Service is not designed for such purposes and that its failure in such cases could lead to death, personal injury, or severe property or environmental damage for which IFTTT is not responsible; or (vii) to sell, lease, share, transfer, repurpose for sale or sublicense the Service without IFTTT's prior, express, written permission .",
           "13",
           "Information to be Provided where Personal Data are Collected from the Data Subject, Information to be provided where personal data have not been obtained from the data subject",
           "non-compliant"
          ],
          [
           "Restrictions You may not use the Service: (i) to post or transmit, or cause to be posted or transmitted, any communication or solicitation designed or intended to obtain password, account, or private information from any IFTTT user; (ii) to violate the security of any computer network, crack passwords or security encryption codes, transfer or store material that is deemed threatening or obscene, or engage in any kind of illegal activity; (iii) to run Maillist, Listserv, any form of auto-responder, or spam through the Service; (iv) in connection with or to promote any products, services, or materials that constitute, promote or are used primarily for the purpose of dealing in: spyware, adware, or other malicious programs or code, counterfeit goods, items subject to US embargo, hate materials or materials urging acts of terrorism or violence, goods made from protected animal/plant species, recalled goods, any hacking, surveillance, interception, or descrambling equipment, cigarettes, illegal drugs and paraphernalia, unlicensed sale of prescription drugs and medical devices, pornography, prostitution, body parts and bodily fluids, stolen products and items used for theft, fireworks, explosives, and hazardous materials, government IDs, police items, unlicensed trade or dealing in stocks and securities, gambling items, professional services regulated by state licensing regimes, non-transferable items such as airline tickets or event tickets, non-packaged food items, weapons and accessories; (v) in any manner or for any purpose that violates any law or regulation, any right of any person, including but not limited to intellectual property rights, contract rights, rights of privacy, or rights of personality, or in any manner inconsistent with these Terms or with any terms or conditions or obligations relating to any third party website, app, API or the like; (vi) in connection with life support systems, or other mission critical applications where human life or property may be at stake . You understand that the Service is not designed for such purposes and that its failure in such cases could lead to death, personal injury, or severe property or environmental damage for which IFTTT is not responsible; or (vii) to sell, lease, share, transfer, repurpose for sale or sublicense the Service without IFTTT's prior, express, written permission .",
           "14",
           "Information to be Provided where Personal Data are Collected from the Data Subject, Information to be provided where personal data have not been obtained from the data subject",
           "non-compliant"
          ],
          [
           "User Submissions Anything you post, upload, share, store, or otherwise provide through the Service is your “User Submission . ” Some User Submissions are viewable by other users .",
           "51c",
           "Purpose Limitation, Data Protection by Design and by Default",
           "non-compliant"
          ],
          [
           "User Submissions Anything you post, upload, share, store, or otherwise provide through the Service is your “User Submission . ” Some User Submissions are viewable by other users .",
           "25",
           "Purpose Limitation, Data Protection by Design and by Default",
           "non-compliant"
          ],
          [
           "However, we never disclose aggregate usage or de-identified information to a partner (or allow a partner to collect such information) in a manner that would identify you as an individual person .",
           "51a",
           "Data Minimisation, Lawfulness, Fairness & Transparency",
           "compliant"
          ],
          [
           "However, we never disclose aggregate usage or de-identified information to a partner (or allow a partner to collect such information) in a manner that would identify you as an individual person .",
           "41",
           "Data Minimisation, Lawfulness, Fairness & Transparency",
           "compliant"
          ],
          [
           "Except as set forth above, you will be notified when your personal information may be shared with third parties, and you will be able to prevent the sharing of this information .",
           "13",
           "Information to be provided where personal data are collected from the data subject",
           "compliant"
          ],
          [
           "Except as set forth above, you will be notified when your personal information may be shared with third parties, and you will be able to prevent the sharing of this information .",
           "14",
           "Information to be provided where personal data are collected from the data subject",
           "compliant"
          ],
          [
           "You can change your email address and contact information by going to the settings page .",
           "15",
           "Right of access by the data subject, Right to rectification",
           "compliant"
          ],
          [
           "You can change your email address and contact information by going to the settings page .",
           "16",
           "Right of access by the data subject, Right to rectification",
           "compliant"
          ],
          [
           "You must promptly update your personal information if it changes or is inaccurate .",
           "16",
           "Right to rectification",
           "compliant"
          ],
          [
           "Please note that information may remain in our records after deletion of your account .",
           "173",
           "Right to erasure ('right to be forgotten')",
           "compliant"
          ],
          [
           "IFTTT will only update your information on third party sites or send you information (phone, sms, etc .",
           "61a",
           "Lawfulness of processing",
           "compliant"
          ],
          [
           ") with your specific consent, such as when you add Applets to your account .",
           "411",
           "Consent, Conditions for consent",
           "compliant"
          ],
          [
           ") with your specific consent, such as when you add Applets to your account .",
           "7",
           "Consent, Conditions for consent",
           "compliant"
          ],
          [
           "We do not use your email address or contact information to send commercial or marketing messages nor do we give or sell this information to any third parties .",
           "51b",
           "Purpose limitation",
           "compliant"
          ],
          [
           "We will not reduce your rights under this Policy without your explicit consent, and we expect most such changes will be minor .",
           "73",
           "Conditions for consent",
           "compliant"
          ],
          [
           "Services can be disconnected at anytime though prior Applets may remain in our electronic archive .",
           "51e",
           "Storage limitation, Right to erasure ('right to be forgotten')",
           "non-compliant"
          ],
          [
           "Services can be disconnected at anytime though prior Applets may remain in our electronic archive .",
           "171",
           "Storage limitation, Right to erasure ('right to be forgotten')",
           "non-compliant"
          ],
          [
           "When you update information, however, we often maintain a copy of the unrevised information in our records .",
           "51e",
           "Storage limitation",
           "non-compliant"
          ],
          [
           "When you enter your contact information or send an email or other communication to IFTTT, we may retain those communications in order to process your inquiries and respond to your requests .",
           "51e",
           "Storage limitation",
           "non-compliant"
          ],
          [
           "To the extent your e-mail address is provided to IFTTT, you may receive e-mail or other communications from us .",
           "74",
           "Conditions for consent",
           "non-compliant"
          ],
          [
           "Your California Privacy Rights Under California Civil Code Sections 1798 .",
           null,
           null,
           "non-compliant"
          ],
          [
           "83-1798 . 84, California residents are entitled to ask us for a notice identifying the categories of personal information which we share with our affiliates and/or third parties for marketing purposes, and providing contact information for such affiliates and/or third parties .",
           "15",
           "Right of access by the data subject",
           "non-compliant"
          ],
          [
           "If you are a California resident and would like a copy of this notice, you can request it using this form .",
           "151",
           "Right of access by the data subject",
           "non-compliant"
          ],
          [
           "You may also submit a written request to IFTTT Inc . , PO Box 590547, San Francisco, CA 94159-0547, Attn: Legal Changes to this Policy Please note that this Privacy Policy may change from time to time .",
           "132",
           "Information to be provided where personal data are collected from the data subject",
           "non-compliant"
          ],
          [
           "You may also submit a written request to IFTTT Inc . , PO Box 590547, San Francisco, CA 94159-0547, Attn: Legal Changes to this Policy Please note that this Privacy Policy may change from time to time .",
           "142",
           "Information to be provided where personal data are collected from the data subject",
           "non-compliant"
          ],
          [
           "We may amend this Privacy Policy at any time by posting the amend terms on the Site . All amended terms shall automatically be effective thirty (30) days after they are initially posted on the Site .",
           "132",
           "Information to be provided where personal data are collected from the data subject",
           "non-compliant"
          ],
          [
           "We may amend this Privacy Policy at any time by posting the amend terms on the Site . All amended terms shall automatically be effective thirty (30) days after they are initially posted on the Site .",
           "142",
           "Information to be provided where personal data are collected from the data subject",
           "non-compliant"
          ],
          [
           "Each version of this Policy will be identified at the top of the page by its effective date .",
           "121",
           "Transparent information, communication and modalities for the exercise of the rights of the data subject",
           "non-compliant"
          ],
          [
           "2.4 The parties will each comply with applicable portions of the EU Data Processing policy.",
           "44 - 50",
           "This section suggests an awareness of GDPR's international data transfer rules, but lacks specifics.  It should explicitly mention adherence to GDPR principles for data transfers outside the EEA.",
           "compliant"
          ],
          [
           "3.2 Both Parties will have the right to disclose the existence but not the terms and conditions of this Agreement, unless such disclosure is approved in writing by both Parties prior to such disclosure, or is included in a filing required to be made by a Party with a governmental authority (provided such party will use reasonable efforts to obtain confidential treatment or a protective order) or is made on a confidential basis as reasonably necessary to potential investors or acquirers.",
           "6(1)(c)",
           "This section aligns with GDPR's requirements for confidentiality and security of processing, as well as potential disclosures for legal obligations or legitimate interests.",
           "compliant"
          ],
          [
           "3.2 Both Parties will have the right to disclose the existence but not the terms and conditions of this Agreement, unless such disclosure is approved in writing by both Parties prior to such disclosure, or is included in a filing required to be made by a Party with a governmental authority (provided such party will use reasonable efforts to obtain confidential treatment or a protective order) or is made on a confidential basis as reasonably necessary to potential investors or acquirers.",
           "28",
           "This section aligns with GDPR's requirements for confidentiality and security of processing, as well as potential disclosures for legal obligations or legitimate interests.",
           "compliant"
          ],
          [
           "3.2 Both Parties will have the right to disclose the existence but not the terms and conditions of this Agreement, unless such disclosure is approved in writing by both Parties prior to such disclosure, or is included in a filing required to be made by a Party with a governmental authority (provided such party will use reasonable efforts to obtain confidential treatment or a protective order) or is made on a confidential basis as reasonably necessary to potential investors or acquirers.",
           "32",
           "This section aligns with GDPR's requirements for confidentiality and security of processing, as well as potential disclosures for legal obligations or legitimate interests.",
           "compliant"
          ],
          [
           "2.2 Customer shall also be responsible for maintaining the security of the Equipment, Customer account, passwords (including but not limited to administrative and user passwords) and files, and for all uses of Customer account or the Equipment with or without Customer’s knowledge or consent.",
           "5(1)(f)",
           "While this section emphasizes security, it lacks specifics on technical and organizational measures to ensure a level of security appropriate to the risk, as required by GDPR. It should explicitly mention data protection impact assessments (DPIAs) where applicable.",
           "non-compliant"
          ],
          [
           "2.2 Customer shall also be responsible for maintaining the security of the Equipment, Customer account, passwords (including but not limited to administrative and user passwords) and files, and for all uses of Customer account or the Equipment with or without Customer’s knowledge or consent.",
           "32",
           "While this section emphasizes security, it lacks specifics on technical and organizational measures to ensure a level of security appropriate to the risk, as required by GDPR. It should explicitly mention data protection impact assessments (DPIAs) where applicable.",
           "non-compliant"
          ],
          [
           "3.1 Each party (the “Receiving Party”) understands that the other party (the “Disclosing Party”) has disclosed or may disclose information relating to the Disclosing Party’s business (hereinafter referred to as “Proprietary Information” of the Disclosing Party). The Receiving Party agrees: (i) to take reasonable precautions to protect such Proprietary Information, and (ii) not to divulge to any third person any such Proprietary Information. The Disclosing Party agrees that the foregoing shall not apply with respect to any information after three years following the disclosure thereof or any information that the Receiving Party can document (a) is or becomes generally available to the public, (b) was in its possession or known by it prior to receipt from the Disclosing Party, (c) was rightfully disclosed to it by a third party, (d) was independently developed without use of any Proprietary Information of the Disclosing Party or (e) is required by law.",
           "5(1)(e)",
           "This section broadly addresses confidentiality but needs to align with GDPR's data subject rights. It doesn't mention data minimization, purpose limitation, or storage limitations. The three-year retention period might contradict GDPR's storage limitation principles.",
           "non-compliant"
          ],
          [
           "3.1 Each party (the “Receiving Party”) understands that the other party (the “Disclosing Party”) has disclosed or may disclose information relating to the Disclosing Party’s business (hereinafter referred to as “Proprietary Information” of the Disclosing Party). The Receiving Party agrees: (i) to take reasonable precautions to protect such Proprietary Information, and (ii) not to divulge to any third person any such Proprietary Information. The Disclosing Party agrees that the foregoing shall not apply with respect to any information after three years following the disclosure thereof or any information that the Receiving Party can document (a) is or becomes generally available to the public, (b) was in its possession or known by it prior to receipt from the Disclosing Party, (c) was rightfully disclosed to it by a third party, (d) was independently developed without use of any Proprietary Information of the Disclosing Party or (e) is required by law.",
           "17",
           "This section broadly addresses confidentiality but needs to align with GDPR's data subject rights. It doesn't mention data minimization, purpose limitation, or storage limitations. The three-year retention period might contradict GDPR's storage limitation principles.",
           "non-compliant"
          ],
          [
           "3.1 Each party (the “Receiving Party”) understands that the other party (the “Disclosing Party”) has disclosed or may disclose information relating to the Disclosing Party’s business (hereinafter referred to as “Proprietary Information” of the Disclosing Party). The Receiving Party agrees: (i) to take reasonable precautions to protect such Proprietary Information, and (ii) not to divulge to any third person any such Proprietary Information. The Disclosing Party agrees that the foregoing shall not apply with respect to any information after three years following the disclosure thereof or any information that the Receiving Party can document (a) is or becomes generally available to the public, (b) was in its possession or known by it prior to receipt from the Disclosing Party, (c) was rightfully disclosed to it by a third party, (d) was independently developed without use of any Proprietary Information of the Disclosing Party or (e) is required by law.",
           "18",
           "This section broadly addresses confidentiality but needs to align with GDPR's data subject rights. It doesn't mention data minimization, purpose limitation, or storage limitations. The three-year retention period might contradict GDPR's storage limitation principles.",
           "non-compliant"
          ],
          [
           "3.1 Each party (the “Receiving Party”) understands that the other party (the “Disclosing Party”) has disclosed or may disclose information relating to the Disclosing Party’s business (hereinafter referred to as “Proprietary Information” of the Disclosing Party). The Receiving Party agrees: (i) to take reasonable precautions to protect such Proprietary Information, and (ii) not to divulge to any third person any such Proprietary Information. The Disclosing Party agrees that the foregoing shall not apply with respect to any information after three years following the disclosure thereof or any information that the Receiving Party can document (a) is or becomes generally available to the public, (b) was in its possession or known by it prior to receipt from the Disclosing Party, (c) was rightfully disclosed to it by a third party, (d) was independently developed without use of any Proprietary Information of the Disclosing Party or (e) is required by law.",
           "19",
           "This section broadly addresses confidentiality but needs to align with GDPR's data subject rights. It doesn't mention data minimization, purpose limitation, or storage limitations. The three-year retention period might contradict GDPR's storage limitation principles.",
           "non-compliant"
          ],
          [
           "3.1 Each party (the “Receiving Party”) understands that the other party (the “Disclosing Party”) has disclosed or may disclose information relating to the Disclosing Party’s business (hereinafter referred to as “Proprietary Information” of the Disclosing Party). The Receiving Party agrees: (i) to take reasonable precautions to protect such Proprietary Information, and (ii) not to divulge to any third person any such Proprietary Information. The Disclosing Party agrees that the foregoing shall not apply with respect to any information after three years following the disclosure thereof or any information that the Receiving Party can document (a) is or becomes generally available to the public, (b) was in its possession or known by it prior to receipt from the Disclosing Party, (c) was rightfully disclosed to it by a third party, (d) was independently developed without use of any Proprietary Information of the Disclosing Party or (e) is required by law.",
           "20",
           "This section broadly addresses confidentiality but needs to align with GDPR's data subject rights. It doesn't mention data minimization, purpose limitation, or storage limitations. The three-year retention period might contradict GDPR's storage limitation principles.",
           "non-compliant"
          ],
          [
           "3.1 Each party (the “Receiving Party”) understands that the other party (the “Disclosing Party”) has disclosed or may disclose information relating to the Disclosing Party’s business (hereinafter referred to as “Proprietary Information” of the Disclosing Party). The Receiving Party agrees: (i) to take reasonable precautions to protect such Proprietary Information, and (ii) not to divulge to any third person any such Proprietary Information. The Disclosing Party agrees that the foregoing shall not apply with respect to any information after three years following the disclosure thereof or any information that the Receiving Party can document (a) is or becomes generally available to the public, (b) was in its possession or known by it prior to receipt from the Disclosing Party, (c) was rightfully disclosed to it by a third party, (d) was independently developed without use of any Proprietary Information of the Disclosing Party or (e) is required by law.",
           "21",
           "This section broadly addresses confidentiality but needs to align with GDPR's data subject rights. It doesn't mention data minimization, purpose limitation, or storage limitations. The three-year retention period might contradict GDPR's storage limitation principles.",
           "non-compliant"
          ],
          [
           "In any event, Company may use for development, diagnostic and corrective purposes any data and information it collects relating to the Platform.",
           "5(1)(b)",
           "This section grants broad data usage rights to the Company without specifying legal basis or purpose limitation. It might contradict GDPR's principles of lawful, fair, and transparent processing.",
           "non-compliant"
          ],
          [
           "In any event, Company may use for development, diagnostic and corrective purposes any data and information it collects relating to the Platform.",
           "6(1)(f)",
           "This section grants broad data usage rights to the Company without specifying legal basis or purpose limitation. It might contradict GDPR's principles of lawful, fair, and transparent processing.",
           "non-compliant"
          ],
          [
           "3.3 Customer acknowledges that Company does not wish to receive any Proprietary Information from Customer that is not necessary for Company to perform its obligations under this Agreement, and, unless the parties specifically agree otherwise, Company may reasonably presume that any unrelated information received from Customer is not confidential or Proprietary Information.",
           "5(1)(c)",
           "This section lacks a lawful basis for presuming non-confidential information. GDPR requires a legal basis for all processing activities, and assumptions don't suffice.",
           "non-compliant"
          ],
          [
           "3.3 Customer acknowledges that Company does not wish to receive any Proprietary Information from Customer that is not necessary for Company to perform its obligations under this Agreement, and, unless the parties specifically agree otherwise, Company may reasonably presume that any unrelated information received from Customer is not confidential or Proprietary Information.",
           "6(1)",
           "This section lacks a lawful basis for presuming non-confidential information. GDPR requires a legal basis for all processing activities, and assumptions don't suffice.",
           "non-compliant"
          ],
          [
           "We may transfer, assign, or delegate these Terms and our rights and obligations without consent .",
           "46",
           "Requirement to provide notice to the supervisory authority in the event of a data breach",
           "compliant"
          ],
          [
           "These Terms are governed by and will be construed under the laws of the State of California, without regard to the conflicts of laws’ provisions thereof .",
           "3",
           "Territorial scope",
           "compliant"
          ],
          [
           "Any dispute arising from or relating to the subject matter of these Terms shall be finally settled in San Francisco County, California, in English, in accordance with the Streamlined Arbitration Rules and Procedures of Judicial Arbitration and Mediation Service, Inc .",
           "78",
           "Right to an effective judicial remedy against a controller or processor",
           "compliant"
          ],
          [
           "Any dispute arising from or relating to the subject matter of these Terms shall be finally settled in San Francisco County, California, in English, in accordance with the Streamlined Arbitration Rules and Procedures of Judicial Arbitration and Mediation Service, Inc .",
           "79",
           "Right to an effective judicial remedy against a controller or processor",
           "compliant"
          ],
          [
           "(\"JAMS\") then in effect, by one commercial arbitrator with substantial experience in resolving intellectual property and commercial contract disputes, who shall be selected from the appropriate list of JAMS arbitrators in accordance with such Rules .",
           "28",
           "Processor",
           "compliant"
          ],
          [
           "Judgment upon the award rendered by such arbitrator may be entered in any court of competent jurisdiction .",
           "47",
           "Establishment of the European Data Protection Board",
           "compliant"
          ],
          [
           "Notwithstanding the foregoing obligation to arbitrate disputes, each party shall have the right to pursue injunctive or other equitable relief at any time, from any court of competent jurisdiction .",
           "12",
           "Transparent information, communication and modalities for the exercise of the rights of the data subject",
           "compliant"
          ],
          [
           "For all purposes of this Agreement, the parties consent to exclusive jurisdiction and venue in the state or federal courts located in, respectively, San Francisco County, California, or the Northern District of California .",
           "13",
           "Right to information in relation to personal data processed when they are obtained from the data subject, Right to information in relation to personal data processed when they are not obtained from the data subject",
           "compliant"
          ],
          [
           "For all purposes of this Agreement, the parties consent to exclusive jurisdiction and venue in the state or federal courts located in, respectively, San Francisco County, California, or the Northern District of California .",
           "14",
           "Right to information in relation to personal data processed when they are obtained from the data subject, Right to information in relation to personal data processed when they are not obtained from the data subject",
           "compliant"
          ],
          [
           "Any arbitration under these Terms (including any against officers, directors, and employees of IFTTT) will take place on an individual basis: class arbitrations and class actions are not permitted .",
           "15",
           "Right of access by the data subject",
           "compliant"
          ],
          [
           "YOU UNDERSTAND AND AGREE THAT BY ENTERING INTO THESE TERMS, YOU AND IFTTT ARE EACH WAIVING THE RIGHT TO TRIAL BY JURY OR TO PARTICIPATE IN A CLASS ACTION .",
           "16",
           "Right to rectification",
           "compliant"
          ],
          [
           "IFTTT's failure to exercise or enforce any right or provision of these Terms shall not constitute a waiver of such right or provision .",
           "17",
           "Right to erasure ('right to be forgotten')",
           "compliant"
          ],
          [
           "Any notice to IFTTT that is required or permitted by these Terms shall be in writing and shall be deemed effective upon receipt, when sent by confirmed e-mail to legal@ifttt .",
           "18",
           "Right to restriction of processing",
           "compliant"
          ],
          [
           "com or when delivered by nationally recognized overnight courier or mailed by first class, registered or certified mail, postage prepaid, to IFTTT Inc . , 2261 Market Street #4383, San Francisco, CA 94114, Attn: Legal .",
           "19",
           "Notification obligation regarding rectification or erasure of personal data or restriction of processing",
           "compliant"
          ],
          [
           "Use of a Mobile App downloaded through the Apple App Store These Terms apply to your use of the Service, including the iPhone and iPad applications available via the Apple, Inc .",
           "20",
           "Right to data portability",
           "compliant"
          ],
          [
           "(\"Apple\") App Store, but the following additional terms also apply to the Mobile App: (a) Both you and IFTTT acknowledge that the Terms are concluded between you and IFTTT only, and not with Apple, and that Apple is not responsible for the Mobile App or the Content; (b) The Mobile App is licensed to you on a limited, non-exclusive, non-transferrable, non-sublicensable basis, solely to be used in connection with the Service for your private, personal, non-commercial use, subject to all the terms and conditions of these Terms as they are applicable to the Service; (c) You will only use the Mobile App in connection with an Apple device that you own or control; (d) You acknowledge and agree that Apple has no obligation whatsoever to furnish any maintenance and support services with respect to the Mobile App; (e) In the event of any failure of the Mobile App to conform to any applicable warranty, including those implied by law, you may notify Apple of such failure; upon notification, Apple’s sole warranty obligation to you will be to refund to you the purchase price, if any, of the Mobile App; (f) You acknowledge and agree that IFTTT, and not Apple, is responsible for addressing any claims you or any third party may have in relation to the Mobile App; (g) You acknowledge and agree that, in the event of any third party claim that the Mobile App or your possession and use of the Mobile App infringes that third party’s intellectual property rights, IFTTT, and not Apple, will be responsible for the investigation, defense, settlement and discharge of any such infringement claim; (h) You represent and warrant that you are not located in a country subject to a U .",
           "21",
           "Right to object and automated individual decision-making",
           "compliant"
          ],
          [
           "We may transfer, assign, or delegate these Terms and our rights and obligations without consent .",
           "44",
           "General principle for transfers, Transfers or disclosures not authorised by Union law, Derogations for specific situations",
           "non-compliant"
          ],
          [
           "We may transfer, assign, or delegate these Terms and our rights and obligations without consent .",
           "45",
           "General principle for transfers, Transfers or disclosures not authorised by Union law, Derogations for specific situations",
           "non-compliant"
          ],
          [
           "We may transfer, assign, or delegate these Terms and our rights and obligations without consent .",
           "49",
           "General principle for transfers, Transfers or disclosures not authorised by Union law, Derogations for specific situations",
           "non-compliant"
          ],
          [
           null,
           null,
           null,
           "non-compliant"
          ],
          [
           "IFTTT shall use good faith efforts to provide you with written notice of such claim, suit or action .",
           "12",
           "Right to be informed",
           "compliant"
          ],
          [
           "IFTTT shall use good faith efforts to provide you with written notice of such claim, suit or action .",
           "13",
           "Right to be informed",
           "compliant"
          ],
          [
           "IFTTT shall use good faith efforts to provide you with written notice of such claim, suit or action .",
           "14",
           "Right to be informed",
           "compliant"
          ],
          [
           "You will be responsible for paying, withholding, filing, and reporting all taxes, duties, and other governmental assessments associated with your activity in connection with the Service, provided that the IFTTT may, in its sole discretion, do any of the foregoing on your behalf or for itself as it sees fit .",
           "30",
           "Confidentiality of communications",
           "compliant"
          ],
          [
           "IFTTT DOES NOT REPRESENT OR WARRANT THAT THE SERVICE IS FREE OF INACCURACIES, ERRORS, BUGS, OR INTERRUPTIONS, OR ARE RELIABLE, ACCURATE, COMPLETE, OR OTHERWISE VALID . THE SERVICE IS PROVIDED \"AS IS\" WITH NO WARRANTY, EXPRESS OR IMPLIED, OF ANY KIND AND IFTTT EXPRESSLY DISCLAIMS ANY AND ALL WARRANTIES AND CONDITIONS, INCLUDING, BUT NOT LIMITED TO, ANY IMPLIED WARRANTY OF MERCHANTABILITY, FITNESS FOR A PARTICULAR PURPOSE, AVAILABILITY, SECURITY, TITLE AND/OR NON-INFRINGEMENT .",
           "12",
           "Right to be informed",
           "non-compliant"
          ],
          [
           "IFTTT DOES NOT REPRESENT OR WARRANT THAT THE SERVICE IS FREE OF INACCURACIES, ERRORS, BUGS, OR INTERRUPTIONS, OR ARE RELIABLE, ACCURATE, COMPLETE, OR OTHERWISE VALID . THE SERVICE IS PROVIDED \"AS IS\" WITH NO WARRANTY, EXPRESS OR IMPLIED, OF ANY KIND AND IFTTT EXPRESSLY DISCLAIMS ANY AND ALL WARRANTIES AND CONDITIONS, INCLUDING, BUT NOT LIMITED TO, ANY IMPLIED WARRANTY OF MERCHANTABILITY, FITNESS FOR A PARTICULAR PURPOSE, AVAILABILITY, SECURITY, TITLE AND/OR NON-INFRINGEMENT .",
           "13",
           "Right to be informed",
           "non-compliant"
          ],
          [
           "IFTTT DOES NOT REPRESENT OR WARRANT THAT THE SERVICE IS FREE OF INACCURACIES, ERRORS, BUGS, OR INTERRUPTIONS, OR ARE RELIABLE, ACCURATE, COMPLETE, OR OTHERWISE VALID . THE SERVICE IS PROVIDED \"AS IS\" WITH NO WARRANTY, EXPRESS OR IMPLIED, OF ANY KIND AND IFTTT EXPRESSLY DISCLAIMS ANY AND ALL WARRANTIES AND CONDITIONS, INCLUDING, BUT NOT LIMITED TO, ANY IMPLIED WARRANTY OF MERCHANTABILITY, FITNESS FOR A PARTICULAR PURPOSE, AVAILABILITY, SECURITY, TITLE AND/OR NON-INFRINGEMENT .",
           "14",
           "Right to be informed",
           "non-compliant"
          ],
          [
           "YOUR USE OF THE SITE AND THE SERVICE IS AT YOUR OWN DISCRETION AND RISK, AND YOU WILL BE SOLELY RESPONSIBLE FOR ANY DAMAGE THAT RESULTS FROM YOUR USE INCLUDING, BUT NOT LIMITED TO, ANY DAMAGE TO YOUR COMPUTER SYSTEM, MOBILE PHONE OR LOSS OF DATA .",
           "12",
           "Right to be informed",
           "non-compliant"
          ],
          [
           "YOUR USE OF THE SITE AND THE SERVICE IS AT YOUR OWN DISCRETION AND RISK, AND YOU WILL BE SOLELY RESPONSIBLE FOR ANY DAMAGE THAT RESULTS FROM YOUR USE INCLUDING, BUT NOT LIMITED TO, ANY DAMAGE TO YOUR COMPUTER SYSTEM, MOBILE PHONE OR LOSS OF DATA .",
           "13",
           "Right to be informed",
           "non-compliant"
          ],
          [
           "YOUR USE OF THE SITE AND THE SERVICE IS AT YOUR OWN DISCRETION AND RISK, AND YOU WILL BE SOLELY RESPONSIBLE FOR ANY DAMAGE THAT RESULTS FROM YOUR USE INCLUDING, BUT NOT LIMITED TO, ANY DAMAGE TO YOUR COMPUTER SYSTEM, MOBILE PHONE OR LOSS OF DATA .",
           "14",
           "Right to be informed",
           "non-compliant"
          ],
          [
           "Limitation of Liability IFTTT SHALL NOT, UNDER ANY CIRCUMSTANCES, BE LIABLE TO YOU FOR ANY INDIRECT, INCIDENTAL, CONSEQUENTIAL, SPECIAL OR EXEMPLARY DAMAGES ARISING OUT OF OR IN CONNECTION WITH USE OF THE SITE OR THE SERVICE, WHETHER SUCH DAMAGES ARE BASED ON BREACH OF CONTRACT, BREACH OF WARRANTY, TORT (INCLUDING NEGLIGENCE, PRODUCT LIABILITY OR OTHERWISE), OR ANY OTHER PECUNIARY LOSS, WHETHER OR NOT IFTTT HAS BEEN ADVISED OF THE POSSIBILITY OF SUCH DAMAGES .",
           "79",
           "Right to an effective judicial remedy, Right to compensation and liability",
           "non-compliant"
          ],
          [
           "Limitation of Liability IFTTT SHALL NOT, UNDER ANY CIRCUMSTANCES, BE LIABLE TO YOU FOR ANY INDIRECT, INCIDENTAL, CONSEQUENTIAL, SPECIAL OR EXEMPLARY DAMAGES ARISING OUT OF OR IN CONNECTION WITH USE OF THE SITE OR THE SERVICE, WHETHER SUCH DAMAGES ARE BASED ON BREACH OF CONTRACT, BREACH OF WARRANTY, TORT (INCLUDING NEGLIGENCE, PRODUCT LIABILITY OR OTHERWISE), OR ANY OTHER PECUNIARY LOSS, WHETHER OR NOT IFTTT HAS BEEN ADVISED OF THE POSSIBILITY OF SUCH DAMAGES .",
           "82",
           "Right to an effective judicial remedy, Right to compensation and liability",
           "non-compliant"
          ],
          [
           "UNDER NO CIRCUMSTANCES SHALL IFTTT BE LIABLE TO YOU FOR ANY AMOUNT .",
           "79",
           "Right to an effective judicial remedy, Right to compensation and liability",
           "non-compliant"
          ],
          [
           "UNDER NO CIRCUMSTANCES SHALL IFTTT BE LIABLE TO YOU FOR ANY AMOUNT .",
           "82",
           "Right to an effective judicial remedy, Right to compensation and liability",
           "non-compliant"
          ],
          [
           "SOME JURISDICTIONS DO NOT ALLOW THE EXCLUSION OF CERTAIN WARRANTIES OR THE LIMITATION OR EXCLUSION OF LIABILITY FOR INCIDENTAL OR CONSEQUENTIAL DAMAGES . ACCORDINGLY, SOME OF THE ABOVE LIMITATIONS MAY NOT APPLY TO YOU .",
           null,
           "General Data Protection Regulation (GDPR)",
           "non-compliant"
          ],
          [
           "Indemnity To the maximum extent permitted by applicable law, you agree to hold harmless and indemnify IFTTT, and its employees, officers, agents, or other partners from and against any third party claim arising from or in any way related to your access or use of the Service (including anything you develop using IFTTT), including any liability or expense arising from all claims, losses, damages (actual and/or consequential), suits, judgments, litigation costs and attorneys' fees, of every kind and nature .",
           "79",
           "Right to an effective judicial remedy, Right to compensation and liability",
           "non-compliant"
          ],
          [
           "Indemnity To the maximum extent permitted by applicable law, you agree to hold harmless and indemnify IFTTT, and its employees, officers, agents, or other partners from and against any third party claim arising from or in any way related to your access or use of the Service (including anything you develop using IFTTT), including any liability or expense arising from all claims, losses, damages (actual and/or consequential), suits, judgments, litigation costs and attorneys' fees, of every kind and nature .",
           "82",
           "Right to an effective judicial remedy, Right to compensation and liability",
           "non-compliant"
          ],
          [
           "Customer grants Company a world-wide, non-exclusive, royalty-free license during the Term to use and distribute Customer Data solely for the purpose of fulfilling Company’s obligations hereunder this Agreement .",
           "6(1)(b)",
           "Lawfulness of processing",
           "compliant"
          ],
          [
           "Company may use aggregated and de-identified Customer Data solely for the purpose of improving the Platform .",
           "5(1)(b)",
           "Principles relating to processing of personal data, Data protection by design and by default",
           "compliant"
          ],
          [
           "Company may use aggregated and de-identified Customer Data solely for the purpose of improving the Platform .",
           "25",
           "Principles relating to processing of personal data, Data protection by design and by default",
           "compliant"
          ],
          [
           "Customer represents and warrants that it owns all right, title and interest in and to the Customer Data and Customer Services",
           "5(1)(a)",
           "Principles relating to processing of personal data",
           "compliant"
          ],
          [
           "Third Party Products are not under Company’s control . This Agreement is not binding upon such third parties, and Company does not endorse such third parties . COMPANY IS NOT RESPONSIBLE, AND HEREBY DISCLAIMS ALL IMPLIED AND EXPRESS WARRANTIES, FOR THE ACTIONS OR INACTIONS OF SUCH THIRD PARTIES OR THE CONTENTS OR PERFORMANCE OF ANY THIRD PARTY .",
           "4(4)",
           "Responsibility of the controller, Responsibility & liability of the processor, GDPR applies to processors (even those outside the EU)",
           "non-compliant"
          ],
          [
           "Third Party Products are not under Company’s control . This Agreement is not binding upon such third parties, and Company does not endorse such third parties . COMPANY IS NOT RESPONSIBLE, AND HEREBY DISCLAIMS ALL IMPLIED AND EXPRESS WARRANTIES, FOR THE ACTIONS OR INACTIONS OF SUCH THIRD PARTIES OR THE CONTENTS OR PERFORMANCE OF ANY THIRD PARTY .",
           "24",
           "Responsibility of the controller, Responsibility & liability of the processor, GDPR applies to processors (even those outside the EU)",
           "non-compliant"
          ],
          [
           "Third Party Products are not under Company’s control . This Agreement is not binding upon such third parties, and Company does not endorse such third parties . COMPANY IS NOT RESPONSIBLE, AND HEREBY DISCLAIMS ALL IMPLIED AND EXPRESS WARRANTIES, FOR THE ACTIONS OR INACTIONS OF SUCH THIRD PARTIES OR THE CONTENTS OR PERFORMANCE OF ANY THIRD PARTY .",
           "28",
           "Responsibility of the controller, Responsibility & liability of the processor, GDPR applies to processors (even those outside the EU)",
           "non-compliant"
          ],
          [
           "Customer acknowledges and agrees that the foregoing Section 1 . 5 license permits Company to allow third-party developers to use Customer’s branding assets and trademarks solely to promote the interoperability of such third-party’s products and services with the Customer Services by way of the Platform .",
           "44",
           "Transfer of personal data to third countries or international organisations",
           "non-compliant"
          ],
          [
           "Customer acknowledges and agrees that the foregoing Section 1 . 5 license permits Company to allow third-party developers to use Customer’s branding assets and trademarks solely to promote the interoperability of such third-party’s products and services with the Customer Services by way of the Platform .",
           "45",
           "Transfer of personal data to third countries or international organisations",
           "non-compliant"
          ],
          [
           "Customer acknowledges and agrees that the foregoing Section 1 . 5 license permits Company to allow third-party developers to use Customer’s branding assets and trademarks solely to promote the interoperability of such third-party’s products and services with the Customer Services by way of the Platform .",
           "46",
           "Transfer of personal data to third countries or international organisations",
           "non-compliant"
          ],
          [
           "Contact Us If you have any additional questions or concerns about this policy or the Service in general, please feel free to contact us using this form .",
           "12",
           "Right of access, Right to information.",
           "compliant"
          ],
          [
           "Contact Us If you have any additional questions or concerns about this policy or the Service in general, please feel free to contact us using this form .",
           "13",
           "Right of access, Right to information.",
           "compliant"
          ],
          [
           "Contact Us If you have any additional questions or concerns about this policy or the Service in general, please feel free to contact us using this form .",
           "14",
           "Right of access, Right to information.",
           "compliant"
          ],
          [
           "EU Residents If you are a resident of the European Union (“EU”), United Kingdom, Lichtenstein, Norway, or Iceland, you may have additional rights under the EU General Data Protection Regulation (the “GDPR”) with respect to your Personal Data, as outlined below .",
           "3(2)",
           "Territorial Scope, Definitions.",
           "compliant"
          ],
          [
           "EU Residents If you are a resident of the European Union (“EU”), United Kingdom, Lichtenstein, Norway, or Iceland, you may have additional rights under the EU General Data Protection Regulation (the “GDPR”) with respect to your Personal Data, as outlined below .",
           "4",
           "Territorial Scope, Definitions.",
           "compliant"
          ],
          [
           "For this section, we use the terms “Personal Data” and “processing” as they are defined in the GDPR, but “Personal Data” generally means information that can be used to individually identify a person, and “processing” generally covers actions that can be performed in connection with data such as collection, use, storage and disclosure .",
           "4",
           "Definitions.",
           "compliant"
          ],
          [
           "IFTTT will be the controller of your Personal Data processed in connection with the Service .",
           "4",
           "Definitions, Controller identification.",
           "compliant"
          ],
          [
           "IFTTT will be the controller of your Personal Data processed in connection with the Service .",
           "13",
           "Definitions, Controller identification.",
           "compliant"
          ],
          [
           "If there are any conflicts between this section and any other provision of this Privacy Policy, the policy or portion that is more protective of Personal Data shall control to the extent of such conflict .",
           null,
           "General Data Protection Principles.",
           "compliant"
          ],
          [
           "If you have any questions about this section or whether any of the following applies to you, please contact us at IFTTT@gdpr-rep . com .",
           "12",
           "Right of access, Right to information.",
           "compliant"
          ],
          [
           "If you have any questions about this section or whether any of the following applies to you, please contact us at IFTTT@gdpr-rep . com .",
           "13",
           "Right of access, Right to information.",
           "compliant"
          ],
          [
           "If you have any questions about this section or whether any of the following applies to you, please contact us at IFTTT@gdpr-rep . com .",
           "14",
           "Right of access, Right to information.",
           "compliant"
          ],
          [
           "What Personal Data Do We Collect From You ? We collect Personal Data about you when you provide such information directly to us, when third parties such as our business partners or service providers provide us with Personal Data about you, or when Personal Data about you is automatically collected in connection with your use of our Service .",
           "5",
           "Principles relating to processing of personal data, Lawfulness of processing.",
           "non-compliant"
          ],
          [
           "What Personal Data Do We Collect From You ? We collect Personal Data about you when you provide such information directly to us, when third parties such as our business partners or service providers provide us with Personal Data about you, or when Personal Data about you is automatically collected in connection with your use of our Service .",
           "6",
           "Principles relating to processing of personal data, Lawfulness of processing.",
           "non-compliant"
          ],
          [
           "Information we receive directly from you: We receive Personal Data directly from you when you provide us with such Personal Data, including without limitation the following: First and last name Email address Mailing address Telephone number Transaction Information (IFTTT does not store your credit or debit card information) User content, for example, action ingredients that are displayed when an Applet runs Information we receive from third party sources includes Applet trigger fields, ingredients, and action fields .",
           "5",
           "Principles relating to processing of personal data, Transparency and information, Right to information.",
           "non-compliant"
          ],
          [
           "Information we receive directly from you: We receive Personal Data directly from you when you provide us with such Personal Data, including without limitation the following: First and last name Email address Mailing address Telephone number Transaction Information (IFTTT does not store your credit or debit card information) User content, for example, action ingredients that are displayed when an Applet runs Information we receive from third party sources includes Applet trigger fields, ingredients, and action fields .",
           "13",
           "Principles relating to processing of personal data, Transparency and information, Right to information.",
           "non-compliant"
          ],
          [
           "Information we receive directly from you: We receive Personal Data directly from you when you provide us with such Personal Data, including without limitation the following: First and last name Email address Mailing address Telephone number Transaction Information (IFTTT does not store your credit or debit card information) User content, for example, action ingredients that are displayed when an Applet runs Information we receive from third party sources includes Applet trigger fields, ingredients, and action fields .",
           "14",
           "Principles relating to processing of personal data, Transparency and information, Right to information.",
           "non-compliant"
          ],
          [
           "This data is unique to your use of IFTTT and can be found on the Applet configuration panel for any of your Applets: https://ifttt . com/my_applets .",
           "12",
           "Transparent information, communication and modalities for the exercise of the rights of the data subject, Right of access.",
           "non-compliant"
          ],
          [
           "This data is unique to your use of IFTTT and can be found on the Applet configuration panel for any of your Applets: https://ifttt . com/my_applets .",
           "15",
           "Transparent information, communication and modalities for the exercise of the rights of the data subject, Right of access.",
           "non-compliant"
          ],
          [
           "Some third parties, such as our business partners and service providers, provide us with Personal Data about you, such as the following: Account information for third party Platform Services: If you interact with a third party Platform Service when using our Service, such as if you use a third party service to log-in to our Service (e . g . , Facebook Login or Google Sign-In), or if you share content from our Service through a third party social media Platform Service, the third party service will send us information about you, such as information from your public profile, if the third party service and your account settings allow such sharing . The information we receive will depend on the policies and your account settings with the third party service .",
           "14",
           "Information to be provided where personal data have not been obtained from the data subject.",
           "non-compliant"
          ],
          [
           "Information from our advertising partners: We receive information about you from some of our service providers who assist us with marketing or promotional services related to how you interact with our websites, applications, products, services, advertisements or communications .",
           "13",
           "Information to be provided where personal data are collected from the data subject, Information to be provided where personal data have not been obtained from the data subject.",
           "non-compliant"
          ],
          [
           "Information from our advertising partners: We receive information about you from some of our service providers who assist us with marketing or promotional services related to how you interact with our websites, applications, products, services, advertisements or communications .",
           "14",
           "Information to be provided where personal data are collected from the data subject, Information to be provided where personal data have not been obtained from the data subject.",
           "non-compliant"
          ],
          [
           "IFTTT takes the privacy of its users very seriously.",
           "25",
           "Data protection by design and by default, Security of processing",
           "compliant"
          ],
          [
           "IFTTT takes the privacy of its users very seriously.",
           "32",
           "Data protection by design and by default, Security of processing",
           "compliant"
          ],
          [
           "We encourage you to be aware when you leave the Service and to read the terms and conditions and privacy policy of each third party website or service that you visit or utilize.",
           "13",
           "Right to information, Right to access",
           "non-compliant"
          ],
          [
           "We encourage you to be aware when you leave the Service and to read the terms and conditions and privacy policy of each third party website or service that you visit or utilize.",
           "14",
           "Right to information, Right to access",
           "non-compliant"
          ],
          [
           "IFTTT has no control over, and assumes no responsibility for, the Content, accuracy, privacy policies, or practices of or opinions expressed in any third party websites or by any third party that you interact with through the Service.",
           "44",
           "Processor and controller, Joint controllership",
           "non-compliant"
          ],
          [
           "IFTTT has no control over, and assumes no responsibility for, the Content, accuracy, privacy policies, or practices of or opinions expressed in any third party websites or by any third party that you interact with through the Service.",
           "46",
           "Processor and controller, Joint controllership",
           "non-compliant"
          ],
          [
           "In addition, IFTTT will not and cannot monitor, verify, censor or edit the Content of any third party site or service.",
           "5",
           "Principles relating to processing of personal data, Data protection by design and by default",
           "non-compliant"
          ],
          [
           "In addition, IFTTT will not and cannot monitor, verify, censor or edit the Content of any third party site or service.",
           "25",
           "Principles relating to processing of personal data, Data protection by design and by default",
           "non-compliant"
          ],
          [
           "By using the Service, you release and hold us harmless from any and all liability arising from your use of any third party website or service.",
           "8",
           "Conditions applicable to child's consent in relation to information society services, Right to an effective judicial remedy against a controller or processor",
           "non-compliant"
          ],
          [
           "By using the Service, you release and hold us harmless from any and all liability arising from your use of any third party website or service.",
           "79",
           "Conditions applicable to child's consent in relation to information society services, Right to an effective judicial remedy against a controller or processor",
           "non-compliant"
          ],
          [
           "You should make whatever investigation you feel necessary or appropriate before proceeding with any online or offline transaction with any of these third parties.",
           "12",
           "Transparent information, communication and modalities for the exercise of the rights of the data subject, Information to be provided where personal data are collected from the data subject",
           "non-compliant"
          ],
          [
           "You should make whatever investigation you feel necessary or appropriate before proceeding with any online or offline transaction with any of these third parties.",
           "13",
           "Transparent information, communication and modalities for the exercise of the rights of the data subject, Information to be provided where personal data are collected from the data subject",
           "non-compliant"
          ],
          [
           "You agree that IFTTT shall not be responsible or liable for any loss or damage of any sort incurred as the result of any such dealings.",
           "82",
           "Right to compensation and liability",
           "non-compliant"
          ],
          [
           "If there is a dispute between participants on this site, or between users and any third party, you agree that IFTTT is under no obligation to become involved.",
           "77",
           "Right to lodge a complaint with a supervisory authority",
           "non-compliant"
          ],
          [
           "In the event that you have a dispute with one or more other users, you release IFTTT, its officers, employees, agents, and successors from claims, demands, and damages of every kind or nature, known or unknown, suspected or unsuspected, disclosed or undisclosed, arising out of or in any way related to such disputes and/or our Service.",
           "79",
           "Right to an effective judicial remedy against a controller or processor",
           "non-compliant"
          ],
          [
           "If you are a California resident, you shall and hereby do waive California Civil Code Section 1542, which says: \"A general release does not extend to claims which the creditor does not know or suspect to exist in his or her favor at the time of executing the release, which, if known by him or her must have materially affected his or her settlement with the debtor.\"",
           "79",
           "Right to an effective judicial remedy against a controller or processor",
           "non-compliant"
          ],
          [
           "We’re always trying to improve the Service, so it may change over time. We may suspend or discontinue any part of the Service, or we may introduce new features or impose limits on certain features or restrict access to parts or all of the Service.",
           "13",
           "Right to information, Right to access",
           "non-compliant"
          ],
          [
           "We’re always trying to improve the Service, so it may change over time. We may suspend or discontinue any part of the Service, or we may introduce new features or impose limits on certain features or restrict access to parts or all of the Service.",
           "14",
           "Right to information, Right to access",
           "non-compliant"
          ],
          [
           "We’ll try to give you notice when we make a material change to the Service that would adversely affect you, but this isn’t always practical.",
           "12",
           "Transparent information, communication and modalities for the exercise of the rights of the data subject",
           "non-compliant"
          ],
          [
           "Similarly, we reserve the right to remove any Content from the Service at any time, for any reason (including, but not limited to, if someone alleges you contributed that Content in violation of these Terms), in our sole discretion, and without notice.",
           "17",
           "Right to erasure ('right to be forgotten')",
           "non-compliant"
          ],
          [
           "You are responsible for all actions taken with your User ID and password.",
           "5(2)",
           "Data Controller accountability principle:  The controller shall be responsible for, and be able to demonstrate compliance with, the data protection principles (accountability).",
           "compliant"
          ],
          [
           "If you choose to share your User ID and password or your personal information with third parties, you are responsible for all actions taken with your account and therefore you should review that third party's privacy policy.",
           "4(7)",
           "Consent must be freely given, specific, informed and unambiguous.  Sharing data with third parties requires an active action from the data subject.",
           "compliant"
          ],
          [
           "If you choose to share your User ID and password or your personal information with third parties, you are responsible for all actions taken with your account and therefore you should review that third party's privacy policy.",
           "Recital 14",
           "Consent must be freely given, specific, informed and unambiguous.  Sharing data with third parties requires an active action from the data subject.",
           "compliant"
          ],
          [
           "When you visit the Site, we may send one or more \"cookies\" to your computer hard drive through your Web browser.",
           "12(1)",
           "Information provided to data subjects must be concise, transparent, intelligible, easily accessible, and in clear and plain language.",
           "compliant"
          ],
          [
           "When you visit the Site, we may send one or more \"cookies\" to your computer hard drive through your Web browser.",
           "Recital 39",
           "Information provided to data subjects must be concise, transparent, intelligible, easily accessible, and in clear and plain language.",
           "compliant"
          ],
          [
           "Any use of cookies by us will be solely for the purposes of improving the quality of access to the Site by storing user preferences, and tracking user trends, such as how people use the Site, and their Site access preferences.",
           "5(1)(b)",
           "Data minimization and purpose limitation: Data must be collected for specified, explicit and legitimate purposes and not further processed in a manner that is incompatible with those purposes. Legitimate interest can be a legal basis for processing, but it needs to be balanced against the rights and freedoms of the data subject.",
           "compliant"
          ],
          [
           "Any use of cookies by us will be solely for the purposes of improving the quality of access to the Site by storing user preferences, and tracking user trends, such as how people use the Site, and their Site access preferences.",
           "6(1)(f)",
           "Data minimization and purpose limitation: Data must be collected for specified, explicit and legitimate purposes and not further processed in a manner that is incompatible with those purposes. Legitimate interest can be a legal basis for processing, but it needs to be balanced against the rights and freedoms of the data subject.",
           "compliant"
          ],
          [
           "You are always free to decline our cookies if your browser permits, although in that case you may not be able to use certain features on the Site and you may be required to reenter your password or login information more frequently.",
           "7(3)",
           "Right to withdraw consent: The data subject shall have the right to withdraw his or her consent at any time.  It shall be as easy to withdraw as to give consent.",
           "compliant"
          ],
          [
           "You are always free to decline our cookies if your browser permits, although in that case you may not be able to use certain features on the Site and you may be required to reenter your password or login information more frequently.",
           "Recital 32",
           "Right to withdraw consent: The data subject shall have the right to withdraw his or her consent at any time.  It shall be as easy to withdraw as to give consent.",
           "compliant"
          ],
          [
           "We do not control the use of cookies by third parties.",
           "14",
           "Information to be provided where personal data have not been obtained from the data subject: If data is collected from a source other than the data subject, the controller must provide the data subject with information about the processing.",
           "compliant"
          ],
          [
           "You need to work to protect against unauthorized access to your passwords and to your computer by signing off once you have finished using a shared computer.",
           null,
           null,
           "non-compliant"
          ],
          [
           "If you lose control of your password, you may lose substantial control over your personal information and may be subject to legally binding actions taken on your behalf such as if someone used your User and ID password to forward libelous material through the Service.",
           null,
           null,
           "non-compliant"
          ],
          [
           "Therefore, if your password has been compromised for any reason, you should immediately change your password.",
           null,
           null,
           "non-compliant"
          ],
          [
           "Cookies tell us how and when pages in our Site are visited and by how many people.",
           "5(1)(c)",
           "Data minimization: Data must be adequate, relevant and limited to what is necessary for the purposes for which they are processed.  Collecting data on \"how many people\" visit a site may not be necessary for the stated purpose of improving site access.",
           "non-compliant"
          ],
          [
           "Cookies tell us how and when pages in our Site are visited and by how many people.",
           "Recital 39",
           "Data minimization: Data must be adequate, relevant and limited to what is necessary for the purposes for which they are processed.  Collecting data on \"how many people\" visit a site may not be necessary for the stated purpose of improving site access.",
           "non-compliant"
          ],
          [
           "We use cookies to allow you to enter your login information less frequently.",
           "6(1)",
           "Lawfulness of processing: This purpose (convenience) may not fall under the lawful bases for processing under GDPR. ",
           "non-compliant"
          ],
          [
           "To the extent IFTTT uses cookies, such cookies do not collect personal information, and we do not combine information collected through cookies with other personal information to tell us who you are or what your username or e-mail address is.",
           "Recital 30",
           "Online identifiers, including cookies, can constitute personal data when they can be used to identify an individual.",
           "non-compliant"
          ],
          [
           "Most browsers are initially set up to accept cookies, but you can reset your browser to refuse all cookies or to indicate when a cookie is being sent.",
           "4(11)",
           "Consent must be freely given. Pre-ticked boxes or browser settings that automatically accept cookies do not constitute valid consent.",
           "non-compliant"
          ],
          [
           "Most browsers are initially set up to accept cookies, but you can reset your browser to refuse all cookies or to indicate when a cookie is being sent.",
           "Recital 32",
           "Consent must be freely given. Pre-ticked boxes or browser settings that automatically accept cookies do not constitute valid consent.",
           "non-compliant"
          ],
          [
           "We may use third party service providers to facilitate or outsource one or more aspects of our business and therefore we may provide some of your personal information directly to these service providers.",
           "28",
           "Data Processing Agreements and data sharing: Controllers must have appropriate contracts in place with processors, outlining the subject matter, duration, nature and purpose of the processing, the type of data, and obligations and rights of the controller.  Data subjects must be informed about the involvement of processors.",
           "non-compliant"
          ],
          [
           "We may use third party service providers to facilitate or outsource one or more aspects of our business and therefore we may provide some of your personal information directly to these service providers.",
           "29",
           "Data Processing Agreements and data sharing: Controllers must have appropriate contracts in place with processors, outlining the subject matter, duration, nature and purpose of the processing, the type of data, and obligations and rights of the controller.  Data subjects must be informed about the involvement of processors.",
           "non-compliant"
          ],
          [
           "Which parts of this privacy policy comply with GDPR? Which parts are not GDPR compliant?\n    Please match the policy with the provisions, citing article numbers and legal provisions:\n\n    for example:\n    {\n        \"compliant\": [\n            {\n            \"section\": \"...\",\n            \"article numbers\": \"...\",\n            \"legal provisions\": \"...\"\n            }\n        ],\n        \"non_compliant\": [\n            {\n            \"section\": \"...\",\n            \"article numbers\": \"...\",\n            \"legal provisions\": \"...\",\n            \"amend\": \"...\"\n            }\n        ]\n    }\n    ",
           null,
           null,
           "non-compliant"
          ],
          [
           "IFTTT may elect to provide you with support or modifications for the Service (collectively, \"Support\"), in its sole discretion, and may change, reduce or terminate such Support at any time without notice to you .",
           "N/A - this is standard practice and not directly addressed in GDPR",
           "N/A - this is standard practice and not directly addressed in GDPR",
           "compliant"
          ],
          [
           "IFTTT reserves the right to charge fees for Support .",
           "N/A - this is standard practice and not directly addressed in GDPR",
           "N/A - this is standard practice and not directly addressed in GDPR",
           "compliant"
          ],
          [
           "IFTTT offers no refund or credits .",
           "N/A - this is standard practice and not directly addressed in GDPR",
           "N/A - this is standard practice and not directly addressed in GDPR",
           "compliant"
          ],
          [
           "Third party sites are not within the supervision or control of IFTTT . IFTTT does not make any representation or warranty whatsoever about any third party site that may be linked to or from or Service .",
           "N/A - this is standard practice and not directly addressed in GDPR",
           "N/A - this is standard practice and not directly addressed in GDPR",
           "compliant"
          ],
          [
           "Finally, you understand and agree that IFTTT, in performing the required technical steps to provide the Service to our users (including you), may need to make changes to your User Submissions to conform and adapt those User Submissions to the technical requirements of connection networks, devices, services, or media, and the foregoing licenses include the rights to do so .",
           "5(1)(b)",
           "Purpose limitation",
           "non-compliant"
          ],
          [
           "Unless agreed to separately in writing, IFTTT will automatically renew monthly subscriptions for an additional month and yearly subscription for an additional year at the then prevailing rates unless you cancel your subscription before the date of renewal .",
           "7(2)",
           "Explicit consent for renewals",
           "non-compliant"
          ],
          [
           "All Fees are exclusive of taxes or duties imposed by governing authorities . You are responsible for all taxes or duties associated with your use of the IFTTT .",
           "12(1)",
           "Transparent information, easily accessible",
           "non-compliant"
          ],
          [
           "Free Trial Period NOTWITHSTANDING ANYTHING CONTAINED HEREIN, ANY SERVICE PROVIDED DURING THE FREE TRIAL PERIOD IS PROVIDED “AS-IS” WITHOUT ANY REPRESENTATIONS, WARRANTIES OR INDEMNITIES .",
           "8(2)",
           "Explicit consent for children",
           "non-compliant"
          ],
          [
           "Upon the expiration of the Free Trial Period, you will only be able to access and use those features of the Service the use of which does not require the payment of a Fee, unless you subsequently upgrade to a paid version of the Service .",
           "N/A - this is standard practice and not directly addressed in GDPR",
           "N/A - this is standard practice and not directly addressed in GDPR",
           "non-compliant"
          ],
          [
           "All Fees are exclusive of all taxes, levies, or duties imposed by taxing authorities, and you are solely responsible for payment of all such taxes, levies, or duties, excluding only United States (federal or state) taxes .",
           "12(1)",
           "Transparent information, easily accessible",
           "non-compliant"
          ],
          [
           "IFTTT has no special relationship with or fiduciary duty to you . You acknowledge that IFTTT has no control over, and no duty to take any action regarding: which users gain access to the Service; what Content you access via the Service; what effects the Content may have on you; how you may interpret or use the Content; or what actions you may take as a result of having been exposed to the Content .",
           "14(2)(d)",
           "Information about the source of personal data",
           "non-compliant"
          ],
          [
           "IFTTT makes no representations concerning any Content contained in or accessed through the Service, and IFTTT will not be responsible or liable for the accuracy, copyright compliance, legality or decency of material contained in or accessed through the Service .",
           "14(2)(d)",
           "Information about the source of personal data",
           "non-compliant"
          ],
          [
           "Information we automatically collect when you use our Service: Some Personal Data is automatically collected when you use our Service, such as the following: IP address Device identifiers Web browser information Page view statistics Browsing history Usage information Transaction information (e . g . transaction amount, date and time such transaction occurred) Cookies and other tracking technologies (e .\ng . web beacons, pixel tags, SDKs, etc . ) Location information (e . g . IP address, zip code) Log data (e . g . access times, hardware and software information)",
           "5(1)(c)",
           "Data minimisation: Collection limited to what is necessary.",
           "compliant"
          ],
          [
           "Information we automatically collect when you use our Service: Some Personal Data is automatically collected when you use our Service, such as the following: IP address Device identifiers Web browser information Page view statistics Browsing history Usage information Transaction information (e . g . transaction amount, date and time such transaction occurred) Cookies and other tracking technologies (e .\ng . web beacons, pixel tags, SDKs, etc . ) Location information (e . g . IP address, zip code) Log data (e . g . access times, hardware and software information)",
           "Recital 39",
           "Data minimisation: Collection limited to what is necessary.",
           "compliant"
          ],
          [
           "How Do We Use Your Personal Data ? We process Personal Data to operate, improve, understand and personalize our Service .",
           "5(1)(b)",
           "Purpose limitation: Processed for specific, explicit and legitimate purposes.",
           "compliant"
          ],
          [
           "For example, we use Personal Data to: Create and manage user profiles Communicate with you about the Service Process orders Contact you about Service announcements, updates or offers Provide support and assistance for the Service Personalize website content and communications based on your preferences Meet contract or legal obligations Respond to user inquiries Fulfill user requests Comply with our legal or contractual obligations Resolve disputes Protect against or deter fraudulent, illegal or harmful actions Enforce our Terms of Service",
           "5(1)(b)",
           "Purpose limitation: Processed for specific, explicit and legitimate purposes.",
           "compliant"
          ],
          [
           "We will only process your Personal Data if we have a lawful basis for doing so .",
           "6(1)",
           "Lawfulness of processing: At least one legal basis required.",
           "compliant"
          ],
          [
           "Lawful bases for processing include consent, contractual necessity and our “legitimate interests” or the legitimate interest of others, as further described below .",
           "6(1)",
           "Lawfulness of processing: Lists acceptable legal bases.",
           "compliant"
          ],
          [
           "Contractual Necessity: We process the following categories of Personal Data as a matter of “contractual necessity”, meaning that we need to process the data to perform under our Terms of Use with you, which enables us to provide you with the Service .",
           "6(1)(b)",
           "Lawfulness of processing: Necessary for performance of a contract.",
           "compliant"
          ],
          [
           "When we process data due to contractual necessity, failure to provide such Personal Data will result in your inability to use some or all portions of the Service that require such data .",
           "6(1)(b)",
           "Lawfulness of processing: Consequences of not providing data for contractual necessity.",
           "compliant"
          ],
          [
           "When we process data due to contractual necessity, failure to provide such Personal Data will result in your inability to use some or all portions of the Service that require such data .",
           "Recital 43",
           "Lawfulness of processing: Consequences of not providing data for contractual necessity.",
           "compliant"
          ],
          [
           "Legitimate Interest: We process the following categories of Personal Data when we believe it furthers the legitimate interest of us or third parties .",
           "6(1)(f)",
           "Lawfulness of processing: Necessary for legitimate interests.",
           "compliant"
          ],
          [
           "Examples of these legitimate interests include: Operation and improvement of our business, products and services Marketing of our products and services Provision of customer support Protection from fraud or security threats Compliance with legal obligations Completion of corporate transactions",
           "6(1)(f)",
           "Lawfulness of processing: Examples of legitimate interests.",
           "compliant"
          ],
          [
           "Examples of these legitimate interests include: Operation and improvement of our business, products and services Marketing of our products and services Provision of customer support Protection from fraud or security threats Compliance with legal obligations Completion of corporate transactions",
           "Recital 47",
           "Lawfulness of processing: Examples of legitimate interests.",
           "compliant"
          ],
          [
           "Consent: In some cases, we process Personal Data based on the consent you expressly grant to us at the time we collect such data .",
           "6(1)(a)",
           "Lawfulness of processing: Consent as a legal basis.",
           "compliant"
          ],
          [
           "When we process Personal Data based on your consent, it will be expressly indicated to you at the point and time of collection .",
           "7(1)",
           "Conditions for consent: Freely given, specific, informed and unambiguous.",
           "compliant"
          ],
          [
           "When we process Personal Data based on your consent, it will be expressly indicated to you at the point and time of collection .",
           "12(1)",
           "Conditions for consent: Freely given, specific, informed and unambiguous.",
           "compliant"
          ],
          [
           "When we process Personal Data based on your consent, it will be expressly indicated to you at the point and time of collection .",
           "13(1)(c)",
           "Conditions for consent: Freely given, specific, informed and unambiguous.",
           "compliant"
          ],
          [
           "Other Processing Grounds: From time to time we may also need to process Personal Data to comply with a legal obligation, if it is necessary to protect the vital interests of you or other data subjects, or if it is necessary for a task carried out in the public interest .",
           "6(1)(c)",
           "Lawfulness of processing: Legal obligation, vital interests, public interest.",
           "compliant"
          ],
          [
           "Other Processing Grounds: From time to time we may also need to process Personal Data to comply with a legal obligation, if it is necessary to protect the vital interests of you or other data subjects, or if it is necessary for a task carried out in the public interest .",
           "(d)",
           "Lawfulness of processing: Legal obligation, vital interests, public interest.",
           "compliant"
          ],
          [
           "Other Processing Grounds: From time to time we may also need to process Personal Data to comply with a legal obligation, if it is necessary to protect the vital interests of you or other data subjects, or if it is necessary for a task carried out in the public interest .",
           "(e)",
           "Lawfulness of processing: Legal obligation, vital interests, public interest.",
           "compliant"
          ],
          [
           "How and With Whom Do We Share Your Data ? We share Personal Data with vendors, third party service providers and agents who work on our behalf and provide us with services related to the purposes described in this Privacy Policy or our Terms of Service .",
           "28",
           "Processors: Obligations and requirements for engaging processors.",
           "compliant"
          ],
          [
           "Cookies and other tracking technologies (e .\ng . web beacons, pixel tags, SDKs, etc . )",
           "5(1)(a)",
           "Lawfulness of processing: Lack of specific details on obtaining consent for cookies and tracking technologies.",
           "non-compliant"
          ],
          [
           "Cookies and other tracking technologies (e .\ng . web beacons, pixel tags, SDKs, etc . )",
           "Recital 58",
           "Lawfulness of processing: Lack of specific details on obtaining consent for cookies and tracking technologies.",
           "non-compliant"
          ],
          [
           "Legitimate Interest: We process the following categories of Personal Data when we believe it furthers the legitimate interest of us or third parties . \nExamples of these legitimate interests include: Operation and improvement of our business, products and services Marketing of our products and services Provision of customer support Protection from fraud or security threats Compliance with legal obligations Completion of corporate transactions",
           "6(1)(f)",
           "Legitimate interests: Vague and overly broad description. Requires a specific assessment for each purpose and balancing test against data subject rights.",
           "non-compliant"
          ],
          [
           "Legitimate Interest: We process the following categories of Personal Data when we believe it furthers the legitimate interest of us or third parties . \nExamples of these legitimate interests include: Operation and improvement of our business, products and services Marketing of our products and services Provision of customer support Protection from fraud or security threats Compliance with legal obligations Completion of corporate transactions",
           "Recital 47",
           "Legitimate interests: Vague and overly broad description. Requires a specific assessment for each purpose and balancing test against data subject rights.",
           "non-compliant"
          ],
          [
           "IFTTT’s YouTube service uses YouTube’s API services. By using IFTTT’s YouTube service, you agree to be bound by YouTube’s terms of service and privacy policy.",
           "13",
           "Lawfulness of processing, information to be provided",
           "compliant"
          ],
          [
           "IFTTT’s YouTube service uses YouTube’s API services. By using IFTTT’s YouTube service, you agree to be bound by YouTube’s terms of service and privacy policy.",
           "14",
           "Lawfulness of processing, information to be provided",
           "compliant"
          ],
          [
           "Connecting to IFTTT’s YouTube service will grant IFTTT access to the following: A list of current active members on your channel with the name of their YouTube channel and their channel URL, the profile picture of each current active member on your channel, how long each current active member has been a member of their current level on your channel, how long each current active member has been a member on your channel, when each member purchased their current active membership on your channel, information about the levels you offer on your channel (e.g., level names), your videos and playlists, and your YouTube activity.",
           "13",
           "Lawfulness of processing, information to be provided",
           "compliant"
          ],
          [
           "Connecting to IFTTT’s YouTube service will grant IFTTT access to the following: A list of current active members on your channel with the name of their YouTube channel and their channel URL, the profile picture of each current active member on your channel, how long each current active member has been a member of their current level on your channel, how long each current active member has been a member on your channel, when each member purchased their current active membership on your channel, information about the levels you offer on your channel (e.g., level names), your videos and playlists, and your YouTube activity.",
           "14",
           "Lawfulness of processing, information to be provided",
           "compliant"
          ],
          [
           "In addition to IFTTT’s normal procedure for deleting stored data, you may revoke IFTTT’s access to this data at any time by going to https://security.google.com/settings/security/permissions.",
           "15",
           "Right of access, right to erasure ('right to be forgotten')",
           "compliant"
          ],
          [
           "In addition to IFTTT’s normal procedure for deleting stored data, you may revoke IFTTT’s access to this data at any time by going to https://security.google.com/settings/security/permissions.",
           "17",
           "Right of access, right to erasure ('right to be forgotten')",
           "compliant"
          ],
          [
           "S. Government embargo, or that has been designated by the U.S. Government as a “terrorist supporting” country, and that you are not listed on any U.S. Government list of prohibited or restricted parties",
           "14",
           "Information to be provided",
           "non-compliant"
          ],
          [
           "Both you and IFTTT acknowledge and agree that, in your use of the Mobile App, you will comply with any applicable third party terms of agreement which may affect or be affected by such use",
           "13",
           "Lawfulness of processing, information to be provided",
           "non-compliant"
          ],
          [
           "Both you and IFTTT acknowledge and agree that, in your use of the Mobile App, you will comply with any applicable third party terms of agreement which may affect or be affected by such use",
           "14",
           "Lawfulness of processing, information to be provided",
           "non-compliant"
          ],
          [
           "Both you and IFTTT acknowledge and agree that Apple and Apple’s subsidiaries are third party beneficiaries of these Terms, and that upon your acceptance of these Terms, Apple will have the right (and will be deemed to have accepted the right) to enforce these Terms against you as the third party beneficiary hereof.",
           "13",
           "Lawfulness of processing, information to be provided, processor obligations",
           "non-compliant"
          ],
          [
           "Both you and IFTTT acknowledge and agree that Apple and Apple’s subsidiaries are third party beneficiaries of these Terms, and that upon your acceptance of these Terms, Apple will have the right (and will be deemed to have accepted the right) to enforce these Terms against you as the third party beneficiary hereof.",
           "14",
           "Lawfulness of processing, information to be provided, processor obligations",
           "non-compliant"
          ],
          [
           "Both you and IFTTT acknowledge and agree that Apple and Apple’s subsidiaries are third party beneficiaries of these Terms, and that upon your acceptance of these Terms, Apple will have the right (and will be deemed to have accepted the right) to enforce these Terms against you as the third party beneficiary hereof.",
           "28",
           "Lawfulness of processing, information to be provided, processor obligations",
           "non-compliant"
          ],
          [
           "This is a license only – your ownership in User Submissions is not affected.",
           "17",
           "Right to erasure ('right to be forgotten')",
           "compliant"
          ],
          [
           "If you store a User Submission in your own personal IFTTT account, in a manner that is not viewable by any other user except you (a “Personal User Submission”), you grant IFTTT the license above, as well as a license to display, perform, and distribute your Personal User Submission for the sole purpose of making that Personal User Submission accessible to you and providing the Service necessary to do so.",
           "6(1)(b)",
           "Lawfulness of processing (consent)",
           "compliant"
          ],
          [
           "If you share a User Submission only in a manner that only certain specified users can view (for example, a private message to one or more other users) (a “Limited Audience User Submission”), then you grant IFTTT the licenses above, as well as a license to display, perform, and distribute your Limited Audience User Submission for the sole purpose of making that Limited Audience User Submission accessible to such other specified users, and providing the Service necessary to do so.",
           "6(1)(b)",
           "Lawfulness of processing (consent)",
           "compliant"
          ],
          [
           "You agree that the licenses you grant are royalty-free, perpetual, sublicenseable, irrevocable, and worldwide",
           "17",
           "Right to erasure ('right to be forgotten')",
           "non-compliant"
          ],
          [
           "provided that when you delete your IFTTT account, we will stop displaying your User Submissions (other than Public User Submissions, which may remain fully available) to other users (if applicable), but you understand and agree that it may not be possible to completely delete that content from IFTTT’s records, and that your User Submissions may remain viewable elsewhere to the extent that they were copied or stored by other users.",
           "17",
           "Right to erasure ('right to be forgotten')",
           "non-compliant"
          ],
          [
           "We may de-identify your Personal Information so that you are not identified as an individual, and provide that information to our partners .",
           "4(5)",
           "Pseudonymisation allows data to be processed in such a way that the data subject is no longer identifiable without the use of additional information.  This aligns with GDPR's principle of data minimisation.",
           "compliant"
          ],
          [
           "We may de-identify your Personal Information so that you are not identified as an individual, and provide that information to our partners .",
           "Rec 26",
           "Pseudonymisation allows data to be processed in such a way that the data subject is no longer identifiable without the use of additional information.  This aligns with GDPR's principle of data minimisation.",
           "compliant"
          ],
          [
           "We may also provide aggregate usage information to our partners (or allow partners to collect that information from you), who may use such information to understand how often and in what ways people use our Services, so that they, too, can provide you with an optimal online experience .",
           "4(5)",
           "Similar to the above, providing aggregate usage data, where individuals are not identifiable, is permissible under GDPR.",
           "compliant"
          ],
          [
           "We may also provide aggregate usage information to our partners (or allow partners to collect that information from you), who may use such information to understand how often and in what ways people use our Services, so that they, too, can provide you with an optimal online experience .",
           "Rec 26",
           "Similar to the above, providing aggregate usage data, where individuals are not identifiable, is permissible under GDPR.",
           "compliant"
          ],
          [
           "These service providers are subject to confidentiality agreements with us and other legal restrictions that prohibit their use of the information we provide them for any other purpose except to facilitate the specific outsourced IFTTT related operation, unless you have given your prior permission to them for additional uses .",
           "28",
           "While data processing agreements are required with processors (Art. 28), the language around 'prior permission' is not specific enough for GDPR. Consent must be freely given, specific, informed, and unambiguous (Art. 6(1)(a)).",
           "non-compliant"
          ],
          [
           "These service providers are subject to confidentiality agreements with us and other legal restrictions that prohibit their use of the information we provide them for any other purpose except to facilitate the specific outsourced IFTTT related operation, unless you have given your prior permission to them for additional uses .",
           "6(1)(a)",
           "While data processing agreements are required with processors (Art. 28), the language around 'prior permission' is not specific enough for GDPR. Consent must be freely given, specific, informed, and unambiguous (Art. 6(1)(a)).",
           "non-compliant"
          ],
          [
           "We may share our data, including personal information about you with our partners and joint ventures in furtherance of our business . To the extent that these entities have access to your information, they will treat it at least as protectively as they treat information they obtain from their other users .",
           "6(1)",
           "Sharing data with partners requires a valid legal basis under GDPR (Art. 6(1)). 'Furtherance of our business' is too vague. The policy should specify the legal basis (e.g., legitimate interests, contract) and provide transparency to users about the specific purposes (Art. 14).",
           "non-compliant"
          ],
          [
           "We may share our data, including personal information about you with our partners and joint ventures in furtherance of our business . To the extent that these entities have access to your information, they will treat it at least as protectively as they treat information they obtain from their other users .",
           "14",
           "Sharing data with partners requires a valid legal basis under GDPR (Art. 6(1)). 'Furtherance of our business' is too vague. The policy should specify the legal basis (e.g., legitimate interests, contract) and provide transparency to users about the specific purposes (Art. 14).",
           "non-compliant"
          ],
          [
           "Our partners and joint ventures follow privacy practices no less protective of all users than our practices described in this document, to the extent allowed by applicable law .",
           "44",
           "GDPR sets a high bar for data protection. Relying on partners to have 'no less protective' practices, especially with the caveat 'to the extent allowed by applicable law,' is insufficient. Transfers to third countries require appropriate safeguards (e.g., adequacy decisions, SCCs).",
           "non-compliant"
          ],
          [
           "Our partners and joint ventures follow privacy practices no less protective of all users than our practices described in this document, to the extent allowed by applicable law .",
           "45",
           "GDPR sets a high bar for data protection. Relying on partners to have 'no less protective' practices, especially with the caveat 'to the extent allowed by applicable law,' is insufficient. Transfers to third countries require appropriate safeguards (e.g., adequacy decisions, SCCs).",
           "non-compliant"
          ],
          [
           "Our partners and joint ventures follow privacy practices no less protective of all users than our practices described in this document, to the extent allowed by applicable law .",
           "46",
           "GDPR sets a high bar for data protection. Relying on partners to have 'no less protective' practices, especially with the caveat 'to the extent allowed by applicable law,' is insufficient. Transfers to third countries require appropriate safeguards (e.g., adequacy decisions, SCCs).",
           "non-compliant"
          ],
          [
           "In some cases, we may choose to buy or sell assets . In these types of transactions, customer information is typically one of the business assets that is transferred . Moreover, if IFTTT, or substantially all of its assets, were acquired, or in the unlikely event that IFTTT goes out of business or enters bankruptcy, customer information would be one of the assets that may be transferred to or acquired by a third party . You acknowledge that such transfers may occur, and that any acquirer of IFTTT may continue to use your personal information as set forth in this policy .",
           "13(1)(d)",
           "Users need to be informed about potential future transfers as part of their rights to information (Art. 13(1)(d), Art. 14(2)(a)). The policy should be more transparent about how user consent will be managed in a merger or acquisition.",
           "non-compliant"
          ],
          [
           "In some cases, we may choose to buy or sell assets . In these types of transactions, customer information is typically one of the business assets that is transferred . Moreover, if IFTTT, or substantially all of its assets, were acquired, or in the unlikely event that IFTTT goes out of business or enters bankruptcy, customer information would be one of the assets that may be transferred to or acquired by a third party . You acknowledge that such transfers may occur, and that any acquirer of IFTTT may continue to use your personal information as set forth in this policy .",
           "14(2)(a)",
           "Users need to be informed about potential future transfers as part of their rights to information (Art. 13(1)(d), Art. 14(2)(a)). The policy should be more transparent about how user consent will be managed in a merger or acquisition.",
           "non-compliant"
          ],
          [
           "IFTTT cooperates with law enforcement inquiries, as well as other third parties to enforce laws and intellectual property rights . Therefore, in response to a verified request by law enforcement or other government officials relating to a criminal investigation or alleged illegal activity, we can (and you authorize us to) disclose your name, city, state, telephone number, and email address . We will not otherwise disclose your personal information to law enforcement or other government officials without a subpoena, court order or substantially similar legal procedure, except when we believe in good faith that the disclosure of information is necessary to prevent imminent physical harm or financial loss; or report suspected illegal activity .",
           "6(1)(c)",
           "While cooperation with law enforcement is permissible, the policy needs to balance this with data subject rights. The broad statement 'you authorize us to disclose' may not comply with the requirement for a legal basis for processing (Art. 6(1)).",
           "non-compliant"
          ],
          [
           "IFTTT cooperates with law enforcement inquiries, as well as other third parties to enforce laws and intellectual property rights . Therefore, in response to a verified request by law enforcement or other government officials relating to a criminal investigation or alleged illegal activity, we can (and you authorize us to) disclose your name, city, state, telephone number, and email address . We will not otherwise disclose your personal information to law enforcement or other government officials without a subpoena, court order or substantially similar legal procedure, except when we believe in good faith that the disclosure of information is necessary to prevent imminent physical harm or financial loss; or report suspected illegal activity .",
           "6(1)(f)",
           "While cooperation with law enforcement is permissible, the policy needs to balance this with data subject rights. The broad statement 'you authorize us to disclose' may not comply with the requirement for a legal basis for processing (Art. 6(1)).",
           "non-compliant"
          ],
          [
           "This Privacy Policy applies to the IFTTT Service only . We do not exercise control over any sites that you may visit from a link on our Site . These other sites may place their own cookies or other files on your computer, collect data or solicit personal information from you . Since IFTTT does not control the privacy policies of third parties, you are subject to the privacy policies of that third party . We encourage you to ask questions before you disclose your personal information to others .",
           "Rec 13",
           "GDPR emphasizes accountability. While not directly liable for third-party practices, the policy should provide more guidance to users about protecting their data when leaving IFTTT's site.",
           "non-compliant"
          ],
          [
           "This Privacy Policy applies to the IFTTT Service only . We do not exercise control over any sites that you may visit from a link on our Site . These other sites may place their own cookies or other files on your computer, collect data or solicit personal information from you . Since IFTTT does not control the privacy policies of third parties, you are subject to the privacy policies of that third party . We encourage you to ask questions before you disclose your personal information to others .",
           "Rec 14",
           "GDPR emphasizes accountability. While not directly liable for third-party practices, the policy should provide more guidance to users about protecting their data when leaving IFTTT's site.",
           "non-compliant"
          ],
          [
           "You can choose not to provide us with certain information, though you may not be able to take advantage of many Service features .",
           "7(3)",
           "Right to withdraw consent, Transparency requirements, Information to be provided where personal data have not been obtained from the data subject.",
           "compliant"
          ],
          [
           "You can choose not to provide us with certain information, though you may not be able to take advantage of many Service features .",
           "13(1)(c)",
           "Right to withdraw consent, Transparency requirements, Information to be provided where personal data have not been obtained from the data subject.",
           "compliant"
          ],
          [
           "You can choose not to provide us with certain information, though you may not be able to take advantage of many Service features .",
           "14(2)(d)",
           "Right to withdraw consent, Transparency requirements, Information to be provided where personal data have not been obtained from the data subject.",
           "compliant"
          ],
          [
           "The personal information you provide may be used for such purposes as responding to your questions or requests, customizing the content you see, and communicating with you about new Service features .",
           "5(1)(b)",
           "Purpose limitation - collected for specified, explicit and legitimate purposes and not further processed in a manner that is incompatible with those purposes",
           "compliant"
          ],
          [
           "If you send us personal correspondence, such as emails or letters, or if other users or third parties send us correspondence about your activities or postings on the Service, we may collect such information into a file specific to you .",
           "5(1)(c)",
           "Storage limitation - kept in a form which permits identification of data subjects for no longer than is necessary for the purposes for which the personal data are processed",
           "compliant"
          ],
          [
           "You agree that we may use your personal information to contact you as provided herein, though our intent is that email is the only channel we will use to contact you without your consent .",
           "7(4)",
           "Right to withdraw consent, Transparency requirements, Information to be provided where personal data have not been obtained from the data subject.",
           "compliant"
          ],
          [
           "You agree that we may use your personal information to contact you as provided herein, though our intent is that email is the only channel we will use to contact you without your consent .",
           "13(1)(c)",
           "Right to withdraw consent, Transparency requirements, Information to be provided where personal data have not been obtained from the data subject.",
           "compliant"
          ],
          [
           "You agree that we may use your personal information to contact you as provided herein, though our intent is that email is the only channel we will use to contact you without your consent .",
           "14(2)(d)",
           "Right to withdraw consent, Transparency requirements, Information to be provided where personal data have not been obtained from the data subject.",
           "compliant"
          ],
          [
           "Although Google Analytics plants a persistent Cookie to identify you as a unique user the next time you visit the Service, the Cookie cannot be used by anyone but Google . Google’s ability to use and share information collected by Google Analytics about your visits to the Service is restricted by the Google Analytics Terms of Use and the Google Privacy Policy . You may find additional information about Google Analytics at http://www . google . com/policies/privacy/partners .",
           "4(12)",
           "Clear and unambiguous consent, Right to withdraw consent, Transparent information, communication and modalities for the exercise of the rights of the data subject, Information to be provided where personal data have not been obtained from the data subject.",
           "non-compliant"
          ],
          [
           "Although Google Analytics plants a persistent Cookie to identify you as a unique user the next time you visit the Service, the Cookie cannot be used by anyone but Google . Google’s ability to use and share information collected by Google Analytics about your visits to the Service is restricted by the Google Analytics Terms of Use and the Google Privacy Policy . You may find additional information about Google Analytics at http://www . google . com/policies/privacy/partners .",
           "7(3)",
           "Clear and unambiguous consent, Right to withdraw consent, Transparent information, communication and modalities for the exercise of the rights of the data subject, Information to be provided where personal data have not been obtained from the data subject.",
           "non-compliant"
          ],
          [
           "Although Google Analytics plants a persistent Cookie to identify you as a unique user the next time you visit the Service, the Cookie cannot be used by anyone but Google . Google’s ability to use and share information collected by Google Analytics about your visits to the Service is restricted by the Google Analytics Terms of Use and the Google Privacy Policy . You may find additional information about Google Analytics at http://www . google . com/policies/privacy/partners .",
           "12(1)",
           "Clear and unambiguous consent, Right to withdraw consent, Transparent information, communication and modalities for the exercise of the rights of the data subject, Information to be provided where personal data have not been obtained from the data subject.",
           "non-compliant"
          ],
          [
           "Although Google Analytics plants a persistent Cookie to identify you as a unique user the next time you visit the Service, the Cookie cannot be used by anyone but Google . Google’s ability to use and share information collected by Google Analytics about your visits to the Service is restricted by the Google Analytics Terms of Use and the Google Privacy Policy . You may find additional information about Google Analytics at http://www . google . com/policies/privacy/partners .",
           "13(1)(d)",
           "Clear and unambiguous consent, Right to withdraw consent, Transparent information, communication and modalities for the exercise of the rights of the data subject, Information to be provided where personal data have not been obtained from the data subject.",
           "non-compliant"
          ],
          [
           "Although Google Analytics plants a persistent Cookie to identify you as a unique user the next time you visit the Service, the Cookie cannot be used by anyone but Google . Google’s ability to use and share information collected by Google Analytics about your visits to the Service is restricted by the Google Analytics Terms of Use and the Google Privacy Policy . You may find additional information about Google Analytics at http://www . google . com/policies/privacy/partners .",
           "14(2)(d)",
           "Clear and unambiguous consent, Right to withdraw consent, Transparent information, communication and modalities for the exercise of the rights of the data subject, Information to be provided where personal data have not been obtained from the data subject.",
           "non-compliant"
          ],
          [
           "Information Collected From Other Websites and Do Not Track Policy Through cookies we place on your browser or device, we may collect information about your online activity after you leave our Service . Just like any other usage information we collect, this information allows us to improve the Service and customize your online experience, and otherwise as described in this Privacy Policy . Your browser may offer you a “Do Not Track” option, which allows you to signal to operators of websites and web applications and services (including behavioral advertising services) that you do not wish such operators to track certain of your online activities over time and across different websites . Our Service does not support Do Not Track requests at this time, which means that we collect information about your online activity both while you are using the Service and after you leave our Service .",
           "4(12)",
           "Clear and unambiguous consent, Lawfulness of processing, Right to withdraw consent, Transparent information, communication and modalities for the exercise of the rights of the data subject, Information to be provided where personal data have not been obtained from the data subject.",
           "non-compliant"
          ],
          [
           "Information Collected From Other Websites and Do Not Track Policy Through cookies we place on your browser or device, we may collect information about your online activity after you leave our Service . Just like any other usage information we collect, this information allows us to improve the Service and customize your online experience, and otherwise as described in this Privacy Policy . Your browser may offer you a “Do Not Track” option, which allows you to signal to operators of websites and web applications and services (including behavioral advertising services) that you do not wish such operators to track certain of your online activities over time and across different websites . Our Service does not support Do Not Track requests at this time, which means that we collect information about your online activity both while you are using the Service and after you leave our Service .",
           "5(1)(a)",
           "Clear and unambiguous consent, Lawfulness of processing, Right to withdraw consent, Transparent information, communication and modalities for the exercise of the rights of the data subject, Information to be provided where personal data have not been obtained from the data subject.",
           "non-compliant"
          ],
          [
           "Information Collected From Other Websites and Do Not Track Policy Through cookies we place on your browser or device, we may collect information about your online activity after you leave our Service . Just like any other usage information we collect, this information allows us to improve the Service and customize your online experience, and otherwise as described in this Privacy Policy . Your browser may offer you a “Do Not Track” option, which allows you to signal to operators of websites and web applications and services (including behavioral advertising services) that you do not wish such operators to track certain of your online activities over time and across different websites . Our Service does not support Do Not Track requests at this time, which means that we collect information about your online activity both while you are using the Service and after you leave our Service .",
           "7(3)",
           "Clear and unambiguous consent, Lawfulness of processing, Right to withdraw consent, Transparent information, communication and modalities for the exercise of the rights of the data subject, Information to be provided where personal data have not been obtained from the data subject.",
           "non-compliant"
          ],
          [
           "Information Collected From Other Websites and Do Not Track Policy Through cookies we place on your browser or device, we may collect information about your online activity after you leave our Service . Just like any other usage information we collect, this information allows us to improve the Service and customize your online experience, and otherwise as described in this Privacy Policy . Your browser may offer you a “Do Not Track” option, which allows you to signal to operators of websites and web applications and services (including behavioral advertising services) that you do not wish such operators to track certain of your online activities over time and across different websites . Our Service does not support Do Not Track requests at this time, which means that we collect information about your online activity both while you are using the Service and after you leave our Service .",
           "12(1)",
           "Clear and unambiguous consent, Lawfulness of processing, Right to withdraw consent, Transparent information, communication and modalities for the exercise of the rights of the data subject, Information to be provided where personal data have not been obtained from the data subject.",
           "non-compliant"
          ],
          [
           "Information Collected From Other Websites and Do Not Track Policy Through cookies we place on your browser or device, we may collect information about your online activity after you leave our Service . Just like any other usage information we collect, this information allows us to improve the Service and customize your online experience, and otherwise as described in this Privacy Policy . Your browser may offer you a “Do Not Track” option, which allows you to signal to operators of websites and web applications and services (including behavioral advertising services) that you do not wish such operators to track certain of your online activities over time and across different websites . Our Service does not support Do Not Track requests at this time, which means that we collect information about your online activity both while you are using the Service and after you leave our Service .",
           "13(1)(d)",
           "Clear and unambiguous consent, Lawfulness of processing, Right to withdraw consent, Transparent information, communication and modalities for the exercise of the rights of the data subject, Information to be provided where personal data have not been obtained from the data subject.",
           "non-compliant"
          ],
          [
           "Information Collected From Other Websites and Do Not Track Policy Through cookies we place on your browser or device, we may collect information about your online activity after you leave our Service . Just like any other usage information we collect, this information allows us to improve the Service and customize your online experience, and otherwise as described in this Privacy Policy . Your browser may offer you a “Do Not Track” option, which allows you to signal to operators of websites and web applications and services (including behavioral advertising services) that you do not wish such operators to track certain of your online activities over time and across different websites . Our Service does not support Do Not Track requests at this time, which means that we collect information about your online activity both while you are using the Service and after you leave our Service .",
           "14(2)(d)",
           "Clear and unambiguous consent, Lawfulness of processing, Right to withdraw consent, Transparent information, communication and modalities for the exercise of the rights of the data subject, Information to be provided where personal data have not been obtained from the data subject.",
           "non-compliant"
          ],
          [
           "Also, once you install any Mobile Apps and enable specific Platform Services, you may be providing us with additional information, such as contacts and camera-photos on your device . Additionally, we may collect information about your location and calendar in order to provide you with more personalized Service . Again, you can choose not to provide us with certain information, though you may not be able to take advantage of many Service features .",
           "4(12)",
           "Clear and unambiguous consent, Lawfulness of processing, Right to withdraw consent, Transparent information, communication and modalities for the exercise of the rights of the data subject, Information to be provided where personal data have not been obtained from the data subject.",
           "non-compliant"
          ],
          [
           "Also, once you install any Mobile Apps and enable specific Platform Services, you may be providing us with additional information, such as contacts and camera-photos on your device . Additionally, we may collect information about your location and calendar in order to provide you with more personalized Service . Again, you can choose not to provide us with certain information, though you may not be able to take advantage of many Service features .",
           "5(1)(a)",
           "Clear and unambiguous consent, Lawfulness of processing, Right to withdraw consent, Transparent information, communication and modalities for the exercise of the rights of the data subject, Information to be provided where personal data have not been obtained from the data subject.",
           "non-compliant"
          ],
          [
           "Also, once you install any Mobile Apps and enable specific Platform Services, you may be providing us with additional information, such as contacts and camera-photos on your device . Additionally, we may collect information about your location and calendar in order to provide you with more personalized Service . Again, you can choose not to provide us with certain information, though you may not be able to take advantage of many Service features .",
           "7(3)",
           "Clear and unambiguous consent, Lawfulness of processing, Right to withdraw consent, Transparent information, communication and modalities for the exercise of the rights of the data subject, Information to be provided where personal data have not been obtained from the data subject.",
           "non-compliant"
          ],
          [
           "Also, once you install any Mobile Apps and enable specific Platform Services, you may be providing us with additional information, such as contacts and camera-photos on your device . Additionally, we may collect information about your location and calendar in order to provide you with more personalized Service . Again, you can choose not to provide us with certain information, though you may not be able to take advantage of many Service features .",
           "12(1)",
           "Clear and unambiguous consent, Lawfulness of processing, Right to withdraw consent, Transparent information, communication and modalities for the exercise of the rights of the data subject, Information to be provided where personal data have not been obtained from the data subject.",
           "non-compliant"
          ],
          [
           "Also, once you install any Mobile Apps and enable specific Platform Services, you may be providing us with additional information, such as contacts and camera-photos on your device . Additionally, we may collect information about your location and calendar in order to provide you with more personalized Service . Again, you can choose not to provide us with certain information, though you may not be able to take advantage of many Service features .",
           "13(1)(d)",
           "Clear and unambiguous consent, Lawfulness of processing, Right to withdraw consent, Transparent information, communication and modalities for the exercise of the rights of the data subject, Information to be provided where personal data have not been obtained from the data subject.",
           "non-compliant"
          ],
          [
           "Also, once you install any Mobile Apps and enable specific Platform Services, you may be providing us with additional information, such as contacts and camera-photos on your device . Additionally, we may collect information about your location and calendar in order to provide you with more personalized Service . Again, you can choose not to provide us with certain information, though you may not be able to take advantage of many Service features .",
           "14(2)(d)",
           "Clear and unambiguous consent, Lawfulness of processing, Right to withdraw consent, Transparent information, communication and modalities for the exercise of the rights of the data subject, Information to be provided where personal data have not been obtained from the data subject.",
           "non-compliant"
          ],
          [
           "If you provide your third-party account credentials to us or otherwise sign in to the Services through a third party site or Platform Service, you understand some content and/or information in those accounts (“Third Party Account Information”) may be transmitted into your account with us if you authorize such transmissions, and that Third Party Account Information transmitted to our Services is covered by this Privacy Policy .",
           "4(12)",
           "Clear and unambiguous consent, Lawfulness of processing, Right to withdraw consent, Transparent information, communication and modalities for the exercise of the rights of the data subject, Information to be provided where personal data have not been obtained from the data subject.",
           "non-compliant"
          ],
          [
           "If you provide your third-party account credentials to us or otherwise sign in to the Services through a third party site or Platform Service, you understand some content and/or information in those accounts (“Third Party Account Information”) may be transmitted into your account with us if you authorize such transmissions, and that Third Party Account Information transmitted to our Services is covered by this Privacy Policy .",
           "5(1)(a)",
           "Clear and unambiguous consent, Lawfulness of processing, Right to withdraw consent, Transparent information, communication and modalities for the exercise of the rights of the data subject, Information to be provided where personal data have not been obtained from the data subject.",
           "non-compliant"
          ],
          [
           "If you provide your third-party account credentials to us or otherwise sign in to the Services through a third party site or Platform Service, you understand some content and/or information in those accounts (“Third Party Account Information”) may be transmitted into your account with us if you authorize such transmissions, and that Third Party Account Information transmitted to our Services is covered by this Privacy Policy .",
           "7(3)",
           "Clear and unambiguous consent, Lawfulness of processing, Right to withdraw consent, Transparent information, communication and modalities for the exercise of the rights of the data subject, Information to be provided where personal data have not been obtained from the data subject.",
           "non-compliant"
          ],
          [
           "If you provide your third-party account credentials to us or otherwise sign in to the Services through a third party site or Platform Service, you understand some content and/or information in those accounts (“Third Party Account Information”) may be transmitted into your account with us if you authorize such transmissions, and that Third Party Account Information transmitted to our Services is covered by this Privacy Policy .",
           "12(1)",
           "Clear and unambiguous consent, Lawfulness of processing, Right to withdraw consent, Transparent information, communication and modalities for the exercise of the rights of the data subject, Information to be provided where personal data have not been obtained from the data subject.",
           "non-compliant"
          ],
          [
           "If you provide your third-party account credentials to us or otherwise sign in to the Services through a third party site or Platform Service, you understand some content and/or information in those accounts (“Third Party Account Information”) may be transmitted into your account with us if you authorize such transmissions, and that Third Party Account Information transmitted to our Services is covered by this Privacy Policy .",
           "13(1)(d)",
           "Clear and unambiguous consent, Lawfulness of processing, Right to withdraw consent, Transparent information, communication and modalities for the exercise of the rights of the data subject, Information to be provided where personal data have not been obtained from the data subject.",
           "non-compliant"
          ],
          [
           "If you provide your third-party account credentials to us or otherwise sign in to the Services through a third party site or Platform Service, you understand some content and/or information in those accounts (“Third Party Account Information”) may be transmitted into your account with us if you authorize such transmissions, and that Third Party Account Information transmitted to our Services is covered by this Privacy Policy .",
           "14(2)(d)",
           "Clear and unambiguous consent, Lawfulness of processing, Right to withdraw consent, Transparent information, communication and modalities for the exercise of the rights of the data subject, Information to be provided where personal data have not been obtained from the data subject.",
           "non-compliant"
          ],
          [
           "Name: IFTTT, Inc. Mailing address: 2261 Market Street #4383, San Francisco, CA 94114, Attn: Legal.",
           "13",
           "Right to information",
           "compliant"
          ],
          [
           "Name: IFTTT, Inc. Mailing address: 2261 Market Street #4383, San Francisco, CA 94114, Attn: Legal.",
           "14",
           "Right to information",
           "compliant"
          ],
          [
           "Designated EU representative and contact information: DP-Dock GmbH Ballindamm 39 20095 Hamburg Germany Email: IFTTT@gdpr-rep.com Tel: +49 (0) 40 99999 - 3430 Fax: +49 (0) 40 99999 - 3332 www.dp-dock.com Designated UK representative and contact information: DP Data Protection Services UK Ltd. Attn: IFTTT Inc. 16 Great Queen Street Covent Garden London WC2B 5AH United Kingdom Email: IFTTT@gdpr-rep.com www.dp-dock.com",
           "27",
           "Representatives of controllers or processors not established in the Union",
           "compliant"
          ],
          [
           "By using the Service, you acknowledge that any Personal Data about you, regardless of whether provided by you or obtained from a third party, is being provided to IFTTT in the U.S. and will be hosted on U.S. servers, and you authorize IFTTT to transfer, store and process your information to and in the U.S., and possibly other countries.",
           "44",
           "Transfers subject to appropriate safeguards",
           "non-compliant"
          ],
          [
           "By using the Service, you acknowledge that any Personal Data about you, regardless of whether provided by you or obtained from a third party, is being provided to IFTTT in the U.S. and will be hosted on U.S. servers, and you authorize IFTTT to transfer, store and process your information to and in the U.S., and possibly other countries.",
           "45",
           "Transfers subject to appropriate safeguards",
           "non-compliant"
          ],
          [
           "By using the Service, you acknowledge that any Personal Data about you, regardless of whether provided by you or obtained from a third party, is being provided to IFTTT in the U.S. and will be hosted on U.S. servers, and you authorize IFTTT to transfer, store and process your information to and in the U.S., and possibly other countries.",
           "46",
           "Transfers subject to appropriate safeguards",
           "non-compliant"
          ],
          [
           "This entire section lacks details about data subject rights.",
           "12-23",
           "Transparent information, communication and modalities for the exercise of the rights of the data subject",
           "non-compliant"
          ],
          [
           "Access: You can request more information about the Personal Data we hold about you and request a copy of such Personal Data .",
           "15(1)",
           "Right of access by the data subject",
           "compliant"
          ],
          [
           "You can also access certain of your Personal Data by choosing to export your data .",
           "20(1)",
           "Right to data portability",
           "compliant"
          ],
          [
           "Rectification: If you believe that any Personal Data we are holding about you is incorrect or incomplete, you can request that we correct or supplement such data .",
           "16",
           "Right to rectification",
           "compliant"
          ],
          [
           "You can also correct some of this information directly by editing your Account Settings .",
           "16",
           "Right to rectification",
           "compliant"
          ],
          [
           "Erasure: You can request that we erase some or all of your Personal Data from our systems .",
           "17(1)",
           "Right to erasure ('right to be forgotten')",
           "compliant"
          ],
          [
           "Withdrawal of Consent: If we are processing your Personal Data based on your consent (as indicated at the time of collection of such data), you have the right to withdraw your consent at any time .",
           "7(3)",
           "Conditions for consent",
           "compliant"
          ],
          [
           "Portability: You can ask for a copy of your Personal Data in a machine-readable format .",
           "20(1)",
           "Right to data portability",
           "compliant"
          ],
          [
           "You can also request that we transmit the data to another controller where technically feasible .",
           "20(2)",
           "Right to data portability",
           "compliant"
          ],
          [
           "Objection: You can contact us to let us know that you object to the further use or disclosure of your Personal Data for certain purposes, such as for direct marketing purposes .",
           "21(2)",
           "Right to object",
           "compliant"
          ],
          [
           "Restriction of Processing: You can ask us to restrict further processing of your Personal Data .",
           "18",
           "Right to restriction of processing",
           "compliant"
          ],
          [
           "Right to File Complaint: You have the right to lodge a complaint about IFTTT’s practices with respect to your Personal Data with the supervisory authority of your country or EU Member State .",
           "77",
           "Right to lodge a complaint with a supervisory authority",
           "compliant"
          ],
          [
           "Please note that in some circumstances, we may not be able to fully comply with your request, such as if it is frivolous or extremely impractical, if it jeopardizes the rights of others, or if it is not required by law, but in those circumstances, we will still respond to notify you of such a decision .",
           null,
           null,
           "non-compliant"
          ],
          [
           "In some cases, we may also need to you to provide us with additional information, which may include Personal Data, if necessary to verify your identity and the nature of your request .",
           "12(2)",
           "Transparent information, communication and modalities for the exercise of the data subject's rights",
           "non-compliant"
          ],
          [
           "Please note, however, that if you exercise this right, you may have to then provide express consent on a case-by-case basis for the use or disclosure of certain of your Personal Data, if such use or disclosure is necessary to enable you to utilize some or all of our Service .",
           "7(4)",
           "Conditions for consent",
           "non-compliant"
          ],
          [
           "Transfers of Personal Data: The Service is hosted and operated in the United States (“U . S . ”) through IFTTT and its service providers, and if you do not reside in the U . S . , laws in the U . S . may differ from the laws where you reside .",
           "44-49",
           "Transfers of personal data to third countries or international organisations",
           "non-compliant"
          ],
          [
           "IFTTT does not sell or rent your personal information to third parties without your explicit consent .",
           "6",
           "Lawfulness of processing:  Data can only be collected on the basis of one of six available legal grounds, including consent.",
           "compliant"
          ],
          [
           "IFTTT does not sell or rent your personal information to third parties without your explicit consent .",
           "7",
           "Lawfulness of processing:  Data can only be collected on the basis of one of six available legal grounds, including consent.",
           "compliant"
          ],
          [
           "We only collect personal information about you that we consider necessary for achieving this purpose .",
           "5",
           "Storage limitation & data minimization: Data should be kept for no longer than is necessary, and businesses should only collect the minimum amount of data required.",
           "compliant"
          ],
          [
           "You always have the option to not provide information by choosing not to register for the Service or create any Applets .",
           "7",
           "Conditions for consent: Consent must be freely given, specific, informed, and unambiguous.  There must be a clear affirmative action from the data subject.",
           "compliant"
          ],
          [
           "We treat data as an asset that must be protected against loss and unauthorized access .",
           "32",
           "Security of processing:  Organizations must implement appropriate technical and organizational measures to ensure a level of security appropriate to the risk.",
           "compliant"
          ],
          [
           "We use industry-standard Secure Socket Layer (SSL) software to protect the security of your personal information during transmission, which encrypts all of the information you input .",
           "32",
           "Security of processing:  Organizations must implement appropriate technical and organizational measures to ensure a level of security appropriate to the risk.",
           "compliant"
          ],
          [
           "IFTTT may disclose information it has collected from you and/or that you have made available through the Service when it believes in good faith that the law or legal process requires it, or when it is necessary to do so to protect the rights or property of IFTTT or others .",
           "13",
           "GDPR provides for exemptions to the data subject's rights of access when the data is processed for law enforcement purposes.  However, these exemptions must be explicitly provided for under EU or Member State law.",
           "non-compliant"
          ],
          [
           "IFTTT may disclose information it has collected from you and/or that you have made available through the Service when it believes in good faith that the law or legal process requires it, or when it is necessary to do so to protect the rights or property of IFTTT or others .",
           "14",
           "GDPR provides for exemptions to the data subject's rights of access when the data is processed for law enforcement purposes.  However, these exemptions must be explicitly provided for under EU or Member State law.",
           "non-compliant"
          ],
          [
           "Due to the existing regulatory environment, we cannot ensure that all of your private communications and other personal information will never be disclosed in ways not otherwise described in this Privacy Policy . By way of example, we may be forced to disclose personal information to the government or third parties under certain circumstances or third parties may unlawfully intercept or access transmissions or private communications .",
           "44-50",
           "GDPR includes provisions for data transfers outside of the EEA, including to countries that may not have equivalent data protection laws.  These transfers are subject to strict requirements, such as the use of standard contractual clauses or binding corporate rules.",
           "non-compliant"
          ],
          [
           "THE TOTAL LIABILITY OF COMPANY, WHETHER BASED IN CONTRACT, TO RT (INCLUDING NEGLIGENCE OR STRICT LIABILITY), OR OTHERWISE, WILL NOT EXCEED, IN THE AGGREGATE THE FEES PAID TO COMPANY HEREUNDER IN THE SIX MONTH PERIOD ENDING ON THE DATE THAT A CLAIM OR DEMAND IS FIRST ASSERTED . THE FOREGOING LIMITATIONS WILL APPLY NOTWITHSTANDING ANY FAILURE OF ESSENTIAL PURPOSE OF ANY LIMITED REMEDY .",
           null,
           "While not explicitly contradicting GDPR, this section raises concerns regarding potential incompatibility with GDPR's principles of fairness and transparency (Article 5) and the right to an effective remedy (Article 8).  Specifically, limiting liability to fees paid in the past six months might be deemed disproportionate and could potentially infringe upon users' rights to seek full and effective redress for damages suffered due to data processing infringements.",
           "non-compliant"
          ],
          [
           "This Agreement shall be governed by the laws of the State of California and the United States without regard to conflicts of laws’ provisions thereof, and without regard to the United Nations Convention on the International Sale of Goods . The jurisdiction and venue for actions related to the subject matter hereof shall be the state and United States federal courts located in San Francisco, California and both parties hereby submit to the personal jurisdiction of such courts .",
           "3",
           "This section might raise concerns under GDPR Article 3, which emphasizes that the Regulation applies to the processing of personal data of data subjects residing in the EU, even when the processing takes place outside the EU.  By exclusively subjecting the agreement to California and US laws and jurisdictions, the clause might be interpreted as hindering the application of GDPR protections for EU residents' data.",
           "non-compliant"
          ],
          [
           "We at OpenAI OpCo, LLC (together with our affiliates, “OpenAI”, “we”, “our” or “us”) respect your privacy and are strongly committed to keeping secure any information we obtain from you or about you.",
           "5",
           "Principles relating to processing of personal data - Data Minimisation",
           "compliant"
          ],
          [
           "This Privacy Policy describes our practices with respect to Personal Information we collect from or about you when you use our website, applications, and services (collectively, “Services”).",
           "13",
           "Information to be provided where personal data are collected from the data subject",
           "compliant"
          ],
          [
           "This Privacy Policy describes our practices with respect to Personal Information we collect from or about you when you use our website, applications, and services (collectively, “Services”).",
           "14",
           "Information to be provided where personal data are collected from the data subject",
           "compliant"
          ],
          [
           "Account Information: When you create an account with us, we will collect information associated with your account, including your name, contact information, account credentials, payment card information, and transaction history, (collectively, “Account Information”).",
           "6",
           "Lawfulness of processing",
           "compliant"
          ],
          [
           "These updates do not apply to individuals located in the European Economic Area, UK, and Switzerland.",
           "3",
           "Territorial Scope",
           "non-compliant"
          ],
          [
           "Log data includes your Internet Protocol address, browser type and settings, the date and time of your request, and how you interact with our Services.",
           "5",
           "Data minimization: The policy indicates they collect data about user interactions, which is generally acceptable for service provision. However, they should specify the purpose and limit collection to what's necessary. Legal basis: They need to specify the legal basis for processing this data, likely consent or legitimate interest depending on the specific interactions tracked.",
           "compliant"
          ],
          [
           "Log data includes your Internet Protocol address, browser type and settings, the date and time of your request, and how you interact with our Services.",
           "6",
           "Data minimization: The policy indicates they collect data about user interactions, which is generally acceptable for service provision. However, they should specify the purpose and limit collection to what's necessary. Legal basis: They need to specify the legal basis for processing this data, likely consent or legitimate interest depending on the specific interactions tracked.",
           "compliant"
          ],
          [
           "Usage Data: We may automatically collect information about your use of the Services, such as the types of content that you view or engage with, the features you use and the actions you take, as well as your time zone, country, the dates and times of access, user agent and version, type of computer or mobile device, and your computer connection.",
           "5",
           "Data minimization: Similar to log data, they need to justify the purpose and necessity of collecting all these data points. Legal basis: The legal basis for processing usage data should be clarified, likely consent or legitimate interest depending on the specific data and its use.",
           "compliant"
          ],
          [
           "Usage Data: We may automatically collect information about your use of the Services, such as the types of content that you view or engage with, the features you use and the actions you take, as well as your time zone, country, the dates and times of access, user agent and version, type of computer or mobile device, and your computer connection.",
           "6",
           "Data minimization: Similar to log data, they need to justify the purpose and necessity of collecting all these data points. Legal basis: The legal basis for processing usage data should be clarified, likely consent or legitimate interest depending on the specific data and its use.",
           "compliant"
          ],
          [
           "Device Information: Includes name of the device, operating system, device identifiers, and browser you are using.",
           "5",
           "Data minimization: Collection of device information should be minimized and justified. For instance, collecting the device name might not always be necessary. Legal basis: The legal basis for processing device information needs to be specified, and consent might be required depending on the specific data collected and its sensitivity.",
           "compliant"
          ],
          [
           "Device Information: Includes name of the device, operating system, device identifiers, and browser you are using.",
           "6",
           "Data minimization: Collection of device information should be minimized and justified. For instance, collecting the device name might not always be necessary. Legal basis: The legal basis for processing device information needs to be specified, and consent might be required depending on the specific data collected and its sensitivity.",
           "compliant"
          ],
          [
           "Cookies: We use cookies to operate and administer our Services, and improve your experience.",
           "5",
           "Purpose limitation and transparency: The policy outlines legitimate purposes for using cookies. Consent: While the policy mentions cookie notifications, it needs to explicitly state that users have the right to refuse cookies and clarify that essential cookies for website functionality don't require consent.",
           "compliant"
          ],
          [
           "Cookies: We use cookies to operate and administer our Services, and improve your experience.",
           "6",
           "Purpose limitation and transparency: The policy outlines legitimate purposes for using cookies. Consent: While the policy mentions cookie notifications, it needs to explicitly state that users have the right to refuse cookies and clarify that essential cookies for website functionality don't require consent.",
           "compliant"
          ],
          [
           "You can set your browser to accept all cookies, to reject all cookies, or to notify you whenever a cookie is offered so that you can decide each time whether to accept it.",
           "7(4)",
           "Conditions for consent: The policy correctly mentions user control over cookie settings, aligning with the requirement for freely given, specific, informed, and unambiguous consent.",
           "compliant"
          ],
          [
           "Analytics: We may use a variety of online analytics products that use cookies to help us analyze how users use our Services and enhance your experience when you use the Services.",
           "6(1)(f)",
           "Legitimate interest: Using analytics for service improvement is a legitimate interest. However, they need to ensure data minimization and anonymization where possible. Transparency: The policy should clearly inform users about the specific analytics tools used and the data collected.",
           "compliant"
          ],
          [
           "Analytics: We may use a variety of online analytics products that use cookies to help us analyze how users use our Services and enhance your experience when you use the Services.",
           "5",
           "Legitimate interest: Using analytics for service improvement is a legitimate interest. However, they need to ensure data minimization and anonymization where possible. Transparency: The policy should clearly inform users about the specific analytics tools used and the data collected.",
           "compliant"
          ],
          [
           "To provide, administer, maintain and/or analyze the Services; To improve our Services and conduct research; To communicate with you; including to send you information about our Services and events; To develop new programs and services;",
           "5",
           "Purpose limitation: The policy outlines legitimate purposes for processing personal data. Legal basis: For each purpose, they need to specify the legal basis, such as consent for marketing communications or legitimate interest for service improvement.",
           "compliant"
          ],
          [
           "To provide, administer, maintain and/or analyze the Services; To improve our Services and conduct research; To communicate with you; including to send you information about our Services and events; To develop new programs and services;",
           "6",
           "Purpose limitation: The policy outlines legitimate purposes for processing personal data. Legal basis: For each purpose, they need to specify the legal basis, such as consent for marketing communications or legitimate interest for service improvement.",
           "compliant"
          ],
          [
           "To prevent fraud, criminal activity, or misuses of our Services, and to protect the security of our IT systems, architecture, and networks;",
           "6(1)(f)",
           "Legitimate interest: Processing data for fraud prevention and security is a legitimate interest. However, they should implement appropriate safeguards and ensure data minimization.",
           "compliant"
          ],
          [
           "To carry out business transfers; and To comply with legal obligations and legal process and to protect our rights, privacy, safety, or property, and/or that of our affiliates, you, or other third parties.",
           "6(1)(c)",
           "Legal obligation and legitimate interest: These sections cover legitimate processing grounds. However, they should specify the legal obligations and provide more details about legitimate interest in protecting rights and safety.",
           "compliant"
          ],
          [
           "To carry out business transfers; and To comply with legal obligations and legal process and to protect our rights, privacy, safety, or property, and/or that of our affiliates, you, or other third parties.",
           "6(1)(f)",
           "Legal obligation and legitimate interest: These sections cover legitimate processing grounds. However, they should specify the legal obligations and provide more details about legitimate interest in protecting rights and safety.",
           "compliant"
          ],
          [
           "Aggregated or de-identified information . We may aggregate or de-identify Personal Information so that it may no longer be used to identify you and use such information to analyze the effectiveness of our Services, to improve and add features to our Services, to conduct research and for other similar purposes .",
           "5",
           "Data minimization and purpose limitation: Using aggregated or de-identified data is generally compliant if it cannot be re-identified. However, they should still adhere to purpose limitation and data minimization principles.",
           "compliant"
          ],
          [
           "Aggregated or de-identified information . We may aggregate or de-identify Personal Information so that it may no longer be used to identify you and use such information to analyze the effectiveness of our Services, to improve and add features to our Services, to conduct research and for other similar purposes .",
           "26",
           "Data minimization and purpose limitation: Using aggregated or de-identified data is generally compliant if it cannot be re-identified. However, they should still adhere to purpose limitation and data minimization principles.",
           "compliant"
          ],
          [
           "In addition, from time to time, we may analyze the general behavior and characteristics of users of our Services and share aggregated information like general user statistics with third parties, publish such aggregated information or make such aggregated information generally available .",
           "5",
           "Data minimization and transparency: Sharing aggregated data is generally acceptable if it's truly anonymized. However, they should be transparent about the level of aggregation and ensure individuals cannot be re-identified.",
           "compliant"
          ],
          [
           "In addition, from time to time, we may analyze the general behavior and characteristics of users of our Services and share aggregated information like general user statistics with third parties, publish such aggregated information or make such aggregated information generally available .",
           "26",
           "Data minimization and transparency: Sharing aggregated data is generally acceptable if it's truly anonymized. However, they should be transparent about the level of aggregation and ensure individuals cannot be re-identified.",
           "compliant"
          ],
          [
           "We may collect aggregated information through the Services, through cookies, and through other means described in this Privacy Policy .",
           "5",
           "Transparency and lawfulness: While this statement aims for transparency, it needs to be more specific about the \"other means\" and ensure they align with GDPR's lawful data processing principles.",
           "compliant"
          ],
          [
           "We may collect aggregated information through the Services, through cookies, and through other means described in this Privacy Policy .",
           "13",
           "Transparency and lawfulness: While this statement aims for transparency, it needs to be more specific about the \"other means\" and ensure they align with GDPR's lawful data processing principles.",
           "compliant"
          ],
          [
           "We will maintain and use de-identified information in anonymous or de-identified form and we will not attempt to reidentify the information, unless required by law .",
           "5",
           "Data security and confidentiality: This statement aligns with GDPR's requirement to implement appropriate technical and organizational measures to protect personal data.",
           "compliant"
          ],
          [
           "We will maintain and use de-identified information in anonymous or de-identified form and we will not attempt to reidentify the information, unless required by law .",
           "32",
           "Data security and confidentiality: This statement aligns with GDPR's requirement to implement appropriate technical and organizational measures to protect personal data.",
           "compliant"
          ],
          [
           "For more details on cookies, please visit All About Cookies (opens in a new window) .",
           "12",
           "Transparency and accessibility: While providing additional information is good, the policy should clearly and concisely explain cookie usage within the policy itself. Linking to external websites shouldn't replace clear and accessible information within the privacy policy.",
           "non-compliant"
          ],
          [
           "For more details on cookies, please visit All About Cookies (opens in a new window) .",
           "13",
           "Transparency and accessibility: While providing additional information is good, the policy should clearly and concisely explain cookie usage within the policy itself. Linking to external websites shouldn't replace clear and accessible information within the privacy policy.",
           "non-compliant"
          ],
          [
           "For more details on cookies, please visit All About Cookies (opens in a new window) .",
           "14",
           "Transparency and accessibility: While providing additional information is good, the policy should clearly and concisely explain cookie usage within the policy itself. Linking to external websites shouldn't replace clear and accessible information within the privacy policy.",
           "non-compliant"
          ],
          [
           "To the extent provided for by local law and subject to applicable exceptions, individuals may have the following privacy rights in relation to their Personal Information: The right to know information about our processing of your Personal Information, including the specific pieces of Personal Information that we have collected from you",
           "12",
           "Right to be informed, Right of access",
           "compliant"
          ],
          [
           "To the extent provided for by local law and subject to applicable exceptions, individuals may have the following privacy rights in relation to their Personal Information: The right to know information about our processing of your Personal Information, including the specific pieces of Personal Information that we have collected from you",
           "13",
           "Right to be informed, Right of access",
           "compliant"
          ],
          [
           "To the extent provided for by local law and subject to applicable exceptions, individuals may have the following privacy rights in relation to their Personal Information: The right to know information about our processing of your Personal Information, including the specific pieces of Personal Information that we have collected from you",
           "14",
           "Right to be informed, Right of access",
           "compliant"
          ],
          [
           "The right to request deletion of your Personal Information",
           "17",
           "Right to erasure ('right to be forgotten')",
           "compliant"
          ],
          [
           "The right to correct your Personal Information",
           "16",
           "Right to rectification",
           "compliant"
          ],
          [
           "The right to be free from discrimination relating to the exercise of any of your privacy rights",
           "21",
           "Right to object, including profiling",
           "compliant"
          ],
          [
           "We don’t “sell” Personal Information or “share” Personal Information for cross-contextual behavioral advertising (as those terms are defined under applicable local law)",
           "21",
           "Right to object, including profiling",
           "compliant"
          ],
          [
           "We also don’t process sensitive Personal Information for the purposes of inferring characteristics about a consumer",
           "9",
           "Processing of special categories of personal data",
           "compliant"
          ],
          [
           "Exercising your rights. To the extent applicable under local law, you can exercise privacy rights described in this section by submitting a request through privacy.",
           "12",
           "Transparent information, communication and modalities for the exercise of the rights of the data subject",
           "compliant"
          ],
          [
           "We may disclose this information to our affiliates, vendors and service providers to process in accordance with our instructions; to law enforcement and other third parties for the legal reasons described above; to parties involved in Transactions; and to corporate administrators of enterprise or team accounts.",
           "24",
           "Responsibility of the controller, Transfers or disclosures not authorised by Union law, Processor",
           "non-compliant"
          ],
          [
           "We may disclose this information to our affiliates, vendors and service providers to process in accordance with our instructions; to law enforcement and other third parties for the legal reasons described above; to parties involved in Transactions; and to corporate administrators of enterprise or team accounts.",
           "25",
           "Responsibility of the controller, Transfers or disclosures not authorised by Union law, Processor",
           "non-compliant"
          ],
          [
           "We may disclose this information to our affiliates, vendors and service providers to process in accordance with our instructions; to law enforcement and other third parties for the legal reasons described above; to parties involved in Transactions; and to corporate administrators of enterprise or team accounts.",
           "28",
           "Responsibility of the controller, Transfers or disclosures not authorised by Union law, Processor",
           "non-compliant"
          ],
          [
           "We may disclose this information to our affiliates, vendors and service providers to process in accordance with our instructions; to law enforcement and other third parties for the legal reasons described above; to parties involved in Transactions; and to other users and third parties you choose to share it with.",
           "24",
           "Responsibility of the controller, Transfers or disclosures not authorised by Union law, Processor",
           "non-compliant"
          ],
          [
           "We may disclose this information to our affiliates, vendors and service providers to process in accordance with our instructions; to law enforcement and other third parties for the legal reasons described above; to parties involved in Transactions; and to other users and third parties you choose to share it with.",
           "25",
           "Responsibility of the controller, Transfers or disclosures not authorised by Union law, Processor",
           "non-compliant"
          ],
          [
           "We may disclose this information to our affiliates, vendors and service providers to process in accordance with our instructions; to law enforcement and other third parties for the legal reasons described above; to parties involved in Transactions; and to other users and third parties you choose to share it with.",
           "28",
           "Responsibility of the controller, Transfers or disclosures not authorised by Union law, Processor",
           "non-compliant"
          ],
          [
           "We may disclose this information to our affiliates, vendors and service providers to process in accordance with our instructions; to law enforcement and other third parties for the legal reasons described above; and to parties involved in Transactions.",
           "24",
           "Responsibility of the controller, Transfers or disclosures not authorised by Union law, Processor",
           "non-compliant"
          ],
          [
           "We may disclose this information to our affiliates, vendors and service providers to process in accordance with our instructions; to law enforcement and other third parties for the legal reasons described above; and to parties involved in Transactions.",
           "25",
           "Responsibility of the controller, Transfers or disclosures not authorised by Union law, Processor",
           "non-compliant"
          ],
          [
           "We may disclose this information to our affiliates, vendors and service providers to process in accordance with our instructions; to law enforcement and other third parties for the legal reasons described above; and to parties involved in Transactions.",
           "28",
           "Responsibility of the controller, Transfers or disclosures not authorised by Union law, Processor",
           "non-compliant"
          ],
          [
           "Your account login credentials and payment card information (Sensitive Personal Information) We disclose this information to our affiliates, vendors and service providers, law enforcement, and parties involved in Transactions.",
           "24",
           "Responsibility of the controller, Transfers or disclosures not authorised by Union law, Processor, Security of processing",
           "non-compliant"
          ],
          [
           "Your account login credentials and payment card information (Sensitive Personal Information) We disclose this information to our affiliates, vendors and service providers, law enforcement, and parties involved in Transactions.",
           "25",
           "Responsibility of the controller, Transfers or disclosures not authorised by Union law, Processor, Security of processing",
           "non-compliant"
          ],
          [
           "Your account login credentials and payment card information (Sensitive Personal Information) We disclose this information to our affiliates, vendors and service providers, law enforcement, and parties involved in Transactions.",
           "28",
           "Responsibility of the controller, Transfers or disclosures not authorised by Union law, Processor, Security of processing",
           "non-compliant"
          ],
          [
           "Your account login credentials and payment card information (Sensitive Personal Information) We disclose this information to our affiliates, vendors and service providers, law enforcement, and parties involved in Transactions.",
           "32",
           "Responsibility of the controller, Transfers or disclosures not authorised by Union law, Processor, Security of processing",
           "non-compliant"
          ],
          [
           "If you do not have an account with us, or if we suspect fraudulent or malicious activity, we may ask you to provide additional Personal Information and proof of residency for verification.",
           "5",
           "Principles relating to processing of personal data (data minimisation)",
           "non-compliant"
          ],
          [
           "If we cannot verify your identity, we will not be able to honor your request.",
           "12",
           "Transparent information, communication and modalities for the exercise of the rights of the data subject",
           "non-compliant"
          ],
          [
           "6. Children Our Service is not directed to children under the age of 13. OpenAI does not knowingly collect Personal Information from children under the age of 13.",
           "8",
           "Conditions applicable to child's consent in relation to information society services.",
           "compliant"
          ],
          [
           "8. Security and retention We implement commercially reasonable technical, administrative, and organizational measures to protect Personal Information both online and offline from loss, misuse, and unauthorized access, disclosure, alteration, or destruction.",
           "32",
           "Security of processing",
           "compliant"
          ],
          [
           "We’ll retain your Personal Information for only as long as we need in order to provide our Service to you, or for other legitimate business purposes such as resolving disputes, safety and security reasons, or complying with our legal obligations.",
           "5",
           "Principles relating to processing of personal data (specifically, storage limitation)",
           "compliant"
          ],
          [
           "To appeal a decision, please send your request to dsar@openai.com.",
           "13-15",
           "Information to be provided where personal data are collected from the data subject/Right of access by the data subject/Right to rectification",
           "non-compliant"
          ],
          [
           "To appeal a decision, please send your request to dsar@openai.com.",
           "21",
           "Information to be provided where personal data are collected from the data subject/Right of access by the data subject/Right to rectification",
           "non-compliant"
          ],
          [
           "Legal basis for processing. Our legal bases for processing your Personal Information include: Performance of a contract with you when we provide and maintain our Services.",
           "6",
           "Lawfulness of processing",
           "non-compliant"
          ],
          [
           "9. International users By using our Service, you understand and acknowledge that your Personal Information will be processed and stored in our facilities and servers in the United States and may be disclosed to our service providers and affiliates in other jurisdictions.",
           "44-49",
           "General principles for transfers/Transfers of personal data to third countries or international organisations",
           "non-compliant"
          ],
          [
           "Vendors and Service Providers: To assist us in meeting business operations needs and to perform certain services and functions, we may provide Personal Information to vendors and service providers, including providers of hosting services, customer service vendors, cloud services, email communication software, web analytics services, and other information technology providers, among others .\\nPursuant to our instructions, these parties will access, process, or store Personal Information only in the course of performing their duties to us .",
           "28",
           "Data processing agreements, requirements for processors",
           "compliant"
          ],
          [
           "Legal Requirements: We may share your Personal Information, including information about your interaction with our Services, with government authorities, industry peers, or other third parties (i) if required to do so by law or in the good faith belief that such action is necessary to comply with a legal obligation, (ii) to protect and defend our rights or property, (iii) if we determine, in our sole discretion, that there is a violation of our terms, policies, or the law; (iv) to detect or prevent fraud or other illegal activity; (v) to protect the safety, security, and integrity of our products, employees, or users, or the public, or (vi) to protect against legal liability .",
           "6(1)(c)",
           "Legal obligation, legitimate interests (compliance with law, security, fraud prevention)",
           "compliant"
          ],
          [
           "Legal Requirements: We may share your Personal Information, including information about your interaction with our Services, with government authorities, industry peers, or other third parties (i) if required to do so by law or in the good faith belief that such action is necessary to comply with a legal obligation, (ii) to protect and defend our rights or property, (iii) if we determine, in our sole discretion, that there is a violation of our terms, policies, or the law; (iv) to detect or prevent fraud or other illegal activity; (v) to protect the safety, security, and integrity of our products, employees, or users, or the public, or (vi) to protect against legal liability .",
           "(f)",
           "Legal obligation, legitimate interests (compliance with law, security, fraud prevention)",
           "compliant"
          ],
          [
           "As noted above, we may use Content you provide us to improve our Services, for example to train the models that power ChatGPT . Read our instructions (opens in a new window) on how you can opt out of our use of your Content to train our models .",
           "6(1)(a)",
           "Lawful basis for processing, right to object",
           "non-compliant"
          ],
          [
           "As noted above, we may use Content you provide us to improve our Services, for example to train the models that power ChatGPT . Read our instructions (opens in a new window) on how you can opt out of our use of your Content to train our models .",
           "21",
           "Lawful basis for processing, right to object",
           "non-compliant"
          ],
          [
           "Business Transfers: If we are involved in strategic transactions, reorganization, bankruptcy, receivership, or transition of service to another provider (collectively, a “Transaction”), your Personal Information and other information may be disclosed in the diligence process with counterparties and others assisting with the Transaction and transferred to a successor or affiliate as part of that Transaction along with other assets .",
           "14",
           "Information requirements for data subjects, right to object",
           "non-compliant"
          ],
          [
           "Business Transfers: If we are involved in strategic transactions, reorganization, bankruptcy, receivership, or transition of service to another provider (collectively, a “Transaction”), your Personal Information and other information may be disclosed in the diligence process with counterparties and others assisting with the Transaction and transferred to a successor or affiliate as part of that Transaction along with other assets .",
           "21",
           "Information requirements for data subjects, right to object",
           "non-compliant"
          ],
          [
           "Business Account Administrators: When you join a ChatGPT Enterprise or business account, the administrators of that account may access and control your OpenAI account .\\nIn addition, if you create an account using an email address belonging to your employer or another organization, we may share the fact that you have an OpenAI account and certain account information, such as your email address, with your employer or organization to, for example, enable you to be added to their business account .",
           "6(1)",
           "Lawful basis for processing, special categories of data",
           "non-compliant"
          ],
          [
           "Business Account Administrators: When you join a ChatGPT Enterprise or business account, the administrators of that account may access and control your OpenAI account .\\nIn addition, if you create an account using an email address belonging to your employer or another organization, we may share the fact that you have an OpenAI account and certain account information, such as your email address, with your employer or organization to, for example, enable you to be added to their business account .",
           "9",
           "Lawful basis for processing, special categories of data",
           "non-compliant"
          ],
          [
           "Other Users and Third Parties You Share Information With: Certain features allow you to display or share information with other users or third parties . For example, you may share ChatGPT conversations with other users via shared links or send information to third-party applications via custom actions for GPTs .",
           "14",
           "Information requirements for data subjects, right to object",
           "non-compliant"
          ],
          [
           "Other Users and Third Parties You Share Information With: Certain features allow you to display or share information with other users or third parties . For example, you may share ChatGPT conversations with other users via shared links or send information to third-party applications via custom actions for GPTs .",
           "21",
           "Information requirements for data subjects, right to object",
           "non-compliant"
          ],
          [
           "Your rights Depending on location, individuals may have certain statutory rights in relation to their Personal Information . For example, you may have the right to: Access your Personal Information and information relating to how it is processed .",
           "13-22",
           "Right to information, access, rectification, erasure, restriction of processing, data portability, object.",
           "compliant"
          ],
          [
           "Delete your Personal Information from our records .",
           "17",
           "Right to erasure (\"right to be forgotten\").",
           "compliant"
          ],
          [
           "Rectify or update your Personal Information .",
           "16",
           "Right to rectification.",
           "compliant"
          ],
          [
           "Transfer your Personal Information to a third party (right to data portability) .",
           "20",
           "Right to data portability.",
           "compliant"
          ],
          [
           "Restrict how we process your Personal Information .",
           "18",
           "Right to restriction of processing.",
           "compliant"
          ],
          [
           "Withdraw your consent—where we rely on consent as the legal basis for processing at any time .",
           "7",
           "Conditions for consent, right to withdraw consent.",
           "compliant"
          ],
          [
           "Object to how we process your Personal Information .",
           "21",
           "Right to object.",
           "compliant"
          ],
          [
           "Lodge a complaint with your local data protection authority .",
           "77",
           "Right to lodge a complaint with a supervisory authority.",
           "compliant"
          ],
          [
           "Be sure you trust any user or third party with whom you share information .",
           "5",
           "Principles relating to processing of personal data (specifically, integrity and confidentiality).",
           "non-compliant"
          ],
          [
           "Given the technical complexity of how our models work, we may not be able to correct the inaccuracy in every instance . In that case, you may request that we remove your Personal Information from ChatGPT’s output by filling out this form (opens in a new window) .",
           "17",
           "Right to erasure (\"right to be forgotten\").",
           "non-compliant"
          ],
          [
           "8.1  在開展業務時，我們將會/可能需要針對上述一或多個目的向第三方服務供應商、代理人及/或我們的關係企業或關聯公司及/或其他第三方 (無論是否設址於新加坡) 使用、處理、揭露或移轉您的個人資料。該第三方服務供應商、代理人及/或關係企業或關聯公司及/或其他第三方可能會針對上述一或多個目的，代表我們或以其他方式處理您的個人資料。我們將努力確保該第三方或關係企業保障您的個人資料不受任何未授權的取得、蒐集、揭露、使用或經歷任何類似的風險，並只有在符合前述使用目的時保存您的個人資料。",
           "28",
           "This section aligns with GDPR Article 28 (Processors) as it outlines Shopee's intent to use data processors and their responsibilities regarding data protection.",
           "compliant"
          ],
          [
           "(d)   承包商、代理人、服務供應商以及其他我們用以支援我們的業務的第三方。這些包括但不限於向我們提供管理或其他服務的單位，如郵寄公司、物流服務提供者、金融服務提供者、廣告及行銷夥伴、電信公司、資訊技術公司和資料中心；",
           "28 (3)",
           "Listing specific categories of subprocessors is in line with the transparency requirements for data processing agreements under Article 28(3).",
           "compliant"
          ],
          [
           "8.Shopee是否會向第三人揭露其向訪客蒐集的資訊？",
           "12 (1)",
           "The question itself is not non-compliant, but it lacks the specificity and clarity required by GDPR. Articles 12(1) and 13(1)(f) mandate providing information in a concise, transparent, intelligible and easily accessible form, using clear and plain language.",
           "non-compliant"
          ],
          [
           "8.Shopee是否會向第三人揭露其向訪客蒐集的資訊？",
           "13 (1)(f)",
           "The question itself is not non-compliant, but it lacks the specificity and clarity required by GDPR. Articles 12(1) and 13(1)(f) mandate providing information in a concise, transparent, intelligible and easily accessible form, using clear and plain language.",
           "non-compliant"
          ],
          [
           "8.1 ...該第三方包括但不限於：",
           "13 (1)(e)",
           "GDPR requires specifying the categories of recipients of personal data. Simply stating \"including but not limited to\" is not sufficiently specific.",
           "non-compliant"
          ],
          [
           "8.1 ...該第三方包括但不限於：",
           "14 (1)(e)",
           "GDPR requires specifying the categories of recipients of personal data. Simply stating \"including but not limited to\" is not sufficiently specific.",
           "non-compliant"
          ],
          [
           "(a)   我們的子公司、關係企業及關聯公司；",
           "13 (1)(e)",
           "While mentioning subsidiaries, affiliates, and related companies, it lacks information about their location or data transfer mechanisms if outside the EEA, which is crucial for GDPR compliance.",
           "non-compliant"
          ],
          [
           "(a)   我們的子公司、關係企業及關聯公司；",
           "14 (1)(e)",
           "While mentioning subsidiaries, affiliates, and related companies, it lacks information about their location or data transfer mechanisms if outside the EEA, which is crucial for GDPR compliance.",
           "non-compliant"
          ],
          [
           "(b)   您曾在本平台上交易或互動過的買方或賣方，或與您基於前述目的使用本服務有關；",
           "6 (1)",
           "Disclosing data to buyers or sellers requires a valid legal basis under GDPR Article 6(1). This section doesn't specify the legal basis for such disclosure (e.g., contract performance, legitimate interest).",
           "non-compliant"
          ],
          [
           "(c)   本平台的其他使用者基於本隱私權政策所述之目的;",
           "6 (1)",
           "Similar to (b), disclosing data to other platform users requires a clear legal basis. Additionally, the phrase \"基於本隱私權政策所述之目的\" is too vague and doesn't meet the transparency requirements of Article 13(1)(c).",
           "non-compliant"
          ],
          [
           "(c)   本平台的其他使用者基於本隱私權政策所述之目的;",
           "13 (1)(c)",
           "Similar to (b), disclosing data to other platform users requires a clear legal basis. Additionally, the phrase \"基於本隱私權政策所述之目的\" is too vague and doesn't meet the transparency requirements of Article 13(1)(c).",
           "non-compliant"
          ],
          [
           "(e)   對Shopee有管轄權的政府或監管機關或依據第6.",
           "6 (1)(c)",
           "While disclosing data to authorities is permissible under certain conditions, this section lacks specificity. It should clearly state the legal obligations Shopee is complying with and the types of data shared.",
           "non-compliant"
          ],
          [
           "(e)   對Shopee有管轄權的政府或監管機關或依據第6.",
           "13 (1)(c)",
           "While disclosing data to authorities is permissible under certain conditions, this section lacks specificity. It should clearly state the legal obligations Shopee is complying with and the types of data shared.",
           "non-compliant"
          ],
          [
           "1.1  歡迎使用由新加坡商蝦皮娛樂電商有限公司台灣分公司及其關係企業(個別及統稱「Shopee」、「本公司」、「我們」或「我們的」)經營的Shopee平台。Shopee認真看待其依據適用之隱私權及個人資料保護相關法律及規範 (下稱「隱私權法」)下的責任，並致力於尊重Shopee網站及行動應用程式(下稱「本平台」)所有使用者的隱私權和關切點(我們將本平台以及我們在本平台中提供的服務統稱為「本服務」)。",
           "13",
           "Information to be provided where personal data are collected from the data subject.",
           "compliant"
          ],
          [
           "1.1  歡迎使用由新加坡商蝦皮娛樂電商有限公司台灣分公司及其關係企業(個別及統稱「Shopee」、「本公司」、「我們」或「我們的」)經營的Shopee平台。Shopee認真看待其依據適用之隱私權及個人資料保護相關法律及規範 (下稱「隱私權法」)下的責任，並致力於尊重Shopee網站及行動應用程式(下稱「本平台」)所有使用者的隱私權和關切點(我們將本平台以及我們在本平台中提供的服務統稱為「本服務」)。",
           "14",
           "Information to be provided where personal data are collected from the data subject.",
           "compliant"
          ],
          [
           "向我們註冊帳戶使用本服務之使用者，包含買方及賣方(個別及統稱「使用者」、「您」或「您們」),",
           "41",
           "Definitions",
           "compliant"
          ],
          [
           "我們瞭解您委託給我們的個人資料極為重要，並認為妥善管理、保護及處理您的個人資料是我們的責任。",
           "51f",
           "Principles relating to processing of personal data",
           "compliant"
          ],
          [
           "此隱私權政策(下稱「隱私權政策」或「政策」)旨在協助您瞭解我們目前和未來會如何蒐集、使用、揭露及/或處理您提供給我們及/或我們所擁有和您有關的個人資料，以及協助您在向我們提供任何個人資料之前作出明智的決定。",
           "121",
           "Transparent information, communication and modalities for the exercise of the rights of the data subject",
           "compliant"
          ],
          [
           "此隱私權政策(下稱「隱私權政策」或「政策」)旨在協助您瞭解我們目前和未來會如何蒐集、使用、揭露及/或處理您提供給我們及/或我們所擁有和您有關的個人資料，以及協助您在向我們提供任何個人資料之前作出明智的決定。",
           "13",
           "Transparent information, communication and modalities for the exercise of the rights of the data subject",
           "compliant"
          ],
          [
           "   Which parts of this privacy policy comply with GDPR? Which parts are not GDPR compliant?\n    Please match the policy with the provisions, citing article numbers and legal provisions:\n\n    for example:\n    {\n        \"compliant\": [\n            {\n            \"section\": \"...\",\n            \"article numbers\": \"...\",\n            \"legal provisions\": \"...\"\n            }\n        ],\n        \"non_compliant\": [\n            {\n            \"section\": \"...\",\n            \"article numbers\": \"...\",\n            \"legal provisions\": \"...\",\n            \"amend\": \"...\"\n            }\n        ]\n    }\n    ",
           null,
           null,
           "non-compliant"
          ],
          [
           "1.2",
           "4(1)",
           "‘personal data’ means any information relating to an identified or identifiable natural person (‘data subject’); an identifiable natural person is one who can be identified, directly or indirectly, in particular by reference to an identifier such as a name, an identification number, location data, an online identifier or to one or more factors specific to the physical, physiological, genetic, mental, economic, cultural or social identity of that natural person.",
           "compliant"
          ],
          [
           "2",
           "5(1)(a)",
           "Personal data shall be: (a) processed lawfully, fairly and in a transparent manner in relation to the data subject (‘lawfulness, fairness and transparency’);",
           "compliant"
          ],
          [
           "1.3",
           "7(4)",
           "Where processing is based on consent, the controller shall be able to demonstrate that the data subject has consented to processing of his or her personal data.\nWhere personal data relating to a data subject are collected from the data subject, the controller shall, at the time when obtaining such data, provide the data subject with all of the following information:\n(c) the purposes of the processing for which the personal data are intended as well as the legal basis for the processing;\nThe controller shall take appropriate measures to provide any information referred to in Articles 13 and 14 and any communication under Articles 15 to 22 and 34 relating to processing to the data subject in a concise, transparent, intelligible and easily accessible form, using clear and plain language, in particular for any information addressed specifically to a child.",
           "non-compliant"
          ],
          [
           "1.3",
           "13(1)(c)",
           "Where processing is based on consent, the controller shall be able to demonstrate that the data subject has consented to processing of his or her personal data.\nWhere personal data relating to a data subject are collected from the data subject, the controller shall, at the time when obtaining such data, provide the data subject with all of the following information:\n(c) the purposes of the processing for which the personal data are intended as well as the legal basis for the processing;\nThe controller shall take appropriate measures to provide any information referred to in Articles 13 and 14 and any communication under Articles 15 to 22 and 34 relating to processing to the data subject in a concise, transparent, intelligible and easily accessible form, using clear and plain language, in particular for any information addressed specifically to a child.",
           "non-compliant"
          ],
          [
           "1.3",
           "12(1)",
           "Where processing is based on consent, the controller shall be able to demonstrate that the data subject has consented to processing of his or her personal data.\nWhere personal data relating to a data subject are collected from the data subject, the controller shall, at the time when obtaining such data, provide the data subject with all of the following information:\n(c) the purposes of the processing for which the personal data are intended as well as the legal basis for the processing;\nThe controller shall take appropriate measures to provide any information referred to in Articles 13 and 14 and any communication under Articles 15 to 22 and 34 relating to processing to the data subject in a concise, transparent, intelligible and easily accessible form, using clear and plain language, in particular for any information addressed specifically to a child.",
           "non-compliant"
          ],
          [
           "1.4",
           "12(1)",
           "The controller shall take appropriate measures to provide any information referred to in Articles 13 and 14 and any communication under Articles 15 to 22 and 34 relating to processing to the data subject in a concise, transparent, intelligible and easily accessible form, using clear and plain language, in particular for any information addressed specifically to a child.",
           "non-compliant"
          ],
          [
           "1.5",
           null,
           null,
           "non-compliant"
          ],
          [
           "6.3 ...  我們會在取得您同意的當時，向您告知該其他目的，除非隱私權法允許我們在未取得您同意的情況下即可處理適用的資料。",
           "6(1)(a)",
           "Lawfulness of processing, including informed consent and transparency.",
           "compliant"
          ],
          [
           "6.3 ...  我們會在取得您同意的當時，向您告知該其他目的，除非隱私權法允許我們在未取得您同意的情況下即可處理適用的資料。",
           "13(1)(c)",
           "Lawfulness of processing, including informed consent and transparency.",
           "compliant"
          ],
          [
           "7.1 ... 只有具有該系統之特殊存取權的有限員工可以存取。",
           "32",
           "Security of processing, including implementing appropriate technical and organizational measures.",
           "compliant"
          ],
          [
           "7.2  我們會按照隱私權法及/或其他適用法律保存個人資料。",
           "5(1)(e)",
           "Storage limitation, ensuring data is not kept longer than necessary.",
           "compliant"
          ],
          [
           "6.3 ... 除非隱私權法允許我們在未取得您同意的情況下即可處理適用的資料。",
           "6(1)",
           "Conditions for consent, requiring consent to be freely given, specific, informed and unambiguous. GDPR sets high standards for valid consent, and relying on broad exceptions might not be sufficient.",
           "non-compliant"
          ],
          [
           "6.3 ... 除非隱私權法允許我們在未取得您同意的情況下即可處理適用的資料。",
           "7",
           "Conditions for consent, requiring consent to be freely given, specific, informed and unambiguous. GDPR sets high standards for valid consent, and relying on broad exceptions might not be sufficient.",
           "non-compliant"
          ],
          [
           "7.1 ...但不可避免地無法保證絕對的安全。",
           "32",
           "Security of processing. While absolute security is not required, the GDPR emphasizes taking appropriate technical and organizational measures to ensure a level of security appropriate to the risk.",
           "non-compliant"
          ],
          [
           "7.2 ...也就是說，在我們合理認為 (i) 保存該個人資料不再符合蒐集個人資料之目的； (ii) 不再需要針對任何法律或業務目的保存個人資料時；以及 (iii) 沒有其他法律上之利益需要進一步保存該個人資料時，我們會立即銷毀您的個人資料，或是進行匿名化處理。",
           "5(1)(e)",
           "Storage limitation and right to erasure. The criteria for data retention should be specific and tied to the initial purpose of collection. Vague terms like \"business purposes\" or \"legal interests\" can be interpreted broadly.",
           "non-compliant"
          ],
          [
           "7.2 ...也就是說，在我們合理認為 (i) 保存該個人資料不再符合蒐集個人資料之目的； (ii) 不再需要針對任何法律或業務目的保存個人資料時；以及 (iii) 沒有其他法律上之利益需要進一步保存該個人資料時，我們會立即銷毀您的個人資料，或是進行匿名化處理。",
           "17",
           "Storage limitation and right to erasure. The criteria for data retention should be specific and tied to the initial purpose of collection. Vague terms like \"business purposes\" or \"legal interests\" can be interpreted broadly.",
           "non-compliant"
          ],
          [
           "7.2 ... 若您停止使用本平台或是您使用本平台及/或本服務的權限遭到終止或撤銷，我們會繼續根據此隱私權政策及隱私權法所規定的義務，加以儲存、使用及/或揭露您的個人資料。",
           "5(1)(e)",
           "Storage limitation and right to erasure. Retaining data indefinitely after account termination or service discontinuation might not be justified.",
           "non-compliant"
          ],
          [
           "7.2 ... 若您停止使用本平台或是您使用本平台及/或本服務的權限遭到終止或撤銷，我們會繼續根據此隱私權政策及隱私權法所規定的義務，加以儲存、使用及/或揭露您的個人資料。",
           "17",
           "Storage limitation and right to erasure. Retaining data indefinitely after account termination or service discontinuation might not be justified.",
           "non-compliant"
          ],
          [
           "7.2 ... 根據適用法律，我們得於未事先通知您的情況下，安全處置您的個人資料。",
           "13(1)(f)",
           "Information to be provided where personal data are collected from the data subject/obtained from other sources. GDPR generally requires informing individuals about the processing of their data, including situations of data deletion or disposal.",
           "non-compliant"
          ],
          [
           "7.2 ... 根據適用法律，我們得於未事先通知您的情況下，安全處置您的個人資料。",
           "14(1)(f)",
           "Information to be provided where personal data are collected from the data subject/obtained from other sources. GDPR generally requires informing individuals about the processing of their data, including situations of data deletion or disposal.",
           "non-compliant"
          ],
          [
           "8.5  Shopee允許您自YouTube分享影片至Shopee直播功能(“YouTube內容”)，為便利此行為，Shopee使用YouTube提供的YouTube API服務。經由分享YouTube內容之行為，您同意受到Google隱私權政策的拘束(http://www.google.com/policies/privacy)。",
           "13",
           "Transparency and information to be provided, Lawfulness of processing",
           "compliant"
          ],
          [
           "8.5  Shopee允許您自YouTube分享影片至Shopee直播功能(“YouTube內容”)，為便利此行為，Shopee使用YouTube提供的YouTube API服務。經由分享YouTube內容之行為，您同意受到Google隱私權政策的拘束(http://www.google.com/policies/privacy)。",
           "14",
           "Transparency and information to be provided, Lawfulness of processing",
           "compliant"
          ],
          [
           "不過，我們會依照隱私權法的規定，部署合理的安全措施以保護您的個人資料，但必然無法保證絕對的安全，包括但不限於在我方沒有責任的情況下，因不滿份子惡意和精密的駭客攻擊而造成未授權揭露等狀況。",
           "5",
           "Principles relating to processing of personal data, Security of processing, Responsibility of the controller",
           "non-compliant"
          ],
          [
           "不過，我們會依照隱私權法的規定，部署合理的安全措施以保護您的個人資料，但必然無法保證絕對的安全，包括但不限於在我方沒有責任的情況下，因不滿份子惡意和精密的駭客攻擊而造成未授權揭露等狀況。",
           "24",
           "Principles relating to processing of personal data, Security of processing, Responsibility of the controller",
           "non-compliant"
          ],
          [
           "不過，我們會依照隱私權法的規定，部署合理的安全措施以保護您的個人資料，但必然無法保證絕對的安全，包括但不限於在我方沒有責任的情況下，因不滿份子惡意和精密的駭客攻擊而造成未授權揭露等狀況。",
           "32",
           "Principles relating to processing of personal data, Security of processing, Responsibility of the controller",
           "non-compliant"
          ],
          [
           "8.6  如Shopee服務條款中所述，因使用本服務而持有其他用戶個人資料之用戶（“接收方”，包含用戶之員工、代理人、公司負責人及任何為該用戶服務或代用戶使用本服務者）在此同意（i）遵守所有與此類資料之蒐集、處理、儲存或傳送等相關的個人資料保護法律，（ii）允許蝦皮或接收方已蒐集其個人資料的用戶（“揭露方”）從接收方的資料庫中刪除其被蒐集的資料，及（iii）允許蝦皮或揭露方審查接收方蒐集了哪些揭露方的資料。上述（ii）和（iii）的每件個案，應依據適用法律的要求。",
           "6",
           "Lawfulness of processing, Right to erasure (‘right to be forgotten’), Processor",
           "non-compliant"
          ],
          [
           "8.6  如Shopee服務條款中所述，因使用本服務而持有其他用戶個人資料之用戶（“接收方”，包含用戶之員工、代理人、公司負責人及任何為該用戶服務或代用戶使用本服務者）在此同意（i）遵守所有與此類資料之蒐集、處理、儲存或傳送等相關的個人資料保護法律，（ii）允許蝦皮或接收方已蒐集其個人資料的用戶（“揭露方”）從接收方的資料庫中刪除其被蒐集的資料，及（iii）允許蝦皮或揭露方審查接收方蒐集了哪些揭露方的資料。上述（ii）和（iii）的每件個案，應依據適用法律的要求。",
           "17",
           "Lawfulness of processing, Right to erasure (‘right to be forgotten’), Processor",
           "non-compliant"
          ],
          [
           "8.6  如Shopee服務條款中所述，因使用本服務而持有其他用戶個人資料之用戶（“接收方”，包含用戶之員工、代理人、公司負責人及任何為該用戶服務或代用戶使用本服務者）在此同意（i）遵守所有與此類資料之蒐集、處理、儲存或傳送等相關的個人資料保護法律，（ii）允許蝦皮或接收方已蒐集其個人資料的用戶（“揭露方”）從接收方的資料庫中刪除其被蒐集的資料，及（iii）允許蝦皮或揭露方審查接收方蒐集了哪些揭露方的資料。上述（ii）和（iii）的每件個案，應依據適用法律的要求。",
           "28",
           "Lawfulness of processing, Right to erasure (‘right to be forgotten’), Processor",
           "non-compliant"
          ],
          [
           "The policy mentions the use of cookies and obtaining consent for them, which aligns with GDPR requirements.",
           null,
           null,
           "compliant"
          ],
          [
           "The policy states that location data is collected for specific purposes, and users can withdraw consent, which is in line with GDPR.",
           null,
           null,
           "compliant"
          ],
          [
           "The policy provides a broad list of data collected (\"including but not limited to\") without specifying the legal basis for each type of data.",
           null,
           null,
           "non-compliant"
          ],
          [
           "While the policy mentions anonymized statistics, it doesn't clarify how anonymization is achieved and if it aligns with GDPR's definition.",
           null,
           null,
           "non-compliant"
          ],
          [
           "The policy lacks information about data retention periods, which is a GDPR requirement.",
           null,
           null,
           "non-compliant"
          ],
          [
           "The policy doesn't explicitly mention data subject rights (access, rectification, erasure, etc.) as required by GDPR.",
           null,
           null,
           "non-compliant"
          ],
          [
           "The policy doesn't provide contact information for the data controller or data protection officer (DPO), if applicable.",
           null,
           null,
           "non-compliant"
          ],
          [
           "我們可能不會收到由聯合品牌夥伴或第三方網站 (即使是在我們的本網站上或透過我們的本平台提供) 所蒐集的資料。",
           "5",
           "Data Minimisation: This aligns with GDPR's principle of data minimisation, stating that data collection should be limited to what is necessary.",
           "compliant"
          ],
          [
           "因此，我們對於這些連結網站的內容、安全措施 (或缺乏該安全措施) 及活動，沒有任何責任或義務。這些連結網站只是為了方便起見而提供，因此當您存取這些網站時，應自行承擔風險。",
           "14",
           "Information Provided Where Personal Data is Not Obtained From the Data Subject: This section aligns with the requirement to inform users about the source of data when it's not directly collected from them.",
           "compliant"
          ],
          [
           "所連結的網站有個別和獨立的隱私權政策及安全措施。即使該第三方與我們有關，我們對於這些連結網站也沒有控制權，而且每一個連結網站都有不受我們約束的個別隱私權和資料蒐集作法。",
           "26",
           "Joint Controllership, Security of Processing: GDPR emphasizes joint responsibility when determining purposes and means of processing with third parties. The policy should clarify responsibilities and data sharing agreements with these entities.",
           "non-compliant"
          ],
          [
           "所連結的網站有個別和獨立的隱私權政策及安全措施。即使該第三方與我們有關，我們對於這些連結網站也沒有控制權，而且每一個連結網站都有不受我們約束的個別隱私權和資料蒐集作法。",
           "29",
           "Joint Controllership, Security of Processing: GDPR emphasizes joint responsibility when determining purposes and means of processing with third parties. The policy should clarify responsibilities and data sharing agreements with these entities.",
           "non-compliant"
          ],
          [
           "您的個人資料及/或資訊可能會為了履行前述一個或多個目的，傳送至您的國家/地區以外的地方，並在該地根據本隱私權政策及隱私權法之規定保存或處理。",
           "44-49",
           "Transfers of Personal Data to Third Countries: GDPR sets specific rules for transferring data outside the EU. The policy should specify the legal basis for such transfers (e.g., adequacy decisions, appropriate safeguards) and ensure adequate protection.",
           "non-compliant"
          ],
          [
           "在大多數情況下，您的個人資料會在新加坡保存，我們的伺服器即設立於此。Shopee只會在符合隱私權法的情況下將您的資訊傳送至國外。",
           "13",
           "Information to be Provided Where Personal Data are Collected From the Data Subject, Information to be Provided Where Personal Data Have Not Been Obtained From the Data Subject: The policy should clearly identify the countries where data is transferred and specify the legal basis for each transfer. Vague terms like \"compliant with privacy laws\" are insufficient.",
           "non-compliant"
          ],
          [
           "在大多數情況下，您的個人資料會在新加坡保存，我們的伺服器即設立於此。Shopee只會在符合隱私權法的情況下將您的資訊傳送至國外。",
           "14",
           "Information to be Provided Where Personal Data are Collected From the Data Subject, Information to be Provided Where Personal Data Have Not Been Obtained From the Data Subject: The policy should clearly identify the countries where data is transferred and specify the legal basis for each transfer. Vague terms like \"compliant with privacy laws\" are insufficient.",
           "non-compliant"
          ],
          [
           "Google不會將您的IP位址與Google所持有的其他資料建立關聯。",
           "51a",
           "資料最小化原則 - 僅收集和處理達成特定、明確和合法目的所必需的個人資料。",
           "compliant"
          ],
          [
           "為維護我們所擁有或控制與您有關之個人資料的安全性，我們確實實施了各種安全措施。您的個人資料包含在安全網路之後，只有具有該系統之特殊存取權且必須對個人資料保密的有限人員可以存取。",
           "321",
           "安全性義務 - 採取適當的技術和組織措施來保護個人資料，包括防止未經授權或非法的處理以及意外丟失、破壞或損壞。",
           "compliant"
          ],
          [
           "為維護我們所擁有或控制與您有關之個人資料的安全性，我們確實實施了各種安全措施。您的個人資料包含在安全網路之後，只有具有該系統之特殊存取權且必須對個人資料保密的有限人員可以存取。",
           "25",
           "安全性義務 - 採取適當的技術和組織措施來保護個人資料，包括防止未經授權或非法的處理以及意外丟失、破壞或損壞。",
           "compliant"
          ],
          [
           "當您下訂單或存取個人資料時，我們會提供安全伺服器以供使用。您提供的所有個人資料或敏感資訊都會以加密方式存放在我們的資料庫中，只有上述人員可以存取。",
           "321",
           "資料保護原則 - 採取適當的技術和組織措施來確保個人資料的機密性、完整性和可用性。",
           "compliant"
          ],
          [
           "當您下訂單或存取個人資料時，我們會提供安全伺服器以供使用。您提供的所有個人資料或敏感資訊都會以加密方式存放在我們的資料庫中，只有上述人員可以存取。",
           "25",
           "資料保護原則 - 採取適當的技術和組織措施來確保個人資料的機密性、完整性和可用性。",
           "compliant"
          ],
          [
           "我們和第三方偶爾可能會在本服務或透過本平台或本服務提供軟體應用程式下載供您使用。這些應用程式可能會個別存取並允許第三方檢視您的身分識別資訊(如您的姓名、使用者 ID、裝置IP位址或其他資訊)，例如您之前所安裝或是由第三方軟體應用程式或網站為您安裝的Cookie。此外，這些應用程式可能會要求您直接向第三方提供其他資訊。Shopee並不擁有或控制經由這些應用程式所提供的第三方產品或服務。我們建議您詳閱這些第三方在其網站或其他地方公佈的條款與其他政策。",
           "44",
           "與第三方共享資料 - 必須有合法的資料傳輸機制，例如標準合約條款或具有約束力的公司規則，以確保在將個人資料傳輸到GDPR以外的國家/地區時提供足夠的保護。",
           "non-compliant"
          ],
          [
           "我們和第三方偶爾可能會在本服務或透過本平台或本服務提供軟體應用程式下載供您使用。這些應用程式可能會個別存取並允許第三方檢視您的身分識別資訊(如您的姓名、使用者 ID、裝置IP位址或其他資訊)，例如您之前所安裝或是由第三方軟體應用程式或網站為您安裝的Cookie。此外，這些應用程式可能會要求您直接向第三方提供其他資訊。Shopee並不擁有或控制經由這些應用程式所提供的第三方產品或服務。我們建議您詳閱這些第三方在其網站或其他地方公佈的條款與其他政策。",
           "45",
           "與第三方共享資料 - 必須有合法的資料傳輸機制，例如標準合約條款或具有約束力的公司規則，以確保在將個人資料傳輸到GDPR以外的國家/地區時提供足夠的保護。",
           "non-compliant"
          ],
          [
           "我們和第三方偶爾可能會在本服務或透過本平台或本服務提供軟體應用程式下載供您使用。這些應用程式可能會個別存取並允許第三方檢視您的身分識別資訊(如您的姓名、使用者 ID、裝置IP位址或其他資訊)，例如您之前所安裝或是由第三方軟體應用程式或網站為您安裝的Cookie。此外，這些應用程式可能會要求您直接向第三方提供其他資訊。Shopee並不擁有或控制經由這些應用程式所提供的第三方產品或服務。我們建議您詳閱這些第三方在其網站或其他地方公佈的條款與其他政策。",
           "46",
           "與第三方共享資料 - 必須有合法的資料傳輸機制，例如標準合約條款或具有約束力的公司規則，以確保在將個人資料傳輸到GDPR以外的國家/地區時提供足夠的保護。",
           "non-compliant"
          ],
          [
           "我們不保證您在第三方網站上提供之個人資料及/或其他資訊的安全性。",
           "51f",
           "問責制原則 - 資料控制者應負責遵守GDPR並能夠證明其合規性。",
           "non-compliant"
          ],
          [
           "版權所有。",
           "12-14",
           "The principle of transparency requires that any information addressed to the public or to the data subject be concise, easily accessible and easy to understand, and that clear and plain language is used.",
           "non-compliant"
          ],
          [
           "5.COOKIE\n5.1  我們或我們授權的服務提供者及廣告夥伴有時可能會使用「Cookie」或其他功能，讓我們或第三方能夠蒐集或分享與您使用本服務或本平台有關的資訊。這些功能協助我們改進所提供的本平台和本服務，協助我們提供新的服務及功能，及/或使我們或我們的廣告夥伴提供您更相關的內容，包括再行銷。「Cookie」是儲存在您的電腦或行動裝置的識別碼紀錄電腦或裝置的數據，同時告訴我們本服務或本平台的使用或造訪方式、時間、造訪人次，及其他我們平台上的活動。我們可能會將Cookie資訊與個人資料連結起來。Cookie也會連結至您選擇購買之商品及您有檢視之網頁的相關資訊。這項資訊會用於追蹤您的購物車，傳遞與您興趣相關的特定內容，使我們的第三方廣告夥伴於網路上各網站提供廣告，進行數據分析，以及監控本服務的使用情形。\n\n5.2  若您要拒絕 Cookie 的使用，請選擇瀏覽器上的適當設定。不過請注意，如果您這麼做，可能無法使用本平台或本服務的完整功能。",
           "5(3)",
           "Lawfulness of processing, Transparency and information, Conditions for consent",
           "compliant"
          ],
          [
           "5.COOKIE\n5.1  我們或我們授權的服務提供者及廣告夥伴有時可能會使用「Cookie」或其他功能，讓我們或第三方能夠蒐集或分享與您使用本服務或本平台有關的資訊。這些功能協助我們改進所提供的本平台和本服務，協助我們提供新的服務及功能，及/或使我們或我們的廣告夥伴提供您更相關的內容，包括再行銷。「Cookie」是儲存在您的電腦或行動裝置的識別碼紀錄電腦或裝置的數據，同時告訴我們本服務或本平台的使用或造訪方式、時間、造訪人次，及其他我們平台上的活動。我們可能會將Cookie資訊與個人資料連結起來。Cookie也會連結至您選擇購買之商品及您有檢視之網頁的相關資訊。這項資訊會用於追蹤您的購物車，傳遞與您興趣相關的特定內容，使我們的第三方廣告夥伴於網路上各網站提供廣告，進行數據分析，以及監控本服務的使用情形。\n\n5.2  若您要拒絕 Cookie 的使用，請選擇瀏覽器上的適當設定。不過請注意，如果您這麼做，可能無法使用本平台或本服務的完整功能。",
           "12(1)",
           "Lawfulness of processing, Transparency and information, Conditions for consent",
           "compliant"
          ],
          [
           "5.COOKIE\n5.1  我們或我們授權的服務提供者及廣告夥伴有時可能會使用「Cookie」或其他功能，讓我們或第三方能夠蒐集或分享與您使用本服務或本平台有關的資訊。這些功能協助我們改進所提供的本平台和本服務，協助我們提供新的服務及功能，及/或使我們或我們的廣告夥伴提供您更相關的內容，包括再行銷。「Cookie」是儲存在您的電腦或行動裝置的識別碼紀錄電腦或裝置的數據，同時告訴我們本服務或本平台的使用或造訪方式、時間、造訪人次，及其他我們平台上的活動。我們可能會將Cookie資訊與個人資料連結起來。Cookie也會連結至您選擇購買之商品及您有檢視之網頁的相關資訊。這項資訊會用於追蹤您的購物車，傳遞與您興趣相關的特定內容，使我們的第三方廣告夥伴於網路上各網站提供廣告，進行數據分析，以及監控本服務的使用情形。\n\n5.2  若您要拒絕 Cookie 的使用，請選擇瀏覽器上的適當設定。不過請注意，如果您這麼做，可能無法使用本平台或本服務的完整功能。",
           "13(1-2)",
           "Lawfulness of processing, Transparency and information, Conditions for consent",
           "compliant"
          ],
          [
           "6.我們如何使用您提供給我們的資訊？\n6.1  我們可能會針對下列一或多個目的去蒐集、使用、揭露及/或處理您的個人資料：\n(a)   考量及/或處理您向我們提出的申請/與我們進行的交易，或是您透過本服務與第三方進行的交易或通訊；\n\n(b)   管理、操作、提供及/或處理您對我們的本服務和本平台的使用及/或存取(包括但不限於記住您的喜好設定)、您與我們的關係，以及您向我們開立的使用者帳戶；\n\n(c)   回應、處理、因應或完成交易、帳戶終止後的結餘款項撥付、及/或滿足您對特定產品及服務的要求，以及向您告知服務問題和不尋常的帳戶操作；\n\n(d)   執行我們的「服務條款」或任何適用的使用者授權合約；",
           "6(1)(b-f)",
           "Lawfulness of processing",
           "compliant"
          ],
          [
           "6.我們如何使用您提供給我們的資訊？\n6.1  我們可能會針對下列一或多個目的去蒐集、使用、揭露及/或處理您的個人資料：\n(e)   保護人身安全和權利、財產或其他人的安全；\n\n(f)   識別、驗證、盡職調查（due diligence）或KYC(know your customer)；\n\n(g)   維護及管理偶爾需要進行的軟體更新及/或其他更新及支援，以確保本服務能順暢運作；\n\n(h)   處理或促進客戶服務、執行您的指示、處理或回應由您或代表您 (或聲稱由您或代表您) 提出的一切詢問；\n\n(i)   基於執行及/或管理您與我們的關係，或是您的使用本服務之目的，透過語音通話、文字簡訊及/或傳真訊息、電子郵件及/或郵寄或其他方式與您聯繫或溝通，例如但不限於向您傳達與本服務有關的管理資訊。",
           "6(1)(f)",
           "Lawfulness of processing",
           "non-compliant"
          ],
          [
           "8.2  我們得與廣告夥伴及第三方廣告、再行銷及/或方案供應商分享和使用者及其對本服務使用情形相關的統計及人口統計資訊。",
           "5",
           "Data minimization: The data shared with advertising partners should be limited to what is necessary for the statistical and demographic analysis. \n\nTransparency and purpose limitation: Users should be informed about this data sharing practice and the specific purposes of it in a clear and concise manner.",
           "compliant"
          ],
          [
           "8.2  我們得與廣告夥伴及第三方廣告、再行銷及/或方案供應商分享和使用者及其對本服務使用情形相關的統計及人口統計資訊。",
           "24",
           "Data minimization: The data shared with advertising partners should be limited to what is necessary for the statistical and demographic analysis. \n\nTransparency and purpose limitation: Users should be informed about this data sharing practice and the specific purposes of it in a clear and concise manner.",
           "compliant"
          ],
          [
           "(f)   整合、剝奪、改組、重整、解散或其他銷售或轉移 (無論是持續經營的形式，或是破產、清算或類似程序的一部分) Shopee部分或全部資產的買方或其他繼任者，其中由Shopee所持有、有關本服務使用者的個人資料也在轉移的資產中；或是Shopee或其任何關係企業或關聯公司所參與之企業資產交易的對手；以及",
           "14",
           "Data subject rights: Users should be informed about the transfer of their data and be given the opportunity to object or exercise their rights (e.g., right to access, rectification) before the transfer takes place. \n\nData security: Shopee must ensure appropriate safeguards are in place during the transfer to protect personal data.",
           "non-compliant"
          ],
          [
           "(f)   整合、剝奪、改組、重整、解散或其他銷售或轉移 (無論是持續經營的形式，或是破產、清算或類似程序的一部分) Shopee部分或全部資產的買方或其他繼任者，其中由Shopee所持有、有關本服務使用者的個人資料也在轉移的資產中；或是Shopee或其任何關係企業或關聯公司所參與之企業資產交易的對手；以及",
           "13",
           "Data subject rights: Users should be informed about the transfer of their data and be given the opportunity to object or exercise their rights (e.g., right to access, rectification) before the transfer takes place. \n\nData security: Shopee must ensure appropriate safeguards are in place during the transfer to protect personal data.",
           "non-compliant"
          ],
          [
           "(f)   整合、剝奪、改組、重整、解散或其他銷售或轉移 (無論是持續經營的形式，或是破產、清算或類似程序的一部分) Shopee部分或全部資產的買方或其他繼任者，其中由Shopee所持有、有關本服務使用者的個人資料也在轉移的資產中；或是Shopee或其任何關係企業或關聯公司所參與之企業資產交易的對手；以及",
           "15",
           "Data subject rights: Users should be informed about the transfer of their data and be given the opportunity to object or exercise their rights (e.g., right to access, rectification) before the transfer takes place. \n\nData security: Shopee must ensure appropriate safeguards are in place during the transfer to protect personal data.",
           "non-compliant"
          ],
          [
           "(g)   我們針對一或多個目的而向其揭露個人資料的第三方，該第三方可能會針對一或多個目的反過來蒐集和處理您的個人資料。",
           "44",
           "Data processing by third parties: The policy lacks specific information about the third parties involved, the purposes of data processing, and the legal basis for such processing. \n\nData transfer limitations: It is unclear if these third parties are located outside of the European Economic Area (EEA) and if any safeguards are in place for such transfers.",
           "non-compliant"
          ],
          [
           "(g)   我們針對一或多個目的而向其揭露個人資料的第三方，該第三方可能會針對一或多個目的反過來蒐集和處理您的個人資料。",
           "46",
           "Data processing by third parties: The policy lacks specific information about the third parties involved, the purposes of data processing, and the legal basis for such processing. \n\nData transfer limitations: It is unclear if these third parties are located outside of the European Economic Area (EEA) and if any safeguards are in place for such transfers.",
           "non-compliant"
          ],
          [
           "(g)   我們針對一或多個目的而向其揭露個人資料的第三方，該第三方可能會針對一或多個目的反過來蒐集和處理您的個人資料。",
           "49",
           "Data processing by third parties: The policy lacks specific information about the third parties involved, the purposes of data processing, and the legal basis for such processing. \n\nData transfer limitations: It is unclear if these third parties are located outside of the European Economic Area (EEA) and if any safeguards are in place for such transfers.",
           "non-compliant"
          ],
          [
           "8.3  為避免疑慮，在隱私權法或其他適用法律允許組織 ，像是我們， 在未取得您的同意即可蒐集、使用或揭露您個人資料的情況下，由該等法律授予的該權限應繼續適用。承前述及適用法律允許下，我們得依據認定的法律理由使用您的個人資料以遵守我們的法律義務、履行對您的契約義務、實現合法利益，以及其他任何優先於您的保護數據權利之理由，或與合法主張有關所必要時。",
           "6",
           "Lawfulness of processing: While the policy mentions legal bases for processing, it is too vague and does not specify the legal grounds for each processing activity. \n\nUser consent: GDPR prioritizes consent as a legal basis for processing. The policy should clearly state when consent is relied upon and ensure that it meets the GDPR requirements for valid consent.",
           "non-compliant"
          ],
          [
           "8.3  為避免疑慮，在隱私權法或其他適用法律允許組織 ，像是我們， 在未取得您的同意即可蒐集、使用或揭露您個人資料的情況下，由該等法律授予的該權限應繼續適用。承前述及適用法律允許下，我們得依據認定的法律理由使用您的個人資料以遵守我們的法律義務、履行對您的契約義務、實現合法利益，以及其他任何優先於您的保護數據權利之理由，或與合法主張有關所必要時。",
           "7",
           "Lawfulness of processing: While the policy mentions legal bases for processing, it is too vague and does not specify the legal grounds for each processing activity. \n\nUser consent: GDPR prioritizes consent as a legal basis for processing. The policy should clearly state when consent is relied upon and ensure that it meets the GDPR requirements for valid consent.",
           "non-compliant"
          ],
          [
           "8.3  為避免疑慮，在隱私權法或其他適用法律允許組織 ，像是我們， 在未取得您的同意即可蒐集、使用或揭露您個人資料的情況下，由該等法律授予的該權限應繼續適用。承前述及適用法律允許下，我們得依據認定的法律理由使用您的個人資料以遵守我們的法律義務、履行對您的契約義務、實現合法利益，以及其他任何優先於您的保護數據權利之理由，或與合法主張有關所必要時。",
           "9",
           "Lawfulness of processing: While the policy mentions legal bases for processing, it is too vague and does not specify the legal grounds for each processing activity. \n\nUser consent: GDPR prioritizes consent as a legal basis for processing. The policy should clearly state when consent is relied upon and ensure that it meets the GDPR requirements for valid consent.",
           "non-compliant"
          ],
          [
           "8.4  在我方沒有責任的情況下，第三方可能會非法攔截或存取傳送至網站或是網站所包含的個人資料，技術可能會故障或無法如預期運作，或是有人可能會存取、濫用或誤用資訊。",
           "25",
           "Security of processing: While this section acknowledges potential security risks, it does not demonstrate accountability or outline specific technical and organizational measures taken to ensure data security.",
           "non-compliant"
          ],
          [
           "8.4  在我方沒有責任的情況下，第三方可能會非法攔截或存取傳送至網站或是網站所包含的個人資料，技術可能會故障或無法如預期運作，或是有人可能會存取、濫用或誤用資訊。",
           "32",
           "Security of processing: While this section acknowledges potential security risks, it does not demonstrate accountability or outline specific technical and organizational measures taken to ensure data security.",
           "non-compliant"
          ],
          [
           "C001 辨識個人者。(例如：姓名、職稱、住址、工作地址、以前地址、住家電話號碼、行動電話、網路平臺申請之帳號、會員編號、通訊及戶籍地址、電子郵遞地址及其他任何可辨識資料本人者等。)",
           "4(1)",
           "Definition of personal data: 'any information relating to an identified or identifiable natural person ('data subject')...",
           "compliant"
          ],
          [
           "C002 辨識財務者。(例如：金融機構帳戶之號碼與姓名、信用卡或簽帳卡之號碼、個人之其他號碼或帳戶等。)",
           "9(2)(g)",
           "Processing of special categories of personal data: Explicit consent is required for processing data revealing financial information. It can be considered as data revealing racial or ethnic origin, political opinions, religious or philosophical beliefs, or trade union membership, and the processing of genetic data, biometric data for the purpose of uniquely identifying a natural person, data concerning health or data concerning a natural person's sex life or sexual orientation shall be prohibited.",
           "compliant"
          ],
          [
           "C002 辨識財務者。(例如：金融機構帳戶之號碼與姓名、信用卡或簽帳卡之號碼、個人之其他號碼或帳戶等。)",
           "4(1)",
           "Processing of special categories of personal data: Explicit consent is required for processing data revealing financial information. It can be considered as data revealing racial or ethnic origin, political opinions, religious or philosophical beliefs, or trade union membership, and the processing of genetic data, biometric data for the purpose of uniquely identifying a natural person, data concerning health or data concerning a natural person's sex life or sexual orientation shall be prohibited.",
           "compliant"
          ],
          [
           "C003 政府資料中之辨識者。(例如：身分證統一編號、護照號碼等。)",
           "9(2)(g)",
           "Processing of special categories of personal data: Explicit consent is required for processing government-issued identification numbers. It can be considered as data revealing racial or ethnic origin, political opinions, religious or philosophical beliefs, or trade union membership, and the processing of genetic data, biometric data for the purpose of uniquely identifying a natural person, data concerning health or data concerning a natural person's sex life or sexual orientation shall be prohibited.",
           "compliant"
          ],
          [
           "C003 政府資料中之辨識者。(例如：身分證統一編號、護照號碼等。)",
           "4(1)",
           "Processing of special categories of personal data: Explicit consent is required for processing government-issued identification numbers. It can be considered as data revealing racial or ethnic origin, political opinions, religious or philosophical beliefs, or trade union membership, and the processing of genetic data, biometric data for the purpose of uniquely identifying a natural person, data concerning health or data concerning a natural person's sex life or sexual orientation shall be prohibited.",
           "compliant"
          ],
          [
           "C011 個人描述。(例如：年齡、性別、出生年月日、出生地、國籍等。)",
           "9(1)",
           "Processing of special categories of personal data: 'Processing of personal data revealing racial or ethnic origin, political opinions, religious or philosophical beliefs, or trade union membership, and the processing of genetic data, biometric data for the purpose of uniquely identifying a natural person, data concerning health or data concerning a natural person's sex life or sexual orientation shall be prohibited.'",
           "non-compliant"
          ],
          [
           "C031 住家及設施。(如：住所地址)",
           "5(1)(c)",
           "Principles relating to processing of personal data: Data minimisation - 'adequate, relevant and limited to what is necessary in relation to the purposes for which they are processed ('data minimisation')'",
           "non-compliant"
          ],
          [
           "C034 旅行及其他遷徙細節。(例如：旅行細節)",
           "9(1)",
           "Processing of special categories of personal data and data minimisation: Travel details might indirectly reveal sensitive information (e.g., religious pilgrimage). This information should only be collected if necessary, have a lawful basis for processing, and be justified under GDPR's data minimisation principle.",
           "non-compliant"
          ],
          [
           "C034 旅行及其他遷徙細節。(例如：旅行細節)",
           "5(1)(c)",
           "Processing of special categories of personal data and data minimisation: Travel details might indirectly reveal sensitive information (e.g., religious pilgrimage). This information should only be collected if necessary, have a lawful basis for processing, and be justified under GDPR's data minimisation principle.",
           "non-compliant"
          ],
          [
           "C035 休閒活動及興趣。(例如：嗜好、運動及其他興趣等。)",
           "5(1)(c)",
           "Data minimisation: Collecting data on hobbies, sports, and interests might not be necessary for the company's stated purpose. ",
           "non-compliant"
          ],
          [
           "C036 生活格調。(例如：使用消費品之種類及服務之細節、個人或家庭之消費模式等。)",
           "5(1)(c)",
           "Data minimisation: Collecting data on lifestyle, including consumption patterns, might not be necessary for the company's stated purpose.",
           "non-compliant"
          ],
          [
           "C102 約定或契約。(例如：關於交易、商業、法律或其他契約、代理等。)",
           "5(1)(c)",
           "Data minimisation: While collecting data related to contracts and agreements might be necessary, the scope should be limited to what is strictly necessary for the specific purpose.",
           "non-compliant"
          ],
          [
           "C103 與營業有關之執照。(例如：執照之有無。)",
           "5(1)(c)",
           "Data minimisation: The necessity of collecting data on business licenses depends on the specific context. ",
           "non-compliant"
          ],
          [
           "C132 未分類之資料。(例如：無法歸類之信件、檔案、報告或電子郵件等。)",
           "5(1)(c)",
           "Data minimisation:  Collecting and retaining 'unclassified data' contradicts the principle of data minimisation.",
           "non-compliant"
          ],
          [
           "9.1  本服務不適用於未滿13歲的兒童。我們不會故意蒐集或保存未滿13歲兒童的任何個人資料或無法識別個人身分的資訊，而且本平台或其他本服務的所有部分都不是以未滿13歲兒童為對象。未滿13歲兒童的父母或法定監護人應確保該兒童不向本平台提供其個人資料，否則視為該兒童父母或法定監護人代表該兒童所為並受其拘束。我們會關閉由未滿13歲兒童專用的一切帳戶，並且會移除及/或刪除我們認為是由未滿13歲兒童且非父母或法定監護人代表所提交的一切個人資料。",
           "8 GDPR - Conditions for consent",
           "This section aligns with Article 8 of the GDPR, which outlines the conditions for valid consent from a child.  Specifically, it requires parental consent for data processing of children under a certain age, which this section acknowledges and addresses.",
           "compliant"
          ],
          [
           "10.1  本平台使用由 Google, Inc.(下稱「Google」)提供的網頁分析服務 - Google Analytics。Google Analytics使用Cookie，在您裝置上的文字檔案，協助平台分析使用者使用本平台的情形。由 Cookie 產生有關您的本平台使用情形的資訊 (包括您的 IP 位址) 會傳送至Google，並由Google存放在位於美國的伺服器。Google會使用這項資訊評估您的本平台使用情形、為網站經營者編製網站活動報告，並提供與網站活動和網際網路使用情形相關的其他服務。Google可能也會在法律要求下將這項資訊傳送給第三方，或是將該資訊傳送給代表Google處理資訊的第三方。",
           "44-49 GDPR",
           "Transferring personal data, including IP addresses (which are considered personal data under GDPR), to the United States requires specific safeguards due to the adequacy decisions by the European Commission. This section does not mention any safeguards such as Standard Contractual Clauses (SCCs), Binding Corporate Rules (BCRs), or derogations for specific situations.",
           "non-compliant"
          ],
          [
           "10.1  本平台使用由 Google, Inc.(下稱「Google」)提供的網頁分析服務 - Google Analytics。Google Analytics使用Cookie，在您裝置上的文字檔案，協助平台分析使用者使用本平台的情形。由 Cookie 產生有關您的本平台使用情形的資訊 (包括您的 IP 位址) 會傳送至Google，並由Google存放在位於美國的伺服器。Google會使用這項資訊評估您的本平台使用情形、為網站經營者編製網站活動報告，並提供與網站活動和網際網路使用情形相關的其他服務。Google可能也會在法律要求下將這項資訊傳送給第三方，或是將該資訊傳送給代表Google處理資訊的第三方。",
           "5 GDPR",
           "Transferring personal data, including IP addresses (which are considered personal data under GDPR), to the United States requires specific safeguards due to the adequacy decisions by the European Commission. This section does not mention any safeguards such as Standard Contractual Clauses (SCCs), Binding Corporate Rules (BCRs), or derogations for specific situations.",
           "non-compliant"
          ],
          [
           "您知悉並同意我們得透過郵寄信件、文件和通知的方式與您進行上述通訊，遞送過程中可能會在信封/郵件包裹外部揭露您的特定個人資料；",
           "6(1)(f)",
           "Data subjects must be informed about the processing of their data, including the means used and the potential risks, such as data disclosure during postal delivery. This aligns with transparency and information requirements.",
           "compliant"
          ],
          [
           "您知悉並同意我們得透過郵寄信件、文件和通知的方式與您進行上述通訊，遞送過程中可能會在信封/郵件包裹外部揭露您的特定個人資料；",
           "12(1)",
           "Data subjects must be informed about the processing of their data, including the means used and the potential risks, such as data disclosure during postal delivery. This aligns with transparency and information requirements.",
           "compliant"
          ],
          [
           "您知悉並同意我們得透過郵寄信件、文件和通知的方式與您進行上述通訊，遞送過程中可能會在信封/郵件包裹外部揭露您的特定個人資料；",
           "13(1)(c)",
           "Data subjects must be informed about the processing of their data, including the means used and the potential risks, such as data disclosure during postal delivery. This aligns with transparency and information requirements.",
           "compliant"
          ],
          [
           "您知悉並同意我們得透過郵寄信件、文件和通知的方式與您進行上述通訊，遞送過程中可能會在信封/郵件包裹外部揭露您的特定個人資料；",
           "14(2)(d)",
           "Data subjects must be informed about the processing of their data, including the means used and the potential risks, such as data disclosure during postal delivery. This aligns with transparency and information requirements.",
           "compliant"
          ],
          [
           "(j)   便利其他使用者在本平台上與您互動、連繫或看到您在本平台上的部分活動，包括當另一名使用者在本平台上向您傳送私訊或是張貼要給您的意見時通知您或透過本平台上的社群功能與您聯繫；",
           "6(1)(a)",
           "Processing data for user interaction and social features requires a legal basis, such as consent or legitimate interest. The policy should clearly state this basis and provide information about data processing.",
           "compliant"
          ],
          [
           "(j)   便利其他使用者在本平台上與您互動、連繫或看到您在本平台上的部分活動，包括當另一名使用者在本平台上向您傳送私訊或是張貼要給您的意見時通知您或透過本平台上的社群功能與您聯繫；",
           "6(1)(f)",
           "Processing data for user interaction and social features requires a legal basis, such as consent or legitimate interest. The policy should clearly state this basis and provide information about data processing.",
           "compliant"
          ],
          [
           "(j)   便利其他使用者在本平台上與您互動、連繫或看到您在本平台上的部分活動，包括當另一名使用者在本平台上向您傳送私訊或是張貼要給您的意見時通知您或透過本平台上的社群功能與您聯繫；",
           "12(1)",
           "Processing data for user interaction and social features requires a legal basis, such as consent or legitimate interest. The policy should clearly state this basis and provide information about data processing.",
           "compliant"
          ],
          [
           "(j)   便利其他使用者在本平台上與您互動、連繫或看到您在本平台上的部分活動，包括當另一名使用者在本平台上向您傳送私訊或是張貼要給您的意見時通知您或透過本平台上的社群功能與您聯繫；",
           "13(1)(c)",
           "Processing data for user interaction and social features requires a legal basis, such as consent or legitimate interest. The policy should clearly state this basis and provide information about data processing.",
           "compliant"
          ],
          [
           "(l)   允許進行稽核及調查以確認目標受眾的規模和組成，並瞭解他們對本服務的體驗；",
           "6(1)(f)",
           "Data processing for auditing and research purposes is permissible under legitimate interest, provided it's necessary and proportionate. The policy should explain this purpose and how data is used.",
           "compliant"
          ],
          [
           "(l)   允許進行稽核及調查以確認目標受眾的規模和組成，並瞭解他們對本服務的體驗；",
           "12(1)",
           "Data processing for auditing and research purposes is permissible under legitimate interest, provided it's necessary and proportionate. The policy should explain this purpose and how data is used.",
           "compliant"
          ],
          [
           "(l)   允許進行稽核及調查以確認目標受眾的規模和組成，並瞭解他們對本服務的體驗；",
           "13(1)(c)",
           "Data processing for auditing and research purposes is permissible under legitimate interest, provided it's necessary and proportionate. The policy should explain this purpose and how data is used.",
           "compliant"
          ],
          [
           "(k)   進行研究、分析和開發活動 (包括但不限於資料分析、問卷調查、產品和服務開發及/或剖析)，以分析您對本服務的使用情形、推薦與您興趣相關的商品或服務、改進我們的本服務或產品及/或加強您的客戶體驗；",
           "5(1)(b)",
           "While data analysis and research are permissible, using personal data for product development and improvement requires a specific legal basis, such as explicit consent or legitimate interest with a Data Protection Impact Assessment (DPIA). The policy lacks clarity on this.",
           "non-compliant"
          ],
          [
           "(k)   進行研究、分析和開發活動 (包括但不限於資料分析、問卷調查、產品和服務開發及/或剖析)，以分析您對本服務的使用情形、推薦與您興趣相關的商品或服務、改進我們的本服務或產品及/或加強您的客戶體驗；",
           "9(2)(j)",
           "While data analysis and research are permissible, using personal data for product development and improvement requires a specific legal basis, such as explicit consent or legitimate interest with a Data Protection Impact Assessment (DPIA). The policy lacks clarity on this.",
           "non-compliant"
          ],
          [
           "(k)   進行研究、分析和開發活動 (包括但不限於資料分析、問卷調查、產品和服務開發及/或剖析)，以分析您對本服務的使用情形、推薦與您興趣相關的商品或服務、改進我們的本服務或產品及/或加強您的客戶體驗；",
           "27",
           "While data analysis and research are permissible, using personal data for product development and improvement requires a specific legal basis, such as explicit consent or legitimate interest with a Data Protection Impact Assessment (DPIA). The policy lacks clarity on this.",
           "non-compliant"
          ],
          [
           "(m)   基於行銷或廣告這方面的目的，透過各種通訊媒介及模式，向您寄送有關Shopee (及/或其關係企業或關聯公司) 可能正在銷售、行銷或促銷之產品及/或服務 (包括但不限於可能與Shopee合作或聯合提供之第三方的產品及/或服務) 的行銷和促銷資訊及資料，無論該產品或服務目前已存在或是未來才會建立；您隨時可以透過電子行銷資料中的取消訂閱功能來取消接受行銷資訊。我們可能會使用您的聯絡資訊向您寄送我們或關係企業電子報或行銷資訊。",
           "6(1)(a)",
           "Direct marketing requires explicit consent or a prior relationship with the data subject. The policy should clearly differentiate between marketing for own products/services and third-party marketing, providing separate consent options and clear opt-out instructions for each.",
           "non-compliant"
          ],
          [
           "(m)   基於行銷或廣告這方面的目的，透過各種通訊媒介及模式，向您寄送有關Shopee (及/或其關係企業或關聯公司) 可能正在銷售、行銷或促銷之產品及/或服務 (包括但不限於可能與Shopee合作或聯合提供之第三方的產品及/或服務) 的行銷和促銷資訊及資料，無論該產品或服務目前已存在或是未來才會建立；您隨時可以透過電子行銷資料中的取消訂閱功能來取消接受行銷資訊。我們可能會使用您的聯絡資訊向您寄送我們或關係企業電子報或行銷資訊。",
           "7(4)",
           "Direct marketing requires explicit consent or a prior relationship with the data subject. The policy should clearly differentiate between marketing for own products/services and third-party marketing, providing separate consent options and clear opt-out instructions for each.",
           "non-compliant"
          ],
          [
           "(m)   基於行銷或廣告這方面的目的，透過各種通訊媒介及模式，向您寄送有關Shopee (及/或其關係企業或關聯公司) 可能正在銷售、行銷或促銷之產品及/或服務 (包括但不限於可能與Shopee合作或聯合提供之第三方的產品及/或服務) 的行銷和促銷資訊及資料，無論該產品或服務目前已存在或是未來才會建立；您隨時可以透過電子行銷資料中的取消訂閱功能來取消接受行銷資訊。我們可能會使用您的聯絡資訊向您寄送我們或關係企業電子報或行銷資訊。",
           "21",
           "Direct marketing requires explicit consent or a prior relationship with the data subject. The policy should clearly differentiate between marketing for own products/services and third-party marketing, providing separate consent options and clear opt-out instructions for each.",
           "non-compliant"
          ],
          [
           "13.1.1  若您不再同意我們蒐集、使用及/或揭露由我們擁有或控制之和您有關的個人資料或要求我們刪除您的個人資料，請傳送電子郵件至 dpo.tw@shopee.com給我們的「個人資料保護主管」，我們將依本政策及隱私權法規定處理您的申請。不過，若您撤回同意，這可能表示我們將無法繼續向您提供本服務、我們可能需要終止您目前與我們的關係及/或合約。",
           "7 (Right to withdraw consent)",
           "Data subjects have the right to withdraw consent at any time.  Data subjects have the right to have their data erased under certain circumstances, such as when the data is no longer necessary for the purpose it was collected.",
           "compliant"
          ],
          [
           "13.1.1  若您不再同意我們蒐集、使用及/或揭露由我們擁有或控制之和您有關的個人資料或要求我們刪除您的個人資料，請傳送電子郵件至 dpo.tw@shopee.com給我們的「個人資料保護主管」，我們將依本政策及隱私權法規定處理您的申請。不過，若您撤回同意，這可能表示我們將無法繼續向您提供本服務、我們可能需要終止您目前與我們的關係及/或合約。",
           "17 (Right to erasure/right to be forgotten)",
           "Data subjects have the right to withdraw consent at any time.  Data subjects have the right to have their data erased under certain circumstances, such as when the data is no longer necessary for the purpose it was collected.",
           "compliant"
          ],
          [
           "13.2  要求存取或修正個人資料",
           "15 (Right of access)",
           "Data subjects have the right to obtain confirmation as to whether or not personal data concerning him or her are being processed, and, where that is the case, access to the personal data and certain information.",
           "compliant"
          ],
          [
           "13.2.1  若您有我們的帳戶，您可以透過本平台的「帳戶設定」頁面，親自存取及/或修正目前由我們擁有或控制的個人資料。若您沒有我們的帳戶，您可以提交書面要求給我們，要求存取及/或修正目前由我們擁有或控制的個人資料。您必須提供足夠的資訊，供我們查明您的身分和要求的性質，以便能處理您的要求。因此，請傳送電子郵件至dpo.tw@shopee.com給我們的「個人資料保護主管」，以提交您的書面要求。",
           "12 (Transparent information",
           "The controller shall take appropriate measures to provide any information referred to in Articles 13 and 14 and any communication under Articles 15 to 22 and 34 relating to processing to the data subject in a concise, transparent, intelligible and easily accessible form, using clear and plain language.",
           "compliant"
          ],
          [
           "13.2.1  若您有我們的帳戶，您可以透過本平台的「帳戶設定」頁面，親自存取及/或修正目前由我們擁有或控制的個人資料。若您沒有我們的帳戶，您可以提交書面要求給我們，要求存取及/或修正目前由我們擁有或控制的個人資料。您必須提供足夠的資訊，供我們查明您的身分和要求的性質，以便能處理您的要求。因此，請傳送電子郵件至dpo.tw@shopee.com給我們的「個人資料保護主管」，以提交您的書面要求。",
           "communication and modalities for the exercise of the rights of the data subject)",
           "The controller shall take appropriate measures to provide any information referred to in Articles 13 and 14 and any communication under Articles 15 to 22 and 34 relating to processing to the data subject in a concise, transparent, intelligible and easily accessible form, using clear and plain language.",
           "compliant"
          ],
          [
           "13.2.2  您可以請求查詢、閱覽本人的個人資料或要求給予複本（Shopee得依法審酌您的請求並酌收必要合理的費用）",
           "15 (Right of access)",
           "The controller shall provide a copy of the personal data undergoing processing to the data subject. The controller may charge a reasonable fee based on administrative costs for any further copies requested.",
           "compliant"
          ],
          [
           "13.2.2  我們會在取得您所提供、足以處理該要求的充分資訊後15天內將相關的個人資料提供給您。",
           "12 (Transparent information",
           "The controller shall provide information on action taken on a request by the data subject without undue delay and in any event within one month of receipt of the request.",
           "non-compliant"
          ],
          [
           "13.2.2  我們會在取得您所提供、足以處理該要求的充分資訊後15天內將相關的個人資料提供給您。",
           "communication and modalities for the exercise of the rights of the data subject)",
           "The controller shall provide information on action taken on a request by the data subject without undue delay and in any event within one month of receipt of the request.",
           "non-compliant"
          ],
          [
           "(n)   提供酬賓、合作夥伴及紅利點數計畫和優惠以及其他聯名行銷活動，例如，與第三方合作廠商合作提供的店家酬賓計畫、賣家優惠或聯名信用卡等。",
           "6(1)(a)",
           "Consent, Legitimate Interests",
           "compliant"
          ],
          [
           "(n)   提供酬賓、合作夥伴及紅利點數計畫和優惠以及其他聯名行銷活動，例如，與第三方合作廠商合作提供的店家酬賓計畫、賣家優惠或聯名信用卡等。",
           "6(1)(f)",
           "Consent, Legitimate Interests",
           "compliant"
          ],
          [
           "(o)　回應法律程序或是遵守相關管轄地之任何適用法律、政府或監管要求或是我們有理由相信揭露為必要的，包括但不限於依據對Shopee或是其關聯公司或關係企業具有約束力之任何法律規定，符合揭露之要求(包括但不限於，如適用法令要求，揭露您的姓名、聯絡資訊及公司資料)；",
           "6(1)(c)",
           "Legal Obligation",
           "compliant"
          ],
          [
           "(p)   針對內部和法定報告及/或記錄保存要求，產生統計資料和研究結果；",
           "6(1)(c)",
           "Legal Obligation, Legitimate Interests",
           "compliant"
          ],
          [
           "(p)   針對內部和法定報告及/或記錄保存要求，產生統計資料和研究結果；",
           "6(1)(f)",
           "Legal Obligation, Legitimate Interests",
           "compliant"
          ],
          [
           "(r)   稽核我們的本服務或Shopee的業務；",
           "6(1)(f)",
           "Legitimate Interests",
           "compliant"
          ],
          [
           "(s)   防止或調查任何實際或可能違反我們服務條款之情形、詐欺、非法活動、疏忽或不當行為，以瞭解這些行為是否與您對本服務的使用有關、是否因為您與我們的關係而產生；",
           "6(1)(f)",
           "Legitimate Interests",
           "compliant"
          ],
          [
           "(t)   回應任何聲稱的或實際的針對Shopee之主張，或其他對於內容侵害第三方權利之主張；",
           "6(1)(f)",
           "Legitimate Interests",
           "compliant"
          ],
          [
           "(q)   根據法律或法規義務或是我們的風險管理程序 (依據法律規定或是我方所實施者)，執行盡職調查或其他過濾行動 (包括但不限於背景調查)；",
           "6(1)",
           "Lawfulness of Processing, Processing of Special Categories of Data",
           "non-compliant"
          ],
          [
           "(q)   根據法律或法規義務或是我們的風險管理程序 (依據法律規定或是我方所實施者)，執行盡職調查或其他過濾行動 (包括但不限於背景調查)；",
           "9",
           "Lawfulness of Processing, Processing of Special Categories of Data",
           "non-compliant"
          ],
          [
           "(u)   儲存、託管、備份 (無論是為了災難復原或其他目的) 您的個人資料，不管是在您所在管轄地內或外；",
           "44-50",
           "Transfers of personal data to third countries or international organisations",
           "non-compliant"
          ],
          [
           "(v)   處理及/或促進企業資產交易或可能進行的企業資產交易，其中該交易的參與者包含Shopee，或是僅包含Shopee的關聯公司或關係企業，或是包含Shopee及/或Shopee任一家或多家關聯公司或或關係企業，而且可能還有其他第三方組織也參與該交易。",
           "6(1)(f)",
           "Legitimate Interests, Information to be provided where personal data are collected from the data subject",
           "non-compliant"
          ],
          [
           "(v)   處理及/或促進企業資產交易或可能進行的企業資產交易，其中該交易的參與者包含Shopee，或是僅包含Shopee的關聯公司或關係企業，或是包含Shopee及/或Shopee任一家或多家關聯公司或或關係企業，而且可能還有其他第三方組織也參與該交易。",
           "14",
           "Legitimate Interests, Information to be provided where personal data are collected from the data subject",
           "non-compliant"
          ],
          [
           "7. ... 應遵守所有適用的隱私法律 ...",
           "5",
           "Principles relating to processing of personal data: lawfulness, fairness and transparency",
           "compliant"
          ],
          [
           "7. ... 除非有合理必要需回應買方的查詢和回應、處理或完成交易，否則不得利用買方個人資料 ...",
           "51b",
           "Principles relating to processing of personal data: purpose limitation, lawfulness of processing",
           "compliant"
          ],
          [
           "7. ... 除非有合理必要需回應買方的查詢和回應、處理或完成交易，否則不得利用買方個人資料 ...",
           "61b",
           "Principles relating to processing of personal data: purpose limitation, lawfulness of processing",
           "compliant"
          ],
          [
           "7. ... 應避免在Shopee平台之外使用此類資訊與買方聯繫 ...",
           "51c",
           "Principles relating to processing of personal data: data minimisation",
           "compliant"
          ],
          [
           "7. ... 不得未經買方和Shopee的事先書面同意即將此類買方的個人資料揭露給任何未經授權的第三方 ...",
           "61a",
           "Lawfulness of processing, responsibility of the controller, processor",
           "compliant"
          ],
          [
           "7. ... 不得未經買方和Shopee的事先書面同意即將此類買方的個人資料揭露給任何未經授權的第三方 ...",
           "241",
           "Lawfulness of processing, responsibility of the controller, processor",
           "compliant"
          ],
          [
           "7. ... 不得未經買方和Shopee的事先書面同意即將此類買方的個人資料揭露給任何未經授權的第三方 ...",
           "28",
           "Lawfulness of processing, responsibility of the controller, processor",
           "compliant"
          ],
          [
           "7. ... 應採取足夠的安全措施來保護所持有的Shopee用戶個人資料 ...",
           "51f",
           "Principles relating to processing of personal data: integrity and confidentiality, security of processing",
           "compliant"
          ],
          [
           "7. ... 應採取足夠的安全措施來保護所持有的Shopee用戶個人資料 ...",
           "32",
           "Principles relating to processing of personal data: integrity and confidentiality, security of processing",
           "compliant"
          ],
          [
           "7. ... 僅於符合個人資料法規範與符合前述目的情況下保存用戶個人資料 ...",
           "51e",
           "Principles relating to processing of personal data: storage limitation",
           "compliant"
          ],
          [
           "7. ... 依據蝦皮要求或交易完成後合理期間內儘快返還資料給蝦皮或儘速刪除這些資料 ...",
           "51e",
           "Principles relating to processing of personal data: storage limitation, return of personal data to controller or erasure",
           "compliant"
          ],
          [
           "7. ... 依據蝦皮要求或交易完成後合理期間內儘快返還資料給蝦皮或儘速刪除這些資料 ...",
           "283a",
           "Principles relating to processing of personal data: storage limitation, return of personal data to controller or erasure",
           "compliant"
          ],
          [
           "7. ... 如果有任何潛在的資料洩露或其他此類用戶資料遺失的情況，請透過dpo.tw@shopee.com通知Shopee的個人資料保護主管 ...",
           "331",
           "Notification of a personal data breach to the supervisory authority, communication of a personal data breach to the data subject",
           "compliant"
          ],
          [
           "7. ... 如果有任何潛在的資料洩露或其他此類用戶資料遺失的情況，請透過dpo.tw@shopee.com通知Shopee的個人資料保護主管 ...",
           "34",
           "Notification of a personal data breach to the supervisory authority, communication of a personal data breach to the data subject",
           "compliant"
          ],
          [
           "7. ... 賣方並應儘速透過蝦皮平台將潛在的洩漏或資料遺失狀況，通知所有可能受影響之用戶。...",
           "341",
           "Communication of a personal data breach to the data subject: time limit (without undue delay), content of communication",
           "non-compliant"
          ],
          [
           "7. ... 賣方並應儘速透過蝦皮平台將潛在的洩漏或資料遺失狀況，通知所有可能受影響之用戶。...",
           "342",
           "Communication of a personal data breach to the data subject: time limit (without undue delay), content of communication",
           "non-compliant"
          ],
          [
           "7. ... 賣方應承擔相關法律責任並賠償Shopee因此所生的一切損失及費用，包括但不限於罰金、罰鍰、違約金、賠償金、訴訟費及合理的律師費等。",
           "82",
           "Right to compensation: this section suggests a limitation of liability which is not permissible under GDPR. Data subjects have the right to compensation for material or non-material damage.",
           "non-compliant"
          ],
          [
           "2",
           "5(1)(d)",
           "Data accuracy, Data minimization",
           "compliant"
          ],
          [
           "2",
           "5(2)",
           "Data accuracy, Data minimization",
           "compliant"
          ],
          [
           "3.3",
           "6(1)(a)",
           "Consent,  Right to withdraw consent",
           "compliant"
          ],
          [
           "3.3",
           "7(3)",
           "Consent,  Right to withdraw consent",
           "compliant"
          ],
          [
           "3.4",
           "12(1)",
           "Transparent information, communication and modalities for the exercise of the rights of the data subject, Right to object",
           "compliant"
          ],
          [
           "3.4",
           "13(2)",
           "Transparent information, communication and modalities for the exercise of the rights of the data subject, Right to object",
           "compliant"
          ],
          [
           "3.4",
           "14(2)",
           "Transparent information, communication and modalities for the exercise of the rights of the data subject, Right to object",
           "compliant"
          ],
          [
           "3.4",
           "21",
           "Transparent information, communication and modalities for the exercise of the rights of the data subject, Right to object",
           "compliant"
          ],
          [
           "3.4",
           "20",
           "Right to data portability",
           "non-compliant"
          ],
          [
           "4.1",
           "5(1)(e)",
           "Storage limitation",
           "non-compliant"
          ],
          [
           "6.2  您知悉並同意若依法律要求、或根據法院命令、或對Shopee有管轄權之任何政府或主管機關之要求、或基於善意及誠信原則認有合理之必要性時，Shopee得存取、保存及揭露您的帳戶資訊和內容，以：(a) 遵守法律程序；(b) 執行對Shopee有管轄權之任何主管機關之要求；(c) 履行Shopee服務條款或本隱私權政策；(d) 回應任何實際或可能對Shopee不利之主張或其他本平台內容侵害第三方權利之主張；(d) 回應您的客戶服務請求；或者 (e) 保護Shopee、其使用者及/或公眾之權利、財產或人身安全。",
           "6(1)(c)",
           "Compliance with legal obligations, Legitimate interests",
           "compliant"
          ],
          [
           "6.2  您知悉並同意若依法律要求、或根據法院命令、或對Shopee有管轄權之任何政府或主管機關之要求、或基於善意及誠信原則認有合理之必要性時，Shopee得存取、保存及揭露您的帳戶資訊和內容，以：(a) 遵守法律程序；(b) 執行對Shopee有管轄權之任何主管機關之要求；(c) 履行Shopee服務條款或本隱私權政策；(d) 回應任何實際或可能對Shopee不利之主張或其他本平台內容侵害第三方權利之主張；(d) 回應您的客戶服務請求；或者 (e) 保護Shopee、其使用者及/或公眾之權利、財產或人身安全。",
           "6(1)(f)",
           "Compliance with legal obligations, Legitimate interests",
           "compliant"
          ],
          [
           "以上目的，屬於法務部頒佈之「個人資料保護法之特定目的及個人資料之類別」之下列目的：\n040 行銷\n063 非公務機關依法定義務所進行個人資料之蒐集處理及利用\n067 信用卡、現金卡、轉帳卡或電子票證業務\n069 契約、類似契約或其他法律關係事務\n077 訂位、住宿登記與購票業務\n090 消費者、客戶管理與服務\n091 消費者保護\n095 財稅行政、調查、統計與研究分析\n098 商業與技術資訊\n107 採購與供應管理\n111 票券業務\n118 智慧財產權、光碟管理及其他相關行政\n125 傳播行政與管理\n127 募款 (包含公益勸募)\n129 會計與相關服務\n132 經營傳播業務\n135 資(通)訊服務\n136 資(通)訊與資料庫管理\n148 網路購物及其他電子商務服務\n152 廣告或商業行為管理\n157 調查、統計與研究分析\n173 其他公務機關對目的事業之監督管理\n179 其他財政服務及配合財政部電子發票整合服務\n181 其他經營合於營業登記項目或組織章程所定之業務",
           "5(1)",
           "Purpose Limitation",
           "non-compliant"
          ],
          [
           "「企業資產交易」是指組織、組織的一部分或組織之任何業務或資產的收購、出售、租賃、整合、合併或其他任何的收購、處置或融資行為；",
           "28",
           "This section aligns with GDPR Article 28 (Processors) as it likely relates to data processing during mergers, acquisitions, or other corporate transactions, requiring specific contractual terms with involved entities.",
           "compliant"
          ],
          [
           "(w) 　本公司/本服務可能以LINE通知型訊息傳送重要訊息給您。即使未加入本公司/本服務LINE好友，您仍可接收到本公司/本服務傳送之LINE通知型訊息。本公司/本服務傳送之LINE通知型訊息以對您有效且重要的訊息為限，以廣告或其他目的的訊息皆不會被傳送。滿足以下三個條件者，將可收到LINE通知型訊息：(1) LINE 帳號設定的電話號碼與您註冊使用本公司/本服務的電話號碼比對相符、(2) 該 LINE 帳號已在 LINE APP 設定中，同意接收通知型訊息、(3) LINE 帳號未封鎖傳送訊息之本公司/本服務 LINE 官方帳號。欲變更LINE通知型訊息的設定，操作如下：(1) 點選「主頁」＞「設定」、(2) 點選「隱私設定」、(3) 點選「提供使用資料」、(4) 點選「LINE通知型訊息」、(5) 開關「接收LINE通知型訊息」。關閉「接收通知型訊息」後，將不會接收到來自任何企業官方帳號或認證官方帳號的LINE通知型訊息；以/或",
           "6 & 7",
           "While this section claims to send only important messages, it doesn't explicitly mention user consent for processing phone numbers for LINE message delivery. GDPR requires a lawful basis for processing (Article 6), and explicit consent is often needed for electronic communication (Article 7).",
           "non-compliant"
          ],
          [
           "(x)   我們在取得您同意的當時，向您告知的任何其他目的。",
           "5(1)(a)",
           "This section is too vague for GDPR.  Data processing purposes must be specific, explicit, and legitimate (Article 5(1)(a)) and communicated clearly to users (Articles 13 & 14).",
           "non-compliant"
          ],
          [
           "(x)   我們在取得您同意的當時，向您告知的任何其他目的。",
           "13",
           "This section is too vague for GDPR.  Data processing purposes must be specific, explicit, and legitimate (Article 5(1)(a)) and communicated clearly to users (Articles 13 & 14).",
           "non-compliant"
          ],
          [
           "(x)   我們在取得您同意的當時，向您告知的任何其他目的。",
           "and 14",
           "This section is too vague for GDPR.  Data processing purposes must be specific, explicit, and legitimate (Article 5(1)(a)) and communicated clearly to users (Articles 13 & 14).",
           "non-compliant"
          ],
          [
           "本政策旨在協助您瞭解我們蒐集哪些資料、我們如何使用及分享這些資料，以及您可以如何管理您的個人資料。",
           "13",
           "Information provided to data subject",
           "compliant"
          ],
          [
           "本政策旨在協助您瞭解我們蒐集哪些資料、我們如何使用及分享這些資料，以及您可以如何管理您的個人資料。",
           "14",
           "Information provided to data subject",
           "compliant"
          ],
          [
           "在某些情況下，您可能會向我們提供其他個人的個人資料（如您的家庭成員、朋友或您的連絡人名單中的人）。如果您向我們提供他們的個人資料，您應聲明並保證您已經獲得他們的同意，可以按照本政策處理他們的個人資料。",
           "6",
           "Lawfulness of processing",
           "compliant"
          ],
          [
           "上述情形並非包含全部情形，僅列出可能會蒐集您個人資料的一些常見實例。",
           "13",
           "Transparency and modalities",
           "non-compliant"
          ],
          [
           "上述情形並非包含全部情形，僅列出可能會蒐集您個人資料的一些常見實例。",
           "14",
           "Transparency and modalities",
           "non-compliant"
          ],
          [
           "2.2  我們可能會從您、我們的關係企業、第三方以及其他來源蒐集您的個人資料，包括但不限於商業夥伴（如物流或金流服務提供商）、徵信單位或信用評分機構、行銷服務提供方或合作夥伴、推薦行銷或酬賓計畫、有關我們服務的其他使用者、公開可得或來自政府資料來源的資料。",
           "14",
           "Information to be provided where personal data are collected from the data subject",
           "non-compliant"
          ],
          [
           "3.Shopee會蒐集哪些個人資料？\n3.1  Shopee會在使用本服務的必要範圍內蒐集使用者的個人資料，包括但不限於：\n姓名；\n電子郵件地址；\n出生日期；\n帳單及/或寄送地址；\n銀行帳戶和付款資訊；\n電話號碼；\n性別；\n與您用來存取本服務或本平台的裝置相關資訊或該裝置所傳送出的資訊；\n與您的人際網路（包括您在設備上分享許可權限時的連絡人名單）及與您互動的人及其帳號有關的資訊；\n您的照片、錄音或影片；\n基於我們的盡職調查（due diligence）、認識客戶(know your customer)、身分確認及/或預防詐欺等目的所要求的政府機關核發之證明或其他資訊；\n行銷及通訊資訊，例如您接收來自我們或第三方行銷資訊的偏好，您的通訊偏好及與我們、我們的服務提供商或其他第三方通訊的紀錄；\n使用及交易紀錄，包括您的搜尋、訂單內容，您在本平台上互動的廣告內容，及其他與您有關的產品或服務；\n位置資訊；\n當使用者註冊使用本服務或本平台及使用者使用本服務或本平台時所提供有關使用者的其他任何資訊，以及使用者如何使用本服務或本平台的相關資訊；以及\n彙總使用者互動內容的相關資訊。",
           "5",
           "Principles of data processing",
           "non-compliant"
          ],
          [
           "This Statement describes your choices regarding any applicable rights of access, deletion, and correction of your personal information.",
           "15",
           "Right of access, Right to rectification, Right to erasure ('right to be forgotten'), Right to restriction of processing, Right to data portability, Right to object, Automated individual decision-making, including profiling",
           "compliant"
          ],
          [
           "This Statement describes your choices regarding any applicable rights of access, deletion, and correction of your personal information.",
           "16",
           "Right of access, Right to rectification, Right to erasure ('right to be forgotten'), Right to restriction of processing, Right to data portability, Right to object, Automated individual decision-making, including profiling",
           "compliant"
          ],
          [
           "This Statement describes your choices regarding any applicable rights of access, deletion, and correction of your personal information.",
           "17",
           "Right of access, Right to rectification, Right to erasure ('right to be forgotten'), Right to restriction of processing, Right to data portability, Right to object, Automated individual decision-making, including profiling",
           "compliant"
          ],
          [
           "This Statement describes your choices regarding any applicable rights of access, deletion, and correction of your personal information.",
           "18",
           "Right of access, Right to rectification, Right to erasure ('right to be forgotten'), Right to restriction of processing, Right to data portability, Right to object, Automated individual decision-making, including profiling",
           "compliant"
          ],
          [
           "This Statement describes your choices regarding any applicable rights of access, deletion, and correction of your personal information.",
           "19",
           "Right of access, Right to rectification, Right to erasure ('right to be forgotten'), Right to restriction of processing, Right to data portability, Right to object, Automated individual decision-making, including profiling",
           "compliant"
          ],
          [
           "This Statement describes your choices regarding any applicable rights of access, deletion, and correction of your personal information.",
           "20",
           "Right of access, Right to rectification, Right to erasure ('right to be forgotten'), Right to restriction of processing, Right to data portability, Right to object, Automated individual decision-making, including profiling",
           "compliant"
          ],
          [
           "This Statement describes your choices regarding any applicable rights of access, deletion, and correction of your personal information.",
           "21",
           "Right of access, Right to rectification, Right to erasure ('right to be forgotten'), Right to restriction of processing, Right to data portability, Right to object, Automated individual decision-making, including profiling",
           "compliant"
          ],
          [
           "This Statement describes your choices regarding any applicable rights of access, deletion, and correction of your personal information.",
           "22",
           "Right of access, Right to rectification, Right to erasure ('right to be forgotten'), Right to restriction of processing, Right to data portability, Right to object, Automated individual decision-making, including profiling",
           "compliant"
          ],
          [
           "If you are a citizen of Switzerland, the United Kingdom, or a country in the European Economic Area, we describe additional rights you may have in the European Privacy Rights statement.",
           "44 - 50",
           "General Principles for Transfers",
           "compliant"
          ],
          [
           "Our Services are not directed at children under the age of 16, and we do not knowingly collect information from individuals under the age of 16.",
           "8",
           "Conditions applicable to child's consent in relation to information society services",
           "compliant"
          ],
          [
           "This updated Zapier Privacy Statement completely replaces all previous versions.",
           "13",
           "Information to be provided where personal data are collected from the data subject, Information to be provided where personal data have not been obtained from the data subject",
           "non-compliant"
          ],
          [
           "This updated Zapier Privacy Statement completely replaces all previous versions.",
           "14",
           "Information to be provided where personal data are collected from the data subject, Information to be provided where personal data have not been obtained from the data subject",
           "non-compliant"
          ],
          [
           "This Privacy Statement does not apply to the information we collect about employees (our employment policies apply) or job applicants (our Applicant Privacy Statement applies).",
           "2",
           "Material Scope",
           "non-compliant"
          ],
          [
           "This Privacy Statement also does not apply to information collected by third parties, like third-party websites, social media platforms or accounts, third-party service providers, or other third-party services or applications that integrate with our Services.",
           "4",
           "Definitions, Responsibility of the controller, Joint controllership",
           "non-compliant"
          ],
          [
           "This Privacy Statement also does not apply to information collected by third parties, like third-party websites, social media platforms or accounts, third-party service providers, or other third-party services or applications that integrate with our Services.",
           "24",
           "Definitions, Responsibility of the controller, Joint controllership",
           "non-compliant"
          ],
          [
           "This Privacy Statement also does not apply to information collected by third parties, like third-party websites, social media platforms or accounts, third-party service providers, or other third-party services or applications that integrate with our Services.",
           "28",
           "Definitions, Responsibility of the controller, Joint controllership",
           "non-compliant"
          ],
          [
           "This Privacy Statement also does not apply to any information that is not personally identifiable, like aggregated or anonymous information.",
           "4",
           "Definitions",
           "non-compliant"
          ],
          [
           "When you register for a community or a partner program, we collect account registration information like your name, email address, address, company, phone number, or other information.",
           "6(1)(b)",
           "Data processing is necessary for the performance of a contract.",
           "compliant"
          ],
          [
           "You may provide comments, communications, feedback, ratings, or other information when you use the Services or any of our communities or partner programs.",
           "6(1)(a)",
           "Consent of the data subject.",
           "compliant"
          ],
          [
           "When you create an account, you provide us with your account registration and profile information (name, email address, company, and similar information).",
           "6(1)(b)",
           "Data processing is necessary for the performance of a contract.",
           "compliant"
          ],
          [
           "We collect information about you when you login and how you interact with the Services, the features you use, clicks, log information about your use of the Services, and how you interact with other users.",
           "6(1)(f)",
           "Legitimate interests of the controller (e.g., improving services, security).",
           "compliant"
          ],
          [
           "Content or Information You Provide in the Services: The Services allow you to create connections or integrations between the third-party applications you use.",
           "6(1)(a) or  6(1)(b)",
           "Consent of the data subject or data processing is necessary for the performance of a contract, depending on the nature of the service.",
           "compliant"
          ],
          [
           "When you use the Services, information or content is transferred from one application to another application.",
           "6(1)(b)",
           "Data processing is necessary for the performance of a contract.",
           "compliant"
          ],
          [
           "We collect the information that is transferred between the third-party applications.",
           "6(1)(b)",
           "Data processing is necessary for the performance of a contract.",
           "compliant"
          ],
          [
           "Content You Provide Through Our Site: If the Site or our social media platform pages allow you to upload content or information, we will collect the content or information you upload.",
           "6(1)(a)",
           "Consent of the data subject.",
           "compliant"
          ],
          [
           "For example, when you provide feedback, participate in any interactive features, surveys, contests, promotions, sweepstakes, activities, or events, you may provide us information or content.",
           "6(1)(a)",
           "Consent of the data subject.",
           "compliant"
          ],
          [
           "Information You Provide Through Support Channels or Communities: You may provide information or content to us through the customer support or chat functionality we make available on the Site, in the Services, or other sites that we control.",
           "6(1)(a) or  6(1)(f)",
           "Consent of the data subject or Legitimate interests of the controller (e.g., providing customer support).",
           "compliant"
          ],
          [
           "We automatically track certain information about your use of the Services, partner programs, or communities.",
           "5(1)(a)",
           "Purpose limitation - data must be collected for specified, explicit and legitimate purposes.",
           "non-compliant"
          ],
          [
           "We describe the information we collect through the Services in more detail in Zapier Services statement.",
           "12(1)",
           "Transparency and modalities - information provided to data subjects must be concise, transparent, intelligible and easily accessible.",
           "non-compliant"
          ],
          [
           "We describe the information we collect through your use of the Services in more detail in the Zapier Services statement.",
           "12(1)",
           "Transparency and modalities - information provided to data subjects must be concise, transparent, intelligible and easily accessible.",
           "non-compliant"
          ],
          [
           "Other users may provide information about individuals when they submit content or information through the Services.",
           "5(1)(c)",
           "Data minimisation - data must be adequate, relevant and limited to what is necessary.",
           "non-compliant"
          ],
          [
           "For example, if a user sets up a Zap that allows automated calendaring, that user will share information about the individuals they schedule meetings with via the Zap.",
           "5(1)(c)",
           "Data minimisation - data must be adequate, relevant and limited to what is necessary.",
           "non-compliant"
          ],
          [
           "Users may also provide information about their teammates, including name and email address, to invite teammates to use the Services.",
           "5(1)(c)",
           "Data minimisation - data must be adequate, relevant and limited to what is necessary.",
           "non-compliant"
          ],
          [
           "Similarly, an administrator may provide your contact information if they designate you as a user, the billing contact, technical contact, or administrator.",
           "5(1)(c)",
           "Data minimisation - data must be adequate, relevant and limited to what is necessary.",
           "non-compliant"
          ],
          [
           "You or your administrator may integrate the Services with third-party applications.",
           "14",
           "Information to be provided where personal data have not been obtained from the data subject.",
           "non-compliant"
          ],
          [
           "In such case, we will receive information that allows us to identify your account within the third-party applications (like name, email address, phone number, tokens, or other identifying information), the log data, content, and device information.",
           "5(1)(c)",
           "Data minimisation - data must be adequate, relevant and limited to what is necessary.",
           "non-compliant"
          ],
          [
           "The information or content we receive from your organization is subject to your organization’s privacy policies.",
           "14",
           "Information to be provided where personal data have not been obtained from the data subject.",
           "non-compliant"
          ],
          [
           "When you integrate our Services with a third-party application, the information we receive depends on the settings, permissions, and privacy Statement controlled by that third-party application.",
           "14",
           "Information to be provided where personal data have not been obtained from the data subject.",
           "non-compliant"
          ],
          [
           "EU-US Data Privacy Framework Zapier complies with the EU-U.S. Data Privacy Framework (EU-U.S. DPF), the Swiss-U.S. Data Privacy Framework (Swiss-U.S. DPF), and the UK Extension to the EU-U.S. DPF (the UK Extension) as set forth by the U.S. Department of Commerce.",
           "45",
           "Transfers subject to appropriate safeguards",
           "compliant"
          ],
          [
           "EU-US Data Privacy Framework Zapier complies with the EU-U.S. Data Privacy Framework (EU-U.S. DPF), the Swiss-U.S. Data Privacy Framework (Swiss-U.S. DPF), and the UK Extension to the EU-U.S. DPF (the UK Extension) as set forth by the U.S. Department of Commerce.",
           "46",
           "Transfers subject to appropriate safeguards",
           "compliant"
          ],
          [
           "Zapier has certified to the U.S. Department of Commerce that it adheres to: (1) the EU-U.S. Data Privacy Framework Principles (EU-U.S. DPF Principles) with regard to the processing of personal data received from the European Union in reliance on the EU-U.S. DPF; 2) the Swiss-U.S. Data Privacy Framework Principles (Swiss-U.S. DPF Principles) with regard to the processing of personal data received from Switzerland in reliance on the Swiss-U.S. DPF; and (3) the UK Extension with regard to the processing of personal data received from the UK in reliance on the UK Extension.",
           "45",
           "Transfers subject to appropriate safeguards",
           "compliant"
          ],
          [
           "Zapier has certified to the U.S. Department of Commerce that it adheres to: (1) the EU-U.S. Data Privacy Framework Principles (EU-U.S. DPF Principles) with regard to the processing of personal data received from the European Union in reliance on the EU-U.S. DPF; 2) the Swiss-U.S. Data Privacy Framework Principles (Swiss-U.S. DPF Principles) with regard to the processing of personal data received from Switzerland in reliance on the Swiss-U.S. DPF; and (3) the UK Extension with regard to the processing of personal data received from the UK in reliance on the UK Extension.",
           "46",
           "Transfers subject to appropriate safeguards",
           "compliant"
          ],
          [
           "If there is any conflict between the terms in this privacy policy and the EU-U.S. DPF Principles, the Swiss-U.S. DPF Principles or the UK Extension, the Principles shall govern.",
           "45",
           "Transfers subject to appropriate safeguards",
           "compliant"
          ],
          [
           "If there is any conflict between the terms in this privacy policy and the EU-U.S. DPF Principles, the Swiss-U.S. DPF Principles or the UK Extension, the Principles shall govern.",
           "46",
           "Transfers subject to appropriate safeguards",
           "compliant"
          ],
          [
           "In cases of onward transfer of personal information to third parties of data of EU, Swiss and UK individuals received pursuant to the EU-U.S. DPF, the Swiss-U.S DPF and the UK Extension, and in a manner inconsistent with the DPF Principals, Zapier will remain liable.",
           "46",
           "Liability for onward transfers",
           "compliant"
          ],
          [
           "You may direct any questions or complaints about this Privacy Statement to us by contacting us through the channels indicated below.",
           "12",
           "Right of access by the data subject",
           "compliant"
          ],
          [
           "In compliance with the EU-U.S. DPF, the Swiss-U.S. DPF, and the UK Extension, Zapier commits to refer unresolved complaints concerning our handling of personal data received in reliance on the EU-U.S. DPF, the Swiss-U.S. DPF and the UK Extension to JAMS, an alternative dispute resolution provider based in the United States.",
           "45",
           "Transfers subject to appropriate safeguards",
           "compliant"
          ],
          [
           "In compliance with the EU-U.S. DPF, the Swiss-U.S. DPF, and the UK Extension, Zapier commits to refer unresolved complaints concerning our handling of personal data received in reliance on the EU-U.S. DPF, the Swiss-U.S. DPF and the UK Extension to JAMS, an alternative dispute resolution provider based in the United States.",
           "46",
           "Transfers subject to appropriate safeguards",
           "compliant"
          ],
          [
           "Any disputes arising out of or related to this Privacy Statement will be handled in accordance with the dispute resolution process indicated in your contract with Zapier that refers to this Privacy Statement, if applicable. In the case of our customers or their users, that means our Terms of Service or users of our developer platform, the Zapier Platform Agreement. In the case of visitors to the Site, that means our Website Terms of Use.",
           "78",
           "Right to an effective judicial remedy against a controller or processor",
           "non-compliant"
          ],
          [
           "If you participate in our partner programs or communities, we may share your information with other partners, community members, customers, or other users (like when you comment or share information, rate an expert, or express interest in a partner integration).",
           "6(1)(a)",
           "Consent",
           "compliant"
          ],
          [
           "For Business Purposes: We provide information to vendors and services providers to help us provide the Site, Services, partner programs and communities, and for our business purposes.",
           "6(1)(b)",
           "Legitimate Interests, Contractual Necessity",
           "compliant"
          ],
          [
           "For Business Purposes: We provide information to vendors and services providers to help us provide the Site, Services, partner programs and communities, and for our business purposes.",
           "6(1)(f)",
           "Legitimate Interests, Contractual Necessity",
           "compliant"
          ],
          [
           "For Corporate Transactions: We may share personal data with actual or prospective acquirers, their representatives, and other relevant participants in, or during negotiations of, any sale, merger, acquisition, restructuring, divestiture, or change in control involving all or a portion of our business or assets, including in connection with a bankruptcy or similar proceedings.",
           "6(1)(f)",
           "Legitimate Interests",
           "compliant"
          ],
          [
           "If we undergo a sale or corporate restructure, we may disclose information to a buyer or other successor in interest.",
           "6(1)(f)",
           "Legitimate Interests",
           "compliant"
          ],
          [
           "For Legal Reasons: We may share your information if we believe that it is necessary to comply with any court order, law, legal obligation, or legal process, including to respond to any government or regulatory request.",
           "6(1)(c)",
           "Legal Obligation",
           "compliant"
          ],
          [
           "We may share your information if we believe that it is necessary to enforce our rights (including, without limitation, our rights under the Terms of Service, Terms of Use, Acceptable Use Statement, or the Zapier Platform Agreement), or the rights of our customers, or users.",
           "6(1)(f)",
           "Legitimate Interests",
           "compliant"
          ],
          [
           "We may share your information if we believe that it is necessary or appropriate to protect our rights or safety or the rights or safety of our customers, other users, partners, or service providers.",
           "6(1)(f)",
           "Legitimate Interests",
           "compliant"
          ],
          [
           "To Market our Services or Partner Programs: We may share information that you provide us with third-party service providers who help us market our Services or our partner programs.",
           "6(1)(a)",
           "Consent (for marketing), Transparency, Data Subject Rights",
           "non-compliant"
          ],
          [
           "To Market our Services or Partner Programs: We may share information that you provide us with third-party service providers who help us market our Services or our partner programs.",
           "12",
           "Consent (for marketing), Transparency, Data Subject Rights",
           "non-compliant"
          ],
          [
           "To Market our Services or Partner Programs: We may share information that you provide us with third-party service providers who help us market our Services or our partner programs.",
           "13",
           "Consent (for marketing), Transparency, Data Subject Rights",
           "non-compliant"
          ],
          [
           "To Market our Services or Partner Programs: We may share information that you provide us with third-party service providers who help us market our Services or our partner programs.",
           "14",
           "Consent (for marketing), Transparency, Data Subject Rights",
           "non-compliant"
          ],
          [
           "These service providers may provide virtual or live events, email marketing tools, sales engagement, or lead generation tools.",
           "12",
           "Transparency, Data Subject Rights",
           "non-compliant"
          ],
          [
           "These service providers may provide virtual or live events, email marketing tools, sales engagement, or lead generation tools.",
           "13",
           "Transparency, Data Subject Rights",
           "non-compliant"
          ],
          [
           "These service providers may provide virtual or live events, email marketing tools, sales engagement, or lead generation tools.",
           "14",
           "Transparency, Data Subject Rights",
           "non-compliant"
          ],
          [
           "With Third-Party Widgets: If you click on a widget or social media feature, like the Twitter “tweet” button or Facebook “like” button, these widgets will share information with the widget provider (like IP address, the which page you are visiting on the Services and may set a cookie to enable the feature to function correctly).",
           "7(4)",
           "Conditions for Consent, Transparency, Data Subject Rights",
           "non-compliant"
          ],
          [
           "With Third-Party Widgets: If you click on a widget or social media feature, like the Twitter “tweet” button or Facebook “like” button, these widgets will share information with the widget provider (like IP address, the which page you are visiting on the Services and may set a cookie to enable the feature to function correctly).",
           "12",
           "Conditions for Consent, Transparency, Data Subject Rights",
           "non-compliant"
          ],
          [
           "With Third-Party Widgets: If you click on a widget or social media feature, like the Twitter “tweet” button or Facebook “like” button, these widgets will share information with the widget provider (like IP address, the which page you are visiting on the Services and may set a cookie to enable the feature to function correctly).",
           "13",
           "Conditions for Consent, Transparency, Data Subject Rights",
           "non-compliant"
          ],
          [
           "With Third-Party Widgets: If you click on a widget or social media feature, like the Twitter “tweet” button or Facebook “like” button, these widgets will share information with the widget provider (like IP address, the which page you are visiting on the Services and may set a cookie to enable the feature to function correctly).",
           "14",
           "Conditions for Consent, Transparency, Data Subject Rights",
           "non-compliant"
          ],
          [
           "Your Choices - Opting Out, Correcting or Accessing Your Information Automatically Collected Information: There are various resources available to you to manage cookies.",
           "12",
           "Transparency, Data Subject Rights, Right to Object",
           "non-compliant"
          ],
          [
           "Your Choices - Opting Out, Correcting or Accessing Your Information Automatically Collected Information: There are various resources available to you to manage cookies.",
           "13",
           "Transparency, Data Subject Rights, Right to Object",
           "non-compliant"
          ],
          [
           "Your Choices - Opting Out, Correcting or Accessing Your Information Automatically Collected Information: There are various resources available to you to manage cookies.",
           "14",
           "Transparency, Data Subject Rights, Right to Object",
           "non-compliant"
          ],
          [
           "Your Choices - Opting Out, Correcting or Accessing Your Information Automatically Collected Information: There are various resources available to you to manage cookies.",
           "21",
           "Transparency, Data Subject Rights, Right to Object",
           "non-compliant"
          ],
          [
           "If you would like to opt-out of receiving our marketing, you can opt-out by sending an opt-out email to [email protected] If we sent you a promotional email, you may opt-out by clicking the opt-out link at the bottom of the email or sending us a return email asking to be omitted from future email distributions.",
           "7 (3)",
           "Right to withdraw consent; Right to object, including direct marketing",
           "compliant"
          ],
          [
           "If you would like to opt-out of receiving our marketing, you can opt-out by sending an opt-out email to [email protected] If we sent you a promotional email, you may opt-out by clicking the opt-out link at the bottom of the email or sending us a return email asking to be omitted from future email distributions.",
           "21 GDPR",
           "Right to withdraw consent; Right to object, including direct marketing",
           "compliant"
          ],
          [
           "This opt-out does not apply to information necessary to deliver the Services, communities, or partner programs, like your account information or notices we send about the Services’ operation.",
           "13 (1) (e)",
           "Transparency and information requirements for specific processing situations",
           "compliant"
          ],
          [
           "This opt-out does not apply to information necessary to deliver the Services, communities, or partner programs, like your account information or notices we send about the Services’ operation.",
           "14 (2) (d) GDPR",
           "Transparency and information requirements for specific processing situations",
           "compliant"
          ],
          [
           "If you have an account in the Services, you can manage your communication preferences (including opt-outs) in the settings page of your account profile.",
           "21 (2) GDPR",
           "Right to object, including in relation to profiling",
           "compliant"
          ],
          [
           "You can review and change your personal information in the Services by logging into the Service and visiting your account profile page.",
           "15 (1) (a)",
           "Right of access; Right to rectification",
           "compliant"
          ],
          [
           "You can review and change your personal information in the Services by logging into the Service and visiting your account profile page.",
           "16 GDPR",
           "Right of access; Right to rectification",
           "compliant"
          ],
          [
           "You may also send us an email at [email protected] to request access to, correct, or delete any personal information that you have provided to us.",
           "15-17 GDPR",
           "Right of access; Right to rectification; Right to erasure ('right to be forgotten')",
           "compliant"
          ],
          [
           "We may not accommodate a request to change information if we believe the change would violate any law or legal requirement or cause the information to be incorrect.",
           "11 (2)",
           "Right to restriction of processing; Right to object",
           "compliant"
          ],
          [
           "We may not accommodate a request to change information if we believe the change would violate any law or legal requirement or cause the information to be incorrect.",
           "21 (1) GDPR",
           "Right to restriction of processing; Right to object",
           "compliant"
          ],
          [
           "You can manage your communication preferences within the settings page of your account profile.",
           "21 (2) GDPR",
           "Right to object, including in relation to profiling",
           "compliant"
          ],
          [
           "Zapier takes reasonable steps to protect your personal information from loss, misuse, and unauthorized access, disclosure, alteration, or destruction, taking into account the risks involved in the processing and the nature of the personal data.",
           "32 GDPR",
           "Security of processing",
           "compliant"
          ],
          [
           "However, no application, Internet, or email transmission is ever fully secure or error-free, and we do not guarantee the security of any personal information.",
           null,
           "This statement does not contradict GDPR principles but is a general disclaimer.",
           "compliant"
          ],
          [
           "You are also responsible for ensuring that your account and the passwords we provide you are protected.",
           null,
           "This statement does not contradict GDPR principles but emphasizes user responsibility.",
           "compliant"
          ],
          [
           "If you are resident in or a visitor from the EEA, United Kingdom or Switzerland, we will protect your Personal Information when it is transferred outside of such locations by processing it in a territory which the European Commission has determined provides an adequate level of protection for Personal Information; or otherwise implementing appropriate safeguards to protect your Personal Information, including through the use of Standard Contractual Clauses or another lawful transfer mechanism approved by the European Commission.",
           "44-49 GDPR",
           "General principles for transfers; Transfers of personal data to third countries or international organisations",
           "compliant"
          ],
          [
           "aboutcookies.org. If you disable or refuse cookies, some parts of the Site or Service may then be inaccessible or not function properly. Please see the Cookie Notice statement for more information about cookies.",
           "7 (4)",
           "The condition for consent must be freely given, specific, informed and unambiguous.  It is unclear if the site functionality being tied to cookies meets this threshold. ",
           "non-compliant"
          ],
          [
           "aboutcookies.org. If you disable or refuse cookies, some parts of the Site or Service may then be inaccessible or not function properly. Please see the Cookie Notice statement for more information about cookies.",
           "5 (1) (a) GDPR",
           "The condition for consent must be freely given, specific, informed and unambiguous.  It is unclear if the site functionality being tied to cookies meets this threshold. ",
           "non-compliant"
          ],
          [
           "Information that we collect from the Site will be transferred to, and processed in the United States and in any other country where Zapier or its affiliates, subsidiaries or third party service providers maintain facilities or personnel. These countries may have data protection laws that are different to the laws of your country (and, in some cases, may not be as protective).",
           "44-49 GDPR",
           "While this section mentions data transfers, it lacks specifics about safeguards for international transfers. ",
           "non-compliant"
          ],
          [
           "For data transfers and storage of information we collect from your use of the Services, please refer to the detail in the Zapier Services statement.",
           "13",
           "GDPR requires transparency and clarity. Referring to another document without clear summaries within the main policy can be problematic.",
           "non-compliant"
          ],
          [
           "For data transfers and storage of information we collect from your use of the Services, please refer to the detail in the Zapier Services statement.",
           "14 GDPR",
           "GDPR requires transparency and clarity. Referring to another document without clear summaries within the main policy can be problematic.",
           "non-compliant"
          ],
          [
           "When you engage with our support team, in addition to your account information, we may ask you to provide additional information about your issue, which may include information about your technology, software, internet connection, or screenshots .",
           "6(1)(b)",
           "Data minimization: Processing is limited to what is necessary. Legitimate interest: Support interactions are necessary for contract performance and our legitimate interest in providing support.",
           "compliant"
          ],
          [
           "When you engage with our support team, in addition to your account information, we may ask you to provide additional information about your issue, which may include information about your technology, software, internet connection, or screenshots .",
           "6(1)(f)",
           "Data minimization: Processing is limited to what is necessary. Legitimate interest: Support interactions are necessary for contract performance and our legitimate interest in providing support.",
           "compliant"
          ],
          [
           "To submit information to a community site, we may require you to create an account within the community (we will collect your account registration information like name, email, company, address, and phone number) .",
           "6(1)(a)",
           "Consent: Users must consent to the collection of this data for community features. Legitimate interest: Our legitimate interest in fostering a community may justify some data processing, but consent is generally required.",
           "compliant"
          ],
          [
           "To submit information to a community site, we may require you to create an account within the community (we will collect your account registration information like name, email, company, address, and phone number) .",
           "6(1)(f)",
           "Consent: Users must consent to the collection of this data for community features. Legitimate interest: Our legitimate interest in fostering a community may justify some data processing, but consent is generally required.",
           "compliant"
          ],
          [
           "If you have an account in the Services, we will associate your community membership and activities with your Services account .",
           "6(1)(f)",
           "Legitimate interest: This association is likely justified under legitimate interest if it's necessary for service functionality or to provide a unified user experience. Transparency is key.",
           "compliant"
          ],
          [
           "As a community member, you and other members may submit questions, provide answers, engage with members through chat or comments, create content or webinars to share with the community, or solicit feedback or help from other community members .",
           "6(1)(a)",
           "Consent: Users must consent to the processing of their data for these community activities.",
           "compliant"
          ],
          [
           "We receive information about you directly from you when you engage with the Site and automatically when you engage with the Site or open or click the emails we send you (See Information You Provide Us and Cookies and Other Tracking Technology) .",
           "6(1)(a)",
           "Consent and Transparency: Requires clear consent for data collection through cookies and tracking technologies. Transparency: Providing clear information about data collection practices.",
           "compliant"
          ],
          [
           "We receive information about you directly from you when you engage with the Site and automatically when you engage with the Site or open or click the emails we send you (See Information You Provide Us and Cookies and Other Tracking Technology) .",
           "13",
           "Consent and Transparency: Requires clear consent for data collection through cookies and tracking technologies. Transparency: Providing clear information about data collection practices.",
           "compliant"
          ],
          [
           "We receive information from third-party sources like lead generation providers, content sponsors, event sponsors, or social media platforms .",
           "6(1)(f)",
           "Legitimate interest and Source Transparency: Justifying data collection from third parties based on legitimate interest. Transparency: Informing users about the sources of personal data.",
           "compliant"
          ],
          [
           "We receive information from third-party sources like lead generation providers, content sponsors, event sponsors, or social media platforms .",
           "14",
           "Legitimate interest and Source Transparency: Justifying data collection from third parties based on legitimate interest. Transparency: Informing users about the sources of personal data.",
           "compliant"
          ],
          [
           "The information we collect from third-party sources may include marketing or demographic information, contact information (name, email, company, address, job title), information about your profile on those platforms, or information about purchasing intent .",
           "6(1)(f)",
           "Legitimate interest and Source Transparency: Justifying the specific data categories collected from third parties. Transparency: Providing specific details about the information collected from these sources.",
           "compliant"
          ],
          [
           "The information we collect from third-party sources may include marketing or demographic information, contact information (name, email, company, address, job title), information about your profile on those platforms, or information about purchasing intent .",
           "14",
           "Legitimate interest and Source Transparency: Justifying the specific data categories collected from third parties. Transparency: Providing specific details about the information collected from these sources.",
           "compliant"
          ],
          [
           "Partner Programs: We have several partner programs that we make available: our developer platform program (which allows third-party application providers to build integrations to Zapier) and our expert program (which connects experts who help our customers set up and use the Services) .",
           "6(1)(f)",
           "Legitimate interest: Partner programs can be justified under legitimate interest if they support the core functions of the service and benefit users.",
           "compliant"
          ],
          [
           "Partners may also help us to market and promote our Services, generate leads, or they may resell our Services . We may add partner programs in the future .",
           "6(1)(f)",
           "Legitimate interest: Partner activities must be aligned with legitimate business purposes and not overly intrusive to user privacy.",
           "compliant"
          ],
          [
           "Through partner programs, we collect account registration information (like name, email address, company, and phone number), information about an individual’s technical skill set, comments, questions or feedback, rating or ranking information, images, content, or other information you provide .",
           "6(1)(a)",
           "Consent and Legitimate Interest: Depending on the specific data and how it's used, consent or legitimate interest may apply. Data Minimization: Ensuring that data collection is limited to what is necessary for the specific partner program.",
           "compliant"
          ],
          [
           "Through partner programs, we collect account registration information (like name, email address, company, and phone number), information about an individual’s technical skill set, comments, questions or feedback, rating or ranking information, images, content, or other information you provide .",
           "6(1)(f)",
           "Consent and Legitimate Interest: Depending on the specific data and how it's used, consent or legitimate interest may apply. Data Minimization: Ensuring that data collection is limited to what is necessary for the specific partner program.",
           "compliant"
          ],
          [
           "We may also receive information from our partners (like business contact information, address, job title, email address, or phone number) .",
           "6(1)(f)",
           "Legitimate interest and Source Transparency: Justifying the collection of business contact information from partners. Transparency: Clearly informing users about this data sharing.",
           "compliant"
          ],
          [
           "We may also receive information from our partners (like business contact information, address, job title, email address, or phone number) .",
           "14",
           "Legitimate interest and Source Transparency: Justifying the collection of business contact information from partners. Transparency: Clearly informing users about this data sharing.",
           "compliant"
          ],
          [
           "Payment Processing Information: When you create a paid account within the Services or otherwise initiate a transaction with us, we will use a third-party payment processor to process the payment .",
           "6(1)(b)",
           "Contract Performance and Legal Obligation: Processing payment information is necessary for contract performance. Compliance with legal obligations related to financial transactions.",
           "compliant"
          ],
          [
           "Payment Processing Information: When you create a paid account within the Services or otherwise initiate a transaction with us, we will use a third-party payment processor to process the payment .",
           "6(1)(c)",
           "Contract Performance and Legal Obligation: Processing payment information is necessary for contract performance. Compliance with legal obligations related to financial transactions.",
           "compliant"
          ],
          [
           "We do not collect your credit card number, expiration date, or pin number .",
           "5(1)(c)",
           "Data Minimization: Not collecting sensitive payment data aligns with data minimization principles.",
           "compliant"
          ],
          [
           "We do not collect your credit card number, expiration date, or pin number .",
           "Data Minimization",
           "Data Minimization: Not collecting sensitive payment data aligns with data minimization principles.",
           "compliant"
          ],
          [
           "The transaction details we retain are those details that allow us to verify that you paid for the Services or transaction, including price, currency, date of payment, payment method, name, and account name .",
           "6(1)(c)",
           "Legal Obligation: Retaining limited transaction details for accounting and legal compliance purposes.",
           "compliant"
          ],
          [
           "Technical, Device, and Connection Information: When you use the Services or interact with our Site, we automatically collect information about the device you use to access the Site or Services .",
           "6(1)(f)",
           "Legitimate interest: Collecting technical information can be justified for security purposes, improving service functionality, and understanding user behavior. However, this data should be anonymized or pseudonymized whenever possible.",
           "compliant"
          ],
          [
           "We may combine this information with the information we collect .",
           "5(1)(c)",
           "Purpose Limitation: Combining data from different sources requires a compatible legal basis for each processing purpose. The policy lacks specificity about the purposes for combining data.",
           "non-compliant"
          ],
          [
           "We may combine this information with the information we collect .",
           "Purpose Limitation",
           "Purpose Limitation: Combining data from different sources requires a compatible legal basis for each processing purpose. The policy lacks specificity about the purposes for combining data.",
           "non-compliant"
          ],
          [
           "We will combine the information you provide and the information we receive with your account information .",
           "5(1)(c)",
           "Purpose Limitation: Combining data requires a compatible legal basis for each processing purpose. The policy lacks specificity about the purposes for combining data.",
           "non-compliant"
          ],
          [
           "We will combine the information you provide and the information we receive with your account information .",
           "Purpose Limitation",
           "Purpose Limitation: Combining data requires a compatible legal basis for each processing purpose. The policy lacks specificity about the purposes for combining data.",
           "non-compliant"
          ],
          [
           "We will combine that information with your account information .",
           "5(1)(c)",
           "Purpose Limitation: Combining payment transaction details with account information requires a compatible legal basis. The policy lacks specificity about the purpose.",
           "non-compliant"
          ],
          [
           "We will combine that information with your account information .",
           "Purpose Limitation",
           "Purpose Limitation: Combining payment transaction details with account information requires a compatible legal basis. The policy lacks specificity about the purpose.",
           "non-compliant"
          ],
          [
           "Cookies and Other Tracking Technology: We use cookies, web beacons, pixels, or other tracking technology on the Site and in the Services to provide functionality, personalize your experience and recognize you across services or devices . This information includes IP addresses, location, device type, browser type, internet service provider (ISP), referring/exit pages, operating system, date/time stamp, click data, device-identifying data .",
           "5(1)(c)",
           "Data minimisation: Processing of personal data must be adequate, relevant and limited to what is necessary in relation to the purposes for which they are processed ('data minimisation').",
           "compliant"
          ],
          [
           "We may combine this automatically collected information with other information that you provide us through other channels . You can learn more about our cookies in the Cookie Notice statement . When you interact with our social media sites, the social media platform automatically collects information and provides it to us .",
           "13 & 14",
           "Transparency and information: Data controllers must provide individuals with clear and concise information about the processing of their personal data, including the identity and contact details of the controller, the purposes of the processing, the legal basis for the processing, and the recipients of the personal data.",
           "compliant"
          ],
          [
           "With your Consent: We may share your information with companies, organizations, and other third parties with your consent or to fulfill the purpose for which you provided the information .",
           "6(1)(a)",
           "Consent: Processing of personal data is lawful if the data subject has given consent to the processing of his or her personal data for one or more specific purposes.",
           "compliant"
          ],
          [
           "When you interact with our branded social media sites, the social media platform automatically collects information and provides it to us . This information includes information that identifies you and connection type, settings, operating system, browser type, internet protocol (IP) address, URLs of referring/exit pages, device identifiers, and crash data .",
           "5(1)(c)",
           "Purpose limitation: Personal data shall be collected for specified, explicit and legitimate purposes and not further processed in a manner that is incompatible with those purposes; further processing for archiving purposes in the public interest, scientific or historical research purposes or statistical purposes shall, in accordance with Article 89(1), not be considered to be incompatible with the initial purposes ('purpose limitation').",
           "non-compliant"
          ],
          [
           "Other Information Sources: We receive information about you from other sources like third-party service providers, public databases, and our business and channel partners . This information may include business contact information, address, job title, email address, phone number . We may combine this information with information we collect through other means .",
           "5(1)(a)",
           "Lawfulness, fairness and transparency: Processing of personal data must be lawful, fair, and transparent to the data subject.",
           "non-compliant"
          ],
          [
           "Other Information Sources: We receive information about you from other sources like third-party service providers, public databases, and our business and channel partners . This information may include business contact information, address, job title, email address, phone number . We may combine this information with information we collect through other means .",
           "14",
           "Lawfulness, fairness and transparency: Processing of personal data must be lawful, fair, and transparent to the data subject.",
           "non-compliant"
          ],
          [
           "How We Use Personal Information We Collect We use the information we collect for the following purposes: to provide and support the Services, to improve the Services, to provide, support, and improve the Site, our partner programs, or communities, to process your requests, to process your payments or transactions, to provide you with information about our products and services, to combine information about you with other information we receive from third parties, to tailor the content or information that we provide to you, to protect the integrity or security of our business, the Site, Services, or third-party applications, or we may also use your information to: carry out our obligations, enforce our rights, comply with any legal obligation (including assisting our customer to comply with their legal obligations), where it is necessary for our legitimate interests, or to fulfill any other purpose for which you provided the information .",
           "5(1)(b)",
           "Purpose limitation: Personal data shall be collected for specified, explicit and legitimate purposes and not further processed in a manner that is incompatible with those purposes; further processing for archiving purposes in the public interest, scientific or historical research purposes or statistical purposes shall, in accordance with Article 89(1), not be considered to be incompatible with the initial purposes ('purpose limitation').",
           "non-compliant"
          ],
          [
           "With our Partners: We may share information with our partners (including resellers, referral, integration partners, experts in our community, or developer platform partners) for the purposes of the partnership agreement or to enable our partner programs .",
           "28",
           "Processors: A data controller must use only processors providing sufficient guarantees to implement appropriate technical and organisational measures in such a manner that processing will meet the requirements of this Regulation and ensure the protection of the rights of the data subject.",
           "non-compliant"
          ],
          [
           "To Provide the Services, Partner Programs, or Communities: We may share your information with your teammates, account administrators, billing, or technical account users . We will also share your information with third-party applications (at your direction or the direction of an account owner) when an account holder uses the Services .",
           "28",
           "Processors: A data controller must use only processors providing sufficient guarantees to implement appropriate technical and organisational measures in such a manner that processing will meet the requirements of this Regulation and ensure the protection of the rights of the data subject.",
           "non-compliant"
          ],
          [
           "To deliver the Site, Services, partner programs, or communities, we may share your information with our service providers .",
           "28",
           "Processors: A data controller must use only processors providing sufficient guarantees to implement appropriate technical and organisational measures in such a manner that processing will meet the requirements of this Regulation and ensure the protection of the rights of the data subject.",
           "non-compliant"
          ],
          [
           "Suno is committed to protecting your privacy and complying with all applicable laws in collecting and processing personal information.",
           "5(1)(f)",
           "Principles of integrity and confidentiality,  accountability, security of processing",
           "compliant"
          ],
          [
           "Suno is committed to protecting your privacy and complying with all applicable laws in collecting and processing personal information.",
           "24",
           "Principles of integrity and confidentiality,  accountability, security of processing",
           "compliant"
          ],
          [
           "Suno is committed to protecting your privacy and complying with all applicable laws in collecting and processing personal information.",
           "32",
           "Principles of integrity and confidentiality,  accountability, security of processing",
           "compliant"
          ],
          [
           "This Privacy Notice provides information regarding the following: What information we collect How we use your information How we use cookies and similar technologies How we share your information How we store and secure your information How long we retain your information How you can opt out from receiving communications, or change or request deletion of your information Payment processing Rights of California residents Rights of EEA residents Other important privacy information",
           "12",
           "Transparent information, communication and modalities for the exercise of the data subject's rights",
           "compliant"
          ],
          [
           "This Privacy Notice provides information regarding the following: What information we collect How we use your information How we use cookies and similar technologies How we share your information How we store and secure your information How long we retain your information How you can opt out from receiving communications, or change or request deletion of your information Payment processing Rights of California residents Rights of EEA residents Other important privacy information",
           "13",
           "Transparent information, communication and modalities for the exercise of the data subject's rights",
           "compliant"
          ],
          [
           "This Privacy Notice provides information regarding the following: What information we collect How we use your information How we use cookies and similar technologies How we share your information How we store and secure your information How long we retain your information How you can opt out from receiving communications, or change or request deletion of your information Payment processing Rights of California residents Rights of EEA residents Other important privacy information",
           "14",
           "Transparent information, communication and modalities for the exercise of the data subject's rights",
           "compliant"
          ],
          [
           "Our Services may contain links to other websites operated by third parties. Information collected by such third parties is governed by their privacy policies which we encourage you to review to learn about the privacy practices of those third parties.",
           "14",
           "Information to be provided where personal data have not been obtained from the data subject",
           "compliant"
          ],
          [
           "This Privacy Notice explains how information about you is collected, used, shared, stored and secured by Suno, Inc. and our affiliates and subsidiaries (collectively referred to as \"Suno,\" \"we,\" \"our\" and \"us\") when you use our websites, mobile applications, products, services and/or datasets (collectively, the \"Services\") or when you otherwise interact with us.",
           "6",
           "Lawfulness of processing",
           "non-compliant"
          ],
          [
           "This Privacy Notice also explains your choices regarding your information.",
           "15-22",
           "Rights of the data subject",
           "non-compliant"
          ],
          [
           "We collect information about you when you provide it to us, when you use the Services, and/or when other sources provide it to us.",
           "13(1)(f)",
           "Information to be provided where personal data are collected from the data subject/ not obtained from the data subject",
           "non-compliant"
          ],
          [
           "We collect information about you when you provide it to us, when you use the Services, and/or when other sources provide it to us.",
           "14(2)(f)",
           "Information to be provided where personal data are collected from the data subject/ not obtained from the data subject",
           "non-compliant"
          ],
          [
           "We collect Contact Information, User Account Information, User Activity Information, and Content, as such terms are defined below.",
           "5(1)(c)",
           "Data minimisation",
           "non-compliant"
          ],
          [
           "The specific types of information included in each of these categories are described in more detail below.",
           "13(1)(a-b)",
           "Information to be provided where personal data are collected from the data subject",
           "non-compliant"
          ],
          [
           "If we establish an account for you for use of paid and/or secured access portions of the Services, such as an account established in connection with a license to use software platforms and applications (collectively, the \"Platform\"), we also collect your username and password for said account, and information about your subscription tier and transactions (collectively, \"User Account Information\").",
           "32",
           "Security of processing",
           "non-compliant"
          ],
          [
           "Our payment processors also collect payment information to provide paid access to the Services, as described further under the heading \"Payment Processing\" below.",
           "28",
           "Processor",
           "non-compliant"
          ],
          [
           "Finally, if you use our Services to record or upload data, music, sound, photographs or other Submissions, including to generate and return Output (as such terms are defined in our Terms of Service, and collectively, \"Content\"), we collect the data contained and associated with such Content.",
           "9",
           "Processing of special categories of personal data",
           "non-compliant"
          ],
          [
           "Content may constitute or contain personal information, depending on the substance and how it is associated with you and your account.",
           "4(1)",
           "Data minimization: Processing only personal data necessary for the purpose. Transparency: Providing clear and concise information about data processing.",
           "compliant"
          ],
          [
           "Content may constitute or contain personal information, depending on the substance and how it is associated with you and your account.",
           "12(1)",
           "Data minimization: Processing only personal data necessary for the purpose. Transparency: Providing clear and concise information about data processing.",
           "compliant"
          ],
          [
           "2 . Information We Collect Automatically When You Use the Services . We collect information about you when you use our Services, including visiting and browsing our websites, using our mobile applications, and taking certain actions within the Services .",
           "5(1)(a)",
           "Lawfulness of processing: Obtaining consent for processing personal data. Transparency: Informing users about data collection.",
           "compliant"
          ],
          [
           "2 . Information We Collect Automatically When You Use the Services . We collect information about you when you use our Services, including visiting and browsing our websites, using our mobile applications, and taking certain actions within the Services .",
           "13(1)(a)",
           "Lawfulness of processing: Obtaining consent for processing personal data. Transparency: Informing users about data collection.",
           "compliant"
          ],
          [
           "We collect the information about you when you use the Services as described in this section above (collectively, \"User Activity Information\") using various technologies, including cookies, as described under the heading \"How We Use Cookies\" below .",
           "5(1)(a)",
           "Lawfulness of processing: Obtaining consent for processing personal data. Transparency: Providing clear information about data processing and cookie use.",
           "compliant"
          ],
          [
           "We collect the information about you when you use the Services as described in this section above (collectively, \"User Activity Information\") using various technologies, including cookies, as described under the heading \"How We Use Cookies\" below .",
           "12(1)",
           "Lawfulness of processing: Obtaining consent for processing personal data. Transparency: Providing clear information about data processing and cookie use.",
           "compliant"
          ],
          [
           "We collect the information about you when you use the Services as described in this section above (collectively, \"User Activity Information\") using various technologies, including cookies, as described under the heading \"How We Use Cookies\" below .",
           "13(2)",
           "Lawfulness of processing: Obtaining consent for processing personal data. Transparency: Providing clear information about data processing and cookie use.",
           "compliant"
          ],
          [
           "3 . Information We Collect From Other Sources . If you use the Services on behalf of a company or other organization (such as your employer), we may collect information about you from such company or organization in order to establish an account for you and/or provide support or other Services to you .",
           "5(1)(a)",
           "Lawfulness of processing: Obtaining consent for processing personal data. Transparency: Informing users about the sources of personal data.",
           "compliant"
          ],
          [
           "3 . Information We Collect From Other Sources . If you use the Services on behalf of a company or other organization (such as your employer), we may collect information about you from such company or organization in order to establish an account for you and/or provide support or other Services to you .",
           "13(1)(b)",
           "Lawfulness of processing: Obtaining consent for processing personal data. Transparency: Informing users about the sources of personal data.",
           "compliant"
          ],
          [
           "3 . Information We Collect From Other Sources . If you use the Services on behalf of a company or other organization (such as your employer), we may collect information about you from such company or organization in order to establish an account for you and/or provide support or other Services to you .",
           "14(1)",
           "Lawfulness of processing: Obtaining consent for processing personal data. Transparency: Informing users about the sources of personal data.",
           "compliant"
          ],
          [
           "We may obtain information about you from third-party partners that market and promote our Services, generate leads for us, resell our Services, or provide other services to us .",
           "14(1)",
           "Information to be provided where personal data have not been obtained from the data subject: Specifying the source of the personal data and whether it came from publicly accessible sources. Lawfulness of processing: Ensuring legitimate interest for processing personal data obtained from third parties.",
           "compliant"
          ],
          [
           "We may obtain information about you from third-party partners that market and promote our Services, generate leads for us, resell our Services, or provide other services to us .",
           "14(2)(f)",
           "Information to be provided where personal data have not been obtained from the data subject: Specifying the source of the personal data and whether it came from publicly accessible sources. Lawfulness of processing: Ensuring legitimate interest for processing personal data obtained from third parties.",
           "compliant"
          ],
          [
           "We also receive information about you from login integration partners when you access the Services through a third party account such as Discord or Google .",
           "14(1)",
           "Information to be provided where personal data have not been obtained from the data subject: Specifying the source of the personal data. Lawfulness of processing: Ensuring legitimate interest for processing personal data obtained from third parties.",
           "compliant"
          ],
          [
           "We also receive information about you from login integration partners when you access the Services through a third party account such as Discord or Google .",
           "14(2)(f)",
           "Information to be provided where personal data have not been obtained from the data subject: Specifying the source of the personal data. Lawfulness of processing: Ensuring legitimate interest for processing personal data obtained from third parties.",
           "compliant"
          ],
          [
           "We may also obtain information about you from other sources, including information from publicly and commercially available sources and other third parties, as permitted by law . The information we may collect from any of these other sources is generally Contact Information .",
           "14(1)",
           "Information to be provided where personal data have not been obtained from the data subject: Specifying the source of the personal data and whether it came from publicly accessible sources. Lawfulness of processing: Ensuring compliance with legal basis for processing personal data obtained from third parties.",
           "compliant"
          ],
          [
           "We may also obtain information about you from other sources, including information from publicly and commercially available sources and other third parties, as permitted by law . The information we may collect from any of these other sources is generally Contact Information .",
           "14(2)(f)",
           "Information to be provided where personal data have not been obtained from the data subject: Specifying the source of the personal data and whether it came from publicly accessible sources. Lawfulness of processing: Ensuring compliance with legal basis for processing personal data obtained from third parties.",
           "compliant"
          ],
          [
           "How We Use Your Information We use information about you to provide the Services to you, to communicate with you in connection with your use of the Services and/or requests for information, to market and promote products, services and other offerings, to maintain, monitor and secure the Services, for legal and compliance purposes, and to develop and improve our products and services, as follows: 1 .",
           "5(1)(b)",
           "Lawfulness of processing: Specifying the purpose for processing personal data. Transparency: Informing users about the purposes of data processing.",
           "compliant"
          ],
          [
           "How We Use Your Information We use information about you to provide the Services to you, to communicate with you in connection with your use of the Services and/or requests for information, to market and promote products, services and other offerings, to maintain, monitor and secure the Services, for legal and compliance purposes, and to develop and improve our products and services, as follows: 1 .",
           "13(1)(c)",
           "Lawfulness of processing: Specifying the purpose for processing personal data. Transparency: Informing users about the purposes of data processing.",
           "compliant"
          ],
          [
           "To Provide Services to You . We use your information, including Contact Information, User Account Information, User Activity Information, and Content, to provide Services to you, including to authenticate you when you log in to the Platform (or other Services with secured access), to configure features of the Services for you, and to operate the Services .",
           "5(1)(b)",
           "Lawfulness of processing: Processing personal data necessary for the performance of a contract. Lawfulness of processing: Processing personal data necessary for the purposes of legitimate interests pursued by the controller or by a third party.",
           "compliant"
          ],
          [
           "To Provide Services to You . We use your information, including Contact Information, User Account Information, User Activity Information, and Content, to provide Services to you, including to authenticate you when you log in to the Platform (or other Services with secured access), to configure features of the Services for you, and to operate the Services .",
           "6(1)(b)",
           "Lawfulness of processing: Processing personal data necessary for the performance of a contract. Lawfulness of processing: Processing personal data necessary for the purposes of legitimate interests pursued by the controller or by a third party.",
           "compliant"
          ],
          [
           "2 . To Communicate with You . We use your Contact Information and User Account Information to communicate with you, including in providing support through our telephone, email and chat support channels, and in responding to your requests for information, questions and comments related to Suno’s business, products and/or services .",
           "5(1)(b)",
           "Lawfulness of processing: Processing personal data necessary for the performance of a contract. Lawfulness of processing: Processing personal data necessary for the purposes of legitimate interests pursued by the controller.",
           "compliant"
          ],
          [
           "2 . To Communicate with You . We use your Contact Information and User Account Information to communicate with you, including in providing support through our telephone, email and chat support channels, and in responding to your requests for information, questions and comments related to Suno’s business, products and/or services .",
           "6(1)(b)",
           "Lawfulness of processing: Processing personal data necessary for the performance of a contract. Lawfulness of processing: Processing personal data necessary for the purposes of legitimate interests pursued by the controller.",
           "compliant"
          ],
          [
           "For example, we collect and log information about the features you use, your access times, pages viewed, browser type, IP address, Internet service provider and/or mobile carrier, URLs of referring/exit pages, and information about the computer, phone, tablet or other devices you use to access the Services, including hardware model and operating system and version .",
           "5(1)(c)",
           "Purpose limitation: Processing data for specified, explicit and legitimate purposes. Data minimization: Only collecting data necessary for the specified purpose.",
           "non-compliant"
          ],
          [
           "In connection with your use of the Services, we log information related to your upload, download, processing, access and playback of media and the associated results generated by the Platform, frequently used search terms, creation of Collections and Watchlists, social interactions such as your “likes” and comments, and other actions taken .",
           "5(1)(c)",
           "Purpose limitation: Processing data for specified, explicit and legitimate purposes. Storage limitation: Keeping data only as long as necessary for the purpose.",
           "non-compliant"
          ],
          [
           "In connection with your use of the Services, we log information related to your upload, download, processing, access and playback of media and the associated results generated by the Platform, frequently used search terms, creation of Collections and Watchlists, social interactions such as your “likes” and comments, and other actions taken .",
           "5(1)(e)",
           "Purpose limitation: Processing data for specified, explicit and legitimate purposes. Storage limitation: Keeping data only as long as necessary for the purpose.",
           "non-compliant"
          ],
          [
           "Notice of Information Collected and Used ... identifiers, personal information listed in the California Customer Records statute, commercial information, Internet and similar network activity information, geolocation information, visual and audio information that you upload to the Services, professional or employment-related information, and account access credentials.",
           "13",
           "Right of access, Right to be informed",
           "compliant"
          ],
          [
           "Notice of Information Collected and Used ... identifiers, personal information listed in the California Customer Records statute, commercial information, Internet and similar network activity information, geolocation information, visual and audio information that you upload to the Services, professional or employment-related information, and account access credentials.",
           "14",
           "Right of access, Right to be informed",
           "compliant"
          ],
          [
           "Right to Know Requests ... You may have a right to request (i) the categories and specific pieces of personal information about you that we have collected, (ii) the categories of sources from which such information was collected, (iii) the business or commercial purposes for which such information was collected and (iv) the categories of third parties with which such information is disclosed and the business purposes for such disclosure.",
           "13",
           "Right of access, Right to be informed, Right to restriction of processing",
           "compliant"
          ],
          [
           "Right to Know Requests ... You may have a right to request (i) the categories and specific pieces of personal information about you that we have collected, (ii) the categories of sources from which such information was collected, (iii) the business or commercial purposes for which such information was collected and (iv) the categories of third parties with which such information is disclosed and the business purposes for such disclosure.",
           "14",
           "Right of access, Right to be informed, Right to restriction of processing",
           "compliant"
          ],
          [
           "Right to Know Requests ... You may have a right to request (i) the categories and specific pieces of personal information about you that we have collected, (ii) the categories of sources from which such information was collected, (iii) the business or commercial purposes for which such information was collected and (iv) the categories of third parties with which such information is disclosed and the business purposes for such disclosure.",
           "15",
           "Right of access, Right to be informed, Right to restriction of processing",
           "compliant"
          ],
          [
           "Right to Delete Requests ... You may have a right to request that we delete personal information we maintain about you.",
           "17",
           "Right to erasure ('right to be forgotten')",
           "compliant"
          ],
          [
           "Right to Correct Requests ... You may have a right to request that we correct inaccurate personal information we maintain about you.",
           "16",
           "Right to rectification",
           "compliant"
          ],
          [
           "This section applies if you are a resident of the State of California, Colorado or another U.S. state that has passed a privacy law similar to the California Consumer Privacy Act (“CCPA”) and requires specific privacy notice disclosures.",
           "3",
           "Territorial Scope",
           "non-compliant"
          ],
          [
           "We only use and disclose sensitive personal information for the purposes specified in the CCPA or otherwise in line with your consent.",
           "9",
           "Principles relating to the processing of special categories of personal data",
           "non-compliant"
          ],
          [
           "We may disclose your personal information as described in this Privacy Notice under the heading \"How We Share Your Information,\" but we do not \"sell\" or \"share\" your personal information, as those terms are defined in the CCPA and similar U.S. state privacy laws, nor have we done so in the preceding 12 months.",
           "44",
           "General principles for transfers",
           "non-compliant"
          ],
          [
           "Such request must state that they personally made such Content available to other users and detail where such Content is posted. We will make reasonable good faith efforts to remove the Content from prospective public view or anonymize it so the minor cannot be individually identified in relation to such Content.",
           "17 (Right to erasure 'right to be forgotten')",
           "This section aligns with the GDPR's right to erasure, particularly concerning content uploaded by or about children. The policy acknowledges the right and outlines a process for removal while acknowledging limitations.",
           "compliant"
          ],
          [
           "This removal process cannot ensure complete or comprehensive removal. For instance, third parties may have republished the Content and archived copies of it may be stored by search engines and others that we do not control.",
           "17(2)",
           "This section is compliant as it acknowledges the limitations of the right to be forgotten, particularly regarding content beyond the controller's control.",
           "compliant"
          ],
          [
           "You may submit a request to exercise any of these rights by contacting us by email at privacy@suno.com.",
           "12 (Transparent information",
           "Providing clear contact information for submitting data subject requests aligns with GDPR requirements for accessible communication.",
           "compliant"
          ],
          [
           "You may submit a request to exercise any of these rights by contacting us by email at privacy@suno.com.",
           "communication and modalities for the exercise of the rights of the data subject)",
           "Providing clear contact information for submitting data subject requests aligns with GDPR requirements for accessible communication.",
           "compliant"
          ],
          [
           "We will not discriminate against you for exercising these rights.",
           "12(5)",
           "This statement aligns with the GDPR's principle of non-discrimination for exercising data subject rights.",
           "compliant"
          ],
          [
           "We will not discriminate against you for exercising these rights.",
           "Recital 63",
           "This statement aligns with the GDPR's principle of non-discrimination for exercising data subject rights.",
           "compliant"
          ],
          [
           "Rights of EEA Residents If you are a resident of the European Economic Area (EEA), you have certain other rights regarding our processing of your personal data (in addition to those discussed elsewhere in this Privacy Notice), in accordance with European data protection laws, including the General Data Protection Regulation, and subject to certain restrictions and exemptions under such laws.",
           null,
           "This section is generally compliant as an introductory statement. It acknowledges the application of GDPR to EEA residents.",
           "compliant"
          ],
          [
           "These rights include, among others: (1) the right to be informed of the specifics regarding your personal data, including what data is being processed, the purposes for such processing, the third parties with which we share your data, the sources from which we obtain your data, and the period of time for which your personal data will be stored; (2) the right to receive a copy of your information that we process; and (3) the right to ask that we provide your data in an easily readable format to another company.",
           "12 (Transparent information)",
           "This section summarizes key data subject rights under the GDPR, including rights to information, access, and data portability.",
           "compliant"
          ],
          [
           "These rights include, among others: (1) the right to be informed of the specifics regarding your personal data, including what data is being processed, the purposes for such processing, the third parties with which we share your data, the sources from which we obtain your data, and the period of time for which your personal data will be stored; (2) the right to receive a copy of your information that we process; and (3) the right to ask that we provide your data in an easily readable format to another company.",
           "13 (Information to be provided where personal data are collected from the data subject)",
           "This section summarizes key data subject rights under the GDPR, including rights to information, access, and data portability.",
           "compliant"
          ],
          [
           "These rights include, among others: (1) the right to be informed of the specifics regarding your personal data, including what data is being processed, the purposes for such processing, the third parties with which we share your data, the sources from which we obtain your data, and the period of time for which your personal data will be stored; (2) the right to receive a copy of your information that we process; and (3) the right to ask that we provide your data in an easily readable format to another company.",
           "14 (Information to be provided where personal data have not been obtained from the data subject)",
           "This section summarizes key data subject rights under the GDPR, including rights to information, access, and data portability.",
           "compliant"
          ],
          [
           "These rights include, among others: (1) the right to be informed of the specifics regarding your personal data, including what data is being processed, the purposes for such processing, the third parties with which we share your data, the sources from which we obtain your data, and the period of time for which your personal data will be stored; (2) the right to receive a copy of your information that we process; and (3) the right to ask that we provide your data in an easily readable format to another company.",
           "15 (Right of access by the data subject)",
           "This section summarizes key data subject rights under the GDPR, including rights to information, access, and data portability.",
           "compliant"
          ],
          [
           "These rights include, among others: (1) the right to be informed of the specifics regarding your personal data, including what data is being processed, the purposes for such processing, the third parties with which we share your data, the sources from which we obtain your data, and the period of time for which your personal data will be stored; (2) the right to receive a copy of your information that we process; and (3) the right to ask that we provide your data in an easily readable format to another company.",
           "20 (Right to data portability)",
           "This section summarizes key data subject rights under the GDPR, including rights to information, access, and data portability.",
           "compliant"
          ],
          [
           "EEA residents may contact us online by email at privacy@suno.com to request such information or data.",
           "12 (Transparent information",
           "Providing a specific contact point for EEA residents to exercise their rights aligns with GDPR requirements.",
           "compliant"
          ],
          [
           "EEA residents may contact us online by email at privacy@suno.com to request such information or data.",
           "communication and modalities for the exercise of the rights of the data subject)",
           "Providing a specific contact point for EEA residents to exercise their rights aligns with GDPR requirements.",
           "compliant"
          ],
          [
           "However, we will need to verify your request by asking you to provide at least two pieces of personal information (e.g., full name and email address) as reasonably necessary to properly identify you.",
           "12(6)",
           "While verification is permissible, requesting \"at least two pieces\" might be excessive and not considered 'minimized' data collection for verification purposes. The specific data points (full name, email) might not always be necessary for verification, depending on the request and context.",
           "non-compliant"
          ],
          [
           "However, we will need to verify your request by asking you to provide at least two pieces of personal information (e.g., full name and email address) as reasonably necessary to properly identify you.",
           "Recital 59",
           "While verification is permissible, requesting \"at least two pieces\" might be excessive and not considered 'minimized' data collection for verification purposes. The specific data points (full name, email) might not always be necessary for verification, depending on the request and context.",
           "non-compliant"
          ],
          [
           "You may also designate, in writing or through a power of attorney document, an authorized agent to make requests on your behalf to exercise your rights. Before accepting such a request from an agent, we will require that the agent provide proof you have authorized them to act on your behalf, and we may need you to verify your identity directly with us.",
           "12(2)",
           "While allowing authorized agents is compliant, requiring both agent proof and potentially direct verification from the data subject might create unnecessary hurdles. The GDPR emphasizes enabling the exercise of rights without undue burden.",
           "non-compliant"
          ],
          [
           "You may also designate, in writing or through a power of attorney document, an authorized agent to make requests on your behalf to exercise your rights. Before accepting such a request from an agent, we will require that the agent provide proof you have authorized them to act on your behalf, and we may need you to verify your identity directly with us.",
           "Recital 33",
           "While allowing authorized agents is compliant, requiring both agent proof and potentially direct verification from the data subject might create unnecessary hurdles. The GDPR emphasizes enabling the exercise of rights without undue burden.",
           "non-compliant"
          ],
          [
           "Upon receipt of a verifiable request, we will respond to such request as required by, and subject to certain restrictions and exemptions under, applicable laws.",
           "12(3)",
           "While acknowledging legal obligations is positive, the phrase \"subject to certain restrictions and exemptions\" lacks specificity. The GDPR requires transparency about any applied restrictions or exemptions.",
           "non-compliant"
          ],
          [
           "Upon receipt of a verifiable request, we will respond to such request as required by, and subject to certain restrictions and exemptions under, applicable laws.",
           "Recital 64",
           "While acknowledging legal obligations is positive, the phrase \"subject to certain restrictions and exemptions\" lacks specificity. The GDPR requires transparency about any applied restrictions or exemptions.",
           "non-compliant"
          ],
          [
           "If we deny your request, you may appeal our decision by contacting us by email at privacy@suno.com.",
           "12(4)",
           "While providing an appeal mechanism is good, solely relying on email might not be sufficient. The GDPR requires informing individuals about their right to lodge a complaint with a supervisory authority.",
           "non-compliant"
          ],
          [
           "If we deny your request, you may appeal our decision by contacting us by email at privacy@suno.com.",
           "77",
           "While providing an appeal mechanism is good, solely relying on email might not be sufficient. The GDPR requires informing individuals about their right to lodge a complaint with a supervisory authority.",
           "non-compliant"
          ],
          [
           "Other Important Privacy Information Suno Acting as a Data Processor In connection with the use of certain Services by our customers or other parties, such as under license agreements pertaining to use of our Platform and related Services, our customers or other parties and their designated end users may upload, process, store and/or share data through the Services (or may provide data to us through other means for processing), the contents of which are generally not known to us but may contain personal information.",
           "28 (Processor)",
           "This section touches upon data processing agreements but lacks specifics required by the GDPR. It should clearly outline the subject matter, duration, nature and purpose of processing, the types of personal data, and obligations and rights of both parties.",
           "non-compliant"
          ],
          [
           "Other Important Privacy Information Suno Acting as a Data Processor In connection with the use of certain Services by our customers or other parties, such as under license agreements pertaining to use of our Platform and related Services, our customers or other parties and their designated end users may upload, process, store and/or share data through the Services (or may provide data to us through other means for processing), the contents of which are generally not known to us but may contain personal information.",
           "Recital 81",
           "This section touches upon data processing agreements but lacks specifics required by the GDPR. It should clearly outline the subject matter, duration, nature and purpose of processing, the types of personal data, and obligations and rights of both parties.",
           "non-compliant"
          ],
          [
           "We share information about you with third parties when you give us consent or direct us to do so – for example, if you have agreed to be a reference for Suno or have provided a testimonial regarding our Services, or use login integrations provided by third parties such as Discord and Google.",
           "6(1)(a)",
           "Consent of the data subject",
           "compliant"
          ],
          [
           "We share information about you with third parties when you give us consent or direct us to do so – for example, if you have agreed to be a reference for Suno or have provided a testimonial regarding our Services, or use login integrations provided by third parties such as Discord and Google.",
           "7",
           "Consent of the data subject",
           "compliant"
          ],
          [
           "For Legal and Compliance Purposes. We may share information about you with a third party if we believe that sharing such information is reasonably necessary to (a) comply with any applicable legal obligation, including applicable law, regulation, legal process or governmental request, including to meet national security requirements, (b) enforce our agreements, policies and terms of service, or to exercise or defend any legal claims, (c) protect the security or integrity of our products and services, and (d) protect Suno, our customers, employees or other persons from harm, legal liability or illegal activities.",
           "6(1)(c)",
           "Legal obligation, Legitimate interests",
           "compliant"
          ],
          [
           "For Legal and Compliance Purposes. We may share information about you with a third party if we believe that sharing such information is reasonably necessary to (a) comply with any applicable legal obligation, including applicable law, regulation, legal process or governmental request, including to meet national security requirements, (b) enforce our agreements, policies and terms of service, or to exercise or defend any legal claims, (c) protect the security or integrity of our products and services, and (d) protect Suno, our customers, employees or other persons from harm, legal liability or illegal activities.",
           "6(1)(f)",
           "Legal obligation, Legitimate interests",
           "compliant"
          ],
          [
           "We may also share your information in connection with, or during negotiations of, any merger, sale of all or a portion of our business or assets, bankruptcy, or similar business transaction.",
           "6(1)(f)",
           "Legitimate interests",
           "compliant"
          ],
          [
           "Suno has implemented and maintains technical and organizational security measures and other safeguards reasonably necessary to ensure the security, confidentiality and integrity of your information, including measures to protect against unauthorized access to, destruction, modification, disclosure or use of your information, as appropriate based on the nature of the information.",
           "32",
           "Security of processing",
           "compliant"
          ],
          [
           "We permit persons working for us to access and use your information only to serve our legitimate business purposes, in accordance with this Privacy Notice.",
           "6(1)(f)",
           "Legitimate interests, Processor requirements",
           "compliant"
          ],
          [
           "We permit persons working for us to access and use your information only to serve our legitimate business purposes, in accordance with this Privacy Notice.",
           "29",
           "Legitimate interests, Processor requirements",
           "compliant"
          ],
          [
           "We retain your information for as long as is reasonably necessary for the purposes specified in this Privacy Notice.",
           "5(1)(e)",
           "Storage limitation",
           "compliant"
          ],
          [
           "When determining the length of time to retain information, we consider various criteria, including whether we need the information to continue to administer your account, provide the Services, resolve a dispute, enforce our contractual agreements, prevent harm, promote safety, security and integrity, or protect ourselves, including our rights, property or products.",
           "5(1)(e)",
           "Storage limitation",
           "compliant"
          ],
          [
           "Suno is based in the United States, and we generally store your information on servers located in the United States. We also conduct business in other countries, directly or through one of our subsidiaries or partners, and may transfer your information to and/or store it in such other locations as reasonably necessary to provide the Services or for other legitimate business purposes, in accordance with this Privacy Notice.",
           "44-49",
           "Transfers of personal data to third countries or international organisations",
           "non-compliant"
          ],
          [
           "While we follow generally accepted standards to protect your information, no method of storage or transmission is 100% secure. You are solely responsible for protecting your password, limiting access to your devices and signing out of websites after your sessions.",
           null,
           null,
           "non-compliant"
          ],
          [
           "How You Can Opt Out From Receiving Communications, Change Or Request Deletion Of Your Information You may choose the types of communications you wish to receive from us, change your information or request that we delete certain information at any time, as follows: 1.",
           "12-23",
           "Information, access, rectification, erasure, restriction of processing, data portability",
           "non-compliant"
          ],
          [
           "Opt Out From Receiving Communications ... You may also notify us that you do not wish to receive further communications by contacting us at privacy@suno.com.",
           "7(3)",
           "Right to withdraw consent; Right to object, including direct marketing",
           "compliant"
          ],
          [
           "Opt Out From Receiving Communications ... You may also notify us that you do not wish to receive further communications by contacting us at privacy@suno.com.",
           "21 GDPR",
           "Right to withdraw consent; Right to object, including direct marketing",
           "compliant"
          ],
          [
           "Change Your Information ... You may change or update your information with us at any time.",
           "12(2)",
           "Right of access; Right to rectification",
           "compliant"
          ],
          [
           "Change Your Information ... You may change or update your information with us at any time.",
           "16 GDPR",
           "Right of access; Right to rectification",
           "compliant"
          ],
          [
           "Delete Your Information ... You may request that we delete your information at any time, subject to certain exceptions as discussed below.",
           "17 GDPR",
           "Right to erasure ('right to be forgotten')",
           "compliant"
          ],
          [
           "For example, if we have provisioned a user account for you and you intend to continue to use portions of the Services requiring access through said account, we must retain certain information in order to maintain your account and your access to the Services.",
           "17(3)(b) GDPR",
           "Exceptions to the right to erasure: for compliance with a legal obligation",
           "compliant"
          ],
          [
           "We may also retain certain information if required in connection with our performance of a contract (such as a license agreement between us and your employer),",
           "17(3)(b) GDPR",
           "Exceptions to the right to erasure: for the performance of a contract",
           "compliant"
          ],
          [
           "if required by law or relevant to a legal proceeding, or for other compliance or auditing purposes, as permitted by law.",
           "17(3)(c)",
           "Exceptions to the right to erasure: for compliance with a legal obligation; for the establishment, exercise or defence of legal claims",
           "compliant"
          ],
          [
           "if required by law or relevant to a legal proceeding, or for other compliance or auditing purposes, as permitted by law.",
           "(e) GDPR",
           "Exceptions to the right to erasure: for compliance with a legal obligation; for the establishment, exercise or defence of legal claims",
           "compliant"
          ],
          [
           "Please note that, in connection with your use of certain Services, including the Platform, we will still need to send you certain notifications that relate directly to your use of the Services, such as technical notices, updates, service notifications, security alerts, billing and administrative messages, and will need to communicate with you to provide you with support.",
           "7(4) GDPR",
           "The performance of a contract cannot be the lawful basis for processing if the data subject has not been given a free choice to refuse or withdraw consent.",
           "non-compliant"
          ],
          [
           "However, if your information has been provided to us by your employer or other company for which we have provisioned your account, updates to certain information on your account must be requested by such company.",
           "12(2)",
           "Right of access; Right to rectification",
           "non-compliant"
          ],
          [
           "However, if your information has been provided to us by your employer or other company for which we have provisioned your account, updates to certain information on your account must be requested by such company.",
           "16 GDPR",
           "Right of access; Right to rectification",
           "non-compliant"
          ],
          [
           "Please note that we may obtain information about you in the future, as discussed under the heading \"Information We Collect From Other Sources,\" and we may not be able to recognize it as your information due to complying with a previous deletion request from you. In this case, you will need to submit a new request if you wish to have your re-added information deleted.",
           "Recital 26",
           "Purpose limitation; Right to erasure",
           "non-compliant"
          ],
          [
           "Please note that we may obtain information about you in the future, as discussed under the heading \"Information We Collect From Other Sources,\" and we may not be able to recognize it as your information due to complying with a previous deletion request from you. In this case, you will need to submit a new request if you wish to have your re-added information deleted.",
           "17(1) GDPR",
           "Purpose limitation; Right to erasure",
           "non-compliant"
          ],
          [
           "In addition, if we have deidentified, anonymized or aggregated data such that it no longer identifies or relates to you, we may retain and use that information for any lawful purpose.",
           "Recital 26 GDPR",
           "Data that has undergone anonymization in such a way that the data subject is no longer identifiable is not considered personal data.",
           "non-compliant"
          ],
          [
           "We may also send you technical notices, updates, service notifications, security alerts, support, billing and administrative messages in connection with your use of the Services.",
           "6(1)(b)",
           "Necessary for the performance of a contract, legitimate interests (to keep users informed about their account and the services)",
           "compliant"
          ],
          [
           "We may also send you technical notices, updates, service notifications, security alerts, support, billing and administrative messages in connection with your use of the Services.",
           "13(1)(c)",
           "Necessary for the performance of a contract, legitimate interests (to keep users informed about their account and the services)",
           "compliant"
          ],
          [
           "You may opt out from receiving these types of communications at any time, as discussed under the heading “Opt Out From Receiving Communications” below",
           "21(2)",
           "Right to object, Right to withdraw consent",
           "compliant"
          ],
          [
           "You may opt out from receiving these types of communications at any time, as discussed under the heading “Opt Out From Receiving Communications” below",
           "7(3)",
           "Right to object, Right to withdraw consent",
           "compliant"
          ],
          [
           "and you may restrict some of the User Activity Information we may collect by changing the settings on your browser, as discussed under the heading \"Disabling Cookies and Similar Technologies\" below.",
           "4(11)",
           "Right to object to processing based on legitimate interests",
           "compliant"
          ],
          [
           "We may use certain User Account Information, User Activity Information, and Content to monitor and analyze trends, usage and activities in connection with our Services; to monitor, detect, investigate and/or prevent suspicious, fraudulent, unauthorized or illegal activity; and to secure the Services and communicate with you regarding any security incidents.",
           "6(1)(f)",
           "Legitimate interests (to improve services, prevent fraud, and ensure security), Security of processing",
           "compliant"
          ],
          [
           "We may use certain User Account Information, User Activity Information, and Content to monitor and analyze trends, usage and activities in connection with our Services; to monitor, detect, investigate and/or prevent suspicious, fraudulent, unauthorized or illegal activity; and to secure the Services and communicate with you regarding any security incidents.",
           "13(1)(c)",
           "Legitimate interests (to improve services, prevent fraud, and ensure security), Security of processing",
           "compliant"
          ],
          [
           "We may use certain User Account Information, User Activity Information, and Content to monitor and analyze trends, usage and activities in connection with our Services; to monitor, detect, investigate and/or prevent suspicious, fraudulent, unauthorized or illegal activity; and to secure the Services and communicate with you regarding any security incidents.",
           "32",
           "Legitimate interests (to improve services, prevent fraud, and ensure security), Security of processing",
           "compliant"
          ],
          [
           "For Legal and Compliance Purposes. We may use Contact Information, User Account Information, User Activity Information, and Content as reasonably necessary to (a) comply with any applicable legal obligation, including any applicable law, regulation, legal process or governmental request, and (b) enforce our agreements, policies and terms of service, to exercise or defend any legal claims, protect us against legal liability, or otherwise protect or defend our rights or property.",
           "6(1)(c)",
           "Legal obligation, Legitimate interests (to enforce agreements and protect rights)",
           "compliant"
          ],
          [
           "For Legal and Compliance Purposes. We may use Contact Information, User Account Information, User Activity Information, and Content as reasonably necessary to (a) comply with any applicable legal obligation, including any applicable law, regulation, legal process or governmental request, and (b) enforce our agreements, policies and terms of service, to exercise or defend any legal claims, protect us against legal liability, or otherwise protect or defend our rights or property.",
           "6(1)(f)",
           "Legal obligation, Legitimate interests (to enforce agreements and protect rights)",
           "compliant"
          ],
          [
           "Necessary purposes. These are cookies and similar technologies that are required for the operation of certain Services, including, for example, cookies that enable you to log in to secure areas of the Services.",
           "6(1)(b)",
           "Strictly necessary for the performance of a contract",
           "compliant"
          ],
          [
           "We use your Contact Information and User Activity Information to communicate with you about products, services, offers, promotions, rewards, and events offered by Suno and to provide news and information that we think will be of interest to you, and to understand how you interact with or respond to such communications and advertisements.",
           "6(1)",
           "Requires a valid legal basis for processing (e.g., consent, legitimate interests). Unclear if consent is obtained for marketing communications.",
           "non-compliant"
          ],
          [
           "To Develop and Improve our Products and Services. We may use certain User Activity Information, Submissions and other Content to improve our Services, product offerings and business, including to train and enhance the models that power our Services.",
           "6(1)(f)",
           "Legitimate interests may apply, but need further assessment. Using user data to train AI models can be considered high-risk processing and may require a DPIA.",
           "non-compliant"
          ],
          [
           "Functionality. These cookies and similar technologies remember choices you make and are used to recognize you when you log in to the Services. This enables us to personalize the Services for you, greet you by name and remember your preferences (for example, your choice of language or region).",
           "6(1)(f)",
           "While personalization can be considered a legitimate interest, it's unclear if users are informed about this purpose and given the option to opt out.",
           "non-compliant"
          ],
          [
           "Analytics. These cookies and similar technologies collect information about how you use the Services. They allow us to recognize and count the number of visitors and to see how visitors move around within the Services.",
           "6(1)",
           "Requires a valid legal basis. If relying on legitimate interests, it should be clearly explained and balanced against the user's right to privacy.",
           "non-compliant"
          ],
          [
           "Disabling Cookies and Similar Technologies By using the Services and allowing cookies and similar technologies to be placed by us, you consent to our use of these technologies and the User Activity Information generated from them . You can withdraw or modify your consent by changing the settings on your browser .",
           "7(3)",
           "Data subjects have the right to withdraw consent at any time.",
           "compliant"
          ],
          [
           "We may share information about you as discussed below . We do not sell your information to third parties .",
           "4(12)",
           "The policy clarifies that they do not engage in \"selling\" personal data, which aligns with GDPR's definition.",
           "compliant"
          ],
          [
           "We may share information about you as discussed below . We do not sell your information to third parties .",
           "Recital 33",
           "The policy clarifies that they do not engage in \"selling\" personal data, which aligns with GDPR's definition.",
           "compliant"
          ],
          [
           "With Service Providers . We work with third parties that provide to us engine or application development and/or processing services; information systems hosting, infrastructure, maintenance, backup, storage, security, support and other information technology-related services; advertising, marketing and related analytics services; promotion, distribution, resale and support services related to our products and services; consulting and other technical and/or business services, which may require access to information about you to perform such services on our behalf . We share your information with these service providers only for our business purposes pursuant to written contracts . Our contracts with these third-party service providers require protection of your information consistent with this Privacy Notice, and require that they retain, use and disclose your information only as necessary to provide the services in accordance with such contracts .",
           "28",
           "The policy outlines the use of data processors and indicates the presence of written contracts, which is a requirement of GDPR.",
           "compliant"
          ],
          [
           "Although your browser may allow you to transmit a “Do Not Track” or “opt-out preference” signal, like many websites, our website is not designed to respond to such signals, and we do not use or disclose your information in any way that would legally require us to recognize opt-out preference signals .",
           "Recital 47",
           "While not explicitly mandatory, GDPR encourages organizations to adhere to user signals like \"Do Not Track.\" Not doing so might contradict the spirit of the regulation.",
           "non-compliant"
          ],
          [
           "Analytical, targeting and advertising cookies, and the User Activity Information generated from these cookies, are created, stored and/or managed by third-party service providers that provide us with web traffic analytics, sales engagement and marketing automation services, such as Google Analytics .",
           "44",
           "Transferring data to third parties, especially those outside the EU like Google Analytics, requires careful consideration under GDPR, including ensuring adequacy decisions or appropriate safeguards.",
           "non-compliant"
          ],
          [
           "本公司不處理個人資料保護法第6條所指之各項資料。",
           "9 GDPR",
           "Processing of special categories of personal data",
           "compliant"
          ],
          [
           "當您指定商品配送服務時，我們會請您提供配送資料：包含收件人之姓名、聯絡電話、聯絡地址及其他必要配送聯絡資料。",
           "6(1)(b) GDPR",
           "Processing is necessary for the performance of a contract",
           "compliant"
          ],
          [
           "您加入本公司會員時，透過您同意提供之資料。",
           "6(1)(a) GDPR",
           "Lawfulness of processing",
           "non-compliant"
          ],
          [
           "與您有契約或類似契約之關係，如您進行商品訂購、本公司進行商品配送等。",
           "6(1)(b) GDPR",
           "Processing is necessary for the performance of a contract",
           "non-compliant"
          ],
          [
           "具法律明文規定，要求本公司進行蒐集、處理或利用。",
           "6(1)(c) GDPR",
           "Processing is necessary for compliance with a legal obligation",
           "non-compliant"
          ],
          [
           "您自行公開或已合法公開之資料，惟本公司不主動進行左列資料之蒐集、處理或利用。",
           "6(1)(f) GDPR",
           "Legitimate interests, Processing of special categories of personal data",
           "non-compliant"
          ],
          [
           "您自行公開或已合法公開之資料，惟本公司不主動進行左列資料之蒐集、處理或利用。",
           "9 GDPR",
           "Legitimate interests, Processing of special categories of personal data",
           "non-compliant"
          ],
          [
           "為增進公共利益，惟本公司僅於維護資訊安全、防止詐欺等合法利益下進行必要及有限之資料處理。",
           "6(1)(e) GDPR",
           "Public interest, Legitimate interests",
           "non-compliant"
          ],
          [
           "為增進公共利益，惟本公司僅於維護資訊安全、防止詐欺等合法利益下進行必要及有限之資料處理。",
           "6(1)(f) GDPR",
           "Public interest, Legitimate interests",
           "non-compliant"
          ],
          [
           "對您的權益無侵害，惟本公司僅於核實本公司資料蒐集目的下，進行必要及合理之處置。",
           "5(1)(a-b) GDPR",
           "Principles relating to processing of personal data",
           "non-compliant"
          ],
          [
           "momo平台各通路之會員或客戶，我們會請您提供基本資料：包含您提供之姓名、性別、身分證統一編號、出生年月日、聯絡電話、聯絡地址、電子郵件信箱及其他您主動提供之資料。",
           "5(1)(c) GDPR",
           "Data minimization",
           "non-compliant"
          ],
          [
           "依個人資料保護法第 3 條規定，除非有其他法令限制，您就您所提供之個人資料享有查詢或請求閱覽、請求製給複製本、請求補充或更正、請求停止蒐集處理或利用(包含撤回同意、反對本公司繼續處理您的資料)、請求刪除的權利。",
           "15",
           "Right of access, Right to rectification, Right to erasure ('right to be forgotten'), Right to restriction of processing, Right to object",
           "compliant"
          ],
          [
           "依個人資料保護法第 3 條規定，除非有其他法令限制，您就您所提供之個人資料享有查詢或請求閱覽、請求製給複製本、請求補充或更正、請求停止蒐集處理或利用(包含撤回同意、反對本公司繼續處理您的資料)、請求刪除的權利。",
           "16",
           "Right of access, Right to rectification, Right to erasure ('right to be forgotten'), Right to restriction of processing, Right to object",
           "compliant"
          ],
          [
           "依個人資料保護法第 3 條規定，除非有其他法令限制，您就您所提供之個人資料享有查詢或請求閱覽、請求製給複製本、請求補充或更正、請求停止蒐集處理或利用(包含撤回同意、反對本公司繼續處理您的資料)、請求刪除的權利。",
           "17",
           "Right of access, Right to rectification, Right to erasure ('right to be forgotten'), Right to restriction of processing, Right to object",
           "compliant"
          ],
          [
           "依個人資料保護法第 3 條規定，除非有其他法令限制，您就您所提供之個人資料享有查詢或請求閱覽、請求製給複製本、請求補充或更正、請求停止蒐集處理或利用(包含撤回同意、反對本公司繼續處理您的資料)、請求刪除的權利。",
           "18",
           "Right of access, Right to rectification, Right to erasure ('right to be forgotten'), Right to restriction of processing, Right to object",
           "compliant"
          ],
          [
           "依個人資料保護法第 3 條規定，除非有其他法令限制，您就您所提供之個人資料享有查詢或請求閱覽、請求製給複製本、請求補充或更正、請求停止蒐集處理或利用(包含撤回同意、反對本公司繼續處理您的資料)、請求刪除的權利。",
           "21",
           "Right of access, Right to rectification, Right to erasure ('right to be forgotten'), Right to restriction of processing, Right to object",
           "compliant"
          ],
          [
           "我們於2009年11月通過瑞士SGS國際認證公司驗證取得 ISO/IEC 27001資訊安全驗證，以確保您的資料在多層的資訊安全控管下，做到最高規格的防護。",
           "32",
           "Security of processing",
           "non-compliant"
          ],
          [
           "此外，為了提供更適合您需要的服務，我們會接收並且記錄您瀏覽器上的伺服器數值，包括IP位址、Cookie，以進行提供與產品更新及網路服務優化有關的工作時使用。",
           "6",
           "Lawfulness of processing, Conditions for consent",
           "non-compliant"
          ],
          [
           "此外，為了提供更適合您需要的服務，我們會接收並且記錄您瀏覽器上的伺服器數值，包括IP位址、Cookie，以進行提供與產品更新及網路服務優化有關的工作時使用。",
           "7",
           "Lawfulness of processing, Conditions for consent",
           "non-compliant"
          ],
          [
           "本公司受理您行使各項個人權利，若為查詢或請求閱覽、請求製給複製本，本公司將於提出請求之15日內回覆，必要時得再延長15日，本公司將以書面通知您延長原因；若為請求補充或更正、請求停止蒐集處理或利用、請求刪除，本公司將於提出請求之30日內回覆，必要時得再延長30日，本公司將以書面通知您延長原因。",
           "12",
           "Time limit to respond to requests",
           "non-compliant"
          ],
          [
           "二、核准使用電子發票之字號及日期：\n本公司奉核自民國97年5月1起開始適用電子發票\n核准文號：財北國稅中正營業字第0950023667號函",
           "5(1)(a)",
           "Lawfulness of processing: The processing of personal data is lawful if it is based on one of the legal grounds specified in Article 6(1) of the GDPR. In this case, the processing is likely lawful based on legal obligation, as the company is required by Taiwanese tax law to issue invoices and retain certain information for tax purposes.",
           "compliant"
          ],
          [
           "一、個資蒐集主體：富邦媒體科技股份有限公司",
           "13(1)(a)",
           "Information to be provided where personal data are collected from the data subject: The data controller shall provide the data subject with specific information, including the identity and contact details of the controller.",
           "compliant"
          ],
          [
           "一、個資蒐集主體：富邦媒體科技股份有限公司",
           "14(1)(a)",
           "Information to be provided where personal data are collected from the data subject: The data controller shall provide the data subject with specific information, including the identity and contact details of the controller.",
           "compliant"
          ],
          [
           "八、資料正確性之權益影響\n在此提醒您，客戶如未提供完整的個人資料，可能無法成為我們的會員，或是享受各項相應的會員優惠服務或最新資訊；如客戶提供之資料錯誤，本公司亦不受此聲明之約束；客戶亦可要求停止或刪除屬於您的個人資料，但一經停止或刪除，您將無法繼續使用本公司所提供任何之服務。",
           "6(1)(b)",
           "Lawfulness of processing, Rights of the data subject, Right to erasure ('right to be forgotten'), Right to object",
           "non-compliant"
          ],
          [
           "八、資料正確性之權益影響\n在此提醒您，客戶如未提供完整的個人資料，可能無法成為我們的會員，或是享受各項相應的會員優惠服務或最新資訊；如客戶提供之資料錯誤，本公司亦不受此聲明之約束；客戶亦可要求停止或刪除屬於您的個人資料，但一經停止或刪除，您將無法繼續使用本公司所提供任何之服務。",
           "12(1)",
           "Lawfulness of processing, Rights of the data subject, Right to erasure ('right to be forgotten'), Right to object",
           "non-compliant"
          ],
          [
           "八、資料正確性之權益影響\n在此提醒您，客戶如未提供完整的個人資料，可能無法成為我們的會員，或是享受各項相應的會員優惠服務或最新資訊；如客戶提供之資料錯誤，本公司亦不受此聲明之約束；客戶亦可要求停止或刪除屬於您的個人資料，但一經停止或刪除，您將無法繼續使用本公司所提供任何之服務。",
           "17(1)",
           "Lawfulness of processing, Rights of the data subject, Right to erasure ('right to be forgotten'), Right to object",
           "non-compliant"
          ],
          [
           "八、資料正確性之權益影響\n在此提醒您，客戶如未提供完整的個人資料，可能無法成為我們的會員，或是享受各項相應的會員優惠服務或最新資訊；如客戶提供之資料錯誤，本公司亦不受此聲明之約束；客戶亦可要求停止或刪除屬於您的個人資料，但一經停止或刪除，您將無法繼續使用本公司所提供任何之服務。",
           "21(1)",
           "Lawfulness of processing, Rights of the data subject, Right to erasure ('right to be forgotten'), Right to object",
           "non-compliant"
          ],
          [
           "九、若您對本份隱私保護聲明有任何疑問，請逕洽客服中心聯絡客服。",
           "13(1)(b)",
           "Information to be provided where personal data are collected from the data subject: The data controller shall provide the data subject with specific information, including the contact details of the data protection officer or other contact point where more information can be obtained.",
           "non-compliant"
          ],
          [
           "九、若您對本份隱私保護聲明有任何疑問，請逕洽客服中心聯絡客服。",
           "14(1)(b)",
           "Information to be provided where personal data are collected from the data subject: The data controller shall provide the data subject with specific information, including the contact details of the data protection officer or other contact point where more information can be obtained.",
           "non-compliant"
          ],
          [
           "十、關於此份隱私權聲明，我們得隨時因應社會環境及法令規定的變遷與科技的進步進行修改，並將修改內容以電子郵件、電話、型錄、通信網路、網路公告或其他適當方式通知客戶；當您下載安裝或使用或繼續使用momo購物平台所提供之任一服務時，且於確認隱私及會員相關條款後，表示您已閱讀、瞭解並同意接受本服務條款之所有內容。",
           "13(2)(f)",
           "Information to be provided where personal data are collected from the data subject: The data controller shall provide the data subject with specific information, including the right to withdraw consent at any time.",
           "non-compliant"
          ],
          [
           "十、關於此份隱私權聲明，我們得隨時因應社會環境及法令規定的變遷與科技的進步進行修改，並將修改內容以電子郵件、電話、型錄、通信網路、網路公告或其他適當方式通知客戶；當您下載安裝或使用或繼續使用momo購物平台所提供之任一服務時，且於確認隱私及會員相關條款後，表示您已閱讀、瞭解並同意接受本服務條款之所有內容。",
           "14(3)",
           "Information to be provided where personal data are collected from the data subject: The data controller shall provide the data subject with specific information, including the right to withdraw consent at any time.",
           "non-compliant"
          ],
          [
           "四、個資之類別：姓名、電子郵件信箱、聯絡地址、電子發票號碼、消費時間、消費明細、店點等發票資料。",
           "5(1)(c)",
           "Principles relating to processing of personal data - Purpose limitation, Information to be provided where personal data are collected from the data subject: The data controller shall provide the data subject with specific information, including the purposes of the processing for which the personal data are intended as well as the legal basis for the processing.",
           "non-compliant"
          ],
          [
           "四、個資之類別：姓名、電子郵件信箱、聯絡地址、電子發票號碼、消費時間、消費明細、店點等發票資料。",
           "13(1)(c)",
           "Principles relating to processing of personal data - Purpose limitation, Information to be provided where personal data are collected from the data subject: The data controller shall provide the data subject with specific information, including the purposes of the processing for which the personal data are intended as well as the legal basis for the processing.",
           "non-compliant"
          ],
          [
           "四、個資之類別：姓名、電子郵件信箱、聯絡地址、電子發票號碼、消費時間、消費明細、店點等發票資料。",
           "14(1)(c)",
           "Principles relating to processing of personal data - Purpose limitation, Information to be provided where personal data are collected from the data subject: The data controller shall provide the data subject with specific information, including the purposes of the processing for which the personal data are intended as well as the legal basis for the processing.",
           "non-compliant"
          ],
          [
           "五、個人資料利用之期間、地區：本公司營運地區及依法保存會計憑證期限內。",
           "5(1)(e)",
           "Data minimization principle: Personal data shall be stored for no longer than is necessary for the purposes for which the personal data are processed.",
           "compliant"
          ],
          [
           "八、當事人得自由提供資料時，不提供對其權益之影響：若會員資料有填寫未盡正確缺漏之處，可能影響服務提供或商品寄送，會員得隨時停止以載具索取電子發票而改索取紙本電子發票，停用不影響用戶既有權益，若有遺失或毀損情事時，請洽本公司服務窗口辦理。",
           "7(4)",
           "Right to withdraw consent and right to rectification: The data subject shall have the right to withdraw his or her consent at any time.  The data subject shall have the right to obtain from the controller without undue delay the rectification of inaccurate personal data concerning him or her.",
           "compliant"
          ],
          [
           "八、當事人得自由提供資料時，不提供對其權益之影響：若會員資料有填寫未盡正確缺漏之處，可能影響服務提供或商品寄送，會員得隨時停止以載具索取電子發票而改索取紙本電子發票，停用不影響用戶既有權益，若有遺失或毀損情事時，請洽本公司服務窗口辦理。",
           "19",
           "Right to withdraw consent and right to rectification: The data subject shall have the right to withdraw his or her consent at any time.  The data subject shall have the right to obtain from the controller without undue delay the rectification of inaccurate personal data concerning him or her.",
           "compliant"
          ],
          [
           "六、個人資料利用之對象、方式：\n本公司基於配合財政部電子發票整合服務之特定目的內，將電子發票相關資料上傳至財政部電子發票整合服務平台（網址https://www.einvoice.nat.gov.tw/），供其於「Ｏ九五財稅行政」、「一五七調查、統計與研究分析」、「一三六資（通）訊與資料庫管理」、「一四八網路購物及其他電子商務服務」、「一七九其他財政服務」及提供電子發票加值服務目的內處理利用。",
           "13(1)(c)",
           "Transparency and information to be provided: The controller shall provide the data subject with the following information: (c) the recipients or categories of recipient to whom the personal data have been or will be disclosed; (e) the period for which the personal data will be stored, or if that is not possible, the criteria used to determine that period. Where processing is based on Article 6(1)(f) (legitimate interests), the controller shall provide the data subject with both the legitimate interests pursued by the controller or by a third party. ",
           "non-compliant"
          ],
          [
           "六、個人資料利用之對象、方式：\n本公司基於配合財政部電子發票整合服務之特定目的內，將電子發票相關資料上傳至財政部電子發票整合服務平台（網址https://www.einvoice.nat.gov.tw/），供其於「Ｏ九五財稅行政」、「一五七調查、統計與研究分析」、「一三六資（通）訊與資料庫管理」、「一四八網路購物及其他電子商務服務」、「一七九其他財政服務」及提供電子發票加值服務目的內處理利用。",
           "13(1)(e)",
           "Transparency and information to be provided: The controller shall provide the data subject with the following information: (c) the recipients or categories of recipient to whom the personal data have been or will be disclosed; (e) the period for which the personal data will be stored, or if that is not possible, the criteria used to determine that period. Where processing is based on Article 6(1)(f) (legitimate interests), the controller shall provide the data subject with both the legitimate interests pursued by the controller or by a third party. ",
           "non-compliant"
          ],
          [
           "六、個人資料利用之對象、方式：\n本公司基於配合財政部電子發票整合服務之特定目的內，將電子發票相關資料上傳至財政部電子發票整合服務平台（網址https://www.einvoice.nat.gov.tw/），供其於「Ｏ九五財稅行政」、「一五七調查、統計與研究分析」、「一三六資（通）訊與資料庫管理」、「一四八網路購物及其他電子商務服務」、「一七九其他財政服務」及提供電子發票加值服務目的內處理利用。",
           "14",
           "Transparency and information to be provided: The controller shall provide the data subject with the following information: (c) the recipients or categories of recipient to whom the personal data have been or will be disclosed; (e) the period for which the personal data will be stored, or if that is not possible, the criteria used to determine that period. Where processing is based on Article 6(1)(f) (legitimate interests), the controller shall provide the data subject with both the legitimate interests pursued by the controller or by a third party. ",
           "non-compliant"
          ],
          [
           "七、電子發票相關資訊：\n會員就查詢、捐贈、兌獎及電子發票有關之資訊，可至本公司官網：https://www.momoshop.com.tw/「客服中心」或至整合服務平台查詢。",
           "12(1)",
           "Transparent information, communication and modalities for the exercise of the rights of the data subject: The information shall be concise, transparent, intelligible and easily accessible, using clear and plain language. The controller shall take appropriate measures to provide any information relating to processing to the data subject in a concise, transparent, intelligible and easily accessible form, using clear and plain language, in particular for any information addressed specifically to a child. The information shall be provided in writing, or by other means, including, where appropriate, by electronic means. ",
           "non-compliant"
          ],
          [
           "七、電子發票相關資訊：\n會員就查詢、捐贈、兌獎及電子發票有關之資訊，可至本公司官網：https://www.momoshop.com.tw/「客服中心」或至整合服務平台查詢。",
           "13(2)(a)",
           "Transparent information, communication and modalities for the exercise of the rights of the data subject: The information shall be concise, transparent, intelligible and easily accessible, using clear and plain language. The controller shall take appropriate measures to provide any information relating to processing to the data subject in a concise, transparent, intelligible and easily accessible form, using clear and plain language, in particular for any information addressed specifically to a child. The information shall be provided in writing, or by other means, including, where appropriate, by electronic means. ",
           "non-compliant"
          ],
          [
           "3. 為免除當事人之生命、身體、自由或財產上之危險。",
           "6(1)(d)",
           "processing is necessary in order to protect the vital interests of the data subject or of another natural person",
           "compliant"
          ],
          [
           "5. 經當事人同意。",
           "6(1)(a)",
           "consent of the data subject",
           "compliant"
          ],
          [
           "5. 經當事人同意。",
           "7",
           "consent of the data subject",
           "compliant"
          ],
          [
           "(二) 我們提供資料予其他第三人的情形，除經過客戶本人同意，尚可能有以下情形：\n1. 於上開特定目的範圍作業利用之必要。",
           "6",
           "lawfulness of processing - one of the legal bases for processing must be met",
           "compliant"
          ],
          [
           "3. 基於法律之規定或受司法機關與其他有權機關基於法定程序之要求。",
           "6(1)(c)",
           "processing is necessary for compliance with a legal obligation to which the controller is subject",
           "compliant"
          ],
          [
           "2. 為增進公共利益所必要。",
           "6(1)(e)",
           "While this ground for processing exists in the GDPR, it needs to be more specific and refer to a specific task carried out in the public interest or for official authority.  It should also specify the applicable legal basis in Taiwanese law.",
           "non-compliant"
          ],
          [
           "2. 為增進公共利益所必要。",
           "9(2)(g)",
           "While this ground for processing exists in the GDPR, it needs to be more specific and refer to a specific task carried out in the public interest or for official authority.  It should also specify the applicable legal basis in Taiwanese law.",
           "non-compliant"
          ],
          [
           "4. 為防止他人權益之重大危害。",
           "6(1)(f)",
           "This is too broad. GDPR requires a legitimate interest that is not overridden by the interests of the data subject.  It needs to be more specific about the legitimate interest pursued and ensure it's balanced against the rights of individuals.",
           "non-compliant"
          ],
          [
           "4. 為防止他人權益之重大危害。",
           "22(2)(c)",
           "This is too broad. GDPR requires a legitimate interest that is not overridden by the interests of the data subject.  It needs to be more specific about the legitimate interest pursued and ensure it's balanced against the rights of individuals.",
           "non-compliant"
          ],
          [
           "6. 有利於當事人權益。",
           "6",
           "This is too vague. GDPR requires a valid legal basis for processing.  It needs to be more specific about the legal basis and how processing benefits the data subject.",
           "non-compliant"
          ],
          [
           "(一) 您的個人資料，本公司為主要接收者，我們得將個人資料及依據您瀏覽廣告內容、消費紀錄等，包含使用或透過第三方使用Cookie或類似技術交由本公司、及我們所委任處理營業相關事務之第三人提供服務(包括但不限於金融機構、mo店+之商店、合作廠商、物流商、廣告商、社群媒體網路、搜尋引擎等，以及業務往來之關係企業等服務提供者)運用，依照前述服務目的範圍為作業之必要運用或揭露客戶個人資料。除非另有法令規範，或另行取得您的同意，否則我們不會向前述以外之第三人揭露您的個人資料，且除與您的權利有重大影響、保護公共利益，或於取得您的同意為前提之下進行行銷，否則本公司不會主動聯繫您。",
           "5",
           "This section is too broad and lacks transparency. It needs to be more specific about:\n* **Purposes of processing:** Clearly define each purpose for collecting and using data.\n* **Legal basis:** Identify the specific legal basis (Article 6) for each processing purpose.\n* **Data categories:** Specify the categories of personal data being processed.\n* **Data retention:** State how long personal data will be stored.\n* **Data sharing:** Provide more details about the third parties with whom data is shared, including their roles and locations. \n* **International transfers:** If data is transferred outside of Taiwan, specify the safeguards in place to protect personal data.\n* **Data subject rights:** Clearly inform individuals about their rights under GDPR, including access, rectification, erasure, restriction of processing, and objection.",
           "non-compliant"
          ],
          [
           "(一) 您的個人資料，本公司為主要接收者，我們得將個人資料及依據您瀏覽廣告內容、消費紀錄等，包含使用或透過第三方使用Cookie或類似技術交由本公司、及我們所委任處理營業相關事務之第三人提供服務(包括但不限於金融機構、mo店+之商店、合作廠商、物流商、廣告商、社群媒體網路、搜尋引擎等，以及業務往來之關係企業等服務提供者)運用，依照前述服務目的範圍為作業之必要運用或揭露客戶個人資料。除非另有法令規範，或另行取得您的同意，否則我們不會向前述以外之第三人揭露您的個人資料，且除與您的權利有重大影響、保護公共利益，或於取得您的同意為前提之下進行行銷，否則本公司不會主動聯繫您。",
           "12-14",
           "This section is too broad and lacks transparency. It needs to be more specific about:\n* **Purposes of processing:** Clearly define each purpose for collecting and using data.\n* **Legal basis:** Identify the specific legal basis (Article 6) for each processing purpose.\n* **Data categories:** Specify the categories of personal data being processed.\n* **Data retention:** State how long personal data will be stored.\n* **Data sharing:** Provide more details about the third parties with whom data is shared, including their roles and locations. \n* **International transfers:** If data is transferred outside of Taiwan, specify the safeguards in place to protect personal data.\n* **Data subject rights:** Clearly inform individuals about their rights under GDPR, including access, rectification, erasure, restriction of processing, and objection.",
           "non-compliant"
          ],
          [
           "2. 合於個人資料保護法第20條但書規定為特定目的外之利用。",
           null,
           "GDPR does not directly correspond to Article 20 of Taiwan's Personal Data Protection Act.  The policy needs to be revised to align with GDPR's principles and legal bases for processing.",
           "non-compliant"
          ],
          [
           "(3) 當您有實際消費行為時，我們會留存您的帳務資料。但若您選擇使用應用程式內含的Apple Pay、Google Pay或其他第三方的付款方式，相關資訊將會依據該第三方服務供應商的隱私權條款進行保護與管理。",
           "6(1)(b)",
           "Data subject's consent, fulfilling a contract, compliance with legal obligation",
           "compliant"
          ],
          [
           "(3) 當您有實際消費行為時，我們會留存您的帳務資料。但若您選擇使用應用程式內含的Apple Pay、Google Pay或其他第三方的付款方式，相關資訊將會依據該第三方服務供應商的隱私權條款進行保護與管理。",
           "13(1)(c)",
           "Data subject's consent, fulfilling a contract, compliance with legal obligation",
           "compliant"
          ],
          [
           "(3) 當您有實際消費行為時，我們會留存您的帳務資料。但若您選擇使用應用程式內含的Apple Pay、Google Pay或其他第三方的付款方式，相關資訊將會依據該第三方服務供應商的隱私權條款進行保護與管理。",
           "14(1)",
           "Data subject's consent, fulfilling a contract, compliance with legal obligation",
           "compliant"
          ],
          [
           "(7) 當您透過裝置或網路連線向我們分享的資料，如授予我們存取裝置GPS定位、照片的權限及其他相關中繼資料或IP位置、Cookie和類似技術的資料及所連網路的相關資料等。",
           "6(1)(a)",
           "Data subject's consent, legitimate interests (processing necessary for the administration and security of websites)",
           "compliant"
          ],
          [
           "(7) 當您透過裝置或網路連線向我們分享的資料，如授予我們存取裝置GPS定位、照片的權限及其他相關中繼資料或IP位置、Cookie和類似技術的資料及所連網路的相關資料等。",
           "7(4)",
           "Data subject's consent, legitimate interests (processing necessary for the administration and security of websites)",
           "compliant"
          ],
          [
           "Ｃ○○一 辨識個人者。(例如：姓名、職稱、住址、工作地址、以前地址、住家電話號碼、行動電話、網路平臺申請之帳號、會員編號、通訊及戶籍地址、電子郵遞地址及其他任何可辨識資料本人者等。",
           "4(1)",
           "Lawfulness of processing, principles relating to processing of personal data (data minimisation)",
           "compliant"
          ],
          [
           "Ｃ○○一 辨識個人者。(例如：姓名、職稱、住址、工作地址、以前地址、住家電話號碼、行動電話、網路平臺申請之帳號、會員編號、通訊及戶籍地址、電子郵遞地址及其他任何可辨識資料本人者等。",
           "5(1)(c)",
           "Lawfulness of processing, principles relating to processing of personal data (data minimisation)",
           "compliant"
          ],
          [
           "(4) 我們基於提供市場分析、贈獎活動、會員及客戶權益通知等相關服務，將會為必要作業將請您提供其他資料。",
           "6(1)(a)",
           "Data subject's consent, legitimate interests",
           "non-compliant"
          ],
          [
           "(4) 我們基於提供市場分析、贈獎活動、會員及客戶權益通知等相關服務，將會為必要作業將請您提供其他資料。",
           "7(4)",
           "Data subject's consent, legitimate interests",
           "non-compliant"
          ],
          [
           "(5) 當您使用網站之語音蒐尋服務，我們會進行錄音並保留錄音紀錄至少一個月，以進行服務優化分析。",
           "5(1)(e)",
           "Storage limitation, legitimate interests",
           "non-compliant"
          ],
          [
           "(5) 當您使用網站之語音蒐尋服務，我們會進行錄音並保留錄音紀錄至少一個月，以進行服務優化分析。",
           "6(1)(f)",
           "Storage limitation, legitimate interests",
           "non-compliant"
          ],
          [
           "(6) 當您同意透過您所合法申請且仍有效使用中之FB、LINE、GOOGLE或台灣大哥大帳號登入時，由該等帳號業者所提供如姓名、地址、電話號碼及電子信箱等資料。",
           "5(1)(c)",
           "Data minimisation, information to be provided where personal data are collected from the data subject, accountability",
           "non-compliant"
          ],
          [
           "(6) 當您同意透過您所合法申請且仍有效使用中之FB、LINE、GOOGLE或台灣大哥大帳號登入時，由該等帳號業者所提供如姓名、地址、電話號碼及電子信箱等資料。",
           "14",
           "Data minimisation, information to be provided where personal data are collected from the data subject, accountability",
           "non-compliant"
          ],
          [
           "(6) 當您同意透過您所合法申請且仍有效使用中之FB、LINE、GOOGLE或台灣大哥大帳號登入時，由該等帳號業者所提供如姓名、地址、電話號碼及電子信箱等資料。",
           "5(2)",
           "Data minimisation, information to be provided where personal data are collected from the data subject, accountability",
           "non-compliant"
          ],
          [
           "Ｃ○○一一 個人描述。\n(例如：年齡、性別、出生年月日、出生地、國籍、聲音等。)",
           "6(1)(e)",
           "Data minimization: Processing of personal data is lawful only if it is adequate, relevant and limited to what is necessary in relation to the purposes for which they are processed. This section appears to collect a broad range of personal data, some of which (e.g., voice) may not be strictly necessary for the stated purposes.",
           "compliant"
          ],
          [
           "Ｃ○○一一 個人描述。\n(例如：年齡、性別、出生年月日、出生地、國籍、聲音等。)",
           "13(2)(a)",
           "Data minimization: Processing of personal data is lawful only if it is adequate, relevant and limited to what is necessary in relation to the purposes for which they are processed. This section appears to collect a broad range of personal data, some of which (e.g., voice) may not be strictly necessary for the stated purposes.",
           "compliant"
          ],
          [
           "Ｃ○三一 住家及設施。\n(例如：住所地址)",
           "6(1)(b)",
           "Purpose limitation: Collection of home address is justified for the purpose of '物流寄送' (logistics and delivery).",
           "compliant"
          ],
          [
           "Ｃ○三一 住家及設施。\n(例如：住所地址)",
           "13(2)(c)",
           "Purpose limitation: Collection of home address is justified for the purpose of '物流寄送' (logistics and delivery).",
           "compliant"
          ],
          [
           "三、客戶資料蒐集目的",
           "5(1)(a)",
           "Transparency and purpose limitation: This section outlines the purposes for data collection, which aligns with GDPR requirements for transparency and specifying the purpose of processing.",
           "compliant"
          ],
          [
           "三、客戶資料蒐集目的",
           "13(1)(c)",
           "Transparency and purpose limitation: This section outlines the purposes for data collection, which aligns with GDPR requirements for transparency and specifying the purpose of processing.",
           "compliant"
          ],
          [
           "三、客戶資料蒐集目的",
           "14(2)(d)",
           "Transparency and purpose limitation: This section outlines the purposes for data collection, which aligns with GDPR requirements for transparency and specifying the purpose of processing.",
           "compliant"
          ],
          [
           "Ｃ○○二 辨識財務者。\n(例如：金融機構帳戶之號碼與姓名、信用卡或簽帳卡之號碼、保險單號碼、個人之其他號碼或帳戶等。)",
           "9(1)",
           "Special categories of data: Processing of financial data is considered highly sensitive and requires specific legal grounds for processing. The policy lacks details on the legal basis and safeguards for processing such data.",
           "non-compliant"
          ],
          [
           "Ｃ○○二 辨識財務者。\n(例如：金融機構帳戶之號碼與姓名、信用卡或簽帳卡之號碼、保險單號碼、個人之其他號碼或帳戶等。)",
           "6(1)(c)",
           "Special categories of data: Processing of financial data is considered highly sensitive and requires specific legal grounds for processing. The policy lacks details on the legal basis and safeguards for processing such data.",
           "non-compliant"
          ],
          [
           "Ｃ○○三 政府資料中之辨識者。\n(例如：身分證統一編號、護照號碼等。)",
           "9(1)",
           "Special categories of data: Government identification numbers are considered highly sensitive. The policy needs to specify the legal basis and safeguards for processing such data.",
           "non-compliant"
          ],
          [
           "Ｃ○○三 政府資料中之辨識者。\n(例如：身分證統一編號、護照號碼等。)",
           "6(1)(c)",
           "Special categories of data: Government identification numbers are considered highly sensitive. The policy needs to specify the legal basis and safeguards for processing such data.",
           "non-compliant"
          ],
          [
           "Ｃ○三三 移民情形。\n(例如：護照)",
           "9(1)",
           "Special categories of data: Information about immigration status is considered highly sensitive. The policy needs to specify the legal basis and safeguards for processing such data.",
           "non-compliant"
          ],
          [
           "Ｃ○三三 移民情形。\n(例如：護照)",
           "6(1)(c)",
           "Special categories of data: Information about immigration status is considered highly sensitive. The policy needs to specify the legal basis and safeguards for processing such data.",
           "non-compliant"
          ],
          [
           "Ｃ○三六 生活格調。\n(例如：使用消費品之種類及服務之細節、個人或家庭之消費模式等。)",
           "6(1)(f)",
           "Legitimate interests: Processing data about lifestyle and consumption patterns for marketing and analysis requires a legitimate interest assessment. The policy lacks details on this assessment and how it balances the company's interests with the individual's rights.",
           "non-compliant"
          ],
          [
           "Ｃ○八一 收入、所得、資產與投資。",
           "9(1)",
           "Special categories of data: Information about income, assets, and investments is considered highly sensitive. The policy needs to specify the legal basis and safeguards for processing such data.",
           "non-compliant"
          ],
          [
           "Ｃ○八一 收入、所得、資產與投資。",
           "6(1)(c)",
           "Special categories of data: Information about income, assets, and investments is considered highly sensitive. The policy needs to specify the legal basis and safeguards for processing such data.",
           "non-compliant"
          ],
          [
           "Ｃ○九三 財務交易。\n(例如：收付金額、信用額度、保證人、支付方式、往來紀錄、保證金或其他擔保等。)",
           "9(1)",
           "Special categories of data: Financial transaction data is considered highly sensitive. The policy lacks details on the legal basis and safeguards for processing such data.",
           "non-compliant"
          ],
          [
           "Ｃ○九三 財務交易。\n(例如：收付金額、信用額度、保證人、支付方式、往來紀錄、保證金或其他擔保等。)",
           "6(1)(c)",
           "Special categories of data: Financial transaction data is considered highly sensitive. The policy lacks details on the legal basis and safeguards for processing such data.",
           "non-compliant"
          ],
          [
           "Ｃ一○二 約定或契約。\n(例如：關於交易、商業、法律或其他契約、代理等。)",
           "6(1)(b)",
           "Contractual necessity: While processing data for contracts is permitted, the policy should specify the types of contracts and the data processed for each.",
           "non-compliant"
          ],
          [
           "Ｃ一三二 未分類之資料。\n(例如：無法歸類之信件、檔案、報告或電子郵件等。)",
           "5(1)(c)",
           "Data minimization and purpose limitation: The broad category of 'unclassified data' contradicts the principle of data minimization. The policy should avoid collecting data that doesn't fall under a specific purpose.",
           "non-compliant"
          ],
          [
           "Ｃ一三二 未分類之資料。\n(例如：無法歸類之信件、檔案、報告或電子郵件等。)",
           "6(1)",
           "Data minimization and purpose limitation: The broad category of 'unclassified data' contradicts the principle of data minimization. The policy should avoid collecting data that doesn't fall under a specific purpose.",
           "non-compliant"
          ],
          [
           "The entire privacy policy needs to be analyzed for GDPR compliance as it lacks specific details about data processing activities, legal bases, data subject rights, and other GDPR requirements.",
           "5",
           "Principles of data processing, Lawfulness of processing, Data subject rights",
           "non-compliant"
          ],
          [
           "The entire privacy policy needs to be analyzed for GDPR compliance as it lacks specific details about data processing activities, legal bases, data subject rights, and other GDPR requirements.",
           "6",
           "Principles of data processing, Lawfulness of processing, Data subject rights",
           "non-compliant"
          ],
          [
           "The entire privacy policy needs to be analyzed for GDPR compliance as it lacks specific details about data processing activities, legal bases, data subject rights, and other GDPR requirements.",
           "12-23",
           "Principles of data processing, Lawfulness of processing, Data subject rights",
           "non-compliant"
          ],
          [
           "The entire privacy policy needs to be analyzed for GDPR compliance as it lacks specific details about data processing activities, legal bases, data subject rights, and other GDPR requirements.",
           "GDPR",
           "Principles of data processing, Lawfulness of processing, Data subject rights",
           "non-compliant"
          ],
          [
           "職業駕駛與合作外送夥伴也可透過「App 設定」>「緊急資料分享」選單，或使用「安全工具箱」啟用/停用緊急資料分享功能。",
           "6(1)(a)",
           "Data subject consent; Explicit consent for special categories of data",
           "compliant"
          ],
          [
           "職業駕駛與合作外送夥伴也可透過「App 設定」>「緊急資料分享」選單，或使用「安全工具箱」啟用/停用緊急資料分享功能。",
           "9(2)(a)",
           "Data subject consent; Explicit consent for special categories of data",
           "compliant"
          ],
          [
           "使用者的啟用此功能，讓 Uber 透過推播通知分享優惠資訊和最新消息。使用者可在此處控制是否接收推播通知。",
           "6(1)(a)",
           "Consent as a legal basis for processing; Right to object, including to direct marketing",
           "compliant"
          ],
          [
           "使用者的啟用此功能，讓 Uber 透過推播通知分享優惠資訊和最新消息。使用者可在此處控制是否接收推播通知。",
           "21",
           "Consent as a legal basis for processing; Right to object, including to direct marketing",
           "compliant"
          ],
          [
           "使用者得授權第三方 App 存取其 Uber 帳戶資料，以啟用其他功能。使用者可在此處或透過 Uber 的 隱私權中心，檢閱/撤銷第三方 App 的存取權限。",
           "6(1)(a)",
           "Consent as a legal basis for processing; Right to withdraw consent; Right of access; Right to erasure ('right to be forgotten')",
           "compliant"
          ],
          [
           "使用者得授權第三方 App 存取其 Uber 帳戶資料，以啟用其他功能。使用者可在此處或透過 Uber 的 隱私權中心，檢閱/撤銷第三方 App 的存取權限。",
           "7(3)",
           "Consent as a legal basis for processing; Right to withdraw consent; Right of access; Right to erasure ('right to be forgotten')",
           "compliant"
          ],
          [
           "使用者得授權第三方 App 存取其 Uber 帳戶資料，以啟用其他功能。使用者可在此處或透過 Uber 的 隱私權中心，檢閱/撤銷第三方 App 的存取權限。",
           "15",
           "Consent as a legal basis for processing; Right to withdraw consent; Right of access; Right to erasure ('right to be forgotten')",
           "compliant"
          ],
          [
           "使用者得授權第三方 App 存取其 Uber 帳戶資料，以啟用其他功能。使用者可在此處或透過 Uber 的 隱私權中心，檢閱/撤銷第三方 App 的存取權限。",
           "17",
           "Consent as a legal basis for processing; Right to withdraw consent; Right of access; Right to erasure ('right to be forgotten')",
           "compliant"
          ],
          [
           "乘客可在 Uber App 的主選單查看自己的平均評分，也能在 Uber 的隱私權中心查看平均評分的明細。",
           "15",
           "Right of access",
           "compliant"
          ],
          [
           "每趟行程結束後，職業駕駛和乘客能夠給予對方 1 到 5 的評分。這些評分的平均值會連結至使用者帳戶，而提供或接受服務的其他使用者將可查看評分資訊。例如，職業駕駛可查看叫車乘客的評分，乘客亦可查看職業駕駛評分。",
           "9(1)",
           "Processing of special categories of personal data; Explicit consent for special categories of data",
           "non-compliant"
          ],
          [
           "每趟行程結束後，職業駕駛和乘客能夠給予對方 1 到 5 的評分。這些評分的平均值會連結至使用者帳戶，而提供或接受服務的其他使用者將可查看評分資訊。例如，職業駕駛可查看叫車乘客的評分，乘客亦可查看職業駕駛評分。",
           "9(2)(a)",
           "Processing of special categories of personal data; Explicit consent for special categories of data",
           "non-compliant"
          ],
          [
           "UTI 和 Uber B.V. 與 Uber Payments BV 為歐洲經濟區 (EEA) 內 Uber 支付和電子貨幣服務使用者資料的共同控制者，且 UTI 和 Uber B.V. 與 Uber Payments UK Ltd. 為英國境內使用者資料的共同控制者。",
           "26",
           "GDPR 第 26 條概述了共同控制者的概念，即共同決定個人資料處理方式和目的的兩個或多個控制者。本節明確指出 UTI、Uber B.V. 和 Uber Payments BV 在歐洲經濟區內共用支付資料的共同控制者角色，而 UTI、Uber B.V. 和 Uber Payments UK Ltd. 在英國境內共用使用者資料的共同控制者角色。此資訊揭露符合 GDPR 的透明度和資訊提供義務。",
           "compliant"
          ],
          [
           "使用者得提交申請，以行使與個人資料相關之權利：此處為乘客和訂單收件人；此處為職業駕駛與合作外送夥伴。",
           "15-22",
           "GDPR 第 15 至 22 條賦予個人資料主體特定的權利，包括存取權、更正權、刪除權（「被遺忘權」）、限制處理權、資料可攜權，以及反對處理的權利。本節透過提供資料主體行使權利的途徑，承認這些權利。然而，它沒有明確說明所有權利，建議新增遺漏的權利，以確保符合 GDPR 規定。",
           "compliant"
          ],
          [
           "使用者亦得透過https://uber.com/privacy-dpo 聯絡 Uber 資料保護專員，或郵寄至 Uber B.V.(Burgerweeshuispad 301, 1076 HR Amsterdam, The Netherlands)，關於 Uber 處理個人資料及其資料保護權利的相關問題。",
           "30",
           "GDPR 第 30 條要求組織維護處理活動的紀錄。提供資料保護專員的聯絡資訊，以及處理個人資料相關查詢的實體地址，符合 GDPR 的透明度和問責制原則。此外，第 35 條概述了資料保護影響評估 (DPIA) 的要求。雖然本節沒有明確提及 DPIA，但提供聯絡資訊以解決資料保護問題，有助於履行 DPIA 相關義務。",
           "compliant"
          ],
          [
           "使用者亦得透過https://uber.com/privacy-dpo 聯絡 Uber 資料保護專員，或郵寄至 Uber B.V.(Burgerweeshuispad 301, 1076 HR Amsterdam, The Netherlands)，關於 Uber 處理個人資料及其資料保護權利的相關問題。",
           "35",
           "GDPR 第 30 條要求組織維護處理活動的紀錄。提供資料保護專員的聯絡資訊，以及處理個人資料相關查詢的實體地址，符合 GDPR 的透明度和問責制原則。此外，第 35 條概述了資料保護影響評估 (DPIA) 的要求。雖然本節沒有明確提及 DPIA，但提供聯絡資訊以解決資料保護問題，有助於履行 DPIA 相關義務。",
           "compliant"
          ],
          [
           "Uber 營運及處理使用者資料的範圍遍及全球。我們遵循與資料傳輸相關的適用法律框架。\nUber 營運及處理使用者資料的範圍遍及全球。這可能導致您的個人資料在美國等國家/地區處理，這些國家/地區的資料保護法可能與您居住的國家/地區不同。",
           "44-50",
           "GDPR 第 44 至 50 條規範將個人資料傳輸到歐盟以外的國家/地區。雖然本節提到 Uber 的全球營運和資料傳輸，但沒有具體說明 Uber 確保符合 GDPR 要求的機制，例如標準合約條款 (SCC)、約束性公司規則 (BCR) 或適當性決定。",
           "non-compliant"
          ],
          [
           "3. 客服支援。Uber 會使用收集的資訊 (得包含通話錄音、聊天記錄、App 內錄音和行車記錄器影片) 提供客服支援，包括調查及處理使用者疑慮，以及控管和改善客服支援的回應和流程。\n\nUber 為履行與使用者簽訂之協議條款而執行上述活動，或出於 Uber 監控及改善客服支援的合法利益而為之。",
           "6(1)(b)",
           "處理個人資料必須符合下列條件： (b) 處理程序為履行與資料主體所簽訂契約所必需；或 (f) 處理程序為履行管制人或第三人的合法利益所必需，但以不違反資料主體的基本權利與自由為限，尤其是與保護個人資料有關之權利。",
           "compliant"
          ],
          [
           "3. 客服支援。Uber 會使用收集的資訊 (得包含通話錄音、聊天記錄、App 內錄音和行車記錄器影片) 提供客服支援，包括調查及處理使用者疑慮，以及控管和改善客服支援的回應和流程。\n\nUber 為履行與使用者簽訂之協議條款而執行上述活動，或出於 Uber 監控及改善客服支援的合法利益而為之。",
           "6(1)(f)",
           "處理個人資料必須符合下列條件： (b) 處理程序為履行與資料主體所簽訂契約所必需；或 (f) 處理程序為履行管制人或第三人的合法利益所必需，但以不違反資料主體的基本權利與自由為限，尤其是與保護個人資料有關之權利。",
           "compliant"
          ],
          [
           "根據適用法律，上述詐騙和不安全駕駛預防和偵測活動可能會被視為個人資料，並可能導致使用者遭停用 (通常僅在人工審核後)。有關如何反對上述活動的資訊，請參閱下方的「選擇與透明度」。\n\nUber 為履行與使用者簽訂之協議條款而執行上述活動，和/或出於 Uber、使用者和一般大眾的合法安全利益而為之。",
           "5(1)(a)",
           "1. 以公平、合法且透明的方式在與資料主體相關之事項上，處理個人資料 ('合法性、公平性及透明度' 原則)；\n(a) 在取得資料主體之同意前，或在根據本規則處理個人資料有其必要性時，應以簡潔、透明、易懂且易於取得的方式，向資料主體提供與處理個人資料相關之資訊，並使用清楚且平易的語言。\n\nArticle 12(1) - 透明度義務\n管制人應採取適當措施，尤其是使用技術性措施，以便在處理作業開始時，以簡潔、透明、易懂且易於取得的方式，向資料主體提供與處理個人資料相關之資訊，並使用清楚且平易的語言，尤其是在專為兒童設計之資訊中。",
           "non-compliant"
          ],
          [
           "根據適用法律，上述詐騙和不安全駕駛預防和偵測活動可能會被視為個人資料，並可能導致使用者遭停用 (通常僅在人工審核後)。有關如何反對上述活動的資訊，請參閱下方的「選擇與透明度」。\n\nUber 為履行與使用者簽訂之協議條款而執行上述活動，和/或出於 Uber、使用者和一般大眾的合法安全利益而為之。",
           "12(1)",
           "1. 以公平、合法且透明的方式在與資料主體相關之事項上，處理個人資料 ('合法性、公平性及透明度' 原則)；\n(a) 在取得資料主體之同意前，或在根據本規則處理個人資料有其必要性時，應以簡潔、透明、易懂且易於取得的方式，向資料主體提供與處理個人資料相關之資訊，並使用清楚且平易的語言。\n\nArticle 12(1) - 透明度義務\n管制人應採取適當措施，尤其是使用技術性措施，以便在處理作業開始時，以簡潔、透明、易懂且易於取得的方式，向資料主體提供與處理個人資料相關之資訊，並使用清楚且平易的語言，尤其是在專為兒童設計之資訊中。",
           "non-compliant"
          ],
          [
           "4. 研究與開發。我們將資料用於分析、機器學習、產品開發、研究和測試。這可協助我們提供更方便易用的服務、加強服務的安全保障，以及開發全新服務和功能。\n\nUber 基於 Uber 的合法利益而執行上述活動，以改善及開發新服務與功能。",
           "6(1)(f)",
           "6(1)(f) 處理程序為履行管制人或第三人的合法利益所必需，但以不違反資料主體的基本權利與自由為限，尤其是與保護個人資料有關之權利。\n9(2)(a) 資料主體明確表示反對基於管制人或第三人的特定情況下之合法利益而進行之處理程序；在此情況下，管制人應停止處理與該資料主體相關之個人資料，除非管制人能證明其有令人信服且凌駕資料主體利益、權利及自由之正當理由進行處理，或處理程序是為了建立、行使或辯護法律主張。",
           "non-compliant"
          ],
          [
           "4. 研究與開發。我們將資料用於分析、機器學習、產品開發、研究和測試。這可協助我們提供更方便易用的服務、加強服務的安全保障，以及開發全新服務和功能。\n\nUber 基於 Uber 的合法利益而執行上述活動，以改善及開發新服務與功能。",
           "9(2)(a)",
           "6(1)(f) 處理程序為履行管制人或第三人的合法利益所必需，但以不違反資料主體的基本權利與自由為限，尤其是與保護個人資料有關之權利。\n9(2)(a) 資料主體明確表示反對基於管制人或第三人的特定情況下之合法利益而進行之處理程序；在此情況下，管制人應停止處理與該資料主體相關之個人資料，除非管制人能證明其有令人信服且凌駕資料主體利益、權利及自由之正當理由進行處理，或處理程序是為了建立、行使或辯護法律主張。",
           "non-compliant"
          ],
          [
           "5. 啟用使用者之間的通訊功能。舉例來說，職業駕駛可能會傳送訊息或致電乘客以確認上車地點、乘客可能想要取回失物而致電職業駕駛，或者合作餐廳或合作外送夥伴可能聯絡訂單收件人，藉此確認訂單相關資訊。",
           "6(1)",
           "Article 6(1) - 合法性\n除非符合下列條件之一，否則不得處理個人資料：\n(a) 資料主體已明確同意將其個人資料用於一個或多個特定目的；\n(b) 處理程序為履行與資料主體所簽訂契約所必需；\n(c) 處理程序為履行管制人應盡之法律義務所必需；\n(d) 處理程序為保護資料主體或其他自然人之重大利益所必需；\n(e) 處理程序為執行與管制人或資料主體有關之公共利益任務所必需，或行使賦予管制人之官方權力所必需；\n(f) 處理程序為履行管制人或第三人的合法利益所必需，但以不違反資料主體的基本權利與自由為限，尤其是與保護個人資料有關之權利。",
           "non-compliant"
          ],
          [
           "I. 簡介\n當您選擇 Uber，代表您放心將個人資料託付給 Uber。我們承諾將致力維護您對我們的信賴。首先，讓我們協助您瞭解隱私政策。\n本聲明內容說明我們會收集哪些個人資料 (下稱「資料」)、如何使用及分享這些資料，以及關於這些資料，您可以選擇採取哪些做法。建議您在閱讀本文的同時，搭配我們的隱私權概覽，其中著重於本隱私權政策之說明，並概要說明我們收集的資料和使用方式。",
           "12",
           "Principle of transparency, fairness and lawfulness",
           "compliant"
          ],
          [
           "I. 簡介\n當您選擇 Uber，代表您放心將個人資料託付給 Uber。我們承諾將致力維護您對我們的信賴。首先，讓我們協助您瞭解隱私政策。\n本聲明內容說明我們會收集哪些個人資料 (下稱「資料」)、如何使用及分享這些資料，以及關於這些資料，您可以選擇採取哪些做法。建議您在閱讀本文的同時，搭配我們的隱私權概覽，其中著重於本隱私權政策之說明，並概要說明我們收集的資料和使用方式。",
           "13",
           "Principle of transparency, fairness and lawfulness",
           "compliant"
          ],
          [
           "II. 概述\nA.範圍\n本聲明適用於全球 Uber App、網站和其他服務的使用者。\n本聲明將說明 Uber 及其附屬公司如何收集和使用資料。本聲明適用於全球所有 Uber 使用者，其使用之服務必須遵循不同隱私權聲明者除外，例如 Uber Freight、Careem 或 Uber(南韓)。",
           "13",
           "Principle of transparency, purpose limitation",
           "compliant"
          ],
          [
           "II. 概述\nA.範圍\n本聲明適用於全球 Uber App、網站和其他服務的使用者。\n本聲明將說明 Uber 及其附屬公司如何收集和使用資料。本聲明適用於全球所有 Uber 使用者，其使用之服務必須遵循不同隱私權聲明者除外，例如 Uber Freight、Careem 或 Uber(南韓)。",
           "14",
           "Principle of transparency, purpose limitation",
           "compliant"
          ],
          [
           "上次修改日期： 2024/3/29",
           "13",
           "Principle of transparency -  The date of the last update should be easily accessible.",
           "non-compliant"
          ],
          [
           "上次修改日期： 2024/3/29",
           "14",
           "Principle of transparency -  The date of the last update should be easily accessible.",
           "non-compliant"
          ],
          [
           "This entire statement can be considered in light of GDPR compliance as it emphasizes data protection and privacy for EU residents.",
           "5",
           "Principles of data processing, lawfulness of processing, transparency, data subject rights, controller responsibilities",
           "compliant"
          ],
          [
           "This entire statement can be considered in light of GDPR compliance as it emphasizes data protection and privacy for EU residents.",
           "6",
           "Principles of data processing, lawfulness of processing, transparency, data subject rights, controller responsibilities",
           "compliant"
          ],
          [
           "This entire statement can be considered in light of GDPR compliance as it emphasizes data protection and privacy for EU residents.",
           "12-14",
           "Principles of data processing, lawfulness of processing, transparency, data subject rights, controller responsibilities",
           "compliant"
          ],
          [
           "This entire statement can be considered in light of GDPR compliance as it emphasizes data protection and privacy for EU residents.",
           "24",
           "Principles of data processing, lawfulness of processing, transparency, data subject rights, controller responsibilities",
           "compliant"
          ],
          [
           "The statement lacks specifics on data retention policies, which are crucial under GDPR.",
           "5(1)(e)",
           "Storage limitation principle",
           "non-compliant"
          ],
          [
           "While mentioning \"partners,\" the statement needs more explicit details on data sharing practices with third parties to ensure GDPR compliance.",
           "13(1)(e)",
           "Information to be provided to data subjects about recipients or categories of recipients",
           "non-compliant"
          ],
          [
           "While mentioning \"partners,\" the statement needs more explicit details on data sharing practices with third parties to ensure GDPR compliance.",
           "14(1)(e)",
           "Information to be provided to data subjects about recipients or categories of recipients",
           "non-compliant"
          ],
          [
           "The statement should explicitly address the rights of data subjects under GDPR, such as access, rectification, erasure, and objection.",
           "15-22",
           "Rights of the data subject",
           "non-compliant"
          ],
          [
           "The section on \"Guest Users\" should clarify data processing when services are arranged by others, ensuring compliance with data minimization principles.",
           "5(1)(c)",
           "Data minimization principle",
           "non-compliant"
          ],
          [
           "我們也會運用物件驗證技術，透過自拍來驗證使用者是否配戴安全帽或其他安全裝備。我們可使用合作外送夥伴裝置上的資料，驗證合作外送夥伴提供外送服務所使用的車輛類型。",
           "6(1)(f)",
           "Data processing based on legitimate interests - Ensuring safety and security of services. Transparency and information requirements for data subjects.",
           "compliant"
          ],
          [
           "我們也會運用物件驗證技術，透過自拍來驗證使用者是否配戴安全帽或其他安全裝備。我們可使用合作外送夥伴裝置上的資料，驗證合作外送夥伴提供外送服務所使用的車輛類型。",
           "12(1)",
           "Data processing based on legitimate interests - Ensuring safety and security of services. Transparency and information requirements for data subjects.",
           "compliant"
          ],
          [
           "我們也會運用物件驗證技術，透過自拍來驗證使用者是否配戴安全帽或其他安全裝備。我們可使用合作外送夥伴裝置上的資料，驗證合作外送夥伴提供外送服務所使用的車輛類型。",
           "13(1)(d)",
           "Data processing based on legitimate interests - Ensuring safety and security of services. Transparency and information requirements for data subjects.",
           "compliant"
          ],
          [
           "我們也會運用物件驗證技術，透過自拍來驗證使用者是否配戴安全帽或其他安全裝備。我們可使用合作外送夥伴裝置上的資料，驗證合作外送夥伴提供外送服務所使用的車輛類型。",
           "14(2)(g)",
           "Data processing based on legitimate interests - Ensuring safety and security of services. Transparency and information requirements for data subjects.",
           "compliant"
          ],
          [
           "使用位置、電話號碼、使用者名稱、車輛詳細資訊和其他相關資訊，在行程或外送期間提供安全專家的即時支援。",
           "6(1)(f)",
           "Data processing based on legitimate interests - Ensuring safety and security of users during rides or deliveries. Transparency and information requirements for data subjects.",
           "compliant"
          ],
          [
           "使用位置、電話號碼、使用者名稱、車輛詳細資訊和其他相關資訊，在行程或外送期間提供安全專家的即時支援。",
           "12(1)",
           "Data processing based on legitimate interests - Ensuring safety and security of users during rides or deliveries. Transparency and information requirements for data subjects.",
           "compliant"
          ],
          [
           "使用位置、電話號碼、使用者名稱、車輛詳細資訊和其他相關資訊，在行程或外送期間提供安全專家的即時支援。",
           "13(1)(d)",
           "Data processing based on legitimate interests - Ensuring safety and security of users during rides or deliveries. Transparency and information requirements for data subjects.",
           "compliant"
          ],
          [
           "使用位置、電話號碼、使用者名稱、車輛詳細資訊和其他相關資訊，在行程或外送期間提供安全專家的即時支援。",
           "14(2)(g)",
           "Data processing based on legitimate interests - Ensuring safety and security of users during rides or deliveries. Transparency and information requirements for data subjects.",
           "compliant"
          ],
          [
           "使用客服資訊 (包括安全事故報告)、裝置資料 (例如偵測超速或緊急剎車/加速)、交易和使用資料，識別潛在不安全的職業駕駛和駕駛行為。這可能會導致職業駕駛與合作外送夥伴收到鼓勵安全駕駛的訊息，和/或在人工審核後停用帳戶。",
           "6(1)",
           "Lawfulness of processing, especially regarding sensitive data like driving behavior and potential penalties. Automated individual decision-making, including profiling.",
           "non-compliant"
          ],
          [
           "使用客服資訊 (包括安全事故報告)、裝置資料 (例如偵測超速或緊急剎車/加速)、交易和使用資料，識別潛在不安全的職業駕駛和駕駛行為。這可能會導致職業駕駛與合作外送夥伴收到鼓勵安全駕駛的訊息，和/或在人工審核後停用帳戶。",
           "9(1)",
           "Lawfulness of processing, especially regarding sensitive data like driving behavior and potential penalties. Automated individual decision-making, including profiling.",
           "non-compliant"
          ],
          [
           "使用客服資訊 (包括安全事故報告)、裝置資料 (例如偵測超速或緊急剎車/加速)、交易和使用資料，識別潛在不安全的職業駕駛和駕駛行為。這可能會導致職業駕駛與合作外送夥伴收到鼓勵安全駕駛的訊息，和/或在人工審核後停用帳戶。",
           "10",
           "Lawfulness of processing, especially regarding sensitive data like driving behavior and potential penalties. Automated individual decision-making, including profiling.",
           "non-compliant"
          ],
          [
           "使用客服資訊 (包括安全事故報告)、裝置資料 (例如偵測超速或緊急剎車/加速)、交易和使用資料，識別潛在不安全的職業駕駛和駕駛行為。這可能會導致職業駕駛與合作外送夥伴收到鼓勵安全駕駛的訊息，和/或在人工審核後停用帳戶。",
           "22",
           "Lawfulness of processing, especially regarding sensitive data like driving behavior and potential penalties. Automated individual decision-making, including profiling.",
           "non-compliant"
          ],
          [
           "使用帳戶、裝置、位置、使用情況、交易、無線配送員/車行和其他資料 (包括使用者與中繼資料之間的通訊) 來預防、偵測並打擊詐騙 (包括訪客使用者之詐騙)。",
           "6(1)(f)",
           "Data processing based on legitimate interests - Preventing fraud. However, processing communication content (metadata) requires additional justification and safeguards.",
           "non-compliant"
          ],
          [
           "使用帳戶、裝置、位置、使用情況、交易、無線配送員/車行和其他資料 (包括使用者與中繼資料之間的通訊) 來預防、偵測並打擊詐騙 (包括訪客使用者之詐騙)。",
           "13(1)(d)",
           "Data processing based on legitimate interests - Preventing fraud. However, processing communication content (metadata) requires additional justification and safeguards.",
           "non-compliant"
          ],
          [
           "使用帳戶、裝置、位置、使用情況、交易、無線配送員/車行和其他資料 (包括使用者與中繼資料之間的通訊) 來預防、偵測並打擊詐騙 (包括訪客使用者之詐騙)。",
           "14(2)(g)",
           "Data processing based on legitimate interests - Preventing fraud. However, processing communication content (metadata) requires additional justification and safeguards.",
           "non-compliant"
          ],
          [
           "使用回報的事件、使用者評分* 和其他意見回饋，鼓勵使用者安全使用 Uber 平台且遵守我們的條款，並以此為由停用評分較低的使用者。",
           "6(1)",
           "Lawfulness of processing for account suspension based on user ratings. Transparency and information requirements for data subjects. Automated individual decision-making.",
           "non-compliant"
          ],
          [
           "使用回報的事件、使用者評分* 和其他意見回饋，鼓勵使用者安全使用 Uber 平台且遵守我們的條款，並以此為由停用評分較低的使用者。",
           "12(1)",
           "Lawfulness of processing for account suspension based on user ratings. Transparency and information requirements for data subjects. Automated individual decision-making.",
           "non-compliant"
          ],
          [
           "使用回報的事件、使用者評分* 和其他意見回饋，鼓勵使用者安全使用 Uber 平台且遵守我們的條款，並以此為由停用評分較低的使用者。",
           "22",
           "Lawfulness of processing for account suspension based on user ratings. Transparency and information requirements for data subjects. Automated individual decision-making.",
           "non-compliant"
          ],
          [
           "使用職業駕駛資料 (例如，過去的行程資訊和回報事故率) 和乘客資料 (例如，帳戶資訊、取消和回報事故率、目前的上下車地點、過去的行程資訊和評分資訊)，預測並協助避免因配對使用者而可能導致衝突風險增加。* 我們也避免例如某位使用者先前曾給予另一位使用者 1 星評分的配對。",
           "6(1)",
           "Lawfulness of processing for profiling and predicting potential conflicts. Automated individual decision-making.",
           "non-compliant"
          ],
          [
           "使用職業駕駛資料 (例如，過去的行程資訊和回報事故率) 和乘客資料 (例如，帳戶資訊、取消和回報事故率、目前的上下車地點、過去的行程資訊和評分資訊)，預測並協助避免因配對使用者而可能導致衝突風險增加。* 我們也避免例如某位使用者先前曾給予另一位使用者 1 星評分的配對。",
           "22",
           "Lawfulness of processing for profiling and predicting potential conflicts. Automated individual decision-making.",
           "non-compliant"
          ],
          [
           "使用者可要求我們停止使用所有或部分的資料，或者是限制我們對其資料的使用行為。",
           "17",
           "Right to erasure ('right to be forgotten'), Right to restriction of processing",
           "compliant"
          ],
          [
           "使用者可要求我們停止使用所有或部分的資料，或者是限制我們對其資料的使用行為。",
           "18",
           "Right to erasure ('right to be forgotten'), Right to restriction of processing",
           "compliant"
          ],
          [
           "此外，視所在地點而異，使用者有權向所在國家/地區的資料保護機關對 Uber 處理資料的方式提出申訴。",
           "77",
           "Right to lodge a complaint with a supervisory authority",
           "compliant"
          ],
          [
           "Uber Technologies Inc. 是與全球 Uber 服務使用相關的資料處理控制者，但與其他 Uber 附屬公司共同控制者的情況除外。",
           "13",
           "Information to be provided where personal data are collected from the data subject, Contact details of the controller and, where applicable, of the controller's representative",
           "compliant"
          ],
          [
           "Uber Technologies Inc. 是與全球 Uber 服務使用相關的資料處理控制者，但與其他 Uber 附屬公司共同控制者的情況除外。",
           "27",
           "Information to be provided where personal data are collected from the data subject, Contact details of the controller and, where applicable, of the controller's representative",
           "compliant"
          ],
          [
           "若資料使用方式符合法律要求或在法律允許範圍內，Uber 可能在使用者提出此類異議後繼續資料處理作業。",
           "21",
           "Right to object to processing",
           "non-compliant"
          ],
          [
           "UTI 和 UBR Pagos Mexico, S.A. de C.V., 是墨西哥境內 Uber 支付和電子貨幣服務使用者資料的控制者。\nUTI、Uber BV 和 與英國職業駕駛簽訂合約的 Uber 實體是這些職業駕駛資料的共同控制者，以遵循英國的駕照和勞工權利要求。",
           "26",
           "Joint controllers",
           "non-compliant"
          ],
          [
           "乘客和訂單收件人可以在 Uber 隱私權中心(透過 Uber App 中的「隱私」選單存取) 設定或更新位置資料收集與分享、緊急資料分享和通知的偏好設定。",
           "12",
           "This section aligns with GDPR requirements for transparency and user access to privacy settings (Articles 12, 13), and the right to access their data (Article 15).",
           "compliant"
          ],
          [
           "乘客和訂單收件人可以在 Uber 隱私權中心(透過 Uber App 中的「隱私」選單存取) 設定或更新位置資料收集與分享、緊急資料分享和通知的偏好設定。",
           "13",
           "This section aligns with GDPR requirements for transparency and user access to privacy settings (Articles 12, 13), and the right to access their data (Article 15).",
           "compliant"
          ],
          [
           "乘客和訂單收件人可以在 Uber 隱私權中心(透過 Uber App 中的「隱私」選單存取) 設定或更新位置資料收集與分享、緊急資料分享和通知的偏好設定。",
           "15",
           "This section aligns with GDPR requirements for transparency and user access to privacy settings (Articles 12, 13), and the right to access their data (Article 15).",
           "compliant"
          ],
          [
           "收集位置資料 (乘客和訂單收件人)\n\n乘客和訂單收件人可透過裝置設定啟用/停用 Uber 收集其行動裝置位置資料的功能，這些設定可以透過 Uber App 的隱私權中心的「位置分享」選單存取這些設定。",
           "6(1)(a)",
           "This section demonstrates compliance with GDPR by obtaining consent (Article 6(1)(a)) for location data collection and providing users with the ability to withdraw consent (Article 7).",
           "compliant"
          ],
          [
           "收集位置資料 (乘客和訂單收件人)\n\n乘客和訂單收件人可透過裝置設定啟用/停用 Uber 收集其行動裝置位置資料的功能，這些設定可以透過 Uber App 的隱私權中心的「位置分享」選單存取這些設定。",
           "7",
           "This section demonstrates compliance with GDPR by obtaining consent (Article 6(1)(a)) for location data collection and providing users with the ability to withdraw consent (Article 7).",
           "compliant"
          ],
          [
           "分享及時位置 (乘客和訂單收件人)\n\n乘客和訂單接受者可透過裝置設定啟用/停用 Uber 與職業駕駛或合作外送夥伴 (如適用) 分享行動裝置即時位置資料，此設定可透過 Uber App 的隱私權中心的「位置分享」選單存取。",
           "6(1)(a)",
           "Similar to the previous section, this part shows compliance by obtaining consent for sharing real-time location data and allowing users to manage this consent.",
           "compliant"
          ],
          [
           "分享及時位置 (乘客和訂單收件人)\n\n乘客和訂單接受者可透過裝置設定啟用/停用 Uber 與職業駕駛或合作外送夥伴 (如適用) 分享行動裝置即時位置資料，此設定可透過 Uber App 的隱私權中心的「位置分享」選單存取。",
           "7",
           "Similar to the previous section, this part shows compliance by obtaining consent for sharing real-time location data and allowing users to manage this consent.",
           "compliant"
          ],
          [
           "性別認同\n\n乘客可透過「性別認同」選單更新性別資訊，該選單可在 隱私權中心的「廣告和資料」選單中存取。",
           "6(1)(a)",
           "Allowing users to update their gender information aligns with GDPR's principle of data accuracy and user control over their data.",
           "compliant"
          ],
          [
           "緊急資料分享\n\n乘客得允許 Uber 在緊急情況下將行動裝置上的即時位置資料分享給警方、消防隊和救護車服務。此類資料包含撥打緊急電話時的大略位置、車輛廠牌、車款、顏色和車牌資訊；乘客姓名和電話號碼；上下車地點；以及職業駕駛姓名。\n\n乘客得透過「帳戶」>「設定」>「隱私設定」>「位置分享」選單或「安全中心」啟用/停用此功能。",
           "9(2)(c)",
           "While sharing data with authorities in emergencies is permitted, GDPR requires a specific legal basis for processing sensitive data like location in this context. The policy should clarify the legal basis (e.g., Article 6(1)(d) - vital interests) and implement appropriate safeguards for data minimization and security.",
           "non-compliant"
          ],
          [
           "緊急資料分享\n\n乘客得允許 Uber 在緊急情況下將行動裝置上的即時位置資料分享給警方、消防隊和救護車服務。此類資料包含撥打緊急電話時的大略位置、車輛廠牌、車款、顏色和車牌資訊；乘客姓名和電話號碼；上下車地點；以及職業駕駛姓名。\n\n乘客得透過「帳戶」>「設定」>「隱私設定」>「位置分享」選單或「安全中心」啟用/停用此功能。",
           "6(1)(d)",
           "While sharing data with authorities in emergencies is permitted, GDPR requires a specific legal basis for processing sensitive data like location in this context. The policy should clarify the legal basis (e.g., Article 6(1)(d) - vital interests) and implement appropriate safeguards for data minimization and security.",
           "non-compliant"
          ],
          [
           "Uber 承諾解決與 DPF 原則相關之關於我們收集和使用您個人資訊的投訴。",
           "4(11)",
           "Right to lodge a complaint with a supervisory authority, Rights of the data subject",
           "compliant"
          ],
          [
           "Uber 承諾解決與 DPF 原則相關之關於我們收集和使用您個人資訊的投訴。",
           "12-23",
           "Right to lodge a complaint with a supervisory authority, Rights of the data subject",
           "compliant"
          ],
          [
           "乘客與合作外送夥伴可在此處聯絡 Uber，職業駕駛與合作合作外送夥伴亦得在此處聯絡 Uber，瞭解我們遵循之上述原則。",
           "12(1)",
           "Right of access, Right to rectification, Right to erasure ('right to be forgotten')",
           "compliant"
          ],
          [
           "乘客與合作外送夥伴可在此處聯絡 Uber，職業駕駛與合作合作外送夥伴亦得在此處聯絡 Uber，瞭解我們遵循之上述原則。",
           "13(1)(2)",
           "Right of access, Right to rectification, Right to erasure ('right to be forgotten')",
           "compliant"
          ],
          [
           "乘客與合作外送夥伴可在此處聯絡 Uber，職業駕駛與合作合作外送夥伴亦得在此處聯絡 Uber，瞭解我們遵循之上述原則。",
           "14(1)(2)",
           "Right of access, Right to rectification, Right to erasure ('right to be forgotten')",
           "compliant"
          ],
          [
           "他們亦得將投訴轉交給當地的資料保護機構，Uber 會與該機構合作解決投訴。",
           "77",
           "Right to lodge a complaint with a supervisory authority",
           "compliant"
          ],
          [
           "Uber 不會在歐洲經濟區、英國或瑞士收集或使用星號 (*) 標示的資料。",
           "5(1)(c)",
           "Data minimisation",
           "compliant"
          ],
          [
           "在特定情況下，DPF 提供權利，可援引具有約束力的仲裁來解決無法透過其他方式解決的投訴。",
           "77-79",
           "Right to an effective judicial remedy against a supervisory authority, Right to lodge a complaint with a supervisory authority, Right to an effective judicial remedy against a controller or processor",
           "non-compliant"
          ],
          [
           "若本聲明有重大變更，我們會事先透過 Uber App 或其他方式通知使用者，例如電子郵件。",
           "13(2)",
           "Information to be provided where personal data are collected from the data subject, Information to be provided where personal data have not been obtained from the data subject",
           "non-compliant"
          ],
          [
           "若本聲明有重大變更，我們會事先透過 Uber App 或其他方式通知使用者，例如電子郵件。",
           "14(2)",
           "Information to be provided where personal data are collected from the data subject, Information to be provided where personal data have not been obtained from the data subject",
           "non-compliant"
          ],
          [
           "使用者在造訪該等 App 或網站時，應參閱該等第三方的隱私權聲明，以瞭解收集和使用資料的相關資訊。",
           "13",
           "Transparency and information to be provided in case of direct collection  ",
           "compliant"
          ],
          [
           "使用者在造訪該等 App 或網站時，應參閱該等第三方的隱私權聲明，以瞭解收集和使用資料的相關資訊。",
           "14",
           "Transparency and information to be provided in case of direct collection  ",
           "compliant"
          ],
          [
           "我們也會評估 Uber 廣告、在 Uber App 中顯示的第三方廣告，以及與我們服務相關之第三方廣告的成效。",
           "28",
           "Processor",
           "compliant"
          ],
          [
           "請參閱「選擇與透明度〉和「行銷和廣告選擇」章節，瞭解當 Uber 運用使用者資料從事行銷和廣告用途時，其有哪些選項可選擇。",
           "12",
           "Transparent information, communication and modalities for the exercise of the rights of the data subject",
           "compliant"
          ],
          [
           "請參閱「選擇與透明度〉和「行銷和廣告選擇」章節，瞭解當 Uber 運用使用者資料從事行銷和廣告用途時，其有哪些選項可選擇。",
           "13",
           "Transparent information, communication and modalities for the exercise of the rights of the data subject",
           "compliant"
          ],
          [
           "請參閱「選擇與透明度〉和「行銷和廣告選擇」章節，瞭解當 Uber 運用使用者資料從事行銷和廣告用途時，其有哪些選項可選擇。",
           "14",
           "Transparent information, communication and modalities for the exercise of the rights of the data subject",
           "compliant"
          ],
          [
           "請參閱「選擇與透明度〉和「行銷和廣告選擇」章節，瞭解當 Uber 運用使用者資料從事行銷和廣告用途時，其有哪些選項可選擇。",
           "21",
           "Transparent information, communication and modalities for the exercise of the rights of the data subject",
           "compliant"
          ],
          [
           "Uber 基於 Uber 的合法利益而執行上述活動，以通知使用者有關 Uber 或 Uber 合作夥伴提供的服務和功能。",
           "6(1)(f)",
           "Lawfulness of processing",
           "compliant"
          ],
          [
           "非行銷通知。Uber 可能會使用資料傳送問卷調查，以及其他非用於行銷 Uber 或其合作夥伴服務或產品的通知。",
           "6(1)(f)",
           "Legitimate interests",
           "compliant"
          ],
          [
           "這也包括根據使用者目前行程或外送要求的相關資料 (包括要求時間和要求的服務) 提供個人化廣告。例如：如果使用者叫車前往超市，我們可能會在 App 內顯示第三方廣告，展示在那間超市能夠買到的產品。",
           "6(1)",
           "Lawfulness of processing",
           "non-compliant"
          ],
          [
           "我們也可能向使用者傳送有關選舉、投票、公投資訊，及其他關於我們服務的政治進程的通知。舉例而言，Uber 曾通知使用者，說明這些使用者所在地區中有關 Uber 服務的投票辦法或待核准法規。",
           "9",
           "Processing of special categories of personal data",
           "non-compliant"
          ],
          [
           "Uber 為履行與使用者簽訂之協議條款而執行上述活動，或出於 Uber 及其使用者合法利益而為之，以便通知使用者可能會影響 Uber 服務使用情況的相關事件。",
           "6(1)(f)",
           "Legitimate interests",
           "non-compliant"
          ],
          [
           "行程資訊：我們會收集 Uber Travel 功能使用者提供的行程路線資訊，包括即將到來的航班、住宿或租車預訂的時間和日期。當使用者在 Uber Travel 行程表中手動輸入資訊時，我們會收集此類資訊。",
           "6(1)(b)",
           "GDPR 第 6(1)(b) 條：處理資料是為履行資料主體為當事人的合約之必要，或於合約締結前依據資料主體之請求採取措施之必要。",
           "compliant"
          ],
          [
           "位置資料 (職業駕駛與合作外送夥伴)： 當 Uber App 於前景 (App 開啟並顯示於螢幕) 或背景 (App 開啟但未顯示於螢幕) 執行時，我們會從職業駕駛與合作外送夥伴的行動裝置收集準確及大略位置資料。",
           "6(1)(b)",
           "GDPR 第 6(1)(b) 條：處理資料是為履行資料主體為當事人的合約之必要，或於合約締結前依據資料主體之請求採取措施之必要。",
           "compliant"
          ],
          [
           "位置資料 (乘客和訂單收件人)。若乘客和訂單收件人設定允許透過裝置存取資訊，我們會從其行動裝置收集準確及/或大略位置資訊。\n\nUber 會從使用者叫車或下單時開始收集此類資料，直到行程結束為止。另外，當 App 於前景 (App 開啟並顯示於螢幕) 執行時，Uber 也會持續收集這些資料。若要瞭解乘客和訂單收件人如何啟用準確定位資料收集功能，請參閱下文的〈選擇與透明度〉。\n\n即使不允許從行動裝置收集定位資料，乘客和訂單收件人仍可使用 Uber App。然而，這可能會影響 Uber App 的特定功能。例如：如果乘客未啟用準確定位資料功能，就必須手動輸入上車地址。",
           "5(1)(a)",
           "GDPR 第 5(1)(a) 條：以公正合法之方式處理個人資料，尤其應確保與資料主體之關係透明公開，並以特定、明確且合法之目的收集個人資料，且不得以與該等目的不相容之方式進一步處理； GDPR 第 5(1)(c) 條：資料最小化原則，應以適當、相關且必要之方式處理個人資料，以達特定、明確且合法之目的（資料最小化）。",
           "non-compliant"
          ],
          [
           "位置資料 (乘客和訂單收件人)。若乘客和訂單收件人設定允許透過裝置存取資訊，我們會從其行動裝置收集準確及/或大略位置資訊。\n\nUber 會從使用者叫車或下單時開始收集此類資料，直到行程結束為止。另外，當 App 於前景 (App 開啟並顯示於螢幕) 執行時，Uber 也會持續收集這些資料。若要瞭解乘客和訂單收件人如何啟用準確定位資料收集功能，請參閱下文的〈選擇與透明度〉。\n\n即使不允許從行動裝置收集定位資料，乘客和訂單收件人仍可使用 Uber App。然而，這可能會影響 Uber App 的特定功能。例如：如果乘客未啟用準確定位資料功能，就必須手動輸入上車地址。",
           "5(1)(c)",
           "GDPR 第 5(1)(a) 條：以公正合法之方式處理個人資料，尤其應確保與資料主體之關係透明公開，並以特定、明確且合法之目的收集個人資料，且不得以與該等目的不相容之方式進一步處理； GDPR 第 5(1)(c) 條：資料最小化原則，應以適當、相關且必要之方式處理個人資料，以達特定、明確且合法之目的（資料最小化）。",
           "non-compliant"
          ],
          [
           "若為提供服務所需資料，我們會在使用者持有帳戶期間持續保留此類資料。例如，帳戶資料。",
           "5(1)(e)",
           "Storage limitation: Data must be kept only as long as necessary for the purposes for which they are processed.",
           "compliant"
          ],
          [
           "若為遵循稅務要求所需資料，則保留 7 年。例如：職業駕駛與合作外送夥伴的行程或外送地點資訊。",
           "6(1)(c)",
           "Lawfulness of processing: Processing is lawful if it is necessary for compliance with a legal obligation. Storage limitation: Data must be kept only as long as necessary for the purposes for which they are processed.",
           "compliant"
          ],
          [
           "若為遵循稅務要求所需資料，則保留 7 年。例如：職業駕駛與合作外送夥伴的行程或外送地點資訊。",
           "5(1)(e)",
           "Lawfulness of processing: Processing is lawful if it is necessary for compliance with a legal obligation. Storage limitation: Data must be kept only as long as necessary for the purposes for which they are processed.",
           "compliant"
          ],
          [
           "使用得可透過 Uber App 內的「設定」>「隱私設定」選單，或透過 Uber 網站，要求刪除自己的帳戶",
           "12(2)",
           "Transparent information, communication and modalities for the exercise of the data subject's rights: The controller shall take appropriate measures to provide any information referred to in Articles 13 and 14 and any communication under Articles 15 to 22 and 34 relating to processing to the data subject in a concise, transparent, intelligible and easily accessible form, using clear and plain language, particularly for any information addressed specifically to a child. Right to erasure ('right to be forgotten'): The data subject shall have the right to obtain from the controller the erasure of personal data concerning him or her without undue delay",
           "compliant"
          ],
          [
           "使用得可透過 Uber App 內的「設定」>「隱私設定」選單，或透過 Uber 網站，要求刪除自己的帳戶",
           "17(1)",
           "Transparent information, communication and modalities for the exercise of the data subject's rights: The controller shall take appropriate measures to provide any information referred to in Articles 13 and 14 and any communication under Articles 15 to 22 and 34 relating to processing to the data subject in a concise, transparent, intelligible and easily accessible form, using clear and plain language, particularly for any information addressed specifically to a child. Right to erasure ('right to be forgotten'): The data subject shall have the right to obtain from the controller the erasure of personal data concerning him or her without undue delay",
           "compliant"
          ],
          [
           "Uber 讓使用者能夠存取和/或控制 Uber 收集的資料，包含透過以下方式：隱私設定 裝置權限 App 內評分頁面 行銷和廣告選擇 ",
           "15(1)",
           "Right of access by the data subject: The data subject shall have the right to obtain from the controller confirmation as to whether or not personal data concerning him or her are being processed, and, where that is the case, access to the personal data and the following information: (a) the purposes of the processing; (b) the categories of personal data concerned; (c) the recipients or categories of recipient to whom the personal data have been or will be disclosed, in particular recipients in third countries or international organisations; (d) where possible, the envisaged period for which the personal data will be stored, or, if not possible, the criteria used to determine that period; (e) the existence of the right to request from the controller rectification or erasure of personal data or restriction of processing of personal data concerning the data subject or to object to such processing; (f) the right to lodge a complaint with a supervisory authority; (g) where the personal data are not collected from the data subject, any available information as to their source; (h) the existence of automated decision-making, including profiling, referred to in Article 22(1) and (4) and, at least in those cases, meaningful information about the logic involved, as well as the significance and the envisaged consequences of such processing for the data subject. The controller shall provide a copy of the personal data undergoing processing.",
           "compliant"
          ],
          [
           "Uber 讓使用者能夠存取和/或控制 Uber 收集的資料，包含透過以下方式：隱私設定 裝置權限 App 內評分頁面 行銷和廣告選擇 ",
           "15(2)",
           "Right of access by the data subject: The data subject shall have the right to obtain from the controller confirmation as to whether or not personal data concerning him or her are being processed, and, where that is the case, access to the personal data and the following information: (a) the purposes of the processing; (b) the categories of personal data concerned; (c) the recipients or categories of recipient to whom the personal data have been or will be disclosed, in particular recipients in third countries or international organisations; (d) where possible, the envisaged period for which the personal data will be stored, or, if not possible, the criteria used to determine that period; (e) the existence of the right to request from the controller rectification or erasure of personal data or restriction of processing of personal data concerning the data subject or to object to such processing; (f) the right to lodge a complaint with a supervisory authority; (g) where the personal data are not collected from the data subject, any available information as to their source; (h) the existence of automated decision-making, including profiling, referred to in Article 22(1) and (4) and, at least in those cases, meaningful information about the logic involved, as well as the significance and the envisaged consequences of such processing for the data subject. The controller shall provide a copy of the personal data undergoing processing.",
           "compliant"
          ],
          [
           "Uber 也讓使用者能夠要求存取或取得個人資料的副本、對帳戶進行變更或更新、要求刪除帳戶，或要求限制 Uber 處理使用者資料。",
           "15",
           "Right of access, Right to rectification, Right to erasure ('right to be forgotten'), Right to restriction of processing",
           "compliant"
          ],
          [
           "Uber 也讓使用者能夠要求存取或取得個人資料的副本、對帳戶進行變更或更新、要求刪除帳戶，或要求限制 Uber 處理使用者資料。",
           "16",
           "Right of access, Right to rectification, Right to erasure ('right to be forgotten'), Right to restriction of processing",
           "compliant"
          ],
          [
           "Uber 也讓使用者能夠要求存取或取得個人資料的副本、對帳戶進行變更或更新、要求刪除帳戶，或要求限制 Uber 處理使用者資料。",
           "17",
           "Right of access, Right to rectification, Right to erasure ('right to be forgotten'), Right to restriction of processing",
           "compliant"
          ],
          [
           "Uber 也讓使用者能夠要求存取或取得個人資料的副本、對帳戶進行變更或更新、要求刪除帳戶，或要求限制 Uber 處理使用者資料。",
           "18",
           "Right of access, Right to rectification, Right to erasure ('right to be forgotten'), Right to restriction of processing",
           "compliant"
          ],
          [
           "基於維護安全或防範詐騙目的，視需要在規定期間內保留資料。例如：我們會將未完成的職業駕駛線上開通資料保留 1 年，將已拒絕的職業駕駛線上開通資料保留 7 年。",
           "5(1)(e)",
           "Storage limitation: Data must be kept only as long as necessary for the purposes for which they are processed.",
           "non-compliant"
          ],
          [
           "在收到帳戶刪除要求後，出於安全、資安、防範詐騙或法規遵循需求，或使用者帳戶相關問題 (例如未結清點數，或有索賠或爭議未解決) 而保留資料,否則我們會將使用者帳戶和資料刪除。對於職業駕駛與合作外送夥伴，這通常意味著我們會在必要時保留其部分資料，以應付實際或潛在的稅務、訴訟或保險索賠。除非出於上述原因需要保留資料，我們通常會在收到帳戶刪除要求的 90 天內，刪除乘客和訂單收件人的資料。",
           "17(3)",
           "Right to erasure ('right to be forgotten'): The controller may restrict processing of the personal data in question to storage only. Storage limitation: Data must be kept only as long as necessary for the purposes for which they are processed.",
           "non-compliant"
          ],
          [
           "在收到帳戶刪除要求後，出於安全、資安、防範詐騙或法規遵循需求，或使用者帳戶相關問題 (例如未結清點數，或有索賠或爭議未解決) 而保留資料,否則我們會將使用者帳戶和資料刪除。對於職業駕駛與合作外送夥伴，這通常意味著我們會在必要時保留其部分資料，以應付實際或潛在的稅務、訴訟或保險索賠。除非出於上述原因需要保留資料，我們通常會在收到帳戶刪除要求的 90 天內，刪除乘客和訂單收件人的資料。",
           "5(1)(e)",
           "Right to erasure ('right to be forgotten'): The controller may restrict processing of the personal data in question to storage only. Storage limitation: Data must be kept only as long as necessary for the purposes for which they are processed.",
           "non-compliant"
          ],
          [
           "我們也會向乘客和訂單收件人提供電子明細，其中包含收費金額明細、職業駕駛或合作外送夥伴姓名、相片和路線地圖等資訊。視法律規定，我們也會在這些電子明細中提供其他資訊。",
           "6(1)(b)",
           "根據契約履行處理資料的必要性；告知資料主體處理資料的目的、資料類別以及收件人類別",
           "compliant"
          ],
          [
           "我們也會向乘客和訂單收件人提供電子明細，其中包含收費金額明細、職業駕駛或合作外送夥伴姓名、相片和路線地圖等資訊。視法律規定，我們也會在這些電子明細中提供其他資訊。",
           "13(1)(c)",
           "根據契約履行處理資料的必要性；告知資料主體處理資料的目的、資料類別以及收件人類別",
           "compliant"
          ],
          [
           "對於參加 Uber 推薦方案之使用者，我們會根據需求，與推薦方案之使用者分享獲推薦使用者之特定資料，例如：行程次數，來確定推薦獎勵。",
           "6(1)(a)",
           "在取得資料主體同意的情況下處理資料；資料主體有權撤銷其同意",
           "compliant"
          ],
          [
           "對於參加 Uber 推薦方案之使用者，我們會根據需求，與推薦方案之使用者分享獲推薦使用者之特定資料，例如：行程次數，來確定推薦獎勵。",
           "7",
           "在取得資料主體同意的情況下處理資料；資料主體有權撤銷其同意",
           "compliant"
          ],
          [
           "根據使用者要求而與其他人士分享。 例如我們會基於使用者要求，與親友分享使用者的預估抵達時間和位置資訊，或在使用者與親友平分行程費用時，與親友分享使用者的行程資訊。",
           "6(1)(a)",
           "在取得資料主體同意的情況下處理資料",
           "compliant"
          ],
          [
           "對於透過 App 內無障礙設定，自稱失聰或聽障人士的職業駕駛與合作外送夥伴，我們會與乘客和訂單收件人分享相關資訊。",
           "9(1)",
           "處理與種族或族裔血統、政治意見、宗教或哲學信仰、工會會員資格、基因資料、生物特徵資料相關的特殊類別資料，以唯一識別自然人、健康資料或性生活和性取向資料的處理是被禁止的，除非有例外情況適用。",
           "non-compliant"
          ],
          [
           "對於透過 App 內無障礙設定，自稱失聰或聽障人士的職業駕駛與合作外送夥伴，我們會與乘客和訂單收件人分享相關資訊。",
           "10",
           "處理與種族或族裔血統、政治意見、宗教或哲學信仰、工會會員資格、基因資料、生物特徵資料相關的特殊類別資料，以唯一識別自然人、健康資料或性生活和性取向資料的處理是被禁止的，除非有例外情況適用。",
           "non-compliant"
          ],
          [
           "當帳戶擁有者由他人使用時，例如乘客使用雇主的 Uber 企業帳號、乘客或訂單收件人使用與其家庭帳號相關聯的帳戶、職業駕駛或合作合作外送夥伴使用 Uber 合作運輸公司或餐廳擁有或相關聯的帳戶，或由合作外送夥伴替代 (僅限英國) 使用時。",
           "5(1)(a)",
           "與處理目的相關且為達此目的所必需的資料；",
           "non-compliant"
          ],
          [
           "此外，如果使用者使用 Uber 企業版帳戶擁有者 (即雇主) 的附屬電子郵件地址建立帳戶，我們得使用並與該帳戶擁有者分享其帳號資料 (例如，姓名和電子郵件地址)，以協助使用者支付該 Uber 企業版帳戶的行程或訂單費用。*",
           "6(1)",
           "處理資料的合法依據",
           "non-compliant"
          ],
          [
           "這包含將資料分享給執法機關、公共衛生機關、其他政府單位、機場 (若機場單位要求必須分享資料才能在機場範圍營運)、保險公司，或其他第三方以藉此執行我們的服務條款、使用者協議或其他政策、保護 Uber 權益或財產，或他人權益、安全或財產，協助處理服務使用方面的索賠或爭議。若您使用他人信用卡但發生相關糾紛，我們得根據法律規定，將使用者資料 (包含行程或訂單資訊) 分享給信用卡持有人。",
           "6(1)(f)",
           "Legitimate interests - Uber's legitimate interests to enforce its terms of service, protect its rights and property, and comply with legal obligations.",
           "compliant"
          ],
          [
           "如需深入瞭解，請參閱 Uber 的執法機關指南 - 美國、執法機關指南 - 美國以外地區，以及第三方資料要求和法律文件服務指南。",
           "13(1)(d)",
           "Transparency - Providing clear and accessible information about data sharing practices.",
           "compliant"
          ],
          [
           "如需深入瞭解，請參閱 Uber 的執法機關指南 - 美國、執法機關指南 - 美國以外地區，以及第三方資料要求和法律文件服務指南。",
           "14(1)(d)",
           "Transparency - Providing clear and accessible information about data sharing practices.",
           "compliant"
          ],
          [
           "資料分享對象亦包括攸關任何合併、公司資產銷售、整合、重組、融資、其他公司收購我方全部或部分業務，或在上述事宜相關協商過程中的其他相關人士。",
           "6(1)(f)",
           "Legitimate interests - Uber's legitimate interests in pursuing mergers, acquisitions, or other business transactions.",
           "compliant"
          ],
          [
           "Uber 可能在通知使用者並獲得對方同意後，以本聲明內未說明的方式分享使用者的資料。",
           "4(11)",
           "Consent - Obtaining freely given, specific, informed, and unambiguous consent for data processing not covered by other legal bases.",
           "compliant"
          ],
          [
           "Uber 可能在通知使用者並獲得對方同意後，以本聲明內未說明的方式分享使用者的資料。",
           "6(1)(a)",
           "Consent - Obtaining freely given, specific, informed, and unambiguous consent for data processing not covered by other legal bases.",
           "compliant"
          ],
          [
           "Uber 可能在通知使用者並獲得對方同意後，以本聲明內未說明的方式分享使用者的資料。",
           "7",
           "Consent - Obtaining freely given, specific, informed, and unambiguous consent for data processing not covered by other legal bases.",
           "compliant"
          ],
          [
           "Uber 會在上述用途所需的時間內保留使用者資料，實際期限係根據資料類型、資料所涉及之使用者類別、我們收集資料的目的，以及是否必須在出於下述目的提出帳戶刪除要求等。",
           "5(1)(e)",
           "Storage limitation - Retaining personal data only for as long as necessary for the purposes for which it was collected.",
           "compliant"
          ],
          [
           "Uber 會根據上述目的持續保留資料，直到不再需要這些資料時為止。",
           "5(1)(e)",
           "Storage limitation - The phrase \"until no longer needed\" is too vague. GDPR requires a more specific and objective criteria for data retention.",
           "non-compliant"
          ],
          [
           "使用者得透過 Uber App 和網站要求刪除帳戶。",
           "17(1)",
           "Right to erasure ('right to be forgotten') - While offering account deletion is positive, the policy should explicitly mention the right to erasure and the conditions for exercising this right.",
           "non-compliant"
          ],
          [
           "使用者得透過 Uber App 和網站要求刪除帳戶。",
           "17(2)",
           "Right to erasure ('right to be forgotten') - While offering account deletion is positive, the policy should explicitly mention the right to erasure and the conditions for exercising this right.",
           "non-compliant"
          ],
          [
           "Uber 會在上述用途所需的時間內保留使用者資料，實際期限係根據資料類型、資料所涉及之使用者類別、我們收集資料的目的，以及是否必須在出於下述目的提出帳戶刪除要求等。",
           "12(1)",
           "Transparent information, communication and modalities for the exercise of the rights of the data subject - The criteria for determining data retention periods are too broad and unclear. ",
           "non-compliant"
          ],
          [
           "系統仍會將行程期間從職業駕駛裝置收集的準確定位資料與乘客帳戶連結。這些資料會用於客服支援、詐騙偵測、保險、訴訟和產生收據等用途。",
           "6(1)(f)",
           "處理是為了追求控制者的合法利益或第三方的合法利益所必需，除非資料主體在特定情況下因與其特定情況相關之理由而凌駕於此等利益的利益和基本權利與自由，特別是當資料主體是兒童時。",
           "compliant"
          ],
          [
           "交易資訊：我們會收集與使用我們的服務相關的交易資訊，包含要求或提供的服務類型、行程或訂單詳細資訊 (例如日期和時間、要求的接送地點、行程距離和訂購的商品，例如餐點、處方藥或其他外送餐點)，以及付款交易資訊 (例如合作餐廳或商家的名稱和地點、扣款金額和付款方式)。我們也會將使用者姓名與使用優惠序號的人連結。",
           "6(1)(b)",
           "處理是為履行資料主體為其一方之契約，或在締結契約前應資料主體要求採取措施所必需。",
           "compliant"
          ],
          [
           "這也包括使用者在下訂單時提供的資訊，例如過敏資訊。",
           "9(2)(h)",
           "在資料主體明確同意的情況下，處理與健康相關的特殊類別資料…；處理與健康相關的特殊類別資料…是為了公共衛生領域的理由所必需。",
           "compliant"
          ],
          [
           "這也包括使用者在下訂單時提供的資訊，例如過敏資訊。",
           "9(2)(i)",
           "在資料主體明確同意的情況下，處理與健康相關的特殊類別資料…；處理與健康相關的特殊類別資料…是為了公共衛生領域的理由所必需。",
           "compliant"
          ],
          [
           "使用資料：我們會收集關於使用者與服務互動方式的資料。這包括存取日期和時間、App 功能或瀏覽過的頁面、瀏覽器類型，以及 App 當機和其他系統活動。",
           "6(1)(f)",
           "處理是為了追求控制者的合法利益或第三方的合法利益所必需，除非資料主體在特定情況下因與其特定情況相關之理由而凌駕於此等利益的利益和基本權利與自由，特別是當資料主體是兒童時。",
           "compliant"
          ],
          [
           "此外，即使乘客並未啟用從裝置收集準確定位資料的功能，系統仍會將行程期間從職業駕駛裝置收集的準確定位資料與乘客帳戶連結。",
           "6(1)",
           "除非至少符合(a) 至 (f) 款中一項條件，否則不得處理個人資料；如果處理特殊類別的個人資料，則至少符合第 9(2) 條中一項條件；如果處理與刑事定罪和犯罪有關的個人資料，則至少符合第 10 條中一項條件。",
           "non-compliant"
          ],
          [
           "裝置資料： 我們會收集用於存取服務的裝置資料，包含硬體型號、裝置 IP 位址或唯一裝置識別碼、作業系統和版本、軟體、偏好語言、廣告識別碼、裝置動作資料，以及行動網路資料。",
           "5(1)(c)",
           "為達處理目的所必需，不得過度收集個人資料。",
           "non-compliant"
          ],
          [
           "通訊資料： 我們會收集使用者透過 Uber App 啟用的使用者間通訊相關資料。這包括通訊類型 (電話、簡訊或 App 內訊息)、日期/時間和內容 (包括僅在使用者事先收到通話錄音通知時的通話錄音)。",
           "9(1)",
           "禁止處理…特殊類別的個人資料…除非…資料主體已明確同意處理這些個人資料，以用於一個或多個特定目的…",
           "non-compliant"
          ],
          [
           "通訊資料： 我們會收集使用者透過 Uber App 啟用的使用者間通訊相關資料。這包括通訊類型 (電話、簡訊或 App 內訊息)、日期/時間和內容 (包括僅在使用者事先收到通話錄音通知時的通話錄音)。",
           "9(2)(a)",
           "禁止處理…特殊類別的個人資料…除非…資料主體已明確同意處理這些個人資料，以用於一個或多個特定目的…",
           "non-compliant"
          ],
          [
           "Uber 為履行與使用者簽訂之協議條款而執行上述活動。",
           "61(b)",
           "processing is necessary for the performance of a contract to which the data subject is party or in order to take steps at the request of the data subject prior to entering into a contract",
           "compliant"
          ],
          [
           "6. 行銷和廣告。Uber 使用資料 (訪客使用者資料除外) 來行銷 Uber 和其合作夥伴的服務。\n我們會特別使用帳戶、大略位置、裝置和使用情況資料、偏好語言，以及行程和訂單記錄，根據使用者觀察或推斷的位置、興趣和特徵 (得包含推斷的性別*)，提供個人化的廣告和行銷通訊。",
           "61(a)",
           "the data subject has given consent to the processing of his or her personal data for one or more specific purposes",
           "compliant"
          ],
          [
           "這包含將資料用於以下用途：\n傳送電子郵件、簡訊、推播通知、App 內訊息或採用其他通訊方式來行銷或宣傳 Uber 產品、服務、功能、優惠、獎勵、抽獎活動、新聞和活動。例如：我們可能會傳送推播通知來推薦使用者的常用目的地或最愛商家，或根據使用者曾訂購過的產品或商家，透過 App 內訊息提供類似產品/商家的優惠或獎勵。\n在第三方 App 或網站上顯示個人化廣告。\n在 Uber App 中顯示第三方廣告，或顯示與我們服務相關的第三方廣告。例如，顯示透過 Uber App 提供服務的餐廳或商家廣告。這些廣告 (在 Uber App 中稱為「贊助廣告」) 包括根據使用者位置和訂單記錄提供的個人化推薦。\n我們也會顯示 Uber App 未提供的第三方商品廣告。這些廣告可能包含第三方 App 或網站的連結。",
           "14",
           "The controller shall take appropriate measures to provide any information referred to in Articles 13 and 14 and any communication under Articles 15 to 22 and 34 relating to processing to the data subject in a concise, transparent, intelligible and easily accessible form, using clear and plain language, in particular for any information addressed specifically to a child. The information shall be provided in writing, or by other means, including, where appropriate, by electronic means. When requested by the data subject, the information may be provided orally, provided that the identity of the data subject is proven by other means.\nWhere personal data are processed for direct marketing purposes, the data subject shall have the right to object at any time to processing of personal data concerning him or her for such marketing, which includes profiling to the extent that it is related to such direct marketing. Where the data subject objects to processing for direct marketing purposes, the personal data shall no longer be processed for such purposes.",
           "non-compliant"
          ],
          [
           "這包含將資料用於以下用途：\n傳送電子郵件、簡訊、推播通知、App 內訊息或採用其他通訊方式來行銷或宣傳 Uber 產品、服務、功能、優惠、獎勵、抽獎活動、新聞和活動。例如：我們可能會傳送推播通知來推薦使用者的常用目的地或最愛商家，或根據使用者曾訂購過的產品或商家，透過 App 內訊息提供類似產品/商家的優惠或獎勵。\n在第三方 App 或網站上顯示個人化廣告。\n在 Uber App 中顯示第三方廣告，或顯示與我們服務相關的第三方廣告。例如，顯示透過 Uber App 提供服務的餐廳或商家廣告。這些廣告 (在 Uber App 中稱為「贊助廣告」) 包括根據使用者位置和訂單記錄提供的個人化推薦。\n我們也會顯示 Uber App 未提供的第三方商品廣告。這些廣告可能包含第三方 App 或網站的連結。",
           "21",
           "The controller shall take appropriate measures to provide any information referred to in Articles 13 and 14 and any communication under Articles 15 to 22 and 34 relating to processing to the data subject in a concise, transparent, intelligible and easily accessible form, using clear and plain language, in particular for any information addressed specifically to a child. The information shall be provided in writing, or by other means, including, where appropriate, by electronic means. When requested by the data subject, the information may be provided orally, provided that the identity of the data subject is proven by other means.\nWhere personal data are processed for direct marketing purposes, the data subject shall have the right to object at any time to processing of personal data concerning him or her for such marketing, which includes profiling to the extent that it is related to such direct marketing. Where the data subject objects to processing for direct marketing purposes, the personal data shall no longer be processed for such purposes.",
           "non-compliant"
          ],
          [
           "III. 資料收集與使用\nA. 我們收集的資料",
           "13",
           "The policy provides information about the data collected, which aligns with the transparency and information requirements of Articles 13 and 14 of the GDPR.",
           "compliant"
          ],
          [
           "III. 資料收集與使用\nA. 我們收集的資料",
           "14",
           "The policy provides information about the data collected, which aligns with the transparency and information requirements of Articles 13 and 14 of the GDPR.",
           "compliant"
          ],
          [
           "請參閱此處，瞭解我們收集的資料及其使用方式的摘要。",
           "12",
           "Providing a clear and concise summary of data processing activities is in line with the principles of fair and transparent processing (Article 5) and the requirements of Articles 12, 13, and 14.",
           "compliant"
          ],
          [
           "請參閱此處，瞭解我們收集的資料及其使用方式的摘要。",
           "13",
           "Providing a clear and concise summary of data processing activities is in line with the principles of fair and transparent processing (Article 5) and the requirements of Articles 12, 13, and 14.",
           "compliant"
          ],
          [
           "請參閱此處，瞭解我們收集的資料及其使用方式的摘要。",
           "14",
           "Providing a clear and concise summary of data processing activities is in line with the principles of fair and transparent processing (Article 5) and the requirements of Articles 12, 13, and 14.",
           "compliant"
          ],
          [
           "Uber 會從以下來源收集以下資料：\n1. 使用者提供的資料。這包括：",
           "6(1)(a)",
           "Collecting data directly from users with their consent aligns with the lawful basis of consent under Article 6(1)(a).",
           "compliant"
          ],
          [
           "位在美國的使用者：請參閱此處，瞭解 Uber 根據美國州政府隱私權法規 (包括《加州消費者隱私法》) 所採取的隱私權處理方式。\n華盛頓州和內華達州的使用者：請參閱此處，瞭解 Uber 根據這些州的隱私法收集和使用消費者健康資料的相關做法。",
           "3",
           "While mentioning state laws is not inherently non-compliant, the GDPR has territorial scope (Article 3) and applies to data processing of individuals in the EU/EEA. The policy should clearly state how GDPR rights apply to users in those regions, regardless of US state laws.",
           "non-compliant"
          ],
          [
           "位在美國的使用者：請參閱此處，瞭解 Uber 根據美國州政府隱私權法規 (包括《加州消費者隱私法》) 所採取的隱私權處理方式。\n華盛頓州和內華達州的使用者：請參閱此處，瞭解 Uber 根據這些州的隱私法收集和使用消費者健康資料的相關做法。",
           "4",
           "While mentioning state laws is not inherently non-compliant, the GDPR has territorial scope (Article 3) and applies to data processing of individuals in the EU/EEA. The policy should clearly state how GDPR rights apply to users in those regions, regardless of US state laws.",
           "non-compliant"
          ],
          [
           "若對我們在特定國家或地區的做法有任何疑問，請在此處聯絡我們。",
           "13",
           "The policy should provide specific contact details for data protection inquiries, ideally including a Data Protection Officer (DPO) if required under Article 37.",
           "non-compliant"
          ],
          [
           "若對我們在特定國家或地區的做法有任何疑問，請在此處聯絡我們。",
           "14",
           "The policy should provide specific contact details for data protection inquiries, ideally including a Data Protection Officer (DPO) if required under Article 37.",
           "non-compliant"
          ],
          [
           "帳戶資訊： 我們會在使用者建立或更新 Uber 帳戶，或是透過賓客身分結帳功能下訂單時收集資料。這包括姓名、電子郵件地址、電話號碼、登入名稱與密碼、地址、基本資料相片、付款或銀行資訊 (包括相關付款驗證資訊)、使用者設定 (包括無障礙設定)，以及 Uber 合作夥伴常客獎勵方案資訊。",
           "5",
           "The policy needs to specify the legal basis for processing each data category (e.g., consent, contract performance, legitimate interests). It should also clarify data retention periods and the purposes of processing.",
           "non-compliant"
          ],
          [
           "帳戶資訊： 我們會在使用者建立或更新 Uber 帳戶，或是透過賓客身分結帳功能下訂單時收集資料。這包括姓名、電子郵件地址、電話號碼、登入名稱與密碼、地址、基本資料相片、付款或銀行資訊 (包括相關付款驗證資訊)、使用者設定 (包括無障礙設定)，以及 Uber 合作夥伴常客獎勵方案資訊。",
           "6",
           "The policy needs to specify the legal basis for processing each data category (e.g., consent, contract performance, legitimate interests). It should also clarify data retention periods and the purposes of processing.",
           "non-compliant"
          ],
          [
           "對於駕駛與合作外送夥伴而言，這也包含其車輛或保險資訊、緊急聯絡人資訊，以及使用 Uber App 提供服務所需之健康或資格證明。",
           "9",
           "Collecting health data and other special categories of data (Article 9) requires a specific legal basis and safeguards. The policy should explicitly address this.",
           "non-compliant"
          ],
          [
           "背景調查資訊 (職業駕駛與合作外送夥伴)： 這包括在職業駕駛/合作外送夥伴線上開通流程期間送出的資訊，例如駕駛記錄或犯罪記錄 (在法律允許範圍內)、駕照狀態、已知別名、先前的地址，以及工作權等資訊。",
           "5",
           "Processing criminal history data and other sensitive information requires a specific legal basis and adherence to the principles of data minimization and purpose limitation (Article 5). The policy should justify the necessity and proportionality of collecting such data.",
           "non-compliant"
          ],
          [
           "背景調查資訊 (職業駕駛與合作外送夥伴)： 這包括在職業駕駛/合作外送夥伴線上開通流程期間送出的資訊，例如駕駛記錄或犯罪記錄 (在法律允許範圍內)、駕照狀態、已知別名、先前的地址，以及工作權等資訊。",
           "10",
           "Processing criminal history data and other sensitive information requires a specific legal basis and adherence to the principles of data minimization and purpose limitation (Article 5). The policy should justify the necessity and proportionality of collecting such data.",
           "non-compliant"
          ],
          [
           "Uber 的部分服務和功能要求我們與其他使用者分享資料，或應使用者要求或徵得使用者或其他使用者之同意。",
           "6(1)(a)",
           "Consent, Legitimate Interests",
           "compliant"
          ],
          [
           "Uber 的部分服務和功能要求我們與其他使用者分享資料，或應使用者要求或徵得使用者或其他使用者之同意。",
           "6(1)(b)",
           "Consent, Legitimate Interests",
           "compliant"
          ],
          [
           "基於法律因素，或關於索賠或糾紛等原由，我們也可能與附屬公司、子公司和合作夥伴分享此類資料。",
           "6(1)(c)",
           "Legal Obligation, Legitimate Interests",
           "compliant"
          ],
          [
           "基於法律因素，或關於索賠或糾紛等原由，我們也可能與附屬公司、子公司和合作夥伴分享此類資料。",
           "6(1)(f)",
           "Legal Obligation, Legitimate Interests",
           "compliant"
          ],
          [
           "與職業駕駛分享乘客名字、評分、以及上下車地點。",
           "6(1)(b)",
           "Necessary for the performance of a contract",
           "compliant"
          ],
          [
           "向餐廳或商家提供訂單收件人的名字、外送地址和訂單資訊，包括藥物處方、特殊需求、過敏狀況或食物偏好)；如果是外送訂單，則會向合作外送夥伴提供上述資訊。",
           "6(1)(b)",
           "Necessary for the performance of a contract",
           "compliant"
          ],
          [
           "與其他共乘乘客分享乘客名字。共乘行程的乘客亦得看到其他乘客的下車地點。",
           "5(1)(c)",
           "Data Minimisation",
           "non-compliant"
          ],
          [
           "團體訂單中其他收件人的訂單收件人姓名和訂單詳細資訊，包括訂購的餐點、過敏狀況或食物偏好以及特別說明。",
           "5(1)(c)",
           "Data Minimisation",
           "non-compliant"
          ],
          [
           "在法律允許範圍內，我們也可能與合作餐廳和商家分享評分、意見回饋或其他資訊；若為訂單外送服務，則會與合作外送夥伴分享上述資訊。",
           "7",
           "Conditions for Consent",
           "non-compliant"
          ],
          [
           "在法律允許範圍內，我們也可能與合作餐廳和商家分享評分、意見回饋或其他資訊；若為訂單外送服務，則會與合作外送夥伴分享上述資訊。",
           "6(1)(a)",
           "Conditions for Consent",
           "non-compliant"
          ],
          [
           "我們可能將職業駕駛與合作外送夥伴的資料分享給乘客、訂單收件人與合作餐廳或商家，這些資料包括姓名和相片、車輛廠牌、車款、顏色、車牌號碼和車輛相片、位置 (行程前和行程途中)、使用者提供的平均評分、行程總數、使用者註冊成為職業駕駛或合作外送夥伴的時間長度、聯絡資訊，以及職業駕駛或合作外送夥伴基本資料，包含好評和過去使用者提交的其他意見回饋。",
           "5(1)(c)",
           "Data Minimisation",
           "non-compliant"
          ],
          [
           "參加我們推薦方案的使用者。例如，若使用者推薦另一名人士，我們會從該使用者收到推薦對象的資料。",
           "6(1)(a)",
           "Consent of the data subject",
           "compliant"
          ],
          [
           "為其他使用者或代表其他使用者 (例如朋友或家庭成員) 使用叫車服務，或允許其他使用者透過自己的企業帳戶 (例如企業顧客) 申請或接受服務的 Uber 帳戶擁有者。",
           "6(1)(a)",
           "Consent of the data subject",
           "compliant"
          ],
          [
           "提供有關索賠或異議資訊的使用者或其他人。",
           "6(1)(f)",
           "Legitimate interests of the controller or a third party",
           "compliant"
          ],
          [
           "使用者建立或存取 Uber 帳戶時經由的 Uber 業務合作夥伴，例如：付款供應商、社群媒體服務，或使用 Uber API 或提供 API 給 Uber 使用的 App 或網站。",
           "6(1)(b) or (f)",
           "Necessary for the performance of a contract or Legitimate interests",
           "compliant"
          ],
          [
           "與 Uber 合作金融機構核發之簽帳金融卡或信用卡相關的 Uber 業務合作夥伴，並僅限於卡片條款與細則中揭露之業務合作夥伴。",
           "6(1)(b) or (f)",
           "Necessary for the performance of a contract or Legitimate interests",
           "compliant"
          ],
          [
           "服務供應商協助我們驗證使用者身分、背景資訊和工作資格、偵測詐騙行為，並根據制裁、洗錢防制或「瞭解顧客」相關規定來篩選使用者。",
           "6(1)(c) or (f)",
           "Legal obligation or Legitimate interests",
           "compliant"
          ],
          [
           "職業駕駛和/或合作外送夥伴的保險、車輛或財務服務供應商。",
           "6(1)(f)",
           "Legitimate interests of the controller or a third party",
           "compliant"
          ],
          [
           "合作多元化計程車隊/車行 (職業駕駛或合作外送夥伴會透過此類公司的關聯帳戶來使用我們的服務)。",
           "6(1)(f)",
           "Legitimate interests of the controller or a third party",
           "compliant"
          ],
          [
           "可用的公開來源。",
           "6(1)(f) and 9(2)(e)",
           "Legitimate interests and processing for archiving purposes in the public interest",
           "compliant"
          ],
          [
           "行銷合作夥伴和服務供應商，包括與現金回饋方案相關的銀行，以及資料轉售商。",
           "6(1)(a) or (f)",
           "Consent of the data subject or Legitimate interests",
           "compliant"
          ],
          [
           "資料轉售商",
           null,
           "Data selling is generally incompatible with GDPR principles, especially purpose limitation and data minimization.",
           "non-compliant"
          ],
          [
           "我們會與這些中間機構分享資料，包括廣告或裝置識別碼、已雜湊電子郵件地址、大略位置、目前的行程或訂單資訊，以及廣告互動資料，以進行其服務，並用於其隱私權聲明中所揭露之其他目的。使用者可在此處退出 Uber App 的個人化廣告服務。若要退出 Uber Eats App 的個人化廣告服務，請前往此處。如需詳細瞭解這些中間機構的隱私做法，包括如何向其提交處理其個人資料的要求，請參閱上方連結的隱私權聲明。",
           "13",
           "用戶必須明確同意數據處理。 必須向用戶提供關於數據處理目的、數據控制者以及他們權利的清晰且簡潔的信息。",
           "compliant"
          ],
          [
           "我們會與這些中間機構分享資料，包括廣告或裝置識別碼、已雜湊電子郵件地址、大略位置、目前的行程或訂單資訊，以及廣告互動資料，以進行其服務，並用於其隱私權聲明中所揭露之其他目的。使用者可在此處退出 Uber App 的個人化廣告服務。若要退出 Uber Eats App 的個人化廣告服務，請前往此處。如需詳細瞭解這些中間機構的隱私做法，包括如何向其提交處理其個人資料的要求，請參閱上方連結的隱私權聲明。",
           "14",
           "用戶必須明確同意數據處理。 必須向用戶提供關於數據處理目的、數據控制者以及他們權利的清晰且簡潔的信息。",
           "compliant"
          ],
          [
           "研究合作夥伴，包括與 Uber 合作、代表 Uber 調查或研究專案的合作夥伴。",
           "6(4)",
           "如果數據處理是基於合法利益，則必須確定並記錄合法利益。",
           "compliant"
          ],
          [
           "協助 Uber 強化 Uber App 和服務之安全防護的服務供應商。",
           "32",
           "數據控制者和數據處理者必須採取適當的技術和組織措施來確保數據安全。",
           "compliant"
          ],
          [
           "Uber 認為適用法律、規範、營業執照、協議、保單、法律程序或政府要求，或出於安全或類似疑慮而應適當揭露此類資訊時，Uber 得分享使用者的資料。",
           "6(1)(c)",
           "如果數據處理是遵守數據控制者必須遵守的法律義務所必需的，則允許數據處理。 如果數據處理是為了數據控制者或第三方的合法利益所必需的，並且這些利益沒有被數據主體的利益或基本權利和自由所覆蓋，則允許數據處理。",
           "compliant"
          ],
          [
           "Uber 認為適用法律、規範、營業執照、協議、保單、法律程序或政府要求，或出於安全或類似疑慮而應適當揭露此類資訊時，Uber 得分享使用者的資料。",
           "6(1)(f)",
           "如果數據處理是遵守數據控制者必須遵守的法律義務所必需的，則允許數據處理。 如果數據處理是為了數據控制者或第三方的合法利益所必需的，並且這些利益沒有被數據主體的利益或基本權利和自由所覆蓋，則允許數據處理。",
           "compliant"
          ],
          [
           "提供我們人工智慧和機器學習工具與服務的服務供應商。",
           "5(1)(a)",
           "數據處理必須指定、明確且合法，並且不得以與這些目的不相符的方式進一步處理。",
           "non-compliant"
          ],
          [
           "顧問公司、律師、會計師和其他專業服務供應商。保險和貸款合作夥伴。保險公司，處理使用者提出或回報之 Uber 服務相關保險索賠，以及調整或處理保險索賠之用。機場。腳踏車和滑板車 (可透過 Uber App 租賃) 供應商，例如 Lime 和 Tembici。第三方車輛供應商，包括合作車隊和租賃車行。",
           "12(1)",
           "數據控制者必須以簡潔、透明、易懂且易於訪問的形式，以清晰且簡潔的語言向數據主體提供有關數據處理的信息。",
           "non-compliant"
          ],
          [
           "我們會與子公司和附屬公司分享資料，以便他們協助提供服務或代表我們處理資料。例如，Uber 代表全球子公司和附屬公司在美國處理及儲存此類資料。",
           "44",
           "GDPR 第 44、45 和 46 條，這些條款概述了將個人資料傳輸到歐盟以外的第三國的規定，包括標準合約條款、行為準則和認證機制等適當的保護措施。",
           "compliant"
          ],
          [
           "我們會與子公司和附屬公司分享資料，以便他們協助提供服務或代表我們處理資料。例如，Uber 代表全球子公司和附屬公司在美國處理及儲存此類資料。",
           "45",
           "GDPR 第 44、45 和 46 條，這些條款概述了將個人資料傳輸到歐盟以外的第三國的規定，包括標準合約條款、行為準則和認證機制等適當的保護措施。",
           "compliant"
          ],
          [
           "我們會與子公司和附屬公司分享資料，以便他們協助提供服務或代表我們處理資料。例如，Uber 代表全球子公司和附屬公司在美國處理及儲存此類資料。",
           "46",
           "GDPR 第 44、45 和 46 條，這些條款概述了將個人資料傳輸到歐盟以外的第三國的規定，包括標準合約條款、行為準則和認證機制等適當的保護措施。",
           "compliant"
          ],
          [
           "若識別出第三方，請參閱其連結之隱私權聲明，瞭解其收集和使用個人資料的相關資訊。",
           "13",
           "GDPR 第 13 和 14 條，這些條款規定了資料控制者在收集個人資料時必須向資料主體提供的資訊，包括控制者和資料保護主管的聯絡方式、處理目的、法律依據、接收者類別等。",
           "compliant"
          ],
          [
           "若識別出第三方，請參閱其連結之隱私權聲明，瞭解其收集和使用個人資料的相關資訊。",
           "14",
           "GDPR 第 13 和 14 條，這些條款規定了資料控制者在收集個人資料時必須向資料主體提供的資訊，包括控制者和資料保護主管的聯絡方式、處理目的、法律依據、接收者類別等。",
           "compliant"
          ],
          [
           "為觸及或深入瞭解我們的使用者並評估廣告成效。",
           "5",
           "GDPR 第 5 條規定了資料處理的原則，包括資料最小化原則，即僅收集和處理達成特定、明確和合法目的所必需的個人資料。僅以\"觸及或深入瞭解使用者\"和\"評估廣告成效\"為目的收集個人資料過於模糊，可能違反資料最小化原則。",
           "non-compliant"
          ],
          [
           "這些機構讓 Uber 得以在 Uber App 中顯示第三方產品的個人化廣告，並評估這些廣告的成效。",
           "6",
           "GDPR 第 6 條規定了資料處理的法律依據，其中明確指出需要獲得資料主體的同意才能處理與直接行銷相關的個人資料。顯示個人化廣告屬於直接行銷的一部分，因此需要獲得明確的同意。",
           "non-compliant"
          ],
          [
           "代表 Facebook 和 TikTok 等社群媒體公司處理 Uber 在 Uber App 和網站中使用其工具的行為。",
           "28",
           "GDPR 第 28 條規定了資料處理者的義務，包括僅根據資料控制者的指示處理個人資料、確保參與處理的員工承擔保密義務、採取適當的技術和組織措施確保資料安全等。僅說明\"代表 Facebook 和 TikTok 等社群媒體公司處理行為\"不夠明確，可能違反資料處理者的義務。",
           "non-compliant"
          ],
          [
           "Uber 會收集和使用資料，藉此提供可靠方便的交通、外送和其他產品與服務。",
           "6(1)(b)",
           "Processing is necessary for the performance of a contract",
           "compliant"
          ],
          [
           "提升使用者和服務的安全保障",
           "6(1)(f)",
           "Processing is necessary for the purposes of the legitimate interests pursued by the controller or by a third party",
           "compliant"
          ],
          [
           "客服支援",
           "6(1)(f)",
           "Processing is necessary for the purposes of the legitimate interests pursued by the controller or by a third party",
           "compliant"
          ],
          [
           "研究與開發",
           "6(1)(f)",
           "Processing is necessary for the purposes of the legitimate interests pursued by the controller or by a third party, provided that such interests are not overridden by the interests or fundamental rights and freedoms of the data subject",
           "compliant"
          ],
          [
           "啟用使用者之間的通訊功能",
           "6(1)(a)",
           "Consent of the data subject",
           "compliant"
          ],
          [
           "法律程序相關事宜",
           "6(1)(c)",
           "Processing is necessary for compliance with a legal obligation to which the controller is subject",
           "compliant"
          ],
          [
           "Uber 會使用我們收集的資料：1. 提供我們的服務。Uber 會使用資料提供、個人化、維護及改善服務。這包含將資料用於下列事項：建立/更新帳戶。 啟用交通、外送和其他服務/功能",
           "6(1)(b)",
           "Processing is necessary for the performance of a contract",
           "compliant"
          ],
          [
           "執法人員、衛生主管機關和其他政府機關。",
           "6(1)(c)",
           "Processing is necessary for compliance with a legal obligation to which the controller is subject",
           "non-compliant"
          ],
          [
           "行銷和廣告",
           "6(1)(a)",
           "Consent of the data subject",
           "non-compliant"
          ],
          [
           "向使用者傳送非行銷通知",
           "6(1)(f)",
           "Processing is necessary for the purposes of the legitimate interests pursued by the controller or by a third party",
           "non-compliant"
          ],
          [
           "在某些國家/地區*，和/或與 Uber Pro 或 Uber One 等方案或 Uber 預約搭乘等產品相關時，系統也會根據取消率、評分和使用者行為資訊來確定配對狀況。",
           "22(1)",
           "The data subject shall have the right not to be subject to a decision based solely on automated processing, including profiling, which produces legal effects concerning him or her or similarly significantly affects him or her.",
           "non-compliant"
          ],
          [
           "身分驗證文件和相片：這包括政府核發的身分證件，例如駕駛執照或護照 (得包含身分證件相片和號碼、出生日期和性別)，以及使用者送出的相片，例如自拍照和基本資料相片。",
           "6(1)(b)",
           "處理資料是為履行與資料主體所簽訂之合約所必需，或在與資料主體簽訂合約前，應資料主體之要求採取措施所必需。\n處理資料是資料控制者為遵守其法律義務所必需。",
           "compliant"
          ],
          [
           "身分驗證文件和相片：這包括政府核發的身分證件，例如駕駛執照或護照 (得包含身分證件相片和號碼、出生日期和性別)，以及使用者送出的相片，例如自拍照和基本資料相片。",
           "6(1)(c)",
           "處理資料是為履行與資料主體所簽訂之合約所必需，或在與資料主體簽訂合約前，應資料主體之要求採取措施所必需。\n處理資料是資料控制者為遵守其法律義務所必需。",
           "compliant"
          ],
          [
           "使用族群資料：我們會在必要時收集人口統計資料，例如出生日期/年齡、性別或職業，以啟用某些功能，或提供對有年齡限制的產品或服務的存取權限。例如，驗證是否有資格使用 Uber Cash 點數 或 Uber Money 時，或在使用者購買酒類飲品或大麻產品時，我們會收集使用者的出生日期或年齡。",
           "6(1)(c)",
           "處理資料是資料控制者為遵守其法律義務所必需。\n處理資料是為基於歐盟或會員國法律所規範之目的，在遵守適當之保障措施的情況下，為執行資料控制者或其他自然人或法人之合法權益所必需，且此等權益不凌駕於資料主體之利益或基本權利和自由。",
           "compliant"
          ],
          [
           "使用族群資料：我們會在必要時收集人口統計資料，例如出生日期/年齡、性別或職業，以啟用某些功能，或提供對有年齡限制的產品或服務的存取權限。例如，驗證是否有資格使用 Uber Cash 點數 或 Uber Money 時，或在使用者購買酒類飲品或大麻產品時，我們會收集使用者的出生日期或年齡。",
           "9(2)(c)",
           "處理資料是資料控制者為遵守其法律義務所必需。\n處理資料是為基於歐盟或會員國法律所規範之目的，在遵守適當之保障措施的情況下，為執行資料控制者或其他自然人或法人之合法權益所必需，且此等權益不凌駕於資料主體之利益或基本權利和自由。",
           "compliant"
          ],
          [
           "使用者內容： 當使用者聯絡 Uber 客服支援、為使用者、餐廳或商家提供評分或意見回饋、使用允許使用者上傳內容或送出錄音的功能 (包括 App 內錄音，或行車紀錄器)，或以其他方式聯絡 Uber 時，我們會收集資料 (包括聊天記錄和通話錄音)。",
           "6(1)(f)",
           "處理資料是為執行資料控制者或第三人之合法權益所必需，但資料主體之利益或基本權利和自由不凌駕於此等權益，而此等權益和自由需要保護個人資料，尤其是在資料主體為兒童時。",
           "compliant"
          ],
          [
           "我們亦會收集或推斷 (使用名字) 性別資訊，讓女性或非二元性別使用者能夠指定向女性或非二元性別使用者提供或接受服務，以及行銷和廣告的偏好。",
           "9(1)",
           "除非符合 GDPR 第九條第二款所列之其中一項條件，否則禁止處理與種族、民族血統、政治立場、宗教或哲學信仰、工會會員資格、基因資料、生物特徵資料 (用於唯一識別自然人之生物特徵資料)、健康資料或性生活或性取向相關之個人資料。",
           "non-compliant"
          ],
          [
           "我們也會透過使用者問卷調查收集人口統計資料，例如年齡群組和家庭組成。",
           "5(1)(c)",
           "資料最小化：個人資料應與其處理目的相關且僅限於達成該等目的所需之範圍。",
           "non-compliant"
          ],
          [
           "請參閱此處 (乘客)、此處 (職業駕駛) 和 此處 (合作外送夥伴)，詳細瞭解如何確認並使用其他使用者所提供之評分。",
           "14(2)(d)",
           "當個人資料並非從資料主體收集時，資料控制者應向資料主體提供下列資訊：\n(d) 個人資料之來源，以及 (若適用) 該等資料是否來自公開可取得之來源。",
           "non-compliant"
          ],
          [
           "使用者可透過 Uber App 或 Uber 網站存取資料，包括基本資料，以及行程或訂單記錄。",
           "15 (Right of access by the data subject)",
           "The right for individuals to obtain confirmation as to whether or not personal data concerning him or her are being processed, and, where that is the case, access to the personal data and to certain information, including the purposes of the processing, the categories of personal data concerned, the recipients to whom the personal data have been or will be disclosed, and the envisaged period for which the personal data will be stored or the criteria used to determine that period.",
           "compliant"
          ],
          [
           "我們的「探索您的資料」功能，可讓使用者查看特定帳戶資訊的線上摘要，例如行程或訂單數、評分、獎勵狀態，以及成為 Uber 使用者天數。",
           "15 (Right of access by the data subject)",
           "The right for individuals to obtain confirmation as to whether or not personal data concerning him or her are being processed, and, where that is the case, access to the personal data and to certain information, including the purposes of the processing, the categories of personal data concerned, the recipients to whom the personal data have been or will be disclosed, and the envisaged period for which the personal data will be stored or the criteria used to determine that period.",
           "compliant"
          ],
          [
           "我們的下載您的資料功能可讓使用者下載最常用的 Uber 使用資料副本，包括帳戶、使用情況、通訊和裝置資料。",
           "20 (Right to data portability)",
           "The right to receive the personal data concerning him or her, which he or she has provided to a controller, in a structured, commonly used and machine-readable format and have the right to transmit those data to another controller without hindrance from the controller to which the personal data have been provided.",
           "compliant"
          ],
          [
           "使用者可在 Uber App 的「設定」選單或職業駕駛入口網站編輯姓名、電話號碼、電子郵件地址、付款方式，以及基本資料相片。",
           "16 (Right to rectification)",
           "The right to obtain from the controller without undue delay the rectification of inaccurate personal data concerning him or her.  Taking into account the purposes of the processing, the data subject shall have the right to have incomplete personal data completed, including by means of providing a supplementary statement.",
           "compliant"
          ],
          [
           "使用者可透過 Uber 的 隱私權中心要求刪除帳戶。",
           "17 (Right to erasure (\"right to be forgotten\"))",
           "The right to obtain from the controller the erasure of personal data concerning him or her without undue delay and the controller shall have the obligation to erase personal data without undue delay where one of a number of grounds applies, including if the personal data are no longer necessary in relation to the purposes for which they were collected or otherwise processed.",
           "compliant"
          ],
          [
           "此類資料在傳輸後仍須遵循 GDPR 或同等法規。使用者得就上述事宜聯絡 Uber，或索取適用標準合約條款的副本：此處為乘客和訂單收件人；此處為職業駕駛與合作外送夥伴)。",
           "44",
           "GDPR 規定，若要將個人資料傳輸到第三國，必須提供適當的保護措施，例如標準合約條款。",
           "compliant"
          ],
          [
           "此類資料在傳輸後仍須遵循 GDPR 或同等法規。使用者得就上述事宜聯絡 Uber，或索取適用標準合約條款的副本：此處為乘客和訂單收件人；此處為職業駕駛與合作外送夥伴)。",
           "45",
           "GDPR 規定，若要將個人資料傳輸到第三國，必須提供適當的保護措施，例如標準合約條款。",
           "compliant"
          ],
          [
           "此類資料在傳輸後仍須遵循 GDPR 或同等法規。使用者得就上述事宜聯絡 Uber，或索取適用標準合約條款的副本：此處為乘客和訂單收件人；此處為職業駕駛與合作外送夥伴)。",
           "46",
           "GDPR 規定，若要將個人資料傳輸到第三國，必須提供適當的保護措施，例如標準合約條款。",
           "compliant"
          ],
          [
           "此類資料在傳輸後仍須遵循 GDPR 或同等法規。使用者得就上述事宜聯絡 Uber，或索取適用標準合約條款的副本：此處為乘客和訂單收件人；此處為職業駕駛與合作外送夥伴)。",
           "49",
           "GDPR 規定，若要將個人資料傳輸到第三國，必須提供適當的保護措施，例如標準合約條款。",
           "compliant"
          ],
          [
           "使用者有權存取需要取得 Uber DPF 認證的個人資料。有關如何行使此權利的資訊，請參閱上文的「選擇與透明度」。",
           "12",
           "GDPR賦予個人存取其個人資料的權利。",
           "compliant"
          ],
          [
           "使用者有權存取需要取得 Uber DPF 認證的個人資料。有關如何行使此權利的資訊，請參閱上文的「選擇與透明度」。",
           "15",
           "GDPR賦予個人存取其個人資料的權利。",
           "compliant"
          ],
          [
           "Uber 負責將個人資料傳輸予第三方，但須經 Uber 認證。有關 Uber 得向其傳輸個人資料之各方的資訊，請參閱上文「資料分享與揭露」。",
           "44",
           "GDPR 要求在將個人資料傳輸給第三方時，必須採取適當的保護措施，例如標準合約條款或 Binding Corporate Rules。",
           "compliant"
          ],
          [
           "Uber 負責將個人資料傳輸予第三方，但須經 Uber 認證。有關 Uber 得向其傳輸個人資料之各方的資訊，請參閱上文「資料分享與揭露」。",
           "45",
           "GDPR 要求在將個人資料傳輸給第三方時，必須採取適當的保護措施，例如標準合約條款或 Binding Corporate Rules。",
           "compliant"
          ],
          [
           "Uber 負責將個人資料傳輸予第三方，但須經 Uber 認證。有關 Uber 得向其傳輸個人資料之各方的資訊，請參閱上文「資料分享與揭露」。",
           "46",
           "GDPR 要求在將個人資料傳輸給第三方時，必須採取適當的保護措施，例如標準合約條款或 Binding Corporate Rules。",
           "compliant"
          ],
          [
           "根據適用法律，Uber 必須根據法律程序或政府要求 (包括執法部門的要求) 分享使用者資料，包括得需經 Uber 認證的使用者資料。",
           null,
           null,
           "non-compliant"
          ],
          [
           "我們的隱私權處理方式受營運所在地適用的法規約束。這表示只有在特定國家或地區的法律許可時，我們才會在當地進行本聲明所述的資料處理行為。",
           "3",
           "This statement indicates their data processing is subject to territorial scope of GDPR, as stipulated in Article 3. It also suggests their data processing will be based on a legal basis, as required by Article 4.",
           "compliant"
          ],
          [
           "我們的隱私權處理方式受營運所在地適用的法規約束。這表示只有在特定國家或地區的法律許可時，我們才會在當地進行本聲明所述的資料處理行為。",
           "4",
           "This statement indicates their data processing is subject to territorial scope of GDPR, as stipulated in Article 3. It also suggests their data processing will be based on a legal basis, as required by Article 4.",
           "compliant"
          ],
          [
           "在本聲明中，所有受本聲明約束的對象皆稱為「使用者」。",
           "12",
           "While this statement aims to define data subjects, it lacks clarity and plain language required by GDPR for transparency and intelligibility (Article 12, Recital 58).",
           "non-compliant"
          ],
          [
           "在本聲明中，所有受本聲明約束的對象皆稱為「使用者」。",
           "Recital 58",
           "While this statement aims to define data subjects, it lacks clarity and plain language required by GDPR for transparency and intelligibility (Article 12, Recital 58).",
           "non-compliant"
          ],
          [
           "例如，我們得收集的資料包括：Uber Eats 或Postmates 平台餐廳或其他商家業主或員工之聯絡資訊、管理及使用企業顧客帳戶之個人的聯絡資訊，或已開始但未完成職業駕駛或合作外送夥伴線上開通之個人的資料。",
           "5",
           "This section lists categories of data collected but lacks specificity and purpose limitation as required by Article 5. It's unclear why this data is collected and for how long.",
           "non-compliant"
          ],
          [
           "位在阿根廷的使用者：根據第 25.326 法令規定，公共資訊存取機構做為監管機構，在任何資料當事人認定其權益因違反當地資料保護規範之事件而受到影響時，機構須負責接受當事者提出之投訴及舉報。\n澳洲使用者：您得在此處聯絡 Uber，瞭解我們遵循澳洲隱私權原則的情況。Uber 客服和/或相關隱私權團隊會在合理時間內處理此類聯絡。您亦得在此處聯絡澳洲資訊專員辦公室，就此類合規事宜提出疑慮。\n位在巴西的使用者：請參閱此處，瞭解 Uber 根據巴西《一般資料保護法》 (Lei Geral de Proteção de Dados - LGPD) 所採取的隱私權處理方式。",
           "12",
           "While providing contact information for data subjects in specific regions is good practice, it lacks a comprehensive approach for all users to exercise their rights as stipulated in Article 12. Additionally, it doesn't explicitly mention the designated Data Protection Officer (DPO) and their contact details, which is required under Article 30 for organizations subject to GDPR.",
           "non-compliant"
          ],
          [
           "位在阿根廷的使用者：根據第 25.326 法令規定，公共資訊存取機構做為監管機構，在任何資料當事人認定其權益因違反當地資料保護規範之事件而受到影響時，機構須負責接受當事者提出之投訴及舉報。\n澳洲使用者：您得在此處聯絡 Uber，瞭解我們遵循澳洲隱私權原則的情況。Uber 客服和/或相關隱私權團隊會在合理時間內處理此類聯絡。您亦得在此處聯絡澳洲資訊專員辦公室，就此類合規事宜提出疑慮。\n位在巴西的使用者：請參閱此處，瞭解 Uber 根據巴西《一般資料保護法》 (Lei Geral de Proteção de Dados - LGPD) 所採取的隱私權處理方式。",
           "Recital 58",
           "While providing contact information for data subjects in specific regions is good practice, it lacks a comprehensive approach for all users to exercise their rights as stipulated in Article 12. Additionally, it doesn't explicitly mention the designated Data Protection Officer (DPO) and their contact details, which is required under Article 30 for organizations subject to GDPR.",
           "non-compliant"
          ],
          [
           "位在阿根廷的使用者：根據第 25.326 法令規定，公共資訊存取機構做為監管機構，在任何資料當事人認定其權益因違反當地資料保護規範之事件而受到影響時，機構須負責接受當事者提出之投訴及舉報。\n澳洲使用者：您得在此處聯絡 Uber，瞭解我們遵循澳洲隱私權原則的情況。Uber 客服和/或相關隱私權團隊會在合理時間內處理此類聯絡。您亦得在此處聯絡澳洲資訊專員辦公室，就此類合規事宜提出疑慮。\n位在巴西的使用者：請參閱此處，瞭解 Uber 根據巴西《一般資料保護法》 (Lei Geral de Proteção de Dados - LGPD) 所採取的隱私權處理方式。",
           "30",
           "While providing contact information for data subjects in specific regions is good practice, it lacks a comprehensive approach for all users to exercise their rights as stipulated in Article 12. Additionally, it doesn't explicitly mention the designated Data Protection Officer (DPO) and their contact details, which is required under Article 30 for organizations subject to GDPR.",
           "non-compliant"
          ],
          [
           "Uber will use data from users in Nigeria to perform the terms of the agreement it has with those users or where consent has been provided by those users.",
           "6(1)(b)",
           "Processing is lawful if it is necessary for the performance of a contract, Processing is lawful if the data subject has given consent to the processing of his or her personal data for one or more specific purposes",
           "compliant"
          ],
          [
           "Uber will use data from users in Nigeria to perform the terms of the agreement it has with those users or where consent has been provided by those users.",
           "6(1)(a)",
           "Processing is lawful if it is necessary for the performance of a contract, Processing is lawful if the data subject has given consent to the processing of his or her personal data for one or more specific purposes",
           "compliant"
          ],
          [
           "For users in Colombia, Honduras, and Jamaica: \"Riders\" and \"driver partners\" are referred to as \"Renters\" and \"Lessors,\" respectively, in this Statement.",
           "4(1)",
           "Personal data shall be processed lawfully, fairly and in a transparent manner in relation to the data subject ('lawfulness, fairness and transparency')",
           "non-compliant"
          ],
          [
           "For users in the European Economic Area (\"EEA\"), the United Kingdom (\"UK\"), and Switzerland: Due to data protection and other laws in those locations, including the European Union General Data Protection Regulation (GDPR), Uber does not engage in certain of the data collection and use described in this Statement in the European Economic Area, the United Kingdom, or Switzerland. Such data collection and use are marked with an asterisk (*) below.",
           null,
           null,
           "non-compliant"
          ],
          [
           "For users in Mexico: See here for how Uber protects privacy under the Mexican law on the protection of personal data (Ley Federal de Protección de Datos Personales en Posesión de los Particulares) and here for information on how Uber Money processes personal data.",
           "13(1)(f)",
           "The controller shall take appropriate technical and organisational measures for ensuring that, by default, only personal data which are necessary for each specific purpose of the processing are processed.  The controller shall provide means for the data subject to request from the controller without undue delay the rectification of inaccurate personal data or the completion of personal data.",
           "non-compliant"
          ],
          [
           "For users in Mexico: See here for how Uber protects privacy under the Mexican law on the protection of personal data (Ley Federal de Protección de Datos Personales en Posesión de los Particulares) and here for information on how Uber Money processes personal data.",
           "14(1)",
           "The controller shall take appropriate technical and organisational measures for ensuring that, by default, only personal data which are necessary for each specific purpose of the processing are processed.  The controller shall provide means for the data subject to request from the controller without undue delay the rectification of inaccurate personal data or the completion of personal data.",
           "non-compliant"
          ],
          [
           "For users in Switzerland: Uber Switzerland GmbH (Dreiköningstrasse 31A, 8002 Zurich, Switzerland) is the designated representative of Uber for purposes of the Federal Act on Data Protection and you may contact it here or by mail for matters relating to that law.",
           "13(1)(a)",
           "Taking into account the state of the art, the costs of implementation and the nature, scope, context and purposes of processing as well as the risk of varying likelihood and severity for the rights and freedoms of natural persons, the controller shall implement appropriate technical and organisational measures to ensure a level of security appropriate to the risk,  the ability to ensure the ongoing confidentiality, integrity, availability and resilience of processing systems and services",
           "non-compliant"
          ],
          [
           "For users in Switzerland: Uber Switzerland GmbH (Dreiköningstrasse 31A, 8002 Zurich, Switzerland) is the designated representative of Uber for purposes of the Federal Act on Data Protection and you may contact it here or by mail for matters relating to that law.",
           "13(2)(a)",
           "Taking into account the state of the art, the costs of implementation and the nature, scope, context and purposes of processing as well as the risk of varying likelihood and severity for the rights and freedoms of natural persons, the controller shall implement appropriate technical and organisational measures to ensure a level of security appropriate to the risk,  the ability to ensure the ongoing confidentiality, integrity, availability and resilience of processing systems and services",
           "non-compliant"
          ],
          [
           "這包括在美國的 Uber 伺服器上處理您的資料，以及全球傳輸或允許存取您資料的權限，以便：\n隨時隨地為您提供服務。\n讓您隨時隨地存取您的資訊，例如行程/訂單記錄。\n提供 Uber 客服人員的聯絡權限和回應。",
           "6(1)(b)",
           "處理資料的特定法律依據（提供服務、客戶支援）",
           "compliant"
          ],
          [
           "這包括在美國的 Uber 伺服器上處理您的資料，以及全球傳輸或允許存取您資料的權限，以便：\n隨時隨地為您提供服務。\n讓您隨時隨地存取您的資訊，例如行程/訂單記錄。\n提供 Uber 客服人員的聯絡權限和回應。",
           "6(1)(c)",
           "處理資料的特定法律依據（提供服務、客戶支援）",
           "compliant"
          ],
          [
           "視需要回應政府或執法機關的資訊要求。",
           "6(1)(c)",
           "處理資料的特定法律依據（法律義務）",
           "compliant"
          ],
          [
           "不論使用者身在何處、在何處或由誰處理個人資料，Uber 致力於保護使用者的個人資料。這包括實施保護使用者資料的全球性措施，包括：\n保護傳輸中的使用者資料 (包括透過加密方式) 和靜止時的使用者資料。\n強制要求全公司針對隱私和資料安全進行培訓。\n實施內部政策和程序，來限制對使用者資料的存取和使用。",
           "5",
           "資料保護原則、資料控制者的責任、安全性",
           "compliant"
          ],
          [
           "不論使用者身在何處、在何處或由誰處理個人資料，Uber 致力於保護使用者的個人資料。這包括實施保護使用者資料的全球性措施，包括：\n保護傳輸中的使用者資料 (包括透過加密方式) 和靜止時的使用者資料。\n強制要求全公司針對隱私和資料安全進行培訓。\n實施內部政策和程序，來限制對使用者資料的存取和使用。",
           "24",
           "資料保護原則、資料控制者的責任、安全性",
           "compliant"
          ],
          [
           "不論使用者身在何處、在何處或由誰處理個人資料，Uber 致力於保護使用者的個人資料。這包括實施保護使用者資料的全球性措施，包括：\n保護傳輸中的使用者資料 (包括透過加密方式) 和靜止時的使用者資料。\n強制要求全公司針對隱私和資料安全進行培訓。\n實施內部政策和程序，來限制對使用者資料的存取和使用。",
           "32",
           "資料保護原則、資料控制者的責任、安全性",
           "compliant"
          ],
          [
           "除非法律規定、安全面臨迫在眉睫的威脅，或使用者已同意存取，否則會限制政府和執法部門存取使用者資料。請參閱 Uber 的 透明度報告，詳細瞭解我們在執法要求方面的做法。",
           "15",
           "存取權、透明度",
           "compliant"
          ],
          [
           "除非法律規定、安全面臨迫在眉睫的威脅，或使用者已同意存取，否則會限制政府和執法部門存取使用者資料。請參閱 Uber 的 透明度報告，詳細瞭解我們在執法要求方面的做法。",
           "12(1)",
           "存取權、透明度",
           "compliant"
          ],
          [
           "當我們從歐洲經濟區、英國和瑞士傳輸使用者資料時，我們會根據以下需要，履行與使用者之間的協議、同意、關於傳輸國家/地區的充分決定 (可在此處、此處或此處查看)，以及例如歐盟委員會採用之標準合約條款 (及英國和瑞士核准之同等條款) 和歐盟-美國等傳輸機制。資料隱私框架 (「歐盟-美國DPF」)，英國延伸至歐盟-美國DPF 和瑞士-美國資料隱私框架 (「瑞士-美國DPF」)，美國商務部規定。",
           "44",
           "向第三國或國際組織傳輸資料的一般原則",
           "compliant"
          ],
          [
           "當我們從歐洲經濟區、英國和瑞士傳輸使用者資料時，我們會根據以下需要，履行與使用者之間的協議、同意、關於傳輸國家/地區的充分決定 (可在此處、此處或此處查看)，以及例如歐盟委員會採用之標準合約條款 (及英國和瑞士核准之同等條款) 和歐盟-美國等傳輸機制。資料隱私框架 (「歐盟-美國DPF」)，英國延伸至歐盟-美國DPF 和瑞士-美國資料隱私框架 (「瑞士-美國DPF」)，美國商務部規定。",
           "45",
           "向第三國或國際組織傳輸資料的一般原則",
           "compliant"
          ],
          [
           "當我們從歐洲經濟區、英國和瑞士傳輸使用者資料時，我們會根據以下需要，履行與使用者之間的協議、同意、關於傳輸國家/地區的充分決定 (可在此處、此處或此處查看)，以及例如歐盟委員會採用之標準合約條款 (及英國和瑞士核准之同等條款) 和歐盟-美國等傳輸機制。資料隱私框架 (「歐盟-美國DPF」)，英國延伸至歐盟-美國DPF 和瑞士-美國資料隱私框架 (「瑞士-美國DPF」)，美國商務部規定。",
           "46",
           "向第三國或國際組織傳輸資料的一般原則",
           "compliant"
          ],
          [
           "職業駕駛則可在職業駕駛端 App 內點選基本資料相片，藉此查看自己的平均評分。如需更多資訊，請按一下此處。",
           "151",
           "Right of access",
           "compliant"
          ],
          [
           "職業駕駛則可在職業駕駛端 App 內點選基本資料相片，藉此查看自己的平均評分。如需更多資訊，請按一下此處。",
           "152",
           "Right of access",
           "compliant"
          ],
          [
           "合作外送夥伴可能也會收到訂單收件人、合作餐廳和商家的評分。",
           "151",
           "Right of access",
           "compliant"
          ],
          [
           "合作外送夥伴可能也會收到訂單收件人、合作餐廳和商家的評分。",
           "152",
           "Right of access",
           "compliant"
          ],
          [
           "Uber 會提供下列選項，讓使用者決定他們的資料如何用於行銷和廣告：",
           "21",
           "Right to object",
           "compliant"
          ],
          [
           "Uber 的個人化行銷通知：使用者可在此處選擇 Uber 是否能使用其資料傳送有關 Uber 產品和服務的個人化通知 (例如電子郵件、推播通知和 App 內訊息)。使用者也可在此處選擇是否要接收 Uber 的任何行銷電子郵件或推播通知。",
           "61 (a)",
           "Lawfulness of processing, Right to object",
           "compliant"
          ],
          [
           "Uber 的個人化行銷通知：使用者可在此處選擇 Uber 是否能使用其資料傳送有關 Uber 產品和服務的個人化通知 (例如電子郵件、推播通知和 App 內訊息)。使用者也可在此處選擇是否要接收 Uber 的任何行銷電子郵件或推播通知。",
           "21",
           "Lawfulness of processing, Right to object",
           "compliant"
          ],
          [
           "資料分享與追蹤：使用者可在此處選擇 Uber 是否與第三方分享個人資料，或收集他們在第三方 App 或網站上的造訪和操作資料，以投放個人化廣告。",
           "61 (a)",
           "Lawfulness of processing, Right to object",
           "compliant"
          ],
          [
           "資料分享與追蹤：使用者可在此處選擇 Uber 是否與第三方分享個人資料，或收集他們在第三方 App 或網站上的造訪和操作資料，以投放個人化廣告。",
           "21",
           "Lawfulness of processing, Right to object",
           "compliant"
          ],
          [
           "個人化廣告：使用者可選擇 Uber 是否使用 Uber 行程、訂單或搜尋紀錄，來為他們在 Uber 或 Uber Eats 和 Postmates上看到的廣告提供個人化服務。",
           "61 (a)",
           "Lawfulness of processing, Right to object",
           "compliant"
          ],
          [
           "個人化廣告：使用者可選擇 Uber 是否使用 Uber 行程、訂單或搜尋紀錄，來為他們在 Uber 或 Uber Eats 和 Postmates上看到的廣告提供個人化服務。",
           "21",
           "Lawfulness of processing, Right to object",
           "compliant"
          ],
          [
           "如需更多資訊，請按一下此處。",
           "131 (a)",
           "Information to be provided where personal data are collected from the data subject, Transparency of information",
           "non-compliant"
          ],
          [
           "如需更多資訊，請按一下此處。",
           "132 (a)",
           "Information to be provided where personal data are collected from the data subject, Transparency of information",
           "non-compliant"
          ],
          [
           "如需更多資訊，請按一下此處。",
           "131 (a)",
           "Information to be provided where personal data are collected from the data subject, Transparency of information",
           "non-compliant"
          ],
          [
           "如需更多資訊，請按一下此處。",
           "132 (a)",
           "Information to be provided where personal data are collected from the data subject, Transparency of information",
           "non-compliant"
          ],
          [
           "Cookie 與相關技術：若要瞭解如何管理 Uber 使用 Cookie 和相關技術的方式 (包括用於顯示個人化廣告)，請參閱我們的 Cookie 聲明。",
           "121",
           "Transparent information, communication and modalities for the exercise of the data subject's rights, Information to be provided where personal data are collected from the data subject, Transparency of information",
           "non-compliant"
          ],
          [
           "Cookie 與相關技術：若要瞭解如何管理 Uber 使用 Cookie 和相關技術的方式 (包括用於顯示個人化廣告)，請參閱我們的 Cookie 聲明。",
           "131 (a)",
           "Transparent information, communication and modalities for the exercise of the data subject's rights, Information to be provided where personal data are collected from the data subject, Transparency of information",
           "non-compliant"
          ],
          [
           "Cookie 與相關技術：若要瞭解如何管理 Uber 使用 Cookie 和相關技術的方式 (包括用於顯示個人化廣告)，請參閱我們的 Cookie 聲明。",
           "132 (a)",
           "Transparent information, communication and modalities for the exercise of the data subject's rights, Information to be provided where personal data are collected from the data subject, Transparency of information",
           "non-compliant"
          ],
          [
           "9.2 我們將採取適當的技術措施，使閣下能夠控制我們如何使用閣下的個人資料。除了通過閣下的應用程式帳戶行使閣下的部分權利外，閣下還可以通過使用下方“聯繫我們”部分中列出的詳細資訊與我們聯繫來行使閣下的所有權利。",
           "15",
           "Right of access, right to rectification, right to erasure ('right to be forgotten'), right to restriction of processing, right to data portability, right to object",
           "compliant"
          ],
          [
           "9.2 我們將採取適當的技術措施，使閣下能夠控制我們如何使用閣下的個人資料。除了通過閣下的應用程式帳戶行使閣下的部分權利外，閣下還可以通過使用下方“聯繫我們”部分中列出的詳細資訊與我們聯繫來行使閣下的所有權利。",
           "16",
           "Right of access, right to rectification, right to erasure ('right to be forgotten'), right to restriction of processing, right to data portability, right to object",
           "compliant"
          ],
          [
           "9.2 我們將採取適當的技術措施，使閣下能夠控制我們如何使用閣下的個人資料。除了通過閣下的應用程式帳戶行使閣下的部分權利外，閣下還可以通過使用下方“聯繫我們”部分中列出的詳細資訊與我們聯繫來行使閣下的所有權利。",
           "17",
           "Right of access, right to rectification, right to erasure ('right to be forgotten'), right to restriction of processing, right to data portability, right to object",
           "compliant"
          ],
          [
           "9.2 我們將採取適當的技術措施，使閣下能夠控制我們如何使用閣下的個人資料。除了通過閣下的應用程式帳戶行使閣下的部分權利外，閣下還可以通過使用下方“聯繫我們”部分中列出的詳細資訊與我們聯繫來行使閣下的所有權利。",
           "18",
           "Right of access, right to rectification, right to erasure ('right to be forgotten'), right to restriction of processing, right to data portability, right to object",
           "compliant"
          ],
          [
           "9.2 我們將採取適當的技術措施，使閣下能夠控制我們如何使用閣下的個人資料。除了通過閣下的應用程式帳戶行使閣下的部分權利外，閣下還可以通過使用下方“聯繫我們”部分中列出的詳細資訊與我們聯繫來行使閣下的所有權利。",
           "19",
           "Right of access, right to rectification, right to erasure ('right to be forgotten'), right to restriction of processing, right to data portability, right to object",
           "compliant"
          ],
          [
           "9.2 我們將採取適當的技術措施，使閣下能夠控制我們如何使用閣下的個人資料。除了通過閣下的應用程式帳戶行使閣下的部分權利外，閣下還可以通過使用下方“聯繫我們”部分中列出的詳細資訊與我們聯繫來行使閣下的所有權利。",
           "20",
           "Right of access, right to rectification, right to erasure ('right to be forgotten'), right to restriction of processing, right to data portability, right to object",
           "compliant"
          ],
          [
           "9.2 我們將採取適當的技術措施，使閣下能夠控制我們如何使用閣下的個人資料。除了通過閣下的應用程式帳戶行使閣下的部分權利外，閣下還可以通過使用下方“聯繫我們”部分中列出的詳細資訊與我們聯繫來行使閣下的所有權利。",
           "21 GDPR",
           "Right of access, right to rectification, right to erasure ('right to be forgotten'), right to restriction of processing, right to data portability, right to object",
           "compliant"
          ],
          [
           "12.1 我們可能會不時更新本私隱條例以應對不斷變化的法律、技術或業務發展。當我們更新我們的私隱條例時，根據我們所做更改的重要性，我們將採取適當措施通知閣下。如果適用法律要求，我們將徵得閣下對任何重大私隱條例變更的同意。閣下可以通過查看本私隱條例頂部顯示的“最後更新”日期來查看本私隱條例的最後更新時間。",
           "13(3)",
           "Information to be provided where personal data are collected from the data subject, Information to be provided where personal data have not been obtained from the data subject",
           "compliant"
          ],
          [
           "12.1 我們可能會不時更新本私隱條例以應對不斷變化的法律、技術或業務發展。當我們更新我們的私隱條例時，根據我們所做更改的重要性，我們將採取適當措施通知閣下。如果適用法律要求，我們將徵得閣下對任何重大私隱條例變更的同意。閣下可以通過查看本私隱條例頂部顯示的“最後更新”日期來查看本私隱條例的最後更新時間。",
           "14 GDPR",
           "Information to be provided where personal data are collected from the data subject, Information to be provided where personal data have not been obtained from the data subject",
           "compliant"
          ],
          [
           "10. Cookie\n  請參閱我們的 Cookie 政策，可在此處獲得 Cookie 政策鏈接。",
           "7(4)",
           "Conditions for consent, requirements for valid consent,  specifically regarding cookies.",
           "non-compliant"
          ],
          [
           "10. Cookie\n  請參閱我們的 Cookie 政策，可在此處獲得 Cookie 政策鏈接。",
           "GDPR",
           "Conditions for consent, requirements for valid consent,  specifically regarding cookies.",
           "non-compliant"
          ],
          [
           "10. Cookie\n  請參閱我們的 Cookie 政策，可在此處獲得 Cookie 政策鏈接。",
           "ePrivacy Directive",
           "Conditions for consent, requirements for valid consent,  specifically regarding cookies.",
           "non-compliant"
          ],
          [
           "11. 第三方鏈接\n  11.1 有時，根據我們的判斷，我們可能會在我們的網站或應用程式上包含或提供指向第三方產品或服務的鏈接。\n  11.2 這些第三方網站有自己獨立的私隱條例和用戶條款，閣下必須在使用他們的服務之前查看這些條款。\n  11.3 我們對這些第三方鏈接網站或其產品和服務的內容和活動不承擔任何責任或義務。\n  11.4 我們力求保護我們網站和應用程式的可靠性，並歡迎對這些第三方鏈接提供任何回饋。",
           "28 GDPR",
           "Data processing agreements with third parties",
           "non-compliant"
          ],
          [
           "1. 介紹",
           "13",
           "Information to be provided where personal data are collected from the data subject.",
           "compliant"
          ],
          [
           "1. 介紹",
           "14",
           "Information to be provided where personal data are collected from the data subject.",
           "compliant"
          ],
          [
           "1.1本私隱條例介紹了Lalamove及其關聯公司（稱為“我們”、“我們的”和“Lalamove”）如何收集、儲存、處理、轉移和使用閣下的個人資料以及就該個人資料閣下享有哪些相應權利。",
           "12",
           "Transparent information, communication and modalities for the exercise of the rights of the data subject",
           "compliant"
          ],
          [
           "1.1本私隱條例介紹了Lalamove及其關聯公司（稱為“我們”、“我們的”和“Lalamove”）如何收集、儲存、處理、轉移和使用閣下的個人資料以及就該個人資料閣下享有哪些相應權利。",
           "13",
           "Transparent information, communication and modalities for the exercise of the rights of the data subject",
           "compliant"
          ],
          [
           "就本私隱條例而言，Lalamove 是指在閣下收到本私隱條例之日為閣下提供服務的特定實體。 （參見本協議附錄二Lalamove實體列表 ） 。",
           "13",
           "Information to be provided where personal data are collected from the data subject.",
           "compliant"
          ],
          [
           "1.2本隱私政策涉及我們在閣下使用或訪問我們的網路應用程式、移動應用程式（合稱 \"應用程式\"）和我們的網站（https://www.    ",
           "13",
           "The information to be provided to the data subject should also include the contact details of the controller and the data protection officer (if any).",
           "non-compliant"
          ],
          [
           "1.2 我們不會有意收集未成年人（即未年滿 18 歲或未達到當地相關司法管轄區具有完全法律行為能力的同等最低年齡的人）的任何個人資料，除非我們獲得了相關人士的事先同意（即該未成年人的合法監護人）。如果閣下基於閣下的監護人身份向我們披露了閣下監護的未成年人的個人資料，閣下在此同意我們收集和處理該未成年人的個人資料，接受並同意受本私隱條例的約束。如果我們得知我們收集或處理未成年人的個人資料未經監護人同意，我們將刪除此類個人資料。",
           "8",
           "Conditions applicable to child's consent in relation to information society services",
           "compliant"
          ],
          [
           "1.4 本私隱條例適用於（統稱為“閣下”或“閣下的”）的個人資料： (A) 訪問者：訪問我們網站、下載或訪問應用程式，但是不符合用戶定義（見下文）的個人； (B) 用戶：以下個人：(i) 使用、請求或接收服務； (ii) 通過我們的網站、應用程式、電話或其他通訊方式與我們聯繫； (iii) 參加我們的推廣或活動； (iv) 訂閱我們的更新或博客的個人； (C) 代理人：我們的企業客戶或商務合作夥伴的代表，例如車隊所有人、經理、管理人或其他車隊代表；和 (D) 司機：為利用我們的應用程式單獨或通過合作夥伴公司提供服務，向我們提供或提交申請的個人，無論隨後是否成功註冊為 Lalamove 司機。",
           "13",
           "Information to be provided where personal data are collected from the data subject",
           "compliant"
          ],
          [
           "lalamove.com/zh-tw/）時收集的關於閣下的個人資料。",
           "13",
           "Transparency and modalities; Information to be provided where personal data have not been obtained from the data subject",
           "non-compliant"
          ],
          [
           "lalamove.com/zh-tw/）時收集的關於閣下的個人資料。",
           "14",
           "Transparency and modalities; Information to be provided where personal data have not been obtained from the data subject",
           "non-compliant"
          ],
          [
           "1.3我們通過應用程式和網站平臺聯結用戶和司機（包括使用其他交通方式的個人），協助司機提供按需運送及購買服務（“服務”）。我們的應用程式和服務主要是為成人設計的。",
           "6",
           "Lawfulness of processing",
           "non-compliant"
          ],
          [
           "(A) 獲取有關處理閣下的個人資料和訪問我們持有的關於閣下的個人資料的資訊的權利；",
           "151",
           "Right of access by the data subject",
           "compliant"
          ],
          [
           "(A) 獲取有關處理閣下的個人資料和訪問我們持有的關於閣下的個人資料的資訊的權利；",
           "152",
           "Right of access by the data subject",
           "compliant"
          ],
          [
           "(A) 獲取有關處理閣下的個人資料和訪問我們持有的關於閣下的個人資料的資訊的權利；",
           "153",
           "Right of access by the data subject",
           "compliant"
          ],
          [
           "(B) 如果閣下的個人資料不准確或不完整，有權要求我們更正閣下的個人資料；",
           "16",
           "Right to rectification",
           "compliant"
          ],
          [
           "(C) 在特定情況下要求我們刪除、隔離或匿名化閣下的個人資料的權利。請閣下注意，如果我們基於適用法律法規的要求保留閣下的個人資料，我們可能因此無法滿足閣下刪除、隔離或匿名化閣下的個人資料的要求；",
           "171",
           "Right to erasure ('right to be forgotten')",
           "compliant"
          ],
          [
           "(C) 在特定情況下要求我們刪除、隔離或匿名化閣下的個人資料的權利。請閣下注意，如果我們基於適用法律法規的要求保留閣下的個人資料，我們可能因此無法滿足閣下刪除、隔離或匿名化閣下的個人資料的要求；",
           "173",
           "Right to erasure ('right to be forgotten')",
           "compliant"
          ],
          [
           "(D) 在特定情況下，有權要求以結構化、通用和機器可讀的格式發送一些個人資料至閣下和/或在技術上可行的情況下要求我們將這些數據傳輸給第三方。請注意，此權利僅適用於閣下提供給我們的個人資料；",
           "201",
           "Right to data portability",
           "compliant"
          ],
          [
           "(D) 在特定情況下，有權要求以結構化、通用和機器可讀的格式發送一些個人資料至閣下和/或在技術上可行的情況下要求我們將這些數據傳輸給第三方。請注意，此權利僅適用於閣下提供給我們的個人資料；",
           "202",
           "Right to data portability",
           "compliant"
          ],
          [
           "(D) 在特定情況下，有權要求以結構化、通用和機器可讀的格式發送一些個人資料至閣下和/或在技術上可行的情況下要求我們將這些數據傳輸給第三方。請注意，此權利僅適用於閣下提供給我們的個人資料；",
           "203",
           "Right to data portability",
           "compliant"
          ],
          [
           "(E) 撤回閣下對我們處理閣下的個人資料的同意的權利。但請注意，如果我們有其他正當理由（同意除外），我們仍然有權處理閣下的個人資料。例如，我們可能需要保留閣下的個人資料以履行法律義務；",
           "73",
           "Conditions for consent",
           "compliant"
          ],
          [
           "(F) 要求我們告知說明，閣下是否可以拒絕同意以及如拒絕同意所導致的後果。當同意被用作處理個人資料的法律依據時，閣下有權被告知閣下是否可以拒絕同意以及如拒絕同意所導致的後果；",
           "74",
           "Conditions for consent",
           "compliant"
          ],
          [
           "(J) 如果閣下認為我們侵犯了閣下的任何權利，閣下有權向主管當局提出投訴。",
           "77",
           "Right to lodge a complaint with a supervisory authority",
           "compliant"
          ],
          [
           "(G) 閣下有權反對或主動要求我們在某些情況下限制對閣下的個人資料的處理。在某些情況下，閣下可能反對或要求我們限制對閣下的個人數據的處理，但我們在法律上有權繼續處理閣下的個人數據和/或拒絕這一要求；",
           "18",
           "Right to restriction of processing",
           "non-compliant"
          ],
          [
           "(H) 要求我們提供我們收集的閣下的個人資料的相關歷史的權利；",
           "12",
           "Transparent information, communication and modalities for the exercise of the data subject's rights",
           "non-compliant"
          ],
          [
           "(H) 要求我們提供我們收集的閣下的個人資料的相關歷史的權利；",
           "13",
           "Transparent information, communication and modalities for the exercise of the data subject's rights",
           "non-compliant"
          ],
          [
           "(H) 要求我們提供我們收集的閣下的個人資料的相關歷史的權利；",
           "14",
           "Transparent information, communication and modalities for the exercise of the data subject's rights",
           "non-compliant"
          ],
          [
           "(I) 不接受完全自動化處理決策的權利；且",
           "22",
           "Automated individual decision-making, including profiling",
           "non-compliant"
          ],
          [
           "3. 除非我們得到閣下的同意，否則我們不會將本私隱條例第14.2段描述的個人資料直接促銷活動。",
           "6(1)(a)",
           "This aligns with GDPR's requirement for a lawful basis for processing data, specifically consent for direct marketing.",
           "compliant"
          ],
          [
           "3. 除非我們得到閣下的同意，否則我們不會將本私隱條例第14.2段描述的個人資料直接促銷活動。",
           "7",
           "This aligns with GDPR's requirement for a lawful basis for processing data, specifically consent for direct marketing.",
           "compliant"
          ],
          [
           "14.4 閣下可以隨時聯繫我們，要求我們停止將閣下的個人資料用於直接促銷目的：dpo.tw@lalamove.com，或以“取消訂閱”標題回復我們的任何直接促銷通訊。",
           "21(2)",
           "This aligns with GDPR's requirements for providing easy-to-use mechanisms for withdrawing consent and objecting to direct marketing.",
           "compliant"
          ],
          [
           "14.4 閣下可以隨時聯繫我們，要求我們停止將閣下的個人資料用於直接促銷目的：dpo.tw@lalamove.com，或以“取消訂閱”標題回復我們的任何直接促銷通訊。",
           "17(3)",
           "This aligns with GDPR's requirements for providing easy-to-use mechanisms for withdrawing consent and objecting to direct marketing.",
           "compliant"
          ],
          [
           "14.4 閣下可以隨時聯繫我們，要求我們停止將閣下的個人資料用於直接促銷目的：dpo.tw@lalamove.com，或以“取消訂閱”標題回復我們的任何直接促銷通訊。",
           "21(3)",
           "This aligns with GDPR's requirements for providing easy-to-use mechanisms for withdrawing consent and objecting to direct marketing.",
           "compliant"
          ],
          [
           "我們在此告知閣下我們將會使用閣下的個人資料進行如下直接促銷行為：\n我們自己的促銷活動。我們可能會在以下類別中向閣下促銷與閣下有關的服務、產品和主題：",
           "13(1)(c)",
           "While GDPR allows for legitimate interests as a basis for processing, the listed categories for direct marketing are too broad. GDPR requires specific and explicit communication of processing purposes.",
           "non-compliant"
          ],
          [
           "我們在此告知閣下我們將會使用閣下的個人資料進行如下直接促銷行為：\n我們自己的促銷活動。我們可能會在以下類別中向閣下促銷與閣下有關的服務、產品和主題：",
           "13(2)(b)",
           "While GDPR allows for legitimate interests as a basis for processing, the listed categories for direct marketing are too broad. GDPR requires specific and explicit communication of processing purposes.",
           "non-compliant"
          ],
          [
           "• 按需運送和購買相關的服務和產品。\n• 獎賞、獎勵或優惠計劃以及相關服務和產品。\n• 我們的聯合品牌合作夥伴和/或任何其他Lalamove主體的聯合品牌合作夥伴提供的服務和產品（這些聯合品牌合作夥伴的名稱可在相關服務和產品的申請表和/或廣告材料中找到）；以及\n• 用於慈善和/或非營利目的的捐贈和捐款。",
           "13(1)(c)",
           "The policy lacks transparency regarding the specific third parties involved in direct marketing activities. GDPR mandates clear identification of third parties, especially for joint controllers.",
           "non-compliant"
          ],
          [
           "• 按需運送和購買相關的服務和產品。\n• 獎賞、獎勵或優惠計劃以及相關服務和產品。\n• 我們的聯合品牌合作夥伴和/或任何其他Lalamove主體的聯合品牌合作夥伴提供的服務和產品（這些聯合品牌合作夥伴的名稱可在相關服務和產品的申請表和/或廣告材料中找到）；以及\n• 用於慈善和/或非營利目的的捐贈和捐款。",
           "13(2)(b)",
           "The policy lacks transparency regarding the specific third parties involved in direct marketing activities. GDPR mandates clear identification of third parties, especially for joint controllers.",
           "non-compliant"
          ],
          [
           "• 按需運送和購買相關的服務和產品。\n• 獎賞、獎勵或優惠計劃以及相關服務和產品。\n• 我們的聯合品牌合作夥伴和/或任何其他Lalamove主體的聯合品牌合作夥伴提供的服務和產品（這些聯合品牌合作夥伴的名稱可在相關服務和產品的申請表和/或廣告材料中找到）；以及\n• 用於慈善和/或非營利目的的捐贈和捐款。",
           "14",
           "The policy lacks transparency regarding the specific third parties involved in direct marketing activities. GDPR mandates clear identification of third parties, especially for joint controllers.",
           "non-compliant"
          ],
          [
           "這可能包括我們直接提供的服務及產品和任何其他 Lalamove主體和Lalamove的任何第三方合作夥伴提供的服務及產品，包括但不限於第三方獎賞、獎勵、合作品牌或優惠計劃供應商、我們或任何Lalamove實體的聯合品牌合作夥伴和任何慈善或非營利組織。",
           "13(1)(c)",
           "Similar to the previous point, this section lacks transparency about third-party involvement. The phrase \"any other Lalamove主體\" is too vague and doesn't meet GDPR's specificity requirements.",
           "non-compliant"
          ],
          [
           "這可能包括我們直接提供的服務及產品和任何其他 Lalamove主體和Lalamove的任何第三方合作夥伴提供的服務及產品，包括但不限於第三方獎賞、獎勵、合作品牌或優惠計劃供應商、我們或任何Lalamove實體的聯合品牌合作夥伴和任何慈善或非營利組織。",
           "13(2)(b)",
           "Similar to the previous point, this section lacks transparency about third-party involvement. The phrase \"any other Lalamove主體\" is too vague and doesn't meet GDPR's specificity requirements.",
           "non-compliant"
          ],
          [
           "這可能包括我們直接提供的服務及產品和任何其他 Lalamove主體和Lalamove的任何第三方合作夥伴提供的服務及產品，包括但不限於第三方獎賞、獎勵、合作品牌或優惠計劃供應商、我們或任何Lalamove實體的聯合品牌合作夥伴和任何慈善或非營利組織。",
           "14",
           "Similar to the previous point, this section lacks transparency about third-party involvement. The phrase \"any other Lalamove主體\" is too vague and doesn't meet GDPR's specificity requirements.",
           "non-compliant"
          ],
          [
           "(B) 司機：(1) 提供和維護我們的服務，例如：(a) 創建、更新和維護閣下在我們這裏註冊的帳戶；(b) 提供運輸和送貨服務；(c) 運輸追蹤；和(d) 就我們的服務或送貨提供及處理付款。",
           "6(1)(b)",
           "processing is necessary for the performance of a contract",
           "compliant"
          ],
          [
           "(B) 司機：(2) 監控我們的服務、應用程式和網站的使用；",
           "6(1)(f)",
           "processing is necessary for the purposes of the legitimate interests pursued by the controller or by a third party",
           "compliant"
          ],
          [
           "(B) 司機：(3) 幫助維護我們服務的安全、保障和可靠性，並防止犯罪和欺詐，例如篩選司機；",
           "6(1)(f)",
           "processing is necessary for the purposes of the legitimate interests pursued by the controller or by a third party",
           "compliant"
          ],
          [
           "(B) 司機：(6) 為了改進或開發我們的網站、服務和應用程式：我們可能會使用閣下的個人資料來開發新的特性和功能，為了改進我們的軟件和介面設計，我們可能會使用錯誤報告來改進安全功能； (67) 用於客戶服務：閣下的個人資料有助於我們更有效地回應閣下的客戶服務請求、接收反饋和支持需求；",
           "6(1)(f)",
           "processing is necessary for the purposes of the legitimate interests pursued by the controller or by a third party",
           "compliant"
          ],
          [
           "(B) 司機：(7) 用於研發：閣下的個人資料將幫助我們測試、研究、分析、協助產品開發或用於機器學習以改善閣下的使用體驗；",
           "6(1)(f)",
           "processing is necessary for the purposes of the legitimate interests pursued by the controller or by a third party",
           "compliant"
          ],
          [
           "(B) 司機：(8) 彙編閣下的統計數據及分析閣下的服務和應用程式使用情況；",
           "6(1)(f)",
           "processing is necessary for the purposes of the legitimate interests pursued by the controller or by a third party",
           "compliant"
          ],
          [
           "(B) 司機：(9)與我們的服務相關的非促銷通信，例如通知閣下有關我們的應用程式或服務的更改；",
           "6(1)(f)",
           "processing is necessary for the purposes of the legitimate interests pursued by the controller or by a third party",
           "compliant"
          ],
          [
           "(B) 司機：(10) 用於營運我們的業務：我們可能會使用閣下的個人資料來營運我們的業務（包括管理和維護存儲個人資料的資料庫）；",
           "6(1)(f)",
           "processing is necessary for the purposes of the legitimate interests pursued by the controller or by a third party",
           "compliant"
          ],
          [
           "(B) 司機：(11) 用於進行法律訴訟或回應監管機構、政府部門和其他公共機關的要求，或遵守我們的法律義務；",
           "6(1)(c)",
           "processing is necessary for compliance with a legal obligation to which the controller is subject",
           "compliant"
          ],
          [
           "(B) 司機：(13) 為司機提供福利，包括購買保險等。",
           "6(1)(f)",
           "processing is necessary for the purposes of the legitimate interests pursued by the controller or by a third party",
           "compliant"
          ],
          [
           "(B) 司機：(4) 為驗證司機帳戶、身份準確性及為符合數據安全性：我們可能會處理您提交的身份證照片、個人資料图片和照片，以保護您的帳戶、身份資料安全。 在某些地區，我們還可能使用面部識別技術來防止協力廠商未經授權或非法訪問司機帳戶；",
           "9",
           "Processing of special categories of personal data and biometric data requires specific legal basis and safeguards. Facial recognition for authentication may not be necessary and proportionate.",
           "non-compliant"
          ],
          [
           "(B) 司機：(4) 為驗證司機帳戶、身份準確性及為符合數據安全性：我們可能會處理您提交的身份證照片、個人資料图片和照片，以保護您的帳戶、身份資料安全。 在某些地區，我們還可能使用面部識別技術來防止協力廠商未經授權或非法訪問司機帳戶；",
           "10",
           "Processing of special categories of personal data and biometric data requires specific legal basis and safeguards. Facial recognition for authentication may not be necessary and proportionate.",
           "non-compliant"
          ],
          [
           "(B) 司機：(5) 就我們應用程式提供個性化體驗：識別閣下的偏好和行為有助於我們更好地瞭解閣下的個人需求和興趣，並為閣下提供更度身定制的服務。對於部分個性化的促銷活動，我們可能需要徵得閣下的同意。在需要徵得同意的情況下，我們只會在徵得閣下同意後開展促銷活動。如果閣下不希望收到此類資訊，閣下可以隨時選擇取消訂閱；",
           "6(1)(a)",
           "Consent must be freely given, specific, informed and unambiguous.  Bundling consent with other services is not permitted.",
           "non-compliant"
          ],
          [
           "(B) 司機：(5) 就我們應用程式提供個性化體驗：識別閣下的偏好和行為有助於我們更好地瞭解閣下的個人需求和興趣，並為閣下提供更度身定制的服務。對於部分個性化的促銷活動，我們可能需要徵得閣下的同意。在需要徵得同意的情況下，我們只會在徵得閣下同意後開展促銷活動。如果閣下不希望收到此類資訊，閣下可以隨時選擇取消訂閱；",
           "7(4)",
           "Consent must be freely given, specific, informed and unambiguous.  Bundling consent with other services is not permitted.",
           "non-compliant"
          ],
          [
           "(B) 司機：(12) 用於直接促銷，如果我們根據相關法律法規和本私隱條例第14條取得了閣下的同意；",
           "6(1)(a)",
           "Consent must be freely given, specific, informed and unambiguous.  It is unclear what Article 14 of the privacy policy refers to.",
           "non-compliant"
          ],
          [
           "(B) 司機：(12) 用於直接促銷，如果我們根據相關法律法規和本私隱條例第14條取得了閣下的同意；",
           "7(4)",
           "Consent must be freely given, specific, informed and unambiguous.  It is unclear what Article 14 of the privacy policy refers to.",
           "non-compliant"
          ],
          [
           "4.3 如果我們要將閣下的個人資料用於本私隱條例未涵蓋的其他目的，我們會根據適用法律的要求通知閣下並徵得閣下的事先同意，並確保閣下的個人資料的使用符合相關法律法規。",
           "6(4)",
           "Data subjects should be informed if their data will be further processed for a purpose other than that for which the personal data were collected.  Processing for another purpose is only lawful if it is compatible with the original purpose.  If the processing is incompatible, then a new legal basis is required (e.g., consent).",
           "compliant"
          ],
          [
           "4.3 如果我們要將閣下的個人資料用於本私隱條例未涵蓋的其他目的，我們會根據適用法律的要求通知閣下並徵得閣下的事先同意，並確保閣下的個人資料的使用符合相關法律法規。",
           "13(3)",
           "Data subjects should be informed if their data will be further processed for a purpose other than that for which the personal data were collected.  Processing for another purpose is only lawful if it is compatible with the original purpose.  If the processing is incompatible, then a new legal basis is required (e.g., consent).",
           "compliant"
          ],
          [
           "4.3 如果我們要將閣下的個人資料用於本私隱條例未涵蓋的其他目的，我們會根據適用法律的要求通知閣下並徵得閣下的事先同意，並確保閣下的個人資料的使用符合相關法律法規。",
           "14(4)",
           "Data subjects should be informed if their data will be further processed for a purpose other than that for which the personal data were collected.  Processing for another purpose is only lawful if it is compatible with the original purpose.  If the processing is incompatible, then a new legal basis is required (e.g., consent).",
           "compliant"
          ],
          [
           "4.4 當以下一項或多項的法律基礎適用時，我們會按照私隱條例所述的方式使用閣下的個人資料：\n  (A) 我們已徵得閣下的同意；\n(B) 我們需要這樣做以履行我們與閣下之間的合同義務；\n(C) 我們有必須履行的法律責任和監管義務；\n(D) 為了我們的合法利益，使用閣下的個人資料是必要的；\n(E) 為了應對公共衛生事件或保護自然人的切身利益；或\n(F) 我們有法律允許的其他法律依據來處理閣下的個人資料。",
           "6(1)",
           "This section lists several legal bases for processing personal data, which align with those outlined in Article 6(1) of the GDPR.",
           "compliant"
          ],
          [
           "4.6 除非我們事先徵得閣下的同意或基於適用法律許可的其他法律依據，我們不會將收集的個人資料出售、交換、共用、轉讓或提供給第三方用於他們自己的直接促銷目的。",
           "6(1)",
           "This aligns with the GDPR's requirements for a legal basis for processing, particularly for direct marketing purposes.  Consent must be freely given, specific, informed, and unambiguous.",
           "compliant"
          ],
          [
           "4.6 除非我們事先徵得閣下的同意或基於適用法律許可的其他法律依據，我們不會將收集的個人資料出售、交換、共用、轉讓或提供給第三方用於他們自己的直接促銷目的。",
           "7",
           "This aligns with the GDPR's requirements for a legal basis for processing, particularly for direct marketing purposes.  Consent must be freely given, specific, informed, and unambiguous.",
           "compliant"
          ],
          [
           "4.5 並非所有數據保護法都相同，因此並非所有第4.4條規定的法律依據適用於所有司法管轄區（例如，某些司法管轄區不允許合法利益作為法律依據）。我們將基於閣下所在司法管轄區的適用法律所允許的法律依據以處理閣下的個人資料。",
           "6(1)(f)",
           "While it's true that not all legal bases apply in all jurisdictions, the GDPR has specific requirements for relying on legitimate interests.  The policy should clearly state the legitimate interests pursued and demonstrate that these interests are not overridden by the interests or fundamental rights and freedoms of the data subject.",
           "non-compliant"
          ],
          [
           "4.5 並非所有數據保護法都相同，因此並非所有第4.4條規定的法律依據適用於所有司法管轄區（例如，某些司法管轄區不允許合法利益作為法律依據）。我們將基於閣下所在司法管轄區的適用法律所允許的法律依據以處理閣下的個人資料。",
           "Recital 47",
           "While it's true that not all legal bases apply in all jurisdictions, the GDPR has specific requirements for relying on legitimate interests.  The policy should clearly state the legitimate interests pursued and demonstrate that these interests are not overridden by the interests or fundamental rights and freedoms of the data subject.",
           "non-compliant"
          ],
          [
           "12.2 閣下應該定期查看本私隱條例。通過繼續使用我們的網站、我們的應用程式或服務，閣下將被視為已接受本私隱條例的更改或更新。如果閣下不同意對私隱條例進行的此類更改或更新，我們將無法為閣下提供對我們應用程式的訪問許可權或向閣下提供我們的服務。",
           "13(1)(c)",
           "Right to be informed, Transparency, Lawfulness of processing",
           "compliant"
          ],
          [
           "12.2 閣下應該定期查看本私隱條例。通過繼續使用我們的網站、我們的應用程式或服務，閣下將被視為已接受本私隱條例的更改或更新。如果閣下不同意對私隱條例進行的此類更改或更新，我們將無法為閣下提供對我們應用程式的訪問許可權或向閣下提供我們的服務。",
           "13(2)(a)",
           "Right to be informed, Transparency, Lawfulness of processing",
           "compliant"
          ],
          [
           "12.2 閣下應該定期查看本私隱條例。通過繼續使用我們的網站、我們的應用程式或服務，閣下將被視為已接受本私隱條例的更改或更新。如果閣下不同意對私隱條例進行的此類更改或更新，我們將無法為閣下提供對我們應用程式的訪問許可權或向閣下提供我們的服務。",
           "14(1)",
           "Right to be informed, Transparency, Lawfulness of processing",
           "compliant"
          ],
          [
           "12.2 閣下應該定期查看本私隱條例。通過繼續使用我們的網站、我們的應用程式或服務，閣下將被視為已接受本私隱條例的更改或更新。如果閣下不同意對私隱條例進行的此類更改或更新，我們將無法為閣下提供對我們應用程式的訪問許可權或向閣下提供我們的服務。",
           "14(2)(a)",
           "Right to be informed, Transparency, Lawfulness of processing",
           "compliant"
          ],
          [
           "13. 聯繫我們\n  13.1 歡迎所有與我們使用閣下的個人資料有關的評論、查詢、投訴、數據訪問請求或數據更正請求，請閣下發送至：https://www.lalamove.com/zh-tw/data-protection-officer?hsLang=zh-tw 。",
           "12",
           "Right of access, Right to rectification, Right to erasure ('right to be forgotten'), Right to restriction of processing, Right to data portability, Right to object, Rights in relation to automated decision making and profiling",
           "compliant"
          ],
          [
           "13. 聯繫我們\n  13.1 歡迎所有與我們使用閣下的個人資料有關的評論、查詢、投訴、數據訪問請求或數據更正請求，請閣下發送至：https://www.lalamove.com/zh-tw/data-protection-officer?hsLang=zh-tw 。",
           "15",
           "Right of access, Right to rectification, Right to erasure ('right to be forgotten'), Right to restriction of processing, Right to data portability, Right to object, Rights in relation to automated decision making and profiling",
           "compliant"
          ],
          [
           "13. 聯繫我們\n  13.1 歡迎所有與我們使用閣下的個人資料有關的評論、查詢、投訴、數據訪問請求或數據更正請求，請閣下發送至：https://www.lalamove.com/zh-tw/data-protection-officer?hsLang=zh-tw 。",
           "16",
           "Right of access, Right to rectification, Right to erasure ('right to be forgotten'), Right to restriction of processing, Right to data portability, Right to object, Rights in relation to automated decision making and profiling",
           "compliant"
          ],
          [
           "13. 聯繫我們\n  13.1 歡迎所有與我們使用閣下的個人資料有關的評論、查詢、投訴、數據訪問請求或數據更正請求，請閣下發送至：https://www.lalamove.com/zh-tw/data-protection-officer?hsLang=zh-tw 。",
           "17",
           "Right of access, Right to rectification, Right to erasure ('right to be forgotten'), Right to restriction of processing, Right to data portability, Right to object, Rights in relation to automated decision making and profiling",
           "compliant"
          ],
          [
           "13. 聯繫我們\n  13.1 歡迎所有與我們使用閣下的個人資料有關的評論、查詢、投訴、數據訪問請求或數據更正請求，請閣下發送至：https://www.lalamove.com/zh-tw/data-protection-officer?hsLang=zh-tw 。",
           "18",
           "Right of access, Right to rectification, Right to erasure ('right to be forgotten'), Right to restriction of processing, Right to data portability, Right to object, Rights in relation to automated decision making and profiling",
           "compliant"
          ],
          [
           "13. 聯繫我們\n  13.1 歡迎所有與我們使用閣下的個人資料有關的評論、查詢、投訴、數據訪問請求或數據更正請求，請閣下發送至：https://www.lalamove.com/zh-tw/data-protection-officer?hsLang=zh-tw 。",
           "19",
           "Right of access, Right to rectification, Right to erasure ('right to be forgotten'), Right to restriction of processing, Right to data portability, Right to object, Rights in relation to automated decision making and profiling",
           "compliant"
          ],
          [
           "13. 聯繫我們\n  13.1 歡迎所有與我們使用閣下的個人資料有關的評論、查詢、投訴、數據訪問請求或數據更正請求，請閣下發送至：https://www.lalamove.com/zh-tw/data-protection-officer?hsLang=zh-tw 。",
           "20",
           "Right of access, Right to rectification, Right to erasure ('right to be forgotten'), Right to restriction of processing, Right to data portability, Right to object, Rights in relation to automated decision making and profiling",
           "compliant"
          ],
          [
           "13. 聯繫我們\n  13.1 歡迎所有與我們使用閣下的個人資料有關的評論、查詢、投訴、數據訪問請求或數據更正請求，請閣下發送至：https://www.lalamove.com/zh-tw/data-protection-officer?hsLang=zh-tw 。",
           "21",
           "Right of access, Right to rectification, Right to erasure ('right to be forgotten'), Right to restriction of processing, Right to data portability, Right to object, Rights in relation to automated decision making and profiling",
           "compliant"
          ],
          [
           "14. 直接促銷\n  14.1 如果在與公司或其他商業主體的商務合作中，我們向閣下提供服務或與閣下產生互動，為了該公司或商業主體的需要以及基於閣下作為該公司或商業主體的人員身份，我們將直接向閣下推銷我們的網站、服務或應用程式。\n  14.2 如果我們向閣下個人提供服務或與閣下個人進行互動，我們將使用閣下的個人資料以推銷我們的網站、服務或應用程式。\n(A) 我們用於直接促銷目的的個人資料種類包括：\n(1) 閣下的姓名\n(2) 閣下的電郵地址\n(3) 閣下的電話號碼\n(4) 閣下的地址\n  (B) 我們使用閣下的個人資料進行的直接促銷活動包括：\n(1) 我們的博客更新和最新消息、動態\n(2) 推銷我們的網站、服務或應用程式\n(3) 我們舉辦的推廣活動\n(4) 我們的網站、服務或應用程式的更新\n(5) 就我們的網站、服務或應用程式進行的統計問卷和調查研究\n(6) 活動邀請\n(7) 節日問候\n(8) 我們網站、服務或應用程式的廣告\n(9) 帶獎勵的優惠計畫",
           "6(1)(a)",
           "Lawfulness of processing, Conditions for consent",
           "non-compliant"
          ],
          [
           "14. 直接促銷\n  14.1 如果在與公司或其他商業主體的商務合作中，我們向閣下提供服務或與閣下產生互動，為了該公司或商業主體的需要以及基於閣下作為該公司或商業主體的人員身份，我們將直接向閣下推銷我們的網站、服務或應用程式。\n  14.2 如果我們向閣下個人提供服務或與閣下個人進行互動，我們將使用閣下的個人資料以推銷我們的網站、服務或應用程式。\n(A) 我們用於直接促銷目的的個人資料種類包括：\n(1) 閣下的姓名\n(2) 閣下的電郵地址\n(3) 閣下的電話號碼\n(4) 閣下的地址\n  (B) 我們使用閣下的個人資料進行的直接促銷活動包括：\n(1) 我們的博客更新和最新消息、動態\n(2) 推銷我們的網站、服務或應用程式\n(3) 我們舉辦的推廣活動\n(4) 我們的網站、服務或應用程式的更新\n(5) 就我們的網站、服務或應用程式進行的統計問卷和調查研究\n(6) 活動邀請\n(7) 節日問候\n(8) 我們網站、服務或應用程式的廣告\n(9) 帶獎勵的優惠計畫",
           "7",
           "Lawfulness of processing, Conditions for consent",
           "non-compliant"
          ],
          [
           "3.2我們僅收集為實現本私隱條例第四條所述目的所必須的個人資料，我們不會收集非必要的個人資料，且不會過度地收集個人資料。",
           "5(1)(c)",
           "Data minimization: Processing of personal data must be adequate, relevant, and limited to what is necessary for the purposes for which they are processed.  Lawfulness, fairness and transparency: Processing of personal data must be lawful, fair, and transparent to the data subject.",
           "compliant"
          ],
          [
           "3.2我們僅收集為實現本私隱條例第四條所述目的所必須的個人資料，我們不會收集非必要的個人資料，且不會過度地收集個人資料。",
           "6(1)",
           "Data minimization: Processing of personal data must be adequate, relevant, and limited to what is necessary for the purposes for which they are processed.  Lawfulness, fairness and transparency: Processing of personal data must be lawful, fair, and transparent to the data subject.",
           "compliant"
          ],
          [
           "4. 我們如何使用閣下的個人資料？\n  4.1 我們可能會以下列形式收集、處理、編制和整理閣下的個人資料：\n  (A) 對於訪客、用戶和代理人：\n  (1) 個人檔案的記錄；\n(2) 使用我們服務的評論、記錄和報告，包括與客服的互動記錄；\n(3) 關於我們服務的付款記錄；\n(4) 我們的應用程式使用情況的記錄和報告，包括錯誤報告、推廣促銷以及登錄記錄；\n(5) 閣下的即時聊天歷史記錄以及對司機的反饋和評分；\n  (B) 對於司機：\n  (1) 個人檔案的記錄；\n(2) 使用我們服務的評論、記錄和報告，包括與客服、司機運營、地面推廣和第三方服務提供商的互動記錄；\n(3) 關於我們服務的付款記錄；\n(4) 我們的應用程式使用情況的記錄和報告，包括錯誤報告、推廣促銷以及登錄記錄；\n(5) 來自用戶和代理人的即時聊天歷史和反饋報告；\n(6) 閣下的運送服務和表現記錄；和\n(7) 閣下的車輛、駕駛執照、車輛保險和車輛執照的記錄。",
           "5(1)(a)",
           "Purpose limitation: Personal data shall be collected for specified, explicit, and legitimate purposes and not further processed in a manner that is incompatible with those purposes.  Storage limitation: Personal data shall be kept in a form which permits identification of data subjects for no longer than is necessary for the purposes for which the personal data are processed.",
           "non-compliant"
          ],
          [
           "4. 我們如何使用閣下的個人資料？\n  4.1 我們可能會以下列形式收集、處理、編制和整理閣下的個人資料：\n  (A) 對於訪客、用戶和代理人：\n  (1) 個人檔案的記錄；\n(2) 使用我們服務的評論、記錄和報告，包括與客服的互動記錄；\n(3) 關於我們服務的付款記錄；\n(4) 我們的應用程式使用情況的記錄和報告，包括錯誤報告、推廣促銷以及登錄記錄；\n(5) 閣下的即時聊天歷史記錄以及對司機的反饋和評分；\n  (B) 對於司機：\n  (1) 個人檔案的記錄；\n(2) 使用我們服務的評論、記錄和報告，包括與客服、司機運營、地面推廣和第三方服務提供商的互動記錄；\n(3) 關於我們服務的付款記錄；\n(4) 我們的應用程式使用情況的記錄和報告，包括錯誤報告、推廣促銷以及登錄記錄；\n(5) 來自用戶和代理人的即時聊天歷史和反饋報告；\n(6) 閣下的運送服務和表現記錄；和\n(7) 閣下的車輛、駕駛執照、車輛保險和車輛執照的記錄。",
           "5(1)(b)",
           "Purpose limitation: Personal data shall be collected for specified, explicit, and legitimate purposes and not further processed in a manner that is incompatible with those purposes.  Storage limitation: Personal data shall be kept in a form which permits identification of data subjects for no longer than is necessary for the purposes for which the personal data are processed.",
           "non-compliant"
          ],
          [
           "  4.2 我們可能會出於以下目的處理閣下的個人資料。",
           "13(1)(a)",
           "Information to be provided where personal data are collected from the data subject: The controller shall provide the data subject with the following information: (a) the purposes of the processing for which the personal data are intended as well as the legal basis for the processing; (c) the period for which the personal data will be stored, or if that is not possible, the criteria used to determine that period.",
           "non-compliant"
          ],
          [
           "  4.2 我們可能會出於以下目的處理閣下的個人資料。",
           "13(1)(c)",
           "Information to be provided where personal data are collected from the data subject: The controller shall provide the data subject with the following information: (a) the purposes of the processing for which the personal data are intended as well as the legal basis for the processing; (c) the period for which the personal data will be stored, or if that is not possible, the criteria used to determine that period.",
           "non-compliant"
          ],
          [
           "1 (A) 用戶或代理人的姓名、電話號碼和用戶於文本框內自願輸入的其他個人資料，包括在運送服務發起後，為完成訂單之目的，向司機共用訂單起點及終點；",
           "6(1)(b)",
           "Data must be processed lawfully, fairly and in a transparent manner in relation to the data subject ('lawfulness, fairness and transparency').\n\nData must be collected for specified, explicit and legitimate purposes and not further processed in a manner that is incompatible with those purposes ('purpose limitation').",
           "compliant"
          ],
          [
           "1 (A) 用戶或代理人的姓名、電話號碼和用戶於文本框內自願輸入的其他個人資料，包括在運送服務發起後，為完成訂單之目的，向司機共用訂單起點及終點；",
           "5(1)(a)",
           "Data must be processed lawfully, fairly and in a transparent manner in relation to the data subject ('lawfulness, fairness and transparency').\n\nData must be collected for specified, explicit and legitimate purposes and not further processed in a manner that is incompatible with those purposes ('purpose limitation').",
           "compliant"
          ],
          [
           "5.2 (A) 我們的員工、管理人員或獨立顧問； (B) 我們的審計師以及外部法律和財務顧問； (C) 我們的供應商、業務合作夥伴、數據處理商和承包商，包括： (1) IT服務和軟件供應商； (2) 支付服務供應商和處理人； (3) 雲平臺服務供應商； (4) 雲存儲服務供應商； (5) 數據分析服務供應商； (6) 研究合作夥伴； (7) 為我們製作廣告和策劃促銷活動的市場廣告代理商； (8) 背景調查和身份驗證服務供應商； (9) 協助我們提高網站和應用程式安全性的供應商；和 (10) 客戶服務供應商； (D) 我們的保險公司和銀行，以及司機的保險公司； (E) 根據任何適用法律法規的要求，我們負有披露義務的監管機構或政府機構； (F) 我們的關聯公司：我們與我們的子公司、母公司和其他關聯公司共用個人資料，以幫助我們提供服務或代表我們進行數據處理",
           "28",
           "Data processing by a processor must be governed by a contract or other legal act under Union or Member State law that is binding on the processor with regard to the controller and that sets out the subject-matter and duration of the processing, the nature and purpose of the processing, the type of personal data and categories of data subjects and the obligations and rights of the controller.",
           "compliant"
          ],
          [
           "1 (B) 在運送服務發起後，為完成訂單之目的，與用戶或代理人共用司機的姓名、電話號碼、司機資料資訊、車輛資訊、車輛圖片和地理位置；和 如果閣下是車隊成員，閣下的個人資料（例如姓名、電話號碼、駕駛員資料資訊、我們的服務和應用程式的使用記錄和報告、付款記錄、車輛資訊）將共用至車隊的所有者或經理。",
           "6(1)(f)",
           "Processing is only lawful if, in relation to the purposes for which they are processed, the personal data are adequate, relevant and limited to what is necessary for the purposes for which they are processed ('data minimisation').\n\nPersonal data shall be processed in a manner that ensures appropriate security of the personal data, including protection against unauthorised or unlawful processing and against accidental loss, destruction or damage, using appropriate technical or organisational measures ('integrity and confidentiality').",
           "non-compliant"
          ],
          [
           "1 (B) 在運送服務發起後，為完成訂單之目的，與用戶或代理人共用司機的姓名、電話號碼、司機資料資訊、車輛資訊、車輛圖片和地理位置；和 如果閣下是車隊成員，閣下的個人資料（例如姓名、電話號碼、駕駛員資料資訊、我們的服務和應用程式的使用記錄和報告、付款記錄、車輛資訊）將共用至車隊的所有者或經理。",
           "5(1)(c)",
           "Processing is only lawful if, in relation to the purposes for which they are processed, the personal data are adequate, relevant and limited to what is necessary for the purposes for which they are processed ('data minimisation').\n\nPersonal data shall be processed in a manner that ensures appropriate security of the personal data, including protection against unauthorised or unlawful processing and against accidental loss, destruction or damage, using appropriate technical or organisational measures ('integrity and confidentiality').",
           "non-compliant"
          ],
          [
           "閣下理解並承認，我們無法控制閣下可能選擇與之共用個人資料的用戶的行為。我們不會在日常經營活動中監控此類功能的使用，雖然我們保留啟用監控的權利。因此，閣下理解並承認，我們不能也不保證閣下與其他用戶共用的個人資料不會被披露至未經授權的人。閣下還需承認到，在運送完成後，閣下與之共用個人資料的相關用戶仍可能訪問閣下的個人資料。例如，相關用戶可能會查看包含閣下個人資料的交易記錄。",
           "5(1)(f)",
           "Personal data shall be processed in a manner that ensures appropriate security of the personal data, including protection against unauthorised or unlawful processing and against accidental loss, destruction or damage, using appropriate technical or organisational measures ('integrity and confidentiality').\n\nTaking into account the state of the art, the costs of implementation and the nature, scope, context and purposes of processing as well as the risk of varying likelihood and severity for the rights and freedoms of natural persons, the controller shall implement appropriate technical and organisational measures to ensure a level of security appropriate to the risk, including inter alia as appropriate.",
           "non-compliant"
          ],
          [
           "閣下理解並承認，我們無法控制閣下可能選擇與之共用個人資料的用戶的行為。我們不會在日常經營活動中監控此類功能的使用，雖然我們保留啟用監控的權利。因此，閣下理解並承認，我們不能也不保證閣下與其他用戶共用的個人資料不會被披露至未經授權的人。閣下還需承認到，在運送完成後，閣下與之共用個人資料的相關用戶仍可能訪問閣下的個人資料。例如，相關用戶可能會查看包含閣下個人資料的交易記錄。",
           "25",
           "Personal data shall be processed in a manner that ensures appropriate security of the personal data, including protection against unauthorised or unlawful processing and against accidental loss, destruction or damage, using appropriate technical or organisational measures ('integrity and confidentiality').\n\nTaking into account the state of the art, the costs of implementation and the nature, scope, context and purposes of processing as well as the risk of varying likelihood and severity for the rights and freedoms of natural persons, the controller shall implement appropriate technical and organisational measures to ensure a level of security appropriate to the risk, including inter alia as appropriate.",
           "non-compliant"
          ],
          [
           "5.2 (G) 在我們的認識內，基於適用法律法規、法律程式、政府要求或出於合理的安全考慮我們負有披露義務的任何人員。",
           "6(1)(c)",
           "Processing is necessary for compliance with a legal obligation to which the controller is subject.",
           "non-compliant"
          ],
          [
           "5.3 ...  we will ensure that such third party is subject to a duty of confidentiality.",
           "28",
           "Data Protection Agreement with processor",
           "compliant"
          ],
          [
           "5.5 We will not sell your personal data to any third party and warrant to use personal data reasonably and legally to the extent permitted by law.",
           "6",
           "Lawfulness of processing, Conditions for consent",
           "compliant"
          ],
          [
           "5.5 We will not sell your personal data to any third party and warrant to use personal data reasonably and legally to the extent permitted by law.",
           "7",
           "Lawfulness of processing, Conditions for consent",
           "compliant"
          ],
          [
           "6.1 ... We will ensure that any such transfer of your personal data is subject to this Privacy Policy and complies with applicable law. For example, we will ensure that any personal data transferred to locations outside your country will be subject to an adequate level of protection as required under that law, where applicable, and that we will require similar commitments from the overseas data recipient.",
           "44",
           "General principle for transfers, Transfers on the basis of an adequacy decision, Transfers subject to appropriate safeguards",
           "compliant"
          ],
          [
           "6.1 ... We will ensure that any such transfer of your personal data is subject to this Privacy Policy and complies with applicable law. For example, we will ensure that any personal data transferred to locations outside your country will be subject to an adequate level of protection as required under that law, where applicable, and that we will require similar commitments from the overseas data recipient.",
           "45",
           "General principle for transfers, Transfers on the basis of an adequacy decision, Transfers subject to appropriate safeguards",
           "compliant"
          ],
          [
           "6.1 ... We will ensure that any such transfer of your personal data is subject to this Privacy Policy and complies with applicable law. For example, we will ensure that any personal data transferred to locations outside your country will be subject to an adequate level of protection as required under that law, where applicable, and that we will require similar commitments from the overseas data recipient.",
           "46",
           "General principle for transfers, Transfers on the basis of an adequacy decision, Transfers subject to appropriate safeguards",
           "compliant"
          ],
          [
           "This includes exchanging your personal data with other companies and organisations for the purposes of protection against and prevention of crime/fraud;",
           "6(1)(f)",
           "Legitimate interests",
           "non-compliant"
          ],
          [
           "(H) to other companies in connection with a merger, joint venture, sale of assets or other corporate change, financing, or acquisition of all or a portion of our business.",
           "6(1)(f)",
           "Legitimate interests, Data Protection Agreement with processor",
           "non-compliant"
          ],
          [
           "(H) to other companies in connection with a merger, joint venture, sale of assets or other corporate change, financing, or acquisition of all or a portion of our business.",
           "28",
           "Legitimate interests, Data Protection Agreement with processor",
           "non-compliant"
          ],
          [
           "5.4 We may share your personal data with anyone other than those described in Section 5.2 of this Privacy Policy. In such cases, we will notify you in advance and obtain your consent if required by applicable law.",
           "6",
           "Lawfulness of processing, Transparent information, communication and modalities for the exercise of the rights of the data subject, Information to be provided where personal data are collected from the data subject",
           "non-compliant"
          ],
          [
           "5.4 We may share your personal data with anyone other than those described in Section 5.2 of this Privacy Policy. In such cases, we will notify you in advance and obtain your consent if required by applicable law.",
           "12",
           "Lawfulness of processing, Transparent information, communication and modalities for the exercise of the rights of the data subject, Information to be provided where personal data are collected from the data subject",
           "non-compliant"
          ],
          [
           "5.4 We may share your personal data with anyone other than those described in Section 5.2 of this Privacy Policy. In such cases, we will notify you in advance and obtain your consent if required by applicable law.",
           "13",
           "Lawfulness of processing, Transparent information, communication and modalities for the exercise of the rights of the data subject, Information to be provided where personal data are collected from the data subject",
           "non-compliant"
          ],
          [
           "5.4 We may share your personal data with anyone other than those described in Section 5.2 of this Privacy Policy. In such cases, we will notify you in advance and obtain your consent if required by applicable law.",
           "14",
           "Lawfulness of processing, Transparent information, communication and modalities for the exercise of the rights of the data subject, Information to be provided where personal data are collected from the data subject",
           "non-compliant"
          ],
          [
           "The provided text does not contain a privacy policy for analysis.",
           null,
           null,
           "non-compliant"
          ],
          [
           "(A)(1) 提供和維護我們的服務，例如：\n  (a) 創建、更新和維護閣下在我們這裏註冊的帳戶；\n(b) 提供運輸和運送服務；\n(c) 運輸追蹤；和\n(d) 就我們的服務或送貨提供及處理付款。",
           "6(1)(b)",
           "processing is necessary for the performance of a contract",
           "compliant"
          ],
          [
           "(A)(2) 監控我們網站、服務或應用程式的使用情況；",
           "6(1)(f)",
           "processing is necessary for the purposes of the legitimate interests pursued by the controller or by a third party",
           "compliant"
          ],
          [
           "(A)(3) 幫助維護我們服務的安全性和可靠性，並防止犯罪和欺詐；",
           "6(1)(f)",
           "processing is necessary for the purposes of the legitimate interests pursued by the controller or by a third party",
           "compliant"
          ],
          [
           "(A)(6) 用於客戶服務：閣下的個人資料有助於我們更有效地回應閣下的客戶服務請求、接收反饋和支持需求；",
           "6(1)(f)",
           "processing is necessary for the purposes of the legitimate interests pursued by the controller or by a third party",
           "compliant"
          ],
          [
           "(A)(9) 與我們的服務相關的非促銷通信，例如通知閣下有關我們的應用程式或服務的更改；",
           "6(1)(f)",
           "processing is necessary for the purposes of the legitimate interests pursued by the controller or by a third party",
           "compliant"
          ],
          [
           "(A)(10) 用於營運我們的業務：我們可能會使用閣下的個人資料來營運我們的業務（包括管理和維護存儲個人資料的資料庫）；",
           "6(1)(f)",
           "processing is necessary for the purposes of the legitimate interests pursued by the controller or by a third party",
           "compliant"
          ],
          [
           "(A)(11) 用於進行法律訴訟或回應監管機構、政府部門和其他公共機關的要求，或遵守我們的法律義務；",
           "6(1)(c)",
           "processing is necessary for compliance with a legal obligation to which the controller is subject",
           "compliant"
          ],
          [
           "(A)(4) 就我們應用程式提供個性化體驗：識別閣下的偏好和行為有助於我們更好地瞭解閣下的個人需求和興趣，並為閣下提供更度身定制的服務。對於部分個性化的促銷活動，我們可能需要徵得閣下的同意。在需要徵得同意的情況下，我們只會在徵得閣下同意後開展促銷活動。如果閣下不希望收到此類資訊，閣下可以隨時選擇取消訂閱；",
           "6(1)(a)",
           "consent of the data subject",
           "non-compliant"
          ],
          [
           "(A)(5) 為了改進或開發我們的網站、服務和應用程式：我們可能會使用閣下的個人資料來開發新的特性和功能，為了改進我們的軟件和介面設計，我們可能會使用錯誤報告來改進安全功能；",
           "6(1)(f)",
           "processing is necessary for the purposes of the legitimate interests pursued by the controller or by a third party",
           "non-compliant"
          ],
          [
           "(A)(7) 用於研發：閣下的個人資料將幫助我們測試、研究、分析、協助產品開發或用於機器學習以改善閣下的使用體驗；",
           "6(1)(f)",
           "processing is necessary for the purposes of the legitimate interests pursued by the controller or by a third party",
           "non-compliant"
          ],
          [
           "(A)(8) 彙編閣下的統計數據及分析閣下的服務和應用程式使用情況；",
           "6(1)(f)",
           "processing is necessary for the purposes of the legitimate interests pursued by the controller or by a third party",
           "non-compliant"
          ],
          [
           "(A)(12) 用於直接促銷，如果我們根據相關法律法規和本私隱條例第14條取得閣下的同意。",
           "6(1)(a)",
           "consent of the data subject",
           "non-compliant"
          ],
          [
           "1.5在使用我們的網站、服務或應用程式之前，請閱讀並理解本私隱條例。",
           "12(1)",
           "Transparency and information to be provided to the data subject; The controller shall take appropriate measures to provide any information referred to in Articles 13 and 14 and any communication under Articles 15 to 22 and 34 relating to processing to the data subject in a concise, transparent, intelligible and easily accessible form, using clear and plain language, in particular for any information addressed specifically to a child.",
           "compliant"
          ],
          [
           "1.5在使用我們的網站、服務或應用程式之前，請閱讀並理解本私隱條例。",
           "13(1)",
           "Transparency and information to be provided to the data subject; The controller shall take appropriate measures to provide any information referred to in Articles 13 and 14 and any communication under Articles 15 to 22 and 34 relating to processing to the data subject in a concise, transparent, intelligible and easily accessible form, using clear and plain language, in particular for any information addressed specifically to a child.",
           "compliant"
          ],
          [
           "2.1當閣下訪問我們的網站、訪問或使用我們的應用程式和服務時，我們可能會要求閣下提供閣下的個人資料。如果閣下不提供相關數據，我們可能無法為閣下提供我們的產品或服務，也無法回應閣下的任何問題。例如，閣下可能無法通過我們的網站或應用程式請求運送服務。",
           "6(1)(b)",
           "Lawfulness of processing; Where processing is necessary for the performance of a contract to which the data subject is party or in order to take steps at the request of the data subject prior to entering into a contract, processing shall be lawful; The purposes of the processing for which the personal data are intended as well as the legal basis for the processing; Where the processing is based on point (a) of Article 6(1), the controller shall provide the data subject with information on the specific categories of personal data concerned and the source of such data.",
           "compliant"
          ],
          [
           "2.1當閣下訪問我們的網站、訪問或使用我們的應用程式和服務時，我們可能會要求閣下提供閣下的個人資料。如果閣下不提供相關數據，我們可能無法為閣下提供我們的產品或服務，也無法回應閣下的任何問題。例如，閣下可能無法通過我們的網站或應用程式請求運送服務。",
           "13(1)(c)",
           "Lawfulness of processing; Where processing is necessary for the performance of a contract to which the data subject is party or in order to take steps at the request of the data subject prior to entering into a contract, processing shall be lawful; The purposes of the processing for which the personal data are intended as well as the legal basis for the processing; Where the processing is based on point (a) of Article 6(1), the controller shall provide the data subject with information on the specific categories of personal data concerned and the source of such data.",
           "compliant"
          ],
          [
           "2.1當閣下訪問我們的網站、訪問或使用我們的應用程式和服務時，我們可能會要求閣下提供閣下的個人資料。如果閣下不提供相關數據，我們可能無法為閣下提供我們的產品或服務，也無法回應閣下的任何問題。例如，閣下可能無法通過我們的網站或應用程式請求運送服務。",
           "13(2)(e)",
           "Lawfulness of processing; Where processing is necessary for the performance of a contract to which the data subject is party or in order to take steps at the request of the data subject prior to entering into a contract, processing shall be lawful; The purposes of the processing for which the personal data are intended as well as the legal basis for the processing; Where the processing is based on point (a) of Article 6(1), the controller shall provide the data subject with information on the specific categories of personal data concerned and the source of such data.",
           "compliant"
          ],
          [
           "2.2 我們將收集和處理以下個人資料：(A) 由閣下直接提供給我們的個人資料，例如閣下在我們的應用程式內創建帳戶、參加我們的推廣或促銷活動、訂閱我們的博客或更新，或通過我們的網站、應用程式或電話向我們發送信息時；(B) 在閣下使用我們的網站、服務和應用程式期間產生的個人資料。例如，當閣下訪問我們的網站時，我們可能會收集閣下的 IP 地址和設備資訊。 (C) 我們從第三方（如第三方代理、其他用戶、我們的服務提供商和商務合作夥伴）獲得的。例如，我們的第三方代理可能會向我們提供司機的額外驗證和背景資訊，其他用戶可能會在為閣下預訂車輛時向我們提供閣下的姓名和電話號碼。",
           "13(1)(c)",
           "The purposes of the processing for which the personal data are intended as well as the legal basis for the processing; Where applicable, the legitimate interests pursued by the controller or by a third party; Where personal data relating to the data subject are not collected from the data subject, the controller shall, at the time when the personal data are obtained, provide the data subject with all of the following information: the legitimate interests pursued by the controller or by a third party;",
           "compliant"
          ],
          [
           "2.2 我們將收集和處理以下個人資料：(A) 由閣下直接提供給我們的個人資料，例如閣下在我們的應用程式內創建帳戶、參加我們的推廣或促銷活動、訂閱我們的博客或更新，或通過我們的網站、應用程式或電話向我們發送信息時；(B) 在閣下使用我們的網站、服務和應用程式期間產生的個人資料。例如，當閣下訪問我們的網站時，我們可能會收集閣下的 IP 地址和設備資訊。 (C) 我們從第三方（如第三方代理、其他用戶、我們的服務提供商和商務合作夥伴）獲得的。例如，我們的第三方代理可能會向我們提供司機的額外驗證和背景資訊，其他用戶可能會在為閣下預訂車輛時向我們提供閣下的姓名和電話號碼。",
           "13(1)(f)",
           "The purposes of the processing for which the personal data are intended as well as the legal basis for the processing; Where applicable, the legitimate interests pursued by the controller or by a third party; Where personal data relating to the data subject are not collected from the data subject, the controller shall, at the time when the personal data are obtained, provide the data subject with all of the following information: the legitimate interests pursued by the controller or by a third party;",
           "compliant"
          ],
          [
           "2.2 我們將收集和處理以下個人資料：(A) 由閣下直接提供給我們的個人資料，例如閣下在我們的應用程式內創建帳戶、參加我們的推廣或促銷活動、訂閱我們的博客或更新，或通過我們的網站、應用程式或電話向我們發送信息時；(B) 在閣下使用我們的網站、服務和應用程式期間產生的個人資料。例如，當閣下訪問我們的網站時，我們可能會收集閣下的 IP 地址和設備資訊。 (C) 我們從第三方（如第三方代理、其他用戶、我們的服務提供商和商務合作夥伴）獲得的。例如，我們的第三方代理可能會向我們提供司機的額外驗證和背景資訊，其他用戶可能會在為閣下預訂車輛時向我們提供閣下的姓名和電話號碼。",
           "14(2)(f)",
           "The purposes of the processing for which the personal data are intended as well as the legal basis for the processing; Where applicable, the legitimate interests pursued by the controller or by a third party; Where personal data relating to the data subject are not collected from the data subject, the controller shall, at the time when the personal data are obtained, provide the data subject with all of the following information: the legitimate interests pursued by the controller or by a third party;",
           "compliant"
          ],
          [
           "2.3我們還可能通過用於提供服務的軟件開發工具包（“SDK”）收集個人資料。",
           "13(1)(a)",
           "The identity and the contact details of the controller and, where applicable, of the controller's representative; The specific categories of personal data concerned;",
           "non-compliant"
          ],
          [
           "2.3我們還可能通過用於提供服務的軟件開發工具包（“SDK”）收集個人資料。",
           "13(2)(a)",
           "The identity and the contact details of the controller and, where applicable, of the controller's representative; The specific categories of personal data concerned;",
           "non-compliant"
          ],
          [
           "7.1 從我們收到閣下的個人資料時刻起，我們將根據適用法律的要求採取所有合理可行的步驟和安全措施，以確保閣下的個人資料安全存儲並受到我們和我們的數據處理者的保護，以防止未經授權的訪問、處理、刪除，丟失或使用。",
           "5(1)(f)",
           "Principle of integrity and confidentiality; Security of processing",
           "compliant"
          ],
          [
           "7.1 從我們收到閣下的個人資料時刻起，我們將根據適用法律的要求採取所有合理可行的步驟和安全措施，以確保閣下的個人資料安全存儲並受到我們和我們的數據處理者的保護，以防止未經授權的訪問、處理、刪除，丟失或使用。",
           "32",
           "Principle of integrity and confidentiality; Security of processing",
           "compliant"
          ],
          [
           "7.2 除本私隱條例中規定的目的和用途外，我們將保密且安全地保存閣下的個人資料，並且僅基於充分必要性的基礎上進行披露。",
           "5(1)(c)",
           "Principle of data minimisation; Lawfulness of processing",
           "compliant"
          ],
          [
           "7.2 除本私隱條例中規定的目的和用途外，我們將保密且安全地保存閣下的個人資料，並且僅基於充分必要性的基礎上進行披露。",
           "6(1)",
           "Principle of data minimisation; Lawfulness of processing",
           "compliant"
          ],
          [
           "7.3 如果我們將閣下的個人資料外包和委託給數據處理者，我們將使用合同和其他方式來監控數據處理者對本私隱條例的遵守。",
           "28",
           "Processor contracts",
           "compliant"
          ],
          [
           "7.5 閣下有責任對閣下的應用程式密碼保密。閣下不得向任何第三方披露或以其他方式透露閣下的應用程式密碼。如果閣下認為閣下的密碼或記錄已被洩露，請立即通知我們。",
           null,
           "While encouraging good security practices, placing the sole responsibility on the user for password security might not be fully compliant with the GDPR's emphasis on data controller accountability.",
           "non-compliant"
          ],
          [
           "7.6 通過互聯網傳輸資訊並不絕對安全。儘管我們使用安全措施來保護閣下的個人資料，但我們不能保證閣下傳輸到應用程式的個人資料的安全性，任何傳輸的風險由閣下自行承擔。",
           null,
           "Disclaiming all liability for data breaches during transmission might contradict the principle of accountability under GDPR.",
           "non-compliant"
          ],
          [
           "The policy mentions collecting data from visitors, users, agents, and drivers, which is generally acceptable under GDPR if there is a lawful basis.",
           "6(1)",
           "Lawfulness of processing",
           "compliant"
          ],
          [
           "The policy lists specific data points collected for each category (visitors, users, agents, drivers).",
           "12(1)",
           "Transparent information, communication and modalities for the exercise of the rights of the data subject",
           "compliant"
          ],
          [
           "The policy lists specific data points collected for each category (visitors, users, agents, drivers).",
           "13(1)",
           "Transparent information, communication and modalities for the exercise of the rights of the data subject",
           "compliant"
          ],
          [
           "The policy mentions collecting data like IP addresses, device identifiers, and geolocation, which are considered personal data under GDPR.",
           "4(1)",
           "Definitions",
           "compliant"
          ],
          [
           "The policy lacks a clear and specific legal basis for processing personal data for each category (visitors, users, agents, drivers).",
           "6(1)",
           "Lawfulness of processing",
           "non-compliant"
          ],
          [
           "The policy doesn't explicitly mention data subject rights (access, rectification, erasure, etc.) or how individuals can exercise these rights.",
           "12-23",
           "Chapter III: Rights of the data subject",
           "non-compliant"
          ],
          [
           "Collecting driver's license information, vehicle insurance information, and ID card copies requires a strong legal basis and appropriate safeguards due to their sensitive nature.",
           "5(1)(f)",
           "Principles relating to processing of special categories of personal data",
           "non-compliant"
          ],
          [
           "Collecting driver's license information, vehicle insurance information, and ID card copies requires a strong legal basis and appropriate safeguards due to their sensitive nature.",
           "9",
           "Principles relating to processing of special categories of personal data",
           "non-compliant"
          ],
          [
           "Collecting driver's facial recognition data and biometric data requires explicit consent and a clear explanation of the purpose and processing activities.",
           "9(2)(a)",
           "Conditions for consent, Processing of special categories of personal data",
           "non-compliant"
          ],
          [
           "Collecting driver's facial recognition data and biometric data requires explicit consent and a clear explanation of the purpose and processing activities.",
           "9(2)(b)",
           "Conditions for consent, Processing of special categories of personal data",
           "non-compliant"
          ],
          [
           "The policy lacks information about data retention periods for different categories of personal data.",
           "5(1)(e)",
           "Storage limitation",
           "non-compliant"
          ],
          [
           "The policy doesn't mention international data transfers if applicable, which requires safeguards like standard contractual clauses or adequacy decisions.",
           "44-50",
           "Chapter V: Transfers of personal data to third countries or international organisations",
           "non-compliant"
          ],
          [
           "Empower Your Business with AI\n我們提供 AI 轉型解決方案\n讓所有人都從 AI 獲益\n聯絡我們\n企業客戶\n900\n+\n品牌廣告用戶\n40000\nAI 與雲端專家\n40\n+\nAI 模型助力企業成長\n130\n+\n大型語言模型參數\n200\nB+\n\n與我們一起，啟動您的 AI 轉型之旅\n雲端導入\n建置混合雲、實現數位韌性、提高員工生產力、落實資安與 AI 安全，為 AI 創新打造堅實基礎。\n數據管線\n打造專屬數據管線，整合第一方與外部數據、賦能資料分析和報告，透過 DataOps 和 MLOps 實現 AI 驅動的營運。\nAI 行銷科技\n運用 AI 驅動的行銷與廣告解決方案優化獲客、留客和拓客，實現 AI 驅動的業務增長。\n解決方案與產品服務\n雲端技術顧問與解決方案\n為安全且智慧的 IT、業務和協作提供一站式雲端服務與解決方案\n顧客數據平台\n以 AI 驅動的平台，助力企業推動客戶增長與數位轉型\n網紅行銷\n以軟體即服務 (SaaS) 為基礎的網紅搜尋分析引擎，涵蓋網紅搜尋、專案管理及品牌安全強化\n我們致力於為 AI 開源社群貢獻\niEvals : 用於測試大型語言模型繁體中文能力的框架與程式碼\n2023-12-28\nTMMLU+ : 繁體中文大規模多任務語言理解測試資料集\n2023-12-25\n我們支持每個產業轉型\n並助力解決日常挑戰\n最新消息\niKala 首度發布電商零售產業趨勢報告，解析 2024 三大電商零售發展與會員經營趨勢調查\n2024-06-27\n新聞消息\n新聞消息\n迎戰 2024 AI 永續新局，iKala 與東訊聯手賦能產業加速淨零轉型\n2024-06-03\n新聞消息\niKala 連續三年發布網紅行銷與社群趨勢報告，揭露 2024 三大網紅發展與社群經營趨勢\n2024-04-18\n看更多新聞\niKala 是一間跨國的 AI 轉型解決方案供應商，使命是「AI 賦能」，讓客戶能夠以 AI 為核心來達成事業轉型、加速、及創造新商業模式的目標。",
           "13",
           "Information to be provided where personal data are collected from the data subject/  Information to be provided where personal data have not been obtained from the data subject",
           "non-compliant"
          ],
          [
           "Empower Your Business with AI\n我們提供 AI 轉型解決方案\n讓所有人都從 AI 獲益\n聯絡我們\n企業客戶\n900\n+\n品牌廣告用戶\n40000\nAI 與雲端專家\n40\n+\nAI 模型助力企業成長\n130\n+\n大型語言模型參數\n200\nB+\n\n與我們一起，啟動您的 AI 轉型之旅\n雲端導入\n建置混合雲、實現數位韌性、提高員工生產力、落實資安與 AI 安全，為 AI 創新打造堅實基礎。\n數據管線\n打造專屬數據管線，整合第一方與外部數據、賦能資料分析和報告，透過 DataOps 和 MLOps 實現 AI 驅動的營運。\nAI 行銷科技\n運用 AI 驅動的行銷與廣告解決方案優化獲客、留客和拓客，實現 AI 驅動的業務增長。\n解決方案與產品服務\n雲端技術顧問與解決方案\n為安全且智慧的 IT、業務和協作提供一站式雲端服務與解決方案\n顧客數據平台\n以 AI 驅動的平台，助力企業推動客戶增長與數位轉型\n網紅行銷\n以軟體即服務 (SaaS) 為基礎的網紅搜尋分析引擎，涵蓋網紅搜尋、專案管理及品牌安全強化\n我們致力於為 AI 開源社群貢獻\niEvals : 用於測試大型語言模型繁體中文能力的框架與程式碼\n2023-12-28\nTMMLU+ : 繁體中文大規模多任務語言理解測試資料集\n2023-12-25\n我們支持每個產業轉型\n並助力解決日常挑戰\n最新消息\niKala 首度發布電商零售產業趨勢報告，解析 2024 三大電商零售發展與會員經營趨勢調查\n2024-06-27\n新聞消息\n新聞消息\n迎戰 2024 AI 永續新局，iKala 與東訊聯手賦能產業加速淨零轉型\n2024-06-03\n新聞消息\niKala 連續三年發布網紅行銷與社群趨勢報告，揭露 2024 三大網紅發展與社群經營趨勢\n2024-04-18\n看更多新聞\niKala 是一間跨國的 AI 轉型解決方案供應商，使命是「AI 賦能」，讓客戶能夠以 AI 為核心來達成事業轉型、加速、及創造新商業模式的目標。",
           "14",
           "Information to be provided where personal data are collected from the data subject/  Information to be provided where personal data have not been obtained from the data subject",
           "non-compliant"
          ],
          [
           "This privacy policy (the “Policy”) applies to Midjourney, Inc., the Midjourney.com website, and the Midjourney image generation platform (the “Services”).",
           "13",
           "Information to be provided where personal data are collected from the data subject",
           "compliant"
          ],
          [
           "This privacy policy (the “Policy”) applies to Midjourney, Inc., the Midjourney.com website, and the Midjourney image generation platform (the “Services”).",
           "14",
           "Information to be provided where personal data are collected from the data subject",
           "compliant"
          ],
          [
           "As used in this Policy, “personal data” means any information that relates to, describes, could be used to identify an individual, directly or indirectly.",
           "4(1)",
           "Definition of Personal Data",
           "compliant"
          ],
          [
           "Changes: We may update this Policy from time-to-time to reflect changes in legal, regulatory, operational requirements, our practices, and other factors. Please check this Policy periodically for updates. When required under applicable law, we will notify you of any changes to this Policy.",
           "13(2)",
           "Requirement to inform data subjects of changes to the privacy policy",
           "compliant"
          ],
          [
           "Changes: We may update this Policy from time-to-time to reflect changes in legal, regulatory, operational requirements, our practices, and other factors. Please check this Policy periodically for updates. When required under applicable law, we will notify you of any changes to this Policy.",
           "14(2)",
           "Requirement to inform data subjects of changes to the privacy policy",
           "compliant"
          ],
          [
           "Applicability: This Policy applies to personal data that Midjourney collects, uses, and discloses and which may include: (i) data collected through the Services, (ii) data collected through the process of training Midjourney machine learning algorithms, (iii) data collected through Midjourney websites, and (iv) data collected from third party sources. Third party sources may include, but not be limited to: public databases, commercial data sources, and the public internet. When you make purchases, we use third-party payment processors to collect credit card or other financial information. Midjourney does not store the credit card or payment information you provide, only confirmation that payment was made.",
           "13",
           "Information to be provided where personal data are collected from the data subject",
           "non-compliant"
          ],
          [
           "Applicability: This Policy applies to personal data that Midjourney collects, uses, and discloses and which may include: (i) data collected through the Services, (ii) data collected through the process of training Midjourney machine learning algorithms, (iii) data collected through Midjourney websites, and (iv) data collected from third party sources. Third party sources may include, but not be limited to: public databases, commercial data sources, and the public internet. When you make purchases, we use third-party payment processors to collect credit card or other financial information. Midjourney does not store the credit card or payment information you provide, only confirmation that payment was made.",
           "14",
           "Information to be provided where personal data are collected from the data subject",
           "non-compliant"
          ],
          [
           "This Policy does not apply to the following information: Personal Data about Midjourney employees and candidates, and certain contractors and agents acting in similar roles.",
           "2(2)(a)",
           "Exemption for controllers or processors in their capacity as employers",
           "non-compliant"
          ],
          [
           "Definitions: Through this Policy, You, or Your means the individual accessing or using the Service, or the company, or other legal entity on behalf of which such individual is accessing or using the Service, as applicable. Company (referred to as either \"the Company\", \"We\", \"Us\" or \"Our\" in this Agreement) refers to Midjourney LLC. Usage Data refers to data collected automatically, either generated by the use of the Service or from the Service infrastructure itself (for example, the duration of a page visit).",
           "12(1)",
           "Transparent information, communication and modalities for the exercise of the rights of the data subject",
           "non-compliant"
          ],
          [
           "2.1.1 Personal Data",
           "4(1)",
           "Data minimization: The policy lists the types of personal data collected, which is a good start towards ensuring that only necessary data is processed. Transparency: Listing the data categories collected is a crucial aspect of transparency, allowing individuals to understand what information is being gathered.",
           "compliant"
          ],
          [
           "2.1.1 Personal Data",
           "12(1)",
           "Data minimization: The policy lists the types of personal data collected, which is a good start towards ensuring that only necessary data is processed. Transparency: Listing the data categories collected is a crucial aspect of transparency, allowing individuals to understand what information is being gathered.",
           "compliant"
          ],
          [
           "2.2 Use of Your Personal Data",
           "5(1)(a-b)",
           "Lawfulness of processing: The policy outlines several legal bases for processing personal data, including consent, contract performance, and legitimate interests. Purpose limitation: Each processing purpose is specified, aligning with the requirement that data be collected for explicit, legitimate purposes.",
           "compliant"
          ],
          [
           "2.2 Use of Your Personal Data",
           "6(1)(b-c)",
           "Lawfulness of processing: The policy outlines several legal bases for processing personal data, including consent, contract performance, and legitimate interests. Purpose limitation: Each processing purpose is specified, aligning with the requirement that data be collected for explicit, legitimate purposes.",
           "compliant"
          ],
          [
           "2.3 Sharing of Your Personal Data",
           "13(1)(e)",
           "Information to be provided where personal data are collected from the data subject: The policy provides information about recipients of personal data, including service providers and public authorities. This transparency is essential for individuals to understand how their data is shared.",
           "compliant"
          ],
          [
           "2.3 Sharing of Your Personal Data",
           "14(1-2)",
           "Information to be provided where personal data are collected from the data subject: The policy provides information about recipients of personal data, including service providers and public authorities. This transparency is essential for individuals to understand how their data is shared.",
           "compliant"
          ],
          [
           "2.4 Retention of Your Personal Data",
           "5(1)(e)",
           "Storage limitation: The policy addresses data retention by stating that data will be kept only as long as necessary for the outlined purposes. This aligns with the principle of data minimization.",
           "compliant"
          ],
          [
           "2.4 Retention of Your Personal Data",
           "13(2)(a)",
           "Storage limitation: The policy addresses data retention by stating that data will be kept only as long as necessary for the outlined purposes. This aligns with the principle of data minimization.",
           "compliant"
          ],
          [
           "2.5 Transfer of Your Personal Data",
           "44-49",
           "Transfers of personal data to third countries or international organisations: The policy acknowledges data transfers outside the individual's jurisdiction and mentions taking steps to ensure adequate data protection. This is crucial for GDPR compliance when transferring data internationally.",
           "compliant"
          ],
          [
           "2.2 Use of Your Personal Data",
           "6(1)(f)",
           "Legitimate interests: While the policy mentions legitimate interests, it doesn't explicitly state what those interests are for each processing purpose. This lacks specificity and may not meet the GDPR's requirement for a clear legal basis.",
           "non-compliant"
          ],
          [
           "2.3 Sharing of Your Personal Data",
           "13(1)(f)",
           "Information about the right to withdraw consent: The policy doesn't explicitly mention the individual's right to withdraw consent for processing based on consent. This right is fundamental under the GDPR.",
           "non-compliant"
          ],
          [
           "2.3 Sharing of Your Personal Data",
           "14(3)",
           "Information about the right to withdraw consent: The policy doesn't explicitly mention the individual's right to withdraw consent for processing based on consent. This right is fundamental under the GDPR.",
           "non-compliant"
          ],
          [
           "2.6 Security of Your Personal Data",
           "32(1)",
           "Security of processing: While the policy acknowledges the importance of data security, it doesn't detail the specific technical and organizational measures implemented to protect personal data. The GDPR requires controllers to implement appropriate security measures.",
           "non-compliant"
          ],
          [
           "2.6 Security of Your Personal Data",
           "25",
           "Security of processing: While the policy acknowledges the importance of data security, it doesn't detail the specific technical and organizational measures implemented to protect personal data. The GDPR requires controllers to implement appropriate security measures.",
           "non-compliant"
          ],
          [
           "We may update Our Privacy Policy from time to time. We will notify You of any changes by posting the new Privacy Policy on this page.",
           "12",
           "Principle of transparency and fairness - Data controllers are required to provide information about data processing in a concise, transparent, intelligible and easily accessible form, using clear and plain language.",
           "compliant"
          ],
          [
           "We may update Our Privacy Policy from time to time. We will notify You of any changes by posting the new Privacy Policy on this page.",
           "13",
           "Principle of transparency and fairness - Data controllers are required to provide information about data processing in a concise, transparent, intelligible and easily accessible form, using clear and plain language.",
           "compliant"
          ],
          [
           "We may update Our Privacy Policy from time to time. We will notify You of any changes by posting the new Privacy Policy on this page.",
           "14",
           "Principle of transparency and fairness - Data controllers are required to provide information about data processing in a concise, transparent, intelligible and easily accessible form, using clear and plain language.",
           "compliant"
          ],
          [
           "You are advised to review this Privacy Policy periodically for any changes. Changes to this Privacy Policy are effective when they are posted on this page.",
           "12",
           "Principle of transparency and fairness - Data controllers are required to provide information about data processing in a concise, transparent, intelligible and easily accessible form, using clear and plain language.",
           "compliant"
          ],
          [
           "You are advised to review this Privacy Policy periodically for any changes. Changes to this Privacy Policy are effective when they are posted on this page.",
           "13",
           "Principle of transparency and fairness - Data controllers are required to provide information about data processing in a concise, transparent, intelligible and easily accessible form, using clear and plain language.",
           "compliant"
          ],
          [
           "You are advised to review this Privacy Policy periodically for any changes. Changes to this Privacy Policy are effective when they are posted on this page.",
           "14",
           "Principle of transparency and fairness - Data controllers are required to provide information about data processing in a concise, transparent, intelligible and easily accessible form, using clear and plain language.",
           "compliant"
          ],
          [
           "We will let You know via email and/or a prominent notice on Our Service, prior to the change becoming effective and update the \"Last updated\" date at the top of this Privacy Policy.",
           "7",
           "Consent must be freely given, specific, informed and unambiguous.  Silence, pre-ticked boxes or inactivity should not constitute consent. Consent should cover all processing activities carried out for the same purpose or purposes. When the processing has multiple purposes, consent should be given for all of them.",
           "non-compliant"
          ],
          [
           "We will let You know via email and/or a prominent notice on Our Service, prior to the change becoming effective and update the \"Last updated\" date at the top of this Privacy Policy.",
           "24",
           "Consent must be freely given, specific, informed and unambiguous.  Silence, pre-ticked boxes or inactivity should not constitute consent. Consent should cover all processing activities carried out for the same purpose or purposes. When the processing has multiple purposes, consent should be given for all of them.",
           "non-compliant"
          ],
          [
           "If You are located in the European Economic Area (the “EEA”), Switzerland, or the United Kingdom (the “UK”) Our legal basis for collecting and using the Personal Data described in this Policy will depend on the personal data concerned and the specific context in which we collect it. However, we will normally collect personal data from you only where we have your consent to do so, where we need the personal data to perform a contract with you, or where the processing is in our legitimate interests and not overridden by your data protection interests or fundamental rights and freedoms. In some cases, we may also have a legal obligation to collect personal data from you.",
           "6(1)",
           "Lawfulness of processing",
           "compliant"
          ],
          [
           "If You are located in the European Economic Area (the “EEA”), Switzerland, or the United Kingdom (the “UK”) Our legal basis for collecting and using the Personal Data described in this Policy will depend on the personal data concerned and the specific context in which we collect it. However, we will normally collect personal data from you only where we have your consent to do so, where we need the personal data to perform a contract with you, or where the processing is in our legitimate interests and not overridden by your data protection interests or fundamental rights and freedoms. In some cases, we may also have a legal obligation to collect personal data from you.",
           "7",
           "Lawfulness of processing",
           "compliant"
          ],
          [
           "Midjourney may share information internally or with third parties, as further described in this Policy. When we share Personal Data of individuals in the EEA, Switzerland or UK with third parties, we make use of a variety of legal mechanisms to safeguard the transfer including the European Commission-approved standard contractual clauses, as well as additional safeguards where appropriate.",
           "44-49",
           "Transfers of personal data to third countries or international organisations",
           "compliant"
          ],
          [
           "You can request access, correction, updates or deletion of your Personal Data.",
           "15",
           "Right of access by the data subject, Right to rectification",
           "compliant"
          ],
          [
           "You can request access, correction, updates or deletion of your Personal Data.",
           "16",
           "Right of access by the data subject, Right to rectification",
           "compliant"
          ],
          [
           "You can object to our processing of your Personal Data, ask us to restrict processing of your Personal Data or request portability of your Personal Data.",
           "18",
           "Right to restriction of processing, Right to data portability, Right to object",
           "compliant"
          ],
          [
           "You can object to our processing of your Personal Data, ask us to restrict processing of your Personal Data or request portability of your Personal Data.",
           "20",
           "Right to restriction of processing, Right to data portability, Right to object",
           "compliant"
          ],
          [
           "You can object to our processing of your Personal Data, ask us to restrict processing of your Personal Data or request portability of your Personal Data.",
           "21",
           "Right to restriction of processing, Right to data portability, Right to object",
           "compliant"
          ],
          [
           "If we have collected and processed your Personal Data with your consent, then you can withdraw your consent at any time. Withdrawing your consent will not affect the lawfulness of any processing we conducted prior to your withdrawal, nor will it affect processing of your Personal Data conducted in reliance on lawful processing grounds other than consent.",
           "7(3)",
           "Conditions for consent",
           "compliant"
          ],
          [
           "You have the right to complain to a data protection authority about our collection and use of your Personal Data.",
           "77",
           "Right to lodge a complaint with a supervisory authority",
           "compliant"
          ],
          [
           "In order to exercise Your rights please visit www.midjourney.com/account and follow the instructions listed at the bottom of the page to delete your account and data. Survey data that you may have submitted can also be accessed and deleted at this link. To access or review your account information, please follow the instructions listed at https://docs.midjourney.com/docs/info",
           "12(1)",
           "Transparent information, communication and modalities for the exercise of the rights of the data subject",
           "non-compliant"
          ],
          [
           "Our Service does not address anyone under the age of 13. We do not knowingly collect personally identifiable information from anyone under the age of 13.",
           "8",
           "GDPR sets the age of consent to 16, but allows member states to lower it to no less than 13. This section aligns by prohibiting data collection from children under 13, meeting the minimum age requirement.",
           "compliant"
          ],
          [
           "If We become aware that We have collected Personal Data from anyone under the age of 13 without verification of parental consent, We take steps to remove that information from Our servers.",
           "8",
           "This aligns with the GDPR's requirements for data deletion (Article 17) and child protection (Article 8) by outlining steps to rectify unauthorized data collection from children.",
           "compliant"
          ],
          [
           "If We become aware that We have collected Personal Data from anyone under the age of 13 without verification of parental consent, We take steps to remove that information from Our servers.",
           "17",
           "This aligns with the GDPR's requirements for data deletion (Article 17) and child protection (Article 8) by outlining steps to rectify unauthorized data collection from children.",
           "compliant"
          ],
          [
           "If You are a parent or guardian and You are aware that Your child has provided Us with Personal Data, please contact Us.",
           "12",
           "GDPR requires clear and accessible methods for exercising rights, including those related to children's data. Simply asking users to 'contact us' is not specific or transparent enough.",
           "non-compliant"
          ],
          [
           "If You are a parent or guardian and You are aware that Your child has provided Us with Personal Data, please contact Us.",
           "25",
           "GDPR requires clear and accessible methods for exercising rights, including those related to children's data. Simply asking users to 'contact us' is not specific or transparent enough.",
           "non-compliant"
          ],
          [
           "If We need to rely on consent as a legal basis for processing Your information and Your country requires consent from a parent, We may require Your parent's consent before We collect and use that information.",
           "6",
           "While obtaining parental consent is good practice, the language is vague. GDPR requires a specific legal basis for processing, and 'needing to rely on consent' isn't sufficient. Additionally, the age of consent should be clearly stated and not left open to interpretation based on the user's location.",
           "non-compliant"
          ],
          [
           "If We need to rely on consent as a legal basis for processing Your information and Your country requires consent from a parent, We may require Your parent's consent before We collect and use that information.",
           "8",
           "While obtaining parental consent is good practice, the language is vague. GDPR requires a specific legal basis for processing, and 'needing to rely on consent' isn't sufficient. Additionally, the age of consent should be clearly stated and not left open to interpretation based on the user's location.",
           "non-compliant"
          ],
          [
           "We have no control over and assume no responsibility for the content, privacy policies or practices of any third party sites or services.",
           null,
           "This statement is generally considered good practice under the GDPR but doesn't directly correspond to a specific article. The GDPR focuses on the data processing activities of the data controller and processor.",
           "compliant"
          ],
          [
           "We strongly advise You to review the Privacy Policy of every site You visit.",
           "13",
           null,
           "non-compliant"
          ],
          [
           "We strongly advise You to review the Privacy Policy of every site You visit.",
           "14",
           null,
           "non-compliant"
          ]
         ],
         "hovertemplate": "pca-2d-one=%{x}<br>pca-2d-two=%{y}<br>section=%{customdata[0]}<br>clean_article numbers=%{customdata[1]}<br>legal provisions=%{customdata[2]}<br>compliance_status=%{customdata[3]}<br>cluster=%{marker.color}<extra></extra>",
         "legendgroup": "",
         "marker": {
          "color": [
           1,
           1,
           0,
           1,
           1,
           1,
           1,
           0,
           0,
           0,
           0,
           0,
           0,
           0,
           0,
           0,
           0,
           0,
           0,
           0,
           0,
           0,
           1,
           1,
           0,
           0,
           0,
           0,
           1,
           1,
           1,
           1,
           0,
           0,
           0,
           0,
           0,
           0,
           0,
           0,
           0,
           0,
           0,
           0,
           0,
           0,
           0,
           0,
           0,
           0,
           0,
           0,
           0,
           1,
           1,
           1,
           0,
           0,
           0,
           1,
           0,
           0,
           0,
           0,
           0,
           0,
           1,
           1,
           1,
           1,
           1,
           1,
           1,
           1,
           1,
           1,
           0,
           0,
           0,
           0,
           0,
           0,
           0,
           0,
           0,
           0,
           0,
           0,
           0,
           0,
           0,
           0,
           0,
           0,
           0,
           0,
           0,
           0,
           0,
           1,
           1,
           0,
           0,
           0,
           0,
           0,
           0,
           0,
           0,
           0,
           0,
           0,
           0,
           0,
           0,
           0,
           0,
           0,
           0,
           0,
           0,
           1,
           1,
           0,
           0,
           0,
           0,
           0,
           0,
           0,
           0,
           0,
           0,
           1,
           1,
           0,
           0,
           0,
           1,
           0,
           0,
           0,
           1,
           1,
           0,
           0,
           0,
           0,
           0,
           0,
           0,
           0,
           0,
           0,
           0,
           0,
           0,
           0,
           0,
           0,
           0,
           1,
           0,
           0,
           0,
           1,
           1,
           0,
           0,
           0,
           0,
           0,
           0,
           0,
           0,
           0,
           0,
           1,
           1,
           0,
           0,
           0,
           0,
           0,
           1,
           1,
           0,
           0,
           0,
           0,
           0,
           0,
           0,
           1,
           1,
           0,
           0,
           0,
           0,
           0,
           0,
           0,
           0,
           0,
           0,
           0,
           0,
           0,
           0,
           0,
           0,
           0,
           0,
           0,
           0,
           0,
           0,
           0,
           0,
           0,
           0,
           0,
           0,
           0,
           0,
           0,
           1,
           0,
           0,
           0,
           1,
           0,
           1,
           0,
           0,
           1,
           0,
           0,
           0,
           0,
           0,
           0,
           0,
           0,
           1,
           0,
           0,
           0,
           0,
           0,
           1,
           1,
           0,
           1,
           0,
           0,
           0,
           0,
           0,
           0,
           0,
           0,
           0,
           0,
           0,
           0,
           0,
           0,
           0,
           0,
           1,
           1,
           0,
           0,
           0,
           0,
           0,
           0,
           0,
           0,
           0,
           0,
           0,
           0,
           0,
           0,
           0,
           0,
           0,
           0,
           0,
           0,
           0,
           0,
           0,
           0,
           0,
           0,
           0,
           0,
           0,
           0,
           0,
           0,
           0,
           0,
           0,
           0,
           0,
           0,
           0,
           0,
           0,
           0,
           0,
           0,
           0,
           0,
           0,
           1,
           1,
           0,
           1,
           1,
           0,
           0,
           0,
           0,
           0,
           0,
           0,
           0,
           0,
           0,
           0,
           0,
           1,
           1,
           0,
           0,
           0,
           0,
           0,
           0,
           0,
           0,
           0,
           1,
           1,
           0,
           1,
           1,
           0,
           0,
           0,
           0,
           0,
           0,
           0,
           0,
           0,
           0,
           0,
           0,
           0,
           0,
           0,
           0,
           1,
           1,
           0,
           0,
           0,
           0,
           1,
           1,
           0,
           0,
           0,
           0,
           0,
           0,
           0,
           0,
           0,
           0,
           0,
           0,
           0,
           0,
           0,
           0,
           0,
           0,
           0,
           0,
           0,
           0,
           0,
           0,
           0,
           0,
           0,
           0,
           0,
           0,
           0,
           0,
           0,
           0,
           0,
           0,
           0,
           0,
           0,
           0,
           0,
           0,
           0,
           0,
           0,
           1,
           1,
           0,
           0,
           0,
           0,
           0,
           0,
           0,
           0,
           0,
           0,
           0,
           0,
           1,
           1,
           0,
           0,
           1,
           1,
           0,
           1,
           1,
           0,
           0,
           0,
           0,
           0,
           0,
           0,
           0,
           0,
           0,
           0,
           0,
           0,
           0,
           0,
           0,
           0,
           0,
           1,
           1,
           0,
           0,
           0,
           0,
           1,
           0,
           0,
           1,
           1,
           0,
           0,
           0,
           1,
           1,
           0,
           0,
           1,
           1,
           1,
           0,
           0,
           1,
           1,
           0,
           0,
           0,
           0,
           0,
           0,
           0,
           1,
           0,
           0,
           0,
           0,
           1,
           1,
           0,
           0,
           0,
           0,
           0,
           0,
           0,
           0,
           0,
           0,
           0,
           1,
           0,
           0,
           0,
           0,
           0,
           0,
           0,
           0,
           0,
           0,
           0,
           0,
           0,
           0,
           0,
           0,
           0,
           0,
           0,
           0,
           0,
           0,
           1,
           1,
           0,
           0,
           0,
           0,
           0,
           0,
           0,
           0,
           0,
           0,
           0,
           0,
           0,
           0,
           0,
           1,
           0,
           0,
           0,
           0,
           0,
           0,
           0,
           0,
           1,
           1,
           1,
           1,
           0,
           0,
           1,
           1,
           1,
           1,
           1,
           0,
           0,
           0,
           0,
           0,
           0,
           0,
           0,
           0,
           0,
           0,
           0,
           0,
           1,
           0,
           0,
           0,
           1,
           1,
           0,
           0,
           0,
           0,
           0,
           1,
           1,
           0,
           0,
           0,
           1,
           1,
           0,
           0,
           0,
           1,
           1,
           0,
           0,
           0,
           0,
           1,
           1,
           0,
           0,
           0,
           0,
           1,
           1,
           0,
           0,
           0,
           0,
           1,
           1,
           1,
           1,
           0,
           0,
           0,
           0,
           0,
           0,
           0,
           0,
           0,
           0,
           0,
           0,
           0,
           0,
           0,
           0,
           0,
           0,
           0,
           0,
           0,
           0,
           0,
           0,
           0,
           0,
           1,
           1,
           0,
           0,
           0,
           0,
           1,
           1,
           0,
           0,
           0,
           0,
           0,
           0,
           0,
           0,
           0,
           0,
           0,
           0,
           0,
           0,
           0,
           0,
           0,
           0,
           0,
           0,
           0,
           0,
           0,
           1,
           0,
           0,
           0,
           1,
           1,
           0,
           1,
           1,
           0,
           0,
           0,
           0,
           0,
           0,
           0,
           0,
           0,
           0,
           0,
           0,
           0,
           0,
           0,
           0,
           0,
           0,
           0,
           0,
           0,
           0,
           0,
           0,
           1,
           0,
           0,
           0,
           0,
           0,
           0,
           0,
           0,
           1,
           0,
           0,
           0,
           1,
           0,
           0,
           0,
           0,
           0,
           0,
           0,
           0,
           0,
           0,
           0,
           0,
           0,
           0,
           1,
           1,
           1,
           1,
           1,
           0,
           0,
           1,
           0,
           1,
           1,
           1,
           0,
           0,
           0,
           1,
           0,
           0,
           0,
           0,
           1,
           0,
           0,
           0,
           0,
           1,
           0,
           0,
           0,
           0,
           0,
           0,
           0,
           0,
           0,
           1,
           1,
           1,
           1,
           0,
           0,
           0,
           0,
           0,
           0,
           0,
           0,
           0,
           0,
           0,
           0,
           0,
           0,
           1,
           0,
           0,
           0,
           1,
           1,
           0,
           0,
           0,
           0,
           0,
           0,
           0,
           0,
           0,
           1,
           0,
           0,
           1,
           0,
           0,
           0,
           0,
           1,
           1,
           0,
           0,
           0,
           0,
           0,
           0,
           0,
           0,
           0,
           0,
           0,
           0,
           0,
           0,
           0,
           0,
           0,
           0,
           0,
           0,
           0,
           0,
           0,
           0,
           0,
           0,
           0,
           0,
           1,
           1,
           0,
           0,
           0,
           1,
           0,
           0,
           1,
           0,
           0,
           0,
           0,
           0,
           0,
           0,
           0,
           0,
           0,
           0,
           0,
           0,
           0,
           0,
           0,
           0,
           0,
           0,
           0,
           0,
           0,
           0,
           0,
           0,
           0,
           1,
           0,
           0,
           0,
           0,
           0,
           0,
           0,
           0,
           0,
           0,
           0,
           0,
           0,
           0,
           0,
           0,
           0,
           0,
           0,
           0,
           0,
           0,
           1,
           1,
           0,
           0,
           0,
           0,
           0,
           0,
           0,
           0,
           0,
           1,
           1,
           1,
           1,
           0,
           1,
           1,
           1,
           0,
           0,
           0,
           0,
           0,
           0,
           0,
           0,
           0,
           0,
           0,
           1,
           1,
           0,
           0,
           0,
           0,
           0,
           0,
           0,
           0,
           0,
           0,
           0,
           0,
           0,
           0,
           0,
           0,
           0,
           0,
           0,
           0,
           0,
           0,
           1,
           0,
           1,
           1,
           0,
           0,
           0,
           0,
           0,
           0,
           0,
           0,
           0,
           0,
           0,
           0,
           0,
           0,
           0,
           0,
           0,
           0,
           0,
           0,
           0,
           1,
           1,
           0,
           1,
           1,
           0,
           0,
           1,
           1,
           0,
           1,
           1,
           0,
           0,
           0,
           1,
           1,
           0,
           0,
           0,
           0,
           0,
           0,
           0,
           0,
           0,
           0,
           0,
           0,
           0,
           0,
           1,
           0,
           0,
           0,
           0,
           0,
           0,
           0,
           0,
           1,
           0,
           1,
           0,
           1,
           0,
           0,
           0,
           0,
           0,
           1,
           0,
           0,
           0,
           0,
           0,
           0,
           0,
           0,
           0,
           0,
           0,
           0,
           0,
           1,
           0,
           0,
           0,
           1,
           0,
           0,
           0,
           0,
           0,
           0,
           0,
           0,
           1,
           1,
           1,
           0,
           0,
           1,
           1,
           0,
           1,
           0,
           0,
           0,
           0,
           0,
           0,
           1,
           0,
           0,
           1,
           0,
           1,
           1,
           1,
           1,
           1,
           1,
           1,
           1,
           0,
           1,
           0,
           0,
           0,
           0,
           0,
           0,
           0,
           1,
           1,
           1,
           1,
           0,
           0,
           0,
           0,
           0,
           0,
           0,
           0,
           0,
           0,
           0,
           0,
           0,
           0,
           0,
           0,
           0,
           0,
           0,
           0,
           0,
           0,
           0,
           0,
           0,
           0,
           0,
           0,
           0,
           0,
           0,
           0,
           0,
           0,
           0,
           0,
           0,
           0,
           0,
           0,
           0,
           0,
           0,
           0,
           0,
           0,
           0,
           0,
           0,
           0,
           0,
           0,
           0,
           0,
           0,
           0,
           0,
           0,
           0,
           1,
           0,
           0,
           0,
           0,
           1,
           0,
           0,
           0,
           0,
           0,
           0,
           0,
           0,
           0,
           0,
           0,
           0,
           0,
           0,
           0,
           0,
           0,
           0,
           0,
           0,
           0,
           0,
           0,
           0,
           0,
           0,
           0,
           0,
           0,
           0,
           0,
           0,
           0,
           0,
           0,
           1,
           1,
           0,
           0,
           0,
           0,
           1,
           1,
           1,
           1,
           0,
           1,
           1,
           0,
           0,
           0,
           1,
           1,
           1,
           0,
           1,
           0,
           0,
           0,
           0,
           0,
           0,
           0,
           0,
           0,
           0,
           0,
           1,
           0,
           0,
           1,
           1,
           0,
           0,
           0,
           0,
           0,
           0,
           0,
           0,
           0,
           1,
           0,
           0,
           1,
           0,
           1,
           0,
           1,
           1,
           0,
           0,
           0,
           0,
           0,
           0,
           0,
           0,
           0,
           0,
           0,
           0,
           0,
           0,
           0,
           0,
           0,
           0,
           0,
           0,
           0,
           0,
           0,
           0,
           0,
           0,
           0,
           0,
           0,
           0,
           0,
           0,
           0,
           0,
           0,
           0,
           0,
           0,
           0,
           0,
           0,
           0,
           1,
           1,
           1,
           1,
           1,
           0,
           0,
           1,
           0,
           0,
           1,
           1,
           0,
           0,
           0,
           0,
           1,
           1,
           0,
           0,
           1,
           1,
           0,
           0,
           0,
           0,
           0,
           1,
           1,
           0,
           0,
           0,
           0,
           0,
           0,
           0,
           0,
           1,
           0,
           0,
           0,
           0,
           1,
           0,
           0,
           0,
           0,
           0,
           0,
           0,
           0,
           0,
           0,
           0,
           1,
           1,
           0,
           0,
           0,
           1,
           1,
           1,
           1,
           0,
           0,
           1,
           1,
           0,
           0,
           0,
           0,
           0,
           0,
           0,
           0,
           0,
           0,
           0,
           0,
           0,
           0,
           0,
           0,
           0,
           0,
           0,
           0,
           0,
           0,
           0,
           0,
           0,
           1,
           0,
           0,
           0,
           0,
           0,
           0,
           0,
           0,
           1,
           1,
           0,
           0,
           0,
           0,
           0,
           0,
           0,
           0,
           0,
           0,
           0,
           0,
           0,
           0,
           0,
           0,
           0,
           0,
           0,
           0,
           1,
           0,
           1,
           1,
           0,
           1,
           1,
           0,
           0,
           0,
           1,
           1,
           0,
           0,
           0,
           0,
           0,
           0,
           0,
           0,
           0,
           0,
           0,
           0,
           0,
           0,
           0,
           0,
           0,
           0,
           0,
           0,
           0,
           0,
           0,
           0,
           0,
           0,
           0,
           1,
           1,
           0,
           0,
           0,
           0,
           0,
           0,
           0,
           0,
           0,
           1,
           1,
           0,
           0,
           0,
           0,
           0,
           0,
           0,
           0,
           0,
           0,
           0,
           0,
           0,
           0,
           0,
           0,
           0,
           0,
           0,
           0,
           0,
           1,
           0,
           0,
           0,
           0,
           0,
           0,
           0,
           0,
           0,
           0,
           0,
           0,
           0,
           0,
           0,
           0,
           0,
           0,
           0,
           0,
           0,
           0,
           0,
           0,
           0,
           0,
           0,
           1,
           1,
           1,
           1,
           0,
           0,
           0,
           0,
           0,
           0,
           0,
           0,
           0,
           0,
           0,
           0,
           0,
           0,
           0,
           0,
           0,
           0,
           0,
           0,
           0,
           0,
           0,
           0,
           0,
           0,
           0,
           0,
           0,
           0,
           0,
           0,
           0,
           0,
           0,
           0,
           1,
           1,
           0,
           0,
           0,
           0,
           1,
           1,
           0,
           1,
           1,
           1,
           0,
           1,
           1,
           1,
           0,
           0,
           0,
           0,
           0,
           0,
           0,
           0,
           0,
           0,
           0,
           0,
           0,
           0,
           0,
           1,
           1,
           0,
           0,
           0,
           0,
           0,
           0,
           1,
           1,
           1,
           1,
           1,
           1,
           1,
           1,
           0,
           0,
           0,
           0,
           0,
           0,
           0,
           0,
           0,
           0,
           0,
           0,
           0,
           0,
           0,
           0,
           0,
           1,
           1,
           0,
           0,
           0,
           0,
           0,
           1,
           1,
           1,
           1,
           0,
           0,
           0,
           0,
           0,
           0,
           0,
           0,
           0,
           0,
           0,
           0,
           0,
           0,
           1,
           1,
           0,
           0,
           0,
           0,
           0,
           0,
           0,
           0,
           0,
           0,
           0,
           0,
           0,
           0,
           0,
           0,
           0,
           0,
           0,
           1,
           1,
           0,
           0,
           0,
           0,
           0,
           0,
           0,
           0,
           0,
           0,
           0,
           0,
           0,
           0,
           1,
           0,
           1,
           1,
           1,
           1,
           1,
           1,
           1,
           0,
           0,
           0,
           0,
           0,
           0,
           0,
           0,
           0,
           1,
           0,
           0,
           0,
           0,
           0,
           0,
           0,
           0,
           0,
           1,
           1,
           1,
           1,
           0,
           1,
           1,
           1,
           1,
           0,
           0,
           0,
           0,
           0,
           0,
           1,
           1,
           0,
           1,
           0,
           0,
           1,
           1,
           0,
           0,
           0,
           1,
           1,
           0,
           1,
           1,
           0,
           0,
           0,
           0,
           0,
           0,
           0,
           0,
           0,
           0,
           0,
           0,
           0,
           0,
           0,
           0,
           0,
           0,
           0,
           0,
           0,
           1,
           1
          ],
          "coloraxis": "coloraxis",
          "symbol": "circle"
         },
         "mode": "markers",
         "name": "",
         "showlegend": false,
         "type": "scattergl",
         "x": [
          0.8451989153048487,
          0.22047861676446012,
          0.053795151335022544,
          0.9006195013789956,
          0.27589920283860864,
          0.7895871871450985,
          0.16486688860471177,
          -0.16952279656746874,
          -0.0580704865822971,
          -0.0867980658291257,
          -0.0867980658291257,
          -0.11845655444274451,
          -0.08406112140693234,
          -0.09106900284705328,
          -0.09106900284705328,
          -0.10894272832310735,
          -0.13472682422134488,
          -0.03748667665698544,
          -0.2061282058953021,
          -0.20546181175428438,
          -0.07661829063955354,
          -0.07661829063955354,
          0.7582557435727175,
          0.13353544503233059,
          -0.19889172165485788,
          -0.1402970168201835,
          -0.1741337561336765,
          -0.033042710205724295,
          0.8018313240065466,
          0.06555969831904983,
          0.8302547978295496,
          0.09398317214205225,
          -0.03308694104734154,
          -0.06679378533362167,
          -0.14028305648570213,
          -0.1741197957991951,
          -0.14685552270158841,
          -0.1588058385332903,
          -0.17025940605171372,
          -0.1468555227015917,
          -0.15880583853329355,
          -0.04168060286494594,
          -0.04072384970275445,
          -0.2307358559513316,
          -0.23073585595133167,
          -0.2896776276532394,
          0.25712985317967435,
          0.26435967340028127,
          0.10320453896337578,
          -0.10458230319243768,
          -0.11927846441937406,
          -0.11927846441937409,
          0.29300492439776177,
          1.1258889477545515,
          0.5011686492141644,
          0.10935364445719066,
          -0.03829346130153919,
          -0.17669915902219047,
          -0.17669915902219047,
          0.6581748751900809,
          -0.11486024335929364,
          -0.11486024335929364,
          -0.11545879043672502,
          -0.11545879043672502,
          -0.13084225397753452,
          -0.13839331209815875,
          1.0365137455480486,
          0.41179344700766146,
          1.036513745548044,
          0.4117934470076572,
          1.0365137455480453,
          0.4117934470076584,
          1.03625163934336,
          0.4115313408029735,
          1.036513745548048,
          0.41179344700766074,
          -0.2350497895354558,
          0.0014389498794907933,
          -0.0009243392232552084,
          -0.005833327743201561,
          0.0013964924774052781,
          -0.008196616845947562,
          -0.004745222764651578,
          -0.10789199568977033,
          -0.13433907043116716,
          -0.1356661024434895,
          -0.17364319997514435,
          -0.12662714382313522,
          -0.11634724842532271,
          -0.1224361923568093,
          -0.14427743958106415,
          -0.06351413865486315,
          -0.08741528068374915,
          -0.08977856978649516,
          -0.08929920806816304,
          -0.1603331135917334,
          -0.022128689356367772,
          -0.024061710586105605,
          -0.08743183718930622,
          1.1013342741223118,
          0.4766139755819252,
          -0.15264501932649704,
          -0.0934005245313208,
          -0.0934005245313208,
          -0.12352259734061218,
          -0.12352259734061218,
          0.008140286527572744,
          0.008140286527572755,
          -0.18198312134900987,
          -0.18198312134900993,
          -0.14236665292728135,
          -0.19105086148443481,
          -0.1910508614844348,
          -0.19105086148443481,
          -0.16336815442586797,
          -0.1612266639972462,
          -0.12569229604757962,
          -0.11683759365434304,
          -0.11683759365434304,
          -0.11452157694246573,
          -0.12743911918156176,
          1.1063365656221575,
          0.48161626708177047,
          -0.11456718760150778,
          -0.1585379449843084,
          -0.07207100420465928,
          -0.14483009202302632,
          -0.14845136881786514,
          -0.10028538745892546,
          -0.1110563321855675,
          -0.1552752052193724,
          -0.216941680341563,
          -0.11124561048501269,
          0.7753128611014429,
          0.15059256256105588,
          -0.10295848396586209,
          -0.12054396097302984,
          -0.15099533127002246,
          0.1298183962660266,
          -0.09228565523755947,
          -0.16922469811583807,
          -0.14876576841114839,
          0.7967042550607175,
          0.1719839565203304,
          -0.09067629110165083,
          -0.14469972716871288,
          -0.12638415595544975,
          -0.15447394756716734,
          -0.2153494121720529,
          -0.21667644418437537,
          -0.2546535417160301,
          -0.207637485564021,
          -0.1563575830323648,
          -0.1709418124219555,
          -0.1757525303083401,
          -0.1903367596979307,
          -0.11318649915479197,
          -0.1806982563359565,
          0.008140286527572796,
          -0.17205956833181316,
          -0.1589518208808067,
          0.6759222133314642,
          -0.07316619575071108,
          -0.22679244175295477,
          -0.2165322200812523,
          1.0972086769936416,
          0.4724883784532543,
          0.09060412000037917,
          -0.1676821212372423,
          -0.14661162039278156,
          -0.13548781272622762,
          -0.13814126425856954,
          -0.16606454206104232,
          -0.15494073439448847,
          -0.1575941859268304,
          -0.14138954330463865,
          -0.14138954330463865,
          1.0247748808217505,
          0.40005458228136387,
          -0.11153292517339276,
          -0.11153292517339276,
          -0.10659915063675218,
          -0.10659915063675218,
          -0.09967919264275373,
          0.7351948415695178,
          0.11047454302913046,
          -0.11584382192495944,
          -0.11584382192495944,
          -0.16856651397508662,
          -0.16856651397508662,
          -0.11040590265576979,
          -0.0628999000288154,
          0.21903406187785043,
          1.0658584119218228,
          0.4411381133814365,
          -0.19502727281946708,
          -0.17464904738950124,
          -0.17464904738950124,
          -0.17372959210254715,
          -0.17372959210254715,
          -0.11946200468001801,
          -0.11946200468001801,
          -0.04536248785184826,
          -0.04536248785184826,
          -0.15461547627448624,
          -0.16958154774762502,
          -0.11040266143968547,
          -0.1867312087431247,
          -0.199237956797338,
          -0.199237956797338,
          -0.22452667083899017,
          -0.29128392855013535,
          -0.29128392855013535,
          -0.08794361396496668,
          -0.08794361396496668,
          -0.19656231137056906,
          -0.15855098338827767,
          -0.25380317865892477,
          -0.10660629012740082,
          -0.14716393740842515,
          -0.09870090634398909,
          -0.1582450307803234,
          -0.16584775117449926,
          -0.10260953554501433,
          -0.11351821811720866,
          -0.055875778474447864,
          0.7789982557378233,
          -0.06704943850346211,
          -0.06704943850346211,
          -0.08421906646907674,
          0.7506549677431948,
          -0.08394436644639518,
          0.7509296677658763,
          0.034758863129934134,
          0.02280854729823224,
          0.8696328973422055,
          -0.06704943850346211,
          -0.06704943850346211,
          -0.11095610000016952,
          -0.11095610000016952,
          -0.02225599410946475,
          -0.1094206649513055,
          -0.11161022424993204,
          -0.09350689217870481,
          0.0809147411980818,
          -0.0757007865785507,
          -0.14087444696275972,
          -0.15636308883077218,
          0.031048840196390096,
          -0.14636334771022763,
          0.6665902507626104,
          0.0418699522222233,
          0.23158879258221018,
          1.0784131426261834,
          -0.15469810763907374,
          -0.1795467076655529,
          -0.17836231905303362,
          -0.1142197816089493,
          -0.11918544177826607,
          -0.11374879612647638,
          -0.11871445629579319,
          -0.13620541350320878,
          -0.13620541350320878,
          -0.11258007914361336,
          -0.11754573931293012,
          -0.13783451698948718,
          -0.13783451698948718,
          -0.09153037844930766,
          -0.12120227532851398,
          0.15209877583111986,
          0.9989231258750922,
          0.374202827334706,
          -0.16697383773070676,
          -0.21094459511350738,
          -0.17853549394144289,
          -0.22378921795734327,
          -0.16582438490898257,
          -0.1813130267769951,
          -0.23298385581227682,
          -0.13399836090938327,
          -0.15207381145059584,
          -0.2342010167298099,
          -0.17713363949557398,
          -0.21732533507614604,
          -0.16614922220821307,
          -0.19633014426008363,
          -0.15466116626156642,
          -0.15424532635758384,
          -0.159965671824522,
          -0.0391620474239679,
          -0.03820529426177641,
          -0.23352530460413043,
          -0.2322485369254296,
          -0.29500024286570536,
          -0.11103442718812996,
          -0.11724982234482853,
          -0.12241326170954837,
          -0.12059244157643025,
          -0.12680783673312873,
          -0.1256070161913396,
          -0.12378619605822151,
          -0.13000159121492003,
          -0.180332122616053,
          -0.09202454296425051,
          -0.10358442283284965,
          -0.22366161399857148,
          -0.2148967328325599,
          -0.2015027521085457,
          -0.22041970616966103,
          -0.21647706015651844,
          -0.21605413748969363,
          -0.21456134608112531,
          -0.2141676277830388,
          -0.20878516164887567,
          -0.22347880789142047,
          -0.20892791373823286,
          -0.14452894243030687,
          -0.2958347514601699,
          0.1100314852717589,
          0.9568558353157323,
          0.33213553677534496,
          0.10479915330142953,
          0.9516235033454028,
          0.32690320480501556,
          -0.141277875626167,
          -0.11743462185301082,
          -0.1524271059143797,
          -0.13592528168006113,
          -0.14979529383887252,
          -0.1332934696045539,
          -0.13228299862551518,
          -0.12926139985043486,
          -0.14369228286656438,
          -0.12926139985043486,
          -0.12690499751126633,
          -0.1413358805273958,
          0.8453454304525035,
          0.22062513191211658,
          -0.08293610868863327,
          -0.07368285779989704,
          -0.07545031778728559,
          -0.07693679723500933,
          -0.16630573942864726,
          -0.07435091618867078,
          -0.07334810460599053,
          -0.2833139556220264,
          -0.16232842120980437,
          0.8492508741126178,
          0.22453057557223094,
          -0.22647246089792547,
          0.84463926792076,
          0.21991896938037306,
          -0.14304901590595448,
          -0.1534432527255689,
          -0.23265167498894393,
          -0.231944657426583,
          -0.23592844829799361,
          -0.15426883103576847,
          -0.15437493120836937,
          -0.14872802600216675,
          -0.14872802600216675,
          -0.2155985640194357,
          -0.17892641278267923,
          -0.17732586072500953,
          -0.18042728700887672,
          -0.20278298289742913,
          -0.20590216241014198,
          -0.11121274954264487,
          1.1061069365940455,
          0.48138663805365856,
          -0.14421972331729205,
          -0.158123435395643,
          -0.09068576626897347,
          -0.09069602172105208,
          1.0973619014952867,
          0.4726416029548995,
          -0.13885251035375124,
          -0.14017954236607358,
          -0.2238746696252306,
          -0.232377300196527,
          -0.16259448559043144,
          -0.17222685829146095,
          -0.1712822788749807,
          -0.16808585253813574,
          -0.16666797621095802,
          -0.22820877322114116,
          -0.22791124589246192,
          -0.17726298288299128,
          -0.1759124659444726,
          -0.17119319231682226,
          -0.23130916391921244,
          -0.07716996403113587,
          -0.055415992833090136,
          0.27471221665832535,
          0.26857050141626854,
          0.27275361630892425,
          0.2666119010668672,
          0.10878730190403543,
          -0.15939016966881267,
          -0.1885095687013891,
          -0.21712059189740177,
          -0.23376329271728954,
          -0.16022015523433492,
          -0.20547387925023536,
          -0.12974107243076505,
          -0.1935022658606575,
          -0.14648620970864826,
          -0.13620631431083582,
          -0.14229525824232242,
          -0.1641365054665772,
          -0.1343549120504085,
          -0.1343549120504085,
          -0.1373238734637751,
          -0.1373238734637751,
          -0.150350404779591,
          -0.1555802679150042,
          -0.17541087416310158,
          -0.18113468229095733,
          -0.19502172394251976,
          -0.1355614775159342,
          0.08840178315613544,
          0.8953809241900922,
          0.27066062564970483,
          -0.07803631915640054,
          -0.2218089965755315,
          -0.2902726260018871,
          -0.2154766826022908,
          -0.1422602631676451,
          -0.14053620497425331,
          -0.21166085492465428,
          -0.1960770679309978,
          -0.184953260264444,
          -0.17996324844238237,
          -0.23504978953545586,
          -0.14171521140376772,
          0.7051091386402054,
          0.08038884009981832,
          -0.15942345677836436,
          -0.1485477354735786,
          0.6982766145703944,
          0.07355631603000744,
          -0.14714923264525065,
          0.6996751173987225,
          0.07495481885833544,
          -0.18870401186635594,
          -0.18700480452898816,
          -0.1884826670311642,
          -0.1867834596937964,
          -0.1957260575274117,
          -0.18811103522471384,
          -0.18641182788734595,
          -0.16994910281043174,
          -0.09670778642104397,
          -0.11178058838507385,
          -0.08187506406363702,
          -0.17282732510534637,
          -0.1883159669733588,
          -0.20143834830135893,
          -0.1261710304685682,
          -0.1150472228020143,
          -0.11770067433435633,
          -0.10437243229161629,
          0.7424519177523566,
          0.11773161921196983,
          -0.1633325960708,
          -0.1633325960708,
          -0.15693963030588268,
          -0.14696852899779836,
          0.6879055052144729,
          -0.18286967149835864,
          -0.10730739253256354,
          0.7395169575114093,
          0.11479665897102252,
          -0.0967427343232476,
          -0.0967427343232476,
          0.04723154398693331,
          0.8821055781992044,
          0.2573852796588174,
          0.052488204139705695,
          0.03998145608549237,
          0.43923043352691643,
          1.1119371665580722,
          0.48721686801768505,
          -0.15766250893674155,
          -0.1878434309886121,
          0.7502431963225613,
          0.1255228977821743,
          -0.17425953212941137,
          -0.16578917599519946,
          -0.08945430625490775,
          -0.10452710821893763,
          -0.13200024895077203,
          -0.1396242750720604,
          0.24039530910977594,
          1.0872196591537489,
          -0.17679213002966088,
          -0.18097045173850182,
          -0.183356389022546,
          -0.1814591020989105,
          0.7390450924698588,
          0.11432479392947183,
          0.09225578119941828,
          -0.28772348272718945,
          -0.12888975382498227,
          -0.077154658497662,
          0.02902739080552448,
          0.0009971447816727414,
          0.0022078435064286027,
          -0.09127645261331979,
          -0.09127645261331979,
          -0.11455201809595128,
          -0.15852277547875188,
          0.4137791767581427,
          -0.23774202796044427,
          -0.2373769071937028,
          -0.2369711046072331,
          -0.1280837192513381,
          -0.13882333635828412,
          -0.1597139799280727,
          -0.12534133768126363,
          -0.15947965656462448,
          -0.19879861699191648,
          -0.1095482508680077,
          -0.0853318026955755,
          -0.23286819960839628,
          -0.1682369617902709,
          -0.17392728007628455,
          -0.17238329866344707,
          -0.16820670863056508,
          -0.17007206396260588,
          -0.15452125716990284,
          -0.03873171274741057,
          -0.1581095113358353,
          -0.16906372655967766,
          -0.04033382161661967,
          0.24460607163023868,
          0.24762396931051045,
          -0.12704475203006593,
          -0.13778436913701203,
          -0.17639163563220783,
          -0.17265776529346025,
          -0.17595147780219222,
          -0.16573158084152273,
          -0.18182585767310827,
          -0.13835517375704942,
          -0.14982660163663372,
          -0.21057931090833298,
          -0.1835463861712341,
          -0.19813061556082479,
          -0.17898269354194055,
          -0.14583482182851665,
          -0.15778513766021857,
          0.6890392123837543,
          -0.18879399883307846,
          -0.18879399883307846,
          -0.18879399883307846,
          -0.16624934801328062,
          -0.1490725515820268,
          -0.16025734881429607,
          -0.12702362465217779,
          -0.14160785404176843,
          0.911420917309007,
          0.28670061876862,
          0.9024126444316045,
          0.27769234589121744,
          -0.2483241422034344,
          -0.28762827174741173,
          0.35591112922257545,
          0.9014414272662,
          0.2767211287258127,
          0.8117111136582773,
          0.18699081511789034,
          -0.05177394375000638,
          -0.2921423441634892,
          -0.1761831144635968,
          -0.17385396521100716,
          -0.2894434360114772,
          -0.29649058955502783,
          -0.06346236260481623,
          -0.06809763276673171,
          -0.12159284559060182,
          -0.12622811575251736,
          -0.1576525708464405,
          -0.12904154765042788,
          -0.1412433732372692,
          0.06891036243461497,
          -0.172572393732738,
          -0.1614485860661841,
          -0.16410203759852604,
          0.7415046824194482,
          0.11678438387906138,
          -0.12739825906163357,
          -0.12739825906163357,
          0.23563244113010745,
          -0.030040825294908684,
          0.13780544636065842,
          0.9726794805729297,
          0.34795918203254256,
          -0.13578209082154394,
          -0.10494977379591709,
          0.1278686542413279,
          0.9627426884535993,
          0.33802238991321215,
          0.16440506540733318,
          0.17635538123903508,
          0.16440506540733318,
          1.011229415451306,
          0.38650911691091916,
          0.15741962104004403,
          0.16936993687174592,
          0.16936993687174592,
          0.15741962104004403,
          1.0042439710840172,
          0.3795236725436302,
          0.1558021028142544,
          0.16775241864595639,
          0.16775241864595639,
          0.1558021028142544,
          1.0026264528582276,
          0.37790615431784047,
          0.14789597478481928,
          0.15984629061652114,
          0.15984629061652114,
          0.14789597478481928,
          0.9947203248287924,
          0.3700000262884054,
          0.8199646630856093,
          0.19524436454522215,
          -0.14810954961509853,
          -0.1454022019301665,
          -0.1342783942636126,
          -0.13693184579595463,
          0.09003888208969722,
          -0.09185567220022596,
          -0.15691507354475195,
          -0.23345260873888143,
          -0.22701156747702306,
          -0.29701665425649776,
          -0.17625654636429333,
          -0.15382091621372382,
          -0.1515639145645735,
          -0.23283980326027934,
          -0.22574723901105506,
          -0.183323061934954,
          -0.23691227337351414,
          0.08532196871437504,
          -0.17040365696078563,
          -0.1342221336369963,
          -0.1115877090428431,
          -0.1115877090428431,
          -0.11862401228787202,
          -0.09425704481515879,
          -0.2189628263463373,
          -0.21477425773049152,
          0.7546434380156813,
          0.12992313947529444,
          -0.14439890009641804,
          -0.20847632166903157,
          -0.1275764769288735,
          -0.06381238942478598,
          1.109961582750121,
          0.4852412842097346,
          -0.16396926259254482,
          -0.1564229540134308,
          -0.14318703215382245,
          -0.14318703215382245,
          -0.10986793647365703,
          -0.10986793647365703,
          -0.09447873822738007,
          -0.09447873822738007,
          -0.14583618930683995,
          -0.14583618930683995,
          -0.14248207418090814,
          -0.0961407466047192,
          -0.0961407466047192,
          -0.14245386296409301,
          -0.14245386296409301,
          -0.14364321631500787,
          -0.16886993051622304,
          -0.16886993051622304,
          -0.12556311219923735,
          -0.1328609713953172,
          -0.10249292785935447,
          -0.10979078705543432,
          -0.08478994345245931,
          0.7500840907598119,
          -0.11822939363503697,
          -0.16348311765093745,
          -0.08954837638176615,
          0.7572759736622069,
          0.1325556751218199,
          -0.17805966040203058,
          0.6687646896419425,
          0.044044391101555405,
          -0.29897585051508674,
          -0.2301607066512611,
          -0.21488757599203756,
          -0.21787643543136506,
          -0.08553939669390481,
          0.0907715791257789,
          -0.20145018780838145,
          -0.20103434790439892,
          -0.21457256913638154,
          -0.20051421864346103,
          -0.20009837873947844,
          -0.213636599971461,
          -0.2014432338529729,
          -0.20102739394899027,
          -0.214565615180973,
          -0.2084357081854026,
          -0.20801986828142005,
          -0.22155808951340264,
          -0.23820079033329056,
          -0.06756419860146187,
          0.08796939681945457,
          -0.1152560769914517,
          -0.2345095544354654,
          -0.12286885251092246,
          0.5707976449173041,
          0.08809434006974928,
          -0.17045705331797345,
          -0.15767370785195725,
          -0.15167692210379852,
          -0.19113313656069875,
          -0.19113313656069875,
          -0.1846972642584742,
          -0.21909269729428638,
          0.1490888194504471,
          -0.09546034925724928,
          -0.13333050746074518,
          -0.13333050746074518,
          0.14948290594304187,
          -0.09506626276465448,
          0.2663646536408335,
          -0.29598796557517104,
          -0.22678518884209226,
          -0.15432808254780708,
          -0.22231822896839643,
          -0.17987230928261638,
          -0.2375685210915685,
          -0.18523461708450412,
          -0.11418870627972813,
          -0.2917175346185257,
          -0.15975223196814725,
          -0.14683903159681141,
          -0.09601654839529553,
          0.7508078016486776,
          0.7319412278458538,
          0.1072209293054668,
          0.7268832772656395,
          0.10216297872525251,
          -0.15556132119490498,
          -0.10922527235777214,
          0.7256487618544991,
          -0.12214878481440139,
          0.71272524939787,
          1.1001971531167682,
          0.4754768545763818,
          -0.1526184905037669,
          -0.08136623899274836,
          0.11071852588079116,
          0.9436025492375808,
          -0.23286819960839628,
          -0.10343913295327674,
          -0.03728109604846252,
          0.05586348028621334,
          0.8907375144984848,
          0.04391316445451145,
          -0.04357628801627089,
          -0.2337607432227828,
          -0.10121543447849286,
          0.7336585997337784,
          -0.20882216155970965,
          -0.14463671224375507,
          -0.15255144125360065,
          -0.15255144125360065,
          -0.2161205776395508,
          -0.16271356475858084,
          -0.22647475818847326,
          -0.16028444622453758,
          -0.22404563965442995,
          0.8760323027873202,
          0.25131200424693334,
          0.919962203813627,
          0.2952419052732399,
          -0.1281793844184566,
          -0.1436680262864691,
          -0.1734331084343571,
          -0.22413916597206865,
          -0.2879003594019612,
          -0.2527501891680813,
          -0.22734691693082937,
          -0.23077897844032788,
          -0.2343034221210967,
          -0.23269780340756843,
          -0.23151444767135498,
          -0.23737578459494119,
          -0.2322493031694213,
          -0.10981384655178114,
          0.2736385875350061,
          -0.16018126900288446,
          -0.15727798483038505,
          -0.15579949000804771,
          0.914462205423827,
          0.2897419068834397,
          -0.15075812631990024,
          -0.15252404165769096,
          -0.16591899859293358,
          -0.15341223214907163,
          -0.16680718908431427,
          -0.17879347706960666,
          -0.16766966940305275,
          -0.17032312093539473,
          -0.15100647493888894,
          0.08734131291454936,
          -0.05163028765436506,
          -0.06358060348606694,
          0.7832437465579062,
          -0.16465524501660342,
          -0.16496617801587385,
          -0.0982302258764897,
          -0.11371886774450223,
          0.1342936688460329,
          0.7590139673864197,
          -0.10031713071176653,
          -0.13720584160200536,
          -0.1287354854677935,
          -0.12109202211338989,
          -0.17465989449009095,
          -0.17465989449009095,
          -0.17465989449009095,
          -0.17340978999667617,
          -0.20359071204854667,
          -0.03590172532843561,
          -0.09388087616184063,
          -0.09388087616184063,
          -0.11511766502894687,
          -0.11511766502894687,
          -0.09855165814448652,
          -0.1015030821701193,
          -0.05693345996783614,
          -0.05693345996783614,
          -0.13739435282007112,
          -0.1314712320674742,
          -0.140100104925873,
          -0.12256816895427056,
          -0.1099799362817656,
          -0.168012990265156,
          -0.15268424594195446,
          -0.14995330700596937,
          -0.044312029014087165,
          -0.05626234484578904,
          0.790562005198184,
          0.165841706657797,
          -0.09730230166786644,
          -0.09730230166786644,
          -0.10925261749956831,
          0.7375717325444049,
          -0.09259448669354377,
          -0.1045448025252456,
          0.7422795475187274,
          -0.1136849819269162,
          -0.1136849819269162,
          -0.11485955644867353,
          -0.12656878050509587,
          -0.12656878050509587,
          -0.16096421354090804,
          -0.09447907723494725,
          -0.11294843159849603,
          -0.05643275804967505,
          -0.05051252717419433,
          -0.046431520978120956,
          -0.10937530907189666,
          -0.09300270323396316,
          -0.0889216970378898,
          -0.1990829614309383,
          -0.1990829614309383,
          -0.17356358709847464,
          -0.19964786117716588,
          -0.19964786117716588,
          -0.19656231137056906,
          -0.19656231137056906,
          -0.19656231137056906,
          -0.13364524938912184,
          -0.13364524938912184,
          -0.12884607048891938,
          0.16485488278388835,
          0.37500861845577244,
          -0.07207100420465933,
          -0.12217601724186294,
          -0.12026249793844832,
          -0.06894770900059646,
          -0.17657177085179504,
          -0.17567527541827976,
          -0.20332291978729033,
          -0.13172222992368834,
          -0.17497910152854843,
          -0.11717544075574897,
          -0.09854058583120129,
          -0.0946884598249209,
          -0.03930729460949457,
          -0.03974258758987846,
          -0.053075778841012985,
          -0.05307577884101302,
          -0.1630096611773733,
          -0.08461283726797396,
          -0.08461283726797396,
          -0.16810190921154475,
          -0.16810190921154475,
          0.038884703692743564,
          0.8857090537367168,
          0.26098875519632964,
          0.016439586488633223,
          -0.14700475276459848,
          -0.17130378556032658,
          -0.18488005027270954,
          -0.18488005027270954,
          -0.1700853124372035,
          -0.17330662017954512,
          -0.15095022741665404,
          -0.12680965962527432,
          0.708064374586997,
          0.08334407604660983,
          1.0681819187378854,
          0.4434616201974989,
          -0.16526513852457062,
          0.793959737309702,
          0.1692394387693152,
          0.4651538682785332,
          -0.11057417279538659,
          -0.24997596611164588,
          -0.2513029981239682,
          -0.28928009565562324,
          -0.24226403950361397,
          -0.23198414410580145,
          -0.23807308803728802,
          -0.25991433526154295,
          -0.23306996034635497,
          -0.19283619680799063,
          -0.11109846771878945,
          1.108284207746338,
          0.4835639092059512,
          -0.14443930263635926,
          -0.14277181681833692,
          -0.15826045868634941,
          -0.1713828400143495,
          -0.14790904364600765,
          -0.14461899133704736,
          0.015448640344229119,
          -0.1465182816466854,
          -0.16762719305307341,
          -0.09050329387412559,
          -0.13877975492237143,
          -0.1337746576904955,
          0.010500721261851757,
          0.01185372327120474,
          -0.11223742628938198,
          -0.09684163383924908,
          0.050559323458532764,
          0.0528086783775093,
          -0.10898959486190099,
          -0.11520639084705343,
          -0.10988861786165467,
          -0.10968016356437446,
          0.43500277510237106,
          -0.11405689379765466,
          0.43418919677187323,
          0.4338557315100966,
          -0.13554255254015615,
          -0.1381960040724982,
          -0.14203707457710923,
          -0.1446905261094512,
          -0.13240688992957064,
          -0.13506034146191268,
          -0.18410257901748786,
          -0.060461033301855094,
          -0.14051498566910242,
          -0.1431684372014444,
          -0.1710820126713565,
          -0.1616423757977277,
          -0.16863079209166176,
          -0.16863079209166176,
          -0.20188002839245797,
          -0.19776583823798374,
          -0.18246891400085563,
          -0.19454495471508865,
          -0.19974268773537976,
          -0.0009517281685372024,
          -0.012902044000239098,
          0.8339223060437339,
          0.20920200750334694,
          0.05406919186055489,
          0.9008935419045282,
          0.2761732433641409,
          -0.0060645815090715925,
          -0.01801489734077347,
          0.8288094527031996,
          0.20408915416281262,
          -0.03051475259392895,
          0.8163095974500443,
          0.19158929890965712,
          -0.05295986979803928,
          -0.17707082052366263,
          -0.22530448844876802,
          0.7867712087160198,
          0.050499583028522685,
          -0.22727445440805502,
          -0.22247274177960757,
          -0.23959810233137688,
          -0.30493993168370087,
          -0.22041075379179464,
          -0.26399262476139124,
          -0.22807069675003774,
          -0.2517736505487848,
          -0.22714609776173308,
          -0.22673031431360288,
          -0.17715598912808858,
          -0.1383868873055189,
          -0.1722236266190119,
          -0.18624055715623208,
          0.7182478326930511,
          -0.018023792994446043,
          -0.16323747885141432,
          -0.16323747885141432,
          -0.1429506746759531,
          -0.1429506746759531,
          -0.14473358390071914,
          -0.1333729429381232,
          -0.05027175647108749,
          0.784602277741184,
          -0.06510252397381269,
          0.14505121169807147,
          -0.018374868345596353,
          0.19177886732628782,
          -0.15403875797665684,
          -0.15154952655628587,
          -0.12329687748934391,
          -0.12329687748934391,
          -0.0653112735495699,
          0.14484246212231425,
          -0.15010816928989812,
          -0.15010816928989812,
          -0.10348289002114625,
          -0.10468736782392503,
          -0.16132841497848935,
          -0.11306628612995068,
          -0.12993829214068733,
          -0.13211415338154933,
          -0.12968926355080374,
          -0.13186512479166573,
          -0.1306263911750351,
          -0.13280225241589708,
          -0.09182645547679909,
          0.7505409277239321,
          -0.02320571552300744,
          -0.1318528972508201,
          0.0026612788583694914,
          0.21281501453025373,
          -0.12754285821968012,
          -0.13603536174785957,
          -0.1357684100843274,
          -0.13019737097828682,
          -0.18209920513868577,
          -0.19758784700669824,
          -0.2273529291545862,
          0.09506330237875307,
          0.9418876524227264,
          0.31716735388233913,
          0.4372082153054772,
          -0.15421570297948878,
          0.029267838812993923,
          1.0950595817805304,
          0.47033928324014374,
          -0.09905453793692867,
          1.0957284343851392,
          -0.22997173457697168,
          -0.18950668085429348,
          -0.07850563021774867,
          -0.0005671153245010785,
          -0.01251743115620298,
          -0.04604709878715295,
          0.7888269354251182,
          -0.022476620968234877,
          -0.034426936799936775,
          0.8123974132440365,
          -0.03548944811507013,
          0.7993845860972009,
          0.17466428755681404,
          0.2680041554822901,
          0.2680041554822901,
          0.2911366813140308,
          0.2911366813140308,
          0.25532799719198923,
          0.25532799719198923,
          -0.05885380178044543,
          0.7760202324318257,
          -0.11756414797525624,
          -0.11756414797525624,
          -0.12331329869370115,
          -0.12331329869370115,
          -0.12641096851657335,
          -0.15082442989778477,
          -0.15082442989778477,
          0.6747527891958031,
          0.050032490655416026,
          0.6541534471076468,
          0.029433148567259888,
          -0.20517765099053945,
          -0.29816826912133215,
          -0.23094461052851262,
          -0.14473697750042325,
          -0.1055193490321093,
          -0.19292556439415623,
          -0.19807065237846624,
          -0.2356494257080549,
          -0.051833804398326584,
          -0.047752798202253185,
          -0.11521749165153496,
          -0.1128115746743036,
          -0.22434066336086558,
          -0.050616555962657475,
          0.09069193476175351,
          -0.010327828951292507,
          -0.05662990100421453,
          -0.05290458238942235,
          -0.12148394125715785,
          -0.11740293506108453,
          -0.15099140926424287,
          -0.148727499386129,
          -0.1313394951750689,
          -0.13062819098403208,
          -0.14638201090591713,
          -0.1440998167411739,
          -0.17083811702638074,
          -0.16827694312289646,
          -0.11201248122282859,
          -0.10560206148588046,
          0.009059712495173412,
          0.009059712495173412,
          -0.20599539437952052,
          -0.20599539437952052,
          -0.1973476552437275,
          -0.23587624836263413,
          -0.1802583648088259,
          -0.18465293983240627,
          -0.16782512061393215,
          -0.17258507557002709,
          -0.13284260807702233,
          -0.2370830057526176,
          -0.11967744632158936,
          -0.1705648069046772,
          -0.21879847482978237,
          -0.21182236571801846,
          -0.24145447432400105,
          -0.29853617952460976,
          -0.26437478006355974,
          -0.2601220792449508,
          -0.23686269033881094,
          -0.20693823622241142,
          -0.1484909906729402,
          -0.2180794446620925,
          -0.24771155326807515,
          -0.2226737019942068,
          -0.27532040734862584,
          -0.09531042713734464,
          -0.15879953393217996,
          0.6760745002800912,
          -0.22468647723527782,
          -0.19029104419946552,
          -0.2097514014713229,
          -0.17526437564472994,
          0.6596096585675411,
          -0.2205180996606305,
          -0.1757299274001177,
          -0.1757299274001177,
          -0.1623673503045448,
          -0.1563119926434581,
          -0.14700505781466214,
          -0.14689560793712406,
          -0.16524728482694984,
          -0.12101456784860905,
          -0.12981816550799483,
          -0.129106861316958,
          -0.15935258606735173,
          -0.16655618416539017,
          -0.15698600070055224,
          -0.11490953214021964,
          -0.21610914371068274,
          -0.19910398060621787,
          -0.21600640855616893,
          -0.22271465087525227,
          -0.1530257181795636,
          -0.1530257181795636,
          -0.21576196961709893,
          -0.21576196961709893,
          -0.11338165936645464,
          -0.12811842917862412,
          -0.2607542967447153,
          -0.26208132875703766,
          -0.30005842628869256,
          -0.25304237013668346,
          -0.27069266589461227,
          -0.2309235182735134,
          -0.17683683259991193,
          -0.17683683259991193,
          -0.16141983385760145,
          -0.12639578459884787,
          0.9635273093135781,
          0.3388070107731909,
          -0.15551959968971074,
          -0.1674699155214126,
          -0.21928079311960327,
          -0.1899150327255229,
          0.9630194025714824,
          0.3382991040310954,
          0.9795404163075344,
          0.354820117767147,
          0.11347900627263756,
          0.9483530404849086,
          0.32363274194452174,
          -0.051322187010597445,
          -0.09359678695500037,
          -0.10006202883507119,
          0.8479198376636965,
          0.8479198376636965,
          0.22319953912330942,
          0.03266943282315354,
          0.8794937828671266,
          -0.12361747740331269,
          0.008185379198568517,
          0.008185379198568517,
          -0.16668586324321,
          -0.14137844696735102,
          -0.15995120753798683,
          -0.15995120753798683,
          -0.12609421438144258,
          -0.13364527250206684,
          -0.1281076110013822,
          -0.05854442800846233,
          0.07361403588225503,
          -0.1996146630654706,
          -0.10622997331487843,
          0.728644060897393,
          0.10392376235700576,
          -0.13889577312103632,
          -0.13889577312103632,
          -0.08480715418814563,
          -0.08480715418814563,
          -0.08286356382021293,
          -0.08286356382021293,
          -0.19794516176603696,
          -0.19794516176603696,
          0.1407463587849377,
          0.3509000944568218,
          0.1407463587849377,
          -0.10191855224250203,
          0.732955481969769,
          -0.1508961867973845,
          0.6839778474148868,
          -0.10531911273113656,
          0.7295549214811347,
          0.10483462294074758,
          -0.13015439568963316,
          -0.13015439568963316,
          -0.13757210158832603,
          -0.13757210158832603,
          -0.10559930226441058,
          -0.10559930226441058,
          -0.1537707738454715,
          -0.10762272434375054,
          -0.10762272434375054,
          -0.11719845051285006,
          -0.11719845051285006,
          -0.12820665424559058,
          -0.11205394159651644,
          -0.11205394159651644,
          -0.03322900807209027,
          -0.03322900807209027,
          -0.041027693591913966,
          -0.06706574738558327,
          -0.07262960101073314,
          -0.07262960101073314,
          -0.18790027917616894,
          -0.22229571221198122,
          -0.22646852776051693,
          -0.22646852776051693,
          -0.2509255916464322,
          -0.29022972119040946,
          -0.21661808452181722,
          -0.10337413905004865,
          -0.10337413905004865,
          -0.1694488872512557,
          -0.17424446517003886,
          -0.16397740166759298,
          -0.15979172353714538,
          -0.17662722341552275,
          -0.15995639959249636,
          -0.15995639959249636,
          -0.15509799164554824,
          -0.1670483074772501,
          -0.15677401803330118,
          -0.15677401803330118,
          -0.15007048435101975,
          -0.12570744862613897,
          0.7211169014178339,
          0.6996291609066081,
          0.0749088623662212,
          0.727068509655753,
          0.10234821111536602,
          -0.04319179064263813,
          -0.04319179064263813,
          0.08896667324807923,
          -0.05868043251065062,
          -0.16769911125244202,
          0.8179807991929053,
          0.19326050065251826,
          0.016842873307398955,
          -0.11310926948496478,
          -0.06529574713911651,
          -0.07724606297081839,
          0.7695782870731549,
          0.14485798853276763,
          -0.0754462340793164,
          -0.0873965499110183,
          0.7594278001329543,
          0.13470750159256775,
          -0.15261740555603884,
          -0.15261740555603884,
          -0.15758306572535555,
          -0.16016846367666313,
          -0.13561312475692253,
          0.6992609094553489,
          0.07454061091496154,
          -0.10048218682555579,
          -0.11243250265725775,
          -0.10803324494618005,
          -0.1675085364521177,
          -0.1750595945727419,
          -0.29484880159951266,
          -0.24783274544750344,
          -0.18553675216712662,
          0.8848559840431408,
          0.04880737530911239,
          -0.24344020290189988,
          -0.15844384615325788,
          -0.1389510184192208,
          0.7078733316247517,
          -0.15145776647343412,
          -0.1421730748258133,
          -0.1421730748258133,
          -0.14411133715450977,
          -0.14411133715450977,
          -0.08997138781771168,
          -0.14210332522229885,
          -0.14210332522229885,
          -0.11477632376902315,
          -0.11792321233333813,
          -0.24290267750906774,
          0.6039216725349053,
          -0.020798626005481755,
          -0.1861568542535222,
          -0.10560537766381599,
          -0.1938854597260381,
          1.1001611640801539,
          0.4754408655397672,
          0.8302345081647894,
          0.20551420962440234,
          -0.20156120216420945,
          0.09264810588757234,
          0.9394724559315455,
          0.3147521573911584,
          0.070202988683462,
          -0.1772538716641457,
          -0.2036634056784926,
          -0.16635289948224155,
          -0.08621165256722287,
          -0.20667046163996752,
          -0.15816823929993792,
          -0.15794283092778455,
          -0.16172976709282677,
          -0.16172976709282677,
          -0.14939390541699613,
          -0.17328828587857747,
          -0.17328828587857747,
          -0.007325738646510818,
          -0.05913661624470144,
          -0.02415167833409051,
          -0.02415167833409051,
          -0.26401983145713026,
          -0.26534686346945263,
          -0.30332396100110753,
          -0.2563079048490983,
          -0.14843453637878123,
          -0.218293828616661,
          -0.15453263518676844,
          -0.14129567681313876,
          0.693578357399132,
          -0.15534262241249322,
          -0.15534262241249322,
          -0.1501812296605913,
          -0.15160634851121854,
          -0.15657200868053525,
          -0.15403345449669706,
          -0.15552989000252893,
          -0.1704419040146867,
          0.8067864868084165,
          0.18206618826802937,
          -0.17228610288997745,
          -0.14378470338278773,
          -0.13913290642727907,
          -0.13913290642727907,
          -0.09513235752865705,
          -0.14662814890877937,
          -0.2698740753202987,
          -0.2698740753202987,
          -0.022293919623909395,
          -0.1500364312412599,
          -0.14898747131810508,
          -0.15065830316222906,
          -0.15065830316222906,
          -0.15027677723130803,
          -0.15072072824785268,
          -0.14898201520212778,
          -0.153377230159598,
          -0.153377230159598,
          -0.10267347723440383,
          -0.028764818473646783,
          0.23815896126835132,
          -0.006390207439345112,
          0.8467728200905613,
          0.22205252155017424,
          -0.1184187805669834,
          0.7284055694769896,
          0.1036852709366026,
          -0.14134041015318516,
          -0.1443448043901972,
          -0.1443448043901972,
          0.7295987028325365,
          0.1048784042921495,
          -0.15349608085552605,
          -0.15349608085552605,
          -0.12896903330767429,
          -0.10425663169950784,
          -0.10922229186882457,
          -0.20359142711886757,
          -0.20359142711886757,
          -0.19964786117716302,
          -0.19964786117716302,
          -0.17560704970945118,
          -0.17556188845440682,
          -0.10119345003549407,
          -0.10119345003549406,
          -0.1717290150351383,
          -0.1717290150351383,
          -0.10111881175634221,
          0.006950259449931828,
          0.0051777141220128884,
          -0.18102375511760307,
          -0.20589668179535262,
          -0.20581396756629394,
          -0.19854690866566907,
          -0.18102375511760307,
          -0.18102375511760307,
          -0.1763264508783788,
          -0.08240658288171597,
          -0.1887437491100793,
          0.6908632477967214,
          0.06614294925633415,
          -0.15586867421859216,
          -0.20314127053328979,
          -0.15621943891801526,
          -0.15621943891801526,
          -0.14898747131810916,
          -0.16609038993365505,
          -0.1857528769208725,
          -0.17462906925431865,
          -0.17728252078666068,
          0.698988486926872,
          0.07426818838648538,
          -0.15098667623987688,
          -0.15930839205488745,
          -0.1867161744079645,
          -0.1863685327574896,
          -0.1910508614844348,
          -0.1917244686497926,
          -0.10722684062612592,
          0.007817277878881434,
          -0.14137844696735108,
          -0.18657068434349075,
          -0.14137844696735105,
          0.008100494879819337,
          -0.1910508614844348,
          -0.13283365893329313,
          -0.15100667563905598,
          -0.15100667563905598,
          -0.1555200966307702,
          -0.1555200966307702,
          -0.15433002685615424,
          -0.1511572989792532,
          -0.14932990788957662,
          0.0639267365649362,
          -0.05166304692662919,
          -0.04551441058848068,
          -0.07179304431603334,
          -0.10944986386856088,
          -0.11679866331760352,
          -0.18709872208223324,
          -0.17597491441567933,
          -0.17862836594802137,
          -0.17098490259361773,
          -0.16725641397996577,
          -0.17976316203417908,
          -0.18937114631155744,
          -0.17824733864500356,
          -0.1809007901773456,
          -0.24016794240334527,
          -0.11688005779701902,
          -0.11688005779701902,
          -0.13254766788706304,
          -0.1317821492876305,
          -0.08391453470582595,
          -0.1021235124394599,
          -0.10135799384002728,
          -0.09523522504308637,
          -0.10200836103091032,
          -0.10200836103091032,
          -0.03774423253771868,
          -0.24174995767615196,
          0.7729392427199371,
          0.14821894417955014,
          0.6844404743098073,
          0.6844404743098073,
          -0.1560130254278358,
          -0.1560130254278358,
          -0.14964239608582133,
          -0.15617769344147778,
          -0.17166633530949024,
          -0.20143141745737822,
          -0.1772178596754256,
          -0.16471111162121232,
          -0.17765941041507108,
          -0.16653560274851728,
          -0.16918905428085929,
          -0.185370079859857,
          -0.18506110752093902,
          -0.18824116594192483,
          -0.18793219360300684,
          -0.23640129381150995,
          -0.21169714052112804,
          -0.24103233833425436,
          -0.20705542176142785,
          -0.23639061957455418,
          -0.2121749872957102,
          -0.24151018510883665,
          0.27324312954330926,
          0.28047294976391607,
          0.27324312954330926,
          0.28047294976391607,
          0.26912215987106275,
          0.2689529691486995,
          0.27618278936930624,
          -0.24935839412145758,
          -0.25068542613377987,
          -0.2886625236654349,
          -0.24164646751342553,
          -0.23136657211561312,
          -0.2374555160470996,
          -0.2731349981606475,
          1.1064178752746436,
          0.37014624958714654,
          -0.15679497676032875,
          -0.19063171607382173,
          -0.15765965592082562,
          -0.16555505349476354,
          1.0959175023593888,
          0.47119720381900243,
          0.09609243473312483,
          0.942916784777098,
          1.0944203993932522,
          0.8494238138595703,
          -0.11309068651426361,
          1.0938178763875361,
          1.0515887123785814,
          0.426868413838195,
          -0.1650142257869602,
          -0.05563659333560504,
          -0.05532762099668709,
          -0.05327081082824962,
          -0.2245266708389901,
          -0.23092611722008138,
          -0.22938460458960425,
          -0.1376752235230435,
          -0.13767522352304348,
          -0.13767522352304348,
          -0.17332464644913856,
          -0.17301457968058243,
          -0.18087925468178423,
          -0.21638061179211399,
          0.0961423140301266,
          0.9429666640740999,
          0.3182463655337126,
          -0.17213759243950294,
          -0.14056213371257117,
          -0.14056213371257117,
          -0.1858884893399692,
          -0.2152542497340495,
          -0.1858884893399692,
          0.6853401877148015,
          0.6853401877148015,
          0.7170491770303465,
          0.7170491770303465,
          0.09232887848995965,
          0.7123679033079343,
          0.7123679033079343,
          0.08764760476754713,
          -0.18457311960568049,
          -0.19258103721797462,
          -0.19257383459671823,
          -0.19327536374611143,
          -0.19354190625620635,
          -0.19383593890635664,
          -0.19356905362659502,
          -0.19380895061738201,
          -0.1437356579606496,
          -0.19543391582044592,
          -0.12163543658438963,
          -0.12660109675370634,
          -0.1442590135767457,
          -0.1442590135767457,
          -0.13599658359403022,
          -0.13599658359403022,
          -0.07597038813893826,
          0.7589036460733329,
          0.13418334753294586,
          -0.12236459090988731,
          -0.14956736802356824,
          -0.14956736802356824,
          -0.14929408763275603,
          -0.16387831702234668,
          0.7330046288666869,
          0.7330046288666869,
          0.1082843303262999,
          0.1082843303262999,
          -0.22614016956810373,
          -0.238646917622317,
          -0.23997394963463944,
          -0.27795104716629426,
          -0.2309349910142851,
          -0.22065509561647265,
          -0.22674403954795924,
          -0.24858528677221406,
          -0.17771263412140145,
          -0.17771263412140145,
          -0.023457784477701176,
          -0.023457784477701176,
          -0.07200127864956216,
          -0.07200127864956216,
          0.9152154571245249,
          0.9152154571245249,
          -0.07285399766112449,
          -0.07285399766112449,
          -0.1377948480977189,
          -0.10270125557586433,
          -0.10270125557586433,
          -0.1310960493550074,
          -0.1461688513190373,
          -0.14137844696735102,
          -0.15994327039660655,
          -0.18424473492099533,
          -0.18424473492099533,
          -0.18229965223352979,
          -0.1711758445669759,
          -0.1738292960993179,
          -0.20180940889961121,
          -0.15767063490508065,
          -0.18628165810109318,
          0.23771534086408344,
          0.22576502503238152,
          1.072589375076354,
          0.44786907653596764,
          -0.22585682310244193,
          -0.18358858431711092,
          -0.1910508614844348,
          -0.19138048586165982,
          -0.19164398268596042,
          -0.19199181950880212,
          -0.19258462382332406,
          -0.1424886508693936,
          0.00660140329860223,
          -0.1918165776630319,
          -0.19242635141168352,
          -0.19190293733109245,
          0.01001602469042441,
          0.029296345755768977,
          0.876120695799742,
          -0.014895569265522204,
          0.8199784649467489,
          0.8199784649467489,
          0.8559802723843108,
          0.8559802723843108,
          0.23125997384392344,
          0.7461496868834215,
          0.7461496868834215,
          -0.17290920095589804,
          -0.21816292497179848,
          -0.12634780689906988,
          -0.12634780689906988,
          -0.18856945594195987,
          -0.21166378222349366,
          -0.19920656001374545,
          -0.1658930397780965,
          0.09628891571306435,
          0.9431132657570376,
          -0.15333375862721355,
          -0.1670978458270261,
          -0.08625729672555885,
          -0.10660595372290205,
          -0.10660595372290205,
          -0.11102895596283338,
          -0.11102895596283338,
          -0.16951147267857433,
          -0.13549762585264452,
          1.106886212907922,
          0.4821659143675354,
          1.1118584278114338,
          0.48713812927104677,
          -0.07029667212789006,
          0.7272494244370068,
          0.10252912589661971,
          1.101409257091087,
          0.4766889585507,
          -0.14396517859919986,
          0.09549445757787309,
          -0.04427206148171417,
          -0.05622237731341605,
          -0.13816122868808148,
          -0.13816122868808148,
          0.8884338785695536,
          0.2637135800291668,
          -0.1277199877574595,
          0.7071540464548117,
          -0.14692785600212874,
          -0.18525260152312956,
          0.6915043417894118,
          0.06678404324902479,
          -0.19289902348478233,
          -0.16271810143291174,
          -0.013760678753416104,
          0.833063671290557,
          0.20834337275016995,
          -0.016241156132069296,
          0.8305831939119038,
          0.20586289537151678,
          -0.1468234704912111,
          -0.16231211235922355,
          -0.17425606392849502,
          -0.17425606392849502,
          -0.13168122315747044,
          -0.15420280434614186,
          -0.15552983635846432,
          -0.22066198779436794,
          -0.21647103632804213,
          -0.23831228355229683,
          -0.17587240131971071,
          -0.18780106915761144,
          0.08893921542226085,
          -0.14074854822151606,
          -0.13013204065328146,
          -0.193893234083174,
          -0.12444899886427509,
          -0.12757148499660315,
          -0.1592547885664693,
          -0.1592547885664693,
          -0.18854626695991591,
          0.676244547165749,
          0.05152424862536181
         ],
         "xaxis": "x",
         "y": [
          -0.37898035088708204,
          0.8726487037812092,
          0.14118589587151947,
          -0.3436641703531424,
          0.9079648843151507,
          -0.42887235369874666,
          0.8227567009695465,
          -0.09414525838751352,
          -0.011837431206586299,
          -0.041118960308444724,
          -0.041118960308444724,
          -0.04574665364039452,
          -0.03232140398529488,
          -0.04431558687673002,
          -0.04431558687673002,
          -0.049073985192181035,
          -0.05949046004175213,
          -0.003803793924282193,
          -0.10758889310111748,
          -0.10764826723580342,
          -0.04038729457074699,
          -0.04038729457074699,
          -0.44784670800120036,
          0.803782346667093,
          -0.1039737255515452,
          -0.07297151107709329,
          -0.07549092789353515,
          0.003142840303384751,
          -0.4043165731270684,
          0.5061184410321231,
          -0.3793823523997646,
          0.5310526617594266,
          -0.008965429029823214,
          0.038335724096196074,
          -0.07313663000423214,
          -0.07565604682067398,
          -0.052510013046436085,
          0.02488063974777243,
          -0.09812519817503096,
          -0.05251001304643694,
          0.024880639747771553,
          0.003725803645211101,
          0.0042432390959128725,
          -0.13007813416099104,
          -0.13007813416099098,
          -0.12303226526070943,
          0.20224043178971546,
          0.20684117208952457,
          0.0895905262940074,
          -0.05217145210802156,
          -0.07148187193364698,
          -0.07148187193364697,
          0.22919758151847963,
          -0.1814543816556163,
          1.0701746730126773,
          0.6483978487726935,
          0.016550039874649317,
          -0.09712052129410673,
          -0.09712052129410673,
          -0.5045799347245599,
          -0.05133922704792865,
          -0.05133922704792865,
          -0.051766309157737514,
          -0.051766309157737514,
          -0.05453305384163328,
          -0.05958443094180047,
          -0.24198980365375117,
          1.0096392510145422,
          -0.24198980365375594,
          1.0096392510145376,
          -0.24198980365375444,
          1.009639251014539,
          -0.24214095609868183,
          1.0094880985696115,
          -0.24198980365375578,
          1.0096392510145378,
          -0.12428535663480425,
          0.03636727175279538,
          0.033227846352975786,
          0.026963777272671054,
          0.03156451757248032,
          0.023824351872851462,
          0.026370984294936325,
          -0.015188752421032282,
          -0.02842396903049097,
          -0.028797777014245934,
          -0.04812762574299337,
          -0.025749506628071385,
          -0.02085723130695731,
          -0.022882581428005005,
          -0.03180655181977455,
          -0.0190530125720883,
          -0.02815093485987257,
          -0.031290360259692174,
          -0.045282033544019815,
          -0.08993883415387716,
          0.00667982030178545,
          0.007479455099193866,
          -0.042411291466926626,
          -0.20509442829356467,
          1.046534626374729,
          -0.07708187611208381,
          -0.03960320666651065,
          -0.03960320666651065,
          -0.07222551678113903,
          -0.07222551678113903,
          0.03251861056859267,
          0.03251861056859269,
          -0.1095194045045775,
          -0.1095194045045775,
          -0.07955867347388552,
          -0.12214475901037421,
          -0.12214475901037426,
          -0.12214475901037426,
          -0.08625468112773312,
          -0.08593695427775876,
          -0.060156310743177864,
          -0.055330878959336895,
          -0.055330878959336895,
          -0.04840851463485801,
          -0.06553987075497085,
          -0.18803839431447153,
          1.063590660353822,
          -0.0566558312079599,
          -0.07992911042172289,
          -0.024384687730801116,
          -0.06989775797625757,
          -0.07108300423721245,
          -0.04193427199829052,
          -0.04846814104882839,
          -0.07905547558587349,
          -0.10626989809334628,
          -0.04883302573377701,
          -0.4260470233063987,
          0.8255820313618945,
          -0.04668127450695831,
          -0.05390256104832639,
          -0.07950707910782034,
          0.8230527241792046,
          0.056273735735572684,
          -0.09171192743213627,
          -0.06852293963572582,
          -0.41245200469633675,
          0.8391770499719571,
          -0.05129372522496984,
          -0.08095319540578044,
          -0.06299347176385532,
          -0.08502039857141344,
          -0.07403143043136563,
          -0.07440523841512067,
          -0.09373508714386812,
          -0.07135696802894613,
          -0.08386743811635164,
          -0.09008713429094523,
          -0.09589292137650703,
          -0.10211261755110063,
          -0.050044062531043654,
          -0.11012734218753041,
          0.03251861056859269,
          -0.09402591539921108,
          -0.08508072404755487,
          -0.492540137478008,
          0.5523374095520882,
          -0.08181605855276072,
          -0.0772284528241292,
          -0.20666561735844263,
          1.0449634373098506,
          0.16370043257426126,
          -0.09624675778427748,
          -0.06429934464320963,
          -0.058988370334107795,
          -0.06031093917389677,
          -0.08341402928301588,
          -0.07810305497391402,
          -0.07942562381370302,
          -0.07095977630075388,
          -0.07095977630075388,
          -0.2517517030569578,
          0.9998773516113355,
          -0.053680772851930465,
          -0.053680772851930465,
          -0.06206089556622969,
          -0.06206089556622969,
          -0.05452862401992867,
          -0.461988037450382,
          0.7896410172179114,
          -0.05255592763551359,
          -0.05255592763551359,
          -0.09822476437304622,
          -0.09822476437304622,
          -0.04833921982525638,
          -0.012985394010319675,
          0.2613608876657181,
          -0.2234891785589438,
          1.0281398761093494,
          -0.09738019904290182,
          -0.1026597400191576,
          -0.1026597400191576,
          -0.10109061767879797,
          -0.10109061767879797,
          -0.05635724147138039,
          -0.05635724147138039,
          -0.010039535488212127,
          -0.010039535488212127,
          -0.08077298733125042,
          -0.08523751656401497,
          -0.047973580142486524,
          0.0019077476810967615,
          -0.08552557197892777,
          -0.08552557197892777,
          -0.0916885215428278,
          -0.12379197657602457,
          -0.12379197657602457,
          -0.03330345031838216,
          -0.03330345031838216,
          -0.10587960360742416,
          -0.07958127648832335,
          -0.11469671288112145,
          -0.04160647192024577,
          -0.06353649242181718,
          0.002433539572120206,
          -0.08489905829263293,
          -0.08752961387697157,
          -0.052607431866653016,
          -0.056741875827074406,
          -0.03220907040894226,
          -0.4396684838393957,
          -0.026559806305649,
          -0.026559806305649,
          -0.054664409070216385,
          -0.46212382250066963,
          -0.054684796060263725,
          -0.4621442094907169,
          0.02545739622953892,
          0.10284804902374743,
          -0.3820020172009143,
          -0.026559806305649,
          -0.026559806305649,
          -0.06092633419515069,
          -0.06092633419515069,
          0.007348503928866232,
          -0.0597745351843572,
          -0.06024086049100081,
          -0.04377110703390706,
          0.6084106718918536,
          -0.025472561035701086,
          -0.07103364983111934,
          -0.07904089266742473,
          0.5896229749129468,
          -0.060927378268116644,
          -0.4761781675159029,
          0.7754508871523906,
          0.2550314426252601,
          -0.22981862359940167,
          -0.07837115894950472,
          -0.11062618804845811,
          -0.10816494967213008,
          -0.04768167329109556,
          -0.05019116190283536,
          -0.047451888950098976,
          -0.049961377561838785,
          -0.07096036634728972,
          -0.07096036634728972,
          -0.046828730340533635,
          -0.049338218952273444,
          -0.06924300381169327,
          -0.06924300381169327,
          -0.03406553358240517,
          -0.04744509367924379,
          0.2049041690614264,
          -0.2799458971632354,
          0.9716831575050576,
          -0.09099109611227713,
          -0.11426437532604006,
          -0.09613165092957947,
          -0.1228414380489041,
          -0.0858907341531922,
          -0.0938979769894976,
          -0.12896920378822327,
          -0.05940101851751986,
          -0.0671936091838518,
          -0.1271675858496024,
          -0.08917903949456407,
          -0.11326903987443653,
          -0.08109081875759439,
          -0.0997547729591634,
          -0.0773894332880042,
          -0.07742802336945438,
          -0.0884226332735163,
          0.005566615492215138,
          0.0060840509429169074,
          -0.12986051625939513,
          -0.12896980729255342,
          -0.12524925555605892,
          -0.050498030473559524,
          -0.05611051760183621,
          -0.06249748816954372,
          -0.05920090005712026,
          -0.06481338718539696,
          -0.06481398395001756,
          -0.06151739583759411,
          -0.06712988296587079,
          -0.08187332555444615,
          -0.03836688169527545,
          -0.01861588208453465,
          -0.11360446307011271,
          -0.10362420503513291,
          -0.11463994700615061,
          -0.10969638824265505,
          -0.1100221120345636,
          -0.11177386191497417,
          -0.10725845766270392,
          -0.1124292370720473,
          -0.10527010605022366,
          -0.11750494229497314,
          -0.10078222742489656,
          -0.04352777704767118,
          -0.12298523859349854,
          0.18212283470224125,
          -0.3027272315224206,
          0.9489018231458731,
          0.17594679537047714,
          -0.30890327085418473,
          0.9427257838141091,
          -0.06625264341567706,
          -0.04882175333050451,
          -0.06842607307444136,
          -0.06168579641654953,
          -0.06852986108244845,
          -0.06178958442455663,
          -0.06797653705748369,
          -0.061177150741251365,
          -0.06713836802427342,
          -0.061177150741251365,
          -0.049687193750425636,
          -0.05564841103344766,
          -0.3666026141173469,
          0.8850264405509464,
          -0.02092727013190389,
          -0.008475649342664334,
          -0.015059658176527007,
          -0.019748992791086686,
          -0.0943019471720104,
          -0.009582270214501473,
          -0.011446880129280745,
          -0.11725398607637735,
          -0.09180673968745824,
          -0.3633881542470003,
          0.888240900421293,
          -0.12534923232866085,
          -0.3680177124422909,
          0.8836113422260027,
          -0.0636248777960639,
          -0.07338922341549753,
          -0.11953507246160783,
          -0.11946131039186922,
          -0.12061136557902445,
          -0.07755512927576043,
          -0.07347976593598324,
          -0.07756430916749425,
          -0.07756430916749425,
          -0.11183998184019626,
          -0.06453400764515137,
          -0.06371009887758348,
          -0.06503337824664931,
          -0.07139582387034694,
          -0.07504613991269728,
          -0.05071700896636583,
          -0.18392448981130463,
          1.067704564856989,
          -0.06695374326240333,
          -0.0745246879799048,
          -0.030377845544896944,
          -0.030404606015445146,
          -0.19648062832667673,
          1.0551484263416169,
          -0.01873855512010596,
          -0.019112363103860955,
          -0.08717316027973399,
          -0.08999097961348011,
          -0.08142272442931567,
          -0.09399651026705036,
          -0.09342320421957664,
          -0.07754855550014081,
          -0.09250952173842142,
          -0.10212767016431892,
          -0.10160046359402723,
          -0.0884857441471008,
          -0.08977941323654225,
          -0.09185238305685876,
          -0.12016917089986126,
          0.013228078506015432,
          0.016152063287767707,
          0.21492458381980983,
          0.20973105054226587,
          0.21234735615485104,
          0.20715382287730702,
          0.09372632662388733,
          -0.0714000402024288,
          -0.0960220042486601,
          -0.11085485228101206,
          -0.12273179136798473,
          -0.08438013159018544,
          -0.11108991870951002,
          -0.04853535799979966,
          -0.07828168157811813,
          -0.05590356246319615,
          -0.051011287142082064,
          -0.05303663726312977,
          -0.06196060765489926,
          -0.0618149186401219,
          -0.0618149186401219,
          -0.062320093906287344,
          -0.062320093906287344,
          -0.07036691183295732,
          -0.07791941329680804,
          -0.08628478378941372,
          -0.08922083094365428,
          -0.09827771139606578,
          -0.06321493507991427,
          0.16654824773783994,
          -0.31711864043600463,
          0.9345104142322891,
          0.0059516372045090755,
          -0.08886653502962014,
          -0.12212824100673803,
          -0.09698768519224578,
          -0.057810168384686236,
          -0.03962421026238359,
          -0.08618182239844001,
          -0.09932104282780095,
          -0.0940100685186991,
          -0.0909267375681368,
          -0.12428535663480422,
          0.024395384796089548,
          -0.4604546814285724,
          0.7911743732397211,
          -0.07931666778861081,
          0.020850400950196205,
          -0.46399966527446534,
          0.787629389393828,
          0.021559866103637988,
          -0.4632902001210237,
          0.7883388545472696,
          -0.08495621544239573,
          -0.08394176829400161,
          -0.08413602555806854,
          -0.08312157840967442,
          -0.09824797143802352,
          -0.08037545672880127,
          -0.07936100958040707,
          -0.09620117672645458,
          -0.03271509874098361,
          -0.04076093165873917,
          -0.021432300170157546,
          -0.08128569764783093,
          -0.08929294048413632,
          -0.09611854568018285,
          -0.0433864775501747,
          -0.03807550324107284,
          -0.03939807208086184,
          0.07232007543954853,
          -0.4125299907851131,
          0.8390990638831801,
          -0.08325667283336091,
          -0.08325667283336091,
          -0.07983991841590599,
          -0.08684749920126598,
          -0.4943069126317192,
          -0.08414799206149293,
          0.06972694410971969,
          -0.4151231221149423,
          0.8365059325533513,
          -0.030276805114915463,
          -0.030276805114915463,
          0.0775276395679597,
          -0.3299317738624935,
          0.9216972808057999,
          0.151598754411007,
          0.06416543475098244,
          1.0684060983258208,
          -0.17244192627775315,
          1.0791871283905403,
          -0.07509209699983564,
          -0.09375605120140469,
          -0.40456806966924236,
          0.847060984999051,
          -0.0811670135205581,
          -0.07717860805124521,
          -0.023084129826262064,
          -0.031129962744017605,
          -0.0602970780271903,
          -0.06425761138033742,
          0.2672241058318071,
          -0.2176259603928547,
          -0.0795141019133967,
          -0.07930130112330597,
          -0.09002795296014535,
          -0.09020219931706948,
          -0.41401450172180326,
          0.8376145529464902,
          0.16771407374809286,
          -0.1179899940925573,
          -0.06225995496840439,
          -0.009614608173908905,
          0.46838384907619496,
          0.10911069109677725,
          0.027716423426534745,
          -0.04193978200091915,
          -0.04193978200091915,
          -0.04342664696201375,
          -0.0666999261757767,
          1.0229850575564854,
          -0.12454709415970394,
          -0.12020923310139944,
          -0.1241481558991116,
          -0.062108744569868646,
          -0.06611235944590262,
          -0.08187406102533529,
          -0.04559099299841246,
          -0.08188891982389226,
          -0.10281774918421122,
          -0.03496865704387041,
          -0.022451708027371713,
          -0.12211159522908765,
          -0.0779124808053666,
          -0.08255842261071387,
          -0.08170033390149278,
          -0.07218655871174764,
          -0.0887570141634477,
          -0.0799651293487339,
          0.08447472157728837,
          -0.0803456468963307,
          -0.07674454396616057,
          0.08291461304024456,
          0.9252474192425901,
          0.9250233413158406,
          -0.050204375843340185,
          -0.054207990719374155,
          -0.09917616604087112,
          -0.09549352883489848,
          -0.09681343215351593,
          -0.08759059872185639,
          -0.10902822048195861,
          -0.06624569716729338,
          -0.07070104083132846,
          -0.12116704447310724,
          -0.09861376199019296,
          -0.10483345816478656,
          -0.10183522645778019,
          -0.08434936327048555,
          -0.0069587104762770325,
          -0.4918087767009389,
          -0.10163290902655997,
          -0.10163290902655997,
          -0.10163290902655997,
          -0.07334877803373188,
          -0.08377949762807671,
          -0.0882104152465877,
          -0.0587280093207347,
          -0.06494770549532827,
          -0.33513295663988585,
          0.9164960980284078,
          -0.3420636825370884,
          0.9095653721312053,
          -0.09593628762375887,
          -0.11563994433626133,
          0.9729831911103474,
          -0.3394178625298291,
          0.9122111921384644,
          -0.3969606543765529,
          0.8546684002917402,
          -0.004334088978451507,
          -0.12458824034835386,
          -0.09935143185996503,
          -0.09822383277502994,
          -0.12277001151563405,
          -0.12344752487802564,
          -0.0032469296215715407,
          -0.005304733761899746,
          -0.0461315300262795,
          -0.04818933416660773,
          -0.07748012548899837,
          -0.06264727745664644,
          -0.058602362664380396,
          0.7855672785734599,
          -0.0814431026659139,
          -0.07613212835681205,
          -0.07745469719660106,
          -0.4429864389086535,
          0.8086426157596397,
          -0.05581814533808699,
          -0.05581814533808699,
          -0.22268081380290664,
          0.3250429659104064,
          0.14379536650240776,
          -0.2636640469280455,
          0.9879650077402482,
          -0.07085063918091539,
          -0.04465842548100776,
          0.1366168410978286,
          -0.27084257233262476,
          0.9807864823356686,
          0.23850437157938928,
          0.1611137187851808,
          0.23850437157938928,
          -0.24634569464527256,
          1.0052833600230209,
          0.229663199881525,
          0.1522725470873165,
          0.1522725470873165,
          0.229663199881525,
          -0.25518686634313686,
          0.9964421883251571,
          0.23095945471463636,
          0.15356880192042785,
          0.15356880192042785,
          0.23095945471463636,
          -0.25389061151002545,
          0.9977384431582683,
          0.23574470473782833,
          0.15835405194361982,
          0.15835405194361982,
          0.23574470473782833,
          -0.2491053614868335,
          1.00252369318146,
          -0.3688873383882176,
          0.8827417162800756,
          -0.07136882632985593,
          -0.05963442437501706,
          -0.054323450065915185,
          -0.05564601890570419,
          0.12652216478951966,
          0.002220074580168085,
          -0.05065080059246016,
          -0.09607696424621726,
          -0.08623678499700432,
          -0.12633133040655808,
          -0.0996837538914443,
          -0.049623240223208485,
          -0.04977675958823413,
          -0.09133087397027166,
          -0.10358694694234756,
          -0.0842768166282637,
          -0.12380651467414405,
          0.16755711171344506,
          -0.09324151318309855,
          -0.04980799478300522,
          -0.04760275334428128,
          -0.04760275334428128,
          -0.05057636024328512,
          -0.03861999854800636,
          -0.12136338715376654,
          -0.11739747110726682,
          -0.4308908490610169,
          0.8207382056072764,
          -0.05820036925047707,
          -0.1067183733581784,
          -0.05683970004746353,
          -0.0044966450497441355,
          -0.19025753603477744,
          1.061371518633516,
          -0.07893426915738769,
          -0.08174299133398334,
          -0.06603655723152434,
          -0.06603655723152434,
          -0.04457597124095111,
          -0.04457597124095111,
          -0.03770554372124595,
          -0.03770554372124595,
          -0.07551286771017407,
          -0.07551286771017407,
          -0.07626015832053436,
          -0.043357824061910556,
          -0.043357824061910556,
          -0.06866541596799329,
          -0.06866541596799329,
          -0.07278977965733294,
          -0.08272847971943208,
          -0.08272847971943208,
          -0.05122278197638226,
          -0.05470366543279921,
          -0.03729260953284308,
          -0.04077349298926002,
          -0.04092567931805816,
          -0.44838509274851135,
          -0.04738318271879977,
          -0.07409296983812436,
          0.045401726104625756,
          -0.4394483401200359,
          0.8121807145482574,
          0.02336079453264336,
          -0.4614892716920184,
          0.790139782976275,
          -0.12030974553421082,
          -0.08819510951070572,
          -0.08838785890324231,
          -0.0851814005614304,
          -0.026372093673085534,
          0.16861386898952554,
          -0.09969529157261393,
          -0.09973388165406409,
          -0.10652089676866047,
          -0.09592104632044642,
          -0.09595963640189659,
          -0.10274665151649298,
          -0.09861356266258393,
          -0.09865215274403412,
          -0.10543916785863049,
          -0.0986038791056254,
          -0.0986424691870756,
          -0.10542948430167197,
          -0.11730642338864465,
          -0.0059602512834610434,
          0.1652293050388834,
          -0.05607435327659358,
          -0.13124275429586282,
          -0.05028156422022602,
          -0.10791184260575601,
          0.11565027809104528,
          -0.09248846187443777,
          -0.06282529702025173,
          -0.06007187086808634,
          -0.09620125158471722,
          -0.09620125158471722,
          -0.08345347815025403,
          -0.09687872780535366,
          0.8580256267266385,
          0.00043073583369865727,
          -0.05613036290589256,
          -0.05613036290589256,
          0.8653562080175247,
          0.00776131712458478,
          -0.23847740296962885,
          -0.1203183913756545,
          -0.08754450386973474,
          -0.04042047820069809,
          -0.09608661766086318,
          -0.0890252459723215,
          -0.08902201074057003,
          -0.0868468223952737,
          -0.03824513051645062,
          -0.12130765775022355,
          -0.07773542670714309,
          -0.07321375946073856,
          0.030493314094995668,
          -0.45435675212966625,
          -0.45376558365181874,
          0.7978634710164745,
          -0.45521274914204746,
          0.7964163055262459,
          -0.08243896790005363,
          -0.06454523128792637,
          -0.4720046447183795,
          -0.06813660131875514,
          -0.4755960147492085,
          -0.204832509495539,
          1.0467965451727543,
          -0.07940789557897374,
          -0.022780821775585023,
          0.08861883435424162,
          -0.3220331288198542,
          -0.12211159522908765,
          -0.04425788338122638,
          -0.0037805679078565927,
          0.04357530976072208,
          -0.3638841036697311,
          0.12096596255493057,
          0.06426422720580652,
          -0.1235272485337281,
          -0.06546975844232127,
          -0.4729291718727747,
          -0.11456961713305534,
          -0.06996076289982152,
          -0.08544299929276743,
          -0.08544299929276743,
          -0.12193723570348035,
          -0.08302767984108167,
          -0.11277400341940014,
          -0.07658233970004438,
          -0.10632866327836289,
          -0.34866795196388034,
          0.9029611027044131,
          -0.3360646033857652,
          0.9155644512825281,
          -0.06319383278993182,
          -0.07120107562623718,
          -0.08990361990925641,
          -0.10238942285927081,
          -0.13213574643758927,
          -0.11722227089162272,
          -0.11944541698756701,
          -0.1210611265804081,
          -0.12302757876026592,
          -0.12239751117084043,
          -0.12003101893815694,
          -0.12232472871272897,
          -0.11826299890920773,
          -0.046867706597338195,
          0.9337489267529462,
          -0.08044257936285398,
          -0.07927759492229026,
          -0.07305187634704201,
          -0.3227418189776295,
          0.9288872356906639,
          -0.07504774968979888,
          -0.07612170165181181,
          -0.08323579790090342,
          -0.0766310047238806,
          -0.0837451009729722,
          -0.08914853132973134,
          -0.08383755702062948,
          -0.08516012586041848,
          -0.07513323632413907,
          0.6170199782219985,
          -0.029405797809713332,
          0.04798485498449519,
          -0.4368652112401667,
          -0.0949121985017314,
          -0.09467112199605668,
          -0.0469060373831025,
          -0.054913280219407876,
          0.823650002695928,
          -0.42797905197236535,
          -0.030562305407728245,
          -0.058572909894646114,
          -0.05458450442533327,
          -0.050178604634981985,
          -0.09714741278507227,
          -0.09714741278507227,
          -0.09714741278507227,
          -0.0900516616515412,
          -0.10871561585311025,
          0.004254542765429713,
          -0.03759274638562767,
          -0.03759274638562767,
          -0.052972486974948906,
          -0.052972486974948906,
          -0.042928135600765534,
          -0.04365796404665487,
          -0.01698221920631107,
          -0.01698221920631107,
          -0.06677425621365114,
          -0.06268893978903463,
          -0.07001236201123744,
          -0.054873772880658415,
          -0.04406780537617,
          -0.0827469580847337,
          -0.059257833701179555,
          -0.05091657555070142,
          -0.008563724401994781,
          0.06882692839221372,
          -0.41602313783244793,
          0.8356059168358453,
          -0.05161911248957648,
          -0.05161911248957648,
          0.025771540304631985,
          -0.4590785259200298,
          -0.048819936070715046,
          0.028570716723493445,
          -0.4562793495011684,
          -0.051660486491449005,
          -0.051660486491449005,
          -0.0521891527910489,
          -0.0662604373879298,
          -0.0662604373879298,
          -0.07968568704302945,
          -0.025965397769807053,
          -0.03445722784717821,
          0.006482505010465833,
          0.00767692435247684,
          -0.02220600661377617,
          -0.04983588480611448,
          -0.008798856434913417,
          -0.03868178740116643,
          -0.11047805306834367,
          -0.11047805306834367,
          -0.08873384544810871,
          -0.10643076160703409,
          -0.10643076160703409,
          -0.10587960360742418,
          -0.10587960360742416,
          -0.10587960360742418,
          -0.06890802221925288,
          -0.06890802221925288,
          -0.05064709195297123,
          0.1425117292296517,
          0.9866813704674915,
          -0.024384687730801113,
          -0.05669938242176885,
          -0.055827463298909044,
          -0.010901046589185073,
          -0.10139307030821741,
          -0.1008932529118392,
          -0.11511058880296958,
          -0.061232620595296716,
          -0.08697163436602602,
          -0.04998182204519174,
          -0.03671726160955194,
          -0.03468978578591561,
          0.0044707797353318,
          0.004534162187058902,
          -0.009522460761178306,
          -0.009522460761178306,
          -0.07518228544933939,
          -0.026456730739377356,
          -0.026456730739377356,
          -0.0777452322401222,
          -0.0777452322401222,
          0.14353558772768746,
          -0.34131447849697427,
          0.910314576171319,
          0.052719685278379357,
          -0.04657269742403323,
          -0.09237336610842219,
          -0.09698263491174032,
          -0.09698263491174032,
          -0.09147241403728808,
          -0.08802196376305123,
          -0.08078709259633979,
          -0.07233112972458956,
          -0.47979054315504277,
          0.7718385115132504,
          -0.22370927282911496,
          1.0279197818391785,
          -0.09455846975244263,
          -0.42389483144841883,
          0.8277342232198744,
          1.0470045217310977,
          -0.04534346913041406,
          -0.08925327246653447,
          -0.08962708045028943,
          -0.1089569291790368,
          -0.08657881006411478,
          -0.08168653474300075,
          -0.08371188486404851,
          -0.09263585525581798,
          -0.08426198270088556,
          -0.09358213586652644,
          -0.05389915231658598,
          -0.18480979643158876,
          1.0668192582367046,
          -0.06554010349347966,
          -0.05762155895610432,
          -0.06562880179240971,
          -0.07245440698845623,
          -0.06881610618063859,
          -0.07002871009021712,
          0.04141553151924327,
          -0.06891008758384308,
          -0.08654411043231296,
          -0.030027829840161488,
          -0.0702285261560036,
          -0.062253910053010765,
          0.04359017290781655,
          0.039687257468118395,
          -0.046173852154773,
          -0.044850318931698496,
          0.14783172709271103,
          0.148777698663359,
          -0.03293504437768973,
          -0.047055872810598684,
          -0.039770797550836574,
          -0.04023429505748254,
          1.0517509366302582,
          -0.030848753687234772,
          1.0533339299696414,
          1.0562999272073557,
          -0.059686311046853395,
          -0.061008879886642386,
          -0.06473998896058254,
          -0.06606255780037155,
          -0.05843233863127412,
          -0.05975490747106312,
          -0.08885177746344002,
          0.09680201987830325,
          -0.0637916850389724,
          -0.06511425387876138,
          -0.08166579836633965,
          -0.07651707078144396,
          -0.0805142821884745,
          -0.0805142821884745,
          -0.10653463558094128,
          -0.10326299244580443,
          -0.08906609455810782,
          -0.097816394927443,
          -0.09964880266676762,
          0.028985758801166512,
          0.10637641159537496,
          -0.3784736546292867,
          0.8731554000390068,
          0.14586355539131116,
          -0.33898651083335046,
          0.9126425438349424,
          0.018948893945178787,
          0.0963395467393873,
          -0.38851051948527454,
          0.8631185351830186,
          0.11070766411679774,
          -0.3741424021078641,
          0.8774866525604293,
          0.019891761667489617,
          -0.07411866506846977,
          -0.08564476276754089,
          -0.41835309060376197,
          0.4920819235554297,
          -0.08443537427150619,
          -0.07600209699919212,
          -0.07551595667268518,
          -0.10986317122472977,
          -0.08655635711853453,
          -0.09573800496416175,
          -0.08624585778231049,
          -0.12645202462532004,
          -0.11510409388067863,
          -0.11518605837610708,
          -0.06723864935277202,
          -0.06748436314614213,
          -0.07000377996258397,
          -0.0762444847035955,
          -0.46383518449459255,
          0.4465998296645989,
          -0.08108580090547937,
          -0.08108580090547937,
          -0.05961824754613343,
          -0.05961824754613343,
          -0.0707543893365649,
          -0.06498115275406208,
          -0.01608957089322206,
          -0.42354898432367544,
          0.007848311941070468,
          0.8520179531789103,
          0.03708921265329519,
          0.8812588538911356,
          -0.07366327889871307,
          -0.07002746632484814,
          -0.043601935629260194,
          -0.043601935629260194,
          0.005572788308917152,
          0.8497424295467572,
          -0.07401837091621888,
          -0.07401837091621888,
          -0.037588480276892974,
          -0.03778404297573788,
          -0.08170004754614879,
          -0.04788865253291201,
          -0.050754155772957756,
          -0.05167142808041396,
          -0.04557778079778728,
          -0.046495053105243496,
          -0.05131829370481542,
          -0.05223556601227166,
          -0.03290894669712346,
          0.3553781028978745,
          0.015670361785162713,
          -0.06910663972008987,
          0.05076979056654558,
          0.894939431804386,
          -0.05834249185148045,
          -0.05741194922640388,
          -0.056259350994098775,
          -0.05626346600713173,
          -0.08956601338629866,
          -0.09757325622260406,
          -0.11627580050562326,
          0.18219152755538337,
          -0.30265853866927855,
          0.9489705159990153,
          1.055224131106627,
          -0.08339873400877465,
          0.05980895424953668,
          -0.1827401062846024,
          1.0688889483836912,
          -0.019282003643678516,
          -0.2079842341110343,
          -0.12166323027971268,
          -0.09153906921760735,
          -0.020192179961703735,
          0.026108915528207884,
          0.10349956832241636,
          -0.009379652871195649,
          -0.4168390663016489,
          0.0005842184125579888,
          0.07797487120676648,
          -0.40687519501789543,
          0.010685379385614062,
          -0.39677403404483935,
          0.8548550206234543,
          0.9547680930763004,
          0.9547680930763004,
          0.9754657953129177,
          0.9754657953129177,
          0.9502410276478624,
          0.9502410276478624,
          -0.018098117029687142,
          -0.42555753046014055,
          -0.05687238691849709,
          -0.05687238691849709,
          -0.06366706043250832,
          -0.06366706043250832,
          -0.05643610469916643,
          -0.07743417658688403,
          -0.07743417658688403,
          -0.45643336013624386,
          0.7951956945320492,
          -0.4721430150378484,
          0.7794860396304448,
          -0.07472626847321127,
          -0.12357283553037847,
          -0.09180738873980047,
          -0.07061019099057259,
          -0.03743985989923389,
          -0.08606005211662472,
          -0.089023795556495,
          -0.11262867829134231,
          0.02492038843778109,
          -0.004962542528471939,
          0.034911113235987376,
          -0.04607149203042642,
          -0.11616665944273784,
          0.03907579830276031,
          -0.0566905208220721,
          0.15280816376199283,
          0.00537648049008797,
          0.007051266599820252,
          -0.019782088530024035,
          -0.04966501949627706,
          0.015080373282720126,
          -0.06598982015267152,
          0.024707178452273555,
          -0.05672960702557498,
          0.012024550117095209,
          -0.06905914903450953,
          0.0033265453320535797,
          -0.07891557187967775,
          -0.03765925086433939,
          -0.032999729242884975,
          0.04381736811447709,
          0.04381736811447709,
          -0.1040321195114078,
          -0.1040321195114078,
          -0.10083246998101995,
          -0.12879977786045882,
          -0.08757651523588733,
          -0.08989241425174055,
          -0.0860464369671644,
          -0.0876802103110488,
          -0.04475672749174003,
          -0.12215909466549144,
          0.01574200368650012,
          -0.06877042745036621,
          -0.08029652514943739,
          0.010582497155304946,
          -0.07636468217821261,
          -0.11007336847708109,
          -0.10649369178043092,
          -0.11595924583448275,
          -0.11055696981209402,
          -0.08333006305021738,
          -0.061456439353590984,
          0.0067491289425608385,
          -0.08019805039095677,
          -0.09171389743680695,
          -0.10791386918770028,
          -0.017380998730499364,
          -0.09979811782362569,
          -0.5072575312540789,
          -0.08954912103426195,
          -0.0761238713791623,
          -0.09903177913324031,
          -0.09908267580124752,
          -0.5065420892317006,
          -0.1257924629205721,
          -0.0812868492922467,
          -0.0812868492922467,
          -0.09266359151932062,
          -0.06860527413126606,
          -0.07022662892453065,
          -0.07504625891589334,
          -0.07897438591986371,
          -0.042804317436038096,
          0.041181950354566864,
          -0.04025483512328171,
          -0.06519464504019395,
          -0.07927122817253075,
          -0.06586228673384865,
          -0.028917645131053864,
          -0.11208855158577083,
          -0.09699932143777469,
          -0.11205417709123865,
          -0.10501578261896746,
          -0.05419237505096383,
          -0.05419237505096383,
          -0.09728136251021921,
          -0.09728136251021921,
          -0.02433886198889071,
          -0.03853776098237006,
          -0.1024926222689079,
          -0.10286643025266284,
          -0.12219627898141029,
          -0.0998181598664883,
          -0.1058752050581915,
          -0.1301863113532451,
          -0.10417008340157516,
          -0.10417008340157516,
          0.003533738827274838,
          -0.06405376150317622,
          -0.31186152729367494,
          0.9397675273746184,
          -0.046366822971643844,
          0.031023829822564627,
          -0.07611314654996236,
          -0.05979207262674353,
          -0.3035189132716286,
          0.9481101413966645,
          -0.2899508866635793,
          0.9616781680047138,
          0.09200918327519317,
          -0.3154502301552602,
          0.9361788245130331,
          -0.012112545336762903,
          -0.023702910385834247,
          -0.02617883952811668,
          -0.4003890062025574,
          -0.4003890062025574,
          0.851240048465736,
          0.11282092850164634,
          -0.3720291377230153,
          -0.06131915653067736,
          0.0327194419031782,
          0.0327194419031782,
          -0.09045482591012864,
          -0.07740631539098752,
          -0.08380450380739374,
          -0.08380450380739374,
          -0.06264149975105199,
          -0.0676928768512192,
          -0.06438794893359544,
          -0.00631079991164134,
          0.6175297661500974,
          -0.10183806329341781,
          -0.045701380486185446,
          -0.45316079391663855,
          0.7984682607516548,
          -0.07005737825616429,
          -0.07005737825616429,
          -0.02729024784416515,
          -0.02729024784416515,
          -0.02865522693139054,
          -0.02865522693139054,
          -0.10929632825378165,
          -0.10929632825378165,
          0.13141790008208545,
          0.9755875413199251,
          0.13141790008208545,
          -0.0563563737805425,
          -0.46381578721099553,
          -0.08815582367002353,
          -0.49561523710047684,
          -0.055247343826575306,
          -0.4627067572570284,
          0.788922297411265,
          -0.06530504782423373,
          -0.06530504782423373,
          -0.0677070317366089,
          -0.0677070317366089,
          -0.04516927568027665,
          -0.04516927568027665,
          -0.08034532865879764,
          -0.04479195755410033,
          -0.04479195755410033,
          -0.05356676524994169,
          -0.05356676524994169,
          -0.06044803398156063,
          -0.051849737937014924,
          -0.051849737937014924,
          0.0060532282864068235,
          0.0060532282864068235,
          0.045793570819241285,
          0.0035338114699649758,
          -0.02269787786030162,
          -0.02269787786030162,
          -0.09397498372228515,
          -0.10740023337738476,
          -0.09826519183332483,
          -0.09826519183332483,
          -0.1083078586991409,
          -0.12801151541164332,
          -0.08736710526455743,
          -0.044479455979122784,
          -0.044479455979122784,
          -0.08800907399201174,
          -0.08843233318224533,
          -0.08440561175257763,
          -0.08228775441281524,
          -0.09080072067071339,
          -0.0815159811305561,
          -0.0815159811305561,
          -0.07834843154078346,
          -0.000957778746574996,
          -0.07969892725099768,
          -0.07969892725099768,
          -0.07526463490253692,
          0.012550658820171753,
          -0.47229940740449006,
          -0.48405167617030065,
          0.7675773784979929,
          -0.4600937928724397,
          0.7915352617958534,
          -0.005822375120355703,
          -0.005822375120355703,
          0.6180181909413831,
          -0.013829617956661088,
          -0.09019528121807138,
          -0.3874632516405795,
          0.8641658030277144,
          0.05005850149682919,
          -0.04921703608484322,
          -0.018408346300382707,
          0.058982306493825756,
          -0.42586775973083607,
          0.8257612949374573,
          -0.024239928205697835,
          0.05315072458851067,
          -0.43169934163615115,
          0.8199297130321422,
          -0.07480304205508025,
          -0.07480304205508025,
          -0.07731253066682005,
          -0.07985441915524745,
          -0.07039058637860748,
          -0.47784999980906073,
          0.7737790548592326,
          -0.042335219792895507,
          0.03505543300131298,
          -0.04738659689306274,
          -0.08662383237355059,
          -0.0916752094737178,
          -0.12715224879103812,
          -0.1047741296761162,
          -0.08772757046942109,
          -0.3700462270118425,
          0.036884520119010805,
          -0.1059952358677384,
          -0.08207563272577248,
          0.012341980665836905,
          -0.4725080855588248,
          -0.07509133899418767,
          -0.07477952312019734,
          -0.07477952312019734,
          -0.07337849190971898,
          -0.07337849190971898,
          -0.035135714550444085,
          -0.07215610331201137,
          -0.07215610331201137,
          -0.03966372248448452,
          0.0024210699017938883,
          -0.015208994510743555,
          -0.5000590607354053,
          0.7515699939328883,
          -0.08848109365456837,
          -0.03712068942350563,
          -0.09201599453452396,
          -0.19174426069506026,
          1.0598847939732337,
          -0.39172312527188435,
          0.8599059293964089,
          -0.10320732947476469,
          0.16565396792649023,
          -0.31919609829817147,
          0.9324329563701219,
          0.0748380654771821,
          -0.10409003583469947,
          -0.11153678550508879,
          -0.09584891318241498,
          -0.030617249110038457,
          -0.11367083629346009,
          -0.08194142111899304,
          -0.07999430197534696,
          -0.0835548556660194,
          -0.0835548556660194,
          -0.08322471921063913,
          -0.10159294048216748,
          -0.10159294048216748,
          0.1010733391309937,
          -0.006063637241533231,
          0.02057161429212653,
          0.02057161429212653,
          -0.10853292215527062,
          -0.10890673013902563,
          -0.12823657886777298,
          -0.10585845975285109,
          -0.08244172607959582,
          -0.10244738289112032,
          -0.07270105931280188,
          -0.08017268608666542,
          -0.48763209951711856,
          -0.07987127094946322,
          -0.07987127094946322,
          -0.07483397748842353,
          -0.07486475996516848,
          -0.07737424857690828,
          -0.0781647936771159,
          -0.0800803692721952,
          -0.08774833683886012,
          -0.4056488869345458,
          0.8459801677337476,
          -0.088698096766241,
          -0.07722539996794331,
          -0.07488095011449933,
          -0.07488095011449933,
          -0.04487706119624444,
          -0.07805059651742781,
          -0.1233693871955744,
          -0.1233693871955744,
          0.09183327375275453,
          -0.0747285728498482,
          -0.07415047122809142,
          -0.07507767424636869,
          -0.07507767424636869,
          -0.0742388525623758,
          -0.07511053988411134,
          -0.0743277838904802,
          -0.07656320386402775,
          -0.07656320386402775,
          -0.05962877551185721,
          0.002204334690279887,
          0.8801532574264089,
          0.022558366533469484,
          -0.38681633576372776,
          0.8648127189045656,
          0.024862206252983698,
          -0.45998785997167807,
          0.7916411946966149,
          -0.0721171616798608,
          -0.07508617380660751,
          -0.07508617380660751,
          -0.4598620006959336,
          0.7917670539723598,
          -0.08327478154545717,
          -0.08327478154545717,
          -0.06215768722232331,
          -0.044891417703204664,
          -0.04740090631494446,
          -0.11262248505935828,
          -0.11262248505935828,
          -0.10643076160703394,
          -0.10643076160703394,
          -0.10316211147590354,
          -0.10316056713490211,
          -0.03361230080678821,
          -0.03361230080678821,
          -0.09606204235771167,
          -0.09606204235771167,
          -0.033611472626264925,
          0.030008114139680173,
          0.030167797004311787,
          -0.10919910795424295,
          -0.12299260744458618,
          -0.1225271270167686,
          -0.10577756669795363,
          -0.10919910795424297,
          -0.10919910795424292,
          -0.09728499385788167,
          -0.028479371634659238,
          -0.09454057772755613,
          -0.48003703819531474,
          0.7715920164729789,
          -0.07957882883324739,
          -0.10700538651400641,
          -0.07952861918375663,
          -0.07952861918375663,
          -0.07415047122809344,
          0.00010918220978914057,
          -0.0974846381362552,
          -0.09217366382715336,
          -0.09349623266694235,
          -0.4778231099328557,
          0.7738059447354381,
          -0.076014642825218,
          -0.08203213032532694,
          -0.0954432715925606,
          -0.11300005971731358,
          -0.12214475901037421,
          -0.12252593258973415,
          -0.05698485141694514,
          0.03233832473939117,
          -0.07740631539098755,
          -0.1130031835828196,
          -0.07740631539098755,
          0.032522005699344936,
          -0.12214475901037421,
          -0.06108894048999922,
          -0.07527817052883887,
          -0.07527817052883887,
          -0.08027287472930615,
          -0.08027287472930615,
          -0.07808789404569097,
          -0.07604842391288409,
          -0.07434748026179602,
          0.7807069806164029,
          -0.004987172091555341,
          -0.001391840843046706,
          -0.016912394020197084,
          -0.03977538768805009,
          -0.04836679962018401,
          -0.09585553888503112,
          -0.09054456457592927,
          -0.09186713341571827,
          -0.087461233625367,
          0.00019988332055739333,
          -0.08723343633946717,
          -0.09845628544013744,
          -0.09314531113103555,
          -0.0944678799708246,
          -0.12855723728868948,
          -0.056106735943947175,
          -0.056106735943947175,
          0.018886514517450888,
          -0.06293505589526861,
          -0.03893047267141822,
          0.03766199458573822,
          -0.04415957582698127,
          -0.04234844494792247,
          -0.053840459882526975,
          -0.053840459882526975,
          -0.0010905786124871277,
          -0.13050373114470448,
          -0.43034672633965043,
          0.8212823283286427,
          -0.507832373332133,
          -0.507832373332133,
          -0.07928225156472898,
          -0.07928225156472898,
          -0.07452109492541452,
          -0.07916486334364704,
          -0.08717210617995244,
          -0.10587465046297166,
          -0.08593518622161302,
          0.0014981334384115356,
          -0.08883795287959652,
          -0.08352697857049465,
          -0.08484954741028365,
          -0.06991214155050071,
          -0.07001247351748478,
          -0.07318382865351432,
          -0.07328416062049846,
          -0.09563560919842477,
          -0.09981164480883509,
          -0.11053140635113673,
          -0.09562114069163007,
          -0.10634090223393171,
          -0.10071860648332764,
          -0.11143836802562933,
          0.20789498478724133,
          0.21249572508705064,
          0.20789498478724133,
          0.21249572508705064,
          0.19931346501134867,
          0.19941750338012953,
          0.20401824367993893,
          -0.09321923525239204,
          -0.09359304323614706,
          -0.11292289196489444,
          -0.09054477284997242,
          -0.08565249752885842,
          -0.08767784764990612,
          -0.09470266608564722,
          -0.18981711621821923,
          0.7206178979409723,
          -0.08427380929372538,
          -0.0867932261101672,
          -0.08479097028395259,
          -0.06184830921602941,
          -0.20588803749557424,
          1.0457410171727193,
          0.16278579162255755,
          -0.3220642746021042,
          -0.21216117011967722,
          -0.3874197652967348,
          -0.057929480231286905,
          -0.2128813336875131,
          -0.22871459239400488,
          1.0229144622742887,
          -0.09417638710390484,
          0.014422126580477984,
          0.014321794613493885,
          0.01520127035519667,
          -0.09168852154282779,
          -0.09540771116046781,
          -0.09482312599919732,
          -0.043234140583871705,
          -0.04323414058387173,
          -0.04323414058387172,
          -0.0983487382704931,
          -0.09681955740520207,
          -0.08427752074488319,
          -0.09899770862628288,
          0.16803658150396408,
          -0.31681348472069765,
          0.9348155699475957,
          -0.08464719309684629,
          -0.07356255035136211,
          -0.07356255035136211,
          -0.09265523604478582,
          -0.10897630996800464,
          -0.09265523604478582,
          -0.509068493914788,
          -0.509068493914788,
          -0.4729161907862502,
          -0.4729161907862502,
          0.7787128638820433,
          -0.48273292553736386,
          -0.48273292553736386,
          0.7688961291309295,
          -0.11288648002354097,
          -0.12379172235637569,
          -0.12365010385458947,
          -0.12402840205725285,
          -0.1242445193212168,
          -0.12487029934282169,
          -0.12451896031799904,
          -0.12446432908643897,
          -0.07935728549180943,
          -0.12481997691779748,
          -0.05732384840483857,
          -0.05983333701657838,
          -0.07802254316084421,
          -0.07802254316084421,
          -0.07353508796827514,
          -0.07353508796827514,
          -0.030721456834524832,
          -0.4381808702649781,
          0.813448184403315,
          -0.05831753975813672,
          -0.0847961065772961,
          -0.0847961065772961,
          -0.07849092415639022,
          -0.08471062033098387,
          -0.45901107401616326,
          -0.45901107401616326,
          0.7926179806521301,
          0.7926179806521301,
          -0.0028491495166542233,
          -0.09028246917667875,
          -0.09065627716043381,
          -0.10998612588918123,
          -0.08760800677425917,
          -0.08271573145314515,
          -0.08474108157419286,
          -0.09366505196596236,
          -0.10439722622295845,
          -0.10439722622295845,
          0.005133307290127541,
          0.005133307290127541,
          -0.03138495434420255,
          -0.03138495434420255,
          -0.3539305829913233,
          -0.3539305829913233,
          -0.031539647112626176,
          -0.031539647112626176,
          -0.0666085521161924,
          -0.04823875938426545,
          -0.04823875938426545,
          -0.07425988550056284,
          -0.08230571841831842,
          -0.07740631539098754,
          -0.06790356232273669,
          -0.10294809373783254,
          -0.10294809373783254,
          -0.0868670163328759,
          -0.08155604202377406,
          -0.08287861086356307,
          -0.10923893147097519,
          -0.07625243286832346,
          -0.09108528090067543,
          0.18174840965565883,
          0.2591390624498674,
          -0.22571100377479436,
          1.0259180508934986,
          -0.11621546891658256,
          -0.11188371953210786,
          -0.1221447590103742,
          -0.12238032858828252,
          -0.12256839355765894,
          -0.12281846899996512,
          -0.12313863165543451,
          -0.07801504265078511,
          0.03159243581644779,
          -0.12269166885921147,
          -0.12304866423887045,
          -0.12275570988374777,
          0.03322400420831692,
          0.10791038974817307,
          -0.37693967647648874,
          -0.015670852053037455,
          -0.4231302654834908,
          -0.4231302654834908,
          -0.3879685406270976,
          -0.3879685406270976,
          0.8636605140411958,
          -0.47117995758332293,
          -0.47117995758332293,
          -0.09474197648720437,
          -0.12145176360652893,
          -0.05999650068563897,
          -0.05999650068563897,
          -0.09493260525816773,
          -0.11222205913884914,
          -0.10114465683416854,
          -0.09485938064061193,
          0.16444931401199334,
          -0.3204007522126685,
          -0.07835907984372385,
          -0.09712140076398833,
          0.018371269855252,
          -0.037426070613086504,
          -0.037426070613086504,
          -0.05033579688178561,
          -0.05033579688178561,
          -0.09038567289173173,
          -0.05441495937722504,
          -0.18773299744836078,
          1.0638960572199327,
          -0.19377288166649054,
          1.057856173001803,
          -0.013029955387202604,
          -0.4508904423765145,
          0.8007386122917791,
          -0.19354358399999438,
          1.0580854706682992,
          -0.06896692438986525,
          0.17093856910560726,
          -0.0055233555469461635,
          0.07186729724726233,
          -0.0752947716778771,
          -0.0752947716778771,
          -0.3468943686378014,
          0.9047346860304921,
          -0.06841285444876072,
          -0.4758722678792141,
          -0.06504764718275846,
          -0.10441324583698935,
          -0.4693006028013581,
          0.7823284518669353,
          -0.10288459670346135,
          -0.08422064250189228,
          0.09268750601367838,
          -0.3921625602109833,
          0.8594664944573102,
          0.09099922774196134,
          -0.3938508384827003,
          0.8577782161855928,
          -0.07740714851460073,
          -0.0854143913509061,
          -0.10039214980388704,
          -0.10039214980388704,
          -0.04758759039636475,
          -0.03513468142907614,
          -0.03550848941283109,
          -0.08407580072924101,
          -0.08120887552917459,
          -0.09013284592094414,
          -0.0985260232891572,
          -0.08897368833974416,
          0.16897599695448873,
          -0.06593974945515492,
          -0.06030781058369544,
          -0.09005413416201388,
          0.026627916057475116,
          -0.058808569654488926,
          -0.08142045835622137,
          -0.08142045835622137,
          -0.0896585921680481,
          -0.48562392435164836,
          0.766005130316645
         ],
         "yaxis": "y"
        }
       ],
       "layout": {
        "coloraxis": {
         "colorbar": {
          "title": {
           "text": "cluster"
          }
         },
         "colorscale": [
          [
           0,
           "#0d0887"
          ],
          [
           0.1111111111111111,
           "#46039f"
          ],
          [
           0.2222222222222222,
           "#7201a8"
          ],
          [
           0.3333333333333333,
           "#9c179e"
          ],
          [
           0.4444444444444444,
           "#bd3786"
          ],
          [
           0.5555555555555556,
           "#d8576b"
          ],
          [
           0.6666666666666666,
           "#ed7953"
          ],
          [
           0.7777777777777778,
           "#fb9f3a"
          ],
          [
           0.8888888888888888,
           "#fdca26"
          ],
          [
           1,
           "#f0f921"
          ]
         ]
        },
        "legend": {
         "tracegroupgap": 0
        },
        "template": {
         "data": {
          "bar": [
           {
            "error_x": {
             "color": "#2a3f5f"
            },
            "error_y": {
             "color": "#2a3f5f"
            },
            "marker": {
             "line": {
              "color": "#E5ECF6",
              "width": 0.5
             },
             "pattern": {
              "fillmode": "overlay",
              "size": 10,
              "solidity": 0.2
             }
            },
            "type": "bar"
           }
          ],
          "barpolar": [
           {
            "marker": {
             "line": {
              "color": "#E5ECF6",
              "width": 0.5
             },
             "pattern": {
              "fillmode": "overlay",
              "size": 10,
              "solidity": 0.2
             }
            },
            "type": "barpolar"
           }
          ],
          "carpet": [
           {
            "aaxis": {
             "endlinecolor": "#2a3f5f",
             "gridcolor": "white",
             "linecolor": "white",
             "minorgridcolor": "white",
             "startlinecolor": "#2a3f5f"
            },
            "baxis": {
             "endlinecolor": "#2a3f5f",
             "gridcolor": "white",
             "linecolor": "white",
             "minorgridcolor": "white",
             "startlinecolor": "#2a3f5f"
            },
            "type": "carpet"
           }
          ],
          "choropleth": [
           {
            "colorbar": {
             "outlinewidth": 0,
             "ticks": ""
            },
            "type": "choropleth"
           }
          ],
          "contour": [
           {
            "colorbar": {
             "outlinewidth": 0,
             "ticks": ""
            },
            "colorscale": [
             [
              0,
              "#0d0887"
             ],
             [
              0.1111111111111111,
              "#46039f"
             ],
             [
              0.2222222222222222,
              "#7201a8"
             ],
             [
              0.3333333333333333,
              "#9c179e"
             ],
             [
              0.4444444444444444,
              "#bd3786"
             ],
             [
              0.5555555555555556,
              "#d8576b"
             ],
             [
              0.6666666666666666,
              "#ed7953"
             ],
             [
              0.7777777777777778,
              "#fb9f3a"
             ],
             [
              0.8888888888888888,
              "#fdca26"
             ],
             [
              1,
              "#f0f921"
             ]
            ],
            "type": "contour"
           }
          ],
          "contourcarpet": [
           {
            "colorbar": {
             "outlinewidth": 0,
             "ticks": ""
            },
            "type": "contourcarpet"
           }
          ],
          "heatmap": [
           {
            "colorbar": {
             "outlinewidth": 0,
             "ticks": ""
            },
            "colorscale": [
             [
              0,
              "#0d0887"
             ],
             [
              0.1111111111111111,
              "#46039f"
             ],
             [
              0.2222222222222222,
              "#7201a8"
             ],
             [
              0.3333333333333333,
              "#9c179e"
             ],
             [
              0.4444444444444444,
              "#bd3786"
             ],
             [
              0.5555555555555556,
              "#d8576b"
             ],
             [
              0.6666666666666666,
              "#ed7953"
             ],
             [
              0.7777777777777778,
              "#fb9f3a"
             ],
             [
              0.8888888888888888,
              "#fdca26"
             ],
             [
              1,
              "#f0f921"
             ]
            ],
            "type": "heatmap"
           }
          ],
          "heatmapgl": [
           {
            "colorbar": {
             "outlinewidth": 0,
             "ticks": ""
            },
            "colorscale": [
             [
              0,
              "#0d0887"
             ],
             [
              0.1111111111111111,
              "#46039f"
             ],
             [
              0.2222222222222222,
              "#7201a8"
             ],
             [
              0.3333333333333333,
              "#9c179e"
             ],
             [
              0.4444444444444444,
              "#bd3786"
             ],
             [
              0.5555555555555556,
              "#d8576b"
             ],
             [
              0.6666666666666666,
              "#ed7953"
             ],
             [
              0.7777777777777778,
              "#fb9f3a"
             ],
             [
              0.8888888888888888,
              "#fdca26"
             ],
             [
              1,
              "#f0f921"
             ]
            ],
            "type": "heatmapgl"
           }
          ],
          "histogram": [
           {
            "marker": {
             "pattern": {
              "fillmode": "overlay",
              "size": 10,
              "solidity": 0.2
             }
            },
            "type": "histogram"
           }
          ],
          "histogram2d": [
           {
            "colorbar": {
             "outlinewidth": 0,
             "ticks": ""
            },
            "colorscale": [
             [
              0,
              "#0d0887"
             ],
             [
              0.1111111111111111,
              "#46039f"
             ],
             [
              0.2222222222222222,
              "#7201a8"
             ],
             [
              0.3333333333333333,
              "#9c179e"
             ],
             [
              0.4444444444444444,
              "#bd3786"
             ],
             [
              0.5555555555555556,
              "#d8576b"
             ],
             [
              0.6666666666666666,
              "#ed7953"
             ],
             [
              0.7777777777777778,
              "#fb9f3a"
             ],
             [
              0.8888888888888888,
              "#fdca26"
             ],
             [
              1,
              "#f0f921"
             ]
            ],
            "type": "histogram2d"
           }
          ],
          "histogram2dcontour": [
           {
            "colorbar": {
             "outlinewidth": 0,
             "ticks": ""
            },
            "colorscale": [
             [
              0,
              "#0d0887"
             ],
             [
              0.1111111111111111,
              "#46039f"
             ],
             [
              0.2222222222222222,
              "#7201a8"
             ],
             [
              0.3333333333333333,
              "#9c179e"
             ],
             [
              0.4444444444444444,
              "#bd3786"
             ],
             [
              0.5555555555555556,
              "#d8576b"
             ],
             [
              0.6666666666666666,
              "#ed7953"
             ],
             [
              0.7777777777777778,
              "#fb9f3a"
             ],
             [
              0.8888888888888888,
              "#fdca26"
             ],
             [
              1,
              "#f0f921"
             ]
            ],
            "type": "histogram2dcontour"
           }
          ],
          "mesh3d": [
           {
            "colorbar": {
             "outlinewidth": 0,
             "ticks": ""
            },
            "type": "mesh3d"
           }
          ],
          "parcoords": [
           {
            "line": {
             "colorbar": {
              "outlinewidth": 0,
              "ticks": ""
             }
            },
            "type": "parcoords"
           }
          ],
          "pie": [
           {
            "automargin": true,
            "type": "pie"
           }
          ],
          "scatter": [
           {
            "fillpattern": {
             "fillmode": "overlay",
             "size": 10,
             "solidity": 0.2
            },
            "type": "scatter"
           }
          ],
          "scatter3d": [
           {
            "line": {
             "colorbar": {
              "outlinewidth": 0,
              "ticks": ""
             }
            },
            "marker": {
             "colorbar": {
              "outlinewidth": 0,
              "ticks": ""
             }
            },
            "type": "scatter3d"
           }
          ],
          "scattercarpet": [
           {
            "marker": {
             "colorbar": {
              "outlinewidth": 0,
              "ticks": ""
             }
            },
            "type": "scattercarpet"
           }
          ],
          "scattergeo": [
           {
            "marker": {
             "colorbar": {
              "outlinewidth": 0,
              "ticks": ""
             }
            },
            "type": "scattergeo"
           }
          ],
          "scattergl": [
           {
            "marker": {
             "colorbar": {
              "outlinewidth": 0,
              "ticks": ""
             }
            },
            "type": "scattergl"
           }
          ],
          "scattermapbox": [
           {
            "marker": {
             "colorbar": {
              "outlinewidth": 0,
              "ticks": ""
             }
            },
            "type": "scattermapbox"
           }
          ],
          "scatterpolar": [
           {
            "marker": {
             "colorbar": {
              "outlinewidth": 0,
              "ticks": ""
             }
            },
            "type": "scatterpolar"
           }
          ],
          "scatterpolargl": [
           {
            "marker": {
             "colorbar": {
              "outlinewidth": 0,
              "ticks": ""
             }
            },
            "type": "scatterpolargl"
           }
          ],
          "scatterternary": [
           {
            "marker": {
             "colorbar": {
              "outlinewidth": 0,
              "ticks": ""
             }
            },
            "type": "scatterternary"
           }
          ],
          "surface": [
           {
            "colorbar": {
             "outlinewidth": 0,
             "ticks": ""
            },
            "colorscale": [
             [
              0,
              "#0d0887"
             ],
             [
              0.1111111111111111,
              "#46039f"
             ],
             [
              0.2222222222222222,
              "#7201a8"
             ],
             [
              0.3333333333333333,
              "#9c179e"
             ],
             [
              0.4444444444444444,
              "#bd3786"
             ],
             [
              0.5555555555555556,
              "#d8576b"
             ],
             [
              0.6666666666666666,
              "#ed7953"
             ],
             [
              0.7777777777777778,
              "#fb9f3a"
             ],
             [
              0.8888888888888888,
              "#fdca26"
             ],
             [
              1,
              "#f0f921"
             ]
            ],
            "type": "surface"
           }
          ],
          "table": [
           {
            "cells": {
             "fill": {
              "color": "#EBF0F8"
             },
             "line": {
              "color": "white"
             }
            },
            "header": {
             "fill": {
              "color": "#C8D4E3"
             },
             "line": {
              "color": "white"
             }
            },
            "type": "table"
           }
          ]
         },
         "layout": {
          "annotationdefaults": {
           "arrowcolor": "#2a3f5f",
           "arrowhead": 0,
           "arrowwidth": 1
          },
          "autotypenumbers": "strict",
          "coloraxis": {
           "colorbar": {
            "outlinewidth": 0,
            "ticks": ""
           }
          },
          "colorscale": {
           "diverging": [
            [
             0,
             "#8e0152"
            ],
            [
             0.1,
             "#c51b7d"
            ],
            [
             0.2,
             "#de77ae"
            ],
            [
             0.3,
             "#f1b6da"
            ],
            [
             0.4,
             "#fde0ef"
            ],
            [
             0.5,
             "#f7f7f7"
            ],
            [
             0.6,
             "#e6f5d0"
            ],
            [
             0.7,
             "#b8e186"
            ],
            [
             0.8,
             "#7fbc41"
            ],
            [
             0.9,
             "#4d9221"
            ],
            [
             1,
             "#276419"
            ]
           ],
           "sequential": [
            [
             0,
             "#0d0887"
            ],
            [
             0.1111111111111111,
             "#46039f"
            ],
            [
             0.2222222222222222,
             "#7201a8"
            ],
            [
             0.3333333333333333,
             "#9c179e"
            ],
            [
             0.4444444444444444,
             "#bd3786"
            ],
            [
             0.5555555555555556,
             "#d8576b"
            ],
            [
             0.6666666666666666,
             "#ed7953"
            ],
            [
             0.7777777777777778,
             "#fb9f3a"
            ],
            [
             0.8888888888888888,
             "#fdca26"
            ],
            [
             1,
             "#f0f921"
            ]
           ],
           "sequentialminus": [
            [
             0,
             "#0d0887"
            ],
            [
             0.1111111111111111,
             "#46039f"
            ],
            [
             0.2222222222222222,
             "#7201a8"
            ],
            [
             0.3333333333333333,
             "#9c179e"
            ],
            [
             0.4444444444444444,
             "#bd3786"
            ],
            [
             0.5555555555555556,
             "#d8576b"
            ],
            [
             0.6666666666666666,
             "#ed7953"
            ],
            [
             0.7777777777777778,
             "#fb9f3a"
            ],
            [
             0.8888888888888888,
             "#fdca26"
            ],
            [
             1,
             "#f0f921"
            ]
           ]
          },
          "colorway": [
           "#636efa",
           "#EF553B",
           "#00cc96",
           "#ab63fa",
           "#FFA15A",
           "#19d3f3",
           "#FF6692",
           "#B6E880",
           "#FF97FF",
           "#FECB52"
          ],
          "font": {
           "color": "#2a3f5f"
          },
          "geo": {
           "bgcolor": "white",
           "lakecolor": "white",
           "landcolor": "#E5ECF6",
           "showlakes": true,
           "showland": true,
           "subunitcolor": "white"
          },
          "hoverlabel": {
           "align": "left"
          },
          "hovermode": "closest",
          "mapbox": {
           "style": "light"
          },
          "paper_bgcolor": "white",
          "plot_bgcolor": "#E5ECF6",
          "polar": {
           "angularaxis": {
            "gridcolor": "white",
            "linecolor": "white",
            "ticks": ""
           },
           "bgcolor": "#E5ECF6",
           "radialaxis": {
            "gridcolor": "white",
            "linecolor": "white",
            "ticks": ""
           }
          },
          "scene": {
           "xaxis": {
            "backgroundcolor": "#E5ECF6",
            "gridcolor": "white",
            "gridwidth": 2,
            "linecolor": "white",
            "showbackground": true,
            "ticks": "",
            "zerolinecolor": "white"
           },
           "yaxis": {
            "backgroundcolor": "#E5ECF6",
            "gridcolor": "white",
            "gridwidth": 2,
            "linecolor": "white",
            "showbackground": true,
            "ticks": "",
            "zerolinecolor": "white"
           },
           "zaxis": {
            "backgroundcolor": "#E5ECF6",
            "gridcolor": "white",
            "gridwidth": 2,
            "linecolor": "white",
            "showbackground": true,
            "ticks": "",
            "zerolinecolor": "white"
           }
          },
          "shapedefaults": {
           "line": {
            "color": "#2a3f5f"
           }
          },
          "ternary": {
           "aaxis": {
            "gridcolor": "white",
            "linecolor": "white",
            "ticks": ""
           },
           "baxis": {
            "gridcolor": "white",
            "linecolor": "white",
            "ticks": ""
           },
           "bgcolor": "#E5ECF6",
           "caxis": {
            "gridcolor": "white",
            "linecolor": "white",
            "ticks": ""
           }
          },
          "title": {
           "x": 0.05
          },
          "xaxis": {
           "automargin": true,
           "gridcolor": "white",
           "linecolor": "white",
           "ticks": "",
           "title": {
            "standoff": 15
           },
           "zerolinecolor": "white",
           "zerolinewidth": 2
          },
          "yaxis": {
           "automargin": true,
           "gridcolor": "white",
           "linecolor": "white",
           "ticks": "",
           "title": {
            "standoff": 15
           },
           "zerolinecolor": "white",
           "zerolinewidth": 2
          }
         }
        },
        "title": {
         "text": "PCA Clustering of Legal Provisions"
        },
        "xaxis": {
         "anchor": "y",
         "domain": [
          0,
          1
         ],
         "title": {
          "text": "pca-2d-one"
         }
        },
        "yaxis": {
         "anchor": "x",
         "domain": [
          0,
          1
         ],
         "title": {
          "text": "pca-2d-two"
         }
        }
       }
      }
     },
     "metadata": {},
     "output_type": "display_data"
    },
    {
     "name": "stdout",
     "output_type": "stream",
     "text": [
      "分群結果已保存到 cluster_compliance_data.xlsx\n"
     ]
    }
   ],
   "source": [
    "# 定義範圍\n",
    "max_k = 20  # 限制最大k值\n",
    "k_range = range(2, max_k)\n",
    "\n",
    "# 保存不同指標的結果\n",
    "sse = []\n",
    "silhouette_scores = []\n",
    "calinski_scores = []\n",
    "davies_scores = []\n",
    "\n",
    "for k in k_range:\n",
    "    kmeans = KMeans(n_clusters=k, random_state=42, n_init='auto')\n",
    "    clusters = kmeans.fit_predict(X_combined)\n",
    "    sse.append(kmeans.inertia_)\n",
    "    silhouette_scores.append(silhouette_score(X_combined, clusters))\n",
    "    calinski_scores.append(calinski_harabasz_score(X_combined.toarray(), clusters))\n",
    "    davies_scores.append(davies_bouldin_score(X_combined.toarray(), clusters))\n",
    "\n",
    "# 找到手肘點 (SSE)\n",
    "diff = np.diff(sse)\n",
    "diff_r = diff[1:] / diff[:-1]\n",
    "knee_point = np.argmin(diff_r) + 2\n",
    "\n",
    "# 找到最大輪廓係數點\n",
    "best_silhouette = np.argmax(silhouette_scores) + 2\n",
    "\n",
    "# 找到最大Calinski-Harabasz Index點\n",
    "best_calinski = np.argmax(calinski_scores) + 2\n",
    "\n",
    "# 找到最小Davies-Bouldin Index點\n",
    "best_davies = np.argmin(davies_scores) + 2\n",
    "\n",
    "# 綜合考慮這些指標，選擇最常出現的分群數量\n",
    "best_k_candidates = [knee_point, best_silhouette, best_calinski, best_davies]\n",
    "best_k = max(set(best_k_candidates), key=best_k_candidates.count)\n",
    "\n",
    "print(f\"手肘法最佳分群數量: {knee_point}\")\n",
    "print(f\"最大輪廓係數最佳分群數量: {best_silhouette}\")\n",
    "print(f\"最大Calinski-Harabasz Index最佳分群數量: {best_calinski}\")\n",
    "print(f\"最小Davies-Bouldin Index最佳分群數量: {best_davies}\")\n",
    "print(f\"綜合考慮的最佳分群數量: {best_k}\")\n",
    "\n",
    "# 使用K-means進行文本分群\n",
    "kmeans = KMeans(n_clusters=best_k, random_state=42, n_init='auto')  \n",
    "clusters = kmeans.fit_predict(X_combined)\n",
    "\n",
    "# 將分群結果添加回數據框\n",
    "compliance_data_df['cluster'] = clusters\n",
    "\n",
    "# 使用PCA進行降維\n",
    "pca = PCA(n_components=2)\n",
    "X_pca_2d = pca.fit_transform(X_combined.toarray())\n",
    "\n",
    "# 將降維結果添加回數據框\n",
    "compliance_data_df['pca-2d-one'] = X_pca_2d[:,0]\n",
    "compliance_data_df['pca-2d-two'] = X_pca_2d[:,1]\n",
    "\n",
    "# 使用Plotly進行互動式視覺化\n",
    "fig = px.scatter(\n",
    "    compliance_data_df, x='pca-2d-one', y='pca-2d-two', color='cluster',\n",
    "    hover_data=['section', 'clean_article numbers', 'legal provisions', 'compliance_status'],\n",
    "    title=\"PCA Clustering of Legal Provisions\"\n",
    ")\n",
    "fig.show()\n",
    "\n",
    "\n",
    "compliance_data_df.to_excel(cluster_writer_excel, index=False, sheet_name='K_means')\n",
    "print(f\"分群結果已保存到 {output_file_path}\")\n"
   ]
  },
  {
   "cell_type": "markdown",
   "metadata": {},
   "source": [
    "## AgglomerativeClustering"
   ]
  },
  {
   "cell_type": "code",
   "execution_count": 21,
   "metadata": {},
   "outputs": [],
   "source": [
    "from sklearn.cluster import AgglomerativeClustering\n",
    "\n",
    "# 定義範圍\n",
    "max_k = 20  # 限制最大k值\n",
    "k_range = range(2, max_k)\n",
    "\n",
    "# 保存不同指標的結果\n",
    "silhouette_scores = []\n",
    "calinski_scores = []\n",
    "davies_scores = []\n",
    "\n",
    "for k in k_range:\n",
    "    clustering = AgglomerativeClustering(n_clusters=k)\n",
    "    clusters = clustering.fit_predict(X_combined.toarray())\n",
    "    silhouette_scores.append(silhouette_score(X_combined, clusters))\n",
    "    calinski_scores.append(calinski_harabasz_score(X_combined.toarray(), clusters))\n",
    "    davies_scores.append(davies_bouldin_score(X_combined.toarray(), clusters))\n",
    "\n",
    "# 找到最大輪廓係數點\n",
    "best_silhouette = np.argmax(silhouette_scores) + 2\n",
    "\n",
    "# 找到最大Calinski-Harabasz Index點\n",
    "best_calinski = np.argmax(calinski_scores) + 2\n",
    "\n",
    "# 找到最小Davies-Bouldin Index點\n",
    "best_davies = np.argmin(davies_scores) + 2\n",
    "\n",
    "# 綜合考慮這些指標，選擇最常出現的分群數量\n",
    "best_k_candidates = [best_silhouette, best_calinski, best_davies]\n",
    "best_k = max(set(best_k_candidates), key=best_k_candidates.count)\n",
    "\n",
    "print(f\"最大輪廓係數最佳分群數量: {best_silhouette}\")\n",
    "print(f\"最大Calinski-Harabasz Index最佳分群數量: {best_calinski}\")\n",
    "print(f\"最小Davies-Bouldin Index最佳分群數量: {best_davies}\")\n",
    "print(f\"綜合考慮的最佳分群數量: {best_k}\")\n",
    "\n",
    "# 使用AgglomerativeClustering進行文本分群\n",
    "clustering = AgglomerativeClustering(n_clusters=best_k)  \n",
    "clusters = clustering.fit_predict(X_combined.toarray())\n",
    "\n",
    "# 將分群結果添加回數據框\n",
    "compliance_data_df['cluster'] = clusters\n",
    "\n",
    "# 使用PCA進行降維\n",
    "pca = PCA(n_components=2)\n",
    "X_pca_2d = pca.fit_transform(X_combined.toarray())\n",
    "\n",
    "# 將降維結果添加回數據框\n",
    "compliance_data_df['pca-2d-one'] = X_pca_2d[:,0]\n",
    "compliance_data_df['pca-2d-two'] = X_pca_2d[:,1]\n",
    "\n",
    "# 使用Plotly進行互動式視覺化\n",
    "fig = px.scatter(\n",
    "    compliance_data_df, x='pca-2d-one', y='pca-2d-two', color='cluster',\n",
    "    hover_data=['section', 'clean_article numbers', 'legal provisions', 'compliance_status'],\n",
    "    title=\"PCA Clustering of Legal Provisions\"\n",
    ")\n",
    "fig.show()\n",
    "\n",
    "compliance_data_df.to_excel(cluster_writer_excel, index=False, sheet_name='Agglomerative')\n",
    "print(f\"分群結果已保存到 {output_file_path}\")"
   ]
  },
  {
   "cell_type": "code",
   "execution_count": 22,
   "metadata": {},
   "outputs": [],
   "source": [
    "cluster_writer_excel.close()"
   ]
  },
  {
   "cell_type": "code",
   "execution_count": null,
   "metadata": {},
   "outputs": [],
   "source": []
  }
 ],
 "metadata": {
  "kernelspec": {
   "display_name": "Python 3",
   "language": "python",
   "name": "python3"
  },
  "language_info": {
   "codemirror_mode": {
    "name": "ipython",
    "version": 3
   },
   "file_extension": ".py",
   "mimetype": "text/x-python",
   "name": "python",
   "nbconvert_exporter": "python",
   "pygments_lexer": "ipython3",
   "version": "3.11.5"
  }
 },
 "nbformat": 4,
 "nbformat_minor": 2
}
